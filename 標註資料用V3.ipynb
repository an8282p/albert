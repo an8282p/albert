{
 "cells": [
  {
   "cell_type": "code",
   "execution_count": 1,
   "metadata": {},
   "outputs": [
    {
     "name": "stdout",
     "output_type": "stream",
     "text": [
      "106,原簡,32_.json\n"
     ]
    }
   ],
   "source": [
    "import os, json \n",
    "import pandas as pd \n",
    "\n",
    "train_num = 500\n",
    "\n",
    "path_to_json = 'J:\\Legal_Judgment\\_額外增加測試資料'\n",
    "json_files = [pos_json for pos_json in os.listdir(path_to_json) if pos_json.endswith('.json')] \n",
    "print(json_files[0])"
   ]
  },
  {
   "cell_type": "code",
   "execution_count": 2,
   "metadata": {},
   "outputs": [],
   "source": [
    "with open('J://Legal_Judgment//_額外增加測試資料//'+json_files[0],\"r\",encoding=\"utf-8\") as f:\n",
    "    dt = json.load(f)"
   ]
  },
  {
   "cell_type": "code",
   "execution_count": 3,
   "metadata": {},
   "outputs": [
    {
     "data": {
      "text/plain": "   id     court                       date         no sys reason type  \\\n0   0  臺灣臺南地方法院  2018-01-10T00:00:00+08:00  105,訴,788  刑事   妨害自由   判決   \n\n                                            mainText  \\\n0  丁○○幫助犯剝奪他人行動自由罪，累犯，處拘役肆拾日，如易科罰金，以新臺幣壹仟元折算壹日。又共...   \n\n                                           judgement  \\\n0  臺灣臺南地方法院刑事判決105年度訴字第788號公訴人臺灣臺南地方法院檢察署檢察官被告張筠韋...   \n\n                                           Situation  \n0  丁○○、乙○○（綽號俊毅）、壬○○、癸○○（現由本院發佈通緝中）係朋友關係，因乙○○懷疑丑○...  ",
      "text/html": "<div>\n<style scoped>\n    .dataframe tbody tr th:only-of-type {\n        vertical-align: middle;\n    }\n\n    .dataframe tbody tr th {\n        vertical-align: top;\n    }\n\n    .dataframe thead th {\n        text-align: right;\n    }\n</style>\n<table border=\"1\" class=\"dataframe\">\n  <thead>\n    <tr style=\"text-align: right;\">\n      <th></th>\n      <th>id</th>\n      <th>court</th>\n      <th>date</th>\n      <th>no</th>\n      <th>sys</th>\n      <th>reason</th>\n      <th>type</th>\n      <th>mainText</th>\n      <th>judgement</th>\n      <th>Situation</th>\n    </tr>\n  </thead>\n  <tbody>\n    <tr>\n      <td>0</td>\n      <td>0</td>\n      <td>臺灣臺南地方法院</td>\n      <td>2018-01-10T00:00:00+08:00</td>\n      <td>105,訴,788</td>\n      <td>刑事</td>\n      <td>妨害自由</td>\n      <td>判決</td>\n      <td>丁○○幫助犯剝奪他人行動自由罪，累犯，處拘役肆拾日，如易科罰金，以新臺幣壹仟元折算壹日。又共...</td>\n      <td>臺灣臺南地方法院刑事判決105年度訴字第788號公訴人臺灣臺南地方法院檢察署檢察官被告張筠韋...</td>\n      <td>丁○○、乙○○（綽號俊毅）、壬○○、癸○○（現由本院發佈通緝中）係朋友關係，因乙○○懷疑丑○...</td>\n    </tr>\n  </tbody>\n</table>\n</div>"
     },
     "execution_count": 3,
     "metadata": {},
     "output_type": "execute_result"
    }
   ],
   "source": [
    "dic = {\n",
    "    \"id\": 0,\n",
    "    \"court\": [dt[\"court\"]], \n",
    "    \"date\": [dt[\"date\"]],\n",
    "    \"no\": [dt[\"no\"]],\n",
    "    \"sys\": [dt[\"sys\"]],\n",
    "    \"reason\": [dt[\"reason\"]],\n",
    "    \"type\": [dt[\"type\"]],\n",
    "    \"mainText\": [dt[\"mainText\"]],\n",
    "    \"judgement\": [dt[\"judgement\"]],\n",
    "    #\"judgement_SIT\": [dt[\"judgement_SIT\"]],\n",
    "    \"Situation\": [dt[\"Situation\"]]\n",
    "}\n",
    "df = pd.DataFrame(dic)\n",
    "df"
   ]
  },
  {
   "cell_type": "code",
   "execution_count": 4,
   "metadata": {},
   "outputs": [],
   "source": [
    "for x in range(1,len(json_files)):\n",
    "    with open('J://Legal_Judgment//_額外增加測試資料//'+json_files[x],\"r\",encoding=\"utf-8\") as f:\n",
    "        dt = json.load(f)\n",
    "\n",
    "    try:\n",
    "        if (str(dt[\"judgement\"]).index(str(dt[\"Situation\"])) < 0):\n",
    "            continue\n",
    "        if (len(str(dt[\"Situation\"])) > 512):\n",
    "            continue            \n",
    "        new = pd.DataFrame({\n",
    "        \"id\" : x,\n",
    "        \"court\": [dt[\"court\"]], \n",
    "        \"date\": [dt[\"date\"]],\n",
    "        \"no\": [dt[\"no\"]],\n",
    "        \"sys\": [dt[\"sys\"]],\n",
    "        \"reason\": [dt[\"reason\"]],\n",
    "        \"type\": [dt[\"type\"]],\n",
    "        \"mainText\": [dt[\"mainText\"]],\n",
    "        \"judgement\": [dt[\"judgement\"]],\n",
    "        #\"judgement_SIT\": [dt[\"judgement_SIT\"]],\n",
    "        \"Situation\": [dt[\"Situation\"]]\n",
    "        })\n",
    "        \n",
    "        df = df.append(new)\n",
    "\n",
    "    except:\n",
    "        print(dt[\"no\"])"
   ]
  },
  {
   "cell_type": "code",
   "execution_count": 5,
   "outputs": [
    {
     "data": {
      "text/plain": "id           343\ncourt        343\ndate         343\nno           343\nsys          343\nreason       343\ntype         343\nmainText     343\njudgement    343\nSituation    343\ndtype: int64"
     },
     "execution_count": 5,
     "metadata": {},
     "output_type": "execute_result"
    }
   ],
   "source": [
    "df = df.dropna()\n",
    "df.count()"
   ],
   "metadata": {
    "collapsed": false,
    "pycharm": {
     "name": "#%%\n"
    }
   }
  },
  {
   "cell_type": "code",
   "execution_count": 6,
   "metadata": {},
   "outputs": [],
   "source": [
    "df.to_csv('J://Legal_Judgment//Result.csv', index=0) "
   ]
  },
  {
   "cell_type": "code",
   "execution_count": 7,
   "outputs": [
    {
     "data": {
      "text/plain": "court        343\ndate         343\nno           343\nsys          343\nreason       343\ntype         343\nmainText     341\njudgement    343\nSituation    343\ndtype: int64"
     },
     "execution_count": 7,
     "metadata": {},
     "output_type": "execute_result"
    }
   ],
   "source": [
    "df = pd.read_csv('J://Legal_Judgment//Result.csv', index_col=0)\n",
    "test = pd.read_csv('.//QA_Test1//HBert//dataV2//Test200_512.csv', index_col=0)\n",
    "df.count()"
   ],
   "metadata": {
    "collapsed": false,
    "pycharm": {
     "name": "#%%\n"
    }
   }
  },
  {
   "cell_type": "code",
   "execution_count": 8,
   "outputs": [
    {
     "data": {
      "text/plain": "court        200\ndate         200\nno           200\nsys          200\nreason       200\ntype         200\nmainText     200\njudgement    200\nSituation    200\ndtype: int64"
     },
     "execution_count": 8,
     "metadata": {},
     "output_type": "execute_result"
    }
   ],
   "source": [
    "test.count()"
   ],
   "metadata": {
    "collapsed": false,
    "pycharm": {
     "name": "#%%\n"
    }
   }
  },
  {
   "cell_type": "code",
   "execution_count": 9,
   "outputs": [
    {
     "data": {
      "text/plain": "court        0\ndate         0\nno           0\nsys          0\nreason       0\ntype         0\nmainText     0\njudgement    0\nSituation    0\ndtype: int64"
     },
     "execution_count": 9,
     "metadata": {},
     "output_type": "execute_result"
    }
   ],
   "source": [
    "test2 = test[test['Situation'].str.len() > 512]\n",
    "test2.count()\n",
    "#test2.to_csv('J://Legal_Judgment//test513.csv', index=0) "
   ],
   "metadata": {
    "collapsed": false,
    "pycharm": {
     "name": "#%%\n"
    }
   }
  },
  {
   "cell_type": "code",
   "execution_count": 10,
   "outputs": [
    {
     "data": {
      "text/plain": "court        541\ndate         541\nno           541\nsys          541\nreason       541\ntype         541\nmainText     541\njudgement    541\nSituation    541\ndtype: int64"
     },
     "execution_count": 10,
     "metadata": {},
     "output_type": "execute_result"
    }
   ],
   "source": [
    "tmp = pd.concat([df,test])\n",
    "tmp = tmp.dropna()\n",
    "tmp.count()"
   ],
   "metadata": {
    "collapsed": false,
    "pycharm": {
     "name": "#%%\n"
    }
   }
  },
  {
   "cell_type": "code",
   "execution_count": 11,
   "outputs": [
    {
     "data": {
      "text/plain": "court        0\ndate         0\nno           0\nsys          0\nreason       0\ntype         0\nmainText     0\njudgement    0\nSituation    0\ndtype: int64"
     },
     "execution_count": 11,
     "metadata": {},
     "output_type": "execute_result"
    }
   ],
   "source": [
    "tmp = tmp[tmp['Situation'].str.len() < 512]\n",
    "tmp[tmp['Situation'].str.len() > 512].count()"
   ],
   "metadata": {
    "collapsed": false,
    "pycharm": {
     "name": "#%%\n"
    }
   }
  },
  {
   "cell_type": "code",
   "execution_count": 11,
   "outputs": [],
   "source": [],
   "metadata": {
    "collapsed": false,
    "pycharm": {
     "name": "#%%\n"
    }
   }
  },
  {
   "cell_type": "code",
   "execution_count": 12,
   "outputs": [],
   "source": [
    "tmp['reason'] = tmp['reason'].str.replace('等','')\n",
    "tmp['reason'] = tmp['reason'].str.replace(\"條例\",\"\")\n",
    "tmp['reason'] = tmp['reason'].str.replace(\"違反\",\"\")"
   ],
   "metadata": {
    "collapsed": false,
    "pycharm": {
     "name": "#%%\n"
    }
   }
  },
  {
   "cell_type": "code",
   "execution_count": 13,
   "outputs": [
    {
     "data": {
      "text/plain": "毀損        152\n傷害         47\n竊盜         42\n公共危險       40\n妨害名譽       37\n妨害風化       34\n妨害公務       29\n妨害性自主罪     21\n妨害自由       21\n搶奪         19\n著作權法       18\n侵占         16\n妨害性自主      16\n過失傷害       15\n毒品危害防制     15\n強盜          9\n偽造文書        6\n賭博          1\n商標法         1\n過失致死        1\nName: reason, dtype: int64"
     },
     "execution_count": 13,
     "metadata": {},
     "output_type": "execute_result"
    }
   ],
   "source": [
    "tmp.loc[:,'reason'].value_counts()"
   ],
   "metadata": {
    "collapsed": false,
    "pycharm": {
     "name": "#%%\n"
    }
   }
  },
  {
   "cell_type": "code",
   "execution_count": 14,
   "outputs": [
    {
     "data": {
      "text/plain": "        court                       date           no sys reason type  \\\nid                                                                      \n506  臺灣臺中地方法院  2016-06-21T00:00:00+08:00  105,中簡,1016  刑事     竊盜   判決   \n120  臺灣桃園地方法院  2016-12-21T00:00:00+08:00  105,審訴,1772  刑事   妨害風化   判決   \n162  臺灣桃園地方法院  2016-07-18T00:00:00+08:00     105,矚簡,7  刑事     毀損   判決   \n221  臺灣桃園地方法院  2017-09-18T00:00:00+08:00  106,審易,1858  刑事     毀損   判決   \n96   臺灣臺北地方法院  2016-06-30T00:00:00+08:00  105,審易,1520  刑事     竊盜   判決   \n\n                                              mainText  \\\nid                                                       \n506              蘇育瑲犯竊盜罪，累犯，處有期徒刑陸月，如易科罰金，以新臺幣壹仟元折算壹日。   \n120  甲○○意圖使女子與他人為猥褻之行為，而容留以營利，累犯，處有期徒刑伍月，如易科罰金，以新臺幣...   \n162  邱文聰犯毀損他人物品罪，累犯，處有期徒刑參月，如易科罰金，以新臺幣壹仟元折算壹日，扣案之空氣...   \n221              王錦惜犯毀損他人物品罪，處拘役貳拾日，如易科罰金，以新臺幣壹仟元折算壹日。   \n96                     劉彥攜帶兇器、毀壞門扇、侵入住宅竊盜，累犯，處有期徒刑捌月。   \n\n                                             judgement  \\\nid                                                       \n506  臺灣臺中地方法院刑事簡易判決105年度中簡字第1016號聲請人臺灣臺中地方法院檢察署檢察官被...   \n120  臺灣桃園地方法院刑事判決105年度審訴字第1772號公訴人臺灣桃園地方法院檢察署檢察官被告江...   \n162  臺灣桃園地方法院刑事簡易判決105年度矚簡字第7號公訴人臺灣桃園地方法院檢察署檢察官被告邱文...   \n221  臺灣桃園地方法院刑事判決106年度審易字第1858號公訴人臺灣桃園地方法院檢察署檢察官被告王...   \n96   臺灣臺北地方法院刑事判決105年度審易字第1520號公訴人臺灣臺北地方法院檢察署檢察官被告劉...   \n\n                                             Situation  \nid                                                      \n506  蘇育瑲意圖為自己不法所有，基於竊盜之犯意，於民國105年5月14日上午5時10分許，在臺中市...  \n120  甲○○基於意圖使女子與他人為猥褻行為而容留以營利之犯意，先以每月新臺幣（下同）1萬2,000...  \n162  邱文聰基於毀損他人物品之犯意，分別為下列之行為：(一)於民國105年2月28日凌晨某時，駕駛...  \n221  王錦惜於民國106年3月29日晚間9時30分許，在長庚醫療財團法人林口長庚紀念醫院醫學大樓前...  \n96   劉彥意圖為自己不法之所有，於民國105年2月7日18時許，至臺北市○○區○○街00巷0號2...  ",
      "text/html": "<div>\n<style scoped>\n    .dataframe tbody tr th:only-of-type {\n        vertical-align: middle;\n    }\n\n    .dataframe tbody tr th {\n        vertical-align: top;\n    }\n\n    .dataframe thead th {\n        text-align: right;\n    }\n</style>\n<table border=\"1\" class=\"dataframe\">\n  <thead>\n    <tr style=\"text-align: right;\">\n      <th></th>\n      <th>court</th>\n      <th>date</th>\n      <th>no</th>\n      <th>sys</th>\n      <th>reason</th>\n      <th>type</th>\n      <th>mainText</th>\n      <th>judgement</th>\n      <th>Situation</th>\n    </tr>\n    <tr>\n      <th>id</th>\n      <th></th>\n      <th></th>\n      <th></th>\n      <th></th>\n      <th></th>\n      <th></th>\n      <th></th>\n      <th></th>\n      <th></th>\n    </tr>\n  </thead>\n  <tbody>\n    <tr>\n      <td>506</td>\n      <td>臺灣臺中地方法院</td>\n      <td>2016-06-21T00:00:00+08:00</td>\n      <td>105,中簡,1016</td>\n      <td>刑事</td>\n      <td>竊盜</td>\n      <td>判決</td>\n      <td>蘇育瑲犯竊盜罪，累犯，處有期徒刑陸月，如易科罰金，以新臺幣壹仟元折算壹日。</td>\n      <td>臺灣臺中地方法院刑事簡易判決105年度中簡字第1016號聲請人臺灣臺中地方法院檢察署檢察官被...</td>\n      <td>蘇育瑲意圖為自己不法所有，基於竊盜之犯意，於民國105年5月14日上午5時10分許，在臺中市...</td>\n    </tr>\n    <tr>\n      <td>120</td>\n      <td>臺灣桃園地方法院</td>\n      <td>2016-12-21T00:00:00+08:00</td>\n      <td>105,審訴,1772</td>\n      <td>刑事</td>\n      <td>妨害風化</td>\n      <td>判決</td>\n      <td>甲○○意圖使女子與他人為猥褻之行為，而容留以營利，累犯，處有期徒刑伍月，如易科罰金，以新臺幣...</td>\n      <td>臺灣桃園地方法院刑事判決105年度審訴字第1772號公訴人臺灣桃園地方法院檢察署檢察官被告江...</td>\n      <td>甲○○基於意圖使女子與他人為猥褻行為而容留以營利之犯意，先以每月新臺幣（下同）1萬2,000...</td>\n    </tr>\n    <tr>\n      <td>162</td>\n      <td>臺灣桃園地方法院</td>\n      <td>2016-07-18T00:00:00+08:00</td>\n      <td>105,矚簡,7</td>\n      <td>刑事</td>\n      <td>毀損</td>\n      <td>判決</td>\n      <td>邱文聰犯毀損他人物品罪，累犯，處有期徒刑參月，如易科罰金，以新臺幣壹仟元折算壹日，扣案之空氣...</td>\n      <td>臺灣桃園地方法院刑事簡易判決105年度矚簡字第7號公訴人臺灣桃園地方法院檢察署檢察官被告邱文...</td>\n      <td>邱文聰基於毀損他人物品之犯意，分別為下列之行為：(一)於民國105年2月28日凌晨某時，駕駛...</td>\n    </tr>\n    <tr>\n      <td>221</td>\n      <td>臺灣桃園地方法院</td>\n      <td>2017-09-18T00:00:00+08:00</td>\n      <td>106,審易,1858</td>\n      <td>刑事</td>\n      <td>毀損</td>\n      <td>判決</td>\n      <td>王錦惜犯毀損他人物品罪，處拘役貳拾日，如易科罰金，以新臺幣壹仟元折算壹日。</td>\n      <td>臺灣桃園地方法院刑事判決106年度審易字第1858號公訴人臺灣桃園地方法院檢察署檢察官被告王...</td>\n      <td>王錦惜於民國106年3月29日晚間9時30分許，在長庚醫療財團法人林口長庚紀念醫院醫學大樓前...</td>\n    </tr>\n    <tr>\n      <td>96</td>\n      <td>臺灣臺北地方法院</td>\n      <td>2016-06-30T00:00:00+08:00</td>\n      <td>105,審易,1520</td>\n      <td>刑事</td>\n      <td>竊盜</td>\n      <td>判決</td>\n      <td>劉彥攜帶兇器、毀壞門扇、侵入住宅竊盜，累犯，處有期徒刑捌月。</td>\n      <td>臺灣臺北地方法院刑事判決105年度審易字第1520號公訴人臺灣臺北地方法院檢察署檢察官被告劉...</td>\n      <td>劉彥意圖為自己不法之所有，於民國105年2月7日18時許，至臺北市○○區○○街00巷0號2...</td>\n    </tr>\n  </tbody>\n</table>\n</div>"
     },
     "execution_count": 14,
     "metadata": {},
     "output_type": "execute_result"
    }
   ],
   "source": [
    "##拆分df\n",
    "df1=tmp.sample(n=train_num)#按0.6比例随机采样\n",
    "df1.head()"
   ],
   "metadata": {
    "collapsed": false,
    "pycharm": {
     "name": "#%%\n"
    }
   }
  },
  {
   "cell_type": "code",
   "execution_count": 15,
   "outputs": [
    {
     "data": {
      "text/plain": "court        500\ndate         500\nno           500\nsys          500\nreason       500\ntype         500\nmainText     500\njudgement    500\nSituation    500\ndtype: int64"
     },
     "execution_count": 15,
     "metadata": {},
     "output_type": "execute_result"
    }
   ],
   "source": [
    "df1.count()"
   ],
   "metadata": {
    "collapsed": false,
    "pycharm": {
     "name": "#%%\n"
    }
   }
  },
  {
   "cell_type": "code",
   "execution_count": 16,
   "outputs": [
    {
     "data": {
      "text/plain": "court        0\ndate         0\nno           0\nsys          0\nreason       0\ntype         0\nmainText     0\njudgement    0\nSituation    0\ndtype: int64"
     },
     "execution_count": 16,
     "metadata": {},
     "output_type": "execute_result"
    }
   ],
   "source": [
    "df1[df1['Situation'].str.len() > 512].count()"
   ],
   "metadata": {
    "collapsed": false,
    "pycharm": {
     "name": "#%%\n"
    }
   }
  },
  {
   "cell_type": "code",
   "execution_count": 17,
   "outputs": [
    {
     "data": {
      "text/plain": "court        200\ndate         200\nno           200\nsys          200\nreason       200\ntype         200\nmainText     200\njudgement    200\nSituation    200\ndtype: int64"
     },
     "execution_count": 17,
     "metadata": {},
     "output_type": "execute_result"
    }
   ],
   "source": [
    "df2=test\n",
    "df2.count()"
   ],
   "metadata": {
    "collapsed": false,
    "pycharm": {
     "name": "#%%\n"
    }
   }
  },
  {
   "cell_type": "code",
   "execution_count": 18,
   "outputs": [],
   "source": [
    "class Data(object):\n",
    "    def __init__(self):\n",
    "        self.paragraphs = []\n",
    "        self.id = \"0\"\n",
    "        self.title = \"\"\n",
    "\n",
    "class Djson(object):\n",
    "    def __init__(self):\n",
    "        self.version = \"v1.0\"\n",
    "        self.data = []\n",
    " "
   ],
   "metadata": {
    "collapsed": false,
    "pycharm": {
     "name": "#%%\n"
    }
   }
  },
  {
   "cell_type": "code",
   "execution_count": 19,
   "outputs": [
    {
     "name": "stdout",
     "output_type": "stream",
     "text": [
      "500\n"
     ]
    }
   ],
   "source": [
    "djson1 = Djson()\n",
    "i = 0\n",
    "for index, row in df1.iterrows():\n",
    "    if (row.Situation == None):\n",
    "        continue\n",
    "    if (isinstance(row.Situation, float)):\n",
    "        continue\n",
    "    if (len(row.Situation) == 0):\n",
    "        continue\n",
    "    if(len(row.Situation) > 513):\n",
    "        continue\n",
    "    if(row.judgement.index(row.Situation) < 0):\n",
    "        continue\n",
    "    try:\n",
    "        d = Data()\n",
    "        d.paragraphs = [{\"id\" : \"Test_\" + str(index),\n",
    "                      #\"context\" : row.reason + \"[SEP]\" + row.judgement, \n",
    "                      \"context\" : row.judgement, \n",
    "                      \"qas\":[{\n",
    "                          \"question\" : row.reason + \"?\",\n",
    "                          \"id\" : \"Test_\" + str(index) + \"_QUERY_0\",\n",
    "                          \"answers\" :[{\n",
    "                              \"text\" : row.Situation,\n",
    "                              \"answer_start\" : row.judgement.index(row.Situation) #+ len(row.reason + \"[SET]\")\n",
    "                          }]\n",
    "                      }]\n",
    "                    }\n",
    "                    ]\n",
    "        d.id = \"Test_\" + str(index)\n",
    "        d.title = row.no\n",
    "        djson1.data.append(d)\n",
    "        i = i + 1\n",
    "    except:\n",
    "        print(index)\n",
    "        print(row.no)\n",
    "print(i)"
   ],
   "metadata": {
    "collapsed": false,
    "pycharm": {
     "name": "#%%\n"
    }
   }
  },
  {
   "cell_type": "code",
   "execution_count": 20,
   "outputs": [],
   "source": [
    "y = json.dumps(djson1, default=lambda o: o.__dict__, ensure_ascii=False)"
   ],
   "metadata": {
    "collapsed": false,
    "pycharm": {
     "name": "#%%\n"
    }
   }
  },
  {
   "cell_type": "code",
   "execution_count": 21,
   "outputs": [],
   "source": [
    "#with open('./QA_Test1/HBert/dataV2/test_'+ str(train_num) + '_V3_512.json', 'w', encoding='utf8') as outfile:\n",
    "with open('./QA_Test1/HBert/dataV2/test_500_V4_512.json', 'w', encoding='utf8') as outfile:\n",
    "    json.dump(djson1, outfile, default=lambda o: o.__dict__ , ensure_ascii=False)\n",
    "    "
   ],
   "metadata": {
    "collapsed": false,
    "pycharm": {
     "name": "#%%\n"
    }
   }
  },
  {
   "cell_type": "code",
   "execution_count": 22,
   "outputs": [
    {
     "name": "stdout",
     "output_type": "stream",
     "text": [
      "15\n"
     ]
    }
   ],
   "source": [
    "str = '0000000-0000000'\n",
    "print(len(str))"
   ],
   "metadata": {
    "collapsed": false,
    "pycharm": {
     "name": "#%%\n"
    }
   }
  }
 ],
 "metadata": {
  "kernelspec": {
   "display_name": "Python 3",
   "language": "python",
   "name": "python3"
  },
  "language_info": {
   "codemirror_mode": {
    "name": "ipython",
    "version": 3
   },
   "file_extension": ".py",
   "mimetype": "text/x-python",
   "name": "python",
   "nbconvert_exporter": "python",
   "pygments_lexer": "ipython3",
   "version": "3.6.4"
  }
 },
 "nbformat": 4,
 "nbformat_minor": 2
}