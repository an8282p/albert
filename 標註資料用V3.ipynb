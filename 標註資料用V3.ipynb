{
 "cells": [
  {
   "cell_type": "code",
   "execution_count": 1,
   "metadata": {},
   "outputs": [
    {
     "name": "stdout",
     "output_type": "stream",
     "text": [
      "106,原簡,32_.json\n"
     ]
    }
   ],
   "source": [
    "import os, json \n",
    "import pandas as pd \n",
    "\n",
    "train_num = 400\n",
    "\n",
    "path_to_json = 'J:\\Legal_Judgment\\_額外增加測試資料'\n",
    "json_files = [pos_json for pos_json in os.listdir(path_to_json) if pos_json.endswith('.json')] \n",
    "print(json_files[0])"
   ]
  },
  {
   "cell_type": "code",
   "execution_count": 2,
   "metadata": {},
   "outputs": [],
   "source": [
    "with open('J://Legal_Judgment//_額外增加測試資料//'+json_files[0],\"r\",encoding=\"utf-8\") as f:\n",
    "    dt = json.load(f)"
   ]
  },
  {
   "cell_type": "code",
   "execution_count": 3,
   "metadata": {},
   "outputs": [
    {
     "data": {
      "text/plain": "   id     court                       date         no sys reason type  \\\n0   0  臺灣臺南地方法院  2018-01-10T00:00:00+08:00  105,訴,788  刑事   妨害自由   判決   \n\n                                            mainText  \\\n0  丁○○幫助犯剝奪他人行動自由罪，累犯，處拘役肆拾日，如易科罰金，以新臺幣壹仟元折算壹日。又共...   \n\n                                           judgement  \\\n0  臺灣臺南地方法院刑事判決105年度訴字第788號公訴人臺灣臺南地方法院檢察署檢察官被告張筠韋...   \n\n                                           Situation  \n0  丁○○、乙○○（綽號俊毅）、壬○○、癸○○（現由本院發佈通緝中）係朋友關係，因乙○○懷疑丑○...  ",
      "text/html": "<div>\n<style scoped>\n    .dataframe tbody tr th:only-of-type {\n        vertical-align: middle;\n    }\n\n    .dataframe tbody tr th {\n        vertical-align: top;\n    }\n\n    .dataframe thead th {\n        text-align: right;\n    }\n</style>\n<table border=\"1\" class=\"dataframe\">\n  <thead>\n    <tr style=\"text-align: right;\">\n      <th></th>\n      <th>id</th>\n      <th>court</th>\n      <th>date</th>\n      <th>no</th>\n      <th>sys</th>\n      <th>reason</th>\n      <th>type</th>\n      <th>mainText</th>\n      <th>judgement</th>\n      <th>Situation</th>\n    </tr>\n  </thead>\n  <tbody>\n    <tr>\n      <td>0</td>\n      <td>0</td>\n      <td>臺灣臺南地方法院</td>\n      <td>2018-01-10T00:00:00+08:00</td>\n      <td>105,訴,788</td>\n      <td>刑事</td>\n      <td>妨害自由</td>\n      <td>判決</td>\n      <td>丁○○幫助犯剝奪他人行動自由罪，累犯，處拘役肆拾日，如易科罰金，以新臺幣壹仟元折算壹日。又共...</td>\n      <td>臺灣臺南地方法院刑事判決105年度訴字第788號公訴人臺灣臺南地方法院檢察署檢察官被告張筠韋...</td>\n      <td>丁○○、乙○○（綽號俊毅）、壬○○、癸○○（現由本院發佈通緝中）係朋友關係，因乙○○懷疑丑○...</td>\n    </tr>\n  </tbody>\n</table>\n</div>"
     },
     "execution_count": 3,
     "metadata": {},
     "output_type": "execute_result"
    }
   ],
   "source": [
    "dic = {\n",
    "    \"id\": 0,\n",
    "    \"court\": [dt[\"court\"]], \n",
    "    \"date\": [dt[\"date\"]],\n",
    "    \"no\": [dt[\"no\"]],\n",
    "    \"sys\": [dt[\"sys\"]],\n",
    "    \"reason\": [dt[\"reason\"]],\n",
    "    \"type\": [dt[\"type\"]],\n",
    "    \"mainText\": [dt[\"mainText\"]],\n",
    "    \"judgement\": [dt[\"judgement\"]],\n",
    "    #\"judgement_SIT\": [dt[\"judgement_SIT\"]],\n",
    "    \"Situation\": [dt[\"Situation\"]]\n",
    "}\n",
    "df = pd.DataFrame(dic)\n",
    "df"
   ]
  },
  {
   "cell_type": "code",
   "execution_count": 4,
   "metadata": {},
   "outputs": [],
   "source": [
    "for x in range(1,len(json_files)):\n",
    "    with open('J://Legal_Judgment//_額外增加測試資料//'+json_files[x],\"r\",encoding=\"utf-8\") as f:\n",
    "        dt = json.load(f)\n",
    "\n",
    "    try:\n",
    "        if (str(dt[\"judgement\"]).index(str(dt[\"Situation\"])) < 0):\n",
    "            continue\n",
    "        if (len(str(dt[\"Situation\"])) > 512):\n",
    "            continue            \n",
    "        new = pd.DataFrame({\n",
    "        \"id\" : x,\n",
    "        \"court\": [dt[\"court\"]], \n",
    "        \"date\": [dt[\"date\"]],\n",
    "        \"no\": [dt[\"no\"]],\n",
    "        \"sys\": [dt[\"sys\"]],\n",
    "        \"reason\": [dt[\"reason\"]],\n",
    "        \"type\": [dt[\"type\"]],\n",
    "        \"mainText\": [dt[\"mainText\"]],\n",
    "        \"judgement\": [dt[\"judgement\"]],\n",
    "        #\"judgement_SIT\": [dt[\"judgement_SIT\"]],\n",
    "        \"Situation\": [dt[\"Situation\"]]\n",
    "        })\n",
    "        \n",
    "        df = df.append(new)\n",
    "\n",
    "    except:\n",
    "        print(dt[\"no\"])"
   ]
  },
  {
   "cell_type": "code",
   "execution_count": 5,
   "outputs": [
    {
     "data": {
      "text/plain": "id           343\ncourt        343\ndate         343\nno           343\nsys          343\nreason       343\ntype         343\nmainText     343\njudgement    343\nSituation    343\ndtype: int64"
     },
     "execution_count": 5,
     "metadata": {},
     "output_type": "execute_result"
    }
   ],
   "source": [
    "df = df.dropna()\n",
    "df.count()"
   ],
   "metadata": {
    "collapsed": false,
    "pycharm": {
     "name": "#%%\n"
    }
   }
  },
  {
   "cell_type": "code",
   "execution_count": 6,
   "metadata": {},
   "outputs": [],
   "source": [
    "df.to_csv('J://Legal_Judgment//Result.csv', index=0) "
   ]
  },
  {
   "cell_type": "code",
   "execution_count": 7,
   "outputs": [
    {
     "data": {
      "text/plain": "court        343\ndate         343\nno           343\nsys          343\nreason       343\ntype         343\nmainText     341\njudgement    343\nSituation    343\ndtype: int64"
     },
     "execution_count": 7,
     "metadata": {},
     "output_type": "execute_result"
    }
   ],
   "source": [
    "df = pd.read_csv('J://Legal_Judgment//Result.csv', index_col=0)\n",
    "test = pd.read_csv('.//QA_Test1//HBert//dataV2//Test200_512.csv', index_col=0)\n",
    "df.count()"
   ],
   "metadata": {
    "collapsed": false,
    "pycharm": {
     "name": "#%%\n"
    }
   }
  },
  {
   "cell_type": "code",
   "execution_count": 8,
   "outputs": [
    {
     "data": {
      "text/plain": "court        200\ndate         200\nno           200\nsys          200\nreason       200\ntype         200\nmainText     200\njudgement    200\nSituation    200\ndtype: int64"
     },
     "execution_count": 8,
     "metadata": {},
     "output_type": "execute_result"
    }
   ],
   "source": [
    "test.count()"
   ],
   "metadata": {
    "collapsed": false,
    "pycharm": {
     "name": "#%%\n"
    }
   }
  },
  {
   "cell_type": "code",
   "execution_count": 9,
   "outputs": [
    {
     "data": {
      "text/plain": "court        0\ndate         0\nno           0\nsys          0\nreason       0\ntype         0\nmainText     0\njudgement    0\nSituation    0\ndtype: int64"
     },
     "execution_count": 9,
     "metadata": {},
     "output_type": "execute_result"
    }
   ],
   "source": [
    "test2 = test[test['Situation'].str.len() > 513]\n",
    "test2.count()\n",
    "#test2.to_csv('J://Legal_Judgment//test513.csv', index=0) "
   ],
   "metadata": {
    "collapsed": false,
    "pycharm": {
     "name": "#%%\n"
    }
   }
  },
  {
   "cell_type": "code",
   "execution_count": 10,
   "outputs": [
    {
     "data": {
      "text/plain": "court        541\ndate         541\nno           541\nsys          541\nreason       541\ntype         541\nmainText     541\njudgement    541\nSituation    541\ndtype: int64"
     },
     "execution_count": 10,
     "metadata": {},
     "output_type": "execute_result"
    }
   ],
   "source": [
    "tmp = pd.concat([df,test])\n",
    "tmp = tmp.dropna()\n",
    "tmp.count()"
   ],
   "metadata": {
    "collapsed": false,
    "pycharm": {
     "name": "#%%\n"
    }
   }
  },
  {
   "cell_type": "code",
   "execution_count": 11,
   "outputs": [
    {
     "data": {
      "text/plain": "        court                       date           no sys  reason type  \\\nid                                                                       \n170  臺灣桃園地方法院  2016-05-26T00:00:00+08:00    105,簡,151  刑事      毀損   判決   \n90   臺灣臺北地方法院  2016-08-31T00:00:00+08:00  105,審易,1411  刑事      竊盜   判決   \n181  臺灣臺南地方法院  2017-08-31T00:00:00+08:00   105,簡上,211  刑事    妨害自由   判決   \n336  臺灣桃園地方法院  2018-11-30T00:00:00+08:00  107,審易,2629  刑事      毀損   判決   \n34   臺灣臺北地方法院  2016-08-31T00:00:00+08:00    105,侵訴,12  刑事  妨害性自主罪   判決   \n\n                                              mainText  \\\nid                                                       \n170  姜俐安犯毀損他人物品罪，處拘役貳拾伍日，如易科罰金，以新臺幣壹仟元折算壹日。緩刑貳年，並應依...   \n90               楊馨雨竊盜，累犯，處罰金新台幣伍仟元，如易服勞役，以新臺幣壹仟元折算壹日。   \n181          原判決撤銷。\\n曹可定犯強制罪，處拘役伍拾日，如易科罰金，以新臺幣壹仟元折算壹日。   \n336                                           本件公訴不受理。   \n34   3327-104150A連續對於未滿十四歲之女子為性交，處有期徒刑貳年。緩刑伍年，緩刑期間付...   \n\n                                             judgement  \\\nid                                                       \n170  臺灣桃園地方法院刑事判決105年度簡字第151號公訴人臺灣桃園地方法院檢察署檢察官被告姜俐安...   \n90   臺灣臺北地方法院刑事判決105年度審易字第1411號公訴人臺灣臺北地方法院檢察署檢察官被告楊...   \n181  臺灣臺南地方法院刑事判決105年度簡上字第211號上訴人臺灣臺南地方法院檢察署檢察官上訴人即...   \n336  臺灣桃園地方法院刑事判決107年度審易字第2629號公訴人臺灣桃園地方檢察署檢察官被告陳宣諭...   \n34   臺灣臺北地方法院刑事判決105年度侵訴字第12號公訴人臺灣臺北地方法院檢察署檢察官被告332...   \n\n                                             Situation  \nid                                                      \n170  姜俐安於民國103年11月13日，向周揚凱承租桃園市中壢區（改制前為桃園縣中壢市○○○路0號...  \n90   詎不知悔改，於105年2月1日下午2時許，在新北市○○區○○路0段00○0號五一八生活百貨安...  \n181  曹可定與辜逸恒均係位於臺南市○○區○○里○○○○街00號「御品天廈」大樓之住戶。辜逸恒於民國...  \n336  被告陳宣諭與告訴人郭蕙芳原為同社區之住戶，於民國106年9月3日晚上8時55分許，在其社區位...  \n34   緣3327-104150A（真實姓名年籍資料詳卷內代號與真實姓名對照表，下稱A男）與3327...  ",
      "text/html": "<div>\n<style scoped>\n    .dataframe tbody tr th:only-of-type {\n        vertical-align: middle;\n    }\n\n    .dataframe tbody tr th {\n        vertical-align: top;\n    }\n\n    .dataframe thead th {\n        text-align: right;\n    }\n</style>\n<table border=\"1\" class=\"dataframe\">\n  <thead>\n    <tr style=\"text-align: right;\">\n      <th></th>\n      <th>court</th>\n      <th>date</th>\n      <th>no</th>\n      <th>sys</th>\n      <th>reason</th>\n      <th>type</th>\n      <th>mainText</th>\n      <th>judgement</th>\n      <th>Situation</th>\n    </tr>\n    <tr>\n      <th>id</th>\n      <th></th>\n      <th></th>\n      <th></th>\n      <th></th>\n      <th></th>\n      <th></th>\n      <th></th>\n      <th></th>\n      <th></th>\n    </tr>\n  </thead>\n  <tbody>\n    <tr>\n      <td>170</td>\n      <td>臺灣桃園地方法院</td>\n      <td>2016-05-26T00:00:00+08:00</td>\n      <td>105,簡,151</td>\n      <td>刑事</td>\n      <td>毀損</td>\n      <td>判決</td>\n      <td>姜俐安犯毀損他人物品罪，處拘役貳拾伍日，如易科罰金，以新臺幣壹仟元折算壹日。緩刑貳年，並應依...</td>\n      <td>臺灣桃園地方法院刑事判決105年度簡字第151號公訴人臺灣桃園地方法院檢察署檢察官被告姜俐安...</td>\n      <td>姜俐安於民國103年11月13日，向周揚凱承租桃園市中壢區（改制前為桃園縣中壢市○○○路0號...</td>\n    </tr>\n    <tr>\n      <td>90</td>\n      <td>臺灣臺北地方法院</td>\n      <td>2016-08-31T00:00:00+08:00</td>\n      <td>105,審易,1411</td>\n      <td>刑事</td>\n      <td>竊盜</td>\n      <td>判決</td>\n      <td>楊馨雨竊盜，累犯，處罰金新台幣伍仟元，如易服勞役，以新臺幣壹仟元折算壹日。</td>\n      <td>臺灣臺北地方法院刑事判決105年度審易字第1411號公訴人臺灣臺北地方法院檢察署檢察官被告楊...</td>\n      <td>詎不知悔改，於105年2月1日下午2時許，在新北市○○區○○路0段00○0號五一八生活百貨安...</td>\n    </tr>\n    <tr>\n      <td>181</td>\n      <td>臺灣臺南地方法院</td>\n      <td>2017-08-31T00:00:00+08:00</td>\n      <td>105,簡上,211</td>\n      <td>刑事</td>\n      <td>妨害自由</td>\n      <td>判決</td>\n      <td>原判決撤銷。\\n曹可定犯強制罪，處拘役伍拾日，如易科罰金，以新臺幣壹仟元折算壹日。</td>\n      <td>臺灣臺南地方法院刑事判決105年度簡上字第211號上訴人臺灣臺南地方法院檢察署檢察官上訴人即...</td>\n      <td>曹可定與辜逸恒均係位於臺南市○○區○○里○○○○街00號「御品天廈」大樓之住戶。辜逸恒於民國...</td>\n    </tr>\n    <tr>\n      <td>336</td>\n      <td>臺灣桃園地方法院</td>\n      <td>2018-11-30T00:00:00+08:00</td>\n      <td>107,審易,2629</td>\n      <td>刑事</td>\n      <td>毀損</td>\n      <td>判決</td>\n      <td>本件公訴不受理。</td>\n      <td>臺灣桃園地方法院刑事判決107年度審易字第2629號公訴人臺灣桃園地方檢察署檢察官被告陳宣諭...</td>\n      <td>被告陳宣諭與告訴人郭蕙芳原為同社區之住戶，於民國106年9月3日晚上8時55分許，在其社區位...</td>\n    </tr>\n    <tr>\n      <td>34</td>\n      <td>臺灣臺北地方法院</td>\n      <td>2016-08-31T00:00:00+08:00</td>\n      <td>105,侵訴,12</td>\n      <td>刑事</td>\n      <td>妨害性自主罪</td>\n      <td>判決</td>\n      <td>3327-104150A連續對於未滿十四歲之女子為性交，處有期徒刑貳年。緩刑伍年，緩刑期間付...</td>\n      <td>臺灣臺北地方法院刑事判決105年度侵訴字第12號公訴人臺灣臺北地方法院檢察署檢察官被告332...</td>\n      <td>緣3327-104150A（真實姓名年籍資料詳卷內代號與真實姓名對照表，下稱A男）與3327...</td>\n    </tr>\n  </tbody>\n</table>\n</div>"
     },
     "execution_count": 11,
     "metadata": {},
     "output_type": "execute_result"
    }
   ],
   "source": [
    "##拆分df\n",
    "df1=tmp.sample(n=train_num)#按0.6比例随机采样\n",
    "df1.head()"
   ],
   "metadata": {
    "collapsed": false,
    "pycharm": {
     "name": "#%%\n"
    }
   }
  },
  {
   "cell_type": "code",
   "execution_count": 12,
   "outputs": [
    {
     "data": {
      "text/plain": "court        400\ndate         400\nno           400\nsys          400\nreason       400\ntype         400\nmainText     400\njudgement    400\nSituation    400\ndtype: int64"
     },
     "execution_count": 12,
     "metadata": {},
     "output_type": "execute_result"
    }
   ],
   "source": [
    "df1.count()"
   ],
   "metadata": {
    "collapsed": false,
    "pycharm": {
     "name": "#%%\n"
    }
   }
  },
  {
   "cell_type": "code",
   "execution_count": 13,
   "outputs": [
    {
     "data": {
      "text/plain": "court        1\ndate         1\nno           1\nsys          1\nreason       1\ntype         1\nmainText     1\njudgement    1\nSituation    1\ndtype: int64"
     },
     "execution_count": 13,
     "metadata": {},
     "output_type": "execute_result"
    }
   ],
   "source": [
    "df1[df1['Situation'].str.len() > 513].count()"
   ],
   "metadata": {
    "collapsed": false,
    "pycharm": {
     "name": "#%%\n"
    }
   }
  },
  {
   "cell_type": "code",
   "execution_count": 14,
   "outputs": [
    {
     "data": {
      "text/plain": "court        200\ndate         200\nno           200\nsys          200\nreason       200\ntype         200\nmainText     200\njudgement    200\nSituation    200\ndtype: int64"
     },
     "execution_count": 14,
     "metadata": {},
     "output_type": "execute_result"
    }
   ],
   "source": [
    "df2=test\n",
    "df2.count()"
   ],
   "metadata": {
    "collapsed": false,
    "pycharm": {
     "name": "#%%\n"
    }
   }
  },
  {
   "cell_type": "code",
   "execution_count": 15,
   "outputs": [],
   "source": [
    "class Data(object):\n",
    "    def __init__(self):\n",
    "        self.paragraphs = []\n",
    "        self.id = \"0\"\n",
    "        self.title = \"\"\n",
    "\n",
    "class Djson(object):\n",
    "    def __init__(self):\n",
    "        self.version = \"v1.0\"\n",
    "        self.data = []\n",
    " "
   ],
   "metadata": {
    "collapsed": false,
    "pycharm": {
     "name": "#%%\n"
    }
   }
  },
  {
   "cell_type": "code",
   "execution_count": 16,
   "outputs": [],
   "source": [
    "djson1 = Djson()\n",
    "for index, row in df1.iterrows():\n",
    "    if (row.Situation == None):\n",
    "        continue\n",
    "    if (isinstance(row.Situation, float)):\n",
    "        continue\n",
    "    if (len(row.Situation) == 0):\n",
    "        continue\n",
    "    if(len(row.Situation) > 513):\n",
    "        continue\n",
    "    try:\n",
    "        d = Data()\n",
    "        d.paragraphs = [{\"id\" : \"TRAIN_\" + str(index), \n",
    "                      #\"context\" : row.reason + \"[SEP]\" + row.judgement, \n",
    "                      \"context\" : row.judgement, \n",
    "                      \"qas\":[{\n",
    "                          \"question\" : \"?\",\n",
    "                          \"id\" : \"TRAIN_\" + str(index) + \"_QUERY_0\",\n",
    "                          \"answers\" :[{\n",
    "                              \"text\" : row.Situation,\n",
    "                              \"answer_start\" : row.judgement.index(row.Situation) #+ len(row.reason + \"[SET]\")\n",
    "                          }]\n",
    "                      }]\n",
    "                    }\n",
    "                    ]\n",
    "        d.id = \"TRAIN_\" + str(index)\n",
    "        d.title = row.no\n",
    "        djson1.data.append(d)\n",
    "    except:\n",
    "        print(index)\n",
    "        print(row.no)"
   ],
   "metadata": {
    "collapsed": false,
    "pycharm": {
     "name": "#%%\n"
    }
   }
  },
  {
   "cell_type": "code",
   "execution_count": 17,
   "outputs": [],
   "source": [
    "y = json.dumps(djson1, default=lambda o: o.__dict__, ensure_ascii=False)"
   ],
   "metadata": {
    "collapsed": false,
    "pycharm": {
     "name": "#%%\n"
    }
   }
  },
  {
   "cell_type": "code",
   "execution_count": 18,
   "outputs": [],
   "source": [
    "with open('./QA_Test1/HBert/dataV2/test_'+ str(train_num) + '_V3_512.json', 'w', encoding='utf8') as outfile:\n",
    "    json.dump(djson1, outfile, default=lambda o: o.__dict__ , ensure_ascii=False)\n",
    "    "
   ],
   "metadata": {
    "collapsed": false,
    "pycharm": {
     "name": "#%%\n"
    }
   }
  },
  {
   "cell_type": "code",
   "execution_count": 19,
   "outputs": [
    {
     "name": "stdout",
     "output_type": "stream",
     "text": [
      "15\n"
     ]
    }
   ],
   "source": [
    "str = '0000000-0000000'\n",
    "print(len(str))"
   ],
   "metadata": {
    "collapsed": false,
    "pycharm": {
     "name": "#%%\n"
    }
   }
  }
 ],
 "metadata": {
  "kernelspec": {
   "display_name": "Python 3",
   "language": "python",
   "name": "python3"
  },
  "language_info": {
   "codemirror_mode": {
    "name": "ipython",
    "version": 3
   },
   "file_extension": ".py",
   "mimetype": "text/x-python",
   "name": "python",
   "nbconvert_exporter": "python",
   "pygments_lexer": "ipython3",
   "version": "3.6.4"
  }
 },
 "nbformat": 4,
 "nbformat_minor": 2
}