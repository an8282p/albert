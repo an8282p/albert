{
 "cells": [
  {
   "cell_type": "code",
   "execution_count": 1,
   "metadata": {},
   "outputs": [
    {
     "name": "stdout",
     "output_type": "stream",
     "text": [
      "106,原簡,32_.json\n"
     ]
    }
   ],
   "source": [
    "import os, json \n",
    "import pandas as pd \n",
    "\n",
    "train_num = 401\n",
    "\n",
    "path_to_json = 'J:\\Legal_Judgment\\_額外增加測試資料'\n",
    "json_files = [pos_json for pos_json in os.listdir(path_to_json) if pos_json.endswith('.json')] \n",
    "print(json_files[0])"
   ]
  },
  {
   "cell_type": "code",
   "execution_count": 2,
   "metadata": {},
   "outputs": [],
   "source": [
    "with open('J://Legal_Judgment//_額外增加測試資料//'+json_files[0],\"r\",encoding=\"utf-8\") as f:\n",
    "    dt = json.load(f)"
   ]
  },
  {
   "cell_type": "code",
   "execution_count": 3,
   "metadata": {},
   "outputs": [
    {
     "data": {
      "text/plain": "   id     court                       date         no sys reason type  \\\n0   0  臺灣臺南地方法院  2018-01-10T00:00:00+08:00  105,訴,788  刑事   妨害自由   判決   \n\n                                            mainText  \\\n0  丁○○幫助犯剝奪他人行動自由罪，累犯，處拘役肆拾日，如易科罰金，以新臺幣壹仟元折算壹日。又共...   \n\n                                           judgement  \\\n0  臺灣臺南地方法院刑事判決105年度訴字第788號公訴人臺灣臺南地方法院檢察署檢察官被告張筠韋...   \n\n                                           Situation  \n0  丁○○、乙○○（綽號俊毅）、壬○○、癸○○（現由本院發佈通緝中）係朋友關係，因乙○○懷疑丑○...  ",
      "text/html": "<div>\n<style scoped>\n    .dataframe tbody tr th:only-of-type {\n        vertical-align: middle;\n    }\n\n    .dataframe tbody tr th {\n        vertical-align: top;\n    }\n\n    .dataframe thead th {\n        text-align: right;\n    }\n</style>\n<table border=\"1\" class=\"dataframe\">\n  <thead>\n    <tr style=\"text-align: right;\">\n      <th></th>\n      <th>id</th>\n      <th>court</th>\n      <th>date</th>\n      <th>no</th>\n      <th>sys</th>\n      <th>reason</th>\n      <th>type</th>\n      <th>mainText</th>\n      <th>judgement</th>\n      <th>Situation</th>\n    </tr>\n  </thead>\n  <tbody>\n    <tr>\n      <td>0</td>\n      <td>0</td>\n      <td>臺灣臺南地方法院</td>\n      <td>2018-01-10T00:00:00+08:00</td>\n      <td>105,訴,788</td>\n      <td>刑事</td>\n      <td>妨害自由</td>\n      <td>判決</td>\n      <td>丁○○幫助犯剝奪他人行動自由罪，累犯，處拘役肆拾日，如易科罰金，以新臺幣壹仟元折算壹日。又共...</td>\n      <td>臺灣臺南地方法院刑事判決105年度訴字第788號公訴人臺灣臺南地方法院檢察署檢察官被告張筠韋...</td>\n      <td>丁○○、乙○○（綽號俊毅）、壬○○、癸○○（現由本院發佈通緝中）係朋友關係，因乙○○懷疑丑○...</td>\n    </tr>\n  </tbody>\n</table>\n</div>"
     },
     "execution_count": 3,
     "metadata": {},
     "output_type": "execute_result"
    }
   ],
   "source": [
    "dic = {\n",
    "    \"id\": 0,\n",
    "    \"court\": [dt[\"court\"]], \n",
    "    \"date\": [dt[\"date\"]],\n",
    "    \"no\": [dt[\"no\"]],\n",
    "    \"sys\": [dt[\"sys\"]],\n",
    "    \"reason\": [dt[\"reason\"]],\n",
    "    \"type\": [dt[\"type\"]],\n",
    "    \"mainText\": [dt[\"mainText\"]],\n",
    "    \"judgement\": [dt[\"judgement\"]],\n",
    "    #\"judgement_SIT\": [dt[\"judgement_SIT\"]],\n",
    "    \"Situation\": [dt[\"Situation\"]]\n",
    "}\n",
    "df = pd.DataFrame(dic)\n",
    "df"
   ]
  },
  {
   "cell_type": "code",
   "execution_count": 4,
   "metadata": {},
   "outputs": [],
   "source": [
    "for x in range(1,len(json_files)):\n",
    "    with open('J://Legal_Judgment//_額外增加測試資料//'+json_files[x],\"r\",encoding=\"utf-8\") as f:\n",
    "        dt = json.load(f)\n",
    "\n",
    "    try:\n",
    "        if (str(dt[\"judgement\"]).index(str(dt[\"Situation\"])) < 0):\n",
    "            continue\n",
    "        if (len(str(dt[\"Situation\"])) > 512):\n",
    "            continue            \n",
    "        new = pd.DataFrame({\n",
    "        \"id\" : x,\n",
    "        \"court\": [dt[\"court\"]], \n",
    "        \"date\": [dt[\"date\"]],\n",
    "        \"no\": [dt[\"no\"]],\n",
    "        \"sys\": [dt[\"sys\"]],\n",
    "        \"reason\": [dt[\"reason\"]],\n",
    "        \"type\": [dt[\"type\"]],\n",
    "        \"mainText\": [dt[\"mainText\"]],\n",
    "        \"judgement\": [dt[\"judgement\"]],\n",
    "        #\"judgement_SIT\": [dt[\"judgement_SIT\"]],\n",
    "        \"Situation\": [dt[\"Situation\"]]\n",
    "        })\n",
    "        \n",
    "        df = df.append(new)\n",
    "\n",
    "    except:\n",
    "        print(dt[\"no\"])"
   ]
  },
  {
   "cell_type": "code",
   "execution_count": 5,
   "outputs": [
    {
     "data": {
      "text/plain": "id           343\ncourt        343\ndate         343\nno           343\nsys          343\nreason       343\ntype         343\nmainText     343\njudgement    343\nSituation    343\ndtype: int64"
     },
     "execution_count": 5,
     "metadata": {},
     "output_type": "execute_result"
    }
   ],
   "source": [
    "df = df.dropna()\n",
    "df.count()"
   ],
   "metadata": {
    "collapsed": false,
    "pycharm": {
     "name": "#%%\n"
    }
   }
  },
  {
   "cell_type": "code",
   "execution_count": 6,
   "metadata": {},
   "outputs": [],
   "source": [
    "df.to_csv('J://Legal_Judgment//Result.csv', index=0) "
   ]
  },
  {
   "cell_type": "code",
   "execution_count": 7,
   "outputs": [
    {
     "data": {
      "text/plain": "court        343\ndate         343\nno           343\nsys          343\nreason       343\ntype         343\nmainText     341\njudgement    343\nSituation    343\ndtype: int64"
     },
     "execution_count": 7,
     "metadata": {},
     "output_type": "execute_result"
    }
   ],
   "source": [
    "df = pd.read_csv('J://Legal_Judgment//Result.csv', index_col=0)\n",
    "test = pd.read_csv('.//QA_Test1//HBert//dataV2//Test200_512.csv', index_col=0)\n",
    "df.count()"
   ],
   "metadata": {
    "collapsed": false,
    "pycharm": {
     "name": "#%%\n"
    }
   }
  },
  {
   "cell_type": "code",
   "execution_count": 8,
   "outputs": [
    {
     "data": {
      "text/plain": "court        200\ndate         200\nno           200\nsys          200\nreason       200\ntype         200\nmainText     200\njudgement    200\nSituation    200\ndtype: int64"
     },
     "execution_count": 8,
     "metadata": {},
     "output_type": "execute_result"
    }
   ],
   "source": [
    "test.count()"
   ],
   "metadata": {
    "collapsed": false,
    "pycharm": {
     "name": "#%%\n"
    }
   }
  },
  {
   "cell_type": "code",
   "execution_count": 9,
   "outputs": [
    {
     "data": {
      "text/plain": "court        0\ndate         0\nno           0\nsys          0\nreason       0\ntype         0\nmainText     0\njudgement    0\nSituation    0\ndtype: int64"
     },
     "execution_count": 9,
     "metadata": {},
     "output_type": "execute_result"
    }
   ],
   "source": [
    "test2 = test[test['Situation'].str.len() > 513]\n",
    "test2.count()\n",
    "#test2.to_csv('J://Legal_Judgment//test513.csv', index=0) "
   ],
   "metadata": {
    "collapsed": false,
    "pycharm": {
     "name": "#%%\n"
    }
   }
  },
  {
   "cell_type": "code",
   "execution_count": 10,
   "outputs": [
    {
     "data": {
      "text/plain": "court        541\ndate         541\nno           541\nsys          541\nreason       541\ntype         541\nmainText     541\njudgement    541\nSituation    541\ndtype: int64"
     },
     "execution_count": 10,
     "metadata": {},
     "output_type": "execute_result"
    }
   ],
   "source": [
    "tmp = pd.concat([df,test])\n",
    "tmp = tmp.dropna()\n",
    "tmp.count()"
   ],
   "metadata": {
    "collapsed": false,
    "pycharm": {
     "name": "#%%\n"
    }
   }
  },
  {
   "cell_type": "code",
   "execution_count": 11,
   "outputs": [
    {
     "data": {
      "text/plain": "        court                       date          no sys reason type  \\\nid                                                                     \n292  臺灣桃園地方法院  2017-06-13T00:00:00+08:00   106,易,660  刑事     毀損   判決   \n58   臺灣臺北地方法院  2017-02-24T00:00:00+08:00  105,審原易,69  刑事     竊盜   判決   \n38   臺灣臺中地方法院  2011-01-28T00:00:00+08:00  100,中簡,131  刑事     竊盜   判決   \n202  臺灣臺南地方法院  2016-12-19T00:00:00+08:00   105,訴,362  刑事     強盜   判決   \n348  臺灣桃園地方法院  2018-10-31T00:00:00+08:00  107,易,1187  刑事     毀損   判決   \n\n                                              mainText  \\\nid                                                       \n292                                           本件公訴不受理。   \n58   蔡孟修共同犯攜帶兇器竊盜罪，累犯，處有期徒刑拾月。\\n李懷傑共同犯攜帶兇器竊盜罪，累犯，處有...   \n38               黃添益犯竊盜罪，累犯，處有期徒刑陸月，如易科罰金，以新台幣壹仟元折算壹日。   \n202         陳一誠犯攜帶兇器強盜未遂罪，累犯，處有期徒刑參年捌月。\\n扣案之水果刀壹把，沒收之。   \n348                                           本件公訴不受理。   \n\n                                             judgement  \\\nid                                                       \n292  臺灣桃園地方法院刑事判決106年度易字第660號公訴人臺灣桃園地方法院檢察署檢察官被告莫君毅...   \n58   臺灣臺北地方法院刑事判決105年度審原易字第69號公訴人臺灣臺北地方法院檢察署檢察官被告蔡孟...   \n38   臺灣臺中地方法院刑事簡易判決100年度中簡字第131號聲請人臺灣臺中地方法院檢察署檢察官被告...   \n202  臺灣臺南地方法院刑事判決105年度訴字第362號公訴人臺灣臺南地方法院檢察署檢察官被告陳一誠...   \n348  臺灣桃園地方法院刑事判決107年度易字第1187號聲請人臺灣桃園地方檢察署檢察官被告舒詠邦上...   \n\n                                             Situation  \nid                                                      \n292  被告莫君毅係桃園市中壢區白馬莊101之2號房屋（下稱系爭房屋）及後方之桃園市○○區○○○段○...  \n58   蔡孟修、李懷傑共同意圖為自己不法之所有，基於攜帶兇器竊盜之犯意聯絡，於民國105年10月2日...  \n38   於99年12月15日中午12時許至同日23時45分前間之某時，在臺中市○○路140號前，以自...  \n202  陳一誠於民國105年6月10日8時55分許，在臺南市○○區○○○街0號中華郵政股份有限公司新...  \n348  被告舒詠邦與少年林○亨（所涉毀損部分，另由檢察官依法處理）及真實姓名、年籍均不詳綽號「小文」...  ",
      "text/html": "<div>\n<style scoped>\n    .dataframe tbody tr th:only-of-type {\n        vertical-align: middle;\n    }\n\n    .dataframe tbody tr th {\n        vertical-align: top;\n    }\n\n    .dataframe thead th {\n        text-align: right;\n    }\n</style>\n<table border=\"1\" class=\"dataframe\">\n  <thead>\n    <tr style=\"text-align: right;\">\n      <th></th>\n      <th>court</th>\n      <th>date</th>\n      <th>no</th>\n      <th>sys</th>\n      <th>reason</th>\n      <th>type</th>\n      <th>mainText</th>\n      <th>judgement</th>\n      <th>Situation</th>\n    </tr>\n    <tr>\n      <th>id</th>\n      <th></th>\n      <th></th>\n      <th></th>\n      <th></th>\n      <th></th>\n      <th></th>\n      <th></th>\n      <th></th>\n      <th></th>\n    </tr>\n  </thead>\n  <tbody>\n    <tr>\n      <td>292</td>\n      <td>臺灣桃園地方法院</td>\n      <td>2017-06-13T00:00:00+08:00</td>\n      <td>106,易,660</td>\n      <td>刑事</td>\n      <td>毀損</td>\n      <td>判決</td>\n      <td>本件公訴不受理。</td>\n      <td>臺灣桃園地方法院刑事判決106年度易字第660號公訴人臺灣桃園地方法院檢察署檢察官被告莫君毅...</td>\n      <td>被告莫君毅係桃園市中壢區白馬莊101之2號房屋（下稱系爭房屋）及後方之桃園市○○區○○○段○...</td>\n    </tr>\n    <tr>\n      <td>58</td>\n      <td>臺灣臺北地方法院</td>\n      <td>2017-02-24T00:00:00+08:00</td>\n      <td>105,審原易,69</td>\n      <td>刑事</td>\n      <td>竊盜</td>\n      <td>判決</td>\n      <td>蔡孟修共同犯攜帶兇器竊盜罪，累犯，處有期徒刑拾月。\\n李懷傑共同犯攜帶兇器竊盜罪，累犯，處有...</td>\n      <td>臺灣臺北地方法院刑事判決105年度審原易字第69號公訴人臺灣臺北地方法院檢察署檢察官被告蔡孟...</td>\n      <td>蔡孟修、李懷傑共同意圖為自己不法之所有，基於攜帶兇器竊盜之犯意聯絡，於民國105年10月2日...</td>\n    </tr>\n    <tr>\n      <td>38</td>\n      <td>臺灣臺中地方法院</td>\n      <td>2011-01-28T00:00:00+08:00</td>\n      <td>100,中簡,131</td>\n      <td>刑事</td>\n      <td>竊盜</td>\n      <td>判決</td>\n      <td>黃添益犯竊盜罪，累犯，處有期徒刑陸月，如易科罰金，以新台幣壹仟元折算壹日。</td>\n      <td>臺灣臺中地方法院刑事簡易判決100年度中簡字第131號聲請人臺灣臺中地方法院檢察署檢察官被告...</td>\n      <td>於99年12月15日中午12時許至同日23時45分前間之某時，在臺中市○○路140號前，以自...</td>\n    </tr>\n    <tr>\n      <td>202</td>\n      <td>臺灣臺南地方法院</td>\n      <td>2016-12-19T00:00:00+08:00</td>\n      <td>105,訴,362</td>\n      <td>刑事</td>\n      <td>強盜</td>\n      <td>判決</td>\n      <td>陳一誠犯攜帶兇器強盜未遂罪，累犯，處有期徒刑參年捌月。\\n扣案之水果刀壹把，沒收之。</td>\n      <td>臺灣臺南地方法院刑事判決105年度訴字第362號公訴人臺灣臺南地方法院檢察署檢察官被告陳一誠...</td>\n      <td>陳一誠於民國105年6月10日8時55分許，在臺南市○○區○○○街0號中華郵政股份有限公司新...</td>\n    </tr>\n    <tr>\n      <td>348</td>\n      <td>臺灣桃園地方法院</td>\n      <td>2018-10-31T00:00:00+08:00</td>\n      <td>107,易,1187</td>\n      <td>刑事</td>\n      <td>毀損</td>\n      <td>判決</td>\n      <td>本件公訴不受理。</td>\n      <td>臺灣桃園地方法院刑事判決107年度易字第1187號聲請人臺灣桃園地方檢察署檢察官被告舒詠邦上...</td>\n      <td>被告舒詠邦與少年林○亨（所涉毀損部分，另由檢察官依法處理）及真實姓名、年籍均不詳綽號「小文」...</td>\n    </tr>\n  </tbody>\n</table>\n</div>"
     },
     "execution_count": 11,
     "metadata": {},
     "output_type": "execute_result"
    }
   ],
   "source": [
    "##拆分df\n",
    "df1=tmp.sample(n=train_num)#按0.6比例随机采样\n",
    "df1.head()"
   ],
   "metadata": {
    "collapsed": false,
    "pycharm": {
     "name": "#%%\n"
    }
   }
  },
  {
   "cell_type": "code",
   "execution_count": 12,
   "outputs": [
    {
     "data": {
      "text/plain": "court        401\ndate         401\nno           401\nsys          401\nreason       401\ntype         401\nmainText     401\njudgement    401\nSituation    401\ndtype: int64"
     },
     "execution_count": 12,
     "metadata": {},
     "output_type": "execute_result"
    }
   ],
   "source": [
    "df1.count()"
   ],
   "metadata": {
    "collapsed": false,
    "pycharm": {
     "name": "#%%\n"
    }
   }
  },
  {
   "cell_type": "code",
   "execution_count": 13,
   "outputs": [
    {
     "data": {
      "text/plain": "court        0\ndate         0\nno           0\nsys          0\nreason       0\ntype         0\nmainText     0\njudgement    0\nSituation    0\ndtype: int64"
     },
     "execution_count": 13,
     "metadata": {},
     "output_type": "execute_result"
    }
   ],
   "source": [
    "df1[df1['Situation'].str.len() > 513].count()"
   ],
   "metadata": {
    "collapsed": false,
    "pycharm": {
     "name": "#%%\n"
    }
   }
  },
  {
   "cell_type": "code",
   "execution_count": 14,
   "outputs": [
    {
     "data": {
      "text/plain": "court        200\ndate         200\nno           200\nsys          200\nreason       200\ntype         200\nmainText     200\njudgement    200\nSituation    200\ndtype: int64"
     },
     "execution_count": 14,
     "metadata": {},
     "output_type": "execute_result"
    }
   ],
   "source": [
    "df2=test\n",
    "df2.count()"
   ],
   "metadata": {
    "collapsed": false,
    "pycharm": {
     "name": "#%%\n"
    }
   }
  },
  {
   "cell_type": "code",
   "execution_count": 15,
   "outputs": [],
   "source": [
    "class Data(object):\n",
    "    def __init__(self):\n",
    "        self.paragraphs = []\n",
    "        self.id = \"0\"\n",
    "        self.title = \"\"\n",
    "\n",
    "class Djson(object):\n",
    "    def __init__(self):\n",
    "        self.version = \"v1.0\"\n",
    "        self.data = []\n",
    " "
   ],
   "metadata": {
    "collapsed": false,
    "pycharm": {
     "name": "#%%\n"
    }
   }
  },
  {
   "cell_type": "code",
   "execution_count": 16,
   "outputs": [],
   "source": [
    "djson1 = Djson()\n",
    "for index, row in df1.iterrows():\n",
    "    if (row.Situation == None):\n",
    "        continue\n",
    "    if (isinstance(row.Situation, float)):\n",
    "        continue\n",
    "    if (len(row.Situation) == 0):\n",
    "        continue\n",
    "    if(len(row.Situation) > 513):\n",
    "        continue\n",
    "    try:\n",
    "        d = Data()\n",
    "        d.paragraphs = [{\"id\" : \"TRAIN_\" + str(index), \n",
    "                      #\"context\" : row.reason + \"[SEP]\" + row.judgement, \n",
    "                      \"context\" : row.judgement, \n",
    "                      \"qas\":[{\n",
    "                          \"question\" : \"?\",\n",
    "                          \"id\" : \"TRAIN_\" + str(index) + \"_QUERY_0\",\n",
    "                          \"answers\" :[{\n",
    "                              \"text\" : row.Situation,\n",
    "                              \"answer_start\" : row.judgement.index(row.Situation) #+ len(row.reason + \"[SET]\")\n",
    "                          }]\n",
    "                      }]\n",
    "                    }\n",
    "                    ]\n",
    "        d.id = \"TRAIN_\" + str(index)\n",
    "        d.title = row.no\n",
    "        djson1.data.append(d)\n",
    "    except:\n",
    "        print(index)\n",
    "        print(row.no)"
   ],
   "metadata": {
    "collapsed": false,
    "pycharm": {
     "name": "#%%\n"
    }
   }
  },
  {
   "cell_type": "code",
   "execution_count": 17,
   "outputs": [],
   "source": [
    "y = json.dumps(djson1, default=lambda o: o.__dict__, ensure_ascii=False)"
   ],
   "metadata": {
    "collapsed": false,
    "pycharm": {
     "name": "#%%\n"
    }
   }
  },
  {
   "cell_type": "code",
   "execution_count": 18,
   "outputs": [],
   "source": [
    "#with open('./QA_Test1/HBert/dataV2/test_'+ str(train_num) + '_V3_512.json', 'w', encoding='utf8') as outfile:\n",
    "with open('./QA_Test1/HBert/dataV2/test_400_V3_512.json', 'w', encoding='utf8') as outfile:\n",
    "    json.dump(djson1, outfile, default=lambda o: o.__dict__ , ensure_ascii=False)\n",
    "    "
   ],
   "metadata": {
    "collapsed": false,
    "pycharm": {
     "name": "#%%\n"
    }
   }
  },
  {
   "cell_type": "code",
   "execution_count": 19,
   "outputs": [
    {
     "name": "stdout",
     "output_type": "stream",
     "text": [
      "15\n"
     ]
    }
   ],
   "source": [
    "str = '0000000-0000000'\n",
    "print(len(str))"
   ],
   "metadata": {
    "collapsed": false,
    "pycharm": {
     "name": "#%%\n"
    }
   }
  }
 ],
 "metadata": {
  "kernelspec": {
   "display_name": "Python 3",
   "language": "python",
   "name": "python3"
  },
  "language_info": {
   "codemirror_mode": {
    "name": "ipython",
    "version": 3
   },
   "file_extension": ".py",
   "mimetype": "text/x-python",
   "name": "python",
   "nbconvert_exporter": "python",
   "pygments_lexer": "ipython3",
   "version": "3.6.4"
  }
 },
 "nbformat": 4,
 "nbformat_minor": 2
}