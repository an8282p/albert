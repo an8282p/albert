{
 "cells": [
  {
   "cell_type": "code",
   "execution_count": 1,
   "metadata": {},
   "outputs": [
    {
     "name": "stdout",
     "output_type": "stream",
     "text": [
      "106,原簡,32_.json\n"
     ]
    }
   ],
   "source": [
    "import os, json \n",
    "import pandas as pd \n",
    "\n",
    "train_num = 501\n",
    "\n",
    "path_to_json = 'J:\\Legal_Judgment\\_額外增加測試資料'\n",
    "json_files = [pos_json for pos_json in os.listdir(path_to_json) if pos_json.endswith('.json')] \n",
    "print(json_files[0])"
   ]
  },
  {
   "cell_type": "code",
   "execution_count": 2,
   "metadata": {},
   "outputs": [],
   "source": [
    "with open('J://Legal_Judgment//_額外增加測試資料//'+json_files[0],\"r\",encoding=\"utf-8\") as f:\n",
    "    dt = json.load(f)"
   ]
  },
  {
   "cell_type": "code",
   "execution_count": 3,
   "metadata": {},
   "outputs": [
    {
     "data": {
      "text/plain": "   id     court                       date         no sys reason type  \\\n0   0  臺灣臺南地方法院  2018-01-10T00:00:00+08:00  105,訴,788  刑事   妨害自由   判決   \n\n                                            mainText  \\\n0  丁○○幫助犯剝奪他人行動自由罪，累犯，處拘役肆拾日，如易科罰金，以新臺幣壹仟元折算壹日。又共...   \n\n                                           judgement  \\\n0  臺灣臺南地方法院刑事判決105年度訴字第788號公訴人臺灣臺南地方法院檢察署檢察官被告張筠韋...   \n\n                                           Situation  \n0  丁○○、乙○○（綽號俊毅）、壬○○、癸○○（現由本院發佈通緝中）係朋友關係，因乙○○懷疑丑○...  ",
      "text/html": "<div>\n<style scoped>\n    .dataframe tbody tr th:only-of-type {\n        vertical-align: middle;\n    }\n\n    .dataframe tbody tr th {\n        vertical-align: top;\n    }\n\n    .dataframe thead th {\n        text-align: right;\n    }\n</style>\n<table border=\"1\" class=\"dataframe\">\n  <thead>\n    <tr style=\"text-align: right;\">\n      <th></th>\n      <th>id</th>\n      <th>court</th>\n      <th>date</th>\n      <th>no</th>\n      <th>sys</th>\n      <th>reason</th>\n      <th>type</th>\n      <th>mainText</th>\n      <th>judgement</th>\n      <th>Situation</th>\n    </tr>\n  </thead>\n  <tbody>\n    <tr>\n      <td>0</td>\n      <td>0</td>\n      <td>臺灣臺南地方法院</td>\n      <td>2018-01-10T00:00:00+08:00</td>\n      <td>105,訴,788</td>\n      <td>刑事</td>\n      <td>妨害自由</td>\n      <td>判決</td>\n      <td>丁○○幫助犯剝奪他人行動自由罪，累犯，處拘役肆拾日，如易科罰金，以新臺幣壹仟元折算壹日。又共...</td>\n      <td>臺灣臺南地方法院刑事判決105年度訴字第788號公訴人臺灣臺南地方法院檢察署檢察官被告張筠韋...</td>\n      <td>丁○○、乙○○（綽號俊毅）、壬○○、癸○○（現由本院發佈通緝中）係朋友關係，因乙○○懷疑丑○...</td>\n    </tr>\n  </tbody>\n</table>\n</div>"
     },
     "execution_count": 3,
     "metadata": {},
     "output_type": "execute_result"
    }
   ],
   "source": [
    "dic = {\n",
    "    \"id\": 0,\n",
    "    \"court\": [dt[\"court\"]], \n",
    "    \"date\": [dt[\"date\"]],\n",
    "    \"no\": [dt[\"no\"]],\n",
    "    \"sys\": [dt[\"sys\"]],\n",
    "    \"reason\": [dt[\"reason\"]],\n",
    "    \"type\": [dt[\"type\"]],\n",
    "    \"mainText\": [dt[\"mainText\"]],\n",
    "    \"judgement\": [dt[\"judgement\"]],\n",
    "    #\"judgement_SIT\": [dt[\"judgement_SIT\"]],\n",
    "    \"Situation\": [dt[\"Situation\"]]\n",
    "}\n",
    "df = pd.DataFrame(dic)\n",
    "df"
   ]
  },
  {
   "cell_type": "code",
   "execution_count": 4,
   "metadata": {},
   "outputs": [],
   "source": [
    "for x in range(1,len(json_files)):\n",
    "    with open('J://Legal_Judgment//_額外增加測試資料//'+json_files[x],\"r\",encoding=\"utf-8\") as f:\n",
    "        dt = json.load(f)\n",
    "\n",
    "    try:\n",
    "        if (str(dt[\"judgement\"]).index(str(dt[\"Situation\"])) < 0):\n",
    "            continue\n",
    "        if (len(str(dt[\"Situation\"])) > 512):\n",
    "            continue            \n",
    "        new = pd.DataFrame({\n",
    "        \"id\" : x,\n",
    "        \"court\": [dt[\"court\"]], \n",
    "        \"date\": [dt[\"date\"]],\n",
    "        \"no\": [dt[\"no\"]],\n",
    "        \"sys\": [dt[\"sys\"]],\n",
    "        \"reason\": [dt[\"reason\"]],\n",
    "        \"type\": [dt[\"type\"]],\n",
    "        \"mainText\": [dt[\"mainText\"]],\n",
    "        \"judgement\": [dt[\"judgement\"]],\n",
    "        #\"judgement_SIT\": [dt[\"judgement_SIT\"]],\n",
    "        \"Situation\": [dt[\"Situation\"]]\n",
    "        })\n",
    "        \n",
    "        df = df.append(new)\n",
    "\n",
    "    except:\n",
    "        print(dt[\"no\"])"
   ]
  },
  {
   "cell_type": "code",
   "execution_count": 5,
   "metadata": {},
   "outputs": [],
   "source": [
    "df.to_csv('J://Legal_Judgment//Result.csv', index=0) "
   ]
  },
  {
   "cell_type": "code",
   "execution_count": 16,
   "outputs": [
    {
     "data": {
      "text/plain": "       court                       date          no sys reason type  \\\nid                                                                    \n0   臺灣臺南地方法院  2018-01-10T00:00:00+08:00   105,訴,788  刑事   妨害自由   判決   \n1   臺灣臺北地方法院  2016-10-26T00:00:00+08:00  105,交易,116  刑事   公共危險   判決   \n2   臺灣臺北地方法院  2017-01-11T00:00:00+08:00  105,交易,125  刑事   公共危險   判決   \n3   臺灣臺北地方法院  2017-05-24T00:00:00+08:00  105,交易,133  刑事   公共危險   判決   \n4   臺灣臺北地方法院  2016-11-25T00:00:00+08:00  105,交易,138  刑事   公共危險   判決   \n\n                                             mainText  \\\nid                                                      \n0   丁○○幫助犯剝奪他人行動自由罪，累犯，處拘役肆拾日，如易科罰金，以新臺幣壹仟元折算壹日。又共...   \n1        徐文成吐氣所含酒精濃度達每公升零點二五毫克以上而駕駛動力交通工具，累犯，處有期徒刑柒月。   \n2   利俊霖吐氣所含酒精濃度達每公升零點二五毫克以上而駕駛動力交通工具，處有期徒刑陸月，如易科罰金...   \n3   黃銘展血液中酒精濃度達百分之零點零五以上而駕駛動力交通工具，處有期徒刑參月，如易科罰金，以新...   \n4   張進坤吐氣所含酒精濃度達每公升零點二五毫克以上而駕駛動力交通工具，處有期徒刑陸月，併科罰金新...   \n\n                                            judgement  \\\nid                                                      \n0   臺灣臺南地方法院刑事判決105年度訴字第788號公訴人臺灣臺南地方法院檢察署檢察官被告張筠韋...   \n1   臺灣臺北地方法院刑事判決105年度交易字第116號公訴人臺灣臺北地方法院檢察署檢察官被告徐文...   \n2   臺灣臺北地方法院刑事判決105年度交易字第125號公訴人臺灣臺北地方法院檢察署檢察官被告利俊...   \n3   臺灣臺北地方法院刑事判決105年度交易字第133號公訴人臺灣臺北地方法院檢察署檢察官被告黃銘...   \n4   臺灣臺北地方法院刑事判決105年度交易字第138號公訴人臺灣臺北地方法院檢察署檢察官被告張進...   \n\n                                            Situation  \nid                                                     \n0   丁○○、乙○○（綽號俊毅）、壬○○、癸○○（現由本院發佈通緝中）係朋友關係，因乙○○懷疑丑○...  \n1   徐文成於民國105年7月23日8時許，在新北市新店區華城路某處飲用酒類後，基於酒後駕駛動力交...  \n2   利俊霖於民國105年7月31日0至3時許在其臺北市○○區○○街000巷0弄0號*樓之住家飲用...  \n3   黃建銘於不詳時、地，食用或飲用含有酒類食品或飲品後，竟基於血液中酒精濃度達百分之零點零五以上...  \n4   張進坤於民國105年9月16日13時許，在新北市五股區文化三路某工地，飲用啤酒後，已達不能安...  ",
      "text/html": "<div>\n<style scoped>\n    .dataframe tbody tr th:only-of-type {\n        vertical-align: middle;\n    }\n\n    .dataframe tbody tr th {\n        vertical-align: top;\n    }\n\n    .dataframe thead th {\n        text-align: right;\n    }\n</style>\n<table border=\"1\" class=\"dataframe\">\n  <thead>\n    <tr style=\"text-align: right;\">\n      <th></th>\n      <th>court</th>\n      <th>date</th>\n      <th>no</th>\n      <th>sys</th>\n      <th>reason</th>\n      <th>type</th>\n      <th>mainText</th>\n      <th>judgement</th>\n      <th>Situation</th>\n    </tr>\n    <tr>\n      <th>id</th>\n      <th></th>\n      <th></th>\n      <th></th>\n      <th></th>\n      <th></th>\n      <th></th>\n      <th></th>\n      <th></th>\n      <th></th>\n    </tr>\n  </thead>\n  <tbody>\n    <tr>\n      <td>0</td>\n      <td>臺灣臺南地方法院</td>\n      <td>2018-01-10T00:00:00+08:00</td>\n      <td>105,訴,788</td>\n      <td>刑事</td>\n      <td>妨害自由</td>\n      <td>判決</td>\n      <td>丁○○幫助犯剝奪他人行動自由罪，累犯，處拘役肆拾日，如易科罰金，以新臺幣壹仟元折算壹日。又共...</td>\n      <td>臺灣臺南地方法院刑事判決105年度訴字第788號公訴人臺灣臺南地方法院檢察署檢察官被告張筠韋...</td>\n      <td>丁○○、乙○○（綽號俊毅）、壬○○、癸○○（現由本院發佈通緝中）係朋友關係，因乙○○懷疑丑○...</td>\n    </tr>\n    <tr>\n      <td>1</td>\n      <td>臺灣臺北地方法院</td>\n      <td>2016-10-26T00:00:00+08:00</td>\n      <td>105,交易,116</td>\n      <td>刑事</td>\n      <td>公共危險</td>\n      <td>判決</td>\n      <td>徐文成吐氣所含酒精濃度達每公升零點二五毫克以上而駕駛動力交通工具，累犯，處有期徒刑柒月。</td>\n      <td>臺灣臺北地方法院刑事判決105年度交易字第116號公訴人臺灣臺北地方法院檢察署檢察官被告徐文...</td>\n      <td>徐文成於民國105年7月23日8時許，在新北市新店區華城路某處飲用酒類後，基於酒後駕駛動力交...</td>\n    </tr>\n    <tr>\n      <td>2</td>\n      <td>臺灣臺北地方法院</td>\n      <td>2017-01-11T00:00:00+08:00</td>\n      <td>105,交易,125</td>\n      <td>刑事</td>\n      <td>公共危險</td>\n      <td>判決</td>\n      <td>利俊霖吐氣所含酒精濃度達每公升零點二五毫克以上而駕駛動力交通工具，處有期徒刑陸月，如易科罰金...</td>\n      <td>臺灣臺北地方法院刑事判決105年度交易字第125號公訴人臺灣臺北地方法院檢察署檢察官被告利俊...</td>\n      <td>利俊霖於民國105年7月31日0至3時許在其臺北市○○區○○街000巷0弄0號*樓之住家飲用...</td>\n    </tr>\n    <tr>\n      <td>3</td>\n      <td>臺灣臺北地方法院</td>\n      <td>2017-05-24T00:00:00+08:00</td>\n      <td>105,交易,133</td>\n      <td>刑事</td>\n      <td>公共危險</td>\n      <td>判決</td>\n      <td>黃銘展血液中酒精濃度達百分之零點零五以上而駕駛動力交通工具，處有期徒刑參月，如易科罰金，以新...</td>\n      <td>臺灣臺北地方法院刑事判決105年度交易字第133號公訴人臺灣臺北地方法院檢察署檢察官被告黃銘...</td>\n      <td>黃建銘於不詳時、地，食用或飲用含有酒類食品或飲品後，竟基於血液中酒精濃度達百分之零點零五以上...</td>\n    </tr>\n    <tr>\n      <td>4</td>\n      <td>臺灣臺北地方法院</td>\n      <td>2016-11-25T00:00:00+08:00</td>\n      <td>105,交易,138</td>\n      <td>刑事</td>\n      <td>公共危險</td>\n      <td>判決</td>\n      <td>張進坤吐氣所含酒精濃度達每公升零點二五毫克以上而駕駛動力交通工具，處有期徒刑陸月，併科罰金新...</td>\n      <td>臺灣臺北地方法院刑事判決105年度交易字第138號公訴人臺灣臺北地方法院檢察署檢察官被告張進...</td>\n      <td>張進坤於民國105年9月16日13時許，在新北市五股區文化三路某工地，飲用啤酒後，已達不能安...</td>\n    </tr>\n  </tbody>\n</table>\n</div>"
     },
     "execution_count": 16,
     "metadata": {},
     "output_type": "execute_result"
    }
   ],
   "source": [
    "df = pd.read_csv('J://Legal_Judgment//Result.csv', index_col=0)\n",
    "test = pd.read_csv('.//QA_Test1//HBert//dataV2//Test200_512.csv', index_col=0)\n",
    "df.head()"
   ],
   "metadata": {
    "collapsed": false,
    "pycharm": {
     "name": "#%%\n"
    }
   }
  },
  {
   "cell_type": "code",
   "execution_count": 17,
   "outputs": [
    {
     "data": {
      "text/plain": "         court                       date           no sys    reason type  \\\nid                                                                          \n577   臺灣臺中地方法院  2016-08-26T00:00:00+08:00   105,侵訴,124  刑事    妨害性自主罪   判決   \n381   臺灣新北地方法院  2015-11-06T00:00:00+08:00    104,原訴,27  刑事  毒品危害防制條例   判決   \n1082  臺灣臺南地方法院  2017-01-23T00:00:00+08:00    105,易,913  刑事        傷害   判決   \n1349  臺灣高雄地方法院  2017-03-30T00:00:00+08:00    106,審智易,5  刑事    違反著作權法   判決   \n1245  臺灣臺南地方法院  2017-12-29T00:00:00+08:00  106,交易,1009  刑事      公共危險   判決   \n\n                                               mainText  \\\nid                                                        \n577                      丁○○對於十四歲以上未滿十六歲之女子為性交，處有期徒刑柒月。   \n381   楊寶珍施用第一級毒品，累犯，處有期徒刑玖月。扣案之第一級毒品海洛因（驗餘淨重零點零捌參壹公克...   \n1082                                  許堯共同犯傷害罪，處有期徒刑拾月。   \n1349                                本件管轄錯誤，移送於臺灣橋頭地方法院。   \n1245  方建忠吐氣所含酒精濃度達每公升零點二五毫克以上而駕駛動力交通工具，累犯，處有期徒刑陸月，如易...   \n\n                                              judgement  \\\nid                                                        \n577   臺灣臺中地方法院刑事判決105年度侵訴字第124號公訴人臺灣臺中地方法院檢察署檢察官被告陳宗...   \n381   臺灣新北地方法院刑事判決104年度原訴字第27號公訴人臺灣新北地方法院檢察署檢察官被告楊寶珍...   \n1082  臺灣臺南地方法院刑事判決105年度易字第913號公訴人臺灣臺南地方法院檢察署檢察官被告許堯上...   \n1349  臺灣高雄地方法院刑事判決106年度審智易字第5號公訴人臺灣高雄地方法院檢察署檢察官被告張轟耀...   \n1245  臺灣臺南地方法院刑事判決106年度交易字第1009號公訴人臺灣臺南地方法院檢察署檢察官被告方...   \n\n                                              Situation  \nid                                                       \n577   猶不知悔改，基於對於14歲以上未滿16歲之女子為性交犯意，於104年9月15日晚上11時許，...  \n381   104年4月19日上午某時許（起訴書略為：於104年4月19日18時5分許為警採尿時點回溯2...  \n1082  許堯係許文賢（另經本院判處有期徒刑8月確定）之兄，許文賢及黃昱翔（另經本院判處有期徒刑7月確...  \n1349  被告張轟耀明知其以帳號「hgus1599」刊登在露天拍賣網站上販售「電競鍵盤PH-45」網頁...  \n1245  詎不知警惕，於106年10月21日17時許，在臺南市佳里區民安里某大廟附近之友人家中飲酒後，...  ",
      "text/html": "<div>\n<style scoped>\n    .dataframe tbody tr th:only-of-type {\n        vertical-align: middle;\n    }\n\n    .dataframe tbody tr th {\n        vertical-align: top;\n    }\n\n    .dataframe thead th {\n        text-align: right;\n    }\n</style>\n<table border=\"1\" class=\"dataframe\">\n  <thead>\n    <tr style=\"text-align: right;\">\n      <th></th>\n      <th>court</th>\n      <th>date</th>\n      <th>no</th>\n      <th>sys</th>\n      <th>reason</th>\n      <th>type</th>\n      <th>mainText</th>\n      <th>judgement</th>\n      <th>Situation</th>\n    </tr>\n    <tr>\n      <th>id</th>\n      <th></th>\n      <th></th>\n      <th></th>\n      <th></th>\n      <th></th>\n      <th></th>\n      <th></th>\n      <th></th>\n      <th></th>\n    </tr>\n  </thead>\n  <tbody>\n    <tr>\n      <td>577</td>\n      <td>臺灣臺中地方法院</td>\n      <td>2016-08-26T00:00:00+08:00</td>\n      <td>105,侵訴,124</td>\n      <td>刑事</td>\n      <td>妨害性自主罪</td>\n      <td>判決</td>\n      <td>丁○○對於十四歲以上未滿十六歲之女子為性交，處有期徒刑柒月。</td>\n      <td>臺灣臺中地方法院刑事判決105年度侵訴字第124號公訴人臺灣臺中地方法院檢察署檢察官被告陳宗...</td>\n      <td>猶不知悔改，基於對於14歲以上未滿16歲之女子為性交犯意，於104年9月15日晚上11時許，...</td>\n    </tr>\n    <tr>\n      <td>381</td>\n      <td>臺灣新北地方法院</td>\n      <td>2015-11-06T00:00:00+08:00</td>\n      <td>104,原訴,27</td>\n      <td>刑事</td>\n      <td>毒品危害防制條例</td>\n      <td>判決</td>\n      <td>楊寶珍施用第一級毒品，累犯，處有期徒刑玖月。扣案之第一級毒品海洛因（驗餘淨重零點零捌參壹公克...</td>\n      <td>臺灣新北地方法院刑事判決104年度原訴字第27號公訴人臺灣新北地方法院檢察署檢察官被告楊寶珍...</td>\n      <td>104年4月19日上午某時許（起訴書略為：於104年4月19日18時5分許為警採尿時點回溯2...</td>\n    </tr>\n    <tr>\n      <td>1082</td>\n      <td>臺灣臺南地方法院</td>\n      <td>2017-01-23T00:00:00+08:00</td>\n      <td>105,易,913</td>\n      <td>刑事</td>\n      <td>傷害</td>\n      <td>判決</td>\n      <td>許堯共同犯傷害罪，處有期徒刑拾月。</td>\n      <td>臺灣臺南地方法院刑事判決105年度易字第913號公訴人臺灣臺南地方法院檢察署檢察官被告許堯上...</td>\n      <td>許堯係許文賢（另經本院判處有期徒刑8月確定）之兄，許文賢及黃昱翔（另經本院判處有期徒刑7月確...</td>\n    </tr>\n    <tr>\n      <td>1349</td>\n      <td>臺灣高雄地方法院</td>\n      <td>2017-03-30T00:00:00+08:00</td>\n      <td>106,審智易,5</td>\n      <td>刑事</td>\n      <td>違反著作權法</td>\n      <td>判決</td>\n      <td>本件管轄錯誤，移送於臺灣橋頭地方法院。</td>\n      <td>臺灣高雄地方法院刑事判決106年度審智易字第5號公訴人臺灣高雄地方法院檢察署檢察官被告張轟耀...</td>\n      <td>被告張轟耀明知其以帳號「hgus1599」刊登在露天拍賣網站上販售「電競鍵盤PH-45」網頁...</td>\n    </tr>\n    <tr>\n      <td>1245</td>\n      <td>臺灣臺南地方法院</td>\n      <td>2017-12-29T00:00:00+08:00</td>\n      <td>106,交易,1009</td>\n      <td>刑事</td>\n      <td>公共危險</td>\n      <td>判決</td>\n      <td>方建忠吐氣所含酒精濃度達每公升零點二五毫克以上而駕駛動力交通工具，累犯，處有期徒刑陸月，如易...</td>\n      <td>臺灣臺南地方法院刑事判決106年度交易字第1009號公訴人臺灣臺南地方法院檢察署檢察官被告方...</td>\n      <td>詎不知警惕，於106年10月21日17時許，在臺南市佳里區民安里某大廟附近之友人家中飲酒後，...</td>\n    </tr>\n  </tbody>\n</table>\n</div>"
     },
     "execution_count": 17,
     "metadata": {},
     "output_type": "execute_result"
    }
   ],
   "source": [
    "test.head()"
   ],
   "metadata": {
    "collapsed": false,
    "pycharm": {
     "name": "#%%\n"
    }
   }
  },
  {
   "cell_type": "code",
   "execution_count": 26,
   "outputs": [
    {
     "data": {
      "text/plain": "Empty DataFrame\nColumns: [court, date, no, sys, reason, type, mainText, judgement, Situation]\nIndex: []",
      "text/html": "<div>\n<style scoped>\n    .dataframe tbody tr th:only-of-type {\n        vertical-align: middle;\n    }\n\n    .dataframe tbody tr th {\n        vertical-align: top;\n    }\n\n    .dataframe thead th {\n        text-align: right;\n    }\n</style>\n<table border=\"1\" class=\"dataframe\">\n  <thead>\n    <tr style=\"text-align: right;\">\n      <th></th>\n      <th>court</th>\n      <th>date</th>\n      <th>no</th>\n      <th>sys</th>\n      <th>reason</th>\n      <th>type</th>\n      <th>mainText</th>\n      <th>judgement</th>\n      <th>Situation</th>\n    </tr>\n    <tr>\n      <th>id</th>\n      <th></th>\n      <th></th>\n      <th></th>\n      <th></th>\n      <th></th>\n      <th></th>\n      <th></th>\n      <th></th>\n      <th></th>\n    </tr>\n  </thead>\n  <tbody>\n  </tbody>\n</table>\n</div>"
     },
     "execution_count": 26,
     "metadata": {},
     "output_type": "execute_result"
    }
   ],
   "source": [
    "test2 = test[test['Situation'].str.len() > 513]\n",
    "test2.head()\n",
    "#test2.to_csv('J://Legal_Judgment//test513.csv', index=0) "
   ],
   "metadata": {
    "collapsed": false,
    "pycharm": {
     "name": "#%%\n"
    }
   }
  },
  {
   "cell_type": "code",
   "execution_count": 19,
   "outputs": [
    {
     "data": {
      "text/plain": "court        541\ndate         541\nno           541\nsys          541\nreason       541\ntype         541\nmainText     541\njudgement    541\nSituation    541\ndtype: int64"
     },
     "execution_count": 19,
     "metadata": {},
     "output_type": "execute_result"
    }
   ],
   "source": [
    "tmp = pd.concat([df,test])\n",
    "tmp = tmp.dropna()\n",
    "tmp.count()"
   ],
   "metadata": {
    "collapsed": false,
    "pycharm": {
     "name": "#%%\n"
    }
   }
  },
  {
   "cell_type": "code",
   "execution_count": 27,
   "outputs": [
    {
     "data": {
      "text/plain": "         court                       date            no sys  reason type  \\\nid                                                                         \n36    臺灣臺北地方法院  2016-09-21T00:00:00+08:00     105,侵訴,14  刑事  妨害性自主罪   判決   \n1354  臺灣臺中地方法院  2017-02-08T00:00:00+08:00     106,審簡,82  刑事    妨害公務   判決   \n427   臺灣臺中地方法院  2016-04-27T00:00:00+08:00  105,中交簡,1079  刑事    公共危險   判決   \n1364  臺灣高雄地方法院  2017-10-03T00:00:00+08:00    106,審訴,952  刑事    妨害自由   判決   \n343   臺灣桃園地方法院  2018-09-19T00:00:00+08:00    107,易,1027  刑事      毀損   判決   \n\n                                               mainText  \\\nid                                                        \n36    0000甲000000A犯對於未滿十四歲之女子為強制猥褻罪，共拾伍罪，各處有期徒刑參年陸月；...   \n1354      張麒驊於公務員依法執行職務時，當場侮辱，處拘役拾伍日，如易科罰金，以新臺幣壹仟元折算壹日。   \n427   孫子偉駕駛動力交通工具而吐氣所含酒精濃度達每公升零點二五毫克以上，累犯，處有期徒刑陸月，如易...   \n1364  杜淑芬、施鎮鴻均共同犯剝奪他人行動自由罪，各處有期徒刑貳月，如易科罰金，均以新臺幣壹仟元折算...   \n343                                            本件公訴不受理。   \n\n                                              judgement  \\\nid                                                        \n36    臺灣臺北地方法院刑事判決105年度侵訴字第14號公訴人臺灣臺北地方法院檢察署檢察官被告000...   \n1354  臺灣臺中地方法院刑事簡易判決106年度審簡字第82號公訴人臺灣臺中地方法院檢察署檢察官被告張...   \n427   臺灣臺中地方法院刑事簡易判決105年度中交簡字第1079號聲請人臺灣臺中地方法院檢察署檢察官...   \n1364  臺灣高雄地方法院刑事判決106年度審訴字第952號公訴人臺灣高雄地方法院檢察署檢察官被告杜淑...   \n343   臺灣桃園地方法院刑事判決107年度易字第1027號公訴人臺灣桃園地方檢察署檢察官被告許益源上...   \n\n                                              Situation  \nid                                                       \n36    A男（代號0000甲000000A，真實姓名年籍詳卷）與A童（代號0000甲000000，真...  \n1354  被告張麒驊於民國105年8月6日凌晨1時5分許，在臺中市○區○○路0段000號錢櫃KTV店3...  \n427   孫子偉自民國105年3月29日上午10時許起至同日上午10時15分許止，在臺中市○○區○○街...  \n1364  杜淑芬係址設高雄市○○區○○路000號「尊紅泰式養生館」負責人，其因欲向陳蘭草催討債務，竟於...  \n343   被告許益源於民國於102年8月20日，向告訴人黃政凱、被害人婁麗華母子承租桃園縣楊梅市（現改...  ",
      "text/html": "<div>\n<style scoped>\n    .dataframe tbody tr th:only-of-type {\n        vertical-align: middle;\n    }\n\n    .dataframe tbody tr th {\n        vertical-align: top;\n    }\n\n    .dataframe thead th {\n        text-align: right;\n    }\n</style>\n<table border=\"1\" class=\"dataframe\">\n  <thead>\n    <tr style=\"text-align: right;\">\n      <th></th>\n      <th>court</th>\n      <th>date</th>\n      <th>no</th>\n      <th>sys</th>\n      <th>reason</th>\n      <th>type</th>\n      <th>mainText</th>\n      <th>judgement</th>\n      <th>Situation</th>\n    </tr>\n    <tr>\n      <th>id</th>\n      <th></th>\n      <th></th>\n      <th></th>\n      <th></th>\n      <th></th>\n      <th></th>\n      <th></th>\n      <th></th>\n      <th></th>\n    </tr>\n  </thead>\n  <tbody>\n    <tr>\n      <td>36</td>\n      <td>臺灣臺北地方法院</td>\n      <td>2016-09-21T00:00:00+08:00</td>\n      <td>105,侵訴,14</td>\n      <td>刑事</td>\n      <td>妨害性自主罪</td>\n      <td>判決</td>\n      <td>0000甲000000A犯對於未滿十四歲之女子為強制猥褻罪，共拾伍罪，各處有期徒刑參年陸月；...</td>\n      <td>臺灣臺北地方法院刑事判決105年度侵訴字第14號公訴人臺灣臺北地方法院檢察署檢察官被告000...</td>\n      <td>A男（代號0000甲000000A，真實姓名年籍詳卷）與A童（代號0000甲000000，真...</td>\n    </tr>\n    <tr>\n      <td>1354</td>\n      <td>臺灣臺中地方法院</td>\n      <td>2017-02-08T00:00:00+08:00</td>\n      <td>106,審簡,82</td>\n      <td>刑事</td>\n      <td>妨害公務</td>\n      <td>判決</td>\n      <td>張麒驊於公務員依法執行職務時，當場侮辱，處拘役拾伍日，如易科罰金，以新臺幣壹仟元折算壹日。</td>\n      <td>臺灣臺中地方法院刑事簡易判決106年度審簡字第82號公訴人臺灣臺中地方法院檢察署檢察官被告張...</td>\n      <td>被告張麒驊於民國105年8月6日凌晨1時5分許，在臺中市○區○○路0段000號錢櫃KTV店3...</td>\n    </tr>\n    <tr>\n      <td>427</td>\n      <td>臺灣臺中地方法院</td>\n      <td>2016-04-27T00:00:00+08:00</td>\n      <td>105,中交簡,1079</td>\n      <td>刑事</td>\n      <td>公共危險</td>\n      <td>判決</td>\n      <td>孫子偉駕駛動力交通工具而吐氣所含酒精濃度達每公升零點二五毫克以上，累犯，處有期徒刑陸月，如易...</td>\n      <td>臺灣臺中地方法院刑事簡易判決105年度中交簡字第1079號聲請人臺灣臺中地方法院檢察署檢察官...</td>\n      <td>孫子偉自民國105年3月29日上午10時許起至同日上午10時15分許止，在臺中市○○區○○街...</td>\n    </tr>\n    <tr>\n      <td>1364</td>\n      <td>臺灣高雄地方法院</td>\n      <td>2017-10-03T00:00:00+08:00</td>\n      <td>106,審訴,952</td>\n      <td>刑事</td>\n      <td>妨害自由</td>\n      <td>判決</td>\n      <td>杜淑芬、施鎮鴻均共同犯剝奪他人行動自由罪，各處有期徒刑貳月，如易科罰金，均以新臺幣壹仟元折算...</td>\n      <td>臺灣高雄地方法院刑事判決106年度審訴字第952號公訴人臺灣高雄地方法院檢察署檢察官被告杜淑...</td>\n      <td>杜淑芬係址設高雄市○○區○○路000號「尊紅泰式養生館」負責人，其因欲向陳蘭草催討債務，竟於...</td>\n    </tr>\n    <tr>\n      <td>343</td>\n      <td>臺灣桃園地方法院</td>\n      <td>2018-09-19T00:00:00+08:00</td>\n      <td>107,易,1027</td>\n      <td>刑事</td>\n      <td>毀損</td>\n      <td>判決</td>\n      <td>本件公訴不受理。</td>\n      <td>臺灣桃園地方法院刑事判決107年度易字第1027號公訴人臺灣桃園地方檢察署檢察官被告許益源上...</td>\n      <td>被告許益源於民國於102年8月20日，向告訴人黃政凱、被害人婁麗華母子承租桃園縣楊梅市（現改...</td>\n    </tr>\n  </tbody>\n</table>\n</div>"
     },
     "execution_count": 27,
     "metadata": {},
     "output_type": "execute_result"
    }
   ],
   "source": [
    "##拆分df\n",
    "df1=tmp.sample(n=train_num)#按0.6比例随机采样\n",
    "df1.head()"
   ],
   "metadata": {
    "collapsed": false,
    "pycharm": {
     "name": "#%%\n"
    }
   }
  },
  {
   "cell_type": "code",
   "execution_count": 28,
   "outputs": [
    {
     "data": {
      "text/plain": "court        1\ndate         1\nno           1\nsys          1\nreason       1\ntype         1\nmainText     1\njudgement    1\nSituation    1\ndtype: int64"
     },
     "execution_count": 28,
     "metadata": {},
     "output_type": "execute_result"
    }
   ],
   "source": [
    "df1[df1['Situation'].str.len() > 513].count()"
   ],
   "metadata": {
    "collapsed": false,
    "pycharm": {
     "name": "#%%\n"
    }
   }
  },
  {
   "cell_type": "code",
   "execution_count": 29,
   "outputs": [
    {
     "data": {
      "text/plain": "         court                       date           no sys    reason type  \\\nid                                                                          \n577   臺灣臺中地方法院  2016-08-26T00:00:00+08:00   105,侵訴,124  刑事    妨害性自主罪   判決   \n381   臺灣新北地方法院  2015-11-06T00:00:00+08:00    104,原訴,27  刑事  毒品危害防制條例   判決   \n1082  臺灣臺南地方法院  2017-01-23T00:00:00+08:00    105,易,913  刑事        傷害   判決   \n1349  臺灣高雄地方法院  2017-03-30T00:00:00+08:00    106,審智易,5  刑事    違反著作權法   判決   \n1245  臺灣臺南地方法院  2017-12-29T00:00:00+08:00  106,交易,1009  刑事      公共危險   判決   \n\n                                               mainText  \\\nid                                                        \n577                      丁○○對於十四歲以上未滿十六歲之女子為性交，處有期徒刑柒月。   \n381   楊寶珍施用第一級毒品，累犯，處有期徒刑玖月。扣案之第一級毒品海洛因（驗餘淨重零點零捌參壹公克...   \n1082                                  許堯共同犯傷害罪，處有期徒刑拾月。   \n1349                                本件管轄錯誤，移送於臺灣橋頭地方法院。   \n1245  方建忠吐氣所含酒精濃度達每公升零點二五毫克以上而駕駛動力交通工具，累犯，處有期徒刑陸月，如易...   \n\n                                              judgement  \\\nid                                                        \n577   臺灣臺中地方法院刑事判決105年度侵訴字第124號公訴人臺灣臺中地方法院檢察署檢察官被告陳宗...   \n381   臺灣新北地方法院刑事判決104年度原訴字第27號公訴人臺灣新北地方法院檢察署檢察官被告楊寶珍...   \n1082  臺灣臺南地方法院刑事判決105年度易字第913號公訴人臺灣臺南地方法院檢察署檢察官被告許堯上...   \n1349  臺灣高雄地方法院刑事判決106年度審智易字第5號公訴人臺灣高雄地方法院檢察署檢察官被告張轟耀...   \n1245  臺灣臺南地方法院刑事判決106年度交易字第1009號公訴人臺灣臺南地方法院檢察署檢察官被告方...   \n\n                                              Situation  \nid                                                       \n577   猶不知悔改，基於對於14歲以上未滿16歲之女子為性交犯意，於104年9月15日晚上11時許，...  \n381   104年4月19日上午某時許（起訴書略為：於104年4月19日18時5分許為警採尿時點回溯2...  \n1082  許堯係許文賢（另經本院判處有期徒刑8月確定）之兄，許文賢及黃昱翔（另經本院判處有期徒刑7月確...  \n1349  被告張轟耀明知其以帳號「hgus1599」刊登在露天拍賣網站上販售「電競鍵盤PH-45」網頁...  \n1245  詎不知警惕，於106年10月21日17時許，在臺南市佳里區民安里某大廟附近之友人家中飲酒後，...  ",
      "text/html": "<div>\n<style scoped>\n    .dataframe tbody tr th:only-of-type {\n        vertical-align: middle;\n    }\n\n    .dataframe tbody tr th {\n        vertical-align: top;\n    }\n\n    .dataframe thead th {\n        text-align: right;\n    }\n</style>\n<table border=\"1\" class=\"dataframe\">\n  <thead>\n    <tr style=\"text-align: right;\">\n      <th></th>\n      <th>court</th>\n      <th>date</th>\n      <th>no</th>\n      <th>sys</th>\n      <th>reason</th>\n      <th>type</th>\n      <th>mainText</th>\n      <th>judgement</th>\n      <th>Situation</th>\n    </tr>\n    <tr>\n      <th>id</th>\n      <th></th>\n      <th></th>\n      <th></th>\n      <th></th>\n      <th></th>\n      <th></th>\n      <th></th>\n      <th></th>\n      <th></th>\n    </tr>\n  </thead>\n  <tbody>\n    <tr>\n      <td>577</td>\n      <td>臺灣臺中地方法院</td>\n      <td>2016-08-26T00:00:00+08:00</td>\n      <td>105,侵訴,124</td>\n      <td>刑事</td>\n      <td>妨害性自主罪</td>\n      <td>判決</td>\n      <td>丁○○對於十四歲以上未滿十六歲之女子為性交，處有期徒刑柒月。</td>\n      <td>臺灣臺中地方法院刑事判決105年度侵訴字第124號公訴人臺灣臺中地方法院檢察署檢察官被告陳宗...</td>\n      <td>猶不知悔改，基於對於14歲以上未滿16歲之女子為性交犯意，於104年9月15日晚上11時許，...</td>\n    </tr>\n    <tr>\n      <td>381</td>\n      <td>臺灣新北地方法院</td>\n      <td>2015-11-06T00:00:00+08:00</td>\n      <td>104,原訴,27</td>\n      <td>刑事</td>\n      <td>毒品危害防制條例</td>\n      <td>判決</td>\n      <td>楊寶珍施用第一級毒品，累犯，處有期徒刑玖月。扣案之第一級毒品海洛因（驗餘淨重零點零捌參壹公克...</td>\n      <td>臺灣新北地方法院刑事判決104年度原訴字第27號公訴人臺灣新北地方法院檢察署檢察官被告楊寶珍...</td>\n      <td>104年4月19日上午某時許（起訴書略為：於104年4月19日18時5分許為警採尿時點回溯2...</td>\n    </tr>\n    <tr>\n      <td>1082</td>\n      <td>臺灣臺南地方法院</td>\n      <td>2017-01-23T00:00:00+08:00</td>\n      <td>105,易,913</td>\n      <td>刑事</td>\n      <td>傷害</td>\n      <td>判決</td>\n      <td>許堯共同犯傷害罪，處有期徒刑拾月。</td>\n      <td>臺灣臺南地方法院刑事判決105年度易字第913號公訴人臺灣臺南地方法院檢察署檢察官被告許堯上...</td>\n      <td>許堯係許文賢（另經本院判處有期徒刑8月確定）之兄，許文賢及黃昱翔（另經本院判處有期徒刑7月確...</td>\n    </tr>\n    <tr>\n      <td>1349</td>\n      <td>臺灣高雄地方法院</td>\n      <td>2017-03-30T00:00:00+08:00</td>\n      <td>106,審智易,5</td>\n      <td>刑事</td>\n      <td>違反著作權法</td>\n      <td>判決</td>\n      <td>本件管轄錯誤，移送於臺灣橋頭地方法院。</td>\n      <td>臺灣高雄地方法院刑事判決106年度審智易字第5號公訴人臺灣高雄地方法院檢察署檢察官被告張轟耀...</td>\n      <td>被告張轟耀明知其以帳號「hgus1599」刊登在露天拍賣網站上販售「電競鍵盤PH-45」網頁...</td>\n    </tr>\n    <tr>\n      <td>1245</td>\n      <td>臺灣臺南地方法院</td>\n      <td>2017-12-29T00:00:00+08:00</td>\n      <td>106,交易,1009</td>\n      <td>刑事</td>\n      <td>公共危險</td>\n      <td>判決</td>\n      <td>方建忠吐氣所含酒精濃度達每公升零點二五毫克以上而駕駛動力交通工具，累犯，處有期徒刑陸月，如易...</td>\n      <td>臺灣臺南地方法院刑事判決106年度交易字第1009號公訴人臺灣臺南地方法院檢察署檢察官被告方...</td>\n      <td>詎不知警惕，於106年10月21日17時許，在臺南市佳里區民安里某大廟附近之友人家中飲酒後，...</td>\n    </tr>\n  </tbody>\n</table>\n</div>"
     },
     "execution_count": 29,
     "metadata": {},
     "output_type": "execute_result"
    }
   ],
   "source": [
    "df2=test\n",
    "df2.head()"
   ],
   "metadata": {
    "collapsed": false,
    "pycharm": {
     "name": "#%%\n"
    }
   }
  },
  {
   "cell_type": "code",
   "execution_count": 30,
   "outputs": [],
   "source": [
    "class Data(object):\n",
    "    def __init__(self):\n",
    "        self.paragraphs = []\n",
    "        self.id = \"0\"\n",
    "        self.title = \"\"\n",
    "\n",
    "class Djson(object):\n",
    "    def __init__(self):\n",
    "        self.version = \"v1.0\"\n",
    "        self.data = []\n",
    " "
   ],
   "metadata": {
    "collapsed": false,
    "pycharm": {
     "name": "#%%\n"
    }
   }
  },
  {
   "cell_type": "code",
   "execution_count": 32,
   "outputs": [],
   "source": [
    "djson1 = Djson()\n",
    "for index, row in df1.iterrows():\n",
    "    if(len(row.Situation) > 513):\n",
    "        continue\n",
    "    try:\n",
    "        d = Data()\n",
    "        d.paragraphs = [{\"id\" : \"TRAIN_\" + str(index), \n",
    "                      #\"context\" : row.reason + \"[SEP]\" + row.judgement, \n",
    "                      \"context\" : row.judgement, \n",
    "                      \"qas\":[{\n",
    "                          \"question\" : \"?\",\n",
    "                          \"id\" : \"TRAIN_\" + str(index) + \"_QUERY_0\",\n",
    "                          \"answers\" :[{\n",
    "                              \"text\" : row.Situation,\n",
    "                              \"answer_start\" : row.judgement.index(row.Situation) #+ len(row.reason + \"[SET]\")\n",
    "                          }]\n",
    "                      }]\n",
    "                    }\n",
    "                    ]\n",
    "        d.id = \"TRAIN_\" + str(index)\n",
    "        d.title = row.no\n",
    "        djson1.data.append(d)\n",
    "    except:\n",
    "        print(index)\n",
    "        print(row.no)"
   ],
   "metadata": {
    "collapsed": false,
    "pycharm": {
     "name": "#%%\n"
    }
   }
  },
  {
   "cell_type": "code",
   "execution_count": 33,
   "outputs": [],
   "source": [
    "y = json.dumps(djson1, default=lambda o: o.__dict__, ensure_ascii=False)"
   ],
   "metadata": {
    "collapsed": false,
    "pycharm": {
     "name": "#%%\n"
    }
   }
  },
  {
   "cell_type": "code",
   "execution_count": 34,
   "outputs": [],
   "source": [
    "with open('./QA_Test1/HBert/dataV2/test_'+ str(train_num) + '_V3_512.json', 'w', encoding='utf8') as outfile:\n",
    "    json.dump(djson1, outfile, default=lambda o: o.__dict__ , ensure_ascii=False)\n",
    "    "
   ],
   "metadata": {
    "collapsed": false,
    "pycharm": {
     "name": "#%%\n"
    }
   }
  },
  {
   "cell_type": "code",
   "execution_count": 17,
   "outputs": [
    {
     "name": "stdout",
     "output_type": "stream",
     "text": [
      "15\n"
     ]
    }
   ],
   "source": [
    "str = '0000000-0000000'\n",
    "print(len(str))"
   ],
   "metadata": {
    "collapsed": false,
    "pycharm": {
     "name": "#%%\n"
    }
   }
  }
 ],
 "metadata": {
  "kernelspec": {
   "display_name": "Python 3",
   "language": "python",
   "name": "python3"
  },
  "language_info": {
   "codemirror_mode": {
    "name": "ipython",
    "version": 3
   },
   "file_extension": ".py",
   "mimetype": "text/x-python",
   "name": "python",
   "nbconvert_exporter": "python",
   "pygments_lexer": "ipython3",
   "version": "3.6.4"
  }
 },
 "nbformat": 4,
 "nbformat_minor": 2
}