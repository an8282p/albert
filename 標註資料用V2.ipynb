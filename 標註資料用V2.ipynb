{
 "cells": [
  {
   "cell_type": "code",
   "execution_count": 1,
   "metadata": {},
   "outputs": [
    {
     "name": "stdout",
     "output_type": "stream",
     "text": [
      "106,易,1093_.json\n"
     ]
    }
   ],
   "source": [
    "import os, json \n",
    "import pandas as pd \n",
    "\n",
    "train_num = 3000\n",
    "\n",
    "path_to_json = 'J:\\Legal_Judgment\\臺灣新北地方法院_改_V2'\n",
    "json_files = [pos_json for pos_json in os.listdir(path_to_json) if pos_json.endswith('.json')] \n",
    "print(json_files[0])"
   ]
  },
  {
   "cell_type": "code",
   "execution_count": 2,
   "metadata": {},
   "outputs": [],
   "source": [
    "with open('J://Legal_Judgment//臺灣新北地方法院_改_V2//'+json_files[0],\"r\",encoding=\"utf-8\") as f:\n",
    "    dt = json.load(f)"
   ]
  },
  {
   "cell_type": "code",
   "execution_count": 3,
   "metadata": {},
   "outputs": [
    {
     "data": {
      "text/plain": "   id     court                       date          no sys reason type  \\\n0   0  臺灣桃園地方法院  2018-04-18T00:00:00+08:00  106,易,1093  刑事   妨害公務   判決   \n\n                                  mainText  \\\n0  邱建豪犯妨害公務執行罪，累犯，處拘役拾日，如易科罰金，以新臺幣壹仟元折算壹日。   \n\n                                           judgement  \\\n0  臺灣桃園地方法院刑事判決106年度易字第1093號公訴人臺灣桃園地方法院檢察署檢察官被告邱建...   \n\n                                           Situation  \n0  邱建豪於民國106年5月1日下午5時15分許，在桃園市○○區○○路000號桃園市政府警察局桃...  ",
      "text/html": "<div>\n<style scoped>\n    .dataframe tbody tr th:only-of-type {\n        vertical-align: middle;\n    }\n\n    .dataframe tbody tr th {\n        vertical-align: top;\n    }\n\n    .dataframe thead th {\n        text-align: right;\n    }\n</style>\n<table border=\"1\" class=\"dataframe\">\n  <thead>\n    <tr style=\"text-align: right;\">\n      <th></th>\n      <th>id</th>\n      <th>court</th>\n      <th>date</th>\n      <th>no</th>\n      <th>sys</th>\n      <th>reason</th>\n      <th>type</th>\n      <th>mainText</th>\n      <th>judgement</th>\n      <th>Situation</th>\n    </tr>\n  </thead>\n  <tbody>\n    <tr>\n      <td>0</td>\n      <td>0</td>\n      <td>臺灣桃園地方法院</td>\n      <td>2018-04-18T00:00:00+08:00</td>\n      <td>106,易,1093</td>\n      <td>刑事</td>\n      <td>妨害公務</td>\n      <td>判決</td>\n      <td>邱建豪犯妨害公務執行罪，累犯，處拘役拾日，如易科罰金，以新臺幣壹仟元折算壹日。</td>\n      <td>臺灣桃園地方法院刑事判決106年度易字第1093號公訴人臺灣桃園地方法院檢察署檢察官被告邱建...</td>\n      <td>邱建豪於民國106年5月1日下午5時15分許，在桃園市○○區○○路000號桃園市政府警察局桃...</td>\n    </tr>\n  </tbody>\n</table>\n</div>"
     },
     "execution_count": 3,
     "metadata": {},
     "output_type": "execute_result"
    }
   ],
   "source": [
    "dic = {\n",
    "    \"id\": 0,\n",
    "    \"court\": [dt[\"court\"]], \n",
    "    \"date\": [dt[\"date\"]],\n",
    "    \"no\": [dt[\"no\"]],\n",
    "    \"sys\": [dt[\"sys\"]],\n",
    "    \"reason\": [dt[\"reason\"]],\n",
    "    \"type\": [dt[\"type\"]],\n",
    "    \"mainText\": [dt[\"mainText\"]],\n",
    "    \"judgement\": [dt[\"judgement\"]],\n",
    "    #\"judgement_SIT\": [dt[\"judgement_SIT\"]],\n",
    "    \"Situation\": [dt[\"Situation\"]]\n",
    "}\n",
    "df = pd.DataFrame(dic)\n",
    "df"
   ]
  },
  {
   "cell_type": "code",
   "execution_count": 4,
   "metadata": {},
   "outputs": [
    {
     "name": "stdout",
     "output_type": "stream",
     "text": [
      "100,中簡,1856\n",
      "100,簡,372\n",
      "100,簡,458\n",
      "101,侵訴,1\n",
      "101,智訴,9\n",
      "103,智訴,4\n",
      "105,中簡,1076\n",
      "105,審易,3746\n",
      "105,易,264\n",
      "105,簡,1724\n",
      "107,審訴緝,48\n",
      "107,訴,394\n"
     ]
    }
   ],
   "source": [
    "for x in range(1,len(json_files)):\n",
    "    with open('J://Legal_Judgment//臺灣新北地方法院_改_V2//'+json_files[x],\"r\",encoding=\"utf-8\") as f:\n",
    "        dt = json.load(f)\n",
    "\n",
    "    try:\n",
    "        if (str(dt[\"judgement\"]).index(str(dt[\"Situation\"])) < 0):\n",
    "            print(\"error1:\" + dt[\"no\"])\n",
    "            continue\n",
    "        if (len(str(dt[\"Situation\"])) > 508):\n",
    "            continue\n",
    "\n",
    "        new = pd.DataFrame({\n",
    "        \"id\" : x,\n",
    "        \"court\": [dt[\"court\"]], \n",
    "        \"date\": [dt[\"date\"]],\n",
    "        \"no\": [dt[\"no\"]],\n",
    "        \"sys\": [dt[\"sys\"]],\n",
    "        \"reason\": [dt[\"reason\"]],\n",
    "        \"type\": [dt[\"type\"]],\n",
    "        \"mainText\": [dt[\"mainText\"]],\n",
    "        \"judgement\": [dt[\"judgement\"]],\n",
    "        #\"judgement_SIT\": [dt[\"judgement_SIT\"]],\n",
    "        \"Situation\": [dt[\"Situation\"]]\n",
    "        })\n",
    "        \n",
    "        df = df.append(new)\n",
    "\n",
    "    except:\n",
    "        print(dt[\"no\"])"
   ]
  },
  {
   "cell_type": "code",
   "execution_count": 5,
   "metadata": {},
   "outputs": [],
   "source": [
    "df.to_csv('J://Legal_Judgment//Result.csv', index=0) "
   ]
  },
  {
   "cell_type": "code",
   "execution_count": 6,
   "outputs": [
    {
     "data": {
      "text/plain": "       court                       date            no sys reason type  \\\nid                                                                      \n0   臺灣桃園地方法院  2018-04-18T00:00:00+08:00    106,易,1093  刑事   妨害公務   判決   \n1   臺灣臺中地方法院  2011-05-19T00:00:00+08:00  100,中交簡,1002  刑事   公共危險   判決   \n\n                                             mainText  \\\nid                                                      \n0             邱建豪犯妨害公務執行罪，累犯，處拘役拾日，如易科罰金，以新臺幣壹仟元折算壹日。   \n1   王炎權服用酒類，不能安全駕駛動力交通工具而駕駛，處拘役伍拾日，如易科罰金，以新臺幣壹仟元折算壹日。   \n\n                                            judgement  \\\nid                                                      \n0   臺灣桃園地方法院刑事判決106年度易字第1093號公訴人臺灣桃園地方法院檢察署檢察官被告邱建...   \n1   臺灣臺中地方法院刑事簡易判決100年度中交簡字第1002號聲請人臺灣臺中地方法院檢察署檢察官...   \n\n                                            Situation  \nid                                                     \n0   邱建豪於民國106年5月1日下午5時15分許，在桃園市○○區○○路000號桃園市政府警察局桃...  \n1   王炎權於民國100年4月8日晚間9時30分許起至翌日凌晨3時許止，在彰化縣芬園鄉○○路○段2...  ",
      "text/html": "<div>\n<style scoped>\n    .dataframe tbody tr th:only-of-type {\n        vertical-align: middle;\n    }\n\n    .dataframe tbody tr th {\n        vertical-align: top;\n    }\n\n    .dataframe thead th {\n        text-align: right;\n    }\n</style>\n<table border=\"1\" class=\"dataframe\">\n  <thead>\n    <tr style=\"text-align: right;\">\n      <th></th>\n      <th>court</th>\n      <th>date</th>\n      <th>no</th>\n      <th>sys</th>\n      <th>reason</th>\n      <th>type</th>\n      <th>mainText</th>\n      <th>judgement</th>\n      <th>Situation</th>\n    </tr>\n    <tr>\n      <th>id</th>\n      <th></th>\n      <th></th>\n      <th></th>\n      <th></th>\n      <th></th>\n      <th></th>\n      <th></th>\n      <th></th>\n      <th></th>\n    </tr>\n  </thead>\n  <tbody>\n    <tr>\n      <td>0</td>\n      <td>臺灣桃園地方法院</td>\n      <td>2018-04-18T00:00:00+08:00</td>\n      <td>106,易,1093</td>\n      <td>刑事</td>\n      <td>妨害公務</td>\n      <td>判決</td>\n      <td>邱建豪犯妨害公務執行罪，累犯，處拘役拾日，如易科罰金，以新臺幣壹仟元折算壹日。</td>\n      <td>臺灣桃園地方法院刑事判決106年度易字第1093號公訴人臺灣桃園地方法院檢察署檢察官被告邱建...</td>\n      <td>邱建豪於民國106年5月1日下午5時15分許，在桃園市○○區○○路000號桃園市政府警察局桃...</td>\n    </tr>\n    <tr>\n      <td>1</td>\n      <td>臺灣臺中地方法院</td>\n      <td>2011-05-19T00:00:00+08:00</td>\n      <td>100,中交簡,1002</td>\n      <td>刑事</td>\n      <td>公共危險</td>\n      <td>判決</td>\n      <td>王炎權服用酒類，不能安全駕駛動力交通工具而駕駛，處拘役伍拾日，如易科罰金，以新臺幣壹仟元折算壹日。</td>\n      <td>臺灣臺中地方法院刑事簡易判決100年度中交簡字第1002號聲請人臺灣臺中地方法院檢察署檢察官...</td>\n      <td>王炎權於民國100年4月8日晚間9時30分許起至翌日凌晨3時許止，在彰化縣芬園鄉○○路○段2...</td>\n    </tr>\n  </tbody>\n</table>\n</div>"
     },
     "execution_count": 6,
     "metadata": {},
     "output_type": "execute_result"
    }
   ],
   "source": [
    "df = pd.read_csv('J://Legal_Judgment//Result.csv', index_col=0)\n",
    "test = pd.read_csv('.//QA_Test1//HBert//dataV3//Test500.csv')\n",
    "df.head(2)"
   ],
   "metadata": {
    "collapsed": false,
    "pycharm": {
     "name": "#%%\n"
    }
   }
  },
  {
   "cell_type": "code",
   "execution_count": 7,
   "outputs": [],
   "source": [
    "df['reason'] = df['reason'].str.replace('等','')\n",
    "df['reason'] = df['reason'].str.replace(\"條例\",\"\")\n",
    "df['reason'] = df['reason'].str.replace(\"違反\",\"\")"
   ],
   "metadata": {
    "collapsed": false,
    "pycharm": {
     "name": "#%%\n"
    }
   }
  },
  {
   "cell_type": "code",
   "execution_count": 8,
   "outputs": [
    {
     "data": {
      "text/plain": "Empty DataFrame\nColumns: [court, date, no, sys, reason, type, mainText, judgement, Situation]\nIndex: []",
      "text/html": "<div>\n<style scoped>\n    .dataframe tbody tr th:only-of-type {\n        vertical-align: middle;\n    }\n\n    .dataframe tbody tr th {\n        vertical-align: top;\n    }\n\n    .dataframe thead th {\n        text-align: right;\n    }\n</style>\n<table border=\"1\" class=\"dataframe\">\n  <thead>\n    <tr style=\"text-align: right;\">\n      <th></th>\n      <th>court</th>\n      <th>date</th>\n      <th>no</th>\n      <th>sys</th>\n      <th>reason</th>\n      <th>type</th>\n      <th>mainText</th>\n      <th>judgement</th>\n      <th>Situation</th>\n    </tr>\n    <tr>\n      <th>id</th>\n      <th></th>\n      <th></th>\n      <th></th>\n      <th></th>\n      <th></th>\n      <th></th>\n      <th></th>\n      <th></th>\n      <th></th>\n    </tr>\n  </thead>\n  <tbody>\n  </tbody>\n</table>\n</div>"
     },
     "execution_count": 8,
     "metadata": {},
     "output_type": "execute_result"
    }
   ],
   "source": [
    "df[df['Situation'].str.len() > 512]"
   ],
   "metadata": {
    "collapsed": false,
    "pycharm": {
     "name": "#%%\n"
    }
   }
  },
  {
   "cell_type": "code",
   "execution_count": 9,
   "outputs": [
    {
     "data": {
      "text/plain": "公共危險        344\n毀損          333\n妨害公務        319\n妨害名譽        297\n妨害自由        249\n傷害          238\n侵占          224\n過失傷害        214\n搶奪          204\n竊盜          194\n妨害風化        189\n著作權法        162\n偽造文書        156\n強盜          126\n妨害性自主        91\n妨害性自主罪       76\n毒品危害防制       66\n毀棄損壞         36\n詐欺           11\n過失致死          7\n賭博            5\n貪污            4\n槍砲彈藥刀械管制      4\n醫師法           3\n殺人未遂          3\n藥事法           2\n恐嚇            1\n偽證            1\n替代役實施         1\n殺人            1\n商標法           1\nName: reason, dtype: int64"
     },
     "execution_count": 9,
     "metadata": {},
     "output_type": "execute_result"
    }
   ],
   "source": [
    "df.loc[:,'reason'].value_counts()"
   ],
   "metadata": {
    "collapsed": false,
    "pycharm": {
     "name": "#%%\n"
    }
   }
  },
  {
   "cell_type": "code",
   "execution_count": 10,
   "outputs": [
    {
     "data": {
      "text/plain": "     id     court                       date           no sys  reason type  \\\n0  3106  臺灣高雄地方法院  2017-10-19T00:00:00+08:00    106,智簡,23  刑事  違反著作權法   判決   \n1   446  臺灣新北地方法院  2014-12-24T00:00:00+08:00   103,訴,1235  刑事      搶奪   判決   \n2  1194  臺灣臺中地方法院  2016-07-28T00:00:00+08:00   105,審原易,30  刑事      竊盜   判決   \n3  1273  臺灣臺中地方法院  2016-06-16T00:00:00+08:00  105,審易,1249  刑事      竊盜   判決   \n4  1093  臺灣臺中地方法院  2016-09-14T00:00:00+08:00    105,侵訴,40  刑事  妨害性自主罪   判決   \n\n                                            mainText  \\\n0  賴憶萱犯著作權法第九十二條之侵害著作財產權罪，處拘役貳拾日，如易科罰金，以新臺幣壹仟元折算壹...   \n1               丁○○共同意圖為自己不法之所有，而搶奪他人之動產，累犯，處有期徒刑玖月。   \n2  李承恩犯踰越安全設備竊盜罪，處有期徒刑陸月，如易科罰金，以新臺幣壹仟元折算壹日。減為有期徒刑...   \n3  潘成峯犯竊盜罪，累犯，處有期徒刑伍月，如易科罰金，以新臺幣壹仟元折算壹日；又犯竊盜罪，累犯，...   \n4                          丙○○犯強制性交未遂罪，累犯，處有期徒刑壹年拾月。   \n\n                                           judgement  \\\n0  臺灣高雄地方法院刑事簡易判決106年度智簡字第23號聲請人臺灣高雄地方法院檢察署檢察官被告賴...   \n1  臺灣新北地方法院刑事判決103年度訴字第1235號公訴人臺灣新北地方法院檢察署檢察官被告魏柏...   \n2  臺灣臺中地方法院刑事判決105年度審原易字第30號公訴人臺灣臺中地方法院檢察署檢察官被告李承...   \n3  臺灣臺中地方法院刑事判決105年度審易字第1249號公訴人臺灣臺中地方法院檢察署檢察官被告潘...   \n4  臺灣臺中地方法院刑事判決105年度侵訴字第40號公訴人臺灣臺中地方法院檢察署檢察官被告陳學慶...   \n\n                                           Situation  \n0  賴憶萱明知鄭嘉峰所拍攝「Gildan品牌T恤」照片30張係鄭嘉峰享有著作財產權之攝影著作，未...  \n1  詎猶不知悔改，其與王禮鴻（業經本院另案以102年度訴字第647號判決）共同意圖為自己不法所有...  \n2  李承恩基於意圖為自己不法所有之竊盜犯意，於民國95年12月4日15、16時許，至臺中市○里區...  \n3  詎潘成峯因缺錢花用，竟意圖為自己不法之所有，基於竊盜之各別犯意，分別為下列犯行：(一)於10...  \n4  丙○○前於民國100年間，因竊盜案件，經法院判處有期徒刑1月15日，並於100年11月18日...  ",
      "text/html": "<div>\n<style scoped>\n    .dataframe tbody tr th:only-of-type {\n        vertical-align: middle;\n    }\n\n    .dataframe tbody tr th {\n        vertical-align: top;\n    }\n\n    .dataframe thead th {\n        text-align: right;\n    }\n</style>\n<table border=\"1\" class=\"dataframe\">\n  <thead>\n    <tr style=\"text-align: right;\">\n      <th></th>\n      <th>id</th>\n      <th>court</th>\n      <th>date</th>\n      <th>no</th>\n      <th>sys</th>\n      <th>reason</th>\n      <th>type</th>\n      <th>mainText</th>\n      <th>judgement</th>\n      <th>Situation</th>\n    </tr>\n  </thead>\n  <tbody>\n    <tr>\n      <td>0</td>\n      <td>3106</td>\n      <td>臺灣高雄地方法院</td>\n      <td>2017-10-19T00:00:00+08:00</td>\n      <td>106,智簡,23</td>\n      <td>刑事</td>\n      <td>違反著作權法</td>\n      <td>判決</td>\n      <td>賴憶萱犯著作權法第九十二條之侵害著作財產權罪，處拘役貳拾日，如易科罰金，以新臺幣壹仟元折算壹...</td>\n      <td>臺灣高雄地方法院刑事簡易判決106年度智簡字第23號聲請人臺灣高雄地方法院檢察署檢察官被告賴...</td>\n      <td>賴憶萱明知鄭嘉峰所拍攝「Gildan品牌T恤」照片30張係鄭嘉峰享有著作財產權之攝影著作，未...</td>\n    </tr>\n    <tr>\n      <td>1</td>\n      <td>446</td>\n      <td>臺灣新北地方法院</td>\n      <td>2014-12-24T00:00:00+08:00</td>\n      <td>103,訴,1235</td>\n      <td>刑事</td>\n      <td>搶奪</td>\n      <td>判決</td>\n      <td>丁○○共同意圖為自己不法之所有，而搶奪他人之動產，累犯，處有期徒刑玖月。</td>\n      <td>臺灣新北地方法院刑事判決103年度訴字第1235號公訴人臺灣新北地方法院檢察署檢察官被告魏柏...</td>\n      <td>詎猶不知悔改，其與王禮鴻（業經本院另案以102年度訴字第647號判決）共同意圖為自己不法所有...</td>\n    </tr>\n    <tr>\n      <td>2</td>\n      <td>1194</td>\n      <td>臺灣臺中地方法院</td>\n      <td>2016-07-28T00:00:00+08:00</td>\n      <td>105,審原易,30</td>\n      <td>刑事</td>\n      <td>竊盜</td>\n      <td>判決</td>\n      <td>李承恩犯踰越安全設備竊盜罪，處有期徒刑陸月，如易科罰金，以新臺幣壹仟元折算壹日。減為有期徒刑...</td>\n      <td>臺灣臺中地方法院刑事判決105年度審原易字第30號公訴人臺灣臺中地方法院檢察署檢察官被告李承...</td>\n      <td>李承恩基於意圖為自己不法所有之竊盜犯意，於民國95年12月4日15、16時許，至臺中市○里區...</td>\n    </tr>\n    <tr>\n      <td>3</td>\n      <td>1273</td>\n      <td>臺灣臺中地方法院</td>\n      <td>2016-06-16T00:00:00+08:00</td>\n      <td>105,審易,1249</td>\n      <td>刑事</td>\n      <td>竊盜</td>\n      <td>判決</td>\n      <td>潘成峯犯竊盜罪，累犯，處有期徒刑伍月，如易科罰金，以新臺幣壹仟元折算壹日；又犯竊盜罪，累犯，...</td>\n      <td>臺灣臺中地方法院刑事判決105年度審易字第1249號公訴人臺灣臺中地方法院檢察署檢察官被告潘...</td>\n      <td>詎潘成峯因缺錢花用，竟意圖為自己不法之所有，基於竊盜之各別犯意，分別為下列犯行：(一)於10...</td>\n    </tr>\n    <tr>\n      <td>4</td>\n      <td>1093</td>\n      <td>臺灣臺中地方法院</td>\n      <td>2016-09-14T00:00:00+08:00</td>\n      <td>105,侵訴,40</td>\n      <td>刑事</td>\n      <td>妨害性自主罪</td>\n      <td>判決</td>\n      <td>丙○○犯強制性交未遂罪，累犯，處有期徒刑壹年拾月。</td>\n      <td>臺灣臺中地方法院刑事判決105年度侵訴字第40號公訴人臺灣臺中地方法院檢察署檢察官被告陳學慶...</td>\n      <td>丙○○前於民國100年間，因竊盜案件，經法院判處有期徒刑1月15日，並於100年11月18日...</td>\n    </tr>\n  </tbody>\n</table>\n</div>"
     },
     "execution_count": 10,
     "metadata": {},
     "output_type": "execute_result"
    }
   ],
   "source": [
    "test.head()"
   ],
   "metadata": {
    "collapsed": false,
    "pycharm": {
     "name": "#%%\n"
    }
   }
  },
  {
   "cell_type": "code",
   "execution_count": 11,
   "outputs": [
    {
     "data": {
      "text/plain": "Empty DataFrame\nColumns: [id, court, date, no, sys, reason, type, mainText, judgement, Situation]\nIndex: []",
      "text/html": "<div>\n<style scoped>\n    .dataframe tbody tr th:only-of-type {\n        vertical-align: middle;\n    }\n\n    .dataframe tbody tr th {\n        vertical-align: top;\n    }\n\n    .dataframe thead th {\n        text-align: right;\n    }\n</style>\n<table border=\"1\" class=\"dataframe\">\n  <thead>\n    <tr style=\"text-align: right;\">\n      <th></th>\n      <th>id</th>\n      <th>court</th>\n      <th>date</th>\n      <th>no</th>\n      <th>sys</th>\n      <th>reason</th>\n      <th>type</th>\n      <th>mainText</th>\n      <th>judgement</th>\n      <th>Situation</th>\n    </tr>\n  </thead>\n  <tbody>\n  </tbody>\n</table>\n</div>"
     },
     "execution_count": 11,
     "metadata": {},
     "output_type": "execute_result"
    }
   ],
   "source": [
    "test2 = test[test['Situation'].str.len() > 512]\n",
    "test2.head()\n",
    "#test2.to_csv('J://Legal_Judgment//test513.csv', index=0) "
   ],
   "metadata": {
    "collapsed": false,
    "pycharm": {
     "name": "#%%\n"
    }
   }
  },
  {
   "cell_type": "code",
   "execution_count": 12,
   "outputs": [
    {
     "data": {
      "text/plain": "court        3020\ndate         3020\nno           3020\nsys          3020\nreason       3020\ntype         3020\nmainText     3020\njudgement    3020\nSituation    3020\ndtype: int64"
     },
     "execution_count": 12,
     "metadata": {},
     "output_type": "execute_result"
    }
   ],
   "source": [
    "tmp = df[~df['no'].isin(test['no'])]\n",
    "tmp = tmp.dropna()\n",
    "tmp.count()"
   ],
   "metadata": {
    "collapsed": false,
    "pycharm": {
     "name": "#%%\n"
    }
   }
  },
  {
   "cell_type": "code",
   "execution_count": 13,
   "outputs": [
    {
     "data": {
      "text/plain": "         court                       date            no sys reason type  \\\nid                                                                        \n1965  臺灣臺中地方法院  2016-11-21T00:00:00+08:00      105,易,65  刑事   妨害名譽   判決   \n3745  臺灣桃園地方法院  2018-12-24T00:00:00+08:00    107,審易緝,58  刑事   妨害自由   判決   \n589   臺灣臺中地方法院  2016-04-28T00:00:00+08:00  105,中交簡,1159  刑事   公共危險   判決   \n2200  臺灣高雄地方法院  2016-06-03T00:00:00+08:00    105,簡,1968  刑事   妨害公務   判決   \n3083  臺灣臺中地方法院  2017-12-14T00:00:00+08:00    106,易,3719  刑事   妨害名譽   判決   \n\n                                               mainText  \\\nid                                                        \n1965  廖嬌珠共同犯公然侮辱罪，處拘役拾日，如易科罰金，以新臺幣壹仟元折算壹日。\\n楊賢明共同犯公然...   \n3745                                           本件公訴不受理。   \n589   林建標駕駛動力交通工具而吐氣所含酒精濃度達每公升零點二五毫克以上，處有期徒刑貳月，併科罰金新...   \n2200          池貴顯犯妨害公務執行罪，累犯，處有期徒刑參月，如易科罰金，以新臺幣壹仟元折算壹日。   \n3083                                             邵俊謙無罪。   \n\n                                              judgement  \\\nid                                                        \n1965  臺灣臺中地方法院刑事判決105年度易字第65號公訴人臺灣臺中地方法院檢察署檢察官被告廖嬌珠楊...   \n3745  臺灣桃園地方法院刑事判決107年度審易緝字第58號公訴人臺灣桃園地方檢察署檢察官被告吳俊賢（...   \n589   臺灣臺中地方法院刑事簡易判決105年度中交簡字第1159號聲請人臺灣臺中地方法院檢察署檢察官...   \n2200  臺灣高雄地方法院刑事簡易判決105年度簡字第1968號聲請人臺灣高雄地方法院檢察署檢察官被告...   \n3083  臺灣臺中地方法院刑事判決106年度易字第3719號公訴人臺灣臺中地方法院檢察署檢察官被告邵俊...   \n\n                                              Situation  \nid                                                       \n1965  廖嬌珠與楊賢明係夫妻，其等與林阿滿為鄰居，前因細故發生糾紛，廖嬌珠、楊賢明竟基於公然侮辱之犯...  \n3745  被告吳俊賢與告訴人陳世萍之孫女陳品薇前為男女朋友，二人於民國105年1月中旬分手；分手後，陳...  \n589   林建標於民國105年4月9日晚上9時30分許，在臺中市中平路與大鵬路口附近之燒烤店內，飲用啤...  \n2200  池貴顯於民國104年11月28日上午10時50分許，在高雄市○○區○○街0巷00號前飲酒，適...  \n3083  被告邵俊謙與告訴人洪星蕾為前男女朋友，兩人因感情等問題而生糾紛，被告因此心生不滿，竟基於意圖...  ",
      "text/html": "<div>\n<style scoped>\n    .dataframe tbody tr th:only-of-type {\n        vertical-align: middle;\n    }\n\n    .dataframe tbody tr th {\n        vertical-align: top;\n    }\n\n    .dataframe thead th {\n        text-align: right;\n    }\n</style>\n<table border=\"1\" class=\"dataframe\">\n  <thead>\n    <tr style=\"text-align: right;\">\n      <th></th>\n      <th>court</th>\n      <th>date</th>\n      <th>no</th>\n      <th>sys</th>\n      <th>reason</th>\n      <th>type</th>\n      <th>mainText</th>\n      <th>judgement</th>\n      <th>Situation</th>\n    </tr>\n    <tr>\n      <th>id</th>\n      <th></th>\n      <th></th>\n      <th></th>\n      <th></th>\n      <th></th>\n      <th></th>\n      <th></th>\n      <th></th>\n      <th></th>\n    </tr>\n  </thead>\n  <tbody>\n    <tr>\n      <td>1965</td>\n      <td>臺灣臺中地方法院</td>\n      <td>2016-11-21T00:00:00+08:00</td>\n      <td>105,易,65</td>\n      <td>刑事</td>\n      <td>妨害名譽</td>\n      <td>判決</td>\n      <td>廖嬌珠共同犯公然侮辱罪，處拘役拾日，如易科罰金，以新臺幣壹仟元折算壹日。\\n楊賢明共同犯公然...</td>\n      <td>臺灣臺中地方法院刑事判決105年度易字第65號公訴人臺灣臺中地方法院檢察署檢察官被告廖嬌珠楊...</td>\n      <td>廖嬌珠與楊賢明係夫妻，其等與林阿滿為鄰居，前因細故發生糾紛，廖嬌珠、楊賢明竟基於公然侮辱之犯...</td>\n    </tr>\n    <tr>\n      <td>3745</td>\n      <td>臺灣桃園地方法院</td>\n      <td>2018-12-24T00:00:00+08:00</td>\n      <td>107,審易緝,58</td>\n      <td>刑事</td>\n      <td>妨害自由</td>\n      <td>判決</td>\n      <td>本件公訴不受理。</td>\n      <td>臺灣桃園地方法院刑事判決107年度審易緝字第58號公訴人臺灣桃園地方檢察署檢察官被告吳俊賢（...</td>\n      <td>被告吳俊賢與告訴人陳世萍之孫女陳品薇前為男女朋友，二人於民國105年1月中旬分手；分手後，陳...</td>\n    </tr>\n    <tr>\n      <td>589</td>\n      <td>臺灣臺中地方法院</td>\n      <td>2016-04-28T00:00:00+08:00</td>\n      <td>105,中交簡,1159</td>\n      <td>刑事</td>\n      <td>公共危險</td>\n      <td>判決</td>\n      <td>林建標駕駛動力交通工具而吐氣所含酒精濃度達每公升零點二五毫克以上，處有期徒刑貳月，併科罰金新...</td>\n      <td>臺灣臺中地方法院刑事簡易判決105年度中交簡字第1159號聲請人臺灣臺中地方法院檢察署檢察官...</td>\n      <td>林建標於民國105年4月9日晚上9時30分許，在臺中市中平路與大鵬路口附近之燒烤店內，飲用啤...</td>\n    </tr>\n    <tr>\n      <td>2200</td>\n      <td>臺灣高雄地方法院</td>\n      <td>2016-06-03T00:00:00+08:00</td>\n      <td>105,簡,1968</td>\n      <td>刑事</td>\n      <td>妨害公務</td>\n      <td>判決</td>\n      <td>池貴顯犯妨害公務執行罪，累犯，處有期徒刑參月，如易科罰金，以新臺幣壹仟元折算壹日。</td>\n      <td>臺灣高雄地方法院刑事簡易判決105年度簡字第1968號聲請人臺灣高雄地方法院檢察署檢察官被告...</td>\n      <td>池貴顯於民國104年11月28日上午10時50分許，在高雄市○○區○○街0巷00號前飲酒，適...</td>\n    </tr>\n    <tr>\n      <td>3083</td>\n      <td>臺灣臺中地方法院</td>\n      <td>2017-12-14T00:00:00+08:00</td>\n      <td>106,易,3719</td>\n      <td>刑事</td>\n      <td>妨害名譽</td>\n      <td>判決</td>\n      <td>邵俊謙無罪。</td>\n      <td>臺灣臺中地方法院刑事判決106年度易字第3719號公訴人臺灣臺中地方法院檢察署檢察官被告邵俊...</td>\n      <td>被告邵俊謙與告訴人洪星蕾為前男女朋友，兩人因感情等問題而生糾紛，被告因此心生不滿，竟基於意圖...</td>\n    </tr>\n  </tbody>\n</table>\n</div>"
     },
     "execution_count": 13,
     "metadata": {},
     "output_type": "execute_result"
    }
   ],
   "source": [
    "##拆分df\n",
    "df1=tmp.sample(n=train_num)#按0.6比例随机采样\n",
    "df1.head()"
   ],
   "metadata": {
    "collapsed": false,
    "pycharm": {
     "name": "#%%\n"
    }
   }
  },
  {
   "cell_type": "code",
   "execution_count": 14,
   "outputs": [
    {
     "data": {
      "text/plain": "court        3000\ndate         3000\nno           3000\nsys          3000\nreason       3000\ntype         3000\nmainText     3000\njudgement    3000\nSituation    3000\ndtype: int64"
     },
     "execution_count": 14,
     "metadata": {},
     "output_type": "execute_result"
    }
   ],
   "source": [
    "df1.count()"
   ],
   "metadata": {
    "collapsed": false,
    "pycharm": {
     "name": "#%%\n"
    }
   }
  },
  {
   "cell_type": "code",
   "execution_count": 15,
   "outputs": [
    {
     "data": {
      "text/plain": "court        0\ndate         0\nno           0\nsys          0\nreason       0\ntype         0\nmainText     0\njudgement    0\nSituation    0\ndtype: int64"
     },
     "execution_count": 15,
     "metadata": {},
     "output_type": "execute_result"
    }
   ],
   "source": [
    "df1[df1['Situation'].str.len() > 512].count()"
   ],
   "metadata": {
    "collapsed": false,
    "pycharm": {
     "name": "#%%\n"
    }
   }
  },
  {
   "cell_type": "code",
   "execution_count": 16,
   "outputs": [
    {
     "data": {
      "text/plain": "     id     court                       date           no sys  reason type  \\\n0  3106  臺灣高雄地方法院  2017-10-19T00:00:00+08:00    106,智簡,23  刑事  違反著作權法   判決   \n1   446  臺灣新北地方法院  2014-12-24T00:00:00+08:00   103,訴,1235  刑事      搶奪   判決   \n2  1194  臺灣臺中地方法院  2016-07-28T00:00:00+08:00   105,審原易,30  刑事      竊盜   判決   \n3  1273  臺灣臺中地方法院  2016-06-16T00:00:00+08:00  105,審易,1249  刑事      竊盜   判決   \n4  1093  臺灣臺中地方法院  2016-09-14T00:00:00+08:00    105,侵訴,40  刑事  妨害性自主罪   判決   \n\n                                            mainText  \\\n0  賴憶萱犯著作權法第九十二條之侵害著作財產權罪，處拘役貳拾日，如易科罰金，以新臺幣壹仟元折算壹...   \n1               丁○○共同意圖為自己不法之所有，而搶奪他人之動產，累犯，處有期徒刑玖月。   \n2  李承恩犯踰越安全設備竊盜罪，處有期徒刑陸月，如易科罰金，以新臺幣壹仟元折算壹日。減為有期徒刑...   \n3  潘成峯犯竊盜罪，累犯，處有期徒刑伍月，如易科罰金，以新臺幣壹仟元折算壹日；又犯竊盜罪，累犯，...   \n4                          丙○○犯強制性交未遂罪，累犯，處有期徒刑壹年拾月。   \n\n                                           judgement  \\\n0  臺灣高雄地方法院刑事簡易判決106年度智簡字第23號聲請人臺灣高雄地方法院檢察署檢察官被告賴...   \n1  臺灣新北地方法院刑事判決103年度訴字第1235號公訴人臺灣新北地方法院檢察署檢察官被告魏柏...   \n2  臺灣臺中地方法院刑事判決105年度審原易字第30號公訴人臺灣臺中地方法院檢察署檢察官被告李承...   \n3  臺灣臺中地方法院刑事判決105年度審易字第1249號公訴人臺灣臺中地方法院檢察署檢察官被告潘...   \n4  臺灣臺中地方法院刑事判決105年度侵訴字第40號公訴人臺灣臺中地方法院檢察署檢察官被告陳學慶...   \n\n                                           Situation  \n0  賴憶萱明知鄭嘉峰所拍攝「Gildan品牌T恤」照片30張係鄭嘉峰享有著作財產權之攝影著作，未...  \n1  詎猶不知悔改，其與王禮鴻（業經本院另案以102年度訴字第647號判決）共同意圖為自己不法所有...  \n2  李承恩基於意圖為自己不法所有之竊盜犯意，於民國95年12月4日15、16時許，至臺中市○里區...  \n3  詎潘成峯因缺錢花用，竟意圖為自己不法之所有，基於竊盜之各別犯意，分別為下列犯行：(一)於10...  \n4  丙○○前於民國100年間，因竊盜案件，經法院判處有期徒刑1月15日，並於100年11月18日...  ",
      "text/html": "<div>\n<style scoped>\n    .dataframe tbody tr th:only-of-type {\n        vertical-align: middle;\n    }\n\n    .dataframe tbody tr th {\n        vertical-align: top;\n    }\n\n    .dataframe thead th {\n        text-align: right;\n    }\n</style>\n<table border=\"1\" class=\"dataframe\">\n  <thead>\n    <tr style=\"text-align: right;\">\n      <th></th>\n      <th>id</th>\n      <th>court</th>\n      <th>date</th>\n      <th>no</th>\n      <th>sys</th>\n      <th>reason</th>\n      <th>type</th>\n      <th>mainText</th>\n      <th>judgement</th>\n      <th>Situation</th>\n    </tr>\n  </thead>\n  <tbody>\n    <tr>\n      <td>0</td>\n      <td>3106</td>\n      <td>臺灣高雄地方法院</td>\n      <td>2017-10-19T00:00:00+08:00</td>\n      <td>106,智簡,23</td>\n      <td>刑事</td>\n      <td>違反著作權法</td>\n      <td>判決</td>\n      <td>賴憶萱犯著作權法第九十二條之侵害著作財產權罪，處拘役貳拾日，如易科罰金，以新臺幣壹仟元折算壹...</td>\n      <td>臺灣高雄地方法院刑事簡易判決106年度智簡字第23號聲請人臺灣高雄地方法院檢察署檢察官被告賴...</td>\n      <td>賴憶萱明知鄭嘉峰所拍攝「Gildan品牌T恤」照片30張係鄭嘉峰享有著作財產權之攝影著作，未...</td>\n    </tr>\n    <tr>\n      <td>1</td>\n      <td>446</td>\n      <td>臺灣新北地方法院</td>\n      <td>2014-12-24T00:00:00+08:00</td>\n      <td>103,訴,1235</td>\n      <td>刑事</td>\n      <td>搶奪</td>\n      <td>判決</td>\n      <td>丁○○共同意圖為自己不法之所有，而搶奪他人之動產，累犯，處有期徒刑玖月。</td>\n      <td>臺灣新北地方法院刑事判決103年度訴字第1235號公訴人臺灣新北地方法院檢察署檢察官被告魏柏...</td>\n      <td>詎猶不知悔改，其與王禮鴻（業經本院另案以102年度訴字第647號判決）共同意圖為自己不法所有...</td>\n    </tr>\n    <tr>\n      <td>2</td>\n      <td>1194</td>\n      <td>臺灣臺中地方法院</td>\n      <td>2016-07-28T00:00:00+08:00</td>\n      <td>105,審原易,30</td>\n      <td>刑事</td>\n      <td>竊盜</td>\n      <td>判決</td>\n      <td>李承恩犯踰越安全設備竊盜罪，處有期徒刑陸月，如易科罰金，以新臺幣壹仟元折算壹日。減為有期徒刑...</td>\n      <td>臺灣臺中地方法院刑事判決105年度審原易字第30號公訴人臺灣臺中地方法院檢察署檢察官被告李承...</td>\n      <td>李承恩基於意圖為自己不法所有之竊盜犯意，於民國95年12月4日15、16時許，至臺中市○里區...</td>\n    </tr>\n    <tr>\n      <td>3</td>\n      <td>1273</td>\n      <td>臺灣臺中地方法院</td>\n      <td>2016-06-16T00:00:00+08:00</td>\n      <td>105,審易,1249</td>\n      <td>刑事</td>\n      <td>竊盜</td>\n      <td>判決</td>\n      <td>潘成峯犯竊盜罪，累犯，處有期徒刑伍月，如易科罰金，以新臺幣壹仟元折算壹日；又犯竊盜罪，累犯，...</td>\n      <td>臺灣臺中地方法院刑事判決105年度審易字第1249號公訴人臺灣臺中地方法院檢察署檢察官被告潘...</td>\n      <td>詎潘成峯因缺錢花用，竟意圖為自己不法之所有，基於竊盜之各別犯意，分別為下列犯行：(一)於10...</td>\n    </tr>\n    <tr>\n      <td>4</td>\n      <td>1093</td>\n      <td>臺灣臺中地方法院</td>\n      <td>2016-09-14T00:00:00+08:00</td>\n      <td>105,侵訴,40</td>\n      <td>刑事</td>\n      <td>妨害性自主罪</td>\n      <td>判決</td>\n      <td>丙○○犯強制性交未遂罪，累犯，處有期徒刑壹年拾月。</td>\n      <td>臺灣臺中地方法院刑事判決105年度侵訴字第40號公訴人臺灣臺中地方法院檢察署檢察官被告陳學慶...</td>\n      <td>丙○○前於民國100年間，因竊盜案件，經法院判處有期徒刑1月15日，並於100年11月18日...</td>\n    </tr>\n  </tbody>\n</table>\n</div>"
     },
     "execution_count": 16,
     "metadata": {},
     "output_type": "execute_result"
    }
   ],
   "source": [
    "df2=test\n",
    "df2.head()"
   ],
   "metadata": {
    "collapsed": false,
    "pycharm": {
     "name": "#%%\n"
    }
   }
  },
  {
   "cell_type": "code",
   "execution_count": 17,
   "outputs": [],
   "source": [
    "class Data(object):\n",
    "    def __init__(self):\n",
    "        self.paragraphs = []\n",
    "        self.id = \"0\"\n",
    "        self.title = \"\"\n",
    "\n",
    "class Djson(object):\n",
    "    def __init__(self):\n",
    "        self.version = \"v1.0\"\n",
    "        self.data = []\n",
    " "
   ],
   "metadata": {
    "collapsed": false,
    "pycharm": {
     "name": "#%%\n"
    }
   }
  },
  {
   "cell_type": "code",
   "execution_count": 18,
   "outputs": [],
   "source": [
    "djson1 = Djson()\n",
    "for index, row in df1.iterrows():\n",
    "    try:\n",
    "        if (row.judgement.index(row.Situation) < 0):\n",
    "            print(index)\n",
    "            print(row.no)\n",
    "\n",
    "        d = Data()\n",
    "        d.paragraphs = [{\"id\" : \"TRAIN_\" + str(index),\n",
    "                      #\"context\" : row.reason + \"[SEP]\" + row.judgement, \n",
    "                      \"context\" : row.judgement, \n",
    "                      \"qas\":[{\n",
    "                          \"question\" :\"?\",\n",
    "                          \"id\" : \"TRAIN_\" + str(index) + \"_QUERY_0\",\n",
    "                          \"answers\" :[{\n",
    "                              \"text\" : row.Situation,\n",
    "                              \"answer_start\" : row.judgement.index(row.Situation) #+ len(row.reason + \"[SET]\")\n",
    "                          }]\n",
    "                      }]\n",
    "                    }\n",
    "                    ]\n",
    "        d.id = \"TRAIN_\" + str(index)\n",
    "        d.title = row.no\n",
    "        djson1.data.append(d)\n",
    "    except:\n",
    "        print(index)\n",
    "        print(row.no)"
   ],
   "metadata": {
    "collapsed": false,
    "pycharm": {
     "name": "#%%\n"
    }
   }
  },
  {
   "cell_type": "code",
   "execution_count": 19,
   "outputs": [],
   "source": [
    "y = json.dumps(djson1, default=lambda o: o.__dict__, ensure_ascii=False)"
   ],
   "metadata": {
    "collapsed": false,
    "pycharm": {
     "name": "#%%\n"
    }
   }
  },
  {
   "cell_type": "code",
   "execution_count": 20,
   "outputs": [],
   "source": [
    "with open('./QA_Test1/HBert/dataV3/train_'+ str(train_num) + '.json', 'w', encoding='utf8') as outfile:\n",
    "    json.dump(djson1, outfile, default=lambda o: o.__dict__ , ensure_ascii=False)\n",
    "    "
   ],
   "metadata": {
    "collapsed": false,
    "pycharm": {
     "name": "#%%\n"
    }
   }
  },
  {
   "cell_type": "code",
   "execution_count": 21,
   "outputs": [
    {
     "name": "stdout",
     "output_type": "stream",
     "text": [
      "15\n"
     ]
    }
   ],
   "source": [
    "str = '0000000-0000000'\n",
    "print(len(str))"
   ],
   "metadata": {
    "collapsed": false,
    "pycharm": {
     "name": "#%%\n"
    }
   }
  }
 ],
 "metadata": {
  "kernelspec": {
   "display_name": "Python 3",
   "language": "python",
   "name": "python3"
  },
  "language_info": {
   "codemirror_mode": {
    "name": "ipython",
    "version": 3
   },
   "file_extension": ".py",
   "mimetype": "text/x-python",
   "name": "python",
   "nbconvert_exporter": "python",
   "pygments_lexer": "ipython3",
   "version": "3.6.4"
  }
 },
 "nbformat": 4,
 "nbformat_minor": 2
}