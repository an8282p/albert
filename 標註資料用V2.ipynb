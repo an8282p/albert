{
 "cells": [
  {
   "cell_type": "code",
   "execution_count": 97,
   "metadata": {
    "pycharm": {
     "is_executing": false
    }
   },
   "outputs": [
    {
     "name": "stdout",
     "text": [
      "刑事判決_100,中交簡,1002_2011-05-19.json\n"
     ],
     "output_type": "stream"
    }
   ],
   "source": [
    "import os, json \n",
    "import pandas as pd \n",
    "\n",
    "train_num = 1000\n",
    "\n",
    "path_to_json = 'J:\\Legal_Judgment\\臺灣新北地方法院_改' \n",
    "json_files = [pos_json for pos_json in os.listdir(path_to_json) if pos_json.endswith('.json')] \n",
    "print(json_files[0])"
   ]
  },
  {
   "cell_type": "code",
   "execution_count": 98,
   "metadata": {
    "pycharm": {
     "is_executing": false
    }
   },
   "outputs": [],
   "source": [
    "with open('J://Legal_Judgment//臺灣新北地方法院_改//'+json_files[0],\"r\",encoding=\"utf-8\") as f:\n",
    "    dt = json.load(f)"
   ]
  },
  {
   "cell_type": "code",
   "execution_count": 99,
   "metadata": {
    "pycharm": {
     "is_executing": false
    }
   },
   "outputs": [
    {
     "data": {
      "text/plain": "   id     court                       date            no sys reason type  \\\n0   0  臺灣臺中地方法院  2011-05-19T00:00:00+08:00  100,中交簡,1002  刑事   公共危險   判決   \n\n                                            mainText  \\\n0  王炎權服用酒類，不能安全駕駛動力交通工具而駕駛，處拘役伍拾日，如易科罰金，以新臺幣壹仟元折算壹日。   \n\n                                           judgement  \\\n0  臺灣臺中地方法院刑事簡易判決100年度中交簡字第1002號聲請人臺灣臺中地方法院檢察署檢察官...   \n\n                                           Situation  \n0  王炎權於民國100年4月8日晚間9時30分許起至翌日凌晨3時許止，在彰化縣芬園鄉○○路○段2...  ",
      "text/html": "<div>\n<style scoped>\n    .dataframe tbody tr th:only-of-type {\n        vertical-align: middle;\n    }\n\n    .dataframe tbody tr th {\n        vertical-align: top;\n    }\n\n    .dataframe thead th {\n        text-align: right;\n    }\n</style>\n<table border=\"1\" class=\"dataframe\">\n  <thead>\n    <tr style=\"text-align: right;\">\n      <th></th>\n      <th>id</th>\n      <th>court</th>\n      <th>date</th>\n      <th>no</th>\n      <th>sys</th>\n      <th>reason</th>\n      <th>type</th>\n      <th>mainText</th>\n      <th>judgement</th>\n      <th>Situation</th>\n    </tr>\n  </thead>\n  <tbody>\n    <tr>\n      <td>0</td>\n      <td>0</td>\n      <td>臺灣臺中地方法院</td>\n      <td>2011-05-19T00:00:00+08:00</td>\n      <td>100,中交簡,1002</td>\n      <td>刑事</td>\n      <td>公共危險</td>\n      <td>判決</td>\n      <td>王炎權服用酒類，不能安全駕駛動力交通工具而駕駛，處拘役伍拾日，如易科罰金，以新臺幣壹仟元折算壹日。</td>\n      <td>臺灣臺中地方法院刑事簡易判決100年度中交簡字第1002號聲請人臺灣臺中地方法院檢察署檢察官...</td>\n      <td>王炎權於民國100年4月8日晚間9時30分許起至翌日凌晨3時許止，在彰化縣芬園鄉○○路○段2...</td>\n    </tr>\n  </tbody>\n</table>\n</div>"
     },
     "metadata": {},
     "output_type": "execute_result",
     "execution_count": 99
    }
   ],
   "source": [
    "dic = {\n",
    "    \"id\": 0,\n",
    "    \"court\": [dt[\"court\"]], \n",
    "    \"date\": [dt[\"date\"]],\n",
    "    \"no\": [dt[\"no\"]],\n",
    "    \"sys\": [dt[\"sys\"]],\n",
    "    \"reason\": [dt[\"reason\"]],\n",
    "    \"type\": [dt[\"type\"]],\n",
    "    \"mainText\": [dt[\"mainText\"]],\n",
    "    \"judgement\": [dt[\"judgement\"]],\n",
    "    #\"judgement_SIT\": [dt[\"judgement_SIT\"]],\n",
    "    \"Situation\": [dt[\"Situation\"]]\n",
    "}\n",
    "df = pd.DataFrame(dic)\n",
    "df"
   ]
  },
  {
   "cell_type": "code",
   "execution_count": 100,
   "metadata": {
    "pycharm": {
     "is_executing": false
    }
   },
   "outputs": [
    {
     "name": "stdout",
     "text": [
      "100,中簡,1856\n",
      "100,簡,372\n100,簡,458\n",
      "101,侵訴,1\n101,智訴,9\n103,智訴,4\n",
      "105,易,264\n",
      "105,簡,1724\n"
     ],
     "output_type": "stream"
    }
   ],
   "source": [
    "for x in range(1,len(json_files)):\n",
    "    with open('J://Legal_Judgment//臺灣新北地方法院_改//'+json_files[x],\"r\",encoding=\"utf-8\") as f:\n",
    "        dt = json.load(f)\n",
    "\n",
    "    try:\n",
    "        if (str(dt[\"judgement\"]).index(str(dt[\"Situation\"])) < 0):\n",
    "            continue\n",
    "        new = pd.DataFrame({\n",
    "        \"id\" : x,\n",
    "        \"court\": [dt[\"court\"]], \n",
    "        \"date\": [dt[\"date\"]],\n",
    "        \"no\": [dt[\"no\"]],\n",
    "        \"sys\": [dt[\"sys\"]],\n",
    "        \"reason\": [dt[\"reason\"]],\n",
    "        \"type\": [dt[\"type\"]],\n",
    "        \"mainText\": [dt[\"mainText\"]],\n",
    "        \"judgement\": [dt[\"judgement\"]],\n",
    "        #\"judgement_SIT\": [dt[\"judgement_SIT\"]],\n",
    "        \"Situation\": [dt[\"Situation\"]]\n",
    "        })\n",
    "        \n",
    "        df = df.append(new)\n",
    "\n",
    "    except:\n",
    "        print(dt[\"no\"])"
   ]
  },
  {
   "cell_type": "code",
   "execution_count": 101,
   "metadata": {
    "pycharm": {
     "is_executing": false
    }
   },
   "outputs": [],
   "source": [
    "df.to_csv('J://Legal_Judgment//Result.csv', index=0) "
   ]
  },
  {
   "cell_type": "code",
   "execution_count": 102,
   "outputs": [
    {
     "data": {
      "text/plain": "       court                       date            no sys reason type  \\\nid                                                                      \n0   臺灣臺中地方法院  2011-05-19T00:00:00+08:00  100,中交簡,1002  刑事   公共危險   判決   \n1   臺灣臺中地方法院  2011-01-25T00:00:00+08:00   100,中交簡,100  刑事   公共危險   判決   \n2   臺灣臺中地方法院  2011-05-12T00:00:00+08:00  100,中交簡,1016  刑事   公共危險   判決   \n3   臺灣臺中地方法院  2011-06-13T00:00:00+08:00  100,中交簡,1106  刑事   公共危險   判決   \n4   臺灣臺中地方法院  2011-05-17T00:00:00+08:00   100,中簡,1001  刑事     竊盜   判決   \n\n                                             mainText  \\\nid                                                      \n0   王炎權服用酒類，不能安全駕駛動力交通工具而駕駛，處拘役伍拾日，如易科罰金，以新臺幣壹仟元折算壹日。   \n1   林耀明服用酒類，不能安全駕駛動力交通工具而駕駛，處拘役伍拾伍日，如易科罰金，以新臺幣壹仟元折...   \n2      朱建鴻犯不能安全駕駛動力交通工具罪，處罰金新台幣伍萬元，如易服勞役，以新臺幣壹仟元折算壹日。   \n3   洪國棋服用酒類，不能安全駕駛動力交通工具而駕駛，處拘役伍拾日，如易科罰金，以新臺幣壹仟元折算壹日。   \n4   陳守仁竊盜，三罪，均累犯，各處罰金新臺幣壹萬元、壹萬元、伍仟元，如易服勞役，均以新臺幣壹仟元...   \n\n                                            judgement  \\\nid                                                      \n0   臺灣臺中地方法院刑事簡易判決100年度中交簡字第1002號聲請人臺灣臺中地方法院檢察署檢察官...   \n1   臺灣臺中地方法院刑事簡易判決100年度中交簡字第100號聲請人臺灣臺中地方法院檢察署檢察官被...   \n2   臺灣臺中地方法院刑事簡易判決100年度中交簡字第1016號聲請人臺灣臺中地方法院檢察署檢察官...   \n3   臺灣臺中地方法院刑事簡易判決100年度中交簡字第1106號聲請人臺灣臺中地方法院檢察署檢察官...   \n4   臺灣臺中地方法院刑事簡易判決100年度中簡字第1001號聲請人臺灣臺中地方法院檢察署檢察官被...   \n\n                                            Situation  \nid                                                     \n0   王炎權於民國100年4月8日晚間9時30分許起至翌日凌晨3時許止，在彰化縣芬園鄉○○路○段2...  \n1   林耀明於民國99年10月22日下午4時許起至5時許止，在臺中市○○區○○路與豐樂路交岔路口附...  \n2   朱建鴻於民國100年4月19日晚間9時許起，在臺中市大雅區清泉崗友人住處內飲用啤酒，至同日晚...  \n3   洪國棋於民國100年4月28日晚間7時許起至同日晚間8時30分許止，在臺中市○里區○○路21...  \n4   被告陳守仁為高職畢業擔任保全之男子，竟不思以正常手段獲取財物，因一時貪念，以徒手竊取該超商內...  ",
      "text/html": "<div>\n<style scoped>\n    .dataframe tbody tr th:only-of-type {\n        vertical-align: middle;\n    }\n\n    .dataframe tbody tr th {\n        vertical-align: top;\n    }\n\n    .dataframe thead th {\n        text-align: right;\n    }\n</style>\n<table border=\"1\" class=\"dataframe\">\n  <thead>\n    <tr style=\"text-align: right;\">\n      <th></th>\n      <th>court</th>\n      <th>date</th>\n      <th>no</th>\n      <th>sys</th>\n      <th>reason</th>\n      <th>type</th>\n      <th>mainText</th>\n      <th>judgement</th>\n      <th>Situation</th>\n    </tr>\n    <tr>\n      <th>id</th>\n      <th></th>\n      <th></th>\n      <th></th>\n      <th></th>\n      <th></th>\n      <th></th>\n      <th></th>\n      <th></th>\n      <th></th>\n    </tr>\n  </thead>\n  <tbody>\n    <tr>\n      <td>0</td>\n      <td>臺灣臺中地方法院</td>\n      <td>2011-05-19T00:00:00+08:00</td>\n      <td>100,中交簡,1002</td>\n      <td>刑事</td>\n      <td>公共危險</td>\n      <td>判決</td>\n      <td>王炎權服用酒類，不能安全駕駛動力交通工具而駕駛，處拘役伍拾日，如易科罰金，以新臺幣壹仟元折算壹日。</td>\n      <td>臺灣臺中地方法院刑事簡易判決100年度中交簡字第1002號聲請人臺灣臺中地方法院檢察署檢察官...</td>\n      <td>王炎權於民國100年4月8日晚間9時30分許起至翌日凌晨3時許止，在彰化縣芬園鄉○○路○段2...</td>\n    </tr>\n    <tr>\n      <td>1</td>\n      <td>臺灣臺中地方法院</td>\n      <td>2011-01-25T00:00:00+08:00</td>\n      <td>100,中交簡,100</td>\n      <td>刑事</td>\n      <td>公共危險</td>\n      <td>判決</td>\n      <td>林耀明服用酒類，不能安全駕駛動力交通工具而駕駛，處拘役伍拾伍日，如易科罰金，以新臺幣壹仟元折...</td>\n      <td>臺灣臺中地方法院刑事簡易判決100年度中交簡字第100號聲請人臺灣臺中地方法院檢察署檢察官被...</td>\n      <td>林耀明於民國99年10月22日下午4時許起至5時許止，在臺中市○○區○○路與豐樂路交岔路口附...</td>\n    </tr>\n    <tr>\n      <td>2</td>\n      <td>臺灣臺中地方法院</td>\n      <td>2011-05-12T00:00:00+08:00</td>\n      <td>100,中交簡,1016</td>\n      <td>刑事</td>\n      <td>公共危險</td>\n      <td>判決</td>\n      <td>朱建鴻犯不能安全駕駛動力交通工具罪，處罰金新台幣伍萬元，如易服勞役，以新臺幣壹仟元折算壹日。</td>\n      <td>臺灣臺中地方法院刑事簡易判決100年度中交簡字第1016號聲請人臺灣臺中地方法院檢察署檢察官...</td>\n      <td>朱建鴻於民國100年4月19日晚間9時許起，在臺中市大雅區清泉崗友人住處內飲用啤酒，至同日晚...</td>\n    </tr>\n    <tr>\n      <td>3</td>\n      <td>臺灣臺中地方法院</td>\n      <td>2011-06-13T00:00:00+08:00</td>\n      <td>100,中交簡,1106</td>\n      <td>刑事</td>\n      <td>公共危險</td>\n      <td>判決</td>\n      <td>洪國棋服用酒類，不能安全駕駛動力交通工具而駕駛，處拘役伍拾日，如易科罰金，以新臺幣壹仟元折算壹日。</td>\n      <td>臺灣臺中地方法院刑事簡易判決100年度中交簡字第1106號聲請人臺灣臺中地方法院檢察署檢察官...</td>\n      <td>洪國棋於民國100年4月28日晚間7時許起至同日晚間8時30分許止，在臺中市○里區○○路21...</td>\n    </tr>\n    <tr>\n      <td>4</td>\n      <td>臺灣臺中地方法院</td>\n      <td>2011-05-17T00:00:00+08:00</td>\n      <td>100,中簡,1001</td>\n      <td>刑事</td>\n      <td>竊盜</td>\n      <td>判決</td>\n      <td>陳守仁竊盜，三罪，均累犯，各處罰金新臺幣壹萬元、壹萬元、伍仟元，如易服勞役，均以新臺幣壹仟元...</td>\n      <td>臺灣臺中地方法院刑事簡易判決100年度中簡字第1001號聲請人臺灣臺中地方法院檢察署檢察官被...</td>\n      <td>被告陳守仁為高職畢業擔任保全之男子，竟不思以正常手段獲取財物，因一時貪念，以徒手竊取該超商內...</td>\n    </tr>\n  </tbody>\n</table>\n</div>"
     },
     "metadata": {},
     "output_type": "execute_result",
     "execution_count": 102
    }
   ],
   "source": [
    "df = pd.read_csv('J://Legal_Judgment//Result.csv', index_col=0)\n",
    "test = pd.read_csv('.//QA_Test1//HBert//dataV2//Test200.csv')\n",
    "df.head()"
   ],
   "metadata": {
    "collapsed": false,
    "pycharm": {
     "name": "#%%\n",
     "is_executing": false
    }
   }
  },
  {
   "cell_type": "code",
   "execution_count": 103,
   "outputs": [
    {
     "data": {
      "text/plain": "      court                       date           no sys reason type  \\\n0  臺灣新北地方法院  2014-08-08T00:00:00+08:00      98,矚訴,1  刑事     貪污   判決   \n1  臺灣臺中地方法院  2011-11-10T00:00:00+08:00   100,易,3133  刑事   妨害風化   判決   \n2  臺灣高雄地方法院  2016-01-27T00:00:00+08:00    105,審易,98  刑事   妨害自由   判決   \n3  臺灣高雄地方法院  2017-08-08T00:00:00+08:00    106,易,488  刑事   妨害自由   判決   \n4  臺灣臺中地方法院  2016-06-04T00:00:00+08:00  105,審易,1192  刑事   妨害名譽   判決   \n\n                                            mainText  \\\n0  陳欽凱犯廢棄物清理法第四十六條第四款前段之非法清理廢棄物罪，處有期徒刑壹年貳月。又共同犯貪污...   \n1       廖述鐘意圖供人觀覽，公然為猥褻之行為，處拘役貳拾日，如易科罰金，以新臺幣壹仟元折算壹日。   \n2                                           本件公訴不受理。   \n3  黃信奈犯恐嚇危害安全罪，累犯，處有期徒刑參月，如易科罰金，以新臺幣壹仟元折算壹日。又犯恐嚇危...   \n4                                           本件公訴不受理。   \n\n                                           judgement  \\\n0  臺灣新北地方法院刑事判決98年度矚訴字第1號公訴人臺灣新北地方法院檢察署檢察官被告陳欽凱選任...   \n1  臺灣臺中地方法院刑事判決100年度易字第3133號公訴人臺灣臺中地方法院檢察署檢察官被告廖述...   \n2  臺灣高雄地方法院刑事判決105年度審易字第98號公訴人臺灣高雄地方法院檢察署檢察官被告潘心雅...   \n3  臺灣高雄地方法院刑事判決106年度易字第488號公訴人臺灣高雄地方法院檢察署檢察官被告黃信奈...   \n4  臺灣臺中地方法院刑事判決105年度審易字第1192號公訴人臺灣臺中地方法院檢察署檢察官被告鄭...   \n\n                                           Situation  \n0  陳欽凱係和財資源回收股份有限公司（址設新北市○○區○○路000巷00號，下稱和財公司）之負責...  \n1  廖述鐘酒後於民國100年7月4日下午3時45分許，在臺中市潭子區頭家厝，搭乘由陳啟泉所駕駛車...  \n2  被告潘心雅基於侵入他人住宅之犯意，於民國104年12月8日上午5時20分許，至高雄市○○區○...  \n3  黃信奈平時居住在高雄市○○區○○路000號0樓，與於高雄市○○區○○路000號之住戶李○○及...  \n4  被告鄭閎仁於民國105年2月27日2時20分許，在莒光號531次列車經過交通部臺灣鐵路管理局...  ",
      "text/html": "<div>\n<style scoped>\n    .dataframe tbody tr th:only-of-type {\n        vertical-align: middle;\n    }\n\n    .dataframe tbody tr th {\n        vertical-align: top;\n    }\n\n    .dataframe thead th {\n        text-align: right;\n    }\n</style>\n<table border=\"1\" class=\"dataframe\">\n  <thead>\n    <tr style=\"text-align: right;\">\n      <th></th>\n      <th>court</th>\n      <th>date</th>\n      <th>no</th>\n      <th>sys</th>\n      <th>reason</th>\n      <th>type</th>\n      <th>mainText</th>\n      <th>judgement</th>\n      <th>Situation</th>\n    </tr>\n  </thead>\n  <tbody>\n    <tr>\n      <td>0</td>\n      <td>臺灣新北地方法院</td>\n      <td>2014-08-08T00:00:00+08:00</td>\n      <td>98,矚訴,1</td>\n      <td>刑事</td>\n      <td>貪污</td>\n      <td>判決</td>\n      <td>陳欽凱犯廢棄物清理法第四十六條第四款前段之非法清理廢棄物罪，處有期徒刑壹年貳月。又共同犯貪污...</td>\n      <td>臺灣新北地方法院刑事判決98年度矚訴字第1號公訴人臺灣新北地方法院檢察署檢察官被告陳欽凱選任...</td>\n      <td>陳欽凱係和財資源回收股份有限公司（址設新北市○○區○○路000巷00號，下稱和財公司）之負責...</td>\n    </tr>\n    <tr>\n      <td>1</td>\n      <td>臺灣臺中地方法院</td>\n      <td>2011-11-10T00:00:00+08:00</td>\n      <td>100,易,3133</td>\n      <td>刑事</td>\n      <td>妨害風化</td>\n      <td>判決</td>\n      <td>廖述鐘意圖供人觀覽，公然為猥褻之行為，處拘役貳拾日，如易科罰金，以新臺幣壹仟元折算壹日。</td>\n      <td>臺灣臺中地方法院刑事判決100年度易字第3133號公訴人臺灣臺中地方法院檢察署檢察官被告廖述...</td>\n      <td>廖述鐘酒後於民國100年7月4日下午3時45分許，在臺中市潭子區頭家厝，搭乘由陳啟泉所駕駛車...</td>\n    </tr>\n    <tr>\n      <td>2</td>\n      <td>臺灣高雄地方法院</td>\n      <td>2016-01-27T00:00:00+08:00</td>\n      <td>105,審易,98</td>\n      <td>刑事</td>\n      <td>妨害自由</td>\n      <td>判決</td>\n      <td>本件公訴不受理。</td>\n      <td>臺灣高雄地方法院刑事判決105年度審易字第98號公訴人臺灣高雄地方法院檢察署檢察官被告潘心雅...</td>\n      <td>被告潘心雅基於侵入他人住宅之犯意，於民國104年12月8日上午5時20分許，至高雄市○○區○...</td>\n    </tr>\n    <tr>\n      <td>3</td>\n      <td>臺灣高雄地方法院</td>\n      <td>2017-08-08T00:00:00+08:00</td>\n      <td>106,易,488</td>\n      <td>刑事</td>\n      <td>妨害自由</td>\n      <td>判決</td>\n      <td>黃信奈犯恐嚇危害安全罪，累犯，處有期徒刑參月，如易科罰金，以新臺幣壹仟元折算壹日。又犯恐嚇危...</td>\n      <td>臺灣高雄地方法院刑事判決106年度易字第488號公訴人臺灣高雄地方法院檢察署檢察官被告黃信奈...</td>\n      <td>黃信奈平時居住在高雄市○○區○○路000號0樓，與於高雄市○○區○○路000號之住戶李○○及...</td>\n    </tr>\n    <tr>\n      <td>4</td>\n      <td>臺灣臺中地方法院</td>\n      <td>2016-06-04T00:00:00+08:00</td>\n      <td>105,審易,1192</td>\n      <td>刑事</td>\n      <td>妨害名譽</td>\n      <td>判決</td>\n      <td>本件公訴不受理。</td>\n      <td>臺灣臺中地方法院刑事判決105年度審易字第1192號公訴人臺灣臺中地方法院檢察署檢察官被告鄭...</td>\n      <td>被告鄭閎仁於民國105年2月27日2時20分許，在莒光號531次列車經過交通部臺灣鐵路管理局...</td>\n    </tr>\n  </tbody>\n</table>\n</div>"
     },
     "metadata": {},
     "output_type": "execute_result",
     "execution_count": 103
    }
   ],
   "source": [
    "test.head()"
   ],
   "metadata": {
    "collapsed": false,
    "pycharm": {
     "name": "#%%\n",
     "is_executing": false
    }
   }
  },
  {
   "cell_type": "code",
   "execution_count": 104,
   "outputs": [
    {
     "data": {
      "text/plain": "court        1291\ndate         1291\nno           1291\nsys          1291\nreason       1291\ntype         1291\nmainText     1289\njudgement    1291\nSituation    1290\ndtype: int64"
     },
     "metadata": {},
     "output_type": "execute_result",
     "execution_count": 104
    }
   ],
   "source": [
    "tmp = df[~df['no'].isin(test['no'])]\n",
    "tmp.count()"
   ],
   "metadata": {
    "collapsed": false,
    "pycharm": {
     "name": "#%%\n",
     "is_executing": false
    }
   }
  },
  {
   "cell_type": "code",
   "execution_count": 105,
   "outputs": [
    {
     "data": {
      "text/plain": "         court                       date            no sys  reason type  \\\nid                                                                         \n446   臺灣臺中地方法院  2016-04-26T00:00:00+08:00  105,中交簡,1124  刑事    公共危險   判決   \n254   臺灣臺中地方法院  2011-10-31T00:00:00+08:00     100,簡,764  刑事    妨害風化   判決   \n1193  臺灣高雄地方法院  2017-02-07T00:00:00+08:00     106,審智易,4  刑事  違反著作權法   判決   \n894   臺灣臺南地方法院  2016-11-15T00:00:00+08:00     105,易,284  刑事    妨害名譽   判決   \n765   臺灣高雄地方法院  2016-09-26T00:00:00+08:00   105,審易,2035  刑事    妨害自由   判決   \n\n                                               mainText  \\\nid                                                        \n446   賴景裕駕駛動力交通工具而吐氣所含酒精濃度達每公升零點二五毫克以上，累犯，處有期徒刑參月，如易...   \n254   簡菊意圖使女子與他人為性交之行為，而容留以營利，處有期徒刑參月，如易科罰金，以新臺幣壹仟元折...   \n1193                                           本件公訴不受理。   \n894               廖淑秋犯散布文字誹謗罪，處有期徒刑參月，如易科罰金，以新臺幣壹仟元折算壹日   \n765                                 本件管轄錯誤，移送於臺灣橋頭地方法院。   \n\n                                              judgement  \\\nid                                                        \n446   臺灣臺中地方法院刑事簡易判決105年度中交簡字第1124號聲請人臺灣臺中地方法院檢察署檢察官...   \n254   臺灣臺中地方法院刑事簡易判決100年度簡字第764號公訴人臺灣臺中地方法院檢察署檢察官被告簡...   \n1193  臺灣高雄地方法院刑事判決106年度審智易字第4號公訴人臺灣高雄地方法院檢察署檢察官被告王正秋...   \n894   臺灣臺南地方法院刑事判決105年度易字第284號公訴人臺灣臺南地方法院檢察署檢察官被告廖淑秋...   \n765   臺灣高雄地方法院刑事判決105年度審易字第2035號公訴人臺灣高雄地方法院檢察署檢察官被告張...   \n\n                                              Situation  \nid                                                       \n446   賴景裕自民國105年3月31日晚間10時30分許起至同日晚間10時50分許止，在臺中市潭子區...  \n254   簡菊係設於臺中市○區○○街132號「花洲大旅社」之員工，竟基於意圖使女子與他人為性交之行為，...  \n1193  被告王正秋係址設高雄市○○區○○路00號8樓之3愛瑞克名錶行負責人，明知告訴人富爾特數位影像...  \n894   廖淑秋因懷疑任職於長榮大學之配偶董大暉與同事陳孟琳有不正常之交往關係，竟意圖散布於眾，基於誹...  \n765   被告張敏郎於民國104年10月28日晚間8時30分許，在高雄市阿蓮區港後里「庄腳沙鍋魚頭」店...  ",
      "text/html": "<div>\n<style scoped>\n    .dataframe tbody tr th:only-of-type {\n        vertical-align: middle;\n    }\n\n    .dataframe tbody tr th {\n        vertical-align: top;\n    }\n\n    .dataframe thead th {\n        text-align: right;\n    }\n</style>\n<table border=\"1\" class=\"dataframe\">\n  <thead>\n    <tr style=\"text-align: right;\">\n      <th></th>\n      <th>court</th>\n      <th>date</th>\n      <th>no</th>\n      <th>sys</th>\n      <th>reason</th>\n      <th>type</th>\n      <th>mainText</th>\n      <th>judgement</th>\n      <th>Situation</th>\n    </tr>\n    <tr>\n      <th>id</th>\n      <th></th>\n      <th></th>\n      <th></th>\n      <th></th>\n      <th></th>\n      <th></th>\n      <th></th>\n      <th></th>\n      <th></th>\n    </tr>\n  </thead>\n  <tbody>\n    <tr>\n      <td>446</td>\n      <td>臺灣臺中地方法院</td>\n      <td>2016-04-26T00:00:00+08:00</td>\n      <td>105,中交簡,1124</td>\n      <td>刑事</td>\n      <td>公共危險</td>\n      <td>判決</td>\n      <td>賴景裕駕駛動力交通工具而吐氣所含酒精濃度達每公升零點二五毫克以上，累犯，處有期徒刑參月，如易...</td>\n      <td>臺灣臺中地方法院刑事簡易判決105年度中交簡字第1124號聲請人臺灣臺中地方法院檢察署檢察官...</td>\n      <td>賴景裕自民國105年3月31日晚間10時30分許起至同日晚間10時50分許止，在臺中市潭子區...</td>\n    </tr>\n    <tr>\n      <td>254</td>\n      <td>臺灣臺中地方法院</td>\n      <td>2011-10-31T00:00:00+08:00</td>\n      <td>100,簡,764</td>\n      <td>刑事</td>\n      <td>妨害風化</td>\n      <td>判決</td>\n      <td>簡菊意圖使女子與他人為性交之行為，而容留以營利，處有期徒刑參月，如易科罰金，以新臺幣壹仟元折...</td>\n      <td>臺灣臺中地方法院刑事簡易判決100年度簡字第764號公訴人臺灣臺中地方法院檢察署檢察官被告簡...</td>\n      <td>簡菊係設於臺中市○區○○街132號「花洲大旅社」之員工，竟基於意圖使女子與他人為性交之行為，...</td>\n    </tr>\n    <tr>\n      <td>1193</td>\n      <td>臺灣高雄地方法院</td>\n      <td>2017-02-07T00:00:00+08:00</td>\n      <td>106,審智易,4</td>\n      <td>刑事</td>\n      <td>違反著作權法</td>\n      <td>判決</td>\n      <td>本件公訴不受理。</td>\n      <td>臺灣高雄地方法院刑事判決106年度審智易字第4號公訴人臺灣高雄地方法院檢察署檢察官被告王正秋...</td>\n      <td>被告王正秋係址設高雄市○○區○○路00號8樓之3愛瑞克名錶行負責人，明知告訴人富爾特數位影像...</td>\n    </tr>\n    <tr>\n      <td>894</td>\n      <td>臺灣臺南地方法院</td>\n      <td>2016-11-15T00:00:00+08:00</td>\n      <td>105,易,284</td>\n      <td>刑事</td>\n      <td>妨害名譽</td>\n      <td>判決</td>\n      <td>廖淑秋犯散布文字誹謗罪，處有期徒刑參月，如易科罰金，以新臺幣壹仟元折算壹日</td>\n      <td>臺灣臺南地方法院刑事判決105年度易字第284號公訴人臺灣臺南地方法院檢察署檢察官被告廖淑秋...</td>\n      <td>廖淑秋因懷疑任職於長榮大學之配偶董大暉與同事陳孟琳有不正常之交往關係，竟意圖散布於眾，基於誹...</td>\n    </tr>\n    <tr>\n      <td>765</td>\n      <td>臺灣高雄地方法院</td>\n      <td>2016-09-26T00:00:00+08:00</td>\n      <td>105,審易,2035</td>\n      <td>刑事</td>\n      <td>妨害自由</td>\n      <td>判決</td>\n      <td>本件管轄錯誤，移送於臺灣橋頭地方法院。</td>\n      <td>臺灣高雄地方法院刑事判決105年度審易字第2035號公訴人臺灣高雄地方法院檢察署檢察官被告張...</td>\n      <td>被告張敏郎於民國104年10月28日晚間8時30分許，在高雄市阿蓮區港後里「庄腳沙鍋魚頭」店...</td>\n    </tr>\n  </tbody>\n</table>\n</div>"
     },
     "metadata": {},
     "output_type": "execute_result",
     "execution_count": 105
    }
   ],
   "source": [
    "##拆分df\n",
    "df1=tmp.sample(n=train_num)#按0.6比例随机采样\n",
    "df1.head()"
   ],
   "metadata": {
    "collapsed": false,
    "pycharm": {
     "name": "#%%\n",
     "is_executing": false
    }
   }
  },
  {
   "cell_type": "code",
   "execution_count": 106,
   "outputs": [
    {
     "data": {
      "text/plain": "      court                       date           no sys reason type  \\\n0  臺灣新北地方法院  2014-08-08T00:00:00+08:00      98,矚訴,1  刑事     貪污   判決   \n1  臺灣臺中地方法院  2011-11-10T00:00:00+08:00   100,易,3133  刑事   妨害風化   判決   \n2  臺灣高雄地方法院  2016-01-27T00:00:00+08:00    105,審易,98  刑事   妨害自由   判決   \n3  臺灣高雄地方法院  2017-08-08T00:00:00+08:00    106,易,488  刑事   妨害自由   判決   \n4  臺灣臺中地方法院  2016-06-04T00:00:00+08:00  105,審易,1192  刑事   妨害名譽   判決   \n\n                                            mainText  \\\n0  陳欽凱犯廢棄物清理法第四十六條第四款前段之非法清理廢棄物罪，處有期徒刑壹年貳月。又共同犯貪污...   \n1       廖述鐘意圖供人觀覽，公然為猥褻之行為，處拘役貳拾日，如易科罰金，以新臺幣壹仟元折算壹日。   \n2                                           本件公訴不受理。   \n3  黃信奈犯恐嚇危害安全罪，累犯，處有期徒刑參月，如易科罰金，以新臺幣壹仟元折算壹日。又犯恐嚇危...   \n4                                           本件公訴不受理。   \n\n                                           judgement  \\\n0  臺灣新北地方法院刑事判決98年度矚訴字第1號公訴人臺灣新北地方法院檢察署檢察官被告陳欽凱選任...   \n1  臺灣臺中地方法院刑事判決100年度易字第3133號公訴人臺灣臺中地方法院檢察署檢察官被告廖述...   \n2  臺灣高雄地方法院刑事判決105年度審易字第98號公訴人臺灣高雄地方法院檢察署檢察官被告潘心雅...   \n3  臺灣高雄地方法院刑事判決106年度易字第488號公訴人臺灣高雄地方法院檢察署檢察官被告黃信奈...   \n4  臺灣臺中地方法院刑事判決105年度審易字第1192號公訴人臺灣臺中地方法院檢察署檢察官被告鄭...   \n\n                                           Situation  \n0  陳欽凱係和財資源回收股份有限公司（址設新北市○○區○○路000巷00號，下稱和財公司）之負責...  \n1  廖述鐘酒後於民國100年7月4日下午3時45分許，在臺中市潭子區頭家厝，搭乘由陳啟泉所駕駛車...  \n2  被告潘心雅基於侵入他人住宅之犯意，於民國104年12月8日上午5時20分許，至高雄市○○區○...  \n3  黃信奈平時居住在高雄市○○區○○路000號0樓，與於高雄市○○區○○路000號之住戶李○○及...  \n4  被告鄭閎仁於民國105年2月27日2時20分許，在莒光號531次列車經過交通部臺灣鐵路管理局...  ",
      "text/html": "<div>\n<style scoped>\n    .dataframe tbody tr th:only-of-type {\n        vertical-align: middle;\n    }\n\n    .dataframe tbody tr th {\n        vertical-align: top;\n    }\n\n    .dataframe thead th {\n        text-align: right;\n    }\n</style>\n<table border=\"1\" class=\"dataframe\">\n  <thead>\n    <tr style=\"text-align: right;\">\n      <th></th>\n      <th>court</th>\n      <th>date</th>\n      <th>no</th>\n      <th>sys</th>\n      <th>reason</th>\n      <th>type</th>\n      <th>mainText</th>\n      <th>judgement</th>\n      <th>Situation</th>\n    </tr>\n  </thead>\n  <tbody>\n    <tr>\n      <td>0</td>\n      <td>臺灣新北地方法院</td>\n      <td>2014-08-08T00:00:00+08:00</td>\n      <td>98,矚訴,1</td>\n      <td>刑事</td>\n      <td>貪污</td>\n      <td>判決</td>\n      <td>陳欽凱犯廢棄物清理法第四十六條第四款前段之非法清理廢棄物罪，處有期徒刑壹年貳月。又共同犯貪污...</td>\n      <td>臺灣新北地方法院刑事判決98年度矚訴字第1號公訴人臺灣新北地方法院檢察署檢察官被告陳欽凱選任...</td>\n      <td>陳欽凱係和財資源回收股份有限公司（址設新北市○○區○○路000巷00號，下稱和財公司）之負責...</td>\n    </tr>\n    <tr>\n      <td>1</td>\n      <td>臺灣臺中地方法院</td>\n      <td>2011-11-10T00:00:00+08:00</td>\n      <td>100,易,3133</td>\n      <td>刑事</td>\n      <td>妨害風化</td>\n      <td>判決</td>\n      <td>廖述鐘意圖供人觀覽，公然為猥褻之行為，處拘役貳拾日，如易科罰金，以新臺幣壹仟元折算壹日。</td>\n      <td>臺灣臺中地方法院刑事判決100年度易字第3133號公訴人臺灣臺中地方法院檢察署檢察官被告廖述...</td>\n      <td>廖述鐘酒後於民國100年7月4日下午3時45分許，在臺中市潭子區頭家厝，搭乘由陳啟泉所駕駛車...</td>\n    </tr>\n    <tr>\n      <td>2</td>\n      <td>臺灣高雄地方法院</td>\n      <td>2016-01-27T00:00:00+08:00</td>\n      <td>105,審易,98</td>\n      <td>刑事</td>\n      <td>妨害自由</td>\n      <td>判決</td>\n      <td>本件公訴不受理。</td>\n      <td>臺灣高雄地方法院刑事判決105年度審易字第98號公訴人臺灣高雄地方法院檢察署檢察官被告潘心雅...</td>\n      <td>被告潘心雅基於侵入他人住宅之犯意，於民國104年12月8日上午5時20分許，至高雄市○○區○...</td>\n    </tr>\n    <tr>\n      <td>3</td>\n      <td>臺灣高雄地方法院</td>\n      <td>2017-08-08T00:00:00+08:00</td>\n      <td>106,易,488</td>\n      <td>刑事</td>\n      <td>妨害自由</td>\n      <td>判決</td>\n      <td>黃信奈犯恐嚇危害安全罪，累犯，處有期徒刑參月，如易科罰金，以新臺幣壹仟元折算壹日。又犯恐嚇危...</td>\n      <td>臺灣高雄地方法院刑事判決106年度易字第488號公訴人臺灣高雄地方法院檢察署檢察官被告黃信奈...</td>\n      <td>黃信奈平時居住在高雄市○○區○○路000號0樓，與於高雄市○○區○○路000號之住戶李○○及...</td>\n    </tr>\n    <tr>\n      <td>4</td>\n      <td>臺灣臺中地方法院</td>\n      <td>2016-06-04T00:00:00+08:00</td>\n      <td>105,審易,1192</td>\n      <td>刑事</td>\n      <td>妨害名譽</td>\n      <td>判決</td>\n      <td>本件公訴不受理。</td>\n      <td>臺灣臺中地方法院刑事判決105年度審易字第1192號公訴人臺灣臺中地方法院檢察署檢察官被告鄭...</td>\n      <td>被告鄭閎仁於民國105年2月27日2時20分許，在莒光號531次列車經過交通部臺灣鐵路管理局...</td>\n    </tr>\n  </tbody>\n</table>\n</div>"
     },
     "metadata": {},
     "output_type": "execute_result",
     "execution_count": 106
    }
   ],
   "source": [
    "df2=test\n",
    "df2.head()"
   ],
   "metadata": {
    "collapsed": false,
    "pycharm": {
     "name": "#%%\n",
     "is_executing": false
    }
   }
  },
  {
   "cell_type": "code",
   "execution_count": 107,
   "outputs": [],
   "source": [
    "class Data(object):\n",
    "    def __init__(self):\n",
    "        self.paragraphs = []\n",
    "        self.id = \"0\"\n",
    "        self.title = \"\"\n",
    "\n",
    "class Djson(object):\n",
    "    def __init__(self):\n",
    "        self.version = \"v1.0\"\n",
    "        self.data = []\n",
    " "
   ],
   "metadata": {
    "collapsed": false,
    "pycharm": {
     "name": "#%%\n",
     "is_executing": false
    }
   }
  },
  {
   "cell_type": "code",
   "execution_count": 108,
   "outputs": [],
   "source": [
    "djson1 = Djson()\n",
    "for index, row in df1.iterrows():\n",
    "    try:\n",
    "        d = Data()\n",
    "        d.paragraphs = [{\"id\" : \"TRAIN_\" + str(index), \n",
    "                      #\"context\" : row.reason + \"[SEP]\" + row.judgement, \n",
    "                      \"context\" : row.judgement, \n",
    "                      \"qas\":[{\n",
    "                          \"question\" : \"?\",\n",
    "                          \"id\" : \"TRAIN_\" + str(index) + \"_QUERY_0\",\n",
    "                          \"answers\" :[{\n",
    "                              \"text\" : row.Situation,\n",
    "                              \"answer_start\" : row.judgement.index(row.Situation) #+ len(row.reason + \"[SET]\")\n",
    "                          }]\n",
    "                      }]\n",
    "                    }\n",
    "                    ]\n",
    "        d.id = \"TRAIN_\" + str(index)\n",
    "        d.title = row.no\n",
    "        djson1.data.append(d)\n",
    "    except:\n",
    "        print(index)\n",
    "        print(row.no)"
   ],
   "metadata": {
    "collapsed": false,
    "pycharm": {
     "name": "#%%\n",
     "is_executing": false
    }
   }
  },
  {
   "cell_type": "code",
   "execution_count": 109,
   "outputs": [],
   "source": [
    "y = json.dumps(djson1, default=lambda o: o.__dict__, ensure_ascii=False)"
   ],
   "metadata": {
    "collapsed": false,
    "pycharm": {
     "name": "#%%\n",
     "is_executing": false
    }
   }
  },
  {
   "cell_type": "code",
   "execution_count": 110,
   "outputs": [],
   "source": [
    "with open('./QA_Test1/HBert/dataV2/train_'+ str(train_num) + '_V1.json', 'w', encoding='utf8') as outfile:\n",
    "    json.dump(djson1, outfile, default=lambda o: o.__dict__ , ensure_ascii=False)\n",
    "    "
   ],
   "metadata": {
    "collapsed": false,
    "pycharm": {
     "name": "#%%\n",
     "is_executing": false
    }
   }
  }
 ],
 "metadata": {
  "kernelspec": {
   "display_name": "Python 3",
   "language": "python",
   "name": "python3"
  },
  "language_info": {
   "codemirror_mode": {
    "name": "ipython",
    "version": 3
   },
   "file_extension": ".py",
   "mimetype": "text/x-python",
   "name": "python",
   "nbconvert_exporter": "python",
   "pygments_lexer": "ipython3",
   "version": "3.6.4"
  },
  "pycharm": {
   "stem_cell": {
    "cell_type": "raw",
    "source": [],
    "metadata": {
     "collapsed": false
    }
   }
  }
 },
 "nbformat": 4,
 "nbformat_minor": 2
}