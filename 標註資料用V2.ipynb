{
 "cells": [
  {
   "cell_type": "code",
   "execution_count": 226,
   "metadata": {
    "pycharm": {
     "is_executing": false
    }
   },
   "outputs": [
    {
     "name": "stdout",
     "text": [
      "刑事判決_100,中交簡,1002_2011-05-19.json\n"
     ],
     "output_type": "stream"
    }
   ],
   "source": [
    "import os, json \n",
    "import pandas as pd \n",
    "\n",
    "train_num = 1500\n",
    "\n",
    "path_to_json = 'J:\\Legal_Judgment\\臺灣新北地方法院_改' \n",
    "json_files = [pos_json for pos_json in os.listdir(path_to_json) if pos_json.endswith('.json')] \n",
    "print(json_files[0])"
   ]
  },
  {
   "cell_type": "code",
   "execution_count": 227,
   "metadata": {
    "pycharm": {
     "is_executing": false
    }
   },
   "outputs": [],
   "source": [
    "with open('J://Legal_Judgment//臺灣新北地方法院_改//'+json_files[0],\"r\",encoding=\"utf-8\") as f:\n",
    "    dt = json.load(f)"
   ]
  },
  {
   "cell_type": "code",
   "execution_count": 228,
   "metadata": {
    "pycharm": {
     "is_executing": false
    }
   },
   "outputs": [
    {
     "data": {
      "text/plain": "   id     court                       date            no sys reason type  \\\n0   0  臺灣臺中地方法院  2011-05-19T00:00:00+08:00  100,中交簡,1002  刑事   公共危險   判決   \n\n                                            mainText  \\\n0  王炎權服用酒類，不能安全駕駛動力交通工具而駕駛，處拘役伍拾日，如易科罰金，以新臺幣壹仟元折算壹日。   \n\n                                           judgement  \\\n0  臺灣臺中地方法院刑事簡易判決100年度中交簡字第1002號聲請人臺灣臺中地方法院檢察署檢察官...   \n\n                                           Situation  \n0  王炎權於民國100年4月8日晚間9時30分許起至翌日凌晨3時許止，在彰化縣芬園鄉○○路○段2...  ",
      "text/html": "<div>\n<style scoped>\n    .dataframe tbody tr th:only-of-type {\n        vertical-align: middle;\n    }\n\n    .dataframe tbody tr th {\n        vertical-align: top;\n    }\n\n    .dataframe thead th {\n        text-align: right;\n    }\n</style>\n<table border=\"1\" class=\"dataframe\">\n  <thead>\n    <tr style=\"text-align: right;\">\n      <th></th>\n      <th>id</th>\n      <th>court</th>\n      <th>date</th>\n      <th>no</th>\n      <th>sys</th>\n      <th>reason</th>\n      <th>type</th>\n      <th>mainText</th>\n      <th>judgement</th>\n      <th>Situation</th>\n    </tr>\n  </thead>\n  <tbody>\n    <tr>\n      <td>0</td>\n      <td>0</td>\n      <td>臺灣臺中地方法院</td>\n      <td>2011-05-19T00:00:00+08:00</td>\n      <td>100,中交簡,1002</td>\n      <td>刑事</td>\n      <td>公共危險</td>\n      <td>判決</td>\n      <td>王炎權服用酒類，不能安全駕駛動力交通工具而駕駛，處拘役伍拾日，如易科罰金，以新臺幣壹仟元折算壹日。</td>\n      <td>臺灣臺中地方法院刑事簡易判決100年度中交簡字第1002號聲請人臺灣臺中地方法院檢察署檢察官...</td>\n      <td>王炎權於民國100年4月8日晚間9時30分許起至翌日凌晨3時許止，在彰化縣芬園鄉○○路○段2...</td>\n    </tr>\n  </tbody>\n</table>\n</div>"
     },
     "metadata": {},
     "output_type": "execute_result",
     "execution_count": 228
    }
   ],
   "source": [
    "dic = {\n",
    "    \"id\": 0,\n",
    "    \"court\": [dt[\"court\"]], \n",
    "    \"date\": [dt[\"date\"]],\n",
    "    \"no\": [dt[\"no\"]],\n",
    "    \"sys\": [dt[\"sys\"]],\n",
    "    \"reason\": [dt[\"reason\"]],\n",
    "    \"type\": [dt[\"type\"]],\n",
    "    \"mainText\": [dt[\"mainText\"]],\n",
    "    \"judgement\": [dt[\"judgement\"]],\n",
    "    #\"judgement_SIT\": [dt[\"judgement_SIT\"]],\n",
    "    \"Situation\": [dt[\"Situation\"]]\n",
    "}\n",
    "df = pd.DataFrame(dic)\n",
    "df"
   ]
  },
  {
   "cell_type": "code",
   "execution_count": 229,
   "metadata": {
    "pycharm": {
     "is_executing": false
    }
   },
   "outputs": [
    {
     "name": "stdout",
     "text": [
      "100,中簡,1856\n",
      "100,簡,372\n100,簡,458\n101,侵訴,1\n101,智訴,9",
      "\n103,智訴,4\n",
      "105,易,264\n",
      "105,簡,1724\n"
     ],
     "output_type": "stream"
    }
   ],
   "source": [
    "for x in range(1,len(json_files)):\n",
    "    with open('J://Legal_Judgment//臺灣新北地方法院_改//'+json_files[x],\"r\",encoding=\"utf-8\") as f:\n",
    "        dt = json.load(f)\n",
    "\n",
    "    try:\n",
    "        if (str(dt[\"judgement\"]).index(str(dt[\"Situation\"])) < 0):\n",
    "            continue\n",
    "        if (len(str(dt[\"Situation\"])) > 512):\n",
    "            continue            \n",
    "        new = pd.DataFrame({\n",
    "        \"id\" : x,\n",
    "        \"court\": [dt[\"court\"]], \n",
    "        \"date\": [dt[\"date\"]],\n",
    "        \"no\": [dt[\"no\"]],\n",
    "        \"sys\": [dt[\"sys\"]],\n",
    "        \"reason\": [dt[\"reason\"]],\n",
    "        \"type\": [dt[\"type\"]],\n",
    "        \"mainText\": [dt[\"mainText\"]],\n",
    "        \"judgement\": [dt[\"judgement\"]],\n",
    "        #\"judgement_SIT\": [dt[\"judgement_SIT\"]],\n",
    "        \"Situation\": [dt[\"Situation\"]]\n",
    "        })\n",
    "        \n",
    "        df = df.append(new)\n",
    "\n",
    "    except:\n",
    "        print(dt[\"no\"])"
   ]
  },
  {
   "cell_type": "code",
   "execution_count": 230,
   "metadata": {
    "pycharm": {
     "is_executing": false
    }
   },
   "outputs": [],
   "source": [
    "df.to_csv('J://Legal_Judgment//Result.csv', index=0) "
   ]
  },
  {
   "cell_type": "code",
   "execution_count": 231,
   "outputs": [
    {
     "data": {
      "text/plain": "       court                       date            no sys reason type  \\\nid                                                                      \n0   臺灣臺中地方法院  2011-05-19T00:00:00+08:00  100,中交簡,1002  刑事   公共危險   判決   \n1   臺灣臺中地方法院  2011-01-25T00:00:00+08:00   100,中交簡,100  刑事   公共危險   判決   \n2   臺灣臺中地方法院  2011-05-12T00:00:00+08:00  100,中交簡,1016  刑事   公共危險   判決   \n3   臺灣臺中地方法院  2011-06-13T00:00:00+08:00  100,中交簡,1106  刑事   公共危險   判決   \n4   臺灣臺中地方法院  2011-05-17T00:00:00+08:00   100,中簡,1001  刑事     竊盜   判決   \n\n                                             mainText  \\\nid                                                      \n0   王炎權服用酒類，不能安全駕駛動力交通工具而駕駛，處拘役伍拾日，如易科罰金，以新臺幣壹仟元折算壹日。   \n1   林耀明服用酒類，不能安全駕駛動力交通工具而駕駛，處拘役伍拾伍日，如易科罰金，以新臺幣壹仟元折...   \n2      朱建鴻犯不能安全駕駛動力交通工具罪，處罰金新台幣伍萬元，如易服勞役，以新臺幣壹仟元折算壹日。   \n3   洪國棋服用酒類，不能安全駕駛動力交通工具而駕駛，處拘役伍拾日，如易科罰金，以新臺幣壹仟元折算壹日。   \n4   陳守仁竊盜，三罪，均累犯，各處罰金新臺幣壹萬元、壹萬元、伍仟元，如易服勞役，均以新臺幣壹仟元...   \n\n                                            judgement  \\\nid                                                      \n0   臺灣臺中地方法院刑事簡易判決100年度中交簡字第1002號聲請人臺灣臺中地方法院檢察署檢察官...   \n1   臺灣臺中地方法院刑事簡易判決100年度中交簡字第100號聲請人臺灣臺中地方法院檢察署檢察官被...   \n2   臺灣臺中地方法院刑事簡易判決100年度中交簡字第1016號聲請人臺灣臺中地方法院檢察署檢察官...   \n3   臺灣臺中地方法院刑事簡易判決100年度中交簡字第1106號聲請人臺灣臺中地方法院檢察署檢察官...   \n4   臺灣臺中地方法院刑事簡易判決100年度中簡字第1001號聲請人臺灣臺中地方法院檢察署檢察官被...   \n\n                                            Situation  \nid                                                     \n0   王炎權於民國100年4月8日晚間9時30分許起至翌日凌晨3時許止，在彰化縣芬園鄉○○路○段2...  \n1   林耀明於民國99年10月22日下午4時許起至5時許止，在臺中市○○區○○路與豐樂路交岔路口附...  \n2   朱建鴻於民國100年4月19日晚間9時許起，在臺中市大雅區清泉崗友人住處內飲用啤酒，至同日晚...  \n3   洪國棋於民國100年4月28日晚間7時許起至同日晚間8時30分許止，在臺中市○里區○○路21...  \n4   被告陳守仁為高職畢業擔任保全之男子，竟不思以正常手段獲取財物，因一時貪念，以徒手竊取該超商內...  ",
      "text/html": "<div>\n<style scoped>\n    .dataframe tbody tr th:only-of-type {\n        vertical-align: middle;\n    }\n\n    .dataframe tbody tr th {\n        vertical-align: top;\n    }\n\n    .dataframe thead th {\n        text-align: right;\n    }\n</style>\n<table border=\"1\" class=\"dataframe\">\n  <thead>\n    <tr style=\"text-align: right;\">\n      <th></th>\n      <th>court</th>\n      <th>date</th>\n      <th>no</th>\n      <th>sys</th>\n      <th>reason</th>\n      <th>type</th>\n      <th>mainText</th>\n      <th>judgement</th>\n      <th>Situation</th>\n    </tr>\n    <tr>\n      <th>id</th>\n      <th></th>\n      <th></th>\n      <th></th>\n      <th></th>\n      <th></th>\n      <th></th>\n      <th></th>\n      <th></th>\n      <th></th>\n    </tr>\n  </thead>\n  <tbody>\n    <tr>\n      <td>0</td>\n      <td>臺灣臺中地方法院</td>\n      <td>2011-05-19T00:00:00+08:00</td>\n      <td>100,中交簡,1002</td>\n      <td>刑事</td>\n      <td>公共危險</td>\n      <td>判決</td>\n      <td>王炎權服用酒類，不能安全駕駛動力交通工具而駕駛，處拘役伍拾日，如易科罰金，以新臺幣壹仟元折算壹日。</td>\n      <td>臺灣臺中地方法院刑事簡易判決100年度中交簡字第1002號聲請人臺灣臺中地方法院檢察署檢察官...</td>\n      <td>王炎權於民國100年4月8日晚間9時30分許起至翌日凌晨3時許止，在彰化縣芬園鄉○○路○段2...</td>\n    </tr>\n    <tr>\n      <td>1</td>\n      <td>臺灣臺中地方法院</td>\n      <td>2011-01-25T00:00:00+08:00</td>\n      <td>100,中交簡,100</td>\n      <td>刑事</td>\n      <td>公共危險</td>\n      <td>判決</td>\n      <td>林耀明服用酒類，不能安全駕駛動力交通工具而駕駛，處拘役伍拾伍日，如易科罰金，以新臺幣壹仟元折...</td>\n      <td>臺灣臺中地方法院刑事簡易判決100年度中交簡字第100號聲請人臺灣臺中地方法院檢察署檢察官被...</td>\n      <td>林耀明於民國99年10月22日下午4時許起至5時許止，在臺中市○○區○○路與豐樂路交岔路口附...</td>\n    </tr>\n    <tr>\n      <td>2</td>\n      <td>臺灣臺中地方法院</td>\n      <td>2011-05-12T00:00:00+08:00</td>\n      <td>100,中交簡,1016</td>\n      <td>刑事</td>\n      <td>公共危險</td>\n      <td>判決</td>\n      <td>朱建鴻犯不能安全駕駛動力交通工具罪，處罰金新台幣伍萬元，如易服勞役，以新臺幣壹仟元折算壹日。</td>\n      <td>臺灣臺中地方法院刑事簡易判決100年度中交簡字第1016號聲請人臺灣臺中地方法院檢察署檢察官...</td>\n      <td>朱建鴻於民國100年4月19日晚間9時許起，在臺中市大雅區清泉崗友人住處內飲用啤酒，至同日晚...</td>\n    </tr>\n    <tr>\n      <td>3</td>\n      <td>臺灣臺中地方法院</td>\n      <td>2011-06-13T00:00:00+08:00</td>\n      <td>100,中交簡,1106</td>\n      <td>刑事</td>\n      <td>公共危險</td>\n      <td>判決</td>\n      <td>洪國棋服用酒類，不能安全駕駛動力交通工具而駕駛，處拘役伍拾日，如易科罰金，以新臺幣壹仟元折算壹日。</td>\n      <td>臺灣臺中地方法院刑事簡易判決100年度中交簡字第1106號聲請人臺灣臺中地方法院檢察署檢察官...</td>\n      <td>洪國棋於民國100年4月28日晚間7時許起至同日晚間8時30分許止，在臺中市○里區○○路21...</td>\n    </tr>\n    <tr>\n      <td>4</td>\n      <td>臺灣臺中地方法院</td>\n      <td>2011-05-17T00:00:00+08:00</td>\n      <td>100,中簡,1001</td>\n      <td>刑事</td>\n      <td>竊盜</td>\n      <td>判決</td>\n      <td>陳守仁竊盜，三罪，均累犯，各處罰金新臺幣壹萬元、壹萬元、伍仟元，如易服勞役，均以新臺幣壹仟元...</td>\n      <td>臺灣臺中地方法院刑事簡易判決100年度中簡字第1001號聲請人臺灣臺中地方法院檢察署檢察官被...</td>\n      <td>被告陳守仁為高職畢業擔任保全之男子，竟不思以正常手段獲取財物，因一時貪念，以徒手竊取該超商內...</td>\n    </tr>\n  </tbody>\n</table>\n</div>"
     },
     "metadata": {},
     "output_type": "execute_result",
     "execution_count": 231
    }
   ],
   "source": [
    "df = pd.read_csv('J://Legal_Judgment//Result.csv', index_col=0)\n",
    "test = pd.read_csv('.//QA_Test1//HBert//dataV2//Test200_512.csv')\n",
    "df.head()"
   ],
   "metadata": {
    "collapsed": false,
    "pycharm": {
     "name": "#%%\n",
     "is_executing": false
    }
   }
  },
  {
   "cell_type": "code",
   "execution_count": 232,
   "outputs": [
    {
     "data": {
      "text/plain": "     id     court                       date           no sys    reason type  \\\n0   577  臺灣臺中地方法院  2016-08-26T00:00:00+08:00   105,侵訴,124  刑事    妨害性自主罪   判決   \n1   381  臺灣新北地方法院  2015-11-06T00:00:00+08:00    104,原訴,27  刑事  毒品危害防制條例   判決   \n2  1082  臺灣臺南地方法院  2017-01-23T00:00:00+08:00    105,易,913  刑事        傷害   判決   \n3  1349  臺灣高雄地方法院  2017-03-30T00:00:00+08:00    106,審智易,5  刑事    違反著作權法   判決   \n4  1245  臺灣臺南地方法院  2017-12-29T00:00:00+08:00  106,交易,1009  刑事      公共危險   判決   \n\n                                            mainText  \\\n0                     丁○○對於十四歲以上未滿十六歲之女子為性交，處有期徒刑柒月。   \n1  楊寶珍施用第一級毒品，累犯，處有期徒刑玖月。扣案之第一級毒品海洛因（驗餘淨重零點零捌參壹公克...   \n2                                  許堯共同犯傷害罪，處有期徒刑拾月。   \n3                                本件管轄錯誤，移送於臺灣橋頭地方法院。   \n4  方建忠吐氣所含酒精濃度達每公升零點二五毫克以上而駕駛動力交通工具，累犯，處有期徒刑陸月，如易...   \n\n                                           judgement  \\\n0  臺灣臺中地方法院刑事判決105年度侵訴字第124號公訴人臺灣臺中地方法院檢察署檢察官被告陳宗...   \n1  臺灣新北地方法院刑事判決104年度原訴字第27號公訴人臺灣新北地方法院檢察署檢察官被告楊寶珍...   \n2  臺灣臺南地方法院刑事判決105年度易字第913號公訴人臺灣臺南地方法院檢察署檢察官被告許堯上...   \n3  臺灣高雄地方法院刑事判決106年度審智易字第5號公訴人臺灣高雄地方法院檢察署檢察官被告張轟耀...   \n4  臺灣臺南地方法院刑事判決106年度交易字第1009號公訴人臺灣臺南地方法院檢察署檢察官被告方...   \n\n                                           Situation  \n0  猶不知悔改，基於對於14歲以上未滿16歲之女子為性交犯意，於104年9月15日晚上11時許，...  \n1  104年4月19日上午某時許（起訴書略為：於104年4月19日18時5分許為警採尿時點回溯2...  \n2  許堯係許文賢（另經本院判處有期徒刑8月確定）之兄，許文賢及黃昱翔（另經本院判處有期徒刑7月確...  \n3  被告張轟耀明知其以帳號「hgus1599」刊登在露天拍賣網站上販售「電競鍵盤PH-45」網頁...  \n4  詎不知警惕，於106年10月21日17時許，在臺南市佳里區民安里某大廟附近之友人家中飲酒後，...  ",
      "text/html": "<div>\n<style scoped>\n    .dataframe tbody tr th:only-of-type {\n        vertical-align: middle;\n    }\n\n    .dataframe tbody tr th {\n        vertical-align: top;\n    }\n\n    .dataframe thead th {\n        text-align: right;\n    }\n</style>\n<table border=\"1\" class=\"dataframe\">\n  <thead>\n    <tr style=\"text-align: right;\">\n      <th></th>\n      <th>id</th>\n      <th>court</th>\n      <th>date</th>\n      <th>no</th>\n      <th>sys</th>\n      <th>reason</th>\n      <th>type</th>\n      <th>mainText</th>\n      <th>judgement</th>\n      <th>Situation</th>\n    </tr>\n  </thead>\n  <tbody>\n    <tr>\n      <td>0</td>\n      <td>577</td>\n      <td>臺灣臺中地方法院</td>\n      <td>2016-08-26T00:00:00+08:00</td>\n      <td>105,侵訴,124</td>\n      <td>刑事</td>\n      <td>妨害性自主罪</td>\n      <td>判決</td>\n      <td>丁○○對於十四歲以上未滿十六歲之女子為性交，處有期徒刑柒月。</td>\n      <td>臺灣臺中地方法院刑事判決105年度侵訴字第124號公訴人臺灣臺中地方法院檢察署檢察官被告陳宗...</td>\n      <td>猶不知悔改，基於對於14歲以上未滿16歲之女子為性交犯意，於104年9月15日晚上11時許，...</td>\n    </tr>\n    <tr>\n      <td>1</td>\n      <td>381</td>\n      <td>臺灣新北地方法院</td>\n      <td>2015-11-06T00:00:00+08:00</td>\n      <td>104,原訴,27</td>\n      <td>刑事</td>\n      <td>毒品危害防制條例</td>\n      <td>判決</td>\n      <td>楊寶珍施用第一級毒品，累犯，處有期徒刑玖月。扣案之第一級毒品海洛因（驗餘淨重零點零捌參壹公克...</td>\n      <td>臺灣新北地方法院刑事判決104年度原訴字第27號公訴人臺灣新北地方法院檢察署檢察官被告楊寶珍...</td>\n      <td>104年4月19日上午某時許（起訴書略為：於104年4月19日18時5分許為警採尿時點回溯2...</td>\n    </tr>\n    <tr>\n      <td>2</td>\n      <td>1082</td>\n      <td>臺灣臺南地方法院</td>\n      <td>2017-01-23T00:00:00+08:00</td>\n      <td>105,易,913</td>\n      <td>刑事</td>\n      <td>傷害</td>\n      <td>判決</td>\n      <td>許堯共同犯傷害罪，處有期徒刑拾月。</td>\n      <td>臺灣臺南地方法院刑事判決105年度易字第913號公訴人臺灣臺南地方法院檢察署檢察官被告許堯上...</td>\n      <td>許堯係許文賢（另經本院判處有期徒刑8月確定）之兄，許文賢及黃昱翔（另經本院判處有期徒刑7月確...</td>\n    </tr>\n    <tr>\n      <td>3</td>\n      <td>1349</td>\n      <td>臺灣高雄地方法院</td>\n      <td>2017-03-30T00:00:00+08:00</td>\n      <td>106,審智易,5</td>\n      <td>刑事</td>\n      <td>違反著作權法</td>\n      <td>判決</td>\n      <td>本件管轄錯誤，移送於臺灣橋頭地方法院。</td>\n      <td>臺灣高雄地方法院刑事判決106年度審智易字第5號公訴人臺灣高雄地方法院檢察署檢察官被告張轟耀...</td>\n      <td>被告張轟耀明知其以帳號「hgus1599」刊登在露天拍賣網站上販售「電競鍵盤PH-45」網頁...</td>\n    </tr>\n    <tr>\n      <td>4</td>\n      <td>1245</td>\n      <td>臺灣臺南地方法院</td>\n      <td>2017-12-29T00:00:00+08:00</td>\n      <td>106,交易,1009</td>\n      <td>刑事</td>\n      <td>公共危險</td>\n      <td>判決</td>\n      <td>方建忠吐氣所含酒精濃度達每公升零點二五毫克以上而駕駛動力交通工具，累犯，處有期徒刑陸月，如易...</td>\n      <td>臺灣臺南地方法院刑事判決106年度交易字第1009號公訴人臺灣臺南地方法院檢察署檢察官被告方...</td>\n      <td>詎不知警惕，於106年10月21日17時許，在臺南市佳里區民安里某大廟附近之友人家中飲酒後，...</td>\n    </tr>\n  </tbody>\n</table>\n</div>"
     },
     "metadata": {},
     "output_type": "execute_result",
     "execution_count": 232
    }
   ],
   "source": [
    "test.head()"
   ],
   "metadata": {
    "collapsed": false,
    "pycharm": {
     "name": "#%%\n",
     "is_executing": false
    }
   }
  },
  {
   "cell_type": "code",
   "execution_count": 233,
   "outputs": [
    {
     "data": {
      "text/plain": "Empty DataFrame\nColumns: [id, court, date, no, sys, reason, type, mainText, judgement, Situation]\nIndex: []",
      "text/html": "<div>\n<style scoped>\n    .dataframe tbody tr th:only-of-type {\n        vertical-align: middle;\n    }\n\n    .dataframe tbody tr th {\n        vertical-align: top;\n    }\n\n    .dataframe thead th {\n        text-align: right;\n    }\n</style>\n<table border=\"1\" class=\"dataframe\">\n  <thead>\n    <tr style=\"text-align: right;\">\n      <th></th>\n      <th>id</th>\n      <th>court</th>\n      <th>date</th>\n      <th>no</th>\n      <th>sys</th>\n      <th>reason</th>\n      <th>type</th>\n      <th>mainText</th>\n      <th>judgement</th>\n      <th>Situation</th>\n    </tr>\n  </thead>\n  <tbody>\n  </tbody>\n</table>\n</div>"
     },
     "metadata": {},
     "output_type": "execute_result",
     "execution_count": 233
    }
   ],
   "source": [
    "test2 = test[test['Situation'].str.len() > 513]\n",
    "test2.head()\n",
    "#test2.to_csv('J://Legal_Judgment//test513.csv', index=0) "
   ],
   "metadata": {
    "collapsed": false,
    "pycharm": {
     "name": "#%%\n",
     "is_executing": false
    }
   }
  },
  {
   "cell_type": "code",
   "execution_count": 234,
   "outputs": [
    {
     "data": {
      "text/plain": "court        1190\ndate         1190\nno           1190\nsys          1190\nreason       1190\ntype         1190\nmainText     1189\njudgement    1190\nSituation    1189\ndtype: int64"
     },
     "metadata": {},
     "output_type": "execute_result",
     "execution_count": 234
    }
   ],
   "source": [
    "tmp = df[~df['no'].isin(test['no'])]\n",
    "tmp.count()"
   ],
   "metadata": {
    "collapsed": false,
    "pycharm": {
     "name": "#%%\n",
     "is_executing": false
    }
   }
  },
  {
   "cell_type": "code",
   "execution_count": 235,
   "outputs": [
    {
     "traceback": [
      "\u001b[1;31m---------------------------------------------------------------------------\u001b[0m",
      "\u001b[1;31mValueError\u001b[0m                                Traceback (most recent call last)",
      "\u001b[1;32m<ipython-input-235-989f45d14a8f>\u001b[0m in \u001b[0;36m<module>\u001b[1;34m\u001b[0m\n\u001b[0;32m      1\u001b[0m \u001b[1;31m##拆分df\u001b[0m\u001b[1;33m\u001b[0m\u001b[1;33m\u001b[0m\u001b[0m\n\u001b[1;32m----> 2\u001b[1;33m \u001b[0mdf1\u001b[0m\u001b[1;33m=\u001b[0m\u001b[0mtmp\u001b[0m\u001b[1;33m.\u001b[0m\u001b[0msample\u001b[0m\u001b[1;33m(\u001b[0m\u001b[0mn\u001b[0m\u001b[1;33m=\u001b[0m\u001b[0mtrain_num\u001b[0m\u001b[1;33m)\u001b[0m\u001b[1;31m#按0.6比例随机采样\u001b[0m\u001b[1;33m\u001b[0m\u001b[0m\n\u001b[0m\u001b[0;32m      3\u001b[0m \u001b[0mdf1\u001b[0m\u001b[1;33m.\u001b[0m\u001b[0mhead\u001b[0m\u001b[1;33m(\u001b[0m\u001b[1;33m)\u001b[0m\u001b[1;33m\u001b[0m\u001b[0m\n",
      "\u001b[1;32mc:\\users\\user\\pycharmprojects\\pytorch\\venv\\lib\\site-packages\\pandas\\core\\generic.py\u001b[0m in \u001b[0;36msample\u001b[1;34m(self, n, frac, replace, weights, random_state, axis)\u001b[0m\n\u001b[0;32m   4968\u001b[0m             )\n\u001b[0;32m   4969\u001b[0m \u001b[1;33m\u001b[0m\u001b[0m\n\u001b[1;32m-> 4970\u001b[1;33m         \u001b[0mlocs\u001b[0m \u001b[1;33m=\u001b[0m \u001b[0mrs\u001b[0m\u001b[1;33m.\u001b[0m\u001b[0mchoice\u001b[0m\u001b[1;33m(\u001b[0m\u001b[0maxis_length\u001b[0m\u001b[1;33m,\u001b[0m \u001b[0msize\u001b[0m\u001b[1;33m=\u001b[0m\u001b[0mn\u001b[0m\u001b[1;33m,\u001b[0m \u001b[0mreplace\u001b[0m\u001b[1;33m=\u001b[0m\u001b[0mreplace\u001b[0m\u001b[1;33m,\u001b[0m \u001b[0mp\u001b[0m\u001b[1;33m=\u001b[0m\u001b[0mweights\u001b[0m\u001b[1;33m)\u001b[0m\u001b[1;33m\u001b[0m\u001b[0m\n\u001b[0m\u001b[0;32m   4971\u001b[0m         \u001b[1;32mreturn\u001b[0m \u001b[0mself\u001b[0m\u001b[1;33m.\u001b[0m\u001b[0mtake\u001b[0m\u001b[1;33m(\u001b[0m\u001b[0mlocs\u001b[0m\u001b[1;33m,\u001b[0m \u001b[0maxis\u001b[0m\u001b[1;33m=\u001b[0m\u001b[0maxis\u001b[0m\u001b[1;33m,\u001b[0m \u001b[0mis_copy\u001b[0m\u001b[1;33m=\u001b[0m\u001b[1;32mFalse\u001b[0m\u001b[1;33m)\u001b[0m\u001b[1;33m\u001b[0m\u001b[0m\n\u001b[0;32m   4972\u001b[0m \u001b[1;33m\u001b[0m\u001b[0m\n",
      "\u001b[1;32mmtrand.pyx\u001b[0m in \u001b[0;36mmtrand.RandomState.choice\u001b[1;34m()\u001b[0m\n",
      "\u001b[1;31mValueError\u001b[0m: Cannot take a larger sample than population when 'replace=False'"
     ],
     "ename": "ValueError",
     "evalue": "Cannot take a larger sample than population when 'replace=False'",
     "output_type": "error"
    }
   ],
   "source": [
    "##拆分df\n",
    "df1=tmp.sample(n=train_num)#按0.6比例随机采样\n",
    "df1.head()"
   ],
   "metadata": {
    "collapsed": false,
    "pycharm": {
     "name": "#%%\n",
     "is_executing": false
    }
   }
  },
  {
   "cell_type": "code",
   "execution_count": null,
   "outputs": [],
   "source": [
    "df1[df1['Situation'].str.len() > 513].count()"
   ],
   "metadata": {
    "collapsed": false,
    "pycharm": {
     "name": "#%%\n",
     "is_executing": false
    }
   }
  },
  {
   "cell_type": "code",
   "execution_count": null,
   "outputs": [],
   "source": [
    "df2=test\n",
    "df2.head()"
   ],
   "metadata": {
    "collapsed": false,
    "pycharm": {
     "name": "#%%\n",
     "is_executing": false
    }
   }
  },
  {
   "cell_type": "code",
   "execution_count": null,
   "outputs": [],
   "source": [
    "class Data(object):\n",
    "    def __init__(self):\n",
    "        self.paragraphs = []\n",
    "        self.id = \"0\"\n",
    "        self.title = \"\"\n",
    "\n",
    "class Djson(object):\n",
    "    def __init__(self):\n",
    "        self.version = \"v1.0\"\n",
    "        self.data = []\n",
    " "
   ],
   "metadata": {
    "collapsed": false,
    "pycharm": {
     "name": "#%%\n",
     "is_executing": false
    }
   }
  },
  {
   "cell_type": "code",
   "execution_count": null,
   "outputs": [],
   "source": [
    "djson1 = Djson()\n",
    "for index, row in df1.iterrows():\n",
    "    try:\n",
    "        d = Data()\n",
    "        d.paragraphs = [{\"id\" : \"TRAIN_\" + str(index), \n",
    "                      #\"context\" : row.reason + \"[SEP]\" + row.judgement, \n",
    "                      \"context\" : row.judgement, \n",
    "                      \"qas\":[{\n",
    "                          \"question\" : \"?\",\n",
    "                          \"id\" : \"TRAIN_\" + str(index) + \"_QUERY_0\",\n",
    "                          \"answers\" :[{\n",
    "                              \"text\" : row.Situation,\n",
    "                              \"answer_start\" : row.judgement.index(row.Situation) #+ len(row.reason + \"[SET]\")\n",
    "                          }]\n",
    "                      }]\n",
    "                    }\n",
    "                    ]\n",
    "        d.id = \"TRAIN_\" + str(index)\n",
    "        d.title = row.no\n",
    "        djson1.data.append(d)\n",
    "    except:\n",
    "        print(index)\n",
    "        print(row.no)"
   ],
   "metadata": {
    "collapsed": false,
    "pycharm": {
     "name": "#%%\n",
     "is_executing": false
    }
   }
  },
  {
   "cell_type": "code",
   "execution_count": null,
   "outputs": [],
   "source": [
    "y = json.dumps(djson1, default=lambda o: o.__dict__, ensure_ascii=False)"
   ],
   "metadata": {
    "collapsed": false,
    "pycharm": {
     "name": "#%%\n",
     "is_executing": false
    }
   }
  },
  {
   "cell_type": "code",
   "execution_count": null,
   "outputs": [],
   "source": [
    "with open('./QA_Test1/HBert/dataV2/train_'+ str(train_num) + '_V2_512.json', 'w', encoding='utf8') as outfile:\n",
    "    json.dump(djson1, outfile, default=lambda o: o.__dict__ , ensure_ascii=False)\n",
    "    "
   ],
   "metadata": {
    "collapsed": false,
    "pycharm": {
     "name": "#%%\n",
     "is_executing": false
    }
   }
  }
 ],
 "metadata": {
  "kernelspec": {
   "display_name": "Python 3",
   "language": "python",
   "name": "python3"
  },
  "language_info": {
   "codemirror_mode": {
    "name": "ipython",
    "version": 3
   },
   "file_extension": ".py",
   "mimetype": "text/x-python",
   "name": "python",
   "nbconvert_exporter": "python",
   "pygments_lexer": "ipython3",
   "version": "3.6.4"
  },
  "pycharm": {
   "stem_cell": {
    "cell_type": "raw",
    "source": [],
    "metadata": {
     "collapsed": false
    }
   }
  }
 },
 "nbformat": 4,
 "nbformat_minor": 2
}