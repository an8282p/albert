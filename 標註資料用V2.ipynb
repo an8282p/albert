{
 "cells": [
  {
   "cell_type": "code",
   "execution_count": 159,
   "metadata": {
    "pycharm": {
     "is_executing": false
    }
   },
   "outputs": [
    {
     "name": "stdout",
     "text": [
      "刑事判決_100,中交簡,1002_2011-05-19.json\n"
     ],
     "output_type": "stream"
    }
   ],
   "source": [
    "import os, json \n",
    "import pandas as pd \n",
    "\n",
    "train_num = 1000\n",
    "\n",
    "path_to_json = 'J:\\Legal_Judgment\\臺灣新北地方法院_改' \n",
    "json_files = [pos_json for pos_json in os.listdir(path_to_json) if pos_json.endswith('.json')] \n",
    "print(json_files[0])"
   ]
  },
  {
   "cell_type": "code",
   "execution_count": 160,
   "metadata": {
    "pycharm": {
     "is_executing": false
    }
   },
   "outputs": [],
   "source": [
    "with open('J://Legal_Judgment//臺灣新北地方法院_改//'+json_files[0],\"r\",encoding=\"utf-8\") as f:\n",
    "    dt = json.load(f)"
   ]
  },
  {
   "cell_type": "code",
   "execution_count": 161,
   "metadata": {
    "pycharm": {
     "is_executing": false
    }
   },
   "outputs": [
    {
     "data": {
      "text/plain": "   id     court                       date            no sys reason type  \\\n0   0  臺灣臺中地方法院  2011-05-19T00:00:00+08:00  100,中交簡,1002  刑事   公共危險   判決   \n\n                                            mainText  \\\n0  王炎權服用酒類，不能安全駕駛動力交通工具而駕駛，處拘役伍拾日，如易科罰金，以新臺幣壹仟元折算壹日。   \n\n                                           judgement  \\\n0  臺灣臺中地方法院刑事簡易判決100年度中交簡字第1002號聲請人臺灣臺中地方法院檢察署檢察官...   \n\n                                           Situation  \n0  王炎權於民國100年4月8日晚間9時30分許起至翌日凌晨3時許止，在彰化縣芬園鄉○○路○段2...  ",
      "text/html": "<div>\n<style scoped>\n    .dataframe tbody tr th:only-of-type {\n        vertical-align: middle;\n    }\n\n    .dataframe tbody tr th {\n        vertical-align: top;\n    }\n\n    .dataframe thead th {\n        text-align: right;\n    }\n</style>\n<table border=\"1\" class=\"dataframe\">\n  <thead>\n    <tr style=\"text-align: right;\">\n      <th></th>\n      <th>id</th>\n      <th>court</th>\n      <th>date</th>\n      <th>no</th>\n      <th>sys</th>\n      <th>reason</th>\n      <th>type</th>\n      <th>mainText</th>\n      <th>judgement</th>\n      <th>Situation</th>\n    </tr>\n  </thead>\n  <tbody>\n    <tr>\n      <td>0</td>\n      <td>0</td>\n      <td>臺灣臺中地方法院</td>\n      <td>2011-05-19T00:00:00+08:00</td>\n      <td>100,中交簡,1002</td>\n      <td>刑事</td>\n      <td>公共危險</td>\n      <td>判決</td>\n      <td>王炎權服用酒類，不能安全駕駛動力交通工具而駕駛，處拘役伍拾日，如易科罰金，以新臺幣壹仟元折算壹日。</td>\n      <td>臺灣臺中地方法院刑事簡易判決100年度中交簡字第1002號聲請人臺灣臺中地方法院檢察署檢察官...</td>\n      <td>王炎權於民國100年4月8日晚間9時30分許起至翌日凌晨3時許止，在彰化縣芬園鄉○○路○段2...</td>\n    </tr>\n  </tbody>\n</table>\n</div>"
     },
     "metadata": {},
     "output_type": "execute_result",
     "execution_count": 161
    }
   ],
   "source": [
    "dic = {\n",
    "    \"id\": 0,\n",
    "    \"court\": [dt[\"court\"]], \n",
    "    \"date\": [dt[\"date\"]],\n",
    "    \"no\": [dt[\"no\"]],\n",
    "    \"sys\": [dt[\"sys\"]],\n",
    "    \"reason\": [dt[\"reason\"]],\n",
    "    \"type\": [dt[\"type\"]],\n",
    "    \"mainText\": [dt[\"mainText\"]],\n",
    "    \"judgement\": [dt[\"judgement\"]],\n",
    "    #\"judgement_SIT\": [dt[\"judgement_SIT\"]],\n",
    "    \"Situation\": [dt[\"Situation\"]]\n",
    "}\n",
    "df = pd.DataFrame(dic)\n",
    "df"
   ]
  },
  {
   "cell_type": "code",
   "execution_count": 162,
   "metadata": {
    "pycharm": {
     "is_executing": false
    }
   },
   "outputs": [
    {
     "name": "stdout",
     "text": [
      "100,中簡,1856\n",
      "100,簡,372\n100,簡,458\n",
      "101,侵訴,1\n101,智訴,9\n103,智訴,4\n",
      "105,易,264\n",
      "105,簡,1724\n"
     ],
     "output_type": "stream"
    }
   ],
   "source": [
    "for x in range(1,len(json_files)):\n",
    "    with open('J://Legal_Judgment//臺灣新北地方法院_改//'+json_files[x],\"r\",encoding=\"utf-8\") as f:\n",
    "        dt = json.load(f)\n",
    "\n",
    "    try:\n",
    "        if (str(dt[\"judgement\"]).index(str(dt[\"Situation\"])) < 0):\n",
    "            continue\n",
    "        new = pd.DataFrame({\n",
    "        \"id\" : x,\n",
    "        \"court\": [dt[\"court\"]], \n",
    "        \"date\": [dt[\"date\"]],\n",
    "        \"no\": [dt[\"no\"]],\n",
    "        \"sys\": [dt[\"sys\"]],\n",
    "        \"reason\": [dt[\"reason\"]],\n",
    "        \"type\": [dt[\"type\"]],\n",
    "        \"mainText\": [dt[\"mainText\"]],\n",
    "        \"judgement\": [dt[\"judgement\"]],\n",
    "        #\"judgement_SIT\": [dt[\"judgement_SIT\"]],\n",
    "        \"Situation\": [dt[\"Situation\"]]\n",
    "        })\n",
    "        \n",
    "        df = df.append(new)\n",
    "\n",
    "    except:\n",
    "        print(dt[\"no\"])"
   ]
  },
  {
   "cell_type": "code",
   "execution_count": 163,
   "metadata": {
    "pycharm": {
     "is_executing": false
    }
   },
   "outputs": [],
   "source": [
    "df.to_csv('J://Legal_Judgment//Result.csv', index=0) "
   ]
  },
  {
   "cell_type": "code",
   "execution_count": 164,
   "outputs": [
    {
     "data": {
      "text/plain": "       court                       date            no sys reason type  \\\nid                                                                      \n0   臺灣臺中地方法院  2011-05-19T00:00:00+08:00  100,中交簡,1002  刑事   公共危險   判決   \n1   臺灣臺中地方法院  2011-01-25T00:00:00+08:00   100,中交簡,100  刑事   公共危險   判決   \n2   臺灣臺中地方法院  2011-05-12T00:00:00+08:00  100,中交簡,1016  刑事   公共危險   判決   \n3   臺灣臺中地方法院  2011-06-13T00:00:00+08:00  100,中交簡,1106  刑事   公共危險   判決   \n4   臺灣臺中地方法院  2011-05-17T00:00:00+08:00   100,中簡,1001  刑事     竊盜   判決   \n\n                                             mainText  \\\nid                                                      \n0   王炎權服用酒類，不能安全駕駛動力交通工具而駕駛，處拘役伍拾日，如易科罰金，以新臺幣壹仟元折算壹日。   \n1   林耀明服用酒類，不能安全駕駛動力交通工具而駕駛，處拘役伍拾伍日，如易科罰金，以新臺幣壹仟元折...   \n2      朱建鴻犯不能安全駕駛動力交通工具罪，處罰金新台幣伍萬元，如易服勞役，以新臺幣壹仟元折算壹日。   \n3   洪國棋服用酒類，不能安全駕駛動力交通工具而駕駛，處拘役伍拾日，如易科罰金，以新臺幣壹仟元折算壹日。   \n4   陳守仁竊盜，三罪，均累犯，各處罰金新臺幣壹萬元、壹萬元、伍仟元，如易服勞役，均以新臺幣壹仟元...   \n\n                                            judgement  \\\nid                                                      \n0   臺灣臺中地方法院刑事簡易判決100年度中交簡字第1002號聲請人臺灣臺中地方法院檢察署檢察官...   \n1   臺灣臺中地方法院刑事簡易判決100年度中交簡字第100號聲請人臺灣臺中地方法院檢察署檢察官被...   \n2   臺灣臺中地方法院刑事簡易判決100年度中交簡字第1016號聲請人臺灣臺中地方法院檢察署檢察官...   \n3   臺灣臺中地方法院刑事簡易判決100年度中交簡字第1106號聲請人臺灣臺中地方法院檢察署檢察官...   \n4   臺灣臺中地方法院刑事簡易判決100年度中簡字第1001號聲請人臺灣臺中地方法院檢察署檢察官被...   \n\n                                            Situation  \nid                                                     \n0   王炎權於民國100年4月8日晚間9時30分許起至翌日凌晨3時許止，在彰化縣芬園鄉○○路○段2...  \n1   林耀明於民國99年10月22日下午4時許起至5時許止，在臺中市○○區○○路與豐樂路交岔路口附...  \n2   朱建鴻於民國100年4月19日晚間9時許起，在臺中市大雅區清泉崗友人住處內飲用啤酒，至同日晚...  \n3   洪國棋於民國100年4月28日晚間7時許起至同日晚間8時30分許止，在臺中市○里區○○路21...  \n4   被告陳守仁為高職畢業擔任保全之男子，竟不思以正常手段獲取財物，因一時貪念，以徒手竊取該超商內...  ",
      "text/html": "<div>\n<style scoped>\n    .dataframe tbody tr th:only-of-type {\n        vertical-align: middle;\n    }\n\n    .dataframe tbody tr th {\n        vertical-align: top;\n    }\n\n    .dataframe thead th {\n        text-align: right;\n    }\n</style>\n<table border=\"1\" class=\"dataframe\">\n  <thead>\n    <tr style=\"text-align: right;\">\n      <th></th>\n      <th>court</th>\n      <th>date</th>\n      <th>no</th>\n      <th>sys</th>\n      <th>reason</th>\n      <th>type</th>\n      <th>mainText</th>\n      <th>judgement</th>\n      <th>Situation</th>\n    </tr>\n    <tr>\n      <th>id</th>\n      <th></th>\n      <th></th>\n      <th></th>\n      <th></th>\n      <th></th>\n      <th></th>\n      <th></th>\n      <th></th>\n      <th></th>\n    </tr>\n  </thead>\n  <tbody>\n    <tr>\n      <td>0</td>\n      <td>臺灣臺中地方法院</td>\n      <td>2011-05-19T00:00:00+08:00</td>\n      <td>100,中交簡,1002</td>\n      <td>刑事</td>\n      <td>公共危險</td>\n      <td>判決</td>\n      <td>王炎權服用酒類，不能安全駕駛動力交通工具而駕駛，處拘役伍拾日，如易科罰金，以新臺幣壹仟元折算壹日。</td>\n      <td>臺灣臺中地方法院刑事簡易判決100年度中交簡字第1002號聲請人臺灣臺中地方法院檢察署檢察官...</td>\n      <td>王炎權於民國100年4月8日晚間9時30分許起至翌日凌晨3時許止，在彰化縣芬園鄉○○路○段2...</td>\n    </tr>\n    <tr>\n      <td>1</td>\n      <td>臺灣臺中地方法院</td>\n      <td>2011-01-25T00:00:00+08:00</td>\n      <td>100,中交簡,100</td>\n      <td>刑事</td>\n      <td>公共危險</td>\n      <td>判決</td>\n      <td>林耀明服用酒類，不能安全駕駛動力交通工具而駕駛，處拘役伍拾伍日，如易科罰金，以新臺幣壹仟元折...</td>\n      <td>臺灣臺中地方法院刑事簡易判決100年度中交簡字第100號聲請人臺灣臺中地方法院檢察署檢察官被...</td>\n      <td>林耀明於民國99年10月22日下午4時許起至5時許止，在臺中市○○區○○路與豐樂路交岔路口附...</td>\n    </tr>\n    <tr>\n      <td>2</td>\n      <td>臺灣臺中地方法院</td>\n      <td>2011-05-12T00:00:00+08:00</td>\n      <td>100,中交簡,1016</td>\n      <td>刑事</td>\n      <td>公共危險</td>\n      <td>判決</td>\n      <td>朱建鴻犯不能安全駕駛動力交通工具罪，處罰金新台幣伍萬元，如易服勞役，以新臺幣壹仟元折算壹日。</td>\n      <td>臺灣臺中地方法院刑事簡易判決100年度中交簡字第1016號聲請人臺灣臺中地方法院檢察署檢察官...</td>\n      <td>朱建鴻於民國100年4月19日晚間9時許起，在臺中市大雅區清泉崗友人住處內飲用啤酒，至同日晚...</td>\n    </tr>\n    <tr>\n      <td>3</td>\n      <td>臺灣臺中地方法院</td>\n      <td>2011-06-13T00:00:00+08:00</td>\n      <td>100,中交簡,1106</td>\n      <td>刑事</td>\n      <td>公共危險</td>\n      <td>判決</td>\n      <td>洪國棋服用酒類，不能安全駕駛動力交通工具而駕駛，處拘役伍拾日，如易科罰金，以新臺幣壹仟元折算壹日。</td>\n      <td>臺灣臺中地方法院刑事簡易判決100年度中交簡字第1106號聲請人臺灣臺中地方法院檢察署檢察官...</td>\n      <td>洪國棋於民國100年4月28日晚間7時許起至同日晚間8時30分許止，在臺中市○里區○○路21...</td>\n    </tr>\n    <tr>\n      <td>4</td>\n      <td>臺灣臺中地方法院</td>\n      <td>2011-05-17T00:00:00+08:00</td>\n      <td>100,中簡,1001</td>\n      <td>刑事</td>\n      <td>竊盜</td>\n      <td>判決</td>\n      <td>陳守仁竊盜，三罪，均累犯，各處罰金新臺幣壹萬元、壹萬元、伍仟元，如易服勞役，均以新臺幣壹仟元...</td>\n      <td>臺灣臺中地方法院刑事簡易判決100年度中簡字第1001號聲請人臺灣臺中地方法院檢察署檢察官被...</td>\n      <td>被告陳守仁為高職畢業擔任保全之男子，竟不思以正常手段獲取財物，因一時貪念，以徒手竊取該超商內...</td>\n    </tr>\n  </tbody>\n</table>\n</div>"
     },
     "metadata": {},
     "output_type": "execute_result",
     "execution_count": 164
    }
   ],
   "source": [
    "df = pd.read_csv('J://Legal_Judgment//Result.csv', index_col=0)\n",
    "test = pd.read_csv('.//QA_Test1//HBert//dataV2//Test200_512.csv')\n",
    "df.head()"
   ],
   "metadata": {
    "collapsed": false,
    "pycharm": {
     "name": "#%%\n",
     "is_executing": false
    }
   }
  },
  {
   "cell_type": "code",
   "execution_count": 165,
   "outputs": [
    {
     "data": {
      "text/plain": "     id     court                       date           no sys    reason type  \\\n0   577  臺灣臺中地方法院  2016-08-26T00:00:00+08:00   105,侵訴,124  刑事    妨害性自主罪   判決   \n1   381  臺灣新北地方法院  2015-11-06T00:00:00+08:00    104,原訴,27  刑事  毒品危害防制條例   判決   \n2  1082  臺灣臺南地方法院  2017-01-23T00:00:00+08:00    105,易,913  刑事        傷害   判決   \n3  1349  臺灣高雄地方法院  2017-03-30T00:00:00+08:00    106,審智易,5  刑事    違反著作權法   判決   \n4  1245  臺灣臺南地方法院  2017-12-29T00:00:00+08:00  106,交易,1009  刑事      公共危險   判決   \n\n                                            mainText  \\\n0                     丁○○對於十四歲以上未滿十六歲之女子為性交，處有期徒刑柒月。   \n1  楊寶珍施用第一級毒品，累犯，處有期徒刑玖月。扣案之第一級毒品海洛因（驗餘淨重零點零捌參壹公克...   \n2                                  許堯共同犯傷害罪，處有期徒刑拾月。   \n3                                本件管轄錯誤，移送於臺灣橋頭地方法院。   \n4  方建忠吐氣所含酒精濃度達每公升零點二五毫克以上而駕駛動力交通工具，累犯，處有期徒刑陸月，如易...   \n\n                                           judgement  \\\n0  臺灣臺中地方法院刑事判決105年度侵訴字第124號公訴人臺灣臺中地方法院檢察署檢察官被告陳宗...   \n1  臺灣新北地方法院刑事判決104年度原訴字第27號公訴人臺灣新北地方法院檢察署檢察官被告楊寶珍...   \n2  臺灣臺南地方法院刑事判決105年度易字第913號公訴人臺灣臺南地方法院檢察署檢察官被告許堯上...   \n3  臺灣高雄地方法院刑事判決106年度審智易字第5號公訴人臺灣高雄地方法院檢察署檢察官被告張轟耀...   \n4  臺灣臺南地方法院刑事判決106年度交易字第1009號公訴人臺灣臺南地方法院檢察署檢察官被告方...   \n\n                                           Situation  \n0  猶不知悔改，基於對於14歲以上未滿16歲之女子為性交犯意，於104年9月15日晚上11時許，...  \n1  104年4月19日上午某時許（起訴書略為：於104年4月19日18時5分許為警採尿時點回溯2...  \n2  許堯係許文賢（另經本院判處有期徒刑8月確定）之兄，許文賢及黃昱翔（另經本院判處有期徒刑7月確...  \n3  被告張轟耀明知其以帳號「hgus1599」刊登在露天拍賣網站上販售「電競鍵盤PH-45」網頁...  \n4  詎不知警惕，於106年10月21日17時許，在臺南市佳里區民安里某大廟附近之友人家中飲酒後，...  ",
      "text/html": "<div>\n<style scoped>\n    .dataframe tbody tr th:only-of-type {\n        vertical-align: middle;\n    }\n\n    .dataframe tbody tr th {\n        vertical-align: top;\n    }\n\n    .dataframe thead th {\n        text-align: right;\n    }\n</style>\n<table border=\"1\" class=\"dataframe\">\n  <thead>\n    <tr style=\"text-align: right;\">\n      <th></th>\n      <th>id</th>\n      <th>court</th>\n      <th>date</th>\n      <th>no</th>\n      <th>sys</th>\n      <th>reason</th>\n      <th>type</th>\n      <th>mainText</th>\n      <th>judgement</th>\n      <th>Situation</th>\n    </tr>\n  </thead>\n  <tbody>\n    <tr>\n      <td>0</td>\n      <td>577</td>\n      <td>臺灣臺中地方法院</td>\n      <td>2016-08-26T00:00:00+08:00</td>\n      <td>105,侵訴,124</td>\n      <td>刑事</td>\n      <td>妨害性自主罪</td>\n      <td>判決</td>\n      <td>丁○○對於十四歲以上未滿十六歲之女子為性交，處有期徒刑柒月。</td>\n      <td>臺灣臺中地方法院刑事判決105年度侵訴字第124號公訴人臺灣臺中地方法院檢察署檢察官被告陳宗...</td>\n      <td>猶不知悔改，基於對於14歲以上未滿16歲之女子為性交犯意，於104年9月15日晚上11時許，...</td>\n    </tr>\n    <tr>\n      <td>1</td>\n      <td>381</td>\n      <td>臺灣新北地方法院</td>\n      <td>2015-11-06T00:00:00+08:00</td>\n      <td>104,原訴,27</td>\n      <td>刑事</td>\n      <td>毒品危害防制條例</td>\n      <td>判決</td>\n      <td>楊寶珍施用第一級毒品，累犯，處有期徒刑玖月。扣案之第一級毒品海洛因（驗餘淨重零點零捌參壹公克...</td>\n      <td>臺灣新北地方法院刑事判決104年度原訴字第27號公訴人臺灣新北地方法院檢察署檢察官被告楊寶珍...</td>\n      <td>104年4月19日上午某時許（起訴書略為：於104年4月19日18時5分許為警採尿時點回溯2...</td>\n    </tr>\n    <tr>\n      <td>2</td>\n      <td>1082</td>\n      <td>臺灣臺南地方法院</td>\n      <td>2017-01-23T00:00:00+08:00</td>\n      <td>105,易,913</td>\n      <td>刑事</td>\n      <td>傷害</td>\n      <td>判決</td>\n      <td>許堯共同犯傷害罪，處有期徒刑拾月。</td>\n      <td>臺灣臺南地方法院刑事判決105年度易字第913號公訴人臺灣臺南地方法院檢察署檢察官被告許堯上...</td>\n      <td>許堯係許文賢（另經本院判處有期徒刑8月確定）之兄，許文賢及黃昱翔（另經本院判處有期徒刑7月確...</td>\n    </tr>\n    <tr>\n      <td>3</td>\n      <td>1349</td>\n      <td>臺灣高雄地方法院</td>\n      <td>2017-03-30T00:00:00+08:00</td>\n      <td>106,審智易,5</td>\n      <td>刑事</td>\n      <td>違反著作權法</td>\n      <td>判決</td>\n      <td>本件管轄錯誤，移送於臺灣橋頭地方法院。</td>\n      <td>臺灣高雄地方法院刑事判決106年度審智易字第5號公訴人臺灣高雄地方法院檢察署檢察官被告張轟耀...</td>\n      <td>被告張轟耀明知其以帳號「hgus1599」刊登在露天拍賣網站上販售「電競鍵盤PH-45」網頁...</td>\n    </tr>\n    <tr>\n      <td>4</td>\n      <td>1245</td>\n      <td>臺灣臺南地方法院</td>\n      <td>2017-12-29T00:00:00+08:00</td>\n      <td>106,交易,1009</td>\n      <td>刑事</td>\n      <td>公共危險</td>\n      <td>判決</td>\n      <td>方建忠吐氣所含酒精濃度達每公升零點二五毫克以上而駕駛動力交通工具，累犯，處有期徒刑陸月，如易...</td>\n      <td>臺灣臺南地方法院刑事判決106年度交易字第1009號公訴人臺灣臺南地方法院檢察署檢察官被告方...</td>\n      <td>詎不知警惕，於106年10月21日17時許，在臺南市佳里區民安里某大廟附近之友人家中飲酒後，...</td>\n    </tr>\n  </tbody>\n</table>\n</div>"
     },
     "metadata": {},
     "output_type": "execute_result",
     "execution_count": 165
    }
   ],
   "source": [
    "test.head()"
   ],
   "metadata": {
    "collapsed": false,
    "pycharm": {
     "name": "#%%\n",
     "is_executing": false
    }
   }
  },
  {
   "cell_type": "code",
   "execution_count": 166,
   "outputs": [
    {
     "data": {
      "text/plain": "     id     court                       date           no sys    reason type  \\\n0   577  臺灣臺中地方法院  2016-08-26T00:00:00+08:00   105,侵訴,124  刑事    妨害性自主罪   判決   \n1   381  臺灣新北地方法院  2015-11-06T00:00:00+08:00    104,原訴,27  刑事  毒品危害防制條例   判決   \n2  1082  臺灣臺南地方法院  2017-01-23T00:00:00+08:00    105,易,913  刑事        傷害   判決   \n3  1349  臺灣高雄地方法院  2017-03-30T00:00:00+08:00    106,審智易,5  刑事    違反著作權法   判決   \n4  1245  臺灣臺南地方法院  2017-12-29T00:00:00+08:00  106,交易,1009  刑事      公共危險   判決   \n\n                                            mainText  \\\n0                     丁○○對於十四歲以上未滿十六歲之女子為性交，處有期徒刑柒月。   \n1  楊寶珍施用第一級毒品，累犯，處有期徒刑玖月。扣案之第一級毒品海洛因（驗餘淨重零點零捌參壹公克...   \n2                                  許堯共同犯傷害罪，處有期徒刑拾月。   \n3                                本件管轄錯誤，移送於臺灣橋頭地方法院。   \n4  方建忠吐氣所含酒精濃度達每公升零點二五毫克以上而駕駛動力交通工具，累犯，處有期徒刑陸月，如易...   \n\n                                           judgement  \\\n0  臺灣臺中地方法院刑事判決105年度侵訴字第124號公訴人臺灣臺中地方法院檢察署檢察官被告陳宗...   \n1  臺灣新北地方法院刑事判決104年度原訴字第27號公訴人臺灣新北地方法院檢察署檢察官被告楊寶珍...   \n2  臺灣臺南地方法院刑事判決105年度易字第913號公訴人臺灣臺南地方法院檢察署檢察官被告許堯上...   \n3  臺灣高雄地方法院刑事判決106年度審智易字第5號公訴人臺灣高雄地方法院檢察署檢察官被告張轟耀...   \n4  臺灣臺南地方法院刑事判決106年度交易字第1009號公訴人臺灣臺南地方法院檢察署檢察官被告方...   \n\n                                           Situation  \n0  猶不知悔改，基於對於14歲以上未滿16歲之女子為性交犯意，於104年9月15日晚上11時許，...  \n1  104年4月19日上午某時許（起訴書略為：於104年4月19日18時5分許為警採尿時點回溯2...  \n2  許堯係許文賢（另經本院判處有期徒刑8月確定）之兄，許文賢及黃昱翔（另經本院判處有期徒刑7月確...  \n3  被告張轟耀明知其以帳號「hgus1599」刊登在露天拍賣網站上販售「電競鍵盤PH-45」網頁...  \n4  詎不知警惕，於106年10月21日17時許，在臺南市佳里區民安里某大廟附近之友人家中飲酒後，...  ",
      "text/html": "<div>\n<style scoped>\n    .dataframe tbody tr th:only-of-type {\n        vertical-align: middle;\n    }\n\n    .dataframe tbody tr th {\n        vertical-align: top;\n    }\n\n    .dataframe thead th {\n        text-align: right;\n    }\n</style>\n<table border=\"1\" class=\"dataframe\">\n  <thead>\n    <tr style=\"text-align: right;\">\n      <th></th>\n      <th>id</th>\n      <th>court</th>\n      <th>date</th>\n      <th>no</th>\n      <th>sys</th>\n      <th>reason</th>\n      <th>type</th>\n      <th>mainText</th>\n      <th>judgement</th>\n      <th>Situation</th>\n    </tr>\n  </thead>\n  <tbody>\n    <tr>\n      <td>0</td>\n      <td>577</td>\n      <td>臺灣臺中地方法院</td>\n      <td>2016-08-26T00:00:00+08:00</td>\n      <td>105,侵訴,124</td>\n      <td>刑事</td>\n      <td>妨害性自主罪</td>\n      <td>判決</td>\n      <td>丁○○對於十四歲以上未滿十六歲之女子為性交，處有期徒刑柒月。</td>\n      <td>臺灣臺中地方法院刑事判決105年度侵訴字第124號公訴人臺灣臺中地方法院檢察署檢察官被告陳宗...</td>\n      <td>猶不知悔改，基於對於14歲以上未滿16歲之女子為性交犯意，於104年9月15日晚上11時許，...</td>\n    </tr>\n    <tr>\n      <td>1</td>\n      <td>381</td>\n      <td>臺灣新北地方法院</td>\n      <td>2015-11-06T00:00:00+08:00</td>\n      <td>104,原訴,27</td>\n      <td>刑事</td>\n      <td>毒品危害防制條例</td>\n      <td>判決</td>\n      <td>楊寶珍施用第一級毒品，累犯，處有期徒刑玖月。扣案之第一級毒品海洛因（驗餘淨重零點零捌參壹公克...</td>\n      <td>臺灣新北地方法院刑事判決104年度原訴字第27號公訴人臺灣新北地方法院檢察署檢察官被告楊寶珍...</td>\n      <td>104年4月19日上午某時許（起訴書略為：於104年4月19日18時5分許為警採尿時點回溯2...</td>\n    </tr>\n    <tr>\n      <td>2</td>\n      <td>1082</td>\n      <td>臺灣臺南地方法院</td>\n      <td>2017-01-23T00:00:00+08:00</td>\n      <td>105,易,913</td>\n      <td>刑事</td>\n      <td>傷害</td>\n      <td>判決</td>\n      <td>許堯共同犯傷害罪，處有期徒刑拾月。</td>\n      <td>臺灣臺南地方法院刑事判決105年度易字第913號公訴人臺灣臺南地方法院檢察署檢察官被告許堯上...</td>\n      <td>許堯係許文賢（另經本院判處有期徒刑8月確定）之兄，許文賢及黃昱翔（另經本院判處有期徒刑7月確...</td>\n    </tr>\n    <tr>\n      <td>3</td>\n      <td>1349</td>\n      <td>臺灣高雄地方法院</td>\n      <td>2017-03-30T00:00:00+08:00</td>\n      <td>106,審智易,5</td>\n      <td>刑事</td>\n      <td>違反著作權法</td>\n      <td>判決</td>\n      <td>本件管轄錯誤，移送於臺灣橋頭地方法院。</td>\n      <td>臺灣高雄地方法院刑事判決106年度審智易字第5號公訴人臺灣高雄地方法院檢察署檢察官被告張轟耀...</td>\n      <td>被告張轟耀明知其以帳號「hgus1599」刊登在露天拍賣網站上販售「電競鍵盤PH-45」網頁...</td>\n    </tr>\n    <tr>\n      <td>4</td>\n      <td>1245</td>\n      <td>臺灣臺南地方法院</td>\n      <td>2017-12-29T00:00:00+08:00</td>\n      <td>106,交易,1009</td>\n      <td>刑事</td>\n      <td>公共危險</td>\n      <td>判決</td>\n      <td>方建忠吐氣所含酒精濃度達每公升零點二五毫克以上而駕駛動力交通工具，累犯，處有期徒刑陸月，如易...</td>\n      <td>臺灣臺南地方法院刑事判決106年度交易字第1009號公訴人臺灣臺南地方法院檢察署檢察官被告方...</td>\n      <td>詎不知警惕，於106年10月21日17時許，在臺南市佳里區民安里某大廟附近之友人家中飲酒後，...</td>\n    </tr>\n  </tbody>\n</table>\n</div>"
     },
     "metadata": {},
     "output_type": "execute_result",
     "execution_count": 166
    }
   ],
   "source": [
    "test2 = test[test['Situation'].str.len() < 513]\n",
    "test2.head()\n",
    "#test2.to_csv('J://Legal_Judgment//test2.csv', index=0) "
   ],
   "metadata": {
    "collapsed": false,
    "pycharm": {
     "name": "#%%\n",
     "is_executing": false
    }
   }
  },
  {
   "cell_type": "code",
   "execution_count": 167,
   "outputs": [
    {
     "data": {
      "text/plain": "court        1521\ndate         1521\nno           1521\nsys          1521\nreason       1521\ntype         1521\nmainText     1519\njudgement    1521\nSituation    1520\ndtype: int64"
     },
     "metadata": {},
     "output_type": "execute_result",
     "execution_count": 167
    }
   ],
   "source": [
    "tmp = df[~df['no'].isin(test['no'])]\n",
    "tmp.count()"
   ],
   "metadata": {
    "collapsed": false,
    "pycharm": {
     "name": "#%%\n",
     "is_executing": false
    }
   }
  },
  {
   "cell_type": "code",
   "execution_count": 168,
   "outputs": [
    {
     "data": {
      "text/plain": "         court                       date          no sys  reason type  \\\nid                                                                       \n1468  臺灣高雄地方法院  2017-09-04T00:00:00+08:00   106,智易,11  刑事  違反著作權法   判決   \n588   臺灣臺中地方法院  2017-01-17T00:00:00+08:00  105,侵訴,148  刑事  妨害性自主罪   判決   \n948   臺灣臺中地方法院  2016-09-22T00:00:00+08:00  105,易,1251  刑事      傷害   判決   \n1183  臺灣臺南地方法院  2016-09-23T00:00:00+08:00   105,訴,131  刑事      搶奪   判決   \n1383  臺灣臺中地方法院  2017-08-23T00:00:00+08:00  106,易,1129  刑事    妨害名譽   判決   \n\n                                               mainText  \\\nid                                                        \n1468  顏佩奕擅自以重製之方法侵害他人之著作財產權，處拘役肆拾日，如易科罰金，以新臺幣壹仟元折算壹日...   \n588                         甲○○對於未滿十四歲之女子為性交，處有期徒刑壹年陸月。   \n948                                            本件公訴不受理。   \n1183                 沈偉芳犯搶奪罪，處有期徒刑參月，如易科罰金，以新臺幣壹仟元折算壹日。   \n1383  王淑麗犯散布文字誹謗罪，共貳罪，各處拘役肆拾日，如易科罰金，均以新臺幣壹仟元折算壹日。應執行...   \n\n                                              judgement  \\\nid                                                        \n1468  臺灣高雄地方法院刑事判決105年度智易字第13號106年度智易字第11號公訴人臺灣高雄地方法...   \n588   臺灣臺中地方法院刑事判決105年度侵訴字第148號公訴人臺灣臺中地方法院檢察署檢察官被告吳冠...   \n948   臺灣臺中地方法院刑事判決105年度易字第1251號聲請人臺灣臺中地方法院檢察署檢察官被告紀建...   \n1183  臺灣臺南地方法院刑事判決105年度訴字第131號公訴人臺灣臺南地方法院檢察署檢察官被告沈偉芳...   \n1383  臺灣臺中地方法院刑事判決106年度易字第1129號公訴人臺灣臺中地方法院檢察署檢察官被告王淑...   \n\n                                              Situation  \nid                                                       \n1468  顏佩奕前於民國101年8月1日至103年7月16日受雇順發電腦股份有限公司（下稱順發公司），...  \n588   甲○○於民國102年年中左右，經由臉書認識A女（90年2月生，警詢代號：0000-00000...  \n948   被告紀建興於民國105年3月22日13時許，在臺中市西區中美街與長春街口之長春公園內，因告訴...  \n1183  沈偉芳於民國104年10月31日19時許，步行至臺南市○○區○○路0段000號前，見江素禎手...  \n1383  王淑麗與范煥昌原有婚姻關係，雙方於民國105年4月18日協議離婚。王淑麗因懷疑范煥昌於婚姻存...  ",
      "text/html": "<div>\n<style scoped>\n    .dataframe tbody tr th:only-of-type {\n        vertical-align: middle;\n    }\n\n    .dataframe tbody tr th {\n        vertical-align: top;\n    }\n\n    .dataframe thead th {\n        text-align: right;\n    }\n</style>\n<table border=\"1\" class=\"dataframe\">\n  <thead>\n    <tr style=\"text-align: right;\">\n      <th></th>\n      <th>court</th>\n      <th>date</th>\n      <th>no</th>\n      <th>sys</th>\n      <th>reason</th>\n      <th>type</th>\n      <th>mainText</th>\n      <th>judgement</th>\n      <th>Situation</th>\n    </tr>\n    <tr>\n      <th>id</th>\n      <th></th>\n      <th></th>\n      <th></th>\n      <th></th>\n      <th></th>\n      <th></th>\n      <th></th>\n      <th></th>\n      <th></th>\n    </tr>\n  </thead>\n  <tbody>\n    <tr>\n      <td>1468</td>\n      <td>臺灣高雄地方法院</td>\n      <td>2017-09-04T00:00:00+08:00</td>\n      <td>106,智易,11</td>\n      <td>刑事</td>\n      <td>違反著作權法</td>\n      <td>判決</td>\n      <td>顏佩奕擅自以重製之方法侵害他人之著作財產權，處拘役肆拾日，如易科罰金，以新臺幣壹仟元折算壹日...</td>\n      <td>臺灣高雄地方法院刑事判決105年度智易字第13號106年度智易字第11號公訴人臺灣高雄地方法...</td>\n      <td>顏佩奕前於民國101年8月1日至103年7月16日受雇順發電腦股份有限公司（下稱順發公司），...</td>\n    </tr>\n    <tr>\n      <td>588</td>\n      <td>臺灣臺中地方法院</td>\n      <td>2017-01-17T00:00:00+08:00</td>\n      <td>105,侵訴,148</td>\n      <td>刑事</td>\n      <td>妨害性自主罪</td>\n      <td>判決</td>\n      <td>甲○○對於未滿十四歲之女子為性交，處有期徒刑壹年陸月。</td>\n      <td>臺灣臺中地方法院刑事判決105年度侵訴字第148號公訴人臺灣臺中地方法院檢察署檢察官被告吳冠...</td>\n      <td>甲○○於民國102年年中左右，經由臉書認識A女（90年2月生，警詢代號：0000-00000...</td>\n    </tr>\n    <tr>\n      <td>948</td>\n      <td>臺灣臺中地方法院</td>\n      <td>2016-09-22T00:00:00+08:00</td>\n      <td>105,易,1251</td>\n      <td>刑事</td>\n      <td>傷害</td>\n      <td>判決</td>\n      <td>本件公訴不受理。</td>\n      <td>臺灣臺中地方法院刑事判決105年度易字第1251號聲請人臺灣臺中地方法院檢察署檢察官被告紀建...</td>\n      <td>被告紀建興於民國105年3月22日13時許，在臺中市西區中美街與長春街口之長春公園內，因告訴...</td>\n    </tr>\n    <tr>\n      <td>1183</td>\n      <td>臺灣臺南地方法院</td>\n      <td>2016-09-23T00:00:00+08:00</td>\n      <td>105,訴,131</td>\n      <td>刑事</td>\n      <td>搶奪</td>\n      <td>判決</td>\n      <td>沈偉芳犯搶奪罪，處有期徒刑參月，如易科罰金，以新臺幣壹仟元折算壹日。</td>\n      <td>臺灣臺南地方法院刑事判決105年度訴字第131號公訴人臺灣臺南地方法院檢察署檢察官被告沈偉芳...</td>\n      <td>沈偉芳於民國104年10月31日19時許，步行至臺南市○○區○○路0段000號前，見江素禎手...</td>\n    </tr>\n    <tr>\n      <td>1383</td>\n      <td>臺灣臺中地方法院</td>\n      <td>2017-08-23T00:00:00+08:00</td>\n      <td>106,易,1129</td>\n      <td>刑事</td>\n      <td>妨害名譽</td>\n      <td>判決</td>\n      <td>王淑麗犯散布文字誹謗罪，共貳罪，各處拘役肆拾日，如易科罰金，均以新臺幣壹仟元折算壹日。應執行...</td>\n      <td>臺灣臺中地方法院刑事判決106年度易字第1129號公訴人臺灣臺中地方法院檢察署檢察官被告王淑...</td>\n      <td>王淑麗與范煥昌原有婚姻關係，雙方於民國105年4月18日協議離婚。王淑麗因懷疑范煥昌於婚姻存...</td>\n    </tr>\n  </tbody>\n</table>\n</div>"
     },
     "metadata": {},
     "output_type": "execute_result",
     "execution_count": 168
    }
   ],
   "source": [
    "##拆分df\n",
    "df1=tmp.sample(n=train_num)#按0.6比例随机采样\n",
    "df1.head()"
   ],
   "metadata": {
    "collapsed": false,
    "pycharm": {
     "name": "#%%\n",
     "is_executing": false
    }
   }
  },
  {
   "cell_type": "code",
   "execution_count": 169,
   "outputs": [
    {
     "data": {
      "text/plain": "     id     court                       date           no sys    reason type  \\\n0   577  臺灣臺中地方法院  2016-08-26T00:00:00+08:00   105,侵訴,124  刑事    妨害性自主罪   判決   \n1   381  臺灣新北地方法院  2015-11-06T00:00:00+08:00    104,原訴,27  刑事  毒品危害防制條例   判決   \n2  1082  臺灣臺南地方法院  2017-01-23T00:00:00+08:00    105,易,913  刑事        傷害   判決   \n3  1349  臺灣高雄地方法院  2017-03-30T00:00:00+08:00    106,審智易,5  刑事    違反著作權法   判決   \n4  1245  臺灣臺南地方法院  2017-12-29T00:00:00+08:00  106,交易,1009  刑事      公共危險   判決   \n\n                                            mainText  \\\n0                     丁○○對於十四歲以上未滿十六歲之女子為性交，處有期徒刑柒月。   \n1  楊寶珍施用第一級毒品，累犯，處有期徒刑玖月。扣案之第一級毒品海洛因（驗餘淨重零點零捌參壹公克...   \n2                                  許堯共同犯傷害罪，處有期徒刑拾月。   \n3                                本件管轄錯誤，移送於臺灣橋頭地方法院。   \n4  方建忠吐氣所含酒精濃度達每公升零點二五毫克以上而駕駛動力交通工具，累犯，處有期徒刑陸月，如易...   \n\n                                           judgement  \\\n0  臺灣臺中地方法院刑事判決105年度侵訴字第124號公訴人臺灣臺中地方法院檢察署檢察官被告陳宗...   \n1  臺灣新北地方法院刑事判決104年度原訴字第27號公訴人臺灣新北地方法院檢察署檢察官被告楊寶珍...   \n2  臺灣臺南地方法院刑事判決105年度易字第913號公訴人臺灣臺南地方法院檢察署檢察官被告許堯上...   \n3  臺灣高雄地方法院刑事判決106年度審智易字第5號公訴人臺灣高雄地方法院檢察署檢察官被告張轟耀...   \n4  臺灣臺南地方法院刑事判決106年度交易字第1009號公訴人臺灣臺南地方法院檢察署檢察官被告方...   \n\n                                           Situation  \n0  猶不知悔改，基於對於14歲以上未滿16歲之女子為性交犯意，於104年9月15日晚上11時許，...  \n1  104年4月19日上午某時許（起訴書略為：於104年4月19日18時5分許為警採尿時點回溯2...  \n2  許堯係許文賢（另經本院判處有期徒刑8月確定）之兄，許文賢及黃昱翔（另經本院判處有期徒刑7月確...  \n3  被告張轟耀明知其以帳號「hgus1599」刊登在露天拍賣網站上販售「電競鍵盤PH-45」網頁...  \n4  詎不知警惕，於106年10月21日17時許，在臺南市佳里區民安里某大廟附近之友人家中飲酒後，...  ",
      "text/html": "<div>\n<style scoped>\n    .dataframe tbody tr th:only-of-type {\n        vertical-align: middle;\n    }\n\n    .dataframe tbody tr th {\n        vertical-align: top;\n    }\n\n    .dataframe thead th {\n        text-align: right;\n    }\n</style>\n<table border=\"1\" class=\"dataframe\">\n  <thead>\n    <tr style=\"text-align: right;\">\n      <th></th>\n      <th>id</th>\n      <th>court</th>\n      <th>date</th>\n      <th>no</th>\n      <th>sys</th>\n      <th>reason</th>\n      <th>type</th>\n      <th>mainText</th>\n      <th>judgement</th>\n      <th>Situation</th>\n    </tr>\n  </thead>\n  <tbody>\n    <tr>\n      <td>0</td>\n      <td>577</td>\n      <td>臺灣臺中地方法院</td>\n      <td>2016-08-26T00:00:00+08:00</td>\n      <td>105,侵訴,124</td>\n      <td>刑事</td>\n      <td>妨害性自主罪</td>\n      <td>判決</td>\n      <td>丁○○對於十四歲以上未滿十六歲之女子為性交，處有期徒刑柒月。</td>\n      <td>臺灣臺中地方法院刑事判決105年度侵訴字第124號公訴人臺灣臺中地方法院檢察署檢察官被告陳宗...</td>\n      <td>猶不知悔改，基於對於14歲以上未滿16歲之女子為性交犯意，於104年9月15日晚上11時許，...</td>\n    </tr>\n    <tr>\n      <td>1</td>\n      <td>381</td>\n      <td>臺灣新北地方法院</td>\n      <td>2015-11-06T00:00:00+08:00</td>\n      <td>104,原訴,27</td>\n      <td>刑事</td>\n      <td>毒品危害防制條例</td>\n      <td>判決</td>\n      <td>楊寶珍施用第一級毒品，累犯，處有期徒刑玖月。扣案之第一級毒品海洛因（驗餘淨重零點零捌參壹公克...</td>\n      <td>臺灣新北地方法院刑事判決104年度原訴字第27號公訴人臺灣新北地方法院檢察署檢察官被告楊寶珍...</td>\n      <td>104年4月19日上午某時許（起訴書略為：於104年4月19日18時5分許為警採尿時點回溯2...</td>\n    </tr>\n    <tr>\n      <td>2</td>\n      <td>1082</td>\n      <td>臺灣臺南地方法院</td>\n      <td>2017-01-23T00:00:00+08:00</td>\n      <td>105,易,913</td>\n      <td>刑事</td>\n      <td>傷害</td>\n      <td>判決</td>\n      <td>許堯共同犯傷害罪，處有期徒刑拾月。</td>\n      <td>臺灣臺南地方法院刑事判決105年度易字第913號公訴人臺灣臺南地方法院檢察署檢察官被告許堯上...</td>\n      <td>許堯係許文賢（另經本院判處有期徒刑8月確定）之兄，許文賢及黃昱翔（另經本院判處有期徒刑7月確...</td>\n    </tr>\n    <tr>\n      <td>3</td>\n      <td>1349</td>\n      <td>臺灣高雄地方法院</td>\n      <td>2017-03-30T00:00:00+08:00</td>\n      <td>106,審智易,5</td>\n      <td>刑事</td>\n      <td>違反著作權法</td>\n      <td>判決</td>\n      <td>本件管轄錯誤，移送於臺灣橋頭地方法院。</td>\n      <td>臺灣高雄地方法院刑事判決106年度審智易字第5號公訴人臺灣高雄地方法院檢察署檢察官被告張轟耀...</td>\n      <td>被告張轟耀明知其以帳號「hgus1599」刊登在露天拍賣網站上販售「電競鍵盤PH-45」網頁...</td>\n    </tr>\n    <tr>\n      <td>4</td>\n      <td>1245</td>\n      <td>臺灣臺南地方法院</td>\n      <td>2017-12-29T00:00:00+08:00</td>\n      <td>106,交易,1009</td>\n      <td>刑事</td>\n      <td>公共危險</td>\n      <td>判決</td>\n      <td>方建忠吐氣所含酒精濃度達每公升零點二五毫克以上而駕駛動力交通工具，累犯，處有期徒刑陸月，如易...</td>\n      <td>臺灣臺南地方法院刑事判決106年度交易字第1009號公訴人臺灣臺南地方法院檢察署檢察官被告方...</td>\n      <td>詎不知警惕，於106年10月21日17時許，在臺南市佳里區民安里某大廟附近之友人家中飲酒後，...</td>\n    </tr>\n  </tbody>\n</table>\n</div>"
     },
     "metadata": {},
     "output_type": "execute_result",
     "execution_count": 169
    }
   ],
   "source": [
    "df2=test\n",
    "df2.head()"
   ],
   "metadata": {
    "collapsed": false,
    "pycharm": {
     "name": "#%%\n",
     "is_executing": false
    }
   }
  },
  {
   "cell_type": "code",
   "execution_count": 170,
   "outputs": [],
   "source": [
    "class Data(object):\n",
    "    def __init__(self):\n",
    "        self.paragraphs = []\n",
    "        self.id = \"0\"\n",
    "        self.title = \"\"\n",
    "\n",
    "class Djson(object):\n",
    "    def __init__(self):\n",
    "        self.version = \"v1.0\"\n",
    "        self.data = []\n",
    " "
   ],
   "metadata": {
    "collapsed": false,
    "pycharm": {
     "name": "#%%\n",
     "is_executing": false
    }
   }
  },
  {
   "cell_type": "code",
   "execution_count": 171,
   "outputs": [
    {
     "name": "stdout",
     "text": [
      "1371\n106,易,1048\n"
     ],
     "output_type": "stream"
    }
   ],
   "source": [
    "djson1 = Djson()\n",
    "for index, row in df1.iterrows():\n",
    "    try:\n",
    "        d = Data()\n",
    "        d.paragraphs = [{\"id\" : \"TRAIN_\" + str(index), \n",
    "                      #\"context\" : row.reason + \"[SEP]\" + row.judgement, \n",
    "                      \"context\" : row.judgement, \n",
    "                      \"qas\":[{\n",
    "                          \"question\" : \"?\",\n",
    "                          \"id\" : \"TRAIN_\" + str(index) + \"_QUERY_0\",\n",
    "                          \"answers\" :[{\n",
    "                              \"text\" : row.Situation,\n",
    "                              \"answer_start\" : row.judgement.index(row.Situation) #+ len(row.reason + \"[SET]\")\n",
    "                          }]\n",
    "                      }]\n",
    "                    }\n",
    "                    ]\n",
    "        d.id = \"TRAIN_\" + str(index)\n",
    "        d.title = row.no\n",
    "        djson1.data.append(d)\n",
    "    except:\n",
    "        print(index)\n",
    "        print(row.no)"
   ],
   "metadata": {
    "collapsed": false,
    "pycharm": {
     "name": "#%%\n",
     "is_executing": false
    }
   }
  },
  {
   "cell_type": "code",
   "execution_count": 172,
   "outputs": [],
   "source": [
    "y = json.dumps(djson1, default=lambda o: o.__dict__, ensure_ascii=False)"
   ],
   "metadata": {
    "collapsed": false,
    "pycharm": {
     "name": "#%%\n",
     "is_executing": false
    }
   }
  },
  {
   "cell_type": "code",
   "execution_count": 173,
   "outputs": [],
   "source": [
    "with open('./QA_Test1/HBert/dataV2/train_'+ str(train_num) + '_V2_512.json', 'w', encoding='utf8') as outfile:\n",
    "    json.dump(djson1, outfile, default=lambda o: o.__dict__ , ensure_ascii=False)\n",
    "    "
   ],
   "metadata": {
    "collapsed": false,
    "pycharm": {
     "name": "#%%\n",
     "is_executing": false
    }
   }
  }
 ],
 "metadata": {
  "kernelspec": {
   "display_name": "Python 3",
   "language": "python",
   "name": "python3"
  },
  "language_info": {
   "codemirror_mode": {
    "name": "ipython",
    "version": 3
   },
   "file_extension": ".py",
   "mimetype": "text/x-python",
   "name": "python",
   "nbconvert_exporter": "python",
   "pygments_lexer": "ipython3",
   "version": "3.6.4"
  },
  "pycharm": {
   "stem_cell": {
    "cell_type": "raw",
    "source": [],
    "metadata": {
     "collapsed": false
    }
   }
  }
 },
 "nbformat": 4,
 "nbformat_minor": 2
}