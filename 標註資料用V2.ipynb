{
 "cells": [
  {
   "cell_type": "code",
   "execution_count": 125,
   "metadata": {
    "pycharm": {
     "is_executing": false
    }
   },
   "outputs": [
    {
     "name": "stdout",
     "text": [
      "刑事判決_100,中交簡,1002_2011-05-19.json\n"
     ],
     "output_type": "stream"
    }
   ],
   "source": [
    "import os, json \n",
    "import pandas as pd \n",
    "\n",
    "train_num = 1500\n",
    "\n",
    "path_to_json = 'J:\\Legal_Judgment\\臺灣新北地方法院_改' \n",
    "json_files = [pos_json for pos_json in os.listdir(path_to_json) if pos_json.endswith('.json')] \n",
    "print(json_files[0])"
   ]
  },
  {
   "cell_type": "code",
   "execution_count": 126,
   "metadata": {
    "pycharm": {
     "is_executing": false
    }
   },
   "outputs": [],
   "source": [
    "with open('J://Legal_Judgment//臺灣新北地方法院_改//'+json_files[0],\"r\",encoding=\"utf-8\") as f:\n",
    "    dt = json.load(f)"
   ]
  },
  {
   "cell_type": "code",
   "execution_count": 127,
   "metadata": {
    "pycharm": {
     "is_executing": false
    }
   },
   "outputs": [
    {
     "data": {
      "text/plain": "   id     court                       date            no sys reason type  \\\n0   0  臺灣臺中地方法院  2011-05-19T00:00:00+08:00  100,中交簡,1002  刑事   公共危險   判決   \n\n                                            mainText  \\\n0  王炎權服用酒類，不能安全駕駛動力交通工具而駕駛，處拘役伍拾日，如易科罰金，以新臺幣壹仟元折算壹日。   \n\n                                           judgement  \\\n0  臺灣臺中地方法院刑事簡易判決100年度中交簡字第1002號聲請人臺灣臺中地方法院檢察署檢察官...   \n\n                                           Situation  \n0  王炎權於民國100年4月8日晚間9時30分許起至翌日凌晨3時許止，在彰化縣芬園鄉○○路○段2...  ",
      "text/html": "<div>\n<style scoped>\n    .dataframe tbody tr th:only-of-type {\n        vertical-align: middle;\n    }\n\n    .dataframe tbody tr th {\n        vertical-align: top;\n    }\n\n    .dataframe thead th {\n        text-align: right;\n    }\n</style>\n<table border=\"1\" class=\"dataframe\">\n  <thead>\n    <tr style=\"text-align: right;\">\n      <th></th>\n      <th>id</th>\n      <th>court</th>\n      <th>date</th>\n      <th>no</th>\n      <th>sys</th>\n      <th>reason</th>\n      <th>type</th>\n      <th>mainText</th>\n      <th>judgement</th>\n      <th>Situation</th>\n    </tr>\n  </thead>\n  <tbody>\n    <tr>\n      <td>0</td>\n      <td>0</td>\n      <td>臺灣臺中地方法院</td>\n      <td>2011-05-19T00:00:00+08:00</td>\n      <td>100,中交簡,1002</td>\n      <td>刑事</td>\n      <td>公共危險</td>\n      <td>判決</td>\n      <td>王炎權服用酒類，不能安全駕駛動力交通工具而駕駛，處拘役伍拾日，如易科罰金，以新臺幣壹仟元折算壹日。</td>\n      <td>臺灣臺中地方法院刑事簡易判決100年度中交簡字第1002號聲請人臺灣臺中地方法院檢察署檢察官...</td>\n      <td>王炎權於民國100年4月8日晚間9時30分許起至翌日凌晨3時許止，在彰化縣芬園鄉○○路○段2...</td>\n    </tr>\n  </tbody>\n</table>\n</div>"
     },
     "metadata": {},
     "output_type": "execute_result",
     "execution_count": 127
    }
   ],
   "source": [
    "dic = {\n",
    "    \"id\": 0,\n",
    "    \"court\": [dt[\"court\"]], \n",
    "    \"date\": [dt[\"date\"]],\n",
    "    \"no\": [dt[\"no\"]],\n",
    "    \"sys\": [dt[\"sys\"]],\n",
    "    \"reason\": [dt[\"reason\"]],\n",
    "    \"type\": [dt[\"type\"]],\n",
    "    \"mainText\": [dt[\"mainText\"]],\n",
    "    \"judgement\": [dt[\"judgement\"]],\n",
    "    #\"judgement_SIT\": [dt[\"judgement_SIT\"]],\n",
    "    \"Situation\": [dt[\"Situation\"]]\n",
    "}\n",
    "df = pd.DataFrame(dic)\n",
    "df"
   ]
  },
  {
   "cell_type": "code",
   "execution_count": 128,
   "metadata": {
    "pycharm": {
     "is_executing": false
    }
   },
   "outputs": [
    {
     "name": "stdout",
     "text": [
      "100,中簡,1856\n",
      "100,簡,372\n100,簡,458\n101,侵訴,1",
      "\n101,智訴,9\n103,智訴,4\n",
      "105,易,264\n",
      "105,簡,1724\n"
     ],
     "output_type": "stream"
    }
   ],
   "source": [
    "for x in range(1,len(json_files)):\n",
    "    with open('J://Legal_Judgment//臺灣新北地方法院_改//'+json_files[x],\"r\",encoding=\"utf-8\") as f:\n",
    "        dt = json.load(f)\n",
    "\n",
    "    try:\n",
    "        if (str(dt[\"judgement\"]).index(str(dt[\"Situation\"])) < 0):\n",
    "            continue\n",
    "        new = pd.DataFrame({\n",
    "        \"id\" : x,\n",
    "        \"court\": [dt[\"court\"]], \n",
    "        \"date\": [dt[\"date\"]],\n",
    "        \"no\": [dt[\"no\"]],\n",
    "        \"sys\": [dt[\"sys\"]],\n",
    "        \"reason\": [dt[\"reason\"]],\n",
    "        \"type\": [dt[\"type\"]],\n",
    "        \"mainText\": [dt[\"mainText\"]],\n",
    "        \"judgement\": [dt[\"judgement\"]],\n",
    "        #\"judgement_SIT\": [dt[\"judgement_SIT\"]],\n",
    "        \"Situation\": [dt[\"Situation\"]]\n",
    "        })\n",
    "        \n",
    "        df = df.append(new)\n",
    "\n",
    "    except:\n",
    "        print(dt[\"no\"])"
   ]
  },
  {
   "cell_type": "code",
   "execution_count": 129,
   "metadata": {
    "pycharm": {
     "is_executing": false
    }
   },
   "outputs": [],
   "source": [
    "df.to_csv('J://Legal_Judgment//Result.csv', index=0) "
   ]
  },
  {
   "cell_type": "code",
   "execution_count": 130,
   "outputs": [
    {
     "data": {
      "text/plain": "       court                       date            no sys reason type  \\\nid                                                                      \n0   臺灣臺中地方法院  2011-05-19T00:00:00+08:00  100,中交簡,1002  刑事   公共危險   判決   \n1   臺灣臺中地方法院  2011-01-25T00:00:00+08:00   100,中交簡,100  刑事   公共危險   判決   \n2   臺灣臺中地方法院  2011-05-12T00:00:00+08:00  100,中交簡,1016  刑事   公共危險   判決   \n3   臺灣臺中地方法院  2011-06-13T00:00:00+08:00  100,中交簡,1106  刑事   公共危險   判決   \n4   臺灣臺中地方法院  2011-05-17T00:00:00+08:00   100,中簡,1001  刑事     竊盜   判決   \n\n                                             mainText  \\\nid                                                      \n0   王炎權服用酒類，不能安全駕駛動力交通工具而駕駛，處拘役伍拾日，如易科罰金，以新臺幣壹仟元折算壹日。   \n1   林耀明服用酒類，不能安全駕駛動力交通工具而駕駛，處拘役伍拾伍日，如易科罰金，以新臺幣壹仟元折...   \n2      朱建鴻犯不能安全駕駛動力交通工具罪，處罰金新台幣伍萬元，如易服勞役，以新臺幣壹仟元折算壹日。   \n3   洪國棋服用酒類，不能安全駕駛動力交通工具而駕駛，處拘役伍拾日，如易科罰金，以新臺幣壹仟元折算壹日。   \n4   陳守仁竊盜，三罪，均累犯，各處罰金新臺幣壹萬元、壹萬元、伍仟元，如易服勞役，均以新臺幣壹仟元...   \n\n                                            judgement  \\\nid                                                      \n0   臺灣臺中地方法院刑事簡易判決100年度中交簡字第1002號聲請人臺灣臺中地方法院檢察署檢察官...   \n1   臺灣臺中地方法院刑事簡易判決100年度中交簡字第100號聲請人臺灣臺中地方法院檢察署檢察官被...   \n2   臺灣臺中地方法院刑事簡易判決100年度中交簡字第1016號聲請人臺灣臺中地方法院檢察署檢察官...   \n3   臺灣臺中地方法院刑事簡易判決100年度中交簡字第1106號聲請人臺灣臺中地方法院檢察署檢察官...   \n4   臺灣臺中地方法院刑事簡易判決100年度中簡字第1001號聲請人臺灣臺中地方法院檢察署檢察官被...   \n\n                                            Situation  \nid                                                     \n0   王炎權於民國100年4月8日晚間9時30分許起至翌日凌晨3時許止，在彰化縣芬園鄉○○路○段2...  \n1   林耀明於民國99年10月22日下午4時許起至5時許止，在臺中市○○區○○路與豐樂路交岔路口附...  \n2   朱建鴻於民國100年4月19日晚間9時許起，在臺中市大雅區清泉崗友人住處內飲用啤酒，至同日晚...  \n3   洪國棋於民國100年4月28日晚間7時許起至同日晚間8時30分許止，在臺中市○里區○○路21...  \n4   被告陳守仁為高職畢業擔任保全之男子，竟不思以正常手段獲取財物，因一時貪念，以徒手竊取該超商內...  ",
      "text/html": "<div>\n<style scoped>\n    .dataframe tbody tr th:only-of-type {\n        vertical-align: middle;\n    }\n\n    .dataframe tbody tr th {\n        vertical-align: top;\n    }\n\n    .dataframe thead th {\n        text-align: right;\n    }\n</style>\n<table border=\"1\" class=\"dataframe\">\n  <thead>\n    <tr style=\"text-align: right;\">\n      <th></th>\n      <th>court</th>\n      <th>date</th>\n      <th>no</th>\n      <th>sys</th>\n      <th>reason</th>\n      <th>type</th>\n      <th>mainText</th>\n      <th>judgement</th>\n      <th>Situation</th>\n    </tr>\n    <tr>\n      <th>id</th>\n      <th></th>\n      <th></th>\n      <th></th>\n      <th></th>\n      <th></th>\n      <th></th>\n      <th></th>\n      <th></th>\n      <th></th>\n    </tr>\n  </thead>\n  <tbody>\n    <tr>\n      <td>0</td>\n      <td>臺灣臺中地方法院</td>\n      <td>2011-05-19T00:00:00+08:00</td>\n      <td>100,中交簡,1002</td>\n      <td>刑事</td>\n      <td>公共危險</td>\n      <td>判決</td>\n      <td>王炎權服用酒類，不能安全駕駛動力交通工具而駕駛，處拘役伍拾日，如易科罰金，以新臺幣壹仟元折算壹日。</td>\n      <td>臺灣臺中地方法院刑事簡易判決100年度中交簡字第1002號聲請人臺灣臺中地方法院檢察署檢察官...</td>\n      <td>王炎權於民國100年4月8日晚間9時30分許起至翌日凌晨3時許止，在彰化縣芬園鄉○○路○段2...</td>\n    </tr>\n    <tr>\n      <td>1</td>\n      <td>臺灣臺中地方法院</td>\n      <td>2011-01-25T00:00:00+08:00</td>\n      <td>100,中交簡,100</td>\n      <td>刑事</td>\n      <td>公共危險</td>\n      <td>判決</td>\n      <td>林耀明服用酒類，不能安全駕駛動力交通工具而駕駛，處拘役伍拾伍日，如易科罰金，以新臺幣壹仟元折...</td>\n      <td>臺灣臺中地方法院刑事簡易判決100年度中交簡字第100號聲請人臺灣臺中地方法院檢察署檢察官被...</td>\n      <td>林耀明於民國99年10月22日下午4時許起至5時許止，在臺中市○○區○○路與豐樂路交岔路口附...</td>\n    </tr>\n    <tr>\n      <td>2</td>\n      <td>臺灣臺中地方法院</td>\n      <td>2011-05-12T00:00:00+08:00</td>\n      <td>100,中交簡,1016</td>\n      <td>刑事</td>\n      <td>公共危險</td>\n      <td>判決</td>\n      <td>朱建鴻犯不能安全駕駛動力交通工具罪，處罰金新台幣伍萬元，如易服勞役，以新臺幣壹仟元折算壹日。</td>\n      <td>臺灣臺中地方法院刑事簡易判決100年度中交簡字第1016號聲請人臺灣臺中地方法院檢察署檢察官...</td>\n      <td>朱建鴻於民國100年4月19日晚間9時許起，在臺中市大雅區清泉崗友人住處內飲用啤酒，至同日晚...</td>\n    </tr>\n    <tr>\n      <td>3</td>\n      <td>臺灣臺中地方法院</td>\n      <td>2011-06-13T00:00:00+08:00</td>\n      <td>100,中交簡,1106</td>\n      <td>刑事</td>\n      <td>公共危險</td>\n      <td>判決</td>\n      <td>洪國棋服用酒類，不能安全駕駛動力交通工具而駕駛，處拘役伍拾日，如易科罰金，以新臺幣壹仟元折算壹日。</td>\n      <td>臺灣臺中地方法院刑事簡易判決100年度中交簡字第1106號聲請人臺灣臺中地方法院檢察署檢察官...</td>\n      <td>洪國棋於民國100年4月28日晚間7時許起至同日晚間8時30分許止，在臺中市○里區○○路21...</td>\n    </tr>\n    <tr>\n      <td>4</td>\n      <td>臺灣臺中地方法院</td>\n      <td>2011-05-17T00:00:00+08:00</td>\n      <td>100,中簡,1001</td>\n      <td>刑事</td>\n      <td>竊盜</td>\n      <td>判決</td>\n      <td>陳守仁竊盜，三罪，均累犯，各處罰金新臺幣壹萬元、壹萬元、伍仟元，如易服勞役，均以新臺幣壹仟元...</td>\n      <td>臺灣臺中地方法院刑事簡易判決100年度中簡字第1001號聲請人臺灣臺中地方法院檢察署檢察官被...</td>\n      <td>被告陳守仁為高職畢業擔任保全之男子，竟不思以正常手段獲取財物，因一時貪念，以徒手竊取該超商內...</td>\n    </tr>\n  </tbody>\n</table>\n</div>"
     },
     "metadata": {},
     "output_type": "execute_result",
     "execution_count": 130
    }
   ],
   "source": [
    "df = pd.read_csv('J://Legal_Judgment//Result.csv', index_col=0)\n",
    "test = pd.read_csv('.//QA_Test1//HBert//dataV2//Test200.csv')\n",
    "df.head()"
   ],
   "metadata": {
    "collapsed": false,
    "pycharm": {
     "name": "#%%\n",
     "is_executing": false
    }
   }
  },
  {
   "cell_type": "code",
   "execution_count": 131,
   "outputs": [
    {
     "data": {
      "text/plain": "      court                       date           no sys reason type  \\\n0  臺灣新北地方法院  2014-08-08T00:00:00+08:00      98,矚訴,1  刑事     貪污   判決   \n1  臺灣臺中地方法院  2011-11-10T00:00:00+08:00   100,易,3133  刑事   妨害風化   判決   \n2  臺灣高雄地方法院  2016-01-27T00:00:00+08:00    105,審易,98  刑事   妨害自由   判決   \n3  臺灣高雄地方法院  2017-08-08T00:00:00+08:00    106,易,488  刑事   妨害自由   判決   \n4  臺灣臺中地方法院  2016-06-04T00:00:00+08:00  105,審易,1192  刑事   妨害名譽   判決   \n\n                                            mainText  \\\n0  陳欽凱犯廢棄物清理法第四十六條第四款前段之非法清理廢棄物罪，處有期徒刑壹年貳月。又共同犯貪污...   \n1       廖述鐘意圖供人觀覽，公然為猥褻之行為，處拘役貳拾日，如易科罰金，以新臺幣壹仟元折算壹日。   \n2                                           本件公訴不受理。   \n3  黃信奈犯恐嚇危害安全罪，累犯，處有期徒刑參月，如易科罰金，以新臺幣壹仟元折算壹日。又犯恐嚇危...   \n4                                           本件公訴不受理。   \n\n                                           judgement  \\\n0  臺灣新北地方法院刑事判決98年度矚訴字第1號公訴人臺灣新北地方法院檢察署檢察官被告陳欽凱選任...   \n1  臺灣臺中地方法院刑事判決100年度易字第3133號公訴人臺灣臺中地方法院檢察署檢察官被告廖述...   \n2  臺灣高雄地方法院刑事判決105年度審易字第98號公訴人臺灣高雄地方法院檢察署檢察官被告潘心雅...   \n3  臺灣高雄地方法院刑事判決106年度易字第488號公訴人臺灣高雄地方法院檢察署檢察官被告黃信奈...   \n4  臺灣臺中地方法院刑事判決105年度審易字第1192號公訴人臺灣臺中地方法院檢察署檢察官被告鄭...   \n\n                                           Situation  \n0  陳欽凱係和財資源回收股份有限公司（址設新北市○○區○○路000巷00號，下稱和財公司）之負責...  \n1  廖述鐘酒後於民國100年7月4日下午3時45分許，在臺中市潭子區頭家厝，搭乘由陳啟泉所駕駛車...  \n2  被告潘心雅基於侵入他人住宅之犯意，於民國104年12月8日上午5時20分許，至高雄市○○區○...  \n3  黃信奈平時居住在高雄市○○區○○路000號0樓，與於高雄市○○區○○路000號之住戶李○○及...  \n4  被告鄭閎仁於民國105年2月27日2時20分許，在莒光號531次列車經過交通部臺灣鐵路管理局...  ",
      "text/html": "<div>\n<style scoped>\n    .dataframe tbody tr th:only-of-type {\n        vertical-align: middle;\n    }\n\n    .dataframe tbody tr th {\n        vertical-align: top;\n    }\n\n    .dataframe thead th {\n        text-align: right;\n    }\n</style>\n<table border=\"1\" class=\"dataframe\">\n  <thead>\n    <tr style=\"text-align: right;\">\n      <th></th>\n      <th>court</th>\n      <th>date</th>\n      <th>no</th>\n      <th>sys</th>\n      <th>reason</th>\n      <th>type</th>\n      <th>mainText</th>\n      <th>judgement</th>\n      <th>Situation</th>\n    </tr>\n  </thead>\n  <tbody>\n    <tr>\n      <td>0</td>\n      <td>臺灣新北地方法院</td>\n      <td>2014-08-08T00:00:00+08:00</td>\n      <td>98,矚訴,1</td>\n      <td>刑事</td>\n      <td>貪污</td>\n      <td>判決</td>\n      <td>陳欽凱犯廢棄物清理法第四十六條第四款前段之非法清理廢棄物罪，處有期徒刑壹年貳月。又共同犯貪污...</td>\n      <td>臺灣新北地方法院刑事判決98年度矚訴字第1號公訴人臺灣新北地方法院檢察署檢察官被告陳欽凱選任...</td>\n      <td>陳欽凱係和財資源回收股份有限公司（址設新北市○○區○○路000巷00號，下稱和財公司）之負責...</td>\n    </tr>\n    <tr>\n      <td>1</td>\n      <td>臺灣臺中地方法院</td>\n      <td>2011-11-10T00:00:00+08:00</td>\n      <td>100,易,3133</td>\n      <td>刑事</td>\n      <td>妨害風化</td>\n      <td>判決</td>\n      <td>廖述鐘意圖供人觀覽，公然為猥褻之行為，處拘役貳拾日，如易科罰金，以新臺幣壹仟元折算壹日。</td>\n      <td>臺灣臺中地方法院刑事判決100年度易字第3133號公訴人臺灣臺中地方法院檢察署檢察官被告廖述...</td>\n      <td>廖述鐘酒後於民國100年7月4日下午3時45分許，在臺中市潭子區頭家厝，搭乘由陳啟泉所駕駛車...</td>\n    </tr>\n    <tr>\n      <td>2</td>\n      <td>臺灣高雄地方法院</td>\n      <td>2016-01-27T00:00:00+08:00</td>\n      <td>105,審易,98</td>\n      <td>刑事</td>\n      <td>妨害自由</td>\n      <td>判決</td>\n      <td>本件公訴不受理。</td>\n      <td>臺灣高雄地方法院刑事判決105年度審易字第98號公訴人臺灣高雄地方法院檢察署檢察官被告潘心雅...</td>\n      <td>被告潘心雅基於侵入他人住宅之犯意，於民國104年12月8日上午5時20分許，至高雄市○○區○...</td>\n    </tr>\n    <tr>\n      <td>3</td>\n      <td>臺灣高雄地方法院</td>\n      <td>2017-08-08T00:00:00+08:00</td>\n      <td>106,易,488</td>\n      <td>刑事</td>\n      <td>妨害自由</td>\n      <td>判決</td>\n      <td>黃信奈犯恐嚇危害安全罪，累犯，處有期徒刑參月，如易科罰金，以新臺幣壹仟元折算壹日。又犯恐嚇危...</td>\n      <td>臺灣高雄地方法院刑事判決106年度易字第488號公訴人臺灣高雄地方法院檢察署檢察官被告黃信奈...</td>\n      <td>黃信奈平時居住在高雄市○○區○○路000號0樓，與於高雄市○○區○○路000號之住戶李○○及...</td>\n    </tr>\n    <tr>\n      <td>4</td>\n      <td>臺灣臺中地方法院</td>\n      <td>2016-06-04T00:00:00+08:00</td>\n      <td>105,審易,1192</td>\n      <td>刑事</td>\n      <td>妨害名譽</td>\n      <td>判決</td>\n      <td>本件公訴不受理。</td>\n      <td>臺灣臺中地方法院刑事判決105年度審易字第1192號公訴人臺灣臺中地方法院檢察署檢察官被告鄭...</td>\n      <td>被告鄭閎仁於民國105年2月27日2時20分許，在莒光號531次列車經過交通部臺灣鐵路管理局...</td>\n    </tr>\n  </tbody>\n</table>\n</div>"
     },
     "metadata": {},
     "output_type": "execute_result",
     "execution_count": 131
    }
   ],
   "source": [
    "test.head()"
   ],
   "metadata": {
    "collapsed": false,
    "pycharm": {
     "name": "#%%\n",
     "is_executing": false
    }
   }
  },
  {
   "cell_type": "code",
   "execution_count": 132,
   "outputs": [
    {
     "data": {
      "text/plain": "court        1515\ndate         1515\nno           1515\nsys          1515\nreason       1515\ntype         1515\nmainText     1513\njudgement    1515\nSituation    1514\ndtype: int64"
     },
     "metadata": {},
     "output_type": "execute_result",
     "execution_count": 132
    }
   ],
   "source": [
    "tmp = df[~df['no'].isin(test['no'])]\n",
    "tmp.count()"
   ],
   "metadata": {
    "collapsed": false,
    "pycharm": {
     "name": "#%%\n",
     "is_executing": false
    }
   }
  },
  {
   "cell_type": "code",
   "execution_count": 133,
   "outputs": [
    {
     "data": {
      "text/plain": "         court                       date           no sys  reason type  \\\nid                                                                        \n1558  臺灣臺南地方法院  2018-10-16T00:00:00+08:00     107,侵訴,4  刑事   妨害性自主   判決   \n1166  臺灣臺中地方法院  2017-03-03T00:00:00+08:00   105,簡上,297  刑事    妨害名譽   判決   \n504   臺灣臺中地方法院  2016-07-28T00:00:00+08:00  105,中簡,1006  刑事    妨害公務   判決   \n1480  臺灣高雄地方法院  2017-08-30T00:00:00+08:00    106,智簡,31  刑事  違反著作權法   判決   \n856   臺灣臺中地方法院  2017-01-05T00:00:00+08:00  105,審易,3748  刑事    妨害名譽   判決   \n\n                                               mainText  \\\nid                                                        \n1558                  丁○○對於十四歲以上未滿十六歲之女子為猥褻之行為，處有期徒刑壹年。   \n1166                                              上訴駁回。   \n504             楊年生犯侮辱公務員罪，累犯，處拘役參拾日，如易科罰金，以新臺幣壹仟元折算壹日。   \n1480  楊士豪犯著作權法第九十二條之侵害著作財產權罪，處拘役肆拾日，如易科罰金，以新臺幣壹仟元折算壹...   \n856                                            本件公訴不受理。   \n\n                                              judgement  \\\nid                                                        \n1558  臺灣臺南地方法院刑事判決107年度侵訴字第4號公訴人臺灣臺南地方法院檢察署檢察官被告黃定基選...   \n1166  臺灣臺中地方法院刑事判決105年度簡上字第297號上訴人臺灣臺中地方法院檢察署檢察官上訴人謝...   \n504   臺灣臺中地方法院刑事簡易判決105年度中簡字第1006號聲請人臺灣臺中地方法院檢察署檢察官被...   \n1480  臺灣高雄地方法院刑事簡易判決106年度智簡字第31號聲請人臺灣高雄地方法院檢察署檢察官被告雷...   \n856   臺灣臺中地方法院刑事判決105年度審易字第3748號公訴人臺灣臺中地方法院檢察署檢察官被告王...   \n\n                                              Situation  \nid                                                       \n1558  緣丁○○雇用代號0000-000000A（真實姓名年籍詳卷，以下簡稱乙）從事布袋戲工作，二人...  \n1166  謝忠一為臺中市大里區健康社區管理委員會主任委員，緣該社區住戶李培淇以上開管理委員會為被告，向...  \n504   楊年生於民國105年4月21日下午1時許，騎乘車牌號碼000-000號輕型機車，沿臺中市中區...  \n1480  楊士豪為址設高雄市○○區○○路000號25樓之「雷翰國際企業股份有限公司」（下稱雷翰公司）之...  \n856   被告王凱民於民國105年6月11日凌晨1時許，在其位於嘉義市○區○○路000○0號5樓6住處...  ",
      "text/html": "<div>\n<style scoped>\n    .dataframe tbody tr th:only-of-type {\n        vertical-align: middle;\n    }\n\n    .dataframe tbody tr th {\n        vertical-align: top;\n    }\n\n    .dataframe thead th {\n        text-align: right;\n    }\n</style>\n<table border=\"1\" class=\"dataframe\">\n  <thead>\n    <tr style=\"text-align: right;\">\n      <th></th>\n      <th>court</th>\n      <th>date</th>\n      <th>no</th>\n      <th>sys</th>\n      <th>reason</th>\n      <th>type</th>\n      <th>mainText</th>\n      <th>judgement</th>\n      <th>Situation</th>\n    </tr>\n    <tr>\n      <th>id</th>\n      <th></th>\n      <th></th>\n      <th></th>\n      <th></th>\n      <th></th>\n      <th></th>\n      <th></th>\n      <th></th>\n      <th></th>\n    </tr>\n  </thead>\n  <tbody>\n    <tr>\n      <td>1558</td>\n      <td>臺灣臺南地方法院</td>\n      <td>2018-10-16T00:00:00+08:00</td>\n      <td>107,侵訴,4</td>\n      <td>刑事</td>\n      <td>妨害性自主</td>\n      <td>判決</td>\n      <td>丁○○對於十四歲以上未滿十六歲之女子為猥褻之行為，處有期徒刑壹年。</td>\n      <td>臺灣臺南地方法院刑事判決107年度侵訴字第4號公訴人臺灣臺南地方法院檢察署檢察官被告黃定基選...</td>\n      <td>緣丁○○雇用代號0000-000000A（真實姓名年籍詳卷，以下簡稱乙）從事布袋戲工作，二人...</td>\n    </tr>\n    <tr>\n      <td>1166</td>\n      <td>臺灣臺中地方法院</td>\n      <td>2017-03-03T00:00:00+08:00</td>\n      <td>105,簡上,297</td>\n      <td>刑事</td>\n      <td>妨害名譽</td>\n      <td>判決</td>\n      <td>上訴駁回。</td>\n      <td>臺灣臺中地方法院刑事判決105年度簡上字第297號上訴人臺灣臺中地方法院檢察署檢察官上訴人謝...</td>\n      <td>謝忠一為臺中市大里區健康社區管理委員會主任委員，緣該社區住戶李培淇以上開管理委員會為被告，向...</td>\n    </tr>\n    <tr>\n      <td>504</td>\n      <td>臺灣臺中地方法院</td>\n      <td>2016-07-28T00:00:00+08:00</td>\n      <td>105,中簡,1006</td>\n      <td>刑事</td>\n      <td>妨害公務</td>\n      <td>判決</td>\n      <td>楊年生犯侮辱公務員罪，累犯，處拘役參拾日，如易科罰金，以新臺幣壹仟元折算壹日。</td>\n      <td>臺灣臺中地方法院刑事簡易判決105年度中簡字第1006號聲請人臺灣臺中地方法院檢察署檢察官被...</td>\n      <td>楊年生於民國105年4月21日下午1時許，騎乘車牌號碼000-000號輕型機車，沿臺中市中區...</td>\n    </tr>\n    <tr>\n      <td>1480</td>\n      <td>臺灣高雄地方法院</td>\n      <td>2017-08-30T00:00:00+08:00</td>\n      <td>106,智簡,31</td>\n      <td>刑事</td>\n      <td>違反著作權法</td>\n      <td>判決</td>\n      <td>楊士豪犯著作權法第九十二條之侵害著作財產權罪，處拘役肆拾日，如易科罰金，以新臺幣壹仟元折算壹...</td>\n      <td>臺灣高雄地方法院刑事簡易判決106年度智簡字第31號聲請人臺灣高雄地方法院檢察署檢察官被告雷...</td>\n      <td>楊士豪為址設高雄市○○區○○路000號25樓之「雷翰國際企業股份有限公司」（下稱雷翰公司）之...</td>\n    </tr>\n    <tr>\n      <td>856</td>\n      <td>臺灣臺中地方法院</td>\n      <td>2017-01-05T00:00:00+08:00</td>\n      <td>105,審易,3748</td>\n      <td>刑事</td>\n      <td>妨害名譽</td>\n      <td>判決</td>\n      <td>本件公訴不受理。</td>\n      <td>臺灣臺中地方法院刑事判決105年度審易字第3748號公訴人臺灣臺中地方法院檢察署檢察官被告王...</td>\n      <td>被告王凱民於民國105年6月11日凌晨1時許，在其位於嘉義市○區○○路000○0號5樓6住處...</td>\n    </tr>\n  </tbody>\n</table>\n</div>"
     },
     "metadata": {},
     "output_type": "execute_result",
     "execution_count": 133
    }
   ],
   "source": [
    "##拆分df\n",
    "df1=tmp.sample(n=train_num)#按0.6比例随机采样\n",
    "df1.head()"
   ],
   "metadata": {
    "collapsed": false,
    "pycharm": {
     "name": "#%%\n",
     "is_executing": false
    }
   }
  },
  {
   "cell_type": "code",
   "execution_count": 134,
   "outputs": [
    {
     "data": {
      "text/plain": "      court                       date           no sys reason type  \\\n0  臺灣新北地方法院  2014-08-08T00:00:00+08:00      98,矚訴,1  刑事     貪污   判決   \n1  臺灣臺中地方法院  2011-11-10T00:00:00+08:00   100,易,3133  刑事   妨害風化   判決   \n2  臺灣高雄地方法院  2016-01-27T00:00:00+08:00    105,審易,98  刑事   妨害自由   判決   \n3  臺灣高雄地方法院  2017-08-08T00:00:00+08:00    106,易,488  刑事   妨害自由   判決   \n4  臺灣臺中地方法院  2016-06-04T00:00:00+08:00  105,審易,1192  刑事   妨害名譽   判決   \n\n                                            mainText  \\\n0  陳欽凱犯廢棄物清理法第四十六條第四款前段之非法清理廢棄物罪，處有期徒刑壹年貳月。又共同犯貪污...   \n1       廖述鐘意圖供人觀覽，公然為猥褻之行為，處拘役貳拾日，如易科罰金，以新臺幣壹仟元折算壹日。   \n2                                           本件公訴不受理。   \n3  黃信奈犯恐嚇危害安全罪，累犯，處有期徒刑參月，如易科罰金，以新臺幣壹仟元折算壹日。又犯恐嚇危...   \n4                                           本件公訴不受理。   \n\n                                           judgement  \\\n0  臺灣新北地方法院刑事判決98年度矚訴字第1號公訴人臺灣新北地方法院檢察署檢察官被告陳欽凱選任...   \n1  臺灣臺中地方法院刑事判決100年度易字第3133號公訴人臺灣臺中地方法院檢察署檢察官被告廖述...   \n2  臺灣高雄地方法院刑事判決105年度審易字第98號公訴人臺灣高雄地方法院檢察署檢察官被告潘心雅...   \n3  臺灣高雄地方法院刑事判決106年度易字第488號公訴人臺灣高雄地方法院檢察署檢察官被告黃信奈...   \n4  臺灣臺中地方法院刑事判決105年度審易字第1192號公訴人臺灣臺中地方法院檢察署檢察官被告鄭...   \n\n                                           Situation  \n0  陳欽凱係和財資源回收股份有限公司（址設新北市○○區○○路000巷00號，下稱和財公司）之負責...  \n1  廖述鐘酒後於民國100年7月4日下午3時45分許，在臺中市潭子區頭家厝，搭乘由陳啟泉所駕駛車...  \n2  被告潘心雅基於侵入他人住宅之犯意，於民國104年12月8日上午5時20分許，至高雄市○○區○...  \n3  黃信奈平時居住在高雄市○○區○○路000號0樓，與於高雄市○○區○○路000號之住戶李○○及...  \n4  被告鄭閎仁於民國105年2月27日2時20分許，在莒光號531次列車經過交通部臺灣鐵路管理局...  ",
      "text/html": "<div>\n<style scoped>\n    .dataframe tbody tr th:only-of-type {\n        vertical-align: middle;\n    }\n\n    .dataframe tbody tr th {\n        vertical-align: top;\n    }\n\n    .dataframe thead th {\n        text-align: right;\n    }\n</style>\n<table border=\"1\" class=\"dataframe\">\n  <thead>\n    <tr style=\"text-align: right;\">\n      <th></th>\n      <th>court</th>\n      <th>date</th>\n      <th>no</th>\n      <th>sys</th>\n      <th>reason</th>\n      <th>type</th>\n      <th>mainText</th>\n      <th>judgement</th>\n      <th>Situation</th>\n    </tr>\n  </thead>\n  <tbody>\n    <tr>\n      <td>0</td>\n      <td>臺灣新北地方法院</td>\n      <td>2014-08-08T00:00:00+08:00</td>\n      <td>98,矚訴,1</td>\n      <td>刑事</td>\n      <td>貪污</td>\n      <td>判決</td>\n      <td>陳欽凱犯廢棄物清理法第四十六條第四款前段之非法清理廢棄物罪，處有期徒刑壹年貳月。又共同犯貪污...</td>\n      <td>臺灣新北地方法院刑事判決98年度矚訴字第1號公訴人臺灣新北地方法院檢察署檢察官被告陳欽凱選任...</td>\n      <td>陳欽凱係和財資源回收股份有限公司（址設新北市○○區○○路000巷00號，下稱和財公司）之負責...</td>\n    </tr>\n    <tr>\n      <td>1</td>\n      <td>臺灣臺中地方法院</td>\n      <td>2011-11-10T00:00:00+08:00</td>\n      <td>100,易,3133</td>\n      <td>刑事</td>\n      <td>妨害風化</td>\n      <td>判決</td>\n      <td>廖述鐘意圖供人觀覽，公然為猥褻之行為，處拘役貳拾日，如易科罰金，以新臺幣壹仟元折算壹日。</td>\n      <td>臺灣臺中地方法院刑事判決100年度易字第3133號公訴人臺灣臺中地方法院檢察署檢察官被告廖述...</td>\n      <td>廖述鐘酒後於民國100年7月4日下午3時45分許，在臺中市潭子區頭家厝，搭乘由陳啟泉所駕駛車...</td>\n    </tr>\n    <tr>\n      <td>2</td>\n      <td>臺灣高雄地方法院</td>\n      <td>2016-01-27T00:00:00+08:00</td>\n      <td>105,審易,98</td>\n      <td>刑事</td>\n      <td>妨害自由</td>\n      <td>判決</td>\n      <td>本件公訴不受理。</td>\n      <td>臺灣高雄地方法院刑事判決105年度審易字第98號公訴人臺灣高雄地方法院檢察署檢察官被告潘心雅...</td>\n      <td>被告潘心雅基於侵入他人住宅之犯意，於民國104年12月8日上午5時20分許，至高雄市○○區○...</td>\n    </tr>\n    <tr>\n      <td>3</td>\n      <td>臺灣高雄地方法院</td>\n      <td>2017-08-08T00:00:00+08:00</td>\n      <td>106,易,488</td>\n      <td>刑事</td>\n      <td>妨害自由</td>\n      <td>判決</td>\n      <td>黃信奈犯恐嚇危害安全罪，累犯，處有期徒刑參月，如易科罰金，以新臺幣壹仟元折算壹日。又犯恐嚇危...</td>\n      <td>臺灣高雄地方法院刑事判決106年度易字第488號公訴人臺灣高雄地方法院檢察署檢察官被告黃信奈...</td>\n      <td>黃信奈平時居住在高雄市○○區○○路000號0樓，與於高雄市○○區○○路000號之住戶李○○及...</td>\n    </tr>\n    <tr>\n      <td>4</td>\n      <td>臺灣臺中地方法院</td>\n      <td>2016-06-04T00:00:00+08:00</td>\n      <td>105,審易,1192</td>\n      <td>刑事</td>\n      <td>妨害名譽</td>\n      <td>判決</td>\n      <td>本件公訴不受理。</td>\n      <td>臺灣臺中地方法院刑事判決105年度審易字第1192號公訴人臺灣臺中地方法院檢察署檢察官被告鄭...</td>\n      <td>被告鄭閎仁於民國105年2月27日2時20分許，在莒光號531次列車經過交通部臺灣鐵路管理局...</td>\n    </tr>\n  </tbody>\n</table>\n</div>"
     },
     "metadata": {},
     "output_type": "execute_result",
     "execution_count": 134
    }
   ],
   "source": [
    "df2=test\n",
    "df2.head()"
   ],
   "metadata": {
    "collapsed": false,
    "pycharm": {
     "name": "#%%\n",
     "is_executing": false
    }
   }
  },
  {
   "cell_type": "code",
   "execution_count": 135,
   "outputs": [],
   "source": [
    "class Data(object):\n",
    "    def __init__(self):\n",
    "        self.paragraphs = []\n",
    "        self.id = \"0\"\n",
    "        self.title = \"\"\n",
    "\n",
    "class Djson(object):\n",
    "    def __init__(self):\n",
    "        self.version = \"v1.0\"\n",
    "        self.data = []\n",
    " "
   ],
   "metadata": {
    "collapsed": false,
    "pycharm": {
     "name": "#%%\n",
     "is_executing": false
    }
   }
  },
  {
   "cell_type": "code",
   "execution_count": 136,
   "outputs": [
    {
     "name": "stdout",
     "text": [
      "1371\n106,易,1048\n"
     ],
     "output_type": "stream"
    }
   ],
   "source": [
    "djson1 = Djson()\n",
    "for index, row in df1.iterrows():\n",
    "    try:\n",
    "        d = Data()\n",
    "        d.paragraphs = [{\"id\" : \"TRAIN_\" + str(index), \n",
    "                      #\"context\" : row.reason + \"[SEP]\" + row.judgement, \n",
    "                      \"context\" : row.judgement, \n",
    "                      \"qas\":[{\n",
    "                          \"question\" : \"?\",\n",
    "                          \"id\" : \"TRAIN_\" + str(index) + \"_QUERY_0\",\n",
    "                          \"answers\" :[{\n",
    "                              \"text\" : row.Situation,\n",
    "                              \"answer_start\" : row.judgement.index(row.Situation) #+ len(row.reason + \"[SET]\")\n",
    "                          }]\n",
    "                      }]\n",
    "                    }\n",
    "                    ]\n",
    "        d.id = \"TRAIN_\" + str(index)\n",
    "        d.title = row.no\n",
    "        djson1.data.append(d)\n",
    "    except:\n",
    "        print(index)\n",
    "        print(row.no)"
   ],
   "metadata": {
    "collapsed": false,
    "pycharm": {
     "name": "#%%\n",
     "is_executing": false
    }
   }
  },
  {
   "cell_type": "code",
   "execution_count": 137,
   "outputs": [],
   "source": [
    "y = json.dumps(djson1, default=lambda o: o.__dict__, ensure_ascii=False)"
   ],
   "metadata": {
    "collapsed": false,
    "pycharm": {
     "name": "#%%\n",
     "is_executing": false
    }
   }
  },
  {
   "cell_type": "code",
   "execution_count": 138,
   "outputs": [],
   "source": [
    "with open('./QA_Test1/HBert/dataV2/train_'+ str(train_num) + '_V1.json', 'w', encoding='utf8') as outfile:\n",
    "    json.dump(djson1, outfile, default=lambda o: o.__dict__ , ensure_ascii=False)\n",
    "    "
   ],
   "metadata": {
    "collapsed": false,
    "pycharm": {
     "name": "#%%\n",
     "is_executing": false
    }
   }
  }
 ],
 "metadata": {
  "kernelspec": {
   "display_name": "Python 3",
   "language": "python",
   "name": "python3"
  },
  "language_info": {
   "codemirror_mode": {
    "name": "ipython",
    "version": 3
   },
   "file_extension": ".py",
   "mimetype": "text/x-python",
   "name": "python",
   "nbconvert_exporter": "python",
   "pygments_lexer": "ipython3",
   "version": "3.6.4"
  },
  "pycharm": {
   "stem_cell": {
    "cell_type": "raw",
    "source": [],
    "metadata": {
     "collapsed": false
    }
   }
  }
 },
 "nbformat": 4,
 "nbformat_minor": 2
}