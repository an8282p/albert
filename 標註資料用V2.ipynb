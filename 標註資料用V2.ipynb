{
 "cells": [
  {
   "cell_type": "code",
   "execution_count": 1,
   "metadata": {},
   "outputs": [
    {
     "name": "stdout",
     "output_type": "stream",
     "text": [
      "106,易,1093_.json\n"
     ]
    }
   ],
   "source": [
    "import os, json \n",
    "import pandas as pd \n",
    "import re\n",
    "\n",
    "train_num = 600\n",
    "\n",
    "path_to_json = 'J:\\Legal_Judgment\\臺灣新北地方法院_改_V2'\n",
    "json_files = [pos_json for pos_json in os.listdir(path_to_json) if pos_json.endswith('.json')] \n",
    "print(json_files[0])"
   ]
  },
  {
   "cell_type": "code",
   "execution_count": 2,
   "metadata": {},
   "outputs": [],
   "source": [
    "with open('J://Legal_Judgment//臺灣新北地方法院_改_V2//'+json_files[0],\"r\",encoding=\"utf-8\") as f:\n",
    "    dt = json.load(f)"
   ]
  },
  {
   "cell_type": "code",
   "execution_count": 3,
   "metadata": {},
   "outputs": [],
   "source": [
    "dic = {\n",
    "    \"id\": 0,\n",
    "    \"court\": [dt[\"court\"]], \n",
    "    \"date\": [dt[\"date\"]],\n",
    "    \"no\": [dt[\"no\"]],\n",
    "    \"sys\": [dt[\"sys\"]],\n",
    "    \"reason\": [dt[\"reason\"]],\n",
    "    \"type\": [dt[\"type\"]],\n",
    "    \"mainText\": [dt[\"mainText\"]],\n",
    "    \"judgement\": [dt[\"judgement\"]],\n",
    "    #\"judgement_SIT\": [dt[\"judgement_SIT\"]],\n",
    "    \"Situation\": [dt[\"Situation\"]]\n",
    "}\n",
    "df = pd.DataFrame(dic)"
   ]
  },
  {
   "cell_type": "code",
   "execution_count": 4,
   "outputs": [
    {
     "name": "stdout",
     "output_type": "stream",
     "text": [
      "100,中簡,119\n",
      "100,中簡,1856\n",
      "100,簡,372\n",
      "100,簡,458\n",
      "101,侵訴,1\n",
      "101,智訴,9\n",
      "103,智訴,4\n",
      "105,中簡,1076\n",
      "1000\n",
      "105,原重訴,3\n",
      "105,審易,3360\n",
      "105,審易,3746\n",
      "105,易,264\n",
      "2000\n",
      "105,易,980\n",
      "105,簡,1724\n",
      "105,訴,265\n",
      "3000\n",
      "4000\n",
      "107,審訴緝,48\n",
      "107,智易,51\n",
      "107,訴,394\n",
      "95,矚重訴,3\n"
     ]
    }
   ],
   "source": [
    "#my_regex = \"\\（.*?\\）|\\(([^\\)0-9零一二三四五六七八九十]?|[^\\).]{2,})\\)\"\n",
    "\n",
    "#spe = '丙○○意圖為自己不法之所有，基於搶奪之犯意，先後為下列搶奪行為：(一)於民國105年10月8日晚間7時20分許，騎乘登記於不知情之王介平名下之車牌號碼000-000號普通重型機車，行經高雄市○○區○○○路000號前時，將口罩脫下遮掩車牌，自後靠近步行在人行道上之甲○○，趁甲○○不及防備之際，以左手徒手掠取甲○○右手持有之背包1只（內有現金新臺幣【下同】9500元、索尼牌ZR綠色及Xperformance金色行動電話共2具【IMEI：000000000000000、000000000000000號】、長夾1個、信用卡及金融卡共5張、國民身分證2張、國民健康保險卡1張、普通重型機車駕照1張、識別證2張等物）得手後逃逸。嗣因丙○○將背包內之現金取走後，將背包棄置在高雄市鳳山區武營路某處，再經民眾在高雄市鳳山區衛武營附近拾獲上開背包（內有長夾1個、國民身分證2張、國民健康保險卡1張、信用卡3張、金融卡1張等物），遂送交警察機關發還甲○○領回。(二)於同年10月10日晚間11時5分許，騎乘向不知情之劉伊恩借用之車牌號碼000-0000號普通重型機車，行經高雄市○○區○○○路000號前時，使用口罩遮掩車牌，自後靠近步行在人行道上之少年乙○○（89年生，基於兒童及少年福利與權益保障法第69條第2項規定不得揭露足以識別少年身分之資訊，年籍詳卷），趁乙○○不及防備之際，以左手徒手掠取乙○○右手持有之背包1只（內有皮夾1只、現金3萬2000元、提款卡1張、國民身分證1張、國民健康保險卡1張等物）得手後逃逸，並將現金取出，其餘物品則丟棄。嗣為警循線於105年10月16日凌晨2時許，在高雄市○○區○○路000巷00號前查獲，並扣得現金2600元。'\n",
    "show = 0\n",
    "cnt = 0\n",
    "for x in range(1,len(json_files)):\n",
    "    with open('J://Legal_Judgment//臺灣新北地方法院_改_V2//'+json_files[x],\"r\",encoding=\"utf-8\") as f:\n",
    "        dt = json.load(f)\n",
    "\n",
    "    try:\n",
    "        if (str(dt[\"judgement\"]).index(str(dt[\"Situation\"])) < 0):\n",
    "            print(\"error1:\" + dt[\"no\"])\n",
    "            continue\n",
    "\n",
    "\n",
    "        new = pd.DataFrame({\n",
    "        \"id\" : x,\n",
    "        \"court\": [dt[\"court\"]], \n",
    "        \"date\": [dt[\"date\"]],\n",
    "        \"no\": [dt[\"no\"]],\n",
    "        \"sys\": [dt[\"sys\"]],\n",
    "        \"reason\": [dt[\"reason\"]],\n",
    "        \"type\": [dt[\"type\"]],\n",
    "        \"mainText\": [dt[\"mainText\"]],\n",
    "        \"judgement\": [dt[\"judgement\"]],\n",
    "        #\"judgement_SIT\": [dt[\"judgement_SIT\"]],\n",
    "        \"Situation\": [dt[\"Situation\"]]\n",
    "        })\n",
    "\n",
    "        bol = 0\n",
    "        show = 0\n",
    "        for index, row in new.iterrows():\n",
    "            #row.Situation = re.sub(my_regex, \"\", str(row.Situation).replace(my_regex, \"\"))\n",
    "            if (len(row.Situation) > 512):\n",
    "                bol = 1\n",
    "\n",
    "        if (bol == 1):\n",
    "            continue\n",
    "\n",
    "        df = df.append(new)\n",
    "        cnt += 1\n",
    "        if (cnt % 1000 == 0):\n",
    "            print(cnt)\n",
    "\n",
    "    except:\n",
    "        print(dt[\"no\"])"
   ],
   "metadata": {
    "collapsed": false,
    "pycharm": {
     "name": "#%%\n"
    }
   }
  },
  {
   "cell_type": "code",
   "execution_count": 5,
   "outputs": [
    {
     "data": {
      "text/plain": "id           4501\ncourt        4501\ndate         4501\nno           4501\nsys          4501\nreason       4501\ntype         4501\nmainText     4501\njudgement    4501\nSituation    4501\ndtype: int64"
     },
     "execution_count": 5,
     "metadata": {},
     "output_type": "execute_result"
    }
   ],
   "source": [
    "df.count()"
   ],
   "metadata": {
    "collapsed": false,
    "pycharm": {
     "name": "#%%\n"
    }
   }
  },
  {
   "cell_type": "code",
   "execution_count": 6,
   "metadata": {},
   "outputs": [],
   "source": [
    "df.to_csv('J://Legal_Judgment//Result.csv', index=0) "
   ]
  },
  {
   "cell_type": "code",
   "execution_count": 7,
   "outputs": [
    {
     "data": {
      "text/plain": "       court                       date          no sys  reason type  \\\nid                                                                     \n0   臺灣桃園地方法院  2018-04-18T00:00:00+08:00  106,易,1093  刑事    妨害公務   判決   \n1   臺灣臺北地方法院  2018-12-26T00:00:00+08:00    107,侵簡,3  刑事  妨害性自主罪   判決   \n\n                                             mainText  \\\nid                                                      \n0             邱建豪犯妨害公務執行罪，累犯，處拘役拾日，如易科罰金，以新臺幣壹仟元折算壹日。   \n1   余暐勝對於十四歲以上未滿十六歲之女子為性交，共肆罪，各處有期徒刑參月。應執行有期徒刑捌月。緩...   \n\n                                            judgement  \\\nid                                                      \n0   臺灣桃園地方法院刑事判決106年度易字第1093號公訴人臺灣桃園地方法院檢察署檢察官被告邱建...   \n1   臺灣臺北地方法院刑事簡易判決107年度侵簡字第3號公訴人臺灣臺北地方檢察署檢察官被告余暐勝選...   \n\n                                            Situation  \nid                                                     \n0   邱建豪於民國106年5月1日下午5時15分許，在桃園市○○區○○路000號桃園市政府警察局桃...  \n1   余暐勝於民國107年3月間透過網路交友軟體「BEETALK」結識代號0000-000000之...  ",
      "text/html": "<div>\n<style scoped>\n    .dataframe tbody tr th:only-of-type {\n        vertical-align: middle;\n    }\n\n    .dataframe tbody tr th {\n        vertical-align: top;\n    }\n\n    .dataframe thead th {\n        text-align: right;\n    }\n</style>\n<table border=\"1\" class=\"dataframe\">\n  <thead>\n    <tr style=\"text-align: right;\">\n      <th></th>\n      <th>court</th>\n      <th>date</th>\n      <th>no</th>\n      <th>sys</th>\n      <th>reason</th>\n      <th>type</th>\n      <th>mainText</th>\n      <th>judgement</th>\n      <th>Situation</th>\n    </tr>\n    <tr>\n      <th>id</th>\n      <th></th>\n      <th></th>\n      <th></th>\n      <th></th>\n      <th></th>\n      <th></th>\n      <th></th>\n      <th></th>\n      <th></th>\n    </tr>\n  </thead>\n  <tbody>\n    <tr>\n      <td>0</td>\n      <td>臺灣桃園地方法院</td>\n      <td>2018-04-18T00:00:00+08:00</td>\n      <td>106,易,1093</td>\n      <td>刑事</td>\n      <td>妨害公務</td>\n      <td>判決</td>\n      <td>邱建豪犯妨害公務執行罪，累犯，處拘役拾日，如易科罰金，以新臺幣壹仟元折算壹日。</td>\n      <td>臺灣桃園地方法院刑事判決106年度易字第1093號公訴人臺灣桃園地方法院檢察署檢察官被告邱建...</td>\n      <td>邱建豪於民國106年5月1日下午5時15分許，在桃園市○○區○○路000號桃園市政府警察局桃...</td>\n    </tr>\n    <tr>\n      <td>1</td>\n      <td>臺灣臺北地方法院</td>\n      <td>2018-12-26T00:00:00+08:00</td>\n      <td>107,侵簡,3</td>\n      <td>刑事</td>\n      <td>妨害性自主罪</td>\n      <td>判決</td>\n      <td>余暐勝對於十四歲以上未滿十六歲之女子為性交，共肆罪，各處有期徒刑參月。應執行有期徒刑捌月。緩...</td>\n      <td>臺灣臺北地方法院刑事簡易判決107年度侵簡字第3號公訴人臺灣臺北地方檢察署檢察官被告余暐勝選...</td>\n      <td>余暐勝於民國107年3月間透過網路交友軟體「BEETALK」結識代號0000-000000之...</td>\n    </tr>\n  </tbody>\n</table>\n</div>"
     },
     "execution_count": 7,
     "metadata": {},
     "output_type": "execute_result"
    }
   ],
   "source": [
    "df = pd.read_csv('J://Legal_Judgment//Result.csv', index_col=0)\n",
    "test = pd.read_csv('.//QA_Test1//HBert//dataR6//Test500.csv')\n",
    "df.head(2)"
   ],
   "metadata": {
    "collapsed": false,
    "pycharm": {
     "name": "#%%\n"
    }
   }
  },
  {
   "cell_type": "code",
   "execution_count": 8,
   "outputs": [
    {
     "data": {
      "text/plain": "Empty DataFrame\nColumns: [court, date, no, sys, reason, type, mainText, judgement, Situation]\nIndex: []",
      "text/html": "<div>\n<style scoped>\n    .dataframe tbody tr th:only-of-type {\n        vertical-align: middle;\n    }\n\n    .dataframe tbody tr th {\n        vertical-align: top;\n    }\n\n    .dataframe thead th {\n        text-align: right;\n    }\n</style>\n<table border=\"1\" class=\"dataframe\">\n  <thead>\n    <tr style=\"text-align: right;\">\n      <th></th>\n      <th>court</th>\n      <th>date</th>\n      <th>no</th>\n      <th>sys</th>\n      <th>reason</th>\n      <th>type</th>\n      <th>mainText</th>\n      <th>judgement</th>\n      <th>Situation</th>\n    </tr>\n    <tr>\n      <th>id</th>\n      <th></th>\n      <th></th>\n      <th></th>\n      <th></th>\n      <th></th>\n      <th></th>\n      <th></th>\n      <th></th>\n      <th></th>\n    </tr>\n  </thead>\n  <tbody>\n  </tbody>\n</table>\n</div>"
     },
     "execution_count": 8,
     "metadata": {},
     "output_type": "execute_result"
    }
   ],
   "source": [
    "df[df['Situation'].str.len() > 512]"
   ],
   "metadata": {
    "collapsed": false,
    "pycharm": {
     "name": "#%%\n"
    }
   }
  },
  {
   "cell_type": "code",
   "execution_count": 9,
   "outputs": [],
   "source": [
    "df['reason'] = df['reason'].str.replace('等','')\n",
    "df['reason'] = df['reason'].str.replace('罪','')\n",
    "df['reason'] = df['reason'].str.replace(\"條例\",\"\")\n",
    "df['reason'] = df['reason'].str.replace(\"防制\",\"\")\n",
    "df['reason'] = df['reason'].str.replace(\"管制\",\"\")\n",
    "df['reason'] = df['reason'].str.replace(\"違反\",\"\")\n",
    "df['reason'] = df['reason'].str.replace(\"違法著作權\",\"著作權法\")\n",
    "\n",
    "#test['judgement'] = test['judgement'].str.replace(my_regex, \"\")\n",
    "#test['Situation'] = test['Situation'].str.replace(my_regex, \"\")"
   ],
   "metadata": {
    "collapsed": false,
    "pycharm": {
     "name": "#%%\n"
    }
   }
  },
  {
   "cell_type": "code",
   "execution_count": 10,
   "outputs": [
    {
     "data": {
      "text/plain": "Empty DataFrame\nColumns: [court, date, no, sys, reason, type, mainText, judgement, Situation]\nIndex: []",
      "text/html": "<div>\n<style scoped>\n    .dataframe tbody tr th:only-of-type {\n        vertical-align: middle;\n    }\n\n    .dataframe tbody tr th {\n        vertical-align: top;\n    }\n\n    .dataframe thead th {\n        text-align: right;\n    }\n</style>\n<table border=\"1\" class=\"dataframe\">\n  <thead>\n    <tr style=\"text-align: right;\">\n      <th></th>\n      <th>court</th>\n      <th>date</th>\n      <th>no</th>\n      <th>sys</th>\n      <th>reason</th>\n      <th>type</th>\n      <th>mainText</th>\n      <th>judgement</th>\n      <th>Situation</th>\n    </tr>\n    <tr>\n      <th>id</th>\n      <th></th>\n      <th></th>\n      <th></th>\n      <th></th>\n      <th></th>\n      <th></th>\n      <th></th>\n      <th></th>\n      <th></th>\n    </tr>\n  </thead>\n  <tbody>\n  </tbody>\n</table>\n</div>"
     },
     "execution_count": 10,
     "metadata": {},
     "output_type": "execute_result"
    }
   ],
   "source": [
    "df[df['Situation'].str.len() > 512]"
   ],
   "metadata": {
    "collapsed": false,
    "pycharm": {
     "name": "#%%\n"
    }
   }
  },
  {
   "cell_type": "code",
   "execution_count": 11,
   "outputs": [
    {
     "data": {
      "text/plain": "公共危險      343\n毀損        333\n妨害公務      321\n妨害名譽      300\n毒品危害      289\n著作權法      287\n妨害自由      263\n妨害風化      262\n妨害性自主     257\n傷害        239\n侵占        226\n過失傷害      213\n搶奪        206\n竊盜        194\n殺人未遂      191\n偽造文書      155\n強盜        131\n詐欺        129\n賭博         67\n毀棄損壞       36\n殺人         35\n過失致死        7\n貪污          4\n槍砲彈藥刀械      4\n醫師法         3\n藥事法         2\n替代役實施       1\n恐嚇          1\n偽證          1\n商標法         1\nName: reason, dtype: int64"
     },
     "execution_count": 11,
     "metadata": {},
     "output_type": "execute_result"
    }
   ],
   "source": [
    "df.loc[:,'reason'].value_counts()"
   ],
   "metadata": {
    "collapsed": false,
    "pycharm": {
     "name": "#%%\n"
    }
   }
  },
  {
   "cell_type": "code",
   "execution_count": 12,
   "outputs": [
    {
     "data": {
      "text/plain": "     id     court                       date         no sys reason type  \\\n0  5415  臺灣桃園地方法院  2018-04-27T00:00:00+08:00    107,訴,7  刑事   偽造文書   判決   \n1  5413  臺灣臺中地方法院  2018-05-09T00:00:00+08:00  107,訴,759  刑事     搶奪   判決   \n\n                                            mainText  \\\n0                                             丁○○無罪。   \n1  陳謝傳犯搶奪罪，累犯，處有期徒刑壹年。扣案之作案用手套壹雙沒收；未扣案之犯罪所得新臺幣參萬參...   \n\n                                           judgement  \\\n0  臺灣桃園地方法院刑事判決107年度訴字第7號公訴人臺灣桃園地方法院檢察署檢察官被告詹奇龍上列...   \n1  臺灣臺中地方法院刑事判決107年度訴字第759號公訴人臺灣臺中地方法院檢察署檢察官被告陳謝傳...   \n\n                                           Situation  \n0  被告丁○○於民國105年4月間，收受不知情之乙○○向其外婆甲○○○所借得之身分證及健保卡，竟...  \n1  陳謝傳意圖為自己不法之所有，基於搶奪之犯意，於民國107年3月13日19時25分許，騎乘其所...  ",
      "text/html": "<div>\n<style scoped>\n    .dataframe tbody tr th:only-of-type {\n        vertical-align: middle;\n    }\n\n    .dataframe tbody tr th {\n        vertical-align: top;\n    }\n\n    .dataframe thead th {\n        text-align: right;\n    }\n</style>\n<table border=\"1\" class=\"dataframe\">\n  <thead>\n    <tr style=\"text-align: right;\">\n      <th></th>\n      <th>id</th>\n      <th>court</th>\n      <th>date</th>\n      <th>no</th>\n      <th>sys</th>\n      <th>reason</th>\n      <th>type</th>\n      <th>mainText</th>\n      <th>judgement</th>\n      <th>Situation</th>\n    </tr>\n  </thead>\n  <tbody>\n    <tr>\n      <td>0</td>\n      <td>5415</td>\n      <td>臺灣桃園地方法院</td>\n      <td>2018-04-27T00:00:00+08:00</td>\n      <td>107,訴,7</td>\n      <td>刑事</td>\n      <td>偽造文書</td>\n      <td>判決</td>\n      <td>丁○○無罪。</td>\n      <td>臺灣桃園地方法院刑事判決107年度訴字第7號公訴人臺灣桃園地方法院檢察署檢察官被告詹奇龍上列...</td>\n      <td>被告丁○○於民國105年4月間，收受不知情之乙○○向其外婆甲○○○所借得之身分證及健保卡，竟...</td>\n    </tr>\n    <tr>\n      <td>1</td>\n      <td>5413</td>\n      <td>臺灣臺中地方法院</td>\n      <td>2018-05-09T00:00:00+08:00</td>\n      <td>107,訴,759</td>\n      <td>刑事</td>\n      <td>搶奪</td>\n      <td>判決</td>\n      <td>陳謝傳犯搶奪罪，累犯，處有期徒刑壹年。扣案之作案用手套壹雙沒收；未扣案之犯罪所得新臺幣參萬參...</td>\n      <td>臺灣臺中地方法院刑事判決107年度訴字第759號公訴人臺灣臺中地方法院檢察署檢察官被告陳謝傳...</td>\n      <td>陳謝傳意圖為自己不法之所有，基於搶奪之犯意，於民國107年3月13日19時25分許，騎乘其所...</td>\n    </tr>\n  </tbody>\n</table>\n</div>"
     },
     "execution_count": 12,
     "metadata": {},
     "output_type": "execute_result"
    }
   ],
   "source": [
    "test.head(2)"
   ],
   "metadata": {
    "collapsed": false,
    "pycharm": {
     "name": "#%%\n"
    }
   }
  },
  {
   "cell_type": "code",
   "execution_count": 13,
   "outputs": [
    {
     "data": {
      "text/plain": "Empty DataFrame\nColumns: [id, court, date, no, sys, reason, type, mainText, judgement, Situation]\nIndex: []",
      "text/html": "<div>\n<style scoped>\n    .dataframe tbody tr th:only-of-type {\n        vertical-align: middle;\n    }\n\n    .dataframe tbody tr th {\n        vertical-align: top;\n    }\n\n    .dataframe thead th {\n        text-align: right;\n    }\n</style>\n<table border=\"1\" class=\"dataframe\">\n  <thead>\n    <tr style=\"text-align: right;\">\n      <th></th>\n      <th>id</th>\n      <th>court</th>\n      <th>date</th>\n      <th>no</th>\n      <th>sys</th>\n      <th>reason</th>\n      <th>type</th>\n      <th>mainText</th>\n      <th>judgement</th>\n      <th>Situation</th>\n    </tr>\n  </thead>\n  <tbody>\n  </tbody>\n</table>\n</div>"
     },
     "execution_count": 13,
     "metadata": {},
     "output_type": "execute_result"
    }
   ],
   "source": [
    "test2 = test[test['Situation'].str.len() > 512]\n",
    "test2.head(2)\n",
    "#test2.to_csv('J://Legal_Judgment//test513.csv', index=0) "
   ],
   "metadata": {
    "collapsed": false,
    "pycharm": {
     "name": "#%%\n"
    }
   }
  },
  {
   "cell_type": "code",
   "execution_count": 14,
   "outputs": [
    {
     "data": {
      "text/plain": "court        3933\ndate         3933\nno           3933\nsys          3933\nreason       3933\ntype         3933\nmainText     3933\njudgement    3933\nSituation    3933\ndtype: int64"
     },
     "execution_count": 14,
     "metadata": {},
     "output_type": "execute_result"
    }
   ],
   "source": [
    "tmp = df[~df['no'].isin(test['no'])]\n",
    "tmp = tmp.dropna()\n",
    "tmp.count()"
   ],
   "metadata": {
    "collapsed": false,
    "pycharm": {
     "name": "#%%\n"
    }
   }
  },
  {
   "cell_type": "code",
   "execution_count": 14,
   "outputs": [],
   "source": [],
   "metadata": {
    "collapsed": false,
    "pycharm": {
     "name": "#%%\n"
    }
   }
  },
  {
   "cell_type": "code",
   "execution_count": 15,
   "outputs": [
    {
     "data": {
      "text/plain": "         court                       date          no sys reason type  \\\nid                                                                      \n4440  臺灣臺中地方法院  2018-03-15T00:00:00+08:00  106,訴,2495  刑事     搶奪   判決   \n2851  臺灣高雄地方法院  2017-02-24T00:00:00+08:00  105,簡,5585  刑事     搶奪   判決   \n\n                                               mainText  \\\nid                                                        \n4440  陳柏融犯搶奪罪，處有期徒刑陸月，如易科罰金，以新臺幣壹仟元折算壹日。未扣案犯罪所得iphon...   \n2851               陳光榮犯搶奪未遂罪，處有期徒刑肆月，如易科罰金，以新臺幣壹仟元折算壹日。   \n\n                                              judgement  \\\nid                                                        \n4440  臺灣臺中地方法院刑事判決106年度訴字第2495號公訴人臺灣臺中地方法院檢察署檢察官被告陳柏...   \n2851  臺灣高雄地方法院刑事簡易判決105年度簡字第5585號公訴人臺灣高雄地方法院檢察署檢察官被告...   \n\n                                              Situation  \nid                                                       \n4440  陳柏融於民國106年1月9日，在臉書網站「大台中二手3C手機交流網」社團上，自稱「陳琪」，向...  \n2851  陳光榮於民國105年10月7日10時許，騎乘車牌號碼000-000號普通重型機車（下稱前開機...  ",
      "text/html": "<div>\n<style scoped>\n    .dataframe tbody tr th:only-of-type {\n        vertical-align: middle;\n    }\n\n    .dataframe tbody tr th {\n        vertical-align: top;\n    }\n\n    .dataframe thead th {\n        text-align: right;\n    }\n</style>\n<table border=\"1\" class=\"dataframe\">\n  <thead>\n    <tr style=\"text-align: right;\">\n      <th></th>\n      <th>court</th>\n      <th>date</th>\n      <th>no</th>\n      <th>sys</th>\n      <th>reason</th>\n      <th>type</th>\n      <th>mainText</th>\n      <th>judgement</th>\n      <th>Situation</th>\n    </tr>\n    <tr>\n      <th>id</th>\n      <th></th>\n      <th></th>\n      <th></th>\n      <th></th>\n      <th></th>\n      <th></th>\n      <th></th>\n      <th></th>\n      <th></th>\n    </tr>\n  </thead>\n  <tbody>\n    <tr>\n      <td>4440</td>\n      <td>臺灣臺中地方法院</td>\n      <td>2018-03-15T00:00:00+08:00</td>\n      <td>106,訴,2495</td>\n      <td>刑事</td>\n      <td>搶奪</td>\n      <td>判決</td>\n      <td>陳柏融犯搶奪罪，處有期徒刑陸月，如易科罰金，以新臺幣壹仟元折算壹日。未扣案犯罪所得iphon...</td>\n      <td>臺灣臺中地方法院刑事判決106年度訴字第2495號公訴人臺灣臺中地方法院檢察署檢察官被告陳柏...</td>\n      <td>陳柏融於民國106年1月9日，在臉書網站「大台中二手3C手機交流網」社團上，自稱「陳琪」，向...</td>\n    </tr>\n    <tr>\n      <td>2851</td>\n      <td>臺灣高雄地方法院</td>\n      <td>2017-02-24T00:00:00+08:00</td>\n      <td>105,簡,5585</td>\n      <td>刑事</td>\n      <td>搶奪</td>\n      <td>判決</td>\n      <td>陳光榮犯搶奪未遂罪，處有期徒刑肆月，如易科罰金，以新臺幣壹仟元折算壹日。</td>\n      <td>臺灣高雄地方法院刑事簡易判決105年度簡字第5585號公訴人臺灣高雄地方法院檢察署檢察官被告...</td>\n      <td>陳光榮於民國105年10月7日10時許，騎乘車牌號碼000-000號普通重型機車（下稱前開機...</td>\n    </tr>\n  </tbody>\n</table>\n</div>"
     },
     "execution_count": 15,
     "metadata": {},
     "output_type": "execute_result"
    }
   ],
   "source": [
    "##拆分df\n",
    "tmpnum = train_num\n",
    "if (tmpnum == 4000):\n",
    "    tmpnum = 3933\n",
    "df1=tmp.sample(n=tmpnum)#按0.6比例随机采样\n",
    "df1.head(2)"
   ],
   "metadata": {
    "collapsed": false,
    "pycharm": {
     "name": "#%%\n"
    }
   }
  },
  {
   "cell_type": "code",
   "execution_count": 16,
   "outputs": [
    {
     "data": {
      "text/plain": "court        600\ndate         600\nno           600\nsys          600\nreason       600\ntype         600\nmainText     600\njudgement    600\nSituation    600\ndtype: int64"
     },
     "execution_count": 16,
     "metadata": {},
     "output_type": "execute_result"
    }
   ],
   "source": [
    "df1.count()"
   ],
   "metadata": {
    "collapsed": false,
    "pycharm": {
     "name": "#%%\n"
    }
   }
  },
  {
   "cell_type": "code",
   "execution_count": 17,
   "outputs": [
    {
     "data": {
      "text/plain": "court        0\ndate         0\nno           0\nsys          0\nreason       0\ntype         0\nmainText     0\njudgement    0\nSituation    0\ndtype: int64"
     },
     "execution_count": 17,
     "metadata": {},
     "output_type": "execute_result"
    }
   ],
   "source": [
    "df1[df1['Situation'].str.len() > 512].count()"
   ],
   "metadata": {
    "collapsed": false,
    "pycharm": {
     "name": "#%%\n"
    }
   }
  },
  {
   "cell_type": "code",
   "execution_count": 18,
   "outputs": [
    {
     "data": {
      "text/plain": "     id     court                       date         no sys reason type  \\\n0  5415  臺灣桃園地方法院  2018-04-27T00:00:00+08:00    107,訴,7  刑事   偽造文書   判決   \n1  5413  臺灣臺中地方法院  2018-05-09T00:00:00+08:00  107,訴,759  刑事     搶奪   判決   \n\n                                            mainText  \\\n0                                             丁○○無罪。   \n1  陳謝傳犯搶奪罪，累犯，處有期徒刑壹年。扣案之作案用手套壹雙沒收；未扣案之犯罪所得新臺幣參萬參...   \n\n                                           judgement  \\\n0  臺灣桃園地方法院刑事判決107年度訴字第7號公訴人臺灣桃園地方法院檢察署檢察官被告詹奇龍上列...   \n1  臺灣臺中地方法院刑事判決107年度訴字第759號公訴人臺灣臺中地方法院檢察署檢察官被告陳謝傳...   \n\n                                           Situation  \n0  被告丁○○於民國105年4月間，收受不知情之乙○○向其外婆甲○○○所借得之身分證及健保卡，竟...  \n1  陳謝傳意圖為自己不法之所有，基於搶奪之犯意，於民國107年3月13日19時25分許，騎乘其所...  ",
      "text/html": "<div>\n<style scoped>\n    .dataframe tbody tr th:only-of-type {\n        vertical-align: middle;\n    }\n\n    .dataframe tbody tr th {\n        vertical-align: top;\n    }\n\n    .dataframe thead th {\n        text-align: right;\n    }\n</style>\n<table border=\"1\" class=\"dataframe\">\n  <thead>\n    <tr style=\"text-align: right;\">\n      <th></th>\n      <th>id</th>\n      <th>court</th>\n      <th>date</th>\n      <th>no</th>\n      <th>sys</th>\n      <th>reason</th>\n      <th>type</th>\n      <th>mainText</th>\n      <th>judgement</th>\n      <th>Situation</th>\n    </tr>\n  </thead>\n  <tbody>\n    <tr>\n      <td>0</td>\n      <td>5415</td>\n      <td>臺灣桃園地方法院</td>\n      <td>2018-04-27T00:00:00+08:00</td>\n      <td>107,訴,7</td>\n      <td>刑事</td>\n      <td>偽造文書</td>\n      <td>判決</td>\n      <td>丁○○無罪。</td>\n      <td>臺灣桃園地方法院刑事判決107年度訴字第7號公訴人臺灣桃園地方法院檢察署檢察官被告詹奇龍上列...</td>\n      <td>被告丁○○於民國105年4月間，收受不知情之乙○○向其外婆甲○○○所借得之身分證及健保卡，竟...</td>\n    </tr>\n    <tr>\n      <td>1</td>\n      <td>5413</td>\n      <td>臺灣臺中地方法院</td>\n      <td>2018-05-09T00:00:00+08:00</td>\n      <td>107,訴,759</td>\n      <td>刑事</td>\n      <td>搶奪</td>\n      <td>判決</td>\n      <td>陳謝傳犯搶奪罪，累犯，處有期徒刑壹年。扣案之作案用手套壹雙沒收；未扣案之犯罪所得新臺幣參萬參...</td>\n      <td>臺灣臺中地方法院刑事判決107年度訴字第759號公訴人臺灣臺中地方法院檢察署檢察官被告陳謝傳...</td>\n      <td>陳謝傳意圖為自己不法之所有，基於搶奪之犯意，於民國107年3月13日19時25分許，騎乘其所...</td>\n    </tr>\n  </tbody>\n</table>\n</div>"
     },
     "execution_count": 18,
     "metadata": {},
     "output_type": "execute_result"
    }
   ],
   "source": [
    "df2=test\n",
    "df2.head(2)"
   ],
   "metadata": {
    "collapsed": false,
    "pycharm": {
     "name": "#%%\n"
    }
   }
  },
  {
   "cell_type": "code",
   "execution_count": 19,
   "outputs": [],
   "source": [
    "class Data(object):\n",
    "    def __init__(self):\n",
    "        self.paragraphs = []\n",
    "        self.id = \"0\"\n",
    "        self.title = \"\"\n",
    "\n",
    "class Djson(object):\n",
    "    def __init__(self):\n",
    "        self.version = \"v1.0\"\n",
    "        self.data = []\n",
    " "
   ],
   "metadata": {
    "collapsed": false,
    "pycharm": {
     "name": "#%%\n"
    }
   }
  },
  {
   "cell_type": "code",
   "execution_count": 20,
   "outputs": [],
   "source": [
    "djson1 = ''\n",
    "djson1 = Djson()\n",
    "for index, row in df1.iterrows():\n",
    "    try:\n",
    "        if (row.judgement.index(row.Situation) < 0):\n",
    "            print(index)\n",
    "            print(row.no)\n",
    "\n",
    "        d = Data()\n",
    "        d.paragraphs = [{\"id\" : \"TRAIN_\" + str(index),\n",
    "                      #\"context\" : row.reason + \"[SEP]\" + row.judgement,\n",
    "                      \"context\" : row.judgement,\n",
    "                      \"qas\":[{\n",
    "                          \"question\" :\"?\",\n",
    "                          \"id\" : \"TRAIN_\" + str(index) + \"_QUERY_0\",\n",
    "                          \"answers\" :[{\n",
    "                              \"text\" : row.Situation,\n",
    "                              \"answer_start\" : row.judgement.index(row.Situation) #+ len(row.reason + \"[SET]\")\n",
    "                          }]\n",
    "                      }]\n",
    "                    }\n",
    "                    ]\n",
    "        d.id = \"TRAIN_\" + str(index)\n",
    "        d.title = row.no\n",
    "        djson1.data.append(d)\n",
    "    except:\n",
    "        print(index)\n",
    "        print(row.no)"
   ],
   "metadata": {
    "collapsed": false,
    "pycharm": {
     "name": "#%%\n"
    }
   }
  },
  {
   "cell_type": "code",
   "execution_count": 21,
   "outputs": [],
   "source": [
    "y = json.dumps(djson1, default=lambda o: o.__dict__, ensure_ascii=False)"
   ],
   "metadata": {
    "collapsed": false,
    "pycharm": {
     "name": "#%%\n"
    }
   }
  },
  {
   "cell_type": "code",
   "execution_count": 22,
   "outputs": [],
   "source": [
    "with open('./QA_Test1/HBert/dataR6/train_'+ str(train_num) + '.json', 'w', encoding='utf8') as outfile:\n",
    "#with open('./QA_Test1/HBert/dataV3/train_'+ str(train_num) + '_Y.json', 'w', encoding='utf8') as outfile:\n",
    "    json.dump(djson1, outfile, default=lambda o: o.__dict__ , ensure_ascii=False)"
   ],
   "metadata": {
    "collapsed": false,
    "pycharm": {
     "name": "#%%\n"
    }
   }
  },
  {
   "cell_type": "code",
   "execution_count": 23,
   "outputs": [],
   "source": [
    "my_regex = r\"[\\(\\（]([^一二三四五六七八九零十1234567890]{1}[^\\)\\）]+|[一二三四五六七八九零十1234567890]{1}[^\\)\\）]{1,})[\\)\\）]\"\n",
    "\n",
    "df1['judgement'] = df1['judgement'].str.replace(my_regex, \"\")\n",
    "df1['Situation'] = df1['Situation'].str.replace(my_regex, \"\")"
   ],
   "metadata": {
    "collapsed": false,
    "pycharm": {
     "name": "#%%\n"
    }
   }
  },
  {
   "cell_type": "code",
   "execution_count": 24,
   "outputs": [
    {
     "name": "stdout",
     "output_type": "stream",
     "text": [
      "2785\n",
      "105,簡,151\n",
      "2795\n",
      "105,簡,198\n",
      "4615\n",
      "106,訴,686\n",
      "3901\n",
      "106,易,2241\n"
     ]
    }
   ],
   "source": [
    "djson1 = ''\n",
    "djson1 = Djson()\n",
    "for index, row in df1.iterrows():\n",
    "    try:\n",
    "        if (row.judgement.index(row.Situation) < 0):\n",
    "            print(index)\n",
    "            print(row.no)\n",
    "\n",
    "        d = Data()\n",
    "        d.paragraphs = [{\"id\" : \"TRAIN_\" + str(index),\n",
    "                      #\"context\" : row.reason + \"[SEP]\" + row.judgement,\n",
    "                      \"context\" : row.judgement,\n",
    "                      \"qas\":[{\n",
    "                          \"question\" :\"?\",\n",
    "                          \"id\" : \"TRAIN_\" + str(index) + \"_QUERY_0\",\n",
    "                          \"answers\" :[{\n",
    "                              \"text\" : row.Situation,\n",
    "                              \"answer_start\" : row.judgement.index(row.Situation) #+ len(row.reason + \"[SET]\")\n",
    "                          }]\n",
    "                      }]\n",
    "                    }\n",
    "                    ]\n",
    "        d.id = \"TRAIN_\" + str(index)\n",
    "        d.title = row.no\n",
    "        djson1.data.append(d)\n",
    "    except:\n",
    "        print(index)\n",
    "        print(row.no)"
   ],
   "metadata": {
    "collapsed": false,
    "pycharm": {
     "name": "#%%\n"
    }
   }
  },
  {
   "cell_type": "code",
   "execution_count": 25,
   "outputs": [],
   "source": [
    "y = json.dumps(djson1, default=lambda o: o.__dict__, ensure_ascii=False)"
   ],
   "metadata": {
    "collapsed": false,
    "pycharm": {
     "name": "#%%\n"
    }
   }
  },
  {
   "cell_type": "code",
   "execution_count": 26,
   "outputs": [],
   "source": [
    "with open('./QA_Test1/HBert/dataR6/train_'+ str(train_num) + '_X.json', 'w', encoding='utf8') as outfile:\n",
    "#with open('./QA_Test1/HBert/dataV3/train_'+ str(train_num) + '_Y.json', 'w', encoding='utf8') as outfile:\n",
    "    json.dump(djson1, outfile, default=lambda o: o.__dict__ , ensure_ascii=False)"
   ],
   "metadata": {
    "collapsed": false,
    "pycharm": {
     "name": "#%%\n"
    }
   }
  },
  {
   "cell_type": "code",
   "execution_count": 27,
   "outputs": [
    {
     "name": "stdout",
     "output_type": "stream",
     "text": [
      "15\n"
     ]
    }
   ],
   "source": [
    "str = '0000000-0000000'\n",
    "print(len(str))"
   ],
   "metadata": {
    "collapsed": false,
    "pycharm": {
     "name": "#%%\n"
    }
   }
  }
 ],
 "metadata": {
  "kernelspec": {
   "display_name": "Python 3",
   "language": "python",
   "name": "python3"
  },
  "language_info": {
   "codemirror_mode": {
    "name": "ipython",
    "version": 3
   },
   "file_extension": ".py",
   "mimetype": "text/x-python",
   "name": "python",
   "nbconvert_exporter": "python",
   "pygments_lexer": "ipython3",
   "version": "3.6.4"
  }
 },
 "nbformat": 4,
 "nbformat_minor": 2
}