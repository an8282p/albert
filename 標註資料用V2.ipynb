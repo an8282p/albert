{
 "cells": [
  {
   "cell_type": "code",
   "execution_count": 1,
   "metadata": {},
   "outputs": [
    {
     "name": "stdout",
     "output_type": "stream",
     "text": [
      "106,原簡,32_.json\n"
     ]
    }
   ],
   "source": [
    "import os, json \n",
    "import pandas as pd \n",
    "\n",
    "train_num = 2000\n",
    "\n",
    "path_to_json = 'J:\\Legal_Judgment\\臺灣新北地方法院_改_V2'\n",
    "json_files = [pos_json for pos_json in os.listdir(path_to_json) if pos_json.endswith('.json')] \n",
    "print(json_files[0])"
   ]
  },
  {
   "cell_type": "code",
   "execution_count": 2,
   "metadata": {},
   "outputs": [],
   "source": [
    "with open('J://Legal_Judgment//臺灣新北地方法院_改_V2//'+json_files[0],\"r\",encoding=\"utf-8\") as f:\n",
    "    dt = json.load(f)"
   ]
  },
  {
   "cell_type": "code",
   "execution_count": 3,
   "metadata": {},
   "outputs": [
    {
     "data": {
      "text/plain": "   id     court                       date         no sys reason type  \\\n0   0  臺灣臺南地方法院  2018-01-10T00:00:00+08:00  105,訴,788  刑事   妨害自由   判決   \n\n                                            mainText  \\\n0  丁○○幫助犯剝奪他人行動自由罪，累犯，處拘役肆拾日，如易科罰金，以新臺幣壹仟元折算壹日。又共...   \n\n                                           judgement  \\\n0  臺灣臺南地方法院刑事判決105年度訴字第788號公訴人臺灣臺南地方法院檢察署檢察官被告張筠韋...   \n\n                                           Situation  \n0  丁○○、乙○○（綽號俊毅）、壬○○、癸○○（現由本院發佈通緝中）係朋友關係，因乙○○懷疑丑○...  ",
      "text/html": "<div>\n<style scoped>\n    .dataframe tbody tr th:only-of-type {\n        vertical-align: middle;\n    }\n\n    .dataframe tbody tr th {\n        vertical-align: top;\n    }\n\n    .dataframe thead th {\n        text-align: right;\n    }\n</style>\n<table border=\"1\" class=\"dataframe\">\n  <thead>\n    <tr style=\"text-align: right;\">\n      <th></th>\n      <th>id</th>\n      <th>court</th>\n      <th>date</th>\n      <th>no</th>\n      <th>sys</th>\n      <th>reason</th>\n      <th>type</th>\n      <th>mainText</th>\n      <th>judgement</th>\n      <th>Situation</th>\n    </tr>\n  </thead>\n  <tbody>\n    <tr>\n      <td>0</td>\n      <td>0</td>\n      <td>臺灣臺南地方法院</td>\n      <td>2018-01-10T00:00:00+08:00</td>\n      <td>105,訴,788</td>\n      <td>刑事</td>\n      <td>妨害自由</td>\n      <td>判決</td>\n      <td>丁○○幫助犯剝奪他人行動自由罪，累犯，處拘役肆拾日，如易科罰金，以新臺幣壹仟元折算壹日。又共...</td>\n      <td>臺灣臺南地方法院刑事判決105年度訴字第788號公訴人臺灣臺南地方法院檢察署檢察官被告張筠韋...</td>\n      <td>丁○○、乙○○（綽號俊毅）、壬○○、癸○○（現由本院發佈通緝中）係朋友關係，因乙○○懷疑丑○...</td>\n    </tr>\n  </tbody>\n</table>\n</div>"
     },
     "execution_count": 3,
     "metadata": {},
     "output_type": "execute_result"
    }
   ],
   "source": [
    "dic = {\n",
    "    \"id\": 0,\n",
    "    \"court\": [dt[\"court\"]], \n",
    "    \"date\": [dt[\"date\"]],\n",
    "    \"no\": [dt[\"no\"]],\n",
    "    \"sys\": [dt[\"sys\"]],\n",
    "    \"reason\": [dt[\"reason\"]],\n",
    "    \"type\": [dt[\"type\"]],\n",
    "    \"mainText\": [dt[\"mainText\"]],\n",
    "    \"judgement\": [dt[\"judgement\"]],\n",
    "    #\"judgement_SIT\": [dt[\"judgement_SIT\"]],\n",
    "    \"Situation\": [dt[\"Situation\"]]\n",
    "}\n",
    "df = pd.DataFrame(dic)\n",
    "df"
   ]
  },
  {
   "cell_type": "code",
   "execution_count": 4,
   "metadata": {},
   "outputs": [
    {
     "name": "stdout",
     "output_type": "stream",
     "text": [
      "100,中簡,1856\n",
      "100,簡,372\n",
      "100,簡,458\n",
      "101,侵訴,1\n",
      "101,智訴,9\n",
      "103,智訴,4\n",
      "105,易,264\n",
      "105,簡,1724\n",
      "107,審訴緝,48\n",
      "107,訴,394\n"
     ]
    }
   ],
   "source": [
    "for x in range(1,len(json_files)):\n",
    "    with open('J://Legal_Judgment//臺灣新北地方法院_改_V2//'+json_files[x],\"r\",encoding=\"utf-8\") as f:\n",
    "        dt = json.load(f)\n",
    "\n",
    "    try:\n",
    "        if (str(dt[\"judgement\"]).index(str(dt[\"Situation\"])) < 0):\n",
    "            print(\"error1:\" + dt[\"no\"])\n",
    "            continue\n",
    "        if (len(str(dt[\"Situation\"])) > 500):\n",
    "            continue\n",
    "        new = pd.DataFrame({\n",
    "        \"id\" : x,\n",
    "        \"court\": [dt[\"court\"]], \n",
    "        \"date\": [dt[\"date\"]],\n",
    "        \"no\": [dt[\"no\"]],\n",
    "        \"sys\": [dt[\"sys\"]],\n",
    "        \"reason\": [dt[\"reason\"]],\n",
    "        \"type\": [dt[\"type\"]],\n",
    "        \"mainText\": [dt[\"mainText\"]],\n",
    "        \"judgement\": [dt[\"judgement\"]],\n",
    "        #\"judgement_SIT\": [dt[\"judgement_SIT\"]],\n",
    "        \"Situation\": [dt[\"Situation\"]]\n",
    "        })\n",
    "        \n",
    "        df = df.append(new)\n",
    "\n",
    "    except:\n",
    "        print(dt[\"no\"])"
   ]
  },
  {
   "cell_type": "code",
   "execution_count": 5,
   "metadata": {},
   "outputs": [],
   "source": [
    "df.to_csv('J://Legal_Judgment//Result.csv', index=0) "
   ]
  },
  {
   "cell_type": "code",
   "execution_count": 6,
   "outputs": [
    {
     "data": {
      "text/plain": "       court                       date            no sys reason type  \\\nid                                                                      \n0   臺灣臺南地方法院  2018-01-10T00:00:00+08:00     105,訴,788  刑事   妨害自由   判決   \n1   臺灣桃園地方法院  2018-04-18T00:00:00+08:00    106,易,1093  刑事   妨害公務   判決   \n2   臺灣臺中地方法院  2011-05-19T00:00:00+08:00  100,中交簡,1002  刑事   公共危險   判決   \n3   臺灣臺中地方法院  2011-01-25T00:00:00+08:00   100,中交簡,100  刑事   公共危險   判決   \n4   臺灣臺中地方法院  2011-05-12T00:00:00+08:00  100,中交簡,1016  刑事   公共危險   判決   \n\n                                             mainText  \\\nid                                                      \n0   丁○○幫助犯剝奪他人行動自由罪，累犯，處拘役肆拾日，如易科罰金，以新臺幣壹仟元折算壹日。又共...   \n1             邱建豪犯妨害公務執行罪，累犯，處拘役拾日，如易科罰金，以新臺幣壹仟元折算壹日。   \n2   王炎權服用酒類，不能安全駕駛動力交通工具而駕駛，處拘役伍拾日，如易科罰金，以新臺幣壹仟元折算壹日。   \n3   林耀明服用酒類，不能安全駕駛動力交通工具而駕駛，處拘役伍拾伍日，如易科罰金，以新臺幣壹仟元折...   \n4      朱建鴻犯不能安全駕駛動力交通工具罪，處罰金新台幣伍萬元，如易服勞役，以新臺幣壹仟元折算壹日。   \n\n                                            judgement  \\\nid                                                      \n0   臺灣臺南地方法院刑事判決105年度訴字第788號公訴人臺灣臺南地方法院檢察署檢察官被告張筠韋...   \n1   臺灣桃園地方法院刑事判決106年度易字第1093號公訴人臺灣桃園地方法院檢察署檢察官被告邱建...   \n2   臺灣臺中地方法院刑事簡易判決100年度中交簡字第1002號聲請人臺灣臺中地方法院檢察署檢察官...   \n3   臺灣臺中地方法院刑事簡易判決100年度中交簡字第100號聲請人臺灣臺中地方法院檢察署檢察官被...   \n4   臺灣臺中地方法院刑事簡易判決100年度中交簡字第1016號聲請人臺灣臺中地方法院檢察署檢察官...   \n\n                                            Situation  \nid                                                     \n0   丁○○、乙○○（綽號俊毅）、壬○○、癸○○（現由本院發佈通緝中）係朋友關係，因乙○○懷疑丑○...  \n1   邱建豪於民國106年5月1日下午5時15分許，在桃園市○○區○○路000號桃園市政府警察局桃...  \n2   王炎權於民國100年4月8日晚間9時30分許起至翌日凌晨3時許止，在彰化縣芬園鄉○○路○段2...  \n3   林耀明於民國99年10月22日下午4時許起至5時許止，在臺中市○○區○○路與豐樂路交岔路口附...  \n4   朱建鴻於民國100年4月19日晚間9時許起，在臺中市大雅區清泉崗友人住處內飲用啤酒，至同日晚...  ",
      "text/html": "<div>\n<style scoped>\n    .dataframe tbody tr th:only-of-type {\n        vertical-align: middle;\n    }\n\n    .dataframe tbody tr th {\n        vertical-align: top;\n    }\n\n    .dataframe thead th {\n        text-align: right;\n    }\n</style>\n<table border=\"1\" class=\"dataframe\">\n  <thead>\n    <tr style=\"text-align: right;\">\n      <th></th>\n      <th>court</th>\n      <th>date</th>\n      <th>no</th>\n      <th>sys</th>\n      <th>reason</th>\n      <th>type</th>\n      <th>mainText</th>\n      <th>judgement</th>\n      <th>Situation</th>\n    </tr>\n    <tr>\n      <th>id</th>\n      <th></th>\n      <th></th>\n      <th></th>\n      <th></th>\n      <th></th>\n      <th></th>\n      <th></th>\n      <th></th>\n      <th></th>\n    </tr>\n  </thead>\n  <tbody>\n    <tr>\n      <td>0</td>\n      <td>臺灣臺南地方法院</td>\n      <td>2018-01-10T00:00:00+08:00</td>\n      <td>105,訴,788</td>\n      <td>刑事</td>\n      <td>妨害自由</td>\n      <td>判決</td>\n      <td>丁○○幫助犯剝奪他人行動自由罪，累犯，處拘役肆拾日，如易科罰金，以新臺幣壹仟元折算壹日。又共...</td>\n      <td>臺灣臺南地方法院刑事判決105年度訴字第788號公訴人臺灣臺南地方法院檢察署檢察官被告張筠韋...</td>\n      <td>丁○○、乙○○（綽號俊毅）、壬○○、癸○○（現由本院發佈通緝中）係朋友關係，因乙○○懷疑丑○...</td>\n    </tr>\n    <tr>\n      <td>1</td>\n      <td>臺灣桃園地方法院</td>\n      <td>2018-04-18T00:00:00+08:00</td>\n      <td>106,易,1093</td>\n      <td>刑事</td>\n      <td>妨害公務</td>\n      <td>判決</td>\n      <td>邱建豪犯妨害公務執行罪，累犯，處拘役拾日，如易科罰金，以新臺幣壹仟元折算壹日。</td>\n      <td>臺灣桃園地方法院刑事判決106年度易字第1093號公訴人臺灣桃園地方法院檢察署檢察官被告邱建...</td>\n      <td>邱建豪於民國106年5月1日下午5時15分許，在桃園市○○區○○路000號桃園市政府警察局桃...</td>\n    </tr>\n    <tr>\n      <td>2</td>\n      <td>臺灣臺中地方法院</td>\n      <td>2011-05-19T00:00:00+08:00</td>\n      <td>100,中交簡,1002</td>\n      <td>刑事</td>\n      <td>公共危險</td>\n      <td>判決</td>\n      <td>王炎權服用酒類，不能安全駕駛動力交通工具而駕駛，處拘役伍拾日，如易科罰金，以新臺幣壹仟元折算壹日。</td>\n      <td>臺灣臺中地方法院刑事簡易判決100年度中交簡字第1002號聲請人臺灣臺中地方法院檢察署檢察官...</td>\n      <td>王炎權於民國100年4月8日晚間9時30分許起至翌日凌晨3時許止，在彰化縣芬園鄉○○路○段2...</td>\n    </tr>\n    <tr>\n      <td>3</td>\n      <td>臺灣臺中地方法院</td>\n      <td>2011-01-25T00:00:00+08:00</td>\n      <td>100,中交簡,100</td>\n      <td>刑事</td>\n      <td>公共危險</td>\n      <td>判決</td>\n      <td>林耀明服用酒類，不能安全駕駛動力交通工具而駕駛，處拘役伍拾伍日，如易科罰金，以新臺幣壹仟元折...</td>\n      <td>臺灣臺中地方法院刑事簡易判決100年度中交簡字第100號聲請人臺灣臺中地方法院檢察署檢察官被...</td>\n      <td>林耀明於民國99年10月22日下午4時許起至5時許止，在臺中市○○區○○路與豐樂路交岔路口附...</td>\n    </tr>\n    <tr>\n      <td>4</td>\n      <td>臺灣臺中地方法院</td>\n      <td>2011-05-12T00:00:00+08:00</td>\n      <td>100,中交簡,1016</td>\n      <td>刑事</td>\n      <td>公共危險</td>\n      <td>判決</td>\n      <td>朱建鴻犯不能安全駕駛動力交通工具罪，處罰金新台幣伍萬元，如易服勞役，以新臺幣壹仟元折算壹日。</td>\n      <td>臺灣臺中地方法院刑事簡易判決100年度中交簡字第1016號聲請人臺灣臺中地方法院檢察署檢察官...</td>\n      <td>朱建鴻於民國100年4月19日晚間9時許起，在臺中市大雅區清泉崗友人住處內飲用啤酒，至同日晚...</td>\n    </tr>\n  </tbody>\n</table>\n</div>"
     },
     "execution_count": 6,
     "metadata": {},
     "output_type": "execute_result"
    }
   ],
   "source": [
    "df = pd.read_csv('J://Legal_Judgment//Result.csv', index_col=0)\n",
    "test = pd.read_csv('.//QA_Test1//HBert//dataV3//Test500.csv')\n",
    "df.head()"
   ],
   "metadata": {
    "collapsed": false,
    "pycharm": {
     "name": "#%%\n"
    }
   }
  },
  {
   "cell_type": "code",
   "execution_count": 7,
   "outputs": [],
   "source": [
    "df['reason'] = df['reason'].str.replace('等','')\n",
    "df['reason'] = df['reason'].str.replace(\"條例\",\"\")\n",
    "df['reason'] = df['reason'].str.replace(\"違反\",\"\")"
   ],
   "metadata": {
    "collapsed": false,
    "pycharm": {
     "name": "#%%\n"
    }
   }
  },
  {
   "cell_type": "code",
   "execution_count": 8,
   "outputs": [
    {
     "data": {
      "text/plain": "court        1\ndate         1\nno           1\nsys          1\nreason       1\ntype         1\nmainText     1\njudgement    1\nSituation    1\ndtype: int64"
     },
     "execution_count": 8,
     "metadata": {},
     "output_type": "execute_result"
    }
   ],
   "source": [
    "df[df['Situation'].str.len() > 512].count()"
   ],
   "metadata": {
    "collapsed": false,
    "pycharm": {
     "name": "#%%\n"
    }
   }
  },
  {
   "cell_type": "code",
   "execution_count": 9,
   "outputs": [
    {
     "data": {
      "text/plain": "傷害          236\n侵占          223\n毀損          221\n公共危險        219\n過失傷害        214\n妨害自由        202\n妨害公務        195\n竊盜          193\n妨害名譽        183\n妨害性自主        91\n妨害風化         89\n偽造文書         85\n搶奪           84\n妨害性自主罪       75\n強盜           70\n毒品危害防制       66\n著作權法         65\n過失致死          7\n詐欺            7\n槍砲彈藥刀械管制      4\n賭博            4\n貪污            4\n醫師法           3\n殺人未遂          3\n藥事法           2\n偽證            1\n殺人            1\n商標法           1\nName: reason, dtype: int64"
     },
     "execution_count": 9,
     "metadata": {},
     "output_type": "execute_result"
    }
   ],
   "source": [
    "df.loc[:,'reason'].value_counts()"
   ],
   "metadata": {
    "collapsed": false,
    "pycharm": {
     "name": "#%%\n"
    }
   }
  },
  {
   "cell_type": "code",
   "execution_count": 10,
   "outputs": [
    {
     "data": {
      "text/plain": "     id     court                       date            no sys      reason  \\\n0  1416  臺灣臺北地方法院  2017-06-19T00:00:00+08:00    105,易,1096  刑事        妨害名譽   \n1   371  臺灣新北地方法院  2015-11-19T00:00:00+08:00     103,原訴,15  刑事    毒品危害防制條例   \n2   260  臺灣臺南地方法院  2011-09-30T00:00:00+08:00    100,訴,1001  刑事  違反毒品危害防制條例   \n3   501  臺灣臺中地方法院  2016-12-19T00:00:00+08:00  105,中原交簡,144  刑事        公共危險   \n4  1705  臺灣桃園地方法院  2016-08-15T00:00:00+08:00     105,易,932  刑事          毀損   \n\n  type                                           mainText  \\\n0   判決                                             謝學正無罪。   \n1   判決                             柯麗蓮施用第一級毒品，累犯，處有期徒刑玖月。   \n2   判決     劉明展施用第一級毒品，處有期徒刑柒月。又施用第二級毒品，處有期徒刑參月。應執行有期徒刑捌月。   \n3   判決  余慶祥駕駛動力交通工具而吐氣所含酒精濃度達每公升零點二五毫克以上，處有期徒刑肆月，如易科罰金...   \n4   判決                                           本件公訴不受理。   \n\n                                           judgement  \\\n0  臺灣臺北地方法院刑事判決105年度易字第1096號公訴人臺灣臺北地方法院檢察署檢察官被告謝學...   \n1  臺灣新北地方法院刑事判決103年度原訴字第15號公訴人臺灣新北地方法院檢察署檢察官被告柯麗蓮...   \n2  臺灣臺南地方法院刑事判決100年度訴字第1001號公訴人臺灣臺南地方法院檢察署檢察官被告劉明...   \n3  臺灣臺中地方法院刑事簡易判決105年度中原交簡字第144號聲請人臺灣臺中地方法院檢察署檢察官...   \n4  臺灣桃園地方法院刑事判決105年度易字第932號聲請人臺灣桃園地方法院檢察署檢察官被告杜正雄...   \n\n                                           Situation  \n0  被告謝學正之配偶曾春娥自民國103年9月16日起至葛同洲經營、位於臺北市○○區○○○路0段0...  \n1  於103年10月5日23時許，在新北市○○區○○○街00號「湯城汽車旅館」115室內，以將海...  \n2  於九十九年十月六日某時許，在其位於臺南市○區○○街二段七九巷一四號之一之住處房間內，以將第一...  \n3  余慶祥於民國105年10月30日凌晨1時許，在臺中市○區○○路00巷0弄00號居處樓下，飲用...  \n4  被告杜正雄於民國104年12月19日上午，在桃園市龜山區新嶺一街旁山坡地，因佔用山坡地使用收...  ",
      "text/html": "<div>\n<style scoped>\n    .dataframe tbody tr th:only-of-type {\n        vertical-align: middle;\n    }\n\n    .dataframe tbody tr th {\n        vertical-align: top;\n    }\n\n    .dataframe thead th {\n        text-align: right;\n    }\n</style>\n<table border=\"1\" class=\"dataframe\">\n  <thead>\n    <tr style=\"text-align: right;\">\n      <th></th>\n      <th>id</th>\n      <th>court</th>\n      <th>date</th>\n      <th>no</th>\n      <th>sys</th>\n      <th>reason</th>\n      <th>type</th>\n      <th>mainText</th>\n      <th>judgement</th>\n      <th>Situation</th>\n    </tr>\n  </thead>\n  <tbody>\n    <tr>\n      <td>0</td>\n      <td>1416</td>\n      <td>臺灣臺北地方法院</td>\n      <td>2017-06-19T00:00:00+08:00</td>\n      <td>105,易,1096</td>\n      <td>刑事</td>\n      <td>妨害名譽</td>\n      <td>判決</td>\n      <td>謝學正無罪。</td>\n      <td>臺灣臺北地方法院刑事判決105年度易字第1096號公訴人臺灣臺北地方法院檢察署檢察官被告謝學...</td>\n      <td>被告謝學正之配偶曾春娥自民國103年9月16日起至葛同洲經營、位於臺北市○○區○○○路0段0...</td>\n    </tr>\n    <tr>\n      <td>1</td>\n      <td>371</td>\n      <td>臺灣新北地方法院</td>\n      <td>2015-11-19T00:00:00+08:00</td>\n      <td>103,原訴,15</td>\n      <td>刑事</td>\n      <td>毒品危害防制條例</td>\n      <td>判決</td>\n      <td>柯麗蓮施用第一級毒品，累犯，處有期徒刑玖月。</td>\n      <td>臺灣新北地方法院刑事判決103年度原訴字第15號公訴人臺灣新北地方法院檢察署檢察官被告柯麗蓮...</td>\n      <td>於103年10月5日23時許，在新北市○○區○○○街00號「湯城汽車旅館」115室內，以將海...</td>\n    </tr>\n    <tr>\n      <td>2</td>\n      <td>260</td>\n      <td>臺灣臺南地方法院</td>\n      <td>2011-09-30T00:00:00+08:00</td>\n      <td>100,訴,1001</td>\n      <td>刑事</td>\n      <td>違反毒品危害防制條例</td>\n      <td>判決</td>\n      <td>劉明展施用第一級毒品，處有期徒刑柒月。又施用第二級毒品，處有期徒刑參月。應執行有期徒刑捌月。</td>\n      <td>臺灣臺南地方法院刑事判決100年度訴字第1001號公訴人臺灣臺南地方法院檢察署檢察官被告劉明...</td>\n      <td>於九十九年十月六日某時許，在其位於臺南市○區○○街二段七九巷一四號之一之住處房間內，以將第一...</td>\n    </tr>\n    <tr>\n      <td>3</td>\n      <td>501</td>\n      <td>臺灣臺中地方法院</td>\n      <td>2016-12-19T00:00:00+08:00</td>\n      <td>105,中原交簡,144</td>\n      <td>刑事</td>\n      <td>公共危險</td>\n      <td>判決</td>\n      <td>余慶祥駕駛動力交通工具而吐氣所含酒精濃度達每公升零點二五毫克以上，處有期徒刑肆月，如易科罰金...</td>\n      <td>臺灣臺中地方法院刑事簡易判決105年度中原交簡字第144號聲請人臺灣臺中地方法院檢察署檢察官...</td>\n      <td>余慶祥於民國105年10月30日凌晨1時許，在臺中市○區○○路00巷0弄00號居處樓下，飲用...</td>\n    </tr>\n    <tr>\n      <td>4</td>\n      <td>1705</td>\n      <td>臺灣桃園地方法院</td>\n      <td>2016-08-15T00:00:00+08:00</td>\n      <td>105,易,932</td>\n      <td>刑事</td>\n      <td>毀損</td>\n      <td>判決</td>\n      <td>本件公訴不受理。</td>\n      <td>臺灣桃園地方法院刑事判決105年度易字第932號聲請人臺灣桃園地方法院檢察署檢察官被告杜正雄...</td>\n      <td>被告杜正雄於民國104年12月19日上午，在桃園市龜山區新嶺一街旁山坡地，因佔用山坡地使用收...</td>\n    </tr>\n  </tbody>\n</table>\n</div>"
     },
     "execution_count": 10,
     "metadata": {},
     "output_type": "execute_result"
    }
   ],
   "source": [
    "test.head()"
   ],
   "metadata": {
    "collapsed": false,
    "pycharm": {
     "name": "#%%\n"
    }
   }
  },
  {
   "cell_type": "code",
   "execution_count": 11,
   "outputs": [
    {
     "data": {
      "text/plain": "     id     court                       date         no sys reason type  \\\n317   0  臺灣臺南地方法院  2018-01-10T00:00:00+08:00  105,訴,788  刑事   妨害自由   判決   \n\n                                              mainText  \\\n317  丁○○幫助犯剝奪他人行動自由罪，累犯，處拘役肆拾日，如易科罰金，以新臺幣壹仟元折算壹日。又共...   \n\n                                             judgement  \\\n317  臺灣臺南地方法院刑事判決105年度訴字第788號公訴人臺灣臺南地方法院檢察署檢察官被告張筠韋...   \n\n                                             Situation  \n317  丁○○、乙○○（綽號俊毅）、壬○○、癸○○（現由本院發佈通緝中）係朋友關係，因乙○○懷疑丑○...  ",
      "text/html": "<div>\n<style scoped>\n    .dataframe tbody tr th:only-of-type {\n        vertical-align: middle;\n    }\n\n    .dataframe tbody tr th {\n        vertical-align: top;\n    }\n\n    .dataframe thead th {\n        text-align: right;\n    }\n</style>\n<table border=\"1\" class=\"dataframe\">\n  <thead>\n    <tr style=\"text-align: right;\">\n      <th></th>\n      <th>id</th>\n      <th>court</th>\n      <th>date</th>\n      <th>no</th>\n      <th>sys</th>\n      <th>reason</th>\n      <th>type</th>\n      <th>mainText</th>\n      <th>judgement</th>\n      <th>Situation</th>\n    </tr>\n  </thead>\n  <tbody>\n    <tr>\n      <td>317</td>\n      <td>0</td>\n      <td>臺灣臺南地方法院</td>\n      <td>2018-01-10T00:00:00+08:00</td>\n      <td>105,訴,788</td>\n      <td>刑事</td>\n      <td>妨害自由</td>\n      <td>判決</td>\n      <td>丁○○幫助犯剝奪他人行動自由罪，累犯，處拘役肆拾日，如易科罰金，以新臺幣壹仟元折算壹日。又共...</td>\n      <td>臺灣臺南地方法院刑事判決105年度訴字第788號公訴人臺灣臺南地方法院檢察署檢察官被告張筠韋...</td>\n      <td>丁○○、乙○○（綽號俊毅）、壬○○、癸○○（現由本院發佈通緝中）係朋友關係，因乙○○懷疑丑○...</td>\n    </tr>\n  </tbody>\n</table>\n</div>"
     },
     "execution_count": 11,
     "metadata": {},
     "output_type": "execute_result"
    }
   ],
   "source": [
    "test2 = test[test['Situation'].str.len() > 512]\n",
    "test2.head()\n",
    "#test2.to_csv('J://Legal_Judgment//test513.csv', index=0) "
   ],
   "metadata": {
    "collapsed": false,
    "pycharm": {
     "name": "#%%\n"
    }
   }
  },
  {
   "cell_type": "code",
   "execution_count": 12,
   "outputs": [
    {
     "data": {
      "text/plain": "court        2021\ndate         2021\nno           2021\nsys          2021\nreason       2021\ntype         2021\nmainText     2021\njudgement    2021\nSituation    2021\ndtype: int64"
     },
     "execution_count": 12,
     "metadata": {},
     "output_type": "execute_result"
    }
   ],
   "source": [
    "tmp = df[~df['no'].isin(test['no'])]\n",
    "tmp = tmp.dropna()\n",
    "tmp.count()"
   ],
   "metadata": {
    "collapsed": false,
    "pycharm": {
     "name": "#%%\n"
    }
   }
  },
  {
   "cell_type": "code",
   "execution_count": 13,
   "outputs": [
    {
     "data": {
      "text/plain": "         court                       date           no sys reason type  \\\nid                                                                       \n698   臺灣桃園地方法院  2016-06-30T00:00:00+08:00    105,交易,26  刑事   過失傷害   判決   \n1451  臺灣臺南地方法院  2017-06-30T00:00:00+08:00   105,易,1266  刑事     傷害   判決   \n2703  臺灣桃園地方法院  2018-07-20T00:00:00+08:00  107,審易,1362  刑事     毀損   判決   \n1645  臺灣桃園地方法院  2016-06-20T00:00:00+08:00    105,易,725  刑事     毀損   判決   \n2340  臺灣臺北地方法院  2017-04-28T00:00:00+08:00    106,易,168  刑事     侵占   判決   \n\n                                 mainText  \\\nid                                          \n698                              本件公訴不受理。   \n1451   陳燦輝犯傷害罪，處拘役伍拾伍日，如易科罰金，以新臺幣壹仟元折算壹日。   \n2703  曹沛瑀犯毀損文書罪，處拘役貳拾日，如易科罰金，以新臺幣壹仟元折算壹日。   \n1645                             本件公訴不受理。   \n2340                             本件公訴不受理。   \n\n                                              judgement  \\\nid                                                        \n698   臺灣桃園地方法院刑事判決105年度交易字第26號公訴人臺灣桃園地方法院檢察署檢察官被告薛之凱...   \n1451  臺灣臺南地方法院刑事判決105年度易字第1266號公訴人臺灣臺南地方法院檢察署檢察官被告陳燦...   \n2703  臺灣桃園地方法院刑事判決107年度審易字第1362號公訴人臺灣桃園地方檢察署檢察官被告曹沛瑀...   \n1645  臺灣桃園地方法院刑事判決105年度易字第725號公訴人臺灣桃園地方法院檢察署檢察官被告郭茂坤...   \n2340  臺灣臺北地方法院刑事判決106年度易字第168號公訴人臺灣臺北地方法院檢察署檢察官被告張桂青...   \n\n                                              Situation  \nid                                                       \n698   被告薛之凱於民國103年10月21日上午9時47分許，騎乘車牌號碼000-0000號重型機車...  \n1451  陳燦輝與徐光慕係對門鄰居，陳燦輝於民國104年5月20日9時許，在其位在臺南市○○區○○○路...  \n2703  曹沛瑀於民國106年12月23日下午1時30分許，在鄭國志所經營位於桃園市○○區○○路000...  \n1645  被告郭茂坤與告訴人郭聰明為堂兄弟，2人間為家庭暴力防治法第3條第4款所定之家庭成員關係。被告...  \n2340  被告與告訴人張銘智為配偶關係，2人共同保管其等女兒張○瑄（民國000年0月00日生，真實姓名...  ",
      "text/html": "<div>\n<style scoped>\n    .dataframe tbody tr th:only-of-type {\n        vertical-align: middle;\n    }\n\n    .dataframe tbody tr th {\n        vertical-align: top;\n    }\n\n    .dataframe thead th {\n        text-align: right;\n    }\n</style>\n<table border=\"1\" class=\"dataframe\">\n  <thead>\n    <tr style=\"text-align: right;\">\n      <th></th>\n      <th>court</th>\n      <th>date</th>\n      <th>no</th>\n      <th>sys</th>\n      <th>reason</th>\n      <th>type</th>\n      <th>mainText</th>\n      <th>judgement</th>\n      <th>Situation</th>\n    </tr>\n    <tr>\n      <th>id</th>\n      <th></th>\n      <th></th>\n      <th></th>\n      <th></th>\n      <th></th>\n      <th></th>\n      <th></th>\n      <th></th>\n      <th></th>\n    </tr>\n  </thead>\n  <tbody>\n    <tr>\n      <td>698</td>\n      <td>臺灣桃園地方法院</td>\n      <td>2016-06-30T00:00:00+08:00</td>\n      <td>105,交易,26</td>\n      <td>刑事</td>\n      <td>過失傷害</td>\n      <td>判決</td>\n      <td>本件公訴不受理。</td>\n      <td>臺灣桃園地方法院刑事判決105年度交易字第26號公訴人臺灣桃園地方法院檢察署檢察官被告薛之凱...</td>\n      <td>被告薛之凱於民國103年10月21日上午9時47分許，騎乘車牌號碼000-0000號重型機車...</td>\n    </tr>\n    <tr>\n      <td>1451</td>\n      <td>臺灣臺南地方法院</td>\n      <td>2017-06-30T00:00:00+08:00</td>\n      <td>105,易,1266</td>\n      <td>刑事</td>\n      <td>傷害</td>\n      <td>判決</td>\n      <td>陳燦輝犯傷害罪，處拘役伍拾伍日，如易科罰金，以新臺幣壹仟元折算壹日。</td>\n      <td>臺灣臺南地方法院刑事判決105年度易字第1266號公訴人臺灣臺南地方法院檢察署檢察官被告陳燦...</td>\n      <td>陳燦輝與徐光慕係對門鄰居，陳燦輝於民國104年5月20日9時許，在其位在臺南市○○區○○○路...</td>\n    </tr>\n    <tr>\n      <td>2703</td>\n      <td>臺灣桃園地方法院</td>\n      <td>2018-07-20T00:00:00+08:00</td>\n      <td>107,審易,1362</td>\n      <td>刑事</td>\n      <td>毀損</td>\n      <td>判決</td>\n      <td>曹沛瑀犯毀損文書罪，處拘役貳拾日，如易科罰金，以新臺幣壹仟元折算壹日。</td>\n      <td>臺灣桃園地方法院刑事判決107年度審易字第1362號公訴人臺灣桃園地方檢察署檢察官被告曹沛瑀...</td>\n      <td>曹沛瑀於民國106年12月23日下午1時30分許，在鄭國志所經營位於桃園市○○區○○路000...</td>\n    </tr>\n    <tr>\n      <td>1645</td>\n      <td>臺灣桃園地方法院</td>\n      <td>2016-06-20T00:00:00+08:00</td>\n      <td>105,易,725</td>\n      <td>刑事</td>\n      <td>毀損</td>\n      <td>判決</td>\n      <td>本件公訴不受理。</td>\n      <td>臺灣桃園地方法院刑事判決105年度易字第725號公訴人臺灣桃園地方法院檢察署檢察官被告郭茂坤...</td>\n      <td>被告郭茂坤與告訴人郭聰明為堂兄弟，2人間為家庭暴力防治法第3條第4款所定之家庭成員關係。被告...</td>\n    </tr>\n    <tr>\n      <td>2340</td>\n      <td>臺灣臺北地方法院</td>\n      <td>2017-04-28T00:00:00+08:00</td>\n      <td>106,易,168</td>\n      <td>刑事</td>\n      <td>侵占</td>\n      <td>判決</td>\n      <td>本件公訴不受理。</td>\n      <td>臺灣臺北地方法院刑事判決106年度易字第168號公訴人臺灣臺北地方法院檢察署檢察官被告張桂青...</td>\n      <td>被告與告訴人張銘智為配偶關係，2人共同保管其等女兒張○瑄（民國000年0月00日生，真實姓名...</td>\n    </tr>\n  </tbody>\n</table>\n</div>"
     },
     "execution_count": 13,
     "metadata": {},
     "output_type": "execute_result"
    }
   ],
   "source": [
    "##拆分df\n",
    "df1=tmp.sample(n=train_num)#按0.6比例随机采样\n",
    "df1.head()"
   ],
   "metadata": {
    "collapsed": false,
    "pycharm": {
     "name": "#%%\n"
    }
   }
  },
  {
   "cell_type": "code",
   "execution_count": 14,
   "outputs": [
    {
     "data": {
      "text/plain": "court        2000\ndate         2000\nno           2000\nsys          2000\nreason       2000\ntype         2000\nmainText     2000\njudgement    2000\nSituation    2000\ndtype: int64"
     },
     "execution_count": 14,
     "metadata": {},
     "output_type": "execute_result"
    }
   ],
   "source": [
    "df1.count()"
   ],
   "metadata": {
    "collapsed": false,
    "pycharm": {
     "name": "#%%\n"
    }
   }
  },
  {
   "cell_type": "code",
   "execution_count": 15,
   "outputs": [
    {
     "data": {
      "text/plain": "court        0\ndate         0\nno           0\nsys          0\nreason       0\ntype         0\nmainText     0\njudgement    0\nSituation    0\ndtype: int64"
     },
     "execution_count": 15,
     "metadata": {},
     "output_type": "execute_result"
    }
   ],
   "source": [
    "df1[df1['Situation'].str.len() > 512].count()"
   ],
   "metadata": {
    "collapsed": false,
    "pycharm": {
     "name": "#%%\n"
    }
   }
  },
  {
   "cell_type": "code",
   "execution_count": 16,
   "outputs": [
    {
     "data": {
      "text/plain": "     id     court                       date            no sys      reason  \\\n0  1416  臺灣臺北地方法院  2017-06-19T00:00:00+08:00    105,易,1096  刑事        妨害名譽   \n1   371  臺灣新北地方法院  2015-11-19T00:00:00+08:00     103,原訴,15  刑事    毒品危害防制條例   \n2   260  臺灣臺南地方法院  2011-09-30T00:00:00+08:00    100,訴,1001  刑事  違反毒品危害防制條例   \n3   501  臺灣臺中地方法院  2016-12-19T00:00:00+08:00  105,中原交簡,144  刑事        公共危險   \n4  1705  臺灣桃園地方法院  2016-08-15T00:00:00+08:00     105,易,932  刑事          毀損   \n\n  type                                           mainText  \\\n0   判決                                             謝學正無罪。   \n1   判決                             柯麗蓮施用第一級毒品，累犯，處有期徒刑玖月。   \n2   判決     劉明展施用第一級毒品，處有期徒刑柒月。又施用第二級毒品，處有期徒刑參月。應執行有期徒刑捌月。   \n3   判決  余慶祥駕駛動力交通工具而吐氣所含酒精濃度達每公升零點二五毫克以上，處有期徒刑肆月，如易科罰金...   \n4   判決                                           本件公訴不受理。   \n\n                                           judgement  \\\n0  臺灣臺北地方法院刑事判決105年度易字第1096號公訴人臺灣臺北地方法院檢察署檢察官被告謝學...   \n1  臺灣新北地方法院刑事判決103年度原訴字第15號公訴人臺灣新北地方法院檢察署檢察官被告柯麗蓮...   \n2  臺灣臺南地方法院刑事判決100年度訴字第1001號公訴人臺灣臺南地方法院檢察署檢察官被告劉明...   \n3  臺灣臺中地方法院刑事簡易判決105年度中原交簡字第144號聲請人臺灣臺中地方法院檢察署檢察官...   \n4  臺灣桃園地方法院刑事判決105年度易字第932號聲請人臺灣桃園地方法院檢察署檢察官被告杜正雄...   \n\n                                           Situation  \n0  被告謝學正之配偶曾春娥自民國103年9月16日起至葛同洲經營、位於臺北市○○區○○○路0段0...  \n1  於103年10月5日23時許，在新北市○○區○○○街00號「湯城汽車旅館」115室內，以將海...  \n2  於九十九年十月六日某時許，在其位於臺南市○區○○街二段七九巷一四號之一之住處房間內，以將第一...  \n3  余慶祥於民國105年10月30日凌晨1時許，在臺中市○區○○路00巷0弄00號居處樓下，飲用...  \n4  被告杜正雄於民國104年12月19日上午，在桃園市龜山區新嶺一街旁山坡地，因佔用山坡地使用收...  ",
      "text/html": "<div>\n<style scoped>\n    .dataframe tbody tr th:only-of-type {\n        vertical-align: middle;\n    }\n\n    .dataframe tbody tr th {\n        vertical-align: top;\n    }\n\n    .dataframe thead th {\n        text-align: right;\n    }\n</style>\n<table border=\"1\" class=\"dataframe\">\n  <thead>\n    <tr style=\"text-align: right;\">\n      <th></th>\n      <th>id</th>\n      <th>court</th>\n      <th>date</th>\n      <th>no</th>\n      <th>sys</th>\n      <th>reason</th>\n      <th>type</th>\n      <th>mainText</th>\n      <th>judgement</th>\n      <th>Situation</th>\n    </tr>\n  </thead>\n  <tbody>\n    <tr>\n      <td>0</td>\n      <td>1416</td>\n      <td>臺灣臺北地方法院</td>\n      <td>2017-06-19T00:00:00+08:00</td>\n      <td>105,易,1096</td>\n      <td>刑事</td>\n      <td>妨害名譽</td>\n      <td>判決</td>\n      <td>謝學正無罪。</td>\n      <td>臺灣臺北地方法院刑事判決105年度易字第1096號公訴人臺灣臺北地方法院檢察署檢察官被告謝學...</td>\n      <td>被告謝學正之配偶曾春娥自民國103年9月16日起至葛同洲經營、位於臺北市○○區○○○路0段0...</td>\n    </tr>\n    <tr>\n      <td>1</td>\n      <td>371</td>\n      <td>臺灣新北地方法院</td>\n      <td>2015-11-19T00:00:00+08:00</td>\n      <td>103,原訴,15</td>\n      <td>刑事</td>\n      <td>毒品危害防制條例</td>\n      <td>判決</td>\n      <td>柯麗蓮施用第一級毒品，累犯，處有期徒刑玖月。</td>\n      <td>臺灣新北地方法院刑事判決103年度原訴字第15號公訴人臺灣新北地方法院檢察署檢察官被告柯麗蓮...</td>\n      <td>於103年10月5日23時許，在新北市○○區○○○街00號「湯城汽車旅館」115室內，以將海...</td>\n    </tr>\n    <tr>\n      <td>2</td>\n      <td>260</td>\n      <td>臺灣臺南地方法院</td>\n      <td>2011-09-30T00:00:00+08:00</td>\n      <td>100,訴,1001</td>\n      <td>刑事</td>\n      <td>違反毒品危害防制條例</td>\n      <td>判決</td>\n      <td>劉明展施用第一級毒品，處有期徒刑柒月。又施用第二級毒品，處有期徒刑參月。應執行有期徒刑捌月。</td>\n      <td>臺灣臺南地方法院刑事判決100年度訴字第1001號公訴人臺灣臺南地方法院檢察署檢察官被告劉明...</td>\n      <td>於九十九年十月六日某時許，在其位於臺南市○區○○街二段七九巷一四號之一之住處房間內，以將第一...</td>\n    </tr>\n    <tr>\n      <td>3</td>\n      <td>501</td>\n      <td>臺灣臺中地方法院</td>\n      <td>2016-12-19T00:00:00+08:00</td>\n      <td>105,中原交簡,144</td>\n      <td>刑事</td>\n      <td>公共危險</td>\n      <td>判決</td>\n      <td>余慶祥駕駛動力交通工具而吐氣所含酒精濃度達每公升零點二五毫克以上，處有期徒刑肆月，如易科罰金...</td>\n      <td>臺灣臺中地方法院刑事簡易判決105年度中原交簡字第144號聲請人臺灣臺中地方法院檢察署檢察官...</td>\n      <td>余慶祥於民國105年10月30日凌晨1時許，在臺中市○區○○路00巷0弄00號居處樓下，飲用...</td>\n    </tr>\n    <tr>\n      <td>4</td>\n      <td>1705</td>\n      <td>臺灣桃園地方法院</td>\n      <td>2016-08-15T00:00:00+08:00</td>\n      <td>105,易,932</td>\n      <td>刑事</td>\n      <td>毀損</td>\n      <td>判決</td>\n      <td>本件公訴不受理。</td>\n      <td>臺灣桃園地方法院刑事判決105年度易字第932號聲請人臺灣桃園地方法院檢察署檢察官被告杜正雄...</td>\n      <td>被告杜正雄於民國104年12月19日上午，在桃園市龜山區新嶺一街旁山坡地，因佔用山坡地使用收...</td>\n    </tr>\n  </tbody>\n</table>\n</div>"
     },
     "execution_count": 16,
     "metadata": {},
     "output_type": "execute_result"
    }
   ],
   "source": [
    "df2=test\n",
    "df2.head()"
   ],
   "metadata": {
    "collapsed": false,
    "pycharm": {
     "name": "#%%\n"
    }
   }
  },
  {
   "cell_type": "code",
   "execution_count": 17,
   "outputs": [],
   "source": [
    "class Data(object):\n",
    "    def __init__(self):\n",
    "        self.paragraphs = []\n",
    "        self.id = \"0\"\n",
    "        self.title = \"\"\n",
    "\n",
    "class Djson(object):\n",
    "    def __init__(self):\n",
    "        self.version = \"v1.0\"\n",
    "        self.data = []\n",
    " "
   ],
   "metadata": {
    "collapsed": false,
    "pycharm": {
     "name": "#%%\n"
    }
   }
  },
  {
   "cell_type": "code",
   "execution_count": 18,
   "outputs": [],
   "source": [
    "djson1 = Djson()\n",
    "for index, row in df1.iterrows():\n",
    "    try:\n",
    "        if (row.judgement.index(row.Situation) < 0):\n",
    "            print(index)\n",
    "            print(row.no)\n",
    "\n",
    "        d = Data()\n",
    "        d.paragraphs = [{\"id\" : \"TRAIN_\" + str(index),\n",
    "                      #\"context\" : row.reason + \"[SEP]\" + row.judgement, \n",
    "                      \"context\" : row.judgement, \n",
    "                      \"qas\":[{\n",
    "                          \"question\" :\"?\",\n",
    "                          \"id\" : \"TRAIN_\" + str(index) + \"_QUERY_0\",\n",
    "                          \"answers\" :[{\n",
    "                              \"text\" : row.Situation,\n",
    "                              \"answer_start\" : row.judgement.index(row.Situation) #+ len(row.reason + \"[SET]\")\n",
    "                          }]\n",
    "                      }]\n",
    "                    }\n",
    "                    ]\n",
    "        d.id = \"TRAIN_\" + str(index)\n",
    "        d.title = row.no\n",
    "        djson1.data.append(d)\n",
    "    except:\n",
    "        print(index)\n",
    "        print(row.no)"
   ],
   "metadata": {
    "collapsed": false,
    "pycharm": {
     "name": "#%%\n"
    }
   }
  },
  {
   "cell_type": "code",
   "execution_count": 19,
   "outputs": [],
   "source": [
    "y = json.dumps(djson1, default=lambda o: o.__dict__, ensure_ascii=False)"
   ],
   "metadata": {
    "collapsed": false,
    "pycharm": {
     "name": "#%%\n"
    }
   }
  },
  {
   "cell_type": "code",
   "execution_count": 20,
   "outputs": [],
   "source": [
    "with open('./QA_Test1/HBert/dataV3/train_'+ str(train_num) + '.json', 'w', encoding='utf8') as outfile:\n",
    "    json.dump(djson1, outfile, default=lambda o: o.__dict__ , ensure_ascii=False)\n",
    "    "
   ],
   "metadata": {
    "collapsed": false,
    "pycharm": {
     "name": "#%%\n"
    }
   }
  },
  {
   "cell_type": "code",
   "execution_count": 21,
   "outputs": [
    {
     "name": "stdout",
     "output_type": "stream",
     "text": [
      "15\n"
     ]
    }
   ],
   "source": [
    "str = '0000000-0000000'\n",
    "print(len(str))"
   ],
   "metadata": {
    "collapsed": false,
    "pycharm": {
     "name": "#%%\n"
    }
   }
  }
 ],
 "metadata": {
  "kernelspec": {
   "display_name": "Python 3",
   "language": "python",
   "name": "python3"
  },
  "language_info": {
   "codemirror_mode": {
    "name": "ipython",
    "version": 3
   },
   "file_extension": ".py",
   "mimetype": "text/x-python",
   "name": "python",
   "nbconvert_exporter": "python",
   "pygments_lexer": "ipython3",
   "version": "3.6.4"
  }
 },
 "nbformat": 4,
 "nbformat_minor": 2
}