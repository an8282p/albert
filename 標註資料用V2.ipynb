{
 "cells": [
  {
   "cell_type": "code",
   "execution_count": 55,
   "metadata": {
    "pycharm": {
     "is_executing": false
    }
   },
   "outputs": [
    {
     "name": "stdout",
     "text": [
      "刑事判決_100,中交簡,1002_2011-05-19.json\n"
     ],
     "output_type": "stream"
    }
   ],
   "source": [
    "import os, json \n",
    "import pandas as pd \n",
    "\n",
    "train_num = 800\n",
    "\n",
    "path_to_json = 'J:\\Legal_Judgment\\臺灣新北地方法院_改' \n",
    "json_files = [pos_json for pos_json in os.listdir(path_to_json) if pos_json.endswith('.json')] \n",
    "print(json_files[0])"
   ]
  },
  {
   "cell_type": "code",
   "execution_count": 56,
   "metadata": {
    "pycharm": {
     "is_executing": false
    }
   },
   "outputs": [],
   "source": [
    "with open('J://Legal_Judgment//臺灣新北地方法院_改//'+json_files[0],\"r\",encoding=\"utf-8\") as f:\n",
    "    dt = json.load(f)"
   ]
  },
  {
   "cell_type": "code",
   "execution_count": 57,
   "metadata": {
    "pycharm": {
     "is_executing": false
    }
   },
   "outputs": [
    {
     "data": {
      "text/plain": "   id     court                       date            no sys reason type  \\\n0   0  臺灣臺中地方法院  2011-05-19T00:00:00+08:00  100,中交簡,1002  刑事   公共危險   判決   \n\n                                            mainText  \\\n0  王炎權服用酒類，不能安全駕駛動力交通工具而駕駛，處拘役伍拾日，如易科罰金，以新臺幣壹仟元折算壹日。   \n\n                                           judgement  \\\n0  臺灣臺中地方法院刑事簡易判決100年度中交簡字第1002號聲請人臺灣臺中地方法院檢察署檢察官...   \n\n                                           Situation  \n0  王炎權於民國100年4月8日晚間9時30分許起至翌日凌晨3時許止，在彰化縣芬園鄉○○路○段2...  ",
      "text/html": "<div>\n<style scoped>\n    .dataframe tbody tr th:only-of-type {\n        vertical-align: middle;\n    }\n\n    .dataframe tbody tr th {\n        vertical-align: top;\n    }\n\n    .dataframe thead th {\n        text-align: right;\n    }\n</style>\n<table border=\"1\" class=\"dataframe\">\n  <thead>\n    <tr style=\"text-align: right;\">\n      <th></th>\n      <th>id</th>\n      <th>court</th>\n      <th>date</th>\n      <th>no</th>\n      <th>sys</th>\n      <th>reason</th>\n      <th>type</th>\n      <th>mainText</th>\n      <th>judgement</th>\n      <th>Situation</th>\n    </tr>\n  </thead>\n  <tbody>\n    <tr>\n      <td>0</td>\n      <td>0</td>\n      <td>臺灣臺中地方法院</td>\n      <td>2011-05-19T00:00:00+08:00</td>\n      <td>100,中交簡,1002</td>\n      <td>刑事</td>\n      <td>公共危險</td>\n      <td>判決</td>\n      <td>王炎權服用酒類，不能安全駕駛動力交通工具而駕駛，處拘役伍拾日，如易科罰金，以新臺幣壹仟元折算壹日。</td>\n      <td>臺灣臺中地方法院刑事簡易判決100年度中交簡字第1002號聲請人臺灣臺中地方法院檢察署檢察官...</td>\n      <td>王炎權於民國100年4月8日晚間9時30分許起至翌日凌晨3時許止，在彰化縣芬園鄉○○路○段2...</td>\n    </tr>\n  </tbody>\n</table>\n</div>"
     },
     "metadata": {},
     "output_type": "execute_result",
     "execution_count": 57
    }
   ],
   "source": [
    "dic = {\n",
    "    \"id\": 0,\n",
    "    \"court\": [dt[\"court\"]], \n",
    "    \"date\": [dt[\"date\"]],\n",
    "    \"no\": [dt[\"no\"]],\n",
    "    \"sys\": [dt[\"sys\"]],\n",
    "    \"reason\": [dt[\"reason\"]],\n",
    "    \"type\": [dt[\"type\"]],\n",
    "    \"mainText\": [dt[\"mainText\"]],\n",
    "    \"judgement\": [dt[\"judgement\"]],\n",
    "    #\"judgement_SIT\": [dt[\"judgement_SIT\"]],\n",
    "    \"Situation\": [dt[\"Situation\"]]\n",
    "}\n",
    "df = pd.DataFrame(dic)\n",
    "df"
   ]
  },
  {
   "cell_type": "code",
   "execution_count": 58,
   "metadata": {
    "pycharm": {
     "is_executing": false
    }
   },
   "outputs": [
    {
     "name": "stdout",
     "text": [
      "100,中交簡,1016\n100,中簡,1098\n100,中簡,1124\n100,中簡,1249\n100,中簡,1410\n",
      "100,中簡,1856\n",
      "100,中簡,2170\n",
      "100,侵訴,77\n100,易,3937\n100,簡,372\n100,簡,458\n",
      "100,訴,98\n101,侵訴,1\n101,侵訴,22\n101,智訴,9\n103,智訴,4\n",
      "105,審易,1102\n105,審易,3598\n",
      "105,易,264\n",
      "105,簡,1724\n105,訴,171\n",
      "106,侵訴,54\n106,審智易,19\n",
      "106,智簡,10\n",
      "99,智訴,6\n"
     ],
     "output_type": "stream"
    }
   ],
   "source": [
    "for x in range(1,len(json_files)):\n",
    "    with open('J://Legal_Judgment//臺灣新北地方法院_改//'+json_files[x],\"r\",encoding=\"utf-8\") as f:\n",
    "        dt = json.load(f)\n",
    "\n",
    "    try:\n",
    "        if (str(dt[\"judgement\"]).index(str(dt[\"Situation\"])) < 0):\n",
    "            continue\n",
    "        new = pd.DataFrame({\n",
    "        \"id\" : x,\n",
    "        \"court\": [dt[\"court\"]], \n",
    "        \"date\": [dt[\"date\"]],\n",
    "        \"no\": [dt[\"no\"]],\n",
    "        \"sys\": [dt[\"sys\"]],\n",
    "        \"reason\": [dt[\"reason\"]],\n",
    "        \"type\": [dt[\"type\"]],\n",
    "        \"mainText\": [dt[\"mainText\"]],\n",
    "        \"judgement\": [dt[\"judgement\"]],\n",
    "        #\"judgement_SIT\": [dt[\"judgement_SIT\"]],\n",
    "        \"Situation\": [dt[\"Situation\"]]\n",
    "        })\n",
    "        \n",
    "        df = df.append(new)\n",
    "\n",
    "    except:\n",
    "        print(dt[\"no\"])"
   ]
  },
  {
   "cell_type": "code",
   "execution_count": 59,
   "metadata": {
    "pycharm": {
     "is_executing": false
    }
   },
   "outputs": [],
   "source": [
    "df.to_csv('J://Legal_Judgment//Result.csv', index=0) "
   ]
  },
  {
   "cell_type": "code",
   "execution_count": 60,
   "outputs": [
    {
     "data": {
      "text/plain": "       court                       date            no sys reason type  \\\nid                                                                      \n0   臺灣臺中地方法院  2011-05-19T00:00:00+08:00  100,中交簡,1002  刑事   公共危險   判決   \n1   臺灣臺中地方法院  2011-01-25T00:00:00+08:00   100,中交簡,100  刑事   公共危險   判決   \n3   臺灣臺中地方法院  2011-06-13T00:00:00+08:00  100,中交簡,1106  刑事   公共危險   判決   \n4   臺灣臺中地方法院  2011-05-17T00:00:00+08:00   100,中簡,1001  刑事     竊盜   判決   \n5   臺灣臺中地方法院  2011-04-25T00:00:00+08:00   100,中簡,1011  刑事     賭博   判決   \n\n                                             mainText  \\\nid                                                      \n0   王炎權服用酒類，不能安全駕駛動力交通工具而駕駛，處拘役伍拾日，如易科罰金，以新臺幣壹仟元折算壹日。   \n1   林耀明服用酒類，不能安全駕駛動力交通工具而駕駛，處拘役伍拾伍日，如易科罰金，以新臺幣壹仟元折...   \n3   洪國棋服用酒類，不能安全駕駛動力交通工具而駕駛，處拘役伍拾日，如易科罰金，以新臺幣壹仟元折算壹日。   \n4   陳守仁竊盜，三罪，均累犯，各處罰金新臺幣壹萬元、壹萬元、伍仟元，如易服勞役，均以新臺幣壹仟元...   \n5   張昔霞意圖營利聚眾賭博，累犯，處有期徒刑陸月，如易科罰金，以新臺幣壹仟元折算壹日。扣案錄音機...   \n\n                                            judgement  \\\nid                                                      \n0   臺灣臺中地方法院刑事簡易判決100年度中交簡字第1002號聲請人臺灣臺中地方法院檢察署檢察官...   \n1   臺灣臺中地方法院刑事簡易判決100年度中交簡字第100號聲請人臺灣臺中地方法院檢察署檢察官被...   \n3   臺灣臺中地方法院刑事簡易判決100年度中交簡字第1106號聲請人臺灣臺中地方法院檢察署檢察官...   \n4   臺灣臺中地方法院刑事簡易判決100年度中簡字第1001號聲請人臺灣臺中地方法院檢察署檢察官被...   \n5   臺灣臺中地方法院刑事簡易判決100年度中簡字第1011號聲請人臺灣臺中地方法院檢察署檢察官被...   \n\n                                            Situation  \nid                                                     \n0   王炎權於民國100年4月8日晚間9時30分許起至翌日凌晨3時許止，在彰化縣芬園鄉○○路○段2...  \n1   林耀明於民國99年10月22日下午4時許起至5時許止，在臺中市○○區○○路與豐樂路交岔路口附...  \n3   洪國棋於民國100年4月28日晚間7時許起至同日晚間8時30分許止，在臺中市○里區○○路21...  \n4   被告陳守仁為高職畢業擔任保全之男子，竟不思以正常手段獲取財物，因一時貪念，以徒手竊取該超商內...  \n5   詎其不知悔改，復基於賭博及意圖營利供給賭博場所、聚眾賭博之犯意，自民國100年1月25日起，...  ",
      "text/html": "<div>\n<style scoped>\n    .dataframe tbody tr th:only-of-type {\n        vertical-align: middle;\n    }\n\n    .dataframe tbody tr th {\n        vertical-align: top;\n    }\n\n    .dataframe thead th {\n        text-align: right;\n    }\n</style>\n<table border=\"1\" class=\"dataframe\">\n  <thead>\n    <tr style=\"text-align: right;\">\n      <th></th>\n      <th>court</th>\n      <th>date</th>\n      <th>no</th>\n      <th>sys</th>\n      <th>reason</th>\n      <th>type</th>\n      <th>mainText</th>\n      <th>judgement</th>\n      <th>Situation</th>\n    </tr>\n    <tr>\n      <th>id</th>\n      <th></th>\n      <th></th>\n      <th></th>\n      <th></th>\n      <th></th>\n      <th></th>\n      <th></th>\n      <th></th>\n      <th></th>\n    </tr>\n  </thead>\n  <tbody>\n    <tr>\n      <td>0</td>\n      <td>臺灣臺中地方法院</td>\n      <td>2011-05-19T00:00:00+08:00</td>\n      <td>100,中交簡,1002</td>\n      <td>刑事</td>\n      <td>公共危險</td>\n      <td>判決</td>\n      <td>王炎權服用酒類，不能安全駕駛動力交通工具而駕駛，處拘役伍拾日，如易科罰金，以新臺幣壹仟元折算壹日。</td>\n      <td>臺灣臺中地方法院刑事簡易判決100年度中交簡字第1002號聲請人臺灣臺中地方法院檢察署檢察官...</td>\n      <td>王炎權於民國100年4月8日晚間9時30分許起至翌日凌晨3時許止，在彰化縣芬園鄉○○路○段2...</td>\n    </tr>\n    <tr>\n      <td>1</td>\n      <td>臺灣臺中地方法院</td>\n      <td>2011-01-25T00:00:00+08:00</td>\n      <td>100,中交簡,100</td>\n      <td>刑事</td>\n      <td>公共危險</td>\n      <td>判決</td>\n      <td>林耀明服用酒類，不能安全駕駛動力交通工具而駕駛，處拘役伍拾伍日，如易科罰金，以新臺幣壹仟元折...</td>\n      <td>臺灣臺中地方法院刑事簡易判決100年度中交簡字第100號聲請人臺灣臺中地方法院檢察署檢察官被...</td>\n      <td>林耀明於民國99年10月22日下午4時許起至5時許止，在臺中市○○區○○路與豐樂路交岔路口附...</td>\n    </tr>\n    <tr>\n      <td>3</td>\n      <td>臺灣臺中地方法院</td>\n      <td>2011-06-13T00:00:00+08:00</td>\n      <td>100,中交簡,1106</td>\n      <td>刑事</td>\n      <td>公共危險</td>\n      <td>判決</td>\n      <td>洪國棋服用酒類，不能安全駕駛動力交通工具而駕駛，處拘役伍拾日，如易科罰金，以新臺幣壹仟元折算壹日。</td>\n      <td>臺灣臺中地方法院刑事簡易判決100年度中交簡字第1106號聲請人臺灣臺中地方法院檢察署檢察官...</td>\n      <td>洪國棋於民國100年4月28日晚間7時許起至同日晚間8時30分許止，在臺中市○里區○○路21...</td>\n    </tr>\n    <tr>\n      <td>4</td>\n      <td>臺灣臺中地方法院</td>\n      <td>2011-05-17T00:00:00+08:00</td>\n      <td>100,中簡,1001</td>\n      <td>刑事</td>\n      <td>竊盜</td>\n      <td>判決</td>\n      <td>陳守仁竊盜，三罪，均累犯，各處罰金新臺幣壹萬元、壹萬元、伍仟元，如易服勞役，均以新臺幣壹仟元...</td>\n      <td>臺灣臺中地方法院刑事簡易判決100年度中簡字第1001號聲請人臺灣臺中地方法院檢察署檢察官被...</td>\n      <td>被告陳守仁為高職畢業擔任保全之男子，竟不思以正常手段獲取財物，因一時貪念，以徒手竊取該超商內...</td>\n    </tr>\n    <tr>\n      <td>5</td>\n      <td>臺灣臺中地方法院</td>\n      <td>2011-04-25T00:00:00+08:00</td>\n      <td>100,中簡,1011</td>\n      <td>刑事</td>\n      <td>賭博</td>\n      <td>判決</td>\n      <td>張昔霞意圖營利聚眾賭博，累犯，處有期徒刑陸月，如易科罰金，以新臺幣壹仟元折算壹日。扣案錄音機...</td>\n      <td>臺灣臺中地方法院刑事簡易判決100年度中簡字第1011號聲請人臺灣臺中地方法院檢察署檢察官被...</td>\n      <td>詎其不知悔改，復基於賭博及意圖營利供給賭博場所、聚眾賭博之犯意，自民國100年1月25日起，...</td>\n    </tr>\n  </tbody>\n</table>\n</div>"
     },
     "metadata": {},
     "output_type": "execute_result",
     "execution_count": 60
    }
   ],
   "source": [
    "df = pd.read_csv('J://Legal_Judgment//Result.csv', index_col=0)\n",
    "test = pd.read_csv('.//QA_Test1//HBert//dataV2//Test200.csv')\n",
    "df.head()"
   ],
   "metadata": {
    "collapsed": false,
    "pycharm": {
     "name": "#%%\n",
     "is_executing": false
    }
   }
  },
  {
   "cell_type": "code",
   "execution_count": 61,
   "outputs": [
    {
     "data": {
      "text/plain": "      court                       date           no sys reason type  \\\n0  臺灣新北地方法院  2014-08-08T00:00:00+08:00      98,矚訴,1  刑事     貪污   判決   \n1  臺灣臺中地方法院  2011-11-10T00:00:00+08:00   100,易,3133  刑事   妨害風化   判決   \n2  臺灣高雄地方法院  2016-01-27T00:00:00+08:00    105,審易,98  刑事   妨害自由   判決   \n3  臺灣高雄地方法院  2017-08-08T00:00:00+08:00    106,易,488  刑事   妨害自由   判決   \n4  臺灣臺中地方法院  2016-06-04T00:00:00+08:00  105,審易,1192  刑事   妨害名譽   判決   \n\n                                            mainText  \\\n0  陳欽凱犯廢棄物清理法第四十六條第四款前段之非法清理廢棄物罪，處有期徒刑壹年貳月。又共同犯貪污...   \n1       廖述鐘意圖供人觀覽，公然為猥褻之行為，處拘役貳拾日，如易科罰金，以新臺幣壹仟元折算壹日。   \n2                                           本件公訴不受理。   \n3  黃信奈犯恐嚇危害安全罪，累犯，處有期徒刑參月，如易科罰金，以新臺幣壹仟元折算壹日。又犯恐嚇危...   \n4                                           本件公訴不受理。   \n\n                                           judgement  \\\n0  臺灣新北地方法院刑事判決98年度矚訴字第1號公訴人臺灣新北地方法院檢察署檢察官被告陳欽凱選任...   \n1  臺灣臺中地方法院刑事判決100年度易字第3133號公訴人臺灣臺中地方法院檢察署檢察官被告廖述...   \n2  臺灣高雄地方法院刑事判決105年度審易字第98號公訴人臺灣高雄地方法院檢察署檢察官被告潘心雅...   \n3  臺灣高雄地方法院刑事判決106年度易字第488號公訴人臺灣高雄地方法院檢察署檢察官被告黃信奈...   \n4  臺灣臺中地方法院刑事判決105年度審易字第1192號公訴人臺灣臺中地方法院檢察署檢察官被告鄭...   \n\n                                           Situation  \n0  陳欽凱係和財資源回收股份有限公司（址設新北市○○區○○路000巷00號，下稱和財公司）之負責...  \n1  廖述鐘酒後於民國100年7月4日下午3時45分許，在臺中市潭子區頭家厝，搭乘由陳啟泉所駕駛車...  \n2  被告潘心雅基於侵入他人住宅之犯意，於民國104年12月8日上午5時20分許，至高雄市○○區○...  \n3  黃信奈平時居住在高雄市○○區○○路000號0樓，與於高雄市○○區○○路000號之住戶李○○及...  \n4  被告鄭閎仁於民國105年2月27日2時20分許，在莒光號531次列車經過交通部臺灣鐵路管理局...  ",
      "text/html": "<div>\n<style scoped>\n    .dataframe tbody tr th:only-of-type {\n        vertical-align: middle;\n    }\n\n    .dataframe tbody tr th {\n        vertical-align: top;\n    }\n\n    .dataframe thead th {\n        text-align: right;\n    }\n</style>\n<table border=\"1\" class=\"dataframe\">\n  <thead>\n    <tr style=\"text-align: right;\">\n      <th></th>\n      <th>court</th>\n      <th>date</th>\n      <th>no</th>\n      <th>sys</th>\n      <th>reason</th>\n      <th>type</th>\n      <th>mainText</th>\n      <th>judgement</th>\n      <th>Situation</th>\n    </tr>\n  </thead>\n  <tbody>\n    <tr>\n      <td>0</td>\n      <td>臺灣新北地方法院</td>\n      <td>2014-08-08T00:00:00+08:00</td>\n      <td>98,矚訴,1</td>\n      <td>刑事</td>\n      <td>貪污</td>\n      <td>判決</td>\n      <td>陳欽凱犯廢棄物清理法第四十六條第四款前段之非法清理廢棄物罪，處有期徒刑壹年貳月。又共同犯貪污...</td>\n      <td>臺灣新北地方法院刑事判決98年度矚訴字第1號公訴人臺灣新北地方法院檢察署檢察官被告陳欽凱選任...</td>\n      <td>陳欽凱係和財資源回收股份有限公司（址設新北市○○區○○路000巷00號，下稱和財公司）之負責...</td>\n    </tr>\n    <tr>\n      <td>1</td>\n      <td>臺灣臺中地方法院</td>\n      <td>2011-11-10T00:00:00+08:00</td>\n      <td>100,易,3133</td>\n      <td>刑事</td>\n      <td>妨害風化</td>\n      <td>判決</td>\n      <td>廖述鐘意圖供人觀覽，公然為猥褻之行為，處拘役貳拾日，如易科罰金，以新臺幣壹仟元折算壹日。</td>\n      <td>臺灣臺中地方法院刑事判決100年度易字第3133號公訴人臺灣臺中地方法院檢察署檢察官被告廖述...</td>\n      <td>廖述鐘酒後於民國100年7月4日下午3時45分許，在臺中市潭子區頭家厝，搭乘由陳啟泉所駕駛車...</td>\n    </tr>\n    <tr>\n      <td>2</td>\n      <td>臺灣高雄地方法院</td>\n      <td>2016-01-27T00:00:00+08:00</td>\n      <td>105,審易,98</td>\n      <td>刑事</td>\n      <td>妨害自由</td>\n      <td>判決</td>\n      <td>本件公訴不受理。</td>\n      <td>臺灣高雄地方法院刑事判決105年度審易字第98號公訴人臺灣高雄地方法院檢察署檢察官被告潘心雅...</td>\n      <td>被告潘心雅基於侵入他人住宅之犯意，於民國104年12月8日上午5時20分許，至高雄市○○區○...</td>\n    </tr>\n    <tr>\n      <td>3</td>\n      <td>臺灣高雄地方法院</td>\n      <td>2017-08-08T00:00:00+08:00</td>\n      <td>106,易,488</td>\n      <td>刑事</td>\n      <td>妨害自由</td>\n      <td>判決</td>\n      <td>黃信奈犯恐嚇危害安全罪，累犯，處有期徒刑參月，如易科罰金，以新臺幣壹仟元折算壹日。又犯恐嚇危...</td>\n      <td>臺灣高雄地方法院刑事判決106年度易字第488號公訴人臺灣高雄地方法院檢察署檢察官被告黃信奈...</td>\n      <td>黃信奈平時居住在高雄市○○區○○路000號0樓，與於高雄市○○區○○路000號之住戶李○○及...</td>\n    </tr>\n    <tr>\n      <td>4</td>\n      <td>臺灣臺中地方法院</td>\n      <td>2016-06-04T00:00:00+08:00</td>\n      <td>105,審易,1192</td>\n      <td>刑事</td>\n      <td>妨害名譽</td>\n      <td>判決</td>\n      <td>本件公訴不受理。</td>\n      <td>臺灣臺中地方法院刑事判決105年度審易字第1192號公訴人臺灣臺中地方法院檢察署檢察官被告鄭...</td>\n      <td>被告鄭閎仁於民國105年2月27日2時20分許，在莒光號531次列車經過交通部臺灣鐵路管理局...</td>\n    </tr>\n  </tbody>\n</table>\n</div>"
     },
     "metadata": {},
     "output_type": "execute_result",
     "execution_count": 61
    }
   ],
   "source": [
    "test.head()"
   ],
   "metadata": {
    "collapsed": false,
    "pycharm": {
     "name": "#%%\n",
     "is_executing": false
    }
   }
  },
  {
   "cell_type": "code",
   "execution_count": 62,
   "outputs": [
    {
     "data": {
      "text/plain": "court        1274\ndate         1274\nno           1274\nsys          1274\nreason       1274\ntype         1274\nmainText     1272\njudgement    1274\nSituation    1273\ndtype: int64"
     },
     "metadata": {},
     "output_type": "execute_result",
     "execution_count": 62
    }
   ],
   "source": [
    "tmp = df[~df['no'].isin(test['no'])]\n",
    "tmp.count()"
   ],
   "metadata": {
    "collapsed": false,
    "pycharm": {
     "name": "#%%\n",
     "is_executing": false
    }
   }
  },
  {
   "cell_type": "code",
   "execution_count": 63,
   "outputs": [
    {
     "data": {
      "text/plain": "         court                       date           no sys  reason type  \\\nid                                                                        \n1485  臺灣臺南地方法院  2010-11-17T00:00:00+08:00      99,智訴,5  刑事  違反著作權法   判決   \n539   臺灣臺中地方法院  2017-01-06T00:00:00+08:00  105,中簡,2456  刑事    妨害公務   判決   \n1008  臺灣高雄地方法院  2016-12-13T00:00:00+08:00   105,簡,2987  刑事    妨害自由   判決   \n117   臺灣臺中地方法院  2012-02-29T00:00:00+08:00  100,中簡,2495  刑事    妨害風化   判決   \n28    臺灣臺中地方法院  2011-05-30T00:00:00+08:00  100,中簡,1195  刑事      竊盜   判決   \n\n                                               mainText  \\\nid                                                        \n1485  丁○○意圖銷售而擅自以重製於光碟之方法侵害他人之著作財產權，處有期徒刑玖月。扣案如附表一至五...   \n539            楊培瑛犯侮辱公務員罪，累犯，處拘役伍拾玖日，如易科罰金，以新臺幣壹仟元折算壹日。   \n1008  連少雄共同犯侵入住宅罪，處拘役拾伍日，如易科罰金，以新臺幣壹仟元折算壹日。管管共同犯侵入住宅...   \n117   賴梁麗珍意圖使女子與他人為性交之行為，而容留以營利，累犯，處有期徒刑肆月，如易科罰金，以新臺...   \n28                  葉能福竊盜，累犯，處有期徒刑參月，如易科罰金，以新臺幣壹仟元折算壹日。   \n\n                                              judgement  \\\nid                                                        \n1485  臺灣臺南地方法院刑事判決99年度智訴字第5號公訴人臺灣臺南地方法院檢察署檢察官被告丁○○選任...   \n539   臺灣臺中地方法院刑事簡易判決105年度中簡字第2456號聲請人臺灣臺中地方法院檢察署檢察官被...   \n1008  臺灣高雄地方法院刑事簡易判決105年度簡字第2987號聲請人臺灣高雄地方法院檢察署檢察官被告...   \n117   臺灣臺中地方法院刑事簡易判決100年度中簡字第2495號聲請人臺灣臺中地方法院檢察署檢察官被...   \n28    臺灣臺中地方法院刑事簡易判決100年度中簡字第1195號聲請人臺灣臺中地方法院檢察署檢察官被...   \n\n                                              Situation  \nid                                                       \n1485  丁○○明知附表一、二、三、四所示之音樂或視聽光碟片（共五三七片），係如附表一、二、三、四所示...  \n539   楊培瑛於民國105年11月16日下午2時20分許前某時，在臺中市○區○○路00號2樓新家旅社...  \n1008  連少雄與邱瑀竹間為配偶關係。因連少雄懷疑邱瑀竹與呂紹文有曖昧關係，遂委任管管及所屬之某徵信社...  \n117   詎猶不知悔改，復基於意圖使女子與他人為性交及猥褻行為而媒介、容留以營利之犯意，利用其在臺中市...  \n28    於一百年三月七日上午十時五十分許，在臺中市○區○○路與興進路口處，見鑰匙一支插在林孟良所有之...  ",
      "text/html": "<div>\n<style scoped>\n    .dataframe tbody tr th:only-of-type {\n        vertical-align: middle;\n    }\n\n    .dataframe tbody tr th {\n        vertical-align: top;\n    }\n\n    .dataframe thead th {\n        text-align: right;\n    }\n</style>\n<table border=\"1\" class=\"dataframe\">\n  <thead>\n    <tr style=\"text-align: right;\">\n      <th></th>\n      <th>court</th>\n      <th>date</th>\n      <th>no</th>\n      <th>sys</th>\n      <th>reason</th>\n      <th>type</th>\n      <th>mainText</th>\n      <th>judgement</th>\n      <th>Situation</th>\n    </tr>\n    <tr>\n      <th>id</th>\n      <th></th>\n      <th></th>\n      <th></th>\n      <th></th>\n      <th></th>\n      <th></th>\n      <th></th>\n      <th></th>\n      <th></th>\n    </tr>\n  </thead>\n  <tbody>\n    <tr>\n      <td>1485</td>\n      <td>臺灣臺南地方法院</td>\n      <td>2010-11-17T00:00:00+08:00</td>\n      <td>99,智訴,5</td>\n      <td>刑事</td>\n      <td>違反著作權法</td>\n      <td>判決</td>\n      <td>丁○○意圖銷售而擅自以重製於光碟之方法侵害他人之著作財產權，處有期徒刑玖月。扣案如附表一至五...</td>\n      <td>臺灣臺南地方法院刑事判決99年度智訴字第5號公訴人臺灣臺南地方法院檢察署檢察官被告丁○○選任...</td>\n      <td>丁○○明知附表一、二、三、四所示之音樂或視聽光碟片（共五三七片），係如附表一、二、三、四所示...</td>\n    </tr>\n    <tr>\n      <td>539</td>\n      <td>臺灣臺中地方法院</td>\n      <td>2017-01-06T00:00:00+08:00</td>\n      <td>105,中簡,2456</td>\n      <td>刑事</td>\n      <td>妨害公務</td>\n      <td>判決</td>\n      <td>楊培瑛犯侮辱公務員罪，累犯，處拘役伍拾玖日，如易科罰金，以新臺幣壹仟元折算壹日。</td>\n      <td>臺灣臺中地方法院刑事簡易判決105年度中簡字第2456號聲請人臺灣臺中地方法院檢察署檢察官被...</td>\n      <td>楊培瑛於民國105年11月16日下午2時20分許前某時，在臺中市○區○○路00號2樓新家旅社...</td>\n    </tr>\n    <tr>\n      <td>1008</td>\n      <td>臺灣高雄地方法院</td>\n      <td>2016-12-13T00:00:00+08:00</td>\n      <td>105,簡,2987</td>\n      <td>刑事</td>\n      <td>妨害自由</td>\n      <td>判決</td>\n      <td>連少雄共同犯侵入住宅罪，處拘役拾伍日，如易科罰金，以新臺幣壹仟元折算壹日。管管共同犯侵入住宅...</td>\n      <td>臺灣高雄地方法院刑事簡易判決105年度簡字第2987號聲請人臺灣高雄地方法院檢察署檢察官被告...</td>\n      <td>連少雄與邱瑀竹間為配偶關係。因連少雄懷疑邱瑀竹與呂紹文有曖昧關係，遂委任管管及所屬之某徵信社...</td>\n    </tr>\n    <tr>\n      <td>117</td>\n      <td>臺灣臺中地方法院</td>\n      <td>2012-02-29T00:00:00+08:00</td>\n      <td>100,中簡,2495</td>\n      <td>刑事</td>\n      <td>妨害風化</td>\n      <td>判決</td>\n      <td>賴梁麗珍意圖使女子與他人為性交之行為，而容留以營利，累犯，處有期徒刑肆月，如易科罰金，以新臺...</td>\n      <td>臺灣臺中地方法院刑事簡易判決100年度中簡字第2495號聲請人臺灣臺中地方法院檢察署檢察官被...</td>\n      <td>詎猶不知悔改，復基於意圖使女子與他人為性交及猥褻行為而媒介、容留以營利之犯意，利用其在臺中市...</td>\n    </tr>\n    <tr>\n      <td>28</td>\n      <td>臺灣臺中地方法院</td>\n      <td>2011-05-30T00:00:00+08:00</td>\n      <td>100,中簡,1195</td>\n      <td>刑事</td>\n      <td>竊盜</td>\n      <td>判決</td>\n      <td>葉能福竊盜，累犯，處有期徒刑參月，如易科罰金，以新臺幣壹仟元折算壹日。</td>\n      <td>臺灣臺中地方法院刑事簡易判決100年度中簡字第1195號聲請人臺灣臺中地方法院檢察署檢察官被...</td>\n      <td>於一百年三月七日上午十時五十分許，在臺中市○區○○路與興進路口處，見鑰匙一支插在林孟良所有之...</td>\n    </tr>\n  </tbody>\n</table>\n</div>"
     },
     "metadata": {},
     "output_type": "execute_result",
     "execution_count": 63
    }
   ],
   "source": [
    "##拆分df\n",
    "df1=tmp.sample(n=train_num)#按0.6比例随机采样\n",
    "df1.head()"
   ],
   "metadata": {
    "collapsed": false,
    "pycharm": {
     "name": "#%%\n",
     "is_executing": false
    }
   }
  },
  {
   "cell_type": "code",
   "execution_count": 64,
   "outputs": [
    {
     "data": {
      "text/plain": "      court                       date           no sys reason type  \\\n0  臺灣新北地方法院  2014-08-08T00:00:00+08:00      98,矚訴,1  刑事     貪污   判決   \n1  臺灣臺中地方法院  2011-11-10T00:00:00+08:00   100,易,3133  刑事   妨害風化   判決   \n2  臺灣高雄地方法院  2016-01-27T00:00:00+08:00    105,審易,98  刑事   妨害自由   判決   \n3  臺灣高雄地方法院  2017-08-08T00:00:00+08:00    106,易,488  刑事   妨害自由   判決   \n4  臺灣臺中地方法院  2016-06-04T00:00:00+08:00  105,審易,1192  刑事   妨害名譽   判決   \n\n                                            mainText  \\\n0  陳欽凱犯廢棄物清理法第四十六條第四款前段之非法清理廢棄物罪，處有期徒刑壹年貳月。又共同犯貪污...   \n1       廖述鐘意圖供人觀覽，公然為猥褻之行為，處拘役貳拾日，如易科罰金，以新臺幣壹仟元折算壹日。   \n2                                           本件公訴不受理。   \n3  黃信奈犯恐嚇危害安全罪，累犯，處有期徒刑參月，如易科罰金，以新臺幣壹仟元折算壹日。又犯恐嚇危...   \n4                                           本件公訴不受理。   \n\n                                           judgement  \\\n0  臺灣新北地方法院刑事判決98年度矚訴字第1號公訴人臺灣新北地方法院檢察署檢察官被告陳欽凱選任...   \n1  臺灣臺中地方法院刑事判決100年度易字第3133號公訴人臺灣臺中地方法院檢察署檢察官被告廖述...   \n2  臺灣高雄地方法院刑事判決105年度審易字第98號公訴人臺灣高雄地方法院檢察署檢察官被告潘心雅...   \n3  臺灣高雄地方法院刑事判決106年度易字第488號公訴人臺灣高雄地方法院檢察署檢察官被告黃信奈...   \n4  臺灣臺中地方法院刑事判決105年度審易字第1192號公訴人臺灣臺中地方法院檢察署檢察官被告鄭...   \n\n                                           Situation  \n0  陳欽凱係和財資源回收股份有限公司（址設新北市○○區○○路000巷00號，下稱和財公司）之負責...  \n1  廖述鐘酒後於民國100年7月4日下午3時45分許，在臺中市潭子區頭家厝，搭乘由陳啟泉所駕駛車...  \n2  被告潘心雅基於侵入他人住宅之犯意，於民國104年12月8日上午5時20分許，至高雄市○○區○...  \n3  黃信奈平時居住在高雄市○○區○○路000號0樓，與於高雄市○○區○○路000號之住戶李○○及...  \n4  被告鄭閎仁於民國105年2月27日2時20分許，在莒光號531次列車經過交通部臺灣鐵路管理局...  ",
      "text/html": "<div>\n<style scoped>\n    .dataframe tbody tr th:only-of-type {\n        vertical-align: middle;\n    }\n\n    .dataframe tbody tr th {\n        vertical-align: top;\n    }\n\n    .dataframe thead th {\n        text-align: right;\n    }\n</style>\n<table border=\"1\" class=\"dataframe\">\n  <thead>\n    <tr style=\"text-align: right;\">\n      <th></th>\n      <th>court</th>\n      <th>date</th>\n      <th>no</th>\n      <th>sys</th>\n      <th>reason</th>\n      <th>type</th>\n      <th>mainText</th>\n      <th>judgement</th>\n      <th>Situation</th>\n    </tr>\n  </thead>\n  <tbody>\n    <tr>\n      <td>0</td>\n      <td>臺灣新北地方法院</td>\n      <td>2014-08-08T00:00:00+08:00</td>\n      <td>98,矚訴,1</td>\n      <td>刑事</td>\n      <td>貪污</td>\n      <td>判決</td>\n      <td>陳欽凱犯廢棄物清理法第四十六條第四款前段之非法清理廢棄物罪，處有期徒刑壹年貳月。又共同犯貪污...</td>\n      <td>臺灣新北地方法院刑事判決98年度矚訴字第1號公訴人臺灣新北地方法院檢察署檢察官被告陳欽凱選任...</td>\n      <td>陳欽凱係和財資源回收股份有限公司（址設新北市○○區○○路000巷00號，下稱和財公司）之負責...</td>\n    </tr>\n    <tr>\n      <td>1</td>\n      <td>臺灣臺中地方法院</td>\n      <td>2011-11-10T00:00:00+08:00</td>\n      <td>100,易,3133</td>\n      <td>刑事</td>\n      <td>妨害風化</td>\n      <td>判決</td>\n      <td>廖述鐘意圖供人觀覽，公然為猥褻之行為，處拘役貳拾日，如易科罰金，以新臺幣壹仟元折算壹日。</td>\n      <td>臺灣臺中地方法院刑事判決100年度易字第3133號公訴人臺灣臺中地方法院檢察署檢察官被告廖述...</td>\n      <td>廖述鐘酒後於民國100年7月4日下午3時45分許，在臺中市潭子區頭家厝，搭乘由陳啟泉所駕駛車...</td>\n    </tr>\n    <tr>\n      <td>2</td>\n      <td>臺灣高雄地方法院</td>\n      <td>2016-01-27T00:00:00+08:00</td>\n      <td>105,審易,98</td>\n      <td>刑事</td>\n      <td>妨害自由</td>\n      <td>判決</td>\n      <td>本件公訴不受理。</td>\n      <td>臺灣高雄地方法院刑事判決105年度審易字第98號公訴人臺灣高雄地方法院檢察署檢察官被告潘心雅...</td>\n      <td>被告潘心雅基於侵入他人住宅之犯意，於民國104年12月8日上午5時20分許，至高雄市○○區○...</td>\n    </tr>\n    <tr>\n      <td>3</td>\n      <td>臺灣高雄地方法院</td>\n      <td>2017-08-08T00:00:00+08:00</td>\n      <td>106,易,488</td>\n      <td>刑事</td>\n      <td>妨害自由</td>\n      <td>判決</td>\n      <td>黃信奈犯恐嚇危害安全罪，累犯，處有期徒刑參月，如易科罰金，以新臺幣壹仟元折算壹日。又犯恐嚇危...</td>\n      <td>臺灣高雄地方法院刑事判決106年度易字第488號公訴人臺灣高雄地方法院檢察署檢察官被告黃信奈...</td>\n      <td>黃信奈平時居住在高雄市○○區○○路000號0樓，與於高雄市○○區○○路000號之住戶李○○及...</td>\n    </tr>\n    <tr>\n      <td>4</td>\n      <td>臺灣臺中地方法院</td>\n      <td>2016-06-04T00:00:00+08:00</td>\n      <td>105,審易,1192</td>\n      <td>刑事</td>\n      <td>妨害名譽</td>\n      <td>判決</td>\n      <td>本件公訴不受理。</td>\n      <td>臺灣臺中地方法院刑事判決105年度審易字第1192號公訴人臺灣臺中地方法院檢察署檢察官被告鄭...</td>\n      <td>被告鄭閎仁於民國105年2月27日2時20分許，在莒光號531次列車經過交通部臺灣鐵路管理局...</td>\n    </tr>\n  </tbody>\n</table>\n</div>"
     },
     "metadata": {},
     "output_type": "execute_result",
     "execution_count": 64
    }
   ],
   "source": [
    "df2=test\n",
    "df2.head()"
   ],
   "metadata": {
    "collapsed": false,
    "pycharm": {
     "name": "#%%\n",
     "is_executing": false
    }
   }
  },
  {
   "cell_type": "code",
   "execution_count": 65,
   "outputs": [],
   "source": [
    "class Data(object):\n",
    "    def __init__(self):\n",
    "        self.paragraphs = []\n",
    "        self.id = \"0\"\n",
    "        self.title = \"\"\n",
    "\n",
    "class Djson(object):\n",
    "    def __init__(self):\n",
    "        self.version = \"v1.0\"\n",
    "        self.data = []\n",
    " "
   ],
   "metadata": {
    "collapsed": false,
    "pycharm": {
     "name": "#%%\n",
     "is_executing": false
    }
   }
  },
  {
   "cell_type": "code",
   "execution_count": 66,
   "outputs": [
    {
     "name": "stdout",
     "text": [
      "1215\n106,易,1048\n"
     ],
     "output_type": "stream"
    }
   ],
   "source": [
    "djson1 = Djson()\n",
    "for index, row in df1.iterrows():\n",
    "    try:\n",
    "        d = Data()\n",
    "        d.paragraphs = [{\"id\" : \"TRAIN_\" + str(index), \n",
    "                      #\"context\" : row.reason + \"[SEP]\" + row.judgement, \n",
    "                      \"context\" : row.judgement, \n",
    "                      \"qas\":[{\n",
    "                          \"question\" : \"?\",\n",
    "                          \"id\" : \"TRAIN_\" + str(index) + \"_QUERY_0\",\n",
    "                          \"answers\" :[{\n",
    "                              \"text\" : row.Situation,\n",
    "                              \"answer_start\" : row.judgement.index(row.Situation) #+ len(row.reason + \"[SET]\")\n",
    "                          }]\n",
    "                      }]\n",
    "                    }\n",
    "                    ]\n",
    "        d.id = \"TRAIN_\" + str(index)\n",
    "        d.title = row.no\n",
    "        djson1.data.append(d)\n",
    "    except:\n",
    "        print(index)\n",
    "        print(row.no)"
   ],
   "metadata": {
    "collapsed": false,
    "pycharm": {
     "name": "#%%\n",
     "is_executing": false
    }
   }
  },
  {
   "cell_type": "code",
   "execution_count": 67,
   "outputs": [],
   "source": [
    "y = json.dumps(djson1, default=lambda o: o.__dict__, ensure_ascii=False)"
   ],
   "metadata": {
    "collapsed": false,
    "pycharm": {
     "name": "#%%\n",
     "is_executing": false
    }
   }
  },
  {
   "cell_type": "code",
   "execution_count": 68,
   "outputs": [],
   "source": [
    "with open('./QA_Test1/HBert/dataV2/train_'+ str(train_num) + '_V1.json', 'w', encoding='utf8') as outfile:\n",
    "    json.dump(djson1, outfile, default=lambda o: o.__dict__ , ensure_ascii=False)\n",
    "    "
   ],
   "metadata": {
    "collapsed": false,
    "pycharm": {
     "name": "#%%\n",
     "is_executing": false
    }
   }
  }
 ],
 "metadata": {
  "kernelspec": {
   "display_name": "Python 3",
   "language": "python",
   "name": "python3"
  },
  "language_info": {
   "codemirror_mode": {
    "name": "ipython",
    "version": 3
   },
   "file_extension": ".py",
   "mimetype": "text/x-python",
   "name": "python",
   "nbconvert_exporter": "python",
   "pygments_lexer": "ipython3",
   "version": "3.6.4"
  },
  "pycharm": {
   "stem_cell": {
    "cell_type": "raw",
    "source": [],
    "metadata": {
     "collapsed": false
    }
   }
  }
 },
 "nbformat": 4,
 "nbformat_minor": 2
}