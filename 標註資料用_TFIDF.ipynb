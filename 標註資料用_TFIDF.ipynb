{
 "cells": [
  {
   "cell_type": "code",
   "execution_count": 1,
   "metadata": {
    "pycharm": {
     "is_executing": false
    }
   },
   "outputs": [
    {
     "name": "stdout",
     "text": [
      "106,易,1093_.json\n"
     ],
     "output_type": "stream"
    }
   ],
   "source": [
    "import os, json \n",
    "import pandas as pd \n",
    "\n",
    "train_num = 1700\n",
    "\n",
    "path_to_json = 'J:\\Legal_Judgment\\臺灣新北地方法院_改' \n",
    "json_files = [pos_json for pos_json in os.listdir(path_to_json) if pos_json.endswith('.json')] \n",
    "print(json_files[0])"
   ]
  },
  {
   "cell_type": "code",
   "execution_count": 2,
   "metadata": {
    "pycharm": {
     "is_executing": false
    }
   },
   "outputs": [],
   "source": [
    "with open('J://Legal_Judgment//臺灣新北地方法院_改//'+json_files[0],\"r\",encoding=\"utf-8\") as f:\n",
    "    dt = json.load(f)"
   ]
  },
  {
   "cell_type": "code",
   "execution_count": 3,
   "metadata": {
    "pycharm": {
     "is_executing": false
    }
   },
   "outputs": [
    {
     "data": {
      "text/plain": "   id     court                       date          no sys reason type  \\\n0   0  臺灣桃園地方法院  2018-04-18T00:00:00+08:00  106,易,1093  刑事   妨害公務   判決   \n\n                                  mainText  \\\n0  邱建豪犯妨害公務執行罪，累犯，處拘役拾日，如易科罰金，以新臺幣壹仟元折算壹日。   \n\n                                           judgement  \\\n0  臺灣桃園地方法院刑事判決106年度易字第1093號公訴人臺灣桃園地方法院檢察署檢察官被告邱建...   \n\n                                           Situation  \n0  邱建豪於民國106年5月1日下午5時15分許，在桃園市○○區○○路000號桃園市政府警察局桃...  ",
      "text/html": "<div>\n<style scoped>\n    .dataframe tbody tr th:only-of-type {\n        vertical-align: middle;\n    }\n\n    .dataframe tbody tr th {\n        vertical-align: top;\n    }\n\n    .dataframe thead th {\n        text-align: right;\n    }\n</style>\n<table border=\"1\" class=\"dataframe\">\n  <thead>\n    <tr style=\"text-align: right;\">\n      <th></th>\n      <th>id</th>\n      <th>court</th>\n      <th>date</th>\n      <th>no</th>\n      <th>sys</th>\n      <th>reason</th>\n      <th>type</th>\n      <th>mainText</th>\n      <th>judgement</th>\n      <th>Situation</th>\n    </tr>\n  </thead>\n  <tbody>\n    <tr>\n      <td>0</td>\n      <td>0</td>\n      <td>臺灣桃園地方法院</td>\n      <td>2018-04-18T00:00:00+08:00</td>\n      <td>106,易,1093</td>\n      <td>刑事</td>\n      <td>妨害公務</td>\n      <td>判決</td>\n      <td>邱建豪犯妨害公務執行罪，累犯，處拘役拾日，如易科罰金，以新臺幣壹仟元折算壹日。</td>\n      <td>臺灣桃園地方法院刑事判決106年度易字第1093號公訴人臺灣桃園地方法院檢察署檢察官被告邱建...</td>\n      <td>邱建豪於民國106年5月1日下午5時15分許，在桃園市○○區○○路000號桃園市政府警察局桃...</td>\n    </tr>\n  </tbody>\n</table>\n</div>"
     },
     "metadata": {},
     "output_type": "execute_result",
     "execution_count": 3
    }
   ],
   "source": [
    "dic = {\n",
    "    \"id\": 0,\n",
    "    \"court\": [dt[\"court\"]], \n",
    "    \"date\": [dt[\"date\"]],\n",
    "    \"no\": [dt[\"no\"]],\n",
    "    \"sys\": [dt[\"sys\"]],\n",
    "    \"reason\": [dt[\"reason\"]],\n",
    "    \"type\": [dt[\"type\"]],\n",
    "    \"mainText\": [dt[\"mainText\"]],\n",
    "    \"judgement\": [dt[\"judgement\"]],\n",
    "    #\"judgement_SIT\": [dt[\"judgement_SIT\"]],\n",
    "    \"Situation\": [dt[\"Situation\"]]\n",
    "}\n",
    "df = pd.DataFrame(dic)\n",
    "df"
   ]
  },
  {
   "cell_type": "code",
   "execution_count": 4,
   "metadata": {
    "pycharm": {
     "is_executing": false
    }
   },
   "outputs": [
    {
     "name": "stdout",
     "text": [
      "100,中簡,1856\n",
      "100,簡,372\n100,簡,458\n101,侵訴,1\n101,智訴,9\n103,智訴,4\n",
      "105,易,264\n",
      "105,簡,1724\n"
     ],
     "output_type": "stream"
    }
   ],
   "source": [
    "for x in range(1,len(json_files)):\n",
    "    with open('J://Legal_Judgment//臺灣新北地方法院_改//'+json_files[x],\"r\",encoding=\"utf-8\") as f:\n",
    "        dt = json.load(f)\n",
    "\n",
    "    try:\n",
    "        if (str(dt[\"judgement\"]).index(str(dt[\"Situation\"])) < 0):\n",
    "            continue\n",
    "        if (len(str(dt[\"Situation\"])) > 512):\n",
    "            continue            \n",
    "        new = pd.DataFrame({\n",
    "        \"id\" : x,\n",
    "        \"court\": [dt[\"court\"]], \n",
    "        \"date\": [dt[\"date\"]],\n",
    "        \"no\": [dt[\"no\"]],\n",
    "        \"sys\": [dt[\"sys\"]],\n",
    "        \"reason\": [dt[\"reason\"]],\n",
    "        \"type\": [dt[\"type\"]],\n",
    "        \"mainText\": [dt[\"mainText\"]],\n",
    "        \"judgement\": [dt[\"judgement\"]],\n",
    "        #\"judgement_SIT\": [dt[\"judgement_SIT\"]],\n",
    "        \"Situation\": [dt[\"Situation\"]]\n",
    "        })\n",
    "        \n",
    "        df = df.append(new)\n",
    "\n",
    "    except:\n",
    "        print(dt[\"no\"])"
   ]
  },
  {
   "cell_type": "code",
   "execution_count": 5,
   "metadata": {
    "pycharm": {
     "is_executing": false
    }
   },
   "outputs": [],
   "source": [
    "df.to_csv('J://Legal_Judgment//Result_TFIDF.csv', index=0) "
   ]
  },
  {
   "cell_type": "code",
   "execution_count": 6,
   "outputs": [
    {
     "data": {
      "text/plain": "       court                       date            no sys reason type  \\\nid                                                                      \n0   臺灣桃園地方法院  2018-04-18T00:00:00+08:00    106,易,1093  刑事   妨害公務   判決   \n1   臺灣臺中地方法院  2011-05-19T00:00:00+08:00  100,中交簡,1002  刑事   公共危險   判決   \n2   臺灣臺中地方法院  2011-01-25T00:00:00+08:00   100,中交簡,100  刑事   公共危險   判決   \n3   臺灣臺中地方法院  2011-05-12T00:00:00+08:00  100,中交簡,1016  刑事   公共危險   判決   \n4   臺灣臺中地方法院  2011-06-13T00:00:00+08:00  100,中交簡,1106  刑事   公共危險   判決   \n\n                                             mainText  \\\nid                                                      \n0             邱建豪犯妨害公務執行罪，累犯，處拘役拾日，如易科罰金，以新臺幣壹仟元折算壹日。   \n1   王炎權服用酒類，不能安全駕駛動力交通工具而駕駛，處拘役伍拾日，如易科罰金，以新臺幣壹仟元折算壹日。   \n2   林耀明服用酒類，不能安全駕駛動力交通工具而駕駛，處拘役伍拾伍日，如易科罰金，以新臺幣壹仟元折...   \n3      朱建鴻犯不能安全駕駛動力交通工具罪，處罰金新台幣伍萬元，如易服勞役，以新臺幣壹仟元折算壹日。   \n4   洪國棋服用酒類，不能安全駕駛動力交通工具而駕駛，處拘役伍拾日，如易科罰金，以新臺幣壹仟元折算壹日。   \n\n                                            judgement  \\\nid                                                      \n0   臺灣桃園地方法院刑事判決106年度易字第1093號公訴人臺灣桃園地方法院檢察署檢察官被告邱建...   \n1   臺灣臺中地方法院刑事簡易判決100年度中交簡字第1002號聲請人臺灣臺中地方法院檢察署檢察官...   \n2   臺灣臺中地方法院刑事簡易判決100年度中交簡字第100號聲請人臺灣臺中地方法院檢察署檢察官被...   \n3   臺灣臺中地方法院刑事簡易判決100年度中交簡字第1016號聲請人臺灣臺中地方法院檢察署檢察官...   \n4   臺灣臺中地方法院刑事簡易判決100年度中交簡字第1106號聲請人臺灣臺中地方法院檢察署檢察官...   \n\n                                            Situation  \nid                                                     \n0   邱建豪於民國106年5月1日下午5時15分許，在桃園市○○區○○路000號桃園市政府警察局桃...  \n1   王炎權於民國100年4月8日晚間9時30分許起至翌日凌晨3時許止，在彰化縣芬園鄉○○路○段2...  \n2   林耀明於民國99年10月22日下午4時許起至5時許止，在臺中市○○區○○路與豐樂路交岔路口附...  \n3   朱建鴻於民國100年4月19日晚間9時許起，在臺中市大雅區清泉崗友人住處內飲用啤酒，至同日晚...  \n4   洪國棋於民國100年4月28日晚間7時許起至同日晚間8時30分許止，在臺中市○里區○○路21...  ",
      "text/html": "<div>\n<style scoped>\n    .dataframe tbody tr th:only-of-type {\n        vertical-align: middle;\n    }\n\n    .dataframe tbody tr th {\n        vertical-align: top;\n    }\n\n    .dataframe thead th {\n        text-align: right;\n    }\n</style>\n<table border=\"1\" class=\"dataframe\">\n  <thead>\n    <tr style=\"text-align: right;\">\n      <th></th>\n      <th>court</th>\n      <th>date</th>\n      <th>no</th>\n      <th>sys</th>\n      <th>reason</th>\n      <th>type</th>\n      <th>mainText</th>\n      <th>judgement</th>\n      <th>Situation</th>\n    </tr>\n    <tr>\n      <th>id</th>\n      <th></th>\n      <th></th>\n      <th></th>\n      <th></th>\n      <th></th>\n      <th></th>\n      <th></th>\n      <th></th>\n      <th></th>\n    </tr>\n  </thead>\n  <tbody>\n    <tr>\n      <td>0</td>\n      <td>臺灣桃園地方法院</td>\n      <td>2018-04-18T00:00:00+08:00</td>\n      <td>106,易,1093</td>\n      <td>刑事</td>\n      <td>妨害公務</td>\n      <td>判決</td>\n      <td>邱建豪犯妨害公務執行罪，累犯，處拘役拾日，如易科罰金，以新臺幣壹仟元折算壹日。</td>\n      <td>臺灣桃園地方法院刑事判決106年度易字第1093號公訴人臺灣桃園地方法院檢察署檢察官被告邱建...</td>\n      <td>邱建豪於民國106年5月1日下午5時15分許，在桃園市○○區○○路000號桃園市政府警察局桃...</td>\n    </tr>\n    <tr>\n      <td>1</td>\n      <td>臺灣臺中地方法院</td>\n      <td>2011-05-19T00:00:00+08:00</td>\n      <td>100,中交簡,1002</td>\n      <td>刑事</td>\n      <td>公共危險</td>\n      <td>判決</td>\n      <td>王炎權服用酒類，不能安全駕駛動力交通工具而駕駛，處拘役伍拾日，如易科罰金，以新臺幣壹仟元折算壹日。</td>\n      <td>臺灣臺中地方法院刑事簡易判決100年度中交簡字第1002號聲請人臺灣臺中地方法院檢察署檢察官...</td>\n      <td>王炎權於民國100年4月8日晚間9時30分許起至翌日凌晨3時許止，在彰化縣芬園鄉○○路○段2...</td>\n    </tr>\n    <tr>\n      <td>2</td>\n      <td>臺灣臺中地方法院</td>\n      <td>2011-01-25T00:00:00+08:00</td>\n      <td>100,中交簡,100</td>\n      <td>刑事</td>\n      <td>公共危險</td>\n      <td>判決</td>\n      <td>林耀明服用酒類，不能安全駕駛動力交通工具而駕駛，處拘役伍拾伍日，如易科罰金，以新臺幣壹仟元折...</td>\n      <td>臺灣臺中地方法院刑事簡易判決100年度中交簡字第100號聲請人臺灣臺中地方法院檢察署檢察官被...</td>\n      <td>林耀明於民國99年10月22日下午4時許起至5時許止，在臺中市○○區○○路與豐樂路交岔路口附...</td>\n    </tr>\n    <tr>\n      <td>3</td>\n      <td>臺灣臺中地方法院</td>\n      <td>2011-05-12T00:00:00+08:00</td>\n      <td>100,中交簡,1016</td>\n      <td>刑事</td>\n      <td>公共危險</td>\n      <td>判決</td>\n      <td>朱建鴻犯不能安全駕駛動力交通工具罪，處罰金新台幣伍萬元，如易服勞役，以新臺幣壹仟元折算壹日。</td>\n      <td>臺灣臺中地方法院刑事簡易判決100年度中交簡字第1016號聲請人臺灣臺中地方法院檢察署檢察官...</td>\n      <td>朱建鴻於民國100年4月19日晚間9時許起，在臺中市大雅區清泉崗友人住處內飲用啤酒，至同日晚...</td>\n    </tr>\n    <tr>\n      <td>4</td>\n      <td>臺灣臺中地方法院</td>\n      <td>2011-06-13T00:00:00+08:00</td>\n      <td>100,中交簡,1106</td>\n      <td>刑事</td>\n      <td>公共危險</td>\n      <td>判決</td>\n      <td>洪國棋服用酒類，不能安全駕駛動力交通工具而駕駛，處拘役伍拾日，如易科罰金，以新臺幣壹仟元折算壹日。</td>\n      <td>臺灣臺中地方法院刑事簡易判決100年度中交簡字第1106號聲請人臺灣臺中地方法院檢察署檢察官...</td>\n      <td>洪國棋於民國100年4月28日晚間7時許起至同日晚間8時30分許止，在臺中市○里區○○路21...</td>\n    </tr>\n  </tbody>\n</table>\n</div>"
     },
     "metadata": {},
     "output_type": "execute_result",
     "execution_count": 6
    }
   ],
   "source": [
    "df = pd.read_csv('J://Legal_Judgment//Result_TFIDF.csv', index_col=0)\n",
    "df.head()"
   ],
   "metadata": {
    "collapsed": false,
    "pycharm": {
     "name": "#%%\n",
     "is_executing": false
    }
   }
  },
  {
   "cell_type": "code",
   "execution_count": 7,
   "outputs": [
    {
     "data": {
      "text/plain": "         court                       date          no sys  reason type  \\\nid                                                                       \n1548  臺灣臺中地方法院  2017-02-24T00:00:00+08:00  106,中簡,176  刑事    妨害公務   判決   \n842   臺灣臺中地方法院  2017-01-25T00:00:00+08:00  105,侵訴,245  刑事  妨害性自主罪   判決   \n1508  臺灣高雄地方法院  2016-06-15T00:00:00+08:00    105,訴,56  刑事      強盜   判決   \n1390  臺灣高雄地方法院  2016-03-29T00:00:00+08:00  105,簡,1458  刑事    妨害自由   判決   \n1663  臺灣桃園地方法院  2017-07-03T00:00:00+08:00  106,審易,920  刑事    妨害公務   判決   \n\n                                               mainText  \\\nid                                                        \n1548  江福隆犯侮辱公務員罪，累犯，處拘役參拾日，如易科罰金，以新臺幣壹仟元折算壹日。\\n江福壽犯侮...   \n842                                   乙○○ ○ ○○ （阮文勇）無罪。   \n1508                              楊志鴻犯強盜罪，累犯，處有期徒刑伍年陸月。   \n1390                  李樹訓犯強制罪，處拘役肆拾日，如易科罰金，以新臺幣壹仟元折算壹日。   \n1663               徐冠璋犯侮辱公務員罪，處拘役參拾日，如易科罰金，以新臺幣壹仟元折算壹日。   \n\n                                              judgement  \\\nid                                                        \n1548  臺灣臺中地方法院刑事簡易判決106年度中簡字第176號聲請人臺灣臺中地方法院檢察署檢察官被告...   \n842   臺灣臺中地方法院刑事判決105年度侵訴字第245號公訴人臺灣臺中地方法院檢察署檢察官被告NG...   \n1508  臺灣高雄地方法院刑事判決105年度訴字第56號公訴人臺灣高雄地方法院檢察署檢察官被告楊志鴻選...   \n1390  臺灣高雄地方法院刑事簡易判決105年度簡字第1458號公訴人臺灣高雄地方法院檢察署檢察官被告...   \n1663  臺灣桃園地方法院刑事判決106年度審易字第920號公訴人臺灣桃園地方法院檢察署檢察官被告徐冠...   \n\n                                              Situation  \nid                                                       \n1548  江福隆、江福壽為兄弟。緣江福隆於民國105年8月24日晚間11時許，見臺中市政府警察局第三分...  \n842   被告乙○○○○○（阮文勇，下稱被告）與告訴人A女（越南籍，卷內代號0000甲000000，真...  \n1508  楊志鴻前因違反毒品危害防制條案件，經本院以100年度審訴字第2965號判處有期徒刑3月、8月...  \n1390  李樹訓因方莊淑楨、方幸賓使用振崑交通有限公司（下簡稱振崑公司）於民國103年8月5日所承租之...  \n1663  徐冠璋於民國105年12月18日7時47分許，因飲酒後睡躺在桃園市○鎮區○○路00號早餐店內...  ",
      "text/html": "<div>\n<style scoped>\n    .dataframe tbody tr th:only-of-type {\n        vertical-align: middle;\n    }\n\n    .dataframe tbody tr th {\n        vertical-align: top;\n    }\n\n    .dataframe thead th {\n        text-align: right;\n    }\n</style>\n<table border=\"1\" class=\"dataframe\">\n  <thead>\n    <tr style=\"text-align: right;\">\n      <th></th>\n      <th>court</th>\n      <th>date</th>\n      <th>no</th>\n      <th>sys</th>\n      <th>reason</th>\n      <th>type</th>\n      <th>mainText</th>\n      <th>judgement</th>\n      <th>Situation</th>\n    </tr>\n    <tr>\n      <th>id</th>\n      <th></th>\n      <th></th>\n      <th></th>\n      <th></th>\n      <th></th>\n      <th></th>\n      <th></th>\n      <th></th>\n      <th></th>\n    </tr>\n  </thead>\n  <tbody>\n    <tr>\n      <td>1548</td>\n      <td>臺灣臺中地方法院</td>\n      <td>2017-02-24T00:00:00+08:00</td>\n      <td>106,中簡,176</td>\n      <td>刑事</td>\n      <td>妨害公務</td>\n      <td>判決</td>\n      <td>江福隆犯侮辱公務員罪，累犯，處拘役參拾日，如易科罰金，以新臺幣壹仟元折算壹日。\\n江福壽犯侮...</td>\n      <td>臺灣臺中地方法院刑事簡易判決106年度中簡字第176號聲請人臺灣臺中地方法院檢察署檢察官被告...</td>\n      <td>江福隆、江福壽為兄弟。緣江福隆於民國105年8月24日晚間11時許，見臺中市政府警察局第三分...</td>\n    </tr>\n    <tr>\n      <td>842</td>\n      <td>臺灣臺中地方法院</td>\n      <td>2017-01-25T00:00:00+08:00</td>\n      <td>105,侵訴,245</td>\n      <td>刑事</td>\n      <td>妨害性自主罪</td>\n      <td>判決</td>\n      <td>乙○○ ○ ○○ （阮文勇）無罪。</td>\n      <td>臺灣臺中地方法院刑事判決105年度侵訴字第245號公訴人臺灣臺中地方法院檢察署檢察官被告NG...</td>\n      <td>被告乙○○○○○（阮文勇，下稱被告）與告訴人A女（越南籍，卷內代號0000甲000000，真...</td>\n    </tr>\n    <tr>\n      <td>1508</td>\n      <td>臺灣高雄地方法院</td>\n      <td>2016-06-15T00:00:00+08:00</td>\n      <td>105,訴,56</td>\n      <td>刑事</td>\n      <td>強盜</td>\n      <td>判決</td>\n      <td>楊志鴻犯強盜罪，累犯，處有期徒刑伍年陸月。</td>\n      <td>臺灣高雄地方法院刑事判決105年度訴字第56號公訴人臺灣高雄地方法院檢察署檢察官被告楊志鴻選...</td>\n      <td>楊志鴻前因違反毒品危害防制條案件，經本院以100年度審訴字第2965號判處有期徒刑3月、8月...</td>\n    </tr>\n    <tr>\n      <td>1390</td>\n      <td>臺灣高雄地方法院</td>\n      <td>2016-03-29T00:00:00+08:00</td>\n      <td>105,簡,1458</td>\n      <td>刑事</td>\n      <td>妨害自由</td>\n      <td>判決</td>\n      <td>李樹訓犯強制罪，處拘役肆拾日，如易科罰金，以新臺幣壹仟元折算壹日。</td>\n      <td>臺灣高雄地方法院刑事簡易判決105年度簡字第1458號公訴人臺灣高雄地方法院檢察署檢察官被告...</td>\n      <td>李樹訓因方莊淑楨、方幸賓使用振崑交通有限公司（下簡稱振崑公司）於民國103年8月5日所承租之...</td>\n    </tr>\n    <tr>\n      <td>1663</td>\n      <td>臺灣桃園地方法院</td>\n      <td>2017-07-03T00:00:00+08:00</td>\n      <td>106,審易,920</td>\n      <td>刑事</td>\n      <td>妨害公務</td>\n      <td>判決</td>\n      <td>徐冠璋犯侮辱公務員罪，處拘役參拾日，如易科罰金，以新臺幣壹仟元折算壹日。</td>\n      <td>臺灣桃園地方法院刑事判決106年度審易字第920號公訴人臺灣桃園地方法院檢察署檢察官被告徐冠...</td>\n      <td>徐冠璋於民國105年12月18日7時47分許，因飲酒後睡躺在桃園市○鎮區○○路00號早餐店內...</td>\n    </tr>\n  </tbody>\n</table>\n</div>"
     },
     "metadata": {},
     "output_type": "execute_result",
     "execution_count": 7
    }
   ],
   "source": [
    "##拆分df\n",
    "df1=df.sample(n=train_num)#按0.6比例随机采样\n",
    "df1.head()"
   ],
   "metadata": {
    "collapsed": false,
    "pycharm": {
     "name": "#%%\n",
     "is_executing": false
    }
   }
  },
  {
   "cell_type": "code",
   "execution_count": 8,
   "outputs": [
    {
     "data": {
      "text/plain": "court        0\ndate         0\nno           0\nsys          0\nreason       0\ntype         0\nmainText     0\njudgement    0\nSituation    0\ndtype: int64"
     },
     "metadata": {},
     "output_type": "execute_result",
     "execution_count": 8
    }
   ],
   "source": [
    "df1[df1['Situation'].str.len() > 513].count()"
   ],
   "metadata": {
    "collapsed": false,
    "pycharm": {
     "name": "#%%\n",
     "is_executing": false
    }
   }
  },
  {
   "cell_type": "code",
   "execution_count": 9,
   "outputs": [],
   "source": [
    "class Data(object):\n",
    "    def __init__(self):\n",
    "        self.title = \"\"\n",
    "        self.content = \"\"\n",
    "        self.category = \"\"\n"
   ],
   "metadata": {
    "collapsed": false,
    "pycharm": {
     "name": "#%%\n",
     "is_executing": false
    }
   }
  },
  {
   "cell_type": "code",
   "execution_count": 10,
   "outputs": [
    {
     "name": "stdout",
     "text": [
      "1700\n"
     ],
     "output_type": "stream"
    }
   ],
   "source": [
    "i = 0\n",
    "djson1 = []\n",
    "\n",
    "for index, row in df1.iterrows():\n",
    "    i = i + 1\n",
    "    try:\n",
    "        d = Data()\n",
    "        d.id = row.no\n",
    "        d.title = row.mainText\n",
    "        d.content = row.Situation\n",
    "        d.category = row.reason\n",
    "        djson1.append(d)\n",
    "    except:\n",
    "        print(index)\n",
    "        print(row.no)\n",
    "        \n",
    "y = json.dumps(djson1, default=lambda o: o.__dict__, ensure_ascii=False)\n",
    "with open('./QA_Test1/TFIDF/data/data_'+ str(i) + '_512.json', 'w', encoding='utf8') as outfile:\n",
    "    json.dump(djson1, outfile, default=lambda o: o.__dict__ , ensure_ascii=False)\n",
    "print(i)  "
   ],
   "metadata": {
    "collapsed": false,
    "pycharm": {
     "name": "#%%\n",
     "is_executing": false
    }
   }
  }
 ],
 "metadata": {
  "kernelspec": {
   "display_name": "Python 3",
   "language": "python",
   "name": "python3"
  },
  "language_info": {
   "codemirror_mode": {
    "name": "ipython",
    "version": 3
   },
   "file_extension": ".py",
   "mimetype": "text/x-python",
   "name": "python",
   "nbconvert_exporter": "python",
   "pygments_lexer": "ipython3",
   "version": "3.6.4"
  },
  "pycharm": {
   "stem_cell": {
    "cell_type": "raw",
    "source": [],
    "metadata": {
     "collapsed": false
    }
   }
  }
 },
 "nbformat": 4,
 "nbformat_minor": 2
}