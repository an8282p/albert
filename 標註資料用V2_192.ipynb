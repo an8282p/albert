{
 "cells": [
  {
   "cell_type": "code",
   "execution_count": 1,
   "metadata": {},
   "outputs": [
    {
     "name": "stdout",
     "output_type": "stream",
     "text": [
      "106,易,1093_.json\n"
     ]
    }
   ],
   "source": [
    "import os, json \n",
    "import pandas as pd \n",
    "import re\n",
    "\n",
    "train_num = 600\n",
    "\n",
    "path_to_json = 'J:\\Legal_Judgment\\臺灣新北地方法院_改_V2'\n",
    "json_files = [pos_json for pos_json in os.listdir(path_to_json) if pos_json.endswith('.json')] \n",
    "print(json_files[0])"
   ]
  },
  {
   "cell_type": "code",
   "execution_count": 2,
   "metadata": {},
   "outputs": [],
   "source": [
    "with open('J://Legal_Judgment//臺灣新北地方法院_改_V2//'+json_files[0],\"r\",encoding=\"utf-8\") as f:\n",
    "    dt = json.load(f)"
   ]
  },
  {
   "cell_type": "code",
   "execution_count": 3,
   "metadata": {},
   "outputs": [],
   "source": [
    "dic = {\n",
    "    \"id\": 0,\n",
    "    \"court\": [dt[\"court\"]], \n",
    "    \"date\": [dt[\"date\"]],\n",
    "    \"no\": [dt[\"no\"]],\n",
    "    \"sys\": [dt[\"sys\"]],\n",
    "    \"reason\": [dt[\"reason\"]],\n",
    "    \"type\": [dt[\"type\"]],\n",
    "    \"mainText\": [dt[\"mainText\"]],\n",
    "    \"judgement\": [dt[\"judgement\"]],\n",
    "    #\"judgement_SIT\": [dt[\"judgement_SIT\"]],\n",
    "    \"Situation\": [dt[\"Situation\"]]\n",
    "}\n",
    "df = pd.DataFrame(dic)"
   ]
  },
  {
   "cell_type": "code",
   "execution_count": 4,
   "outputs": [
    {
     "name": "stdout",
     "output_type": "stream",
     "text": [
      "100,中簡,119\n",
      "100,中簡,1856\n",
      "100,簡,372\n",
      "100,簡,458\n",
      "101,侵訴,1\n",
      "101,智訴,9\n",
      "103,智訴,4\n",
      "105,中簡,1076\n",
      "105,審易,3360\n",
      "105,審易,3746\n",
      "105,易,264\n",
      "105,易,980\n",
      "105,簡,1724\n",
      "107,審訴緝,48\n",
      "107,訴,394\n",
      "95,矚重訴,3\n"
     ]
    }
   ],
   "source": [
    "my_regex = \"\\（.*?\\）|\\(([^\\)0-9零一二三四五六七八九十]?|[^\\).]{2,})\\)\"\n",
    "\n",
    "#spe = '丙○○意圖為自己不法之所有，基於搶奪之犯意，先後為下列搶奪行為：(一)於民國105年10月8日晚間7時20分許，騎乘登記於不知情之王介平名下之車牌號碼000-000號普通重型機車，行經高雄市○○區○○○路000號前時，將口罩脫下遮掩車牌，自後靠近步行在人行道上之甲○○，趁甲○○不及防備之際，以左手徒手掠取甲○○右手持有之背包1只（內有現金新臺幣【下同】9500元、索尼牌ZR綠色及Xperformance金色行動電話共2具【IMEI：000000000000000、000000000000000號】、長夾1個、信用卡及金融卡共5張、國民身分證2張、國民健康保險卡1張、普通重型機車駕照1張、識別證2張等物）得手後逃逸。嗣因丙○○將背包內之現金取走後，將背包棄置在高雄市鳳山區武營路某處，再經民眾在高雄市鳳山區衛武營附近拾獲上開背包（內有長夾1個、國民身分證2張、國民健康保險卡1張、信用卡3張、金融卡1張等物），遂送交警察機關發還甲○○領回。(二)於同年10月10日晚間11時5分許，騎乘向不知情之劉伊恩借用之車牌號碼000-0000號普通重型機車，行經高雄市○○區○○○路000號前時，使用口罩遮掩車牌，自後靠近步行在人行道上之少年乙○○（89年生，基於兒童及少年福利與權益保障法第69條第2項規定不得揭露足以識別少年身分之資訊，年籍詳卷），趁乙○○不及防備之際，以左手徒手掠取乙○○右手持有之背包1只（內有皮夾1只、現金3萬2000元、提款卡1張、國民身分證1張、國民健康保險卡1張等物）得手後逃逸，並將現金取出，其餘物品則丟棄。嗣為警循線於105年10月16日凌晨2時許，在高雄市○○區○○路000巷00號前查獲，並扣得現金2600元。'\n",
    "show = 0\n",
    "cnt = 0\n",
    "for x in range(1,len(json_files)):\n",
    "    with open('J://Legal_Judgment//臺灣新北地方法院_改_V2//'+json_files[x],\"r\",encoding=\"utf-8\") as f:\n",
    "        dt = json.load(f)\n",
    "\n",
    "    try:\n",
    "        if (str(dt[\"judgement\"]).index(str(dt[\"Situation\"])) < 0):\n",
    "            print(\"error1:\" + dt[\"no\"])\n",
    "            continue\n",
    "\n",
    "\n",
    "        new = pd.DataFrame({\n",
    "        \"id\" : x,\n",
    "        \"court\": [dt[\"court\"]], \n",
    "        \"date\": [dt[\"date\"]],\n",
    "        \"no\": [dt[\"no\"]],\n",
    "        \"sys\": [dt[\"sys\"]],\n",
    "        \"reason\": [dt[\"reason\"]],\n",
    "        \"type\": [dt[\"type\"]],\n",
    "        \"mainText\": [dt[\"mainText\"]],\n",
    "        \"judgement\": [dt[\"judgement\"]],\n",
    "        #\"judgement_SIT\": [dt[\"judgement_SIT\"]],\n",
    "        \"Situation\": [dt[\"Situation\"]]\n",
    "        })\n",
    "\n",
    "        bol = 0\n",
    "        show = 0\n",
    "        for index, row in new.iterrows():\n",
    "            row.Situation = re.sub(my_regex, \"\", str(row.Situation).replace(my_regex, \"\"))\n",
    "            if (len(row.Situation) > 192):\n",
    "                bol = 1\n",
    "\n",
    "        if (bol == 1):\n",
    "            continue\n",
    "\n",
    "        df = df.append(new)\n",
    "        cnt += 1\n",
    "        if (cnt % 1000 == 0):\n",
    "            print(cnt)\n",
    "\n",
    "    except:\n",
    "        print(dt[\"no\"])"
   ],
   "metadata": {
    "collapsed": false,
    "pycharm": {
     "name": "#%%\n"
    }
   }
  },
  {
   "cell_type": "code",
   "execution_count": 5,
   "outputs": [
    {
     "data": {
      "text/plain": "id           886\ncourt        886\ndate         886\nno           886\nsys          886\nreason       886\ntype         886\nmainText     886\njudgement    886\nSituation    886\ndtype: int64"
     },
     "execution_count": 5,
     "metadata": {},
     "output_type": "execute_result"
    }
   ],
   "source": [
    "df.count()"
   ],
   "metadata": {
    "collapsed": false,
    "pycharm": {
     "name": "#%%\n"
    }
   }
  },
  {
   "cell_type": "code",
   "execution_count": 6,
   "metadata": {},
   "outputs": [],
   "source": [
    "df.to_csv('J://Legal_Judgment//Result.csv', index=0) "
   ]
  },
  {
   "cell_type": "code",
   "execution_count": 7,
   "outputs": [
    {
     "data": {
      "text/plain": "       court                       date           no sys reason type  \\\nid                                                                     \n0   臺灣桃園地方法院  2018-04-18T00:00:00+08:00   106,易,1093  刑事   妨害公務   判決   \n5   臺灣臺中地方法院  2011-05-17T00:00:00+08:00  100,中簡,1001  刑事     竊盜   判決   \n\n                                             mainText  \\\nid                                                      \n0             邱建豪犯妨害公務執行罪，累犯，處拘役拾日，如易科罰金，以新臺幣壹仟元折算壹日。   \n5   陳守仁竊盜，三罪，均累犯，各處罰金新臺幣壹萬元、壹萬元、伍仟元，如易服勞役，均以新臺幣壹仟元...   \n\n                                            judgement  \\\nid                                                      \n0   臺灣桃園地方法院刑事判決106年度易字第1093號公訴人臺灣桃園地方法院檢察署檢察官被告邱建...   \n5   臺灣臺中地方法院刑事簡易判決100年度中簡字第1001號聲請人臺灣臺中地方法院檢察署檢察官被...   \n\n                                            Situation  \nid                                                     \n0   邱建豪於民國106年5月1日下午5時15分許，在桃園市○○區○○路000號桃園市政府警察局桃...  \n5   被告陳守仁為高職畢業擔任保全之男子，竟不思以正常手段獲取財物，因一時貪念，以徒手竊取該超商內...  ",
      "text/html": "<div>\n<style scoped>\n    .dataframe tbody tr th:only-of-type {\n        vertical-align: middle;\n    }\n\n    .dataframe tbody tr th {\n        vertical-align: top;\n    }\n\n    .dataframe thead th {\n        text-align: right;\n    }\n</style>\n<table border=\"1\" class=\"dataframe\">\n  <thead>\n    <tr style=\"text-align: right;\">\n      <th></th>\n      <th>court</th>\n      <th>date</th>\n      <th>no</th>\n      <th>sys</th>\n      <th>reason</th>\n      <th>type</th>\n      <th>mainText</th>\n      <th>judgement</th>\n      <th>Situation</th>\n    </tr>\n    <tr>\n      <th>id</th>\n      <th></th>\n      <th></th>\n      <th></th>\n      <th></th>\n      <th></th>\n      <th></th>\n      <th></th>\n      <th></th>\n      <th></th>\n    </tr>\n  </thead>\n  <tbody>\n    <tr>\n      <td>0</td>\n      <td>臺灣桃園地方法院</td>\n      <td>2018-04-18T00:00:00+08:00</td>\n      <td>106,易,1093</td>\n      <td>刑事</td>\n      <td>妨害公務</td>\n      <td>判決</td>\n      <td>邱建豪犯妨害公務執行罪，累犯，處拘役拾日，如易科罰金，以新臺幣壹仟元折算壹日。</td>\n      <td>臺灣桃園地方法院刑事判決106年度易字第1093號公訴人臺灣桃園地方法院檢察署檢察官被告邱建...</td>\n      <td>邱建豪於民國106年5月1日下午5時15分許，在桃園市○○區○○路000號桃園市政府警察局桃...</td>\n    </tr>\n    <tr>\n      <td>5</td>\n      <td>臺灣臺中地方法院</td>\n      <td>2011-05-17T00:00:00+08:00</td>\n      <td>100,中簡,1001</td>\n      <td>刑事</td>\n      <td>竊盜</td>\n      <td>判決</td>\n      <td>陳守仁竊盜，三罪，均累犯，各處罰金新臺幣壹萬元、壹萬元、伍仟元，如易服勞役，均以新臺幣壹仟元...</td>\n      <td>臺灣臺中地方法院刑事簡易判決100年度中簡字第1001號聲請人臺灣臺中地方法院檢察署檢察官被...</td>\n      <td>被告陳守仁為高職畢業擔任保全之男子，竟不思以正常手段獲取財物，因一時貪念，以徒手竊取該超商內...</td>\n    </tr>\n  </tbody>\n</table>\n</div>"
     },
     "execution_count": 7,
     "metadata": {},
     "output_type": "execute_result"
    }
   ],
   "source": [
    "df = pd.read_csv('J://Legal_Judgment//Result.csv', index_col=0)\n",
    "test = pd.read_csv('.//QA_Test1//HBert//dataR5//Test500_192.csv')\n",
    "df.head(2)"
   ],
   "metadata": {
    "collapsed": false,
    "pycharm": {
     "name": "#%%\n"
    }
   }
  },
  {
   "cell_type": "code",
   "execution_count": 8,
   "outputs": [
    {
     "data": {
      "text/plain": "         court                       date           no sys reason type  \\\nid                                                                       \n28    臺灣臺中地方法院  2011-05-19T00:00:00+08:00  100,中簡,1185  刑事     竊盜   判決   \n30    臺灣臺中地方法院  2011-05-24T00:00:00+08:00  100,中簡,1198  刑事     竊盜   判決   \n36    臺灣臺中地方法院  2011-05-31T00:00:00+08:00  100,中簡,1263  刑事     竊盜   判決   \n58    臺灣臺中地方法院  2011-07-05T00:00:00+08:00  100,中簡,1631  刑事     竊盜   判決   \n69    臺灣臺中地方法院  2011-07-26T00:00:00+08:00  100,中簡,1781  刑事     竊盜   判決   \n...        ...                        ...          ...  ..    ...  ...   \n4311  臺灣臺北地方法院  2018-09-21T00:00:00+08:00   107,簡,2128  刑事   妨害公務   判決   \n4321  臺灣臺北地方法院  2018-12-17T00:00:00+08:00   107,簡上,160  刑事     侵占   判決   \n4343  臺灣臺南地方法院  2018-12-10T00:00:00+08:00      107,自,3  刑事   妨害名譽   判決   \n4357  臺灣臺南地方法院  2018-06-28T00:00:00+08:00    107,訴,188  刑事   偽造文書   判決   \n4404  臺灣新北地方法院  2018-08-29T00:00:00+08:00    107,訴,653  刑事     搶奪   判決   \n\n                                             mainText  \\\nid                                                      \n28                  陳玉風犯竊盜罪，處拘役貳拾日，如易科罰金，以新臺幣壹仟元折算壹日。   \n30               陳韋壬犯竊盜罪，累犯，處拘役貳拾日，如易科罰金，以新臺幣壹仟元折算壹日。   \n36           梁統竊盜，處拘役參拾日，如易科罰金，以新臺幣壹仟元折算壹日。扣案之鑰匙壹支沒收。   \n58              廖佳偉犯竊盜罪，累犯，處有期徒刑伍月，如易科罰金，以新臺幣壹仟元折算壹日。   \n69               陳逸彬犯竊盜罪，處罰金新臺幣壹萬元，如易服勞役，以新臺幣壹仟元折算壹日。   \n...                                               ...   \n4311             吳建德犯侮辱公務員罪，處拘役肆拾日，如易科罰金，以新臺幣壹仟元折算壹日。   \n4321  原判決撤銷。\\n易經德犯侵占遺失物罪，處罰金新臺幣壹仟元，如易服勞役，以新臺幣壹仟元折算壹日。   \n4343                                           杜英傑無罪。   \n4357                                           李政無罪。   \n4404          梁禮儉犯竊盜罪，處有期徒刑貳月，如易科罰金，以新臺幣壹仟元折算壹日。緩刑貳年。   \n\n                                              judgement  \\\nid                                                        \n28    臺灣臺中地方法院刑事簡易判決100年度中簡字第1185號聲請人臺灣臺中地方法院檢察署檢察官被...   \n30    臺灣臺中地方法院刑事簡易判決100年度中簡字第1198號聲請人臺灣臺中地方法院檢察署檢察官被...   \n36    臺灣臺中地方法院刑事簡易判決100年度中簡字第1263號聲請人臺灣臺中地方法院檢察署檢察官被...   \n58    臺灣臺中地方法院刑事簡易判決100年度中簡字第1631號聲請人臺灣臺中地方法院檢察署檢察官被...   \n69    臺灣臺中地方法院刑事簡易判決100年度中簡字第1781號聲請人臺灣臺中地方法院檢察署檢察官被...   \n...                                                 ...   \n4311  臺灣臺北地方法院刑事簡易判決107年度簡字第2128號聲請人臺灣臺北地方檢察署檢察官被告吳建...   \n4321  臺灣臺北地方法院刑事判決107年度簡上字第160號上訴人臺灣臺北地方檢察署檢察官被告易經德上...   \n4343  臺灣臺南地方法院刑事判決107年度自字第3號自訴人張良賓自訴代理人李永裕律師江俊傑律師被告杜...   \n4357  臺灣臺南地方法院刑事判決107年度訴字第188號公訴人臺灣臺南地方檢察署檢察官被告李政上列...   \n4404  臺灣新北地方法院刑事判決107年度訴字第653號公訴人臺灣新北地方檢察署檢察官被告梁禮儉（英...   \n\n                                              Situation  \nid                                                       \n28    陳玉風意圖為自己不法之所有，於民國100年4月12日下午1時50分許，在臺中市○里區○○路○...  \n30    詎猶不知悔改，基於意圖為自己不法之所有，於99年5月13日12時39分許，在臺中市○區○○路...  \n36    梁統意圖為自己不法所有，於民國100年4月20日上午9時30分許，在臺中市○○區○○街之某工...  \n58    詎其意圖為自己不法之所有，基於竊盜之犯意，於100年3月19日17時55分許，在臺中市○○區...  \n69    陳逸彬於民國100年3月19日15時56分許，委請某不知情之友人，騎機車至臺中市○區○○里○...  \n...                                                 ...  \n4311  吳建德於民國107年6月30日21時47分，在新北市○○區○○路000巷000號前，因酒後所...  \n4321  易經德於民國107年5月31日6時許，在臺北市○○區○○路0段00號「金時代洗車場」，拾獲吳...  \n4343  被告杜英傑與訴外人承莉精品有限公司（下稱承莉公司）間有請求職業災害補償金事件，由本院以106...  \n4357  被告李政為臺南市○○區○○路000號遠傳電信股份有限公司（以下簡稱遠傳電信）門市負責人。1...  \n4404  梁禮儉於民國107年2月8日11時24分許，在址設新北市○○區○○○道0段000號之尚德汽車...  \n\n[170 rows x 9 columns]",
      "text/html": "<div>\n<style scoped>\n    .dataframe tbody tr th:only-of-type {\n        vertical-align: middle;\n    }\n\n    .dataframe tbody tr th {\n        vertical-align: top;\n    }\n\n    .dataframe thead th {\n        text-align: right;\n    }\n</style>\n<table border=\"1\" class=\"dataframe\">\n  <thead>\n    <tr style=\"text-align: right;\">\n      <th></th>\n      <th>court</th>\n      <th>date</th>\n      <th>no</th>\n      <th>sys</th>\n      <th>reason</th>\n      <th>type</th>\n      <th>mainText</th>\n      <th>judgement</th>\n      <th>Situation</th>\n    </tr>\n    <tr>\n      <th>id</th>\n      <th></th>\n      <th></th>\n      <th></th>\n      <th></th>\n      <th></th>\n      <th></th>\n      <th></th>\n      <th></th>\n      <th></th>\n    </tr>\n  </thead>\n  <tbody>\n    <tr>\n      <td>28</td>\n      <td>臺灣臺中地方法院</td>\n      <td>2011-05-19T00:00:00+08:00</td>\n      <td>100,中簡,1185</td>\n      <td>刑事</td>\n      <td>竊盜</td>\n      <td>判決</td>\n      <td>陳玉風犯竊盜罪，處拘役貳拾日，如易科罰金，以新臺幣壹仟元折算壹日。</td>\n      <td>臺灣臺中地方法院刑事簡易判決100年度中簡字第1185號聲請人臺灣臺中地方法院檢察署檢察官被...</td>\n      <td>陳玉風意圖為自己不法之所有，於民國100年4月12日下午1時50分許，在臺中市○里區○○路○...</td>\n    </tr>\n    <tr>\n      <td>30</td>\n      <td>臺灣臺中地方法院</td>\n      <td>2011-05-24T00:00:00+08:00</td>\n      <td>100,中簡,1198</td>\n      <td>刑事</td>\n      <td>竊盜</td>\n      <td>判決</td>\n      <td>陳韋壬犯竊盜罪，累犯，處拘役貳拾日，如易科罰金，以新臺幣壹仟元折算壹日。</td>\n      <td>臺灣臺中地方法院刑事簡易判決100年度中簡字第1198號聲請人臺灣臺中地方法院檢察署檢察官被...</td>\n      <td>詎猶不知悔改，基於意圖為自己不法之所有，於99年5月13日12時39分許，在臺中市○區○○路...</td>\n    </tr>\n    <tr>\n      <td>36</td>\n      <td>臺灣臺中地方法院</td>\n      <td>2011-05-31T00:00:00+08:00</td>\n      <td>100,中簡,1263</td>\n      <td>刑事</td>\n      <td>竊盜</td>\n      <td>判決</td>\n      <td>梁統竊盜，處拘役參拾日，如易科罰金，以新臺幣壹仟元折算壹日。扣案之鑰匙壹支沒收。</td>\n      <td>臺灣臺中地方法院刑事簡易判決100年度中簡字第1263號聲請人臺灣臺中地方法院檢察署檢察官被...</td>\n      <td>梁統意圖為自己不法所有，於民國100年4月20日上午9時30分許，在臺中市○○區○○街之某工...</td>\n    </tr>\n    <tr>\n      <td>58</td>\n      <td>臺灣臺中地方法院</td>\n      <td>2011-07-05T00:00:00+08:00</td>\n      <td>100,中簡,1631</td>\n      <td>刑事</td>\n      <td>竊盜</td>\n      <td>判決</td>\n      <td>廖佳偉犯竊盜罪，累犯，處有期徒刑伍月，如易科罰金，以新臺幣壹仟元折算壹日。</td>\n      <td>臺灣臺中地方法院刑事簡易判決100年度中簡字第1631號聲請人臺灣臺中地方法院檢察署檢察官被...</td>\n      <td>詎其意圖為自己不法之所有，基於竊盜之犯意，於100年3月19日17時55分許，在臺中市○○區...</td>\n    </tr>\n    <tr>\n      <td>69</td>\n      <td>臺灣臺中地方法院</td>\n      <td>2011-07-26T00:00:00+08:00</td>\n      <td>100,中簡,1781</td>\n      <td>刑事</td>\n      <td>竊盜</td>\n      <td>判決</td>\n      <td>陳逸彬犯竊盜罪，處罰金新臺幣壹萬元，如易服勞役，以新臺幣壹仟元折算壹日。</td>\n      <td>臺灣臺中地方法院刑事簡易判決100年度中簡字第1781號聲請人臺灣臺中地方法院檢察署檢察官被...</td>\n      <td>陳逸彬於民國100年3月19日15時56分許，委請某不知情之友人，騎機車至臺中市○區○○里○...</td>\n    </tr>\n    <tr>\n      <td>...</td>\n      <td>...</td>\n      <td>...</td>\n      <td>...</td>\n      <td>...</td>\n      <td>...</td>\n      <td>...</td>\n      <td>...</td>\n      <td>...</td>\n      <td>...</td>\n    </tr>\n    <tr>\n      <td>4311</td>\n      <td>臺灣臺北地方法院</td>\n      <td>2018-09-21T00:00:00+08:00</td>\n      <td>107,簡,2128</td>\n      <td>刑事</td>\n      <td>妨害公務</td>\n      <td>判決</td>\n      <td>吳建德犯侮辱公務員罪，處拘役肆拾日，如易科罰金，以新臺幣壹仟元折算壹日。</td>\n      <td>臺灣臺北地方法院刑事簡易判決107年度簡字第2128號聲請人臺灣臺北地方檢察署檢察官被告吳建...</td>\n      <td>吳建德於民國107年6月30日21時47分，在新北市○○區○○路000巷000號前，因酒後所...</td>\n    </tr>\n    <tr>\n      <td>4321</td>\n      <td>臺灣臺北地方法院</td>\n      <td>2018-12-17T00:00:00+08:00</td>\n      <td>107,簡上,160</td>\n      <td>刑事</td>\n      <td>侵占</td>\n      <td>判決</td>\n      <td>原判決撤銷。\\n易經德犯侵占遺失物罪，處罰金新臺幣壹仟元，如易服勞役，以新臺幣壹仟元折算壹日。</td>\n      <td>臺灣臺北地方法院刑事判決107年度簡上字第160號上訴人臺灣臺北地方檢察署檢察官被告易經德上...</td>\n      <td>易經德於民國107年5月31日6時許，在臺北市○○區○○路0段00號「金時代洗車場」，拾獲吳...</td>\n    </tr>\n    <tr>\n      <td>4343</td>\n      <td>臺灣臺南地方法院</td>\n      <td>2018-12-10T00:00:00+08:00</td>\n      <td>107,自,3</td>\n      <td>刑事</td>\n      <td>妨害名譽</td>\n      <td>判決</td>\n      <td>杜英傑無罪。</td>\n      <td>臺灣臺南地方法院刑事判決107年度自字第3號自訴人張良賓自訴代理人李永裕律師江俊傑律師被告杜...</td>\n      <td>被告杜英傑與訴外人承莉精品有限公司（下稱承莉公司）間有請求職業災害補償金事件，由本院以106...</td>\n    </tr>\n    <tr>\n      <td>4357</td>\n      <td>臺灣臺南地方法院</td>\n      <td>2018-06-28T00:00:00+08:00</td>\n      <td>107,訴,188</td>\n      <td>刑事</td>\n      <td>偽造文書</td>\n      <td>判決</td>\n      <td>李政無罪。</td>\n      <td>臺灣臺南地方法院刑事判決107年度訴字第188號公訴人臺灣臺南地方檢察署檢察官被告李政上列...</td>\n      <td>被告李政為臺南市○○區○○路000號遠傳電信股份有限公司（以下簡稱遠傳電信）門市負責人。1...</td>\n    </tr>\n    <tr>\n      <td>4404</td>\n      <td>臺灣新北地方法院</td>\n      <td>2018-08-29T00:00:00+08:00</td>\n      <td>107,訴,653</td>\n      <td>刑事</td>\n      <td>搶奪</td>\n      <td>判決</td>\n      <td>梁禮儉犯竊盜罪，處有期徒刑貳月，如易科罰金，以新臺幣壹仟元折算壹日。緩刑貳年。</td>\n      <td>臺灣新北地方法院刑事判決107年度訴字第653號公訴人臺灣新北地方檢察署檢察官被告梁禮儉（英...</td>\n      <td>梁禮儉於民國107年2月8日11時24分許，在址設新北市○○區○○○道0段000號之尚德汽車...</td>\n    </tr>\n  </tbody>\n</table>\n<p>170 rows × 9 columns</p>\n</div>"
     },
     "execution_count": 8,
     "metadata": {},
     "output_type": "execute_result"
    }
   ],
   "source": [
    "df[df['Situation'].str.len() > 192]"
   ],
   "metadata": {
    "collapsed": false,
    "pycharm": {
     "name": "#%%\n"
    }
   }
  },
  {
   "cell_type": "code",
   "execution_count": 9,
   "outputs": [],
   "source": [
    "df['reason'] = df['reason'].str.replace('等','')\n",
    "df['reason'] = df['reason'].str.replace('罪','')\n",
    "df['reason'] = df['reason'].str.replace(\"條例\",\"\")\n",
    "df['reason'] = df['reason'].str.replace(\"防制\",\"\")\n",
    "df['reason'] = df['reason'].str.replace(\"管制\",\"\")\n",
    "df['reason'] = df['reason'].str.replace(\"違反\",\"\")\n",
    "df['reason'] = df['reason'].str.replace(\"違法著作權\",\"著作權法\")\n",
    "\n",
    "#test['judgement'] = test['judgement'].str.replace(my_regex, \"\")\n",
    "#test['Situation'] = test['Situation'].str.replace(my_regex, \"\")"
   ],
   "metadata": {
    "collapsed": false,
    "pycharm": {
     "name": "#%%\n"
    }
   }
  },
  {
   "cell_type": "code",
   "execution_count": 10,
   "outputs": [
    {
     "data": {
      "text/plain": "         court                       date           no sys reason type  \\\nid                                                                       \n28    臺灣臺中地方法院  2011-05-19T00:00:00+08:00  100,中簡,1185  刑事     竊盜   判決   \n30    臺灣臺中地方法院  2011-05-24T00:00:00+08:00  100,中簡,1198  刑事     竊盜   判決   \n36    臺灣臺中地方法院  2011-05-31T00:00:00+08:00  100,中簡,1263  刑事     竊盜   判決   \n58    臺灣臺中地方法院  2011-07-05T00:00:00+08:00  100,中簡,1631  刑事     竊盜   判決   \n69    臺灣臺中地方法院  2011-07-26T00:00:00+08:00  100,中簡,1781  刑事     竊盜   判決   \n...        ...                        ...          ...  ..    ...  ...   \n4311  臺灣臺北地方法院  2018-09-21T00:00:00+08:00   107,簡,2128  刑事   妨害公務   判決   \n4321  臺灣臺北地方法院  2018-12-17T00:00:00+08:00   107,簡上,160  刑事     侵占   判決   \n4343  臺灣臺南地方法院  2018-12-10T00:00:00+08:00      107,自,3  刑事   妨害名譽   判決   \n4357  臺灣臺南地方法院  2018-06-28T00:00:00+08:00    107,訴,188  刑事   偽造文書   判決   \n4404  臺灣新北地方法院  2018-08-29T00:00:00+08:00    107,訴,653  刑事     搶奪   判決   \n\n                                             mainText  \\\nid                                                      \n28                  陳玉風犯竊盜罪，處拘役貳拾日，如易科罰金，以新臺幣壹仟元折算壹日。   \n30               陳韋壬犯竊盜罪，累犯，處拘役貳拾日，如易科罰金，以新臺幣壹仟元折算壹日。   \n36           梁統竊盜，處拘役參拾日，如易科罰金，以新臺幣壹仟元折算壹日。扣案之鑰匙壹支沒收。   \n58              廖佳偉犯竊盜罪，累犯，處有期徒刑伍月，如易科罰金，以新臺幣壹仟元折算壹日。   \n69               陳逸彬犯竊盜罪，處罰金新臺幣壹萬元，如易服勞役，以新臺幣壹仟元折算壹日。   \n...                                               ...   \n4311             吳建德犯侮辱公務員罪，處拘役肆拾日，如易科罰金，以新臺幣壹仟元折算壹日。   \n4321  原判決撤銷。\\n易經德犯侵占遺失物罪，處罰金新臺幣壹仟元，如易服勞役，以新臺幣壹仟元折算壹日。   \n4343                                           杜英傑無罪。   \n4357                                           李政無罪。   \n4404          梁禮儉犯竊盜罪，處有期徒刑貳月，如易科罰金，以新臺幣壹仟元折算壹日。緩刑貳年。   \n\n                                              judgement  \\\nid                                                        \n28    臺灣臺中地方法院刑事簡易判決100年度中簡字第1185號聲請人臺灣臺中地方法院檢察署檢察官被...   \n30    臺灣臺中地方法院刑事簡易判決100年度中簡字第1198號聲請人臺灣臺中地方法院檢察署檢察官被...   \n36    臺灣臺中地方法院刑事簡易判決100年度中簡字第1263號聲請人臺灣臺中地方法院檢察署檢察官被...   \n58    臺灣臺中地方法院刑事簡易判決100年度中簡字第1631號聲請人臺灣臺中地方法院檢察署檢察官被...   \n69    臺灣臺中地方法院刑事簡易判決100年度中簡字第1781號聲請人臺灣臺中地方法院檢察署檢察官被...   \n...                                                 ...   \n4311  臺灣臺北地方法院刑事簡易判決107年度簡字第2128號聲請人臺灣臺北地方檢察署檢察官被告吳建...   \n4321  臺灣臺北地方法院刑事判決107年度簡上字第160號上訴人臺灣臺北地方檢察署檢察官被告易經德上...   \n4343  臺灣臺南地方法院刑事判決107年度自字第3號自訴人張良賓自訴代理人李永裕律師江俊傑律師被告杜...   \n4357  臺灣臺南地方法院刑事判決107年度訴字第188號公訴人臺灣臺南地方檢察署檢察官被告李政上列...   \n4404  臺灣新北地方法院刑事判決107年度訴字第653號公訴人臺灣新北地方檢察署檢察官被告梁禮儉（英...   \n\n                                              Situation  \nid                                                       \n28    陳玉風意圖為自己不法之所有，於民國100年4月12日下午1時50分許，在臺中市○里區○○路○...  \n30    詎猶不知悔改，基於意圖為自己不法之所有，於99年5月13日12時39分許，在臺中市○區○○路...  \n36    梁統意圖為自己不法所有，於民國100年4月20日上午9時30分許，在臺中市○○區○○街之某工...  \n58    詎其意圖為自己不法之所有，基於竊盜之犯意，於100年3月19日17時55分許，在臺中市○○區...  \n69    陳逸彬於民國100年3月19日15時56分許，委請某不知情之友人，騎機車至臺中市○區○○里○...  \n...                                                 ...  \n4311  吳建德於民國107年6月30日21時47分，在新北市○○區○○路000巷000號前，因酒後所...  \n4321  易經德於民國107年5月31日6時許，在臺北市○○區○○路0段00號「金時代洗車場」，拾獲吳...  \n4343  被告杜英傑與訴外人承莉精品有限公司（下稱承莉公司）間有請求職業災害補償金事件，由本院以106...  \n4357  被告李政為臺南市○○區○○路000號遠傳電信股份有限公司（以下簡稱遠傳電信）門市負責人。1...  \n4404  梁禮儉於民國107年2月8日11時24分許，在址設新北市○○區○○○道0段000號之尚德汽車...  \n\n[170 rows x 9 columns]",
      "text/html": "<div>\n<style scoped>\n    .dataframe tbody tr th:only-of-type {\n        vertical-align: middle;\n    }\n\n    .dataframe tbody tr th {\n        vertical-align: top;\n    }\n\n    .dataframe thead th {\n        text-align: right;\n    }\n</style>\n<table border=\"1\" class=\"dataframe\">\n  <thead>\n    <tr style=\"text-align: right;\">\n      <th></th>\n      <th>court</th>\n      <th>date</th>\n      <th>no</th>\n      <th>sys</th>\n      <th>reason</th>\n      <th>type</th>\n      <th>mainText</th>\n      <th>judgement</th>\n      <th>Situation</th>\n    </tr>\n    <tr>\n      <th>id</th>\n      <th></th>\n      <th></th>\n      <th></th>\n      <th></th>\n      <th></th>\n      <th></th>\n      <th></th>\n      <th></th>\n      <th></th>\n    </tr>\n  </thead>\n  <tbody>\n    <tr>\n      <td>28</td>\n      <td>臺灣臺中地方法院</td>\n      <td>2011-05-19T00:00:00+08:00</td>\n      <td>100,中簡,1185</td>\n      <td>刑事</td>\n      <td>竊盜</td>\n      <td>判決</td>\n      <td>陳玉風犯竊盜罪，處拘役貳拾日，如易科罰金，以新臺幣壹仟元折算壹日。</td>\n      <td>臺灣臺中地方法院刑事簡易判決100年度中簡字第1185號聲請人臺灣臺中地方法院檢察署檢察官被...</td>\n      <td>陳玉風意圖為自己不法之所有，於民國100年4月12日下午1時50分許，在臺中市○里區○○路○...</td>\n    </tr>\n    <tr>\n      <td>30</td>\n      <td>臺灣臺中地方法院</td>\n      <td>2011-05-24T00:00:00+08:00</td>\n      <td>100,中簡,1198</td>\n      <td>刑事</td>\n      <td>竊盜</td>\n      <td>判決</td>\n      <td>陳韋壬犯竊盜罪，累犯，處拘役貳拾日，如易科罰金，以新臺幣壹仟元折算壹日。</td>\n      <td>臺灣臺中地方法院刑事簡易判決100年度中簡字第1198號聲請人臺灣臺中地方法院檢察署檢察官被...</td>\n      <td>詎猶不知悔改，基於意圖為自己不法之所有，於99年5月13日12時39分許，在臺中市○區○○路...</td>\n    </tr>\n    <tr>\n      <td>36</td>\n      <td>臺灣臺中地方法院</td>\n      <td>2011-05-31T00:00:00+08:00</td>\n      <td>100,中簡,1263</td>\n      <td>刑事</td>\n      <td>竊盜</td>\n      <td>判決</td>\n      <td>梁統竊盜，處拘役參拾日，如易科罰金，以新臺幣壹仟元折算壹日。扣案之鑰匙壹支沒收。</td>\n      <td>臺灣臺中地方法院刑事簡易判決100年度中簡字第1263號聲請人臺灣臺中地方法院檢察署檢察官被...</td>\n      <td>梁統意圖為自己不法所有，於民國100年4月20日上午9時30分許，在臺中市○○區○○街之某工...</td>\n    </tr>\n    <tr>\n      <td>58</td>\n      <td>臺灣臺中地方法院</td>\n      <td>2011-07-05T00:00:00+08:00</td>\n      <td>100,中簡,1631</td>\n      <td>刑事</td>\n      <td>竊盜</td>\n      <td>判決</td>\n      <td>廖佳偉犯竊盜罪，累犯，處有期徒刑伍月，如易科罰金，以新臺幣壹仟元折算壹日。</td>\n      <td>臺灣臺中地方法院刑事簡易判決100年度中簡字第1631號聲請人臺灣臺中地方法院檢察署檢察官被...</td>\n      <td>詎其意圖為自己不法之所有，基於竊盜之犯意，於100年3月19日17時55分許，在臺中市○○區...</td>\n    </tr>\n    <tr>\n      <td>69</td>\n      <td>臺灣臺中地方法院</td>\n      <td>2011-07-26T00:00:00+08:00</td>\n      <td>100,中簡,1781</td>\n      <td>刑事</td>\n      <td>竊盜</td>\n      <td>判決</td>\n      <td>陳逸彬犯竊盜罪，處罰金新臺幣壹萬元，如易服勞役，以新臺幣壹仟元折算壹日。</td>\n      <td>臺灣臺中地方法院刑事簡易判決100年度中簡字第1781號聲請人臺灣臺中地方法院檢察署檢察官被...</td>\n      <td>陳逸彬於民國100年3月19日15時56分許，委請某不知情之友人，騎機車至臺中市○區○○里○...</td>\n    </tr>\n    <tr>\n      <td>...</td>\n      <td>...</td>\n      <td>...</td>\n      <td>...</td>\n      <td>...</td>\n      <td>...</td>\n      <td>...</td>\n      <td>...</td>\n      <td>...</td>\n      <td>...</td>\n    </tr>\n    <tr>\n      <td>4311</td>\n      <td>臺灣臺北地方法院</td>\n      <td>2018-09-21T00:00:00+08:00</td>\n      <td>107,簡,2128</td>\n      <td>刑事</td>\n      <td>妨害公務</td>\n      <td>判決</td>\n      <td>吳建德犯侮辱公務員罪，處拘役肆拾日，如易科罰金，以新臺幣壹仟元折算壹日。</td>\n      <td>臺灣臺北地方法院刑事簡易判決107年度簡字第2128號聲請人臺灣臺北地方檢察署檢察官被告吳建...</td>\n      <td>吳建德於民國107年6月30日21時47分，在新北市○○區○○路000巷000號前，因酒後所...</td>\n    </tr>\n    <tr>\n      <td>4321</td>\n      <td>臺灣臺北地方法院</td>\n      <td>2018-12-17T00:00:00+08:00</td>\n      <td>107,簡上,160</td>\n      <td>刑事</td>\n      <td>侵占</td>\n      <td>判決</td>\n      <td>原判決撤銷。\\n易經德犯侵占遺失物罪，處罰金新臺幣壹仟元，如易服勞役，以新臺幣壹仟元折算壹日。</td>\n      <td>臺灣臺北地方法院刑事判決107年度簡上字第160號上訴人臺灣臺北地方檢察署檢察官被告易經德上...</td>\n      <td>易經德於民國107年5月31日6時許，在臺北市○○區○○路0段00號「金時代洗車場」，拾獲吳...</td>\n    </tr>\n    <tr>\n      <td>4343</td>\n      <td>臺灣臺南地方法院</td>\n      <td>2018-12-10T00:00:00+08:00</td>\n      <td>107,自,3</td>\n      <td>刑事</td>\n      <td>妨害名譽</td>\n      <td>判決</td>\n      <td>杜英傑無罪。</td>\n      <td>臺灣臺南地方法院刑事判決107年度自字第3號自訴人張良賓自訴代理人李永裕律師江俊傑律師被告杜...</td>\n      <td>被告杜英傑與訴外人承莉精品有限公司（下稱承莉公司）間有請求職業災害補償金事件，由本院以106...</td>\n    </tr>\n    <tr>\n      <td>4357</td>\n      <td>臺灣臺南地方法院</td>\n      <td>2018-06-28T00:00:00+08:00</td>\n      <td>107,訴,188</td>\n      <td>刑事</td>\n      <td>偽造文書</td>\n      <td>判決</td>\n      <td>李政無罪。</td>\n      <td>臺灣臺南地方法院刑事判決107年度訴字第188號公訴人臺灣臺南地方檢察署檢察官被告李政上列...</td>\n      <td>被告李政為臺南市○○區○○路000號遠傳電信股份有限公司（以下簡稱遠傳電信）門市負責人。1...</td>\n    </tr>\n    <tr>\n      <td>4404</td>\n      <td>臺灣新北地方法院</td>\n      <td>2018-08-29T00:00:00+08:00</td>\n      <td>107,訴,653</td>\n      <td>刑事</td>\n      <td>搶奪</td>\n      <td>判決</td>\n      <td>梁禮儉犯竊盜罪，處有期徒刑貳月，如易科罰金，以新臺幣壹仟元折算壹日。緩刑貳年。</td>\n      <td>臺灣新北地方法院刑事判決107年度訴字第653號公訴人臺灣新北地方檢察署檢察官被告梁禮儉（英...</td>\n      <td>梁禮儉於民國107年2月8日11時24分許，在址設新北市○○區○○○道0段000號之尚德汽車...</td>\n    </tr>\n  </tbody>\n</table>\n<p>170 rows × 9 columns</p>\n</div>"
     },
     "execution_count": 10,
     "metadata": {},
     "output_type": "execute_result"
    }
   ],
   "source": [
    "df[df['Situation'].str.len() > 192]"
   ],
   "metadata": {
    "collapsed": false,
    "pycharm": {
     "name": "#%%\n"
    }
   }
  },
  {
   "cell_type": "code",
   "execution_count": 11,
   "outputs": [
    {
     "data": {
      "text/plain": "毀損       206\n傷害       139\n妨害名譽      94\n竊盜        73\n妨害自由      65\n公共危險      62\n侵占        58\n妨害公務      56\n搶奪        34\n毒品危害      22\n妨害性自主     20\n毀棄損壞      18\n著作權法      12\n強盜         7\n偽造文書       5\n過失傷害       3\n妨害風化       3\n殺人未遂       3\n詐欺         2\n藥事法        2\n殺人         1\n醫師法        1\nName: reason, dtype: int64"
     },
     "execution_count": 11,
     "metadata": {},
     "output_type": "execute_result"
    }
   ],
   "source": [
    "df.loc[:,'reason'].value_counts()"
   ],
   "metadata": {
    "collapsed": false,
    "pycharm": {
     "name": "#%%\n"
    }
   }
  },
  {
   "cell_type": "code",
   "execution_count": 12,
   "outputs": [
    {
     "data": {
      "text/plain": "     id     court                       date          no sys reason type  \\\n0  4315  臺灣臺南地方法院  2018-09-19T00:00:00+08:00  107,簡,2879  刑事   妨害自由   判決   \n1  1998  臺灣臺北地方法院  2016-05-31T00:00:00+08:00   105,易,293  刑事   妨害公務   判決   \n\n                                            mainText  \\\n0  黃文宏犯強制罪，處拘役拾伍日，如易科罰金，以新臺幣壹仟元折算壹日。\\n扣案之鐵鍊壹條及鎖頭壹...   \n1  林培清對於公務員依法執行職務時，施強暴，累犯，處有期徒刑玖月。\\n陳建銘對於公務員依法執行職...   \n\n                                           judgement  \\\n0  臺灣臺南地方法院刑事簡易判決107年度簡字第2879號聲請人臺灣臺南地方檢察署檢察官被告黃文...   \n1  臺灣臺北地方法院刑事判決105年度易字第293號公訴人臺灣臺北地方法院檢察署檢察官被告林培清...   \n\n                                           Situation  \n0  黃文宏與張喬峰前有民事租金糾紛，黃文宏明知臺南市○區○○路○段000號11樓之7之辦公處所，...  \n1  林培清於民國105年3月22日下午3時33分許，在臺北市○○區○○路0段000號艋舺公園內，...  ",
      "text/html": "<div>\n<style scoped>\n    .dataframe tbody tr th:only-of-type {\n        vertical-align: middle;\n    }\n\n    .dataframe tbody tr th {\n        vertical-align: top;\n    }\n\n    .dataframe thead th {\n        text-align: right;\n    }\n</style>\n<table border=\"1\" class=\"dataframe\">\n  <thead>\n    <tr style=\"text-align: right;\">\n      <th></th>\n      <th>id</th>\n      <th>court</th>\n      <th>date</th>\n      <th>no</th>\n      <th>sys</th>\n      <th>reason</th>\n      <th>type</th>\n      <th>mainText</th>\n      <th>judgement</th>\n      <th>Situation</th>\n    </tr>\n  </thead>\n  <tbody>\n    <tr>\n      <td>0</td>\n      <td>4315</td>\n      <td>臺灣臺南地方法院</td>\n      <td>2018-09-19T00:00:00+08:00</td>\n      <td>107,簡,2879</td>\n      <td>刑事</td>\n      <td>妨害自由</td>\n      <td>判決</td>\n      <td>黃文宏犯強制罪，處拘役拾伍日，如易科罰金，以新臺幣壹仟元折算壹日。\\n扣案之鐵鍊壹條及鎖頭壹...</td>\n      <td>臺灣臺南地方法院刑事簡易判決107年度簡字第2879號聲請人臺灣臺南地方檢察署檢察官被告黃文...</td>\n      <td>黃文宏與張喬峰前有民事租金糾紛，黃文宏明知臺南市○區○○路○段000號11樓之7之辦公處所，...</td>\n    </tr>\n    <tr>\n      <td>1</td>\n      <td>1998</td>\n      <td>臺灣臺北地方法院</td>\n      <td>2016-05-31T00:00:00+08:00</td>\n      <td>105,易,293</td>\n      <td>刑事</td>\n      <td>妨害公務</td>\n      <td>判決</td>\n      <td>林培清對於公務員依法執行職務時，施強暴，累犯，處有期徒刑玖月。\\n陳建銘對於公務員依法執行職...</td>\n      <td>臺灣臺北地方法院刑事判決105年度易字第293號公訴人臺灣臺北地方法院檢察署檢察官被告林培清...</td>\n      <td>林培清於民國105年3月22日下午3時33分許，在臺北市○○區○○路0段000號艋舺公園內，...</td>\n    </tr>\n  </tbody>\n</table>\n</div>"
     },
     "execution_count": 12,
     "metadata": {},
     "output_type": "execute_result"
    }
   ],
   "source": [
    "test.head(2)"
   ],
   "metadata": {
    "collapsed": false,
    "pycharm": {
     "name": "#%%\n"
    }
   }
  },
  {
   "cell_type": "code",
   "execution_count": 13,
   "outputs": [
    {
     "data": {
      "text/plain": "      id     court                       date          no sys reason type  \\\n1   1998  臺灣臺北地方法院  2016-05-31T00:00:00+08:00   105,易,293  刑事   妨害公務   判決   \n15  1817  臺灣桃園地方法院  2016-10-27T00:00:00+08:00  105,易,1320  刑事     侵占   判決   \n\n                                             mainText  \\\n1   林培清對於公務員依法執行職務時，施強暴，累犯，處有期徒刑玖月。\\n陳建銘對於公務員依法執行職...   \n15                                              本件免訴。   \n\n                                            judgement  \\\n1   臺灣臺北地方法院刑事判決105年度易字第293號公訴人臺灣臺北地方法院檢察署檢察官被告林培清...   \n15  臺灣桃園地方法院刑事判決105年度易字第1320號公訴人臺灣桃園地方法院檢察署檢察官被告張聖...   \n\n                                            Situation  \n1   林培清於民國105年3月22日下午3時33分許，在臺北市○○區○○路0段000號艋舺公園內，...  \n15  被告張聖亷意圖為自己不法之所有，基於侵占之犯意，於民國104年9月12日晚間6時許，在桃園市...  ",
      "text/html": "<div>\n<style scoped>\n    .dataframe tbody tr th:only-of-type {\n        vertical-align: middle;\n    }\n\n    .dataframe tbody tr th {\n        vertical-align: top;\n    }\n\n    .dataframe thead th {\n        text-align: right;\n    }\n</style>\n<table border=\"1\" class=\"dataframe\">\n  <thead>\n    <tr style=\"text-align: right;\">\n      <th></th>\n      <th>id</th>\n      <th>court</th>\n      <th>date</th>\n      <th>no</th>\n      <th>sys</th>\n      <th>reason</th>\n      <th>type</th>\n      <th>mainText</th>\n      <th>judgement</th>\n      <th>Situation</th>\n    </tr>\n  </thead>\n  <tbody>\n    <tr>\n      <td>1</td>\n      <td>1998</td>\n      <td>臺灣臺北地方法院</td>\n      <td>2016-05-31T00:00:00+08:00</td>\n      <td>105,易,293</td>\n      <td>刑事</td>\n      <td>妨害公務</td>\n      <td>判決</td>\n      <td>林培清對於公務員依法執行職務時，施強暴，累犯，處有期徒刑玖月。\\n陳建銘對於公務員依法執行職...</td>\n      <td>臺灣臺北地方法院刑事判決105年度易字第293號公訴人臺灣臺北地方法院檢察署檢察官被告林培清...</td>\n      <td>林培清於民國105年3月22日下午3時33分許，在臺北市○○區○○路0段000號艋舺公園內，...</td>\n    </tr>\n    <tr>\n      <td>15</td>\n      <td>1817</td>\n      <td>臺灣桃園地方法院</td>\n      <td>2016-10-27T00:00:00+08:00</td>\n      <td>105,易,1320</td>\n      <td>刑事</td>\n      <td>侵占</td>\n      <td>判決</td>\n      <td>本件免訴。</td>\n      <td>臺灣桃園地方法院刑事判決105年度易字第1320號公訴人臺灣桃園地方法院檢察署檢察官被告張聖...</td>\n      <td>被告張聖亷意圖為自己不法之所有，基於侵占之犯意，於民國104年9月12日晚間6時許，在桃園市...</td>\n    </tr>\n  </tbody>\n</table>\n</div>"
     },
     "execution_count": 13,
     "metadata": {},
     "output_type": "execute_result"
    }
   ],
   "source": [
    "test2 = test[test['Situation'].str.len() > 192]\n",
    "test2.head(2)\n",
    "#test2.to_csv('J://Legal_Judgment//test513.csv', index=0) "
   ],
   "metadata": {
    "collapsed": false,
    "pycharm": {
     "name": "#%%\n"
    }
   }
  },
  {
   "cell_type": "code",
   "execution_count": 14,
   "outputs": [
    {
     "data": {
      "text/plain": "court        675\ndate         675\nno           675\nsys          675\nreason       675\ntype         675\nmainText     675\njudgement    675\nSituation    675\ndtype: int64"
     },
     "execution_count": 14,
     "metadata": {},
     "output_type": "execute_result"
    }
   ],
   "source": [
    "tmp = df[~df['no'].isin(test['no'])]\n",
    "tmp = tmp.dropna()\n",
    "tmp.count()"
   ],
   "metadata": {
    "collapsed": false,
    "pycharm": {
     "name": "#%%\n"
    }
   }
  },
  {
   "cell_type": "code",
   "execution_count": 14,
   "outputs": [],
   "source": [],
   "metadata": {
    "collapsed": false,
    "pycharm": {
     "name": "#%%\n"
    }
   }
  },
  {
   "cell_type": "code",
   "execution_count": 15,
   "outputs": [
    {
     "data": {
      "text/plain": "         court                       date            no sys reason type  \\\nid                                                                        \n2902  臺灣臺北地方法院  2017-04-28T00:00:00+08:00   106,交簡,1006  刑事   公共危險   判決   \n568   臺灣臺中地方法院  2016-04-25T00:00:00+08:00  105,中交簡,1110  刑事   公共危險   判決   \n\n                                               mainText  \\\nid                                                        \n2902  陳和成吐氣所含酒精濃度達每公升零點二五毫克以上而駕駛動力交通工具，累犯，處有期徒刑陸月，如易...   \n568   朱永松駕駛動力交通工具而吐氣所含酒精濃度達每公升零點二五毫克以上，處有期徒刑參月，如易科罰金...   \n\n                                              judgement  \\\nid                                                        \n2902  臺灣臺北地方法院刑事簡易判決106年度交簡字第1006號聲請人臺灣臺北地方法院檢察署檢察官被...   \n568   臺灣臺中地方法院刑事簡易判決105年度中交簡字第1110號聲請人臺灣臺中地方法院檢察署檢察官...   \n\n                                              Situation  \nid                                                       \n2902  陳和成自民國106年3月28日凌晨1時30分許起至同日時30分止許，在臺北市○○區○○○路0...  \n568   朱永松於民國105年4月2日9時許，在臺中市南區第三市場內飲用鹿茸酒後，吐氣所含酒精濃度已達...  ",
      "text/html": "<div>\n<style scoped>\n    .dataframe tbody tr th:only-of-type {\n        vertical-align: middle;\n    }\n\n    .dataframe tbody tr th {\n        vertical-align: top;\n    }\n\n    .dataframe thead th {\n        text-align: right;\n    }\n</style>\n<table border=\"1\" class=\"dataframe\">\n  <thead>\n    <tr style=\"text-align: right;\">\n      <th></th>\n      <th>court</th>\n      <th>date</th>\n      <th>no</th>\n      <th>sys</th>\n      <th>reason</th>\n      <th>type</th>\n      <th>mainText</th>\n      <th>judgement</th>\n      <th>Situation</th>\n    </tr>\n    <tr>\n      <th>id</th>\n      <th></th>\n      <th></th>\n      <th></th>\n      <th></th>\n      <th></th>\n      <th></th>\n      <th></th>\n      <th></th>\n      <th></th>\n    </tr>\n  </thead>\n  <tbody>\n    <tr>\n      <td>2902</td>\n      <td>臺灣臺北地方法院</td>\n      <td>2017-04-28T00:00:00+08:00</td>\n      <td>106,交簡,1006</td>\n      <td>刑事</td>\n      <td>公共危險</td>\n      <td>判決</td>\n      <td>陳和成吐氣所含酒精濃度達每公升零點二五毫克以上而駕駛動力交通工具，累犯，處有期徒刑陸月，如易...</td>\n      <td>臺灣臺北地方法院刑事簡易判決106年度交簡字第1006號聲請人臺灣臺北地方法院檢察署檢察官被...</td>\n      <td>陳和成自民國106年3月28日凌晨1時30分許起至同日時30分止許，在臺北市○○區○○○路0...</td>\n    </tr>\n    <tr>\n      <td>568</td>\n      <td>臺灣臺中地方法院</td>\n      <td>2016-04-25T00:00:00+08:00</td>\n      <td>105,中交簡,1110</td>\n      <td>刑事</td>\n      <td>公共危險</td>\n      <td>判決</td>\n      <td>朱永松駕駛動力交通工具而吐氣所含酒精濃度達每公升零點二五毫克以上，處有期徒刑參月，如易科罰金...</td>\n      <td>臺灣臺中地方法院刑事簡易判決105年度中交簡字第1110號聲請人臺灣臺中地方法院檢察署檢察官...</td>\n      <td>朱永松於民國105年4月2日9時許，在臺中市南區第三市場內飲用鹿茸酒後，吐氣所含酒精濃度已達...</td>\n    </tr>\n  </tbody>\n</table>\n</div>"
     },
     "execution_count": 15,
     "metadata": {},
     "output_type": "execute_result"
    }
   ],
   "source": [
    "##拆分df\n",
    "df1=tmp.sample(n=train_num)#按0.6比例随机采样\n",
    "df1.head(2)"
   ],
   "metadata": {
    "collapsed": false,
    "pycharm": {
     "name": "#%%\n"
    }
   }
  },
  {
   "cell_type": "code",
   "execution_count": 16,
   "outputs": [
    {
     "data": {
      "text/plain": "court        600\ndate         600\nno           600\nsys          600\nreason       600\ntype         600\nmainText     600\njudgement    600\nSituation    600\ndtype: int64"
     },
     "execution_count": 16,
     "metadata": {},
     "output_type": "execute_result"
    }
   ],
   "source": [
    "df1.count()"
   ],
   "metadata": {
    "collapsed": false,
    "pycharm": {
     "name": "#%%\n"
    }
   }
  },
  {
   "cell_type": "code",
   "execution_count": 17,
   "outputs": [
    {
     "data": {
      "text/plain": "court        111\ndate         111\nno           111\nsys          111\nreason       111\ntype         111\nmainText     111\njudgement    111\nSituation    111\ndtype: int64"
     },
     "execution_count": 17,
     "metadata": {},
     "output_type": "execute_result"
    }
   ],
   "source": [
    "df1[df1['Situation'].str.len() > 192].count()"
   ],
   "metadata": {
    "collapsed": false,
    "pycharm": {
     "name": "#%%\n"
    }
   }
  },
  {
   "cell_type": "code",
   "execution_count": 18,
   "outputs": [
    {
     "data": {
      "text/plain": "     id     court                       date          no sys reason type  \\\n0  4315  臺灣臺南地方法院  2018-09-19T00:00:00+08:00  107,簡,2879  刑事   妨害自由   判決   \n1  1998  臺灣臺北地方法院  2016-05-31T00:00:00+08:00   105,易,293  刑事   妨害公務   判決   \n\n                                            mainText  \\\n0  黃文宏犯強制罪，處拘役拾伍日，如易科罰金，以新臺幣壹仟元折算壹日。\\n扣案之鐵鍊壹條及鎖頭壹...   \n1  林培清對於公務員依法執行職務時，施強暴，累犯，處有期徒刑玖月。\\n陳建銘對於公務員依法執行職...   \n\n                                           judgement  \\\n0  臺灣臺南地方法院刑事簡易判決107年度簡字第2879號聲請人臺灣臺南地方檢察署檢察官被告黃文...   \n1  臺灣臺北地方法院刑事判決105年度易字第293號公訴人臺灣臺北地方法院檢察署檢察官被告林培清...   \n\n                                           Situation  \n0  黃文宏與張喬峰前有民事租金糾紛，黃文宏明知臺南市○區○○路○段000號11樓之7之辦公處所，...  \n1  林培清於民國105年3月22日下午3時33分許，在臺北市○○區○○路0段000號艋舺公園內，...  ",
      "text/html": "<div>\n<style scoped>\n    .dataframe tbody tr th:only-of-type {\n        vertical-align: middle;\n    }\n\n    .dataframe tbody tr th {\n        vertical-align: top;\n    }\n\n    .dataframe thead th {\n        text-align: right;\n    }\n</style>\n<table border=\"1\" class=\"dataframe\">\n  <thead>\n    <tr style=\"text-align: right;\">\n      <th></th>\n      <th>id</th>\n      <th>court</th>\n      <th>date</th>\n      <th>no</th>\n      <th>sys</th>\n      <th>reason</th>\n      <th>type</th>\n      <th>mainText</th>\n      <th>judgement</th>\n      <th>Situation</th>\n    </tr>\n  </thead>\n  <tbody>\n    <tr>\n      <td>0</td>\n      <td>4315</td>\n      <td>臺灣臺南地方法院</td>\n      <td>2018-09-19T00:00:00+08:00</td>\n      <td>107,簡,2879</td>\n      <td>刑事</td>\n      <td>妨害自由</td>\n      <td>判決</td>\n      <td>黃文宏犯強制罪，處拘役拾伍日，如易科罰金，以新臺幣壹仟元折算壹日。\\n扣案之鐵鍊壹條及鎖頭壹...</td>\n      <td>臺灣臺南地方法院刑事簡易判決107年度簡字第2879號聲請人臺灣臺南地方檢察署檢察官被告黃文...</td>\n      <td>黃文宏與張喬峰前有民事租金糾紛，黃文宏明知臺南市○區○○路○段000號11樓之7之辦公處所，...</td>\n    </tr>\n    <tr>\n      <td>1</td>\n      <td>1998</td>\n      <td>臺灣臺北地方法院</td>\n      <td>2016-05-31T00:00:00+08:00</td>\n      <td>105,易,293</td>\n      <td>刑事</td>\n      <td>妨害公務</td>\n      <td>判決</td>\n      <td>林培清對於公務員依法執行職務時，施強暴，累犯，處有期徒刑玖月。\\n陳建銘對於公務員依法執行職...</td>\n      <td>臺灣臺北地方法院刑事判決105年度易字第293號公訴人臺灣臺北地方法院檢察署檢察官被告林培清...</td>\n      <td>林培清於民國105年3月22日下午3時33分許，在臺北市○○區○○路0段000號艋舺公園內，...</td>\n    </tr>\n  </tbody>\n</table>\n</div>"
     },
     "execution_count": 18,
     "metadata": {},
     "output_type": "execute_result"
    }
   ],
   "source": [
    "df2=test\n",
    "df2.head(2)"
   ],
   "metadata": {
    "collapsed": false,
    "pycharm": {
     "name": "#%%\n"
    }
   }
  },
  {
   "cell_type": "code",
   "execution_count": 19,
   "outputs": [],
   "source": [
    "class Data(object):\n",
    "    def __init__(self):\n",
    "        self.paragraphs = []\n",
    "        self.id = \"0\"\n",
    "        self.title = \"\"\n",
    "\n",
    "class Djson(object):\n",
    "    def __init__(self):\n",
    "        self.version = \"v1.0\"\n",
    "        self.data = []\n",
    " "
   ],
   "metadata": {
    "collapsed": false,
    "pycharm": {
     "name": "#%%\n"
    }
   }
  },
  {
   "cell_type": "code",
   "execution_count": 20,
   "outputs": [],
   "source": [
    "djson1 = ''\n",
    "djson1 = Djson()\n",
    "for index, row in df1.iterrows():\n",
    "    try:\n",
    "        if (row.judgement.index(row.Situation) < 0):\n",
    "            print(index)\n",
    "            print(row.no)\n",
    "\n",
    "        d = Data()\n",
    "        d.paragraphs = [{\"id\" : \"TRAIN_\" + str(index),\n",
    "                      #\"context\" : row.reason + \"[SEP]\" + row.judgement,\n",
    "                      \"context\" : row.judgement,\n",
    "                      \"qas\":[{\n",
    "                          \"question\" :\"?\",\n",
    "                          \"id\" : \"TRAIN_\" + str(index) + \"_QUERY_0\",\n",
    "                          \"answers\" :[{\n",
    "                              \"text\" : row.Situation,\n",
    "                              \"answer_start\" : row.judgement.index(row.Situation) #+ len(row.reason + \"[SET]\")\n",
    "                          }]\n",
    "                      }]\n",
    "                    }\n",
    "                    ]\n",
    "        d.id = \"TRAIN_\" + str(index)\n",
    "        d.title = row.no\n",
    "        djson1.data.append(d)\n",
    "    except:\n",
    "        print(index)\n",
    "        print(row.no)"
   ],
   "metadata": {
    "collapsed": false,
    "pycharm": {
     "name": "#%%\n"
    }
   }
  },
  {
   "cell_type": "code",
   "execution_count": 21,
   "outputs": [],
   "source": [
    "y = json.dumps(djson1, default=lambda o: o.__dict__, ensure_ascii=False)"
   ],
   "metadata": {
    "collapsed": false,
    "pycharm": {
     "name": "#%%\n"
    }
   }
  },
  {
   "cell_type": "code",
   "execution_count": 22,
   "outputs": [],
   "source": [
    "with open('./QA_Test1/HBert/dataR5/train_'+ str(train_num) + '_192.json', 'w', encoding='utf8') as outfile:\n",
    "#with open('./QA_Test1/HBert/dataV3/train_'+ str(train_num) + '_Y.json', 'w', encoding='utf8') as outfile:\n",
    "    json.dump(djson1, outfile, default=lambda o: o.__dict__ , ensure_ascii=False)"
   ],
   "metadata": {
    "collapsed": false,
    "pycharm": {
     "name": "#%%\n"
    }
   }
  },
  {
   "cell_type": "code",
   "execution_count": 23,
   "outputs": [],
   "source": [
    "my_regex = r\"[\\(\\（]([^一二三四五六七八九零十1234567890]{1}[^\\)\\）]+|[一二三四五六七八九零十1234567890]{1}[^\\)\\）]{1,})[\\)\\）]\"\n",
    "\n",
    "df1['judgement'] = df1['judgement'].str.replace(my_regex, \"\")\n",
    "df1['Situation'] = df1['Situation'].str.replace(my_regex, \"\")"
   ],
   "metadata": {
    "collapsed": false,
    "pycharm": {
     "name": "#%%\n"
    }
   }
  },
  {
   "cell_type": "code",
   "execution_count": 24,
   "outputs": [],
   "source": [
    "djson1 = ''\n",
    "djson1 = Djson()\n",
    "for index, row in df1.iterrows():\n",
    "    try:\n",
    "        if (row.judgement.index(row.Situation) < 0):\n",
    "            print(index)\n",
    "            print(row.no)\n",
    "\n",
    "        d = Data()\n",
    "        d.paragraphs = [{\"id\" : \"TRAIN_\" + str(index),\n",
    "                      #\"context\" : row.reason + \"[SEP]\" + row.judgement,\n",
    "                      \"context\" : row.judgement,\n",
    "                      \"qas\":[{\n",
    "                          \"question\" :\"?\",\n",
    "                          \"id\" : \"TRAIN_\" + str(index) + \"_QUERY_0\",\n",
    "                          \"answers\" :[{\n",
    "                              \"text\" : row.Situation,\n",
    "                              \"answer_start\" : row.judgement.index(row.Situation) #+ len(row.reason + \"[SET]\")\n",
    "                          }]\n",
    "                      }]\n",
    "                    }\n",
    "                    ]\n",
    "        d.id = \"TRAIN_\" + str(index)\n",
    "        d.title = row.no\n",
    "        djson1.data.append(d)\n",
    "    except:\n",
    "        print(index)\n",
    "        print(row.no)"
   ],
   "metadata": {
    "collapsed": false,
    "pycharm": {
     "name": "#%%\n"
    }
   }
  },
  {
   "cell_type": "code",
   "execution_count": 25,
   "outputs": [],
   "source": [
    "y = json.dumps(djson1, default=lambda o: o.__dict__, ensure_ascii=False)"
   ],
   "metadata": {
    "collapsed": false,
    "pycharm": {
     "name": "#%%\n"
    }
   }
  },
  {
   "cell_type": "code",
   "execution_count": 26,
   "outputs": [],
   "source": [
    "with open('./QA_Test1/HBert/dataR5/train_'+ str(train_num) + '_192X.json', 'w', encoding='utf8') as outfile:\n",
    "#with open('./QA_Test1/HBert/dataV3/train_'+ str(train_num) + '_Y.json', 'w', encoding='utf8') as outfile:\n",
    "    json.dump(djson1, outfile, default=lambda o: o.__dict__ , ensure_ascii=False)"
   ],
   "metadata": {
    "collapsed": false,
    "pycharm": {
     "name": "#%%\n"
    }
   }
  },
  {
   "cell_type": "code",
   "execution_count": 27,
   "outputs": [
    {
     "name": "stdout",
     "output_type": "stream",
     "text": [
      "15\n"
     ]
    }
   ],
   "source": [
    "str = '0000000-0000000'\n",
    "print(len(str))"
   ],
   "metadata": {
    "collapsed": false,
    "pycharm": {
     "name": "#%%\n"
    }
   }
  },
  {
   "cell_type": "code",
   "execution_count": 1,
   "outputs": [
    {
     "name": "stderr",
     "output_type": "stream",
     "text": [
      "Building prefix dict from the default dictionary ...\n",
      "Loading model from cache C:\\Users\\user\\AppData\\Local\\Temp\\jieba.cache\n",
      "Loading model cost 0.484 seconds.\n",
      "Prefix dict has been built successfully.\n"
     ]
    },
    {
     "name": "stdout",
     "output_type": "stream",
     "text": [
      "台北市 ns\n",
      "OO eng\n",
      "區 n\n",
      "OOOOO eng\n"
     ]
    }
   ],
   "source": [
    "import jieba.posseg as pseg\n",
    "words =pseg.cut(\"邱建豪於民國106年5月1日下午5時15分許，在桃園市○○區○○路000號桃園市政府警察局桃園分局埔子派出所內之值班臺，明知員警徐芳振係依法執行職務之公務員，因不滿員警告以所詢事項應向其他單位辦理，竟基於妨害公務員執行職務之犯意，至停於於派出所外之車輛內取出木盒，並返回派出所內，持該木盒敲打值班臺，而以此對物之強暴方式，妨害徐芳振執行公務。\")\n",
    "for w in words:\n",
    "    print(w.word,w.flag)"
   ],
   "metadata": {
    "collapsed": false,
    "pycharm": {
     "name": "#%%\n"
    }
   }
  }
 ],
 "metadata": {
  "kernelspec": {
   "display_name": "Python 3",
   "language": "python",
   "name": "python3"
  },
  "language_info": {
   "codemirror_mode": {
    "name": "ipython",
    "version": 3
   },
   "file_extension": ".py",
   "mimetype": "text/x-python",
   "name": "python",
   "nbconvert_exporter": "python",
   "pygments_lexer": "ipython3",
   "version": "3.6.4"
  }
 },
 "nbformat": 4,
 "nbformat_minor": 2
}