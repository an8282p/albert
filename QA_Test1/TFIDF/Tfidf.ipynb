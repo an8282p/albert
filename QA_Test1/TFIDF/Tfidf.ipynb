{
 "cells": [
  {
   "cell_type": "code",
   "execution_count": 1,
   "metadata": {
    "collapsed": true
   },
   "outputs": [],
   "source": [
    "import jieba\n",
    "import math\n",
    "import os\n",
    "import json\n",
    "import jieba.posseg as pseg\n",
    "\n",
    "from collections import OrderedDict"
   ]
  },
  {
   "cell_type": "code",
   "execution_count": 2,
   "outputs": [],
   "source": [
    "class TF_IDF():\n",
    "    def __init__(self):\n",
    "        self.docs = {}\n",
    "        self.seg_docs = self.get_seg_docs()\n",
    "        self.stopword = []\n",
    "        self.tf = []\n",
    "        self.df = {}\n",
    "        self.idf = {}\n",
    "        self.topK_idf = {}\n",
    "        self.bow = {}\n",
    "        self.cal_tfidf()\n",
    "\n",
    "    def read_file(self, path, type):\n",
    "        if type == 'json':\n",
    "            with open(path, 'r', encoding='utf-8') as file:\n",
    "                data = json.loads(file.read())\n",
    "        elif type == 'txt':\n",
    "            with open(path, 'r', encoding='utf-8') as file:\n",
    "                data = file.read()\n",
    "        return data\n",
    "\n",
    "    def get_seg_docs(self):\n",
    "        _seg_docs = []\n",
    "        FOLDER_NAME = 'data_tfidf'\n",
    "        DOCUMENT = 'data_4125_512.json'\n",
    "        STOPWORD = 'stopword.txt'\n",
    "        #FILE_DIR = os.path.join(os.path.split(os.path.realpath(__file__))[0], FOLDER_NAME)\n",
    "\n",
    "        self.docs = self.read_file('.\\\\' + FOLDER_NAME +'\\\\' + DOCUMENT, 'json')\n",
    "        self.stopword = self.read_file('.\\\\' + FOLDER_NAME + '\\\\' + STOPWORD, 'txt')\n",
    "        for i in range(len(self.docs)):\n",
    "            content_seg = [w for w in jieba.lcut(self.docs[i]['content']) if len(w) > 1 and w not in self.stopword and w.isalpha()]\n",
    "            _seg_docs.append(content_seg)\n",
    "        return _seg_docs\n",
    "    \"\"\"\n",
    "    計算tf,idf結果\n",
    "    tf:[{word1:3,word2:4,word4:2},{word2:5,word3:7, word4:2},{....},.......]\n",
    "    df:{word1:6個文檔,word2:3個文檔,word3:5個文檔,word4:4個文檔......}\n",
    "    idf:{word1:idf(word1),word2:idf(word2),word3:idf(word3)..........}\n",
    "    \"\"\"\n",
    "    def cal_tfidf(self):\n",
    "        for doc in self.seg_docs:\n",
    "            bow = {}\n",
    "            for word in doc:\n",
    "                if not word in bow:\n",
    "                    bow[word] = 0\n",
    "                bow[word] += 1\n",
    "            self.tf.append(bow)\n",
    "            for word, _ in bow.items():\n",
    "                if word not in self.df:\n",
    "                    self.df[word] = 0\n",
    "                self.df[word] += 1\n",
    "        for word, df in self.df.items():\n",
    "            #只出現過在一篇文檔的詞不要(選擇性)\n",
    "            if df < 2:\n",
    "                pass\n",
    "            else:\n",
    "                self.idf[word] = math.log10(len(self.seg_docs) / df)\n",
    "\n",
    "    def tf(self, index, word):\n",
    "        return self.tf[index][word]\n",
    "\n",
    "    def idf(self, word):\n",
    "        return self.idf[word]\n",
    "\n",
    "    def tf_idf(self, index, word):\n",
    "        return self.tf[index][word]*self.idf[word]\n",
    "\n",
    "    def get_topK_idf(self, k, reverse = True):\n",
    "        self.topK_idf = OrderedDict(sorted(self.idf.items(), key=lambda t: t[1], reverse = reverse)[:k])\n",
    "        return  self.topK_idf\n",
    "\n",
    "    def get_docment(self):\n",
    "        return self.docs\n",
    "\n",
    "    def get_title(self, index):\n",
    "        return self.docs[index]['title']\n",
    "\n",
    "    def get_content(self, index):\n",
    "        return self.docs[index]['content']\n",
    "\n",
    "    def set_bag_of_word(self, bow):\n",
    "        self.bow = bow\n",
    "\n",
    "    def get_text_vector(self, index):\n",
    "        return [1*self.tf_idf(index, w) if w in jieba.lcut(self.docs[index]['content']) else 0 for w in self.bow]\n",
    "\n",
    "    def cosine_similarity(self, v1, v2):\n",
    "        #compute cosine similarity of v1 to v2: (v1 dot v2)/{||v1||*||v2||)\n",
    "        sum_xx, sum_xy, sum_yy = 0.0, 0.0, 0.0\n",
    "        for i in range(0, len(v1)):\n",
    "            x, y = v1[i], v2[i]\n",
    "            sum_xx += math.pow(x, 2)\n",
    "            sum_yy += math.pow(y, 2)\n",
    "            sum_xy += x * y\n",
    "        try:\n",
    "            return sum_xy / math.sqrt(sum_xx * sum_yy)\n",
    "        except ZeroDivisionError:\n",
    "            return 0"
   ],
   "metadata": {
    "collapsed": false,
    "pycharm": {
     "name": "#%%\n"
    }
   }
  },
  {
   "cell_type": "code",
   "execution_count": 3,
   "outputs": [
    {
     "name": "stderr",
     "output_type": "stream",
     "text": [
      "Building prefix dict from the default dictionary ...\n",
      "Loading model from cache C:\\Users\\user\\AppData\\Local\\Temp\\jieba.cache\n",
      "Loading model cost 0.436 seconds.\n",
      "Prefix dict has been built succesfully.\n"
     ]
    }
   ],
   "source": [
    "tf_idf = TF_IDF()\n",
    "topK = tf_idf.get_topK_idf(50000, True)\n",
    "#保存bag of word\n",
    "tf_idf.set_bag_of_word(set(topK.keys()))\n",
    "#得到文章第1篇跟第11篇的向量\n",
    "vec1 = tf_idf.get_text_vector(0)\n",
    "vec2 = tf_idf.get_text_vector(10)\n",
    "#計算文件與文件的cosine similarity\n",
    "score1 = tf_idf.cosine_similarity(vec1, vec1)\n",
    "score2 = tf_idf.cosine_similarity(vec1, vec2)\n",
    "#print(topK, score1, score2)"
   ],
   "metadata": {
    "collapsed": false,
    "pycharm": {
     "name": "#%%\n"
    }
   }
  },
  {
   "cell_type": "code",
   "execution_count": 4,
   "outputs": [],
   "source": [
    "f = open(\"data_tfidf\\\\result.csv\", \"a\", encoding='UTF-8')\n",
    "f.write(\"詞,詞性,P\\n\")\n",
    "\n",
    "for k, v in topK.items():\n",
    "    try:\n",
    "        _k = str(k)\n",
    "        words = pseg.cut(_k)\n",
    "        n = \"\"\n",
    "        for _w in words:\n",
    "            n = _w.flag\n",
    "        s = _k + \",\" + n + \",\" + str(v) + \"\\n\"\n",
    "        f.write(s)\n",
    "    except Exception as e:\n",
    "        print(e)\n",
    "        continue\n",
    "\n",
    "f.close()"
   ],
   "metadata": {
    "collapsed": false,
    "pycharm": {
     "name": "#%%\n"
    }
   }
  },
  {
   "cell_type": "code",
   "execution_count": 5,
   "outputs": [
    {
     "name": "stdout",
     "output_type": "stream",
     "text": [
      "邱建豪於民國106年5月1日下午5時15分許，在桃園市○○區○○路000號桃園市政府警察局桃園分局埔子派出所內之值班臺，明知員警徐芳振係依法執行職務之公務員，因不滿員警告以所詢事項應向其他單位辦理，竟基於妨害公務員執行職務之犯意，至停於於派出所外之車輛內取出木盒，並返回派出所內，持該木盒敲打值班臺，而以此對物之強暴方式，妨害徐芳振執行公務。\n"
     ]
    }
   ],
   "source": [
    "print(tf_idf.get_content(0))"
   ],
   "metadata": {
    "collapsed": false,
    "pycharm": {
     "name": "#%%\n"
    }
   }
  },
  {
   "cell_type": "code",
   "execution_count": 6,
   "outputs": [],
   "source": [
    "#m 數字 t 時間 c 連詞\n",
    "#regex\n",
    "#/○{2,}/\n",
    "#/\\d{10}/\n",
    "#/[A-Z0-9]{2,3}\\-[A-Z0-9]{3,4}/ 車牌\n",
    "import jieba.posseg as pseg"
   ],
   "metadata": {
    "collapsed": false,
    "pycharm": {
     "name": "#%%\n"
    }
   }
  },
  {
   "cell_type": "code",
   "execution_count": 7,
   "outputs": [
    {
     "name": "stdout",
     "output_type": "stream",
     "text": [
      "被告 n\n"
     ]
    }
   ],
   "source": [
    "words =pseg.cut(tf_idf.get_content(1500))\n",
    "for w in words:\n",
    "    print(w.word,w.flag)\n",
    "    break\n"
   ],
   "metadata": {
    "collapsed": false,
    "pycharm": {
     "name": "#%%\n"
    }
   }
  },
  {
   "cell_type": "code",
   "execution_count": 7,
   "outputs": [],
   "source": [],
   "metadata": {
    "collapsed": false,
    "pycharm": {
     "name": "#%%\n"
    }
   }
  },
  {
   "cell_type": "code",
   "execution_count": 8,
   "outputs": [],
   "source": [
    "import numpy as np\n",
    "import pandas as pd\n",
    "import re\n",
    "from datetime import datetime\n",
    "\n",
    "#my_regex = \"\\（.*?\\）|\\(([^\\)0-9零一二三四五六七八九十]?|[^\\).]{2,})\\)\"\n",
    "\n",
    "#tmpstr = '丙○○意圖為自己不法之所有，(甲)YY(假)XX(十一)(一)a(一一)b(一一一)c(年一)d(一年一)e(一一一年)A(9年)B(99年)C(999年)A(AAA)於民國105年10月8日晚間7時20分許，騎乘登記於不知情之王介平名下之車牌號碼000-000號普通重型機車，行經高雄市○○區○○○路000號前時，將口罩脫下遮掩車牌，自後靠近步行在人行道上之甲○○，趁甲○○不及防備之際，以左手徒手掠取甲○○右手持有之背包1只（內有現金新臺幣【下同】9500元、索尼牌ZR綠色及Xperformance金色行動電話共2具【IMEI：000000000000000、000000000000000號】、長夾1個、信用卡及金融卡共5張、國民身分證2張、國民健康保險卡1張、普通重型機車駕照1張、識別證2張等物）得手後逃逸。嗣因丙○○將背包內之現金取走後，將背包棄置在高雄市鳳山區武營路某處，再經民眾在高雄市鳳山區衛武營附近拾獲上開背包（內有長夾1個、國民身分證2張、國民健康保險卡1張、信用卡3張、金融卡1張等物），遂送交警察機關發還甲○○領回。(二)於同年10月10日晚間11時5分許，騎乘向不知情之劉伊恩借用之車牌號碼000-0000號普通重型機車，行經高雄市○○區○○○路000號前時，使用口罩遮掩車牌，自後靠近步行在人行道上之少年乙○○（89年生，基於兒童及少年福利與權益保障法第69條第2項規定不得揭露足以識別少年身分之資訊，年籍詳卷），趁乙○○不及防備之際，以左手徒手掠取乙○○右手持有之背包1只（內有皮夾1只、現金3萬2000元、提款卡1張、國民身分證1張、國民健康保險卡1張等物）得手後逃逸，並將現金取出，其餘物品則丟棄。嗣為警循線於105年10月16日凌晨2時許，在高雄市○○區○○路000巷00號前查獲，並扣得現金2600元。'\n",
    "#print((tmpstr))\n",
    "#print(len(tmpstr))\n",
    "#print((re.sub(my_regex, \"\", tmpstr)))\n",
    "#print(len(re.sub(my_regex, \"\", tmpstr)))"
   ],
   "metadata": {
    "collapsed": false,
    "pycharm": {
     "name": "#%%\n"
    }
   }
  },
  {
   "cell_type": "code",
   "execution_count": 9,
   "outputs": [
    {
     "data": {
      "text/plain": "[3.3143939572219625]"
     },
     "execution_count": 9,
     "metadata": {},
     "output_type": "execute_result"
    }
   ],
   "source": [
    "dt_idf = pd.read_csv(\"data_tfidf\\\\result.csv\", encoding='utf8')\n",
    "dt_idf = dt_idf[dt_idf[\"P\"] > 1].drop(columns=['詞性']).set_index('詞').T.to_dict('list')\n",
    "dt_idf['豐樂']"
   ],
   "metadata": {
    "collapsed": false,
    "pycharm": {
     "name": "#%%\n"
    }
   }
  },
  {
   "cell_type": "code",
   "execution_count": 9,
   "outputs": [],
   "source": [],
   "metadata": {
    "collapsed": false,
    "pycharm": {
     "name": "#%%\n"
    }
   }
  },
  {
   "cell_type": "code",
   "execution_count": 10,
   "outputs": [
    {
     "data": {
      "text/plain": "       court                       date           no sys reason type  \\\nid                                                                     \n0   臺灣桃園地方法院  2018-04-18T00:00:00+08:00   106,易,1093  刑事   妨害公務   判決   \n2   臺灣臺中地方法院  2011-01-25T00:00:00+08:00  100,中交簡,100  刑事   公共危險   判決   \n\n                                             mainText  \\\nid                                                      \n0             邱建豪犯妨害公務執行罪，累犯，處拘役拾日，如易科罰金，以新臺幣壹仟元折算壹日。   \n2   林耀明服用酒類，不能安全駕駛動力交通工具而駕駛，處拘役伍拾伍日，如易科罰金，以新臺幣壹仟元折...   \n\n                                            judgement  \\\nid                                                      \n0   臺灣桃園地方法院刑事判決106年度易字第1093號公訴人臺灣桃園地方法院檢察署檢察官被告邱建...   \n2   臺灣臺中地方法院刑事簡易判決100年度中交簡字第100號聲請人臺灣臺中地方法院檢察署檢察官被...   \n\n                                            Situation  \nid                                                     \n0   邱建豪於民國106年5月1日下午5時15分許，在桃園市○○區○○路000號桃園市政府警察局桃...  \n2   林耀明於民國99年10月22日下午4時許起至5時許止，在臺中市○○區○○路與豐樂路交岔路口附...  ",
      "text/html": "<div>\n<style scoped>\n    .dataframe tbody tr th:only-of-type {\n        vertical-align: middle;\n    }\n\n    .dataframe tbody tr th {\n        vertical-align: top;\n    }\n\n    .dataframe thead th {\n        text-align: right;\n    }\n</style>\n<table border=\"1\" class=\"dataframe\">\n  <thead>\n    <tr style=\"text-align: right;\">\n      <th></th>\n      <th>court</th>\n      <th>date</th>\n      <th>no</th>\n      <th>sys</th>\n      <th>reason</th>\n      <th>type</th>\n      <th>mainText</th>\n      <th>judgement</th>\n      <th>Situation</th>\n    </tr>\n    <tr>\n      <th>id</th>\n      <th></th>\n      <th></th>\n      <th></th>\n      <th></th>\n      <th></th>\n      <th></th>\n      <th></th>\n      <th></th>\n      <th></th>\n    </tr>\n  </thead>\n  <tbody>\n    <tr>\n      <td>0</td>\n      <td>臺灣桃園地方法院</td>\n      <td>2018-04-18T00:00:00+08:00</td>\n      <td>106,易,1093</td>\n      <td>刑事</td>\n      <td>妨害公務</td>\n      <td>判決</td>\n      <td>邱建豪犯妨害公務執行罪，累犯，處拘役拾日，如易科罰金，以新臺幣壹仟元折算壹日。</td>\n      <td>臺灣桃園地方法院刑事判決106年度易字第1093號公訴人臺灣桃園地方法院檢察署檢察官被告邱建...</td>\n      <td>邱建豪於民國106年5月1日下午5時15分許，在桃園市○○區○○路000號桃園市政府警察局桃...</td>\n    </tr>\n    <tr>\n      <td>2</td>\n      <td>臺灣臺中地方法院</td>\n      <td>2011-01-25T00:00:00+08:00</td>\n      <td>100,中交簡,100</td>\n      <td>刑事</td>\n      <td>公共危險</td>\n      <td>判決</td>\n      <td>林耀明服用酒類，不能安全駕駛動力交通工具而駕駛，處拘役伍拾伍日，如易科罰金，以新臺幣壹仟元折...</td>\n      <td>臺灣臺中地方法院刑事簡易判決100年度中交簡字第100號聲請人臺灣臺中地方法院檢察署檢察官被...</td>\n      <td>林耀明於民國99年10月22日下午4時許起至5時許止，在臺中市○○區○○路與豐樂路交岔路口附...</td>\n    </tr>\n  </tbody>\n</table>\n</div>"
     },
     "execution_count": 10,
     "metadata": {},
     "output_type": "execute_result"
    }
   ],
   "source": [
    "df=pd.read_csv('..//STBert//data//Result_Sbert.csv', index_col=0)\n",
    "#df=pd.read_csv('.//data//Result_R5.csv', index_col=0)\n",
    "df.head(2)"
   ],
   "metadata": {
    "collapsed": false,
    "pycharm": {
     "name": "#%%\n"
    }
   }
  },
  {
   "cell_type": "code",
   "execution_count": 11,
   "outputs": [
    {
     "data": {
      "text/plain": "公共危險      347\n毀損        329\n妨害公務      320\n妨害名譽      308\n妨害自由      266\n傷害        242\n侵占        231\n搶奪        220\n過失傷害      216\n竊盜        204\n殺人未遂      202\n妨害風化      190\n著作權法      190\n偽造文書      171\n妨害性自主     168\n詐欺        159\n強盜        141\n毒品危害       65\n毀棄損壞       38\n殺人         37\n過失致死        7\n貪污          6\n賭博          6\n槍砲彈藥刀械      5\n醫師法         3\n商標法         2\n藥事法         2\n替代役實施       1\n偽證          1\nName: reason, dtype: int64"
     },
     "execution_count": 11,
     "metadata": {},
     "output_type": "execute_result"
    }
   ],
   "source": [
    "df['reason'] = df['reason'].str.replace('等','')\n",
    "df['reason'] = df['reason'].str.replace('罪','')\n",
    "df['reason'] = df['reason'].str.replace(\"條例\",\"\")\n",
    "df['reason'] = df['reason'].str.replace(\"防制\",\"\")\n",
    "df['reason'] = df['reason'].str.replace(\"管制\",\"\")\n",
    "df['reason'] = df['reason'].str.replace(\"違反\",\"\")\n",
    "df.loc[:,'reason'].value_counts()"
   ],
   "metadata": {
    "collapsed": false,
    "pycharm": {
     "name": "#%%\n"
    }
   }
  },
  {
   "cell_type": "code",
   "execution_count": 12,
   "outputs": [],
   "source": [
    "my_regex = r\"[\\(\\（]([^一二三四五六七八九零十1234567890]{1}[^\\)\\）]+|[一二三四五六七八九零十1234567890]{1}[^\\)\\）]{1,})[\\)\\）]\"\n",
    "df['Situation'] = df['Situation'].str.replace(my_regex, \"\")\n",
    "#/○{2,}/\n",
    "regex1 = r\"/○{2,}\"\n",
    "df['Situation'] = df['Situation'].str.replace(regex1, \"\")\n",
    "\n",
    "#/\\d{10}/\n",
    "regex2 = r\"\\d{10}\"\n",
    "df['Situation'] = df['Situation'].str.replace(regex2, \"\")\n",
    "\n",
    "#/[A-Z0-9]{2,3}\\-[A-Z0-9]{3,4}/ 車牌\n",
    "regex3 = r\"[A-Z0-9]{2,3}\\-[A-Z0-9]{3,4}\"\n",
    "df['Situation'] = df['Situation'].str.replace(regex3, \"\")"
   ],
   "metadata": {
    "collapsed": false,
    "pycharm": {
     "name": "#%%\n"
    }
   }
  },
  {
   "cell_type": "code",
   "execution_count": 13,
   "outputs": [
    {
     "name": "stdout",
     "output_type": "stream",
     "text": [
      "1000  =>  2020-11-04 23:35:49.790867\n",
      "2000  =>  2020-11-04 23:37:27.311297\n",
      "3000  =>  2020-11-04 23:39:11.937401\n",
      "4000  =>  2020-11-04 23:40:39.760021\n"
     ]
    },
    {
     "data": {
      "text/plain": "       court                       date           no sys reason type  \\\nid                                                                     \n0   臺灣桃園地方法院  2018-04-18T00:00:00+08:00   106,易,1093  刑事   妨害公務   判決   \n2   臺灣臺中地方法院  2011-01-25T00:00:00+08:00  100,中交簡,100  刑事   公共危險   判決   \n\n                                             mainText  \\\nid                                                      \n0             邱建豪犯妨害公務執行罪，累犯，處拘役拾日，如易科罰金，以新臺幣壹仟元折算壹日。   \n2   林耀明服用酒類，不能安全駕駛動力交通工具而駕駛，處拘役伍拾伍日，如易科罰金，以新臺幣壹仟元折...   \n\n                                            judgement  \\\nid                                                      \n0   臺灣桃園地方法院刑事判決106年度易字第1093號公訴人臺灣桃園地方法院檢察署檢察官被告邱建...   \n2   臺灣臺中地方法院刑事簡易判決100年度中交簡字第100號聲請人臺灣臺中地方法院檢察署檢察官被...   \n\n                                            Situation  \nid                                                     \n0   邱建豪於民國時分許，在桃園市○○區○○路桃園市埔子內之臺，明知員警徐芳振係執行之，因不滿員警...  \n2   林耀明於民國時許時，在臺中市○○區○○路與路之，與後，已達不能駕駛之，猶於同時許，駕駛車牌號...  ",
      "text/html": "<div>\n<style scoped>\n    .dataframe tbody tr th:only-of-type {\n        vertical-align: middle;\n    }\n\n    .dataframe tbody tr th {\n        vertical-align: top;\n    }\n\n    .dataframe thead th {\n        text-align: right;\n    }\n</style>\n<table border=\"1\" class=\"dataframe\">\n  <thead>\n    <tr style=\"text-align: right;\">\n      <th></th>\n      <th>court</th>\n      <th>date</th>\n      <th>no</th>\n      <th>sys</th>\n      <th>reason</th>\n      <th>type</th>\n      <th>mainText</th>\n      <th>judgement</th>\n      <th>Situation</th>\n    </tr>\n    <tr>\n      <th>id</th>\n      <th></th>\n      <th></th>\n      <th></th>\n      <th></th>\n      <th></th>\n      <th></th>\n      <th></th>\n      <th></th>\n      <th></th>\n    </tr>\n  </thead>\n  <tbody>\n    <tr>\n      <td>0</td>\n      <td>臺灣桃園地方法院</td>\n      <td>2018-04-18T00:00:00+08:00</td>\n      <td>106,易,1093</td>\n      <td>刑事</td>\n      <td>妨害公務</td>\n      <td>判決</td>\n      <td>邱建豪犯妨害公務執行罪，累犯，處拘役拾日，如易科罰金，以新臺幣壹仟元折算壹日。</td>\n      <td>臺灣桃園地方法院刑事判決106年度易字第1093號公訴人臺灣桃園地方法院檢察署檢察官被告邱建...</td>\n      <td>邱建豪於民國時分許，在桃園市○○區○○路桃園市埔子內之臺，明知員警徐芳振係執行之，因不滿員警...</td>\n    </tr>\n    <tr>\n      <td>2</td>\n      <td>臺灣臺中地方法院</td>\n      <td>2011-01-25T00:00:00+08:00</td>\n      <td>100,中交簡,100</td>\n      <td>刑事</td>\n      <td>公共危險</td>\n      <td>判決</td>\n      <td>林耀明服用酒類，不能安全駕駛動力交通工具而駕駛，處拘役伍拾伍日，如易科罰金，以新臺幣壹仟元折...</td>\n      <td>臺灣臺中地方法院刑事簡易判決100年度中交簡字第100號聲請人臺灣臺中地方法院檢察署檢察官被...</td>\n      <td>林耀明於民國時許時，在臺中市○○區○○路與路之，與後，已達不能駕駛之，猶於同時許，駕駛車牌號...</td>\n    </tr>\n  </tbody>\n</table>\n</div>"
     },
     "execution_count": 13,
     "metadata": {},
     "output_type": "execute_result"
    }
   ],
   "source": [
    "run = 0\n",
    "for index, row in df.iterrows():\n",
    "    try:\n",
    "        words =pseg.cut(row.Situation)\n",
    "        seq = ''\n",
    "        for w, l in words:\n",
    "            if (w in dt_idf):\n",
    "                continue\n",
    "            elif (l in ('m', 't', 'c')):\n",
    "                continue\n",
    "            else:\n",
    "                seq += w\n",
    "        df.loc[index, 'Situation'] = seq\n",
    "        run += 1\n",
    "        if (run % 1000 == 0):\n",
    "            today = datetime.now()\n",
    "            print(run, ' => ', today)\n",
    "    except:\n",
    "        continue\n",
    "\n",
    "df.head(2)"
   ],
   "metadata": {
    "collapsed": false,
    "pycharm": {
     "name": "#%%\n"
    }
   }
  },
  {
   "cell_type": "code",
   "execution_count": 14,
   "outputs": [],
   "source": [
    "df.to_csv(\"data_tfidf\\\\result1.csv\", index=0)"
   ],
   "metadata": {
    "collapsed": false,
    "pycharm": {
     "name": "#%%\n"
    }
   }
  },
  {
   "cell_type": "code",
   "execution_count": 14,
   "outputs": [],
   "source": [],
   "metadata": {
    "collapsed": false,
    "pycharm": {
     "name": "#%%\n"
    }
   }
  }
 ],
 "metadata": {
  "kernelspec": {
   "display_name": "Python 3",
   "language": "python",
   "name": "python3"
  },
  "language_info": {
   "codemirror_mode": {
    "name": "ipython",
    "version": 2
   },
   "file_extension": ".py",
   "mimetype": "text/x-python",
   "name": "python",
   "nbconvert_exporter": "python",
   "pygments_lexer": "ipython2",
   "version": "2.7.6"
  }
 },
 "nbformat": 4,
 "nbformat_minor": 0
}