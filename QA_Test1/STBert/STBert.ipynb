{
 "cells": [
  {
   "cell_type": "code",
   "execution_count": 1,
   "metadata": {
    "pycharm": {
     "name": "#%%\n"
    }
   },
   "outputs": [],
   "source": [
    "import numpy as np\n",
    "import pandas as pd\n",
    "import re\n",
    "#my_regex = \"\\（.*?\\）|\\(.*?\\)+\\(\\^一二三四五六七八九零十1234567890\\)\\]\"\n",
    "my_regex = r\"[\\(\\（]([^一二三四五六七八九零十1234567890]{1}[^\\)\\）]+|[一二三四五六七八九零十1234567890]{1}[^\\)\\）]{1,})[\\)\\）]\""
   ]
  },
  {
   "cell_type": "code",
   "execution_count": 2,
   "outputs": [
    {
     "data": {
      "text/plain": "       court                       date            no sys reason type  \\\nid                                                                      \n0   臺灣桃園地方法院  2018-04-18T00:00:00+08:00    106,易,1093  刑事   妨害公務   判決   \n1   臺灣臺中地方法院  2011-05-19T00:00:00+08:00  100,中交簡,1002  刑事   公共危險   判決   \n\n                                             mainText  \\\nid                                                      \n0             邱建豪犯妨害公務執行罪，累犯，處拘役拾日，如易科罰金，以新臺幣壹仟元折算壹日。   \n1   王炎權服用酒類，不能安全駕駛動力交通工具而駕駛，處拘役伍拾日，如易科罰金，以新臺幣壹仟元折算壹日。   \n\n                                            judgement  \\\nid                                                      \n0   臺灣桃園地方法院刑事判決106年度易字第1093號公訴人臺灣桃園地方法院檢察署檢察官被告邱建...   \n1   臺灣臺中地方法院刑事簡易判決100年度中交簡字第1002號聲請人臺灣臺中地方法院檢察署檢察官...   \n\n                                            Situation  \nid                                                     \n0   邱建豪於民國106年5月1日下午5時15分許，在桃園市○○區○○路000號桃園市政府警察局桃...  \n1   王炎權於民國100年4月8日晚間9時30分許起至翌日凌晨3時許止，在彰化縣芬園鄉○○路○段2...  ",
      "text/html": "<div>\n<style scoped>\n    .dataframe tbody tr th:only-of-type {\n        vertical-align: middle;\n    }\n\n    .dataframe tbody tr th {\n        vertical-align: top;\n    }\n\n    .dataframe thead th {\n        text-align: right;\n    }\n</style>\n<table border=\"1\" class=\"dataframe\">\n  <thead>\n    <tr style=\"text-align: right;\">\n      <th></th>\n      <th>court</th>\n      <th>date</th>\n      <th>no</th>\n      <th>sys</th>\n      <th>reason</th>\n      <th>type</th>\n      <th>mainText</th>\n      <th>judgement</th>\n      <th>Situation</th>\n    </tr>\n    <tr>\n      <th>id</th>\n      <th></th>\n      <th></th>\n      <th></th>\n      <th></th>\n      <th></th>\n      <th></th>\n      <th></th>\n      <th></th>\n      <th></th>\n    </tr>\n  </thead>\n  <tbody>\n    <tr>\n      <td>0</td>\n      <td>臺灣桃園地方法院</td>\n      <td>2018-04-18T00:00:00+08:00</td>\n      <td>106,易,1093</td>\n      <td>刑事</td>\n      <td>妨害公務</td>\n      <td>判決</td>\n      <td>邱建豪犯妨害公務執行罪，累犯，處拘役拾日，如易科罰金，以新臺幣壹仟元折算壹日。</td>\n      <td>臺灣桃園地方法院刑事判決106年度易字第1093號公訴人臺灣桃園地方法院檢察署檢察官被告邱建...</td>\n      <td>邱建豪於民國106年5月1日下午5時15分許，在桃園市○○區○○路000號桃園市政府警察局桃...</td>\n    </tr>\n    <tr>\n      <td>1</td>\n      <td>臺灣臺中地方法院</td>\n      <td>2011-05-19T00:00:00+08:00</td>\n      <td>100,中交簡,1002</td>\n      <td>刑事</td>\n      <td>公共危險</td>\n      <td>判決</td>\n      <td>王炎權服用酒類，不能安全駕駛動力交通工具而駕駛，處拘役伍拾日，如易科罰金，以新臺幣壹仟元折算壹日。</td>\n      <td>臺灣臺中地方法院刑事簡易判決100年度中交簡字第1002號聲請人臺灣臺中地方法院檢察署檢察官...</td>\n      <td>王炎權於民國100年4月8日晚間9時30分許起至翌日凌晨3時許止，在彰化縣芬園鄉○○路○段2...</td>\n    </tr>\n  </tbody>\n</table>\n</div>"
     },
     "execution_count": 2,
     "metadata": {},
     "output_type": "execute_result"
    }
   ],
   "source": [
    "df=pd.read_csv('.//data//Result_TFIDF.csv', index_col=0)\n",
    "df.head(2)"
   ],
   "metadata": {
    "collapsed": false,
    "pycharm": {
     "name": "#%%\n"
    }
   }
  },
  {
   "cell_type": "code",
   "execution_count": 3,
   "metadata": {
    "pycharm": {
     "name": "#%%\n"
    }
   },
   "outputs": [
    {
     "data": {
      "text/plain": "        court                       date           no sys reason type  \\\nid                                                                      \n522  臺灣臺中地方法院  2017-02-06T00:00:00+08:00  105,中簡,1134  刑事     傷害   判決   \n901  臺灣臺中地方法院  2017-06-21T00:00:00+08:00    105,原易,51  刑事     傷害   判決   \n\n                                    mainText  \\\nid                                             \n522         易佳騰犯傷害罪，處拘役拾日，如易科罰金，以新臺幣壹仟元折算壹日。   \n901  宋約翰傷害人之身體，累犯，處有期徒刑肆月，如易科罰金，以新臺幣壹仟元折算壹日。   \n\n                                             judgement  \\\nid                                                       \n522  臺灣臺中地方法院刑事簡易判決105年度中簡字第1134號聲請人臺灣臺中地方法院檢察署檢察官被...   \n901  臺灣臺中地方法院刑事判決105年度原易字第51號公訴人臺灣臺中地方法院檢察署檢察官被告宋約翰...   \n\n                                             Situation  \nid                                                      \n522  易佳騰於民國103年12月30日22時53分許，在臺中市○○區○○街000號，因工程款糾紛與...  \n901  宋約翰前於民國103年間因公共危險案件，經本院以103年度中交簡字第3997號判決判處有期徒...  ",
      "text/html": "<div>\n<style scoped>\n    .dataframe tbody tr th:only-of-type {\n        vertical-align: middle;\n    }\n\n    .dataframe tbody tr th {\n        vertical-align: top;\n    }\n\n    .dataframe thead th {\n        text-align: right;\n    }\n</style>\n<table border=\"1\" class=\"dataframe\">\n  <thead>\n    <tr style=\"text-align: right;\">\n      <th></th>\n      <th>court</th>\n      <th>date</th>\n      <th>no</th>\n      <th>sys</th>\n      <th>reason</th>\n      <th>type</th>\n      <th>mainText</th>\n      <th>judgement</th>\n      <th>Situation</th>\n    </tr>\n    <tr>\n      <th>id</th>\n      <th></th>\n      <th></th>\n      <th></th>\n      <th></th>\n      <th></th>\n      <th></th>\n      <th></th>\n      <th></th>\n      <th></th>\n    </tr>\n  </thead>\n  <tbody>\n    <tr>\n      <td>522</td>\n      <td>臺灣臺中地方法院</td>\n      <td>2017-02-06T00:00:00+08:00</td>\n      <td>105,中簡,1134</td>\n      <td>刑事</td>\n      <td>傷害</td>\n      <td>判決</td>\n      <td>易佳騰犯傷害罪，處拘役拾日，如易科罰金，以新臺幣壹仟元折算壹日。</td>\n      <td>臺灣臺中地方法院刑事簡易判決105年度中簡字第1134號聲請人臺灣臺中地方法院檢察署檢察官被...</td>\n      <td>易佳騰於民國103年12月30日22時53分許，在臺中市○○區○○街000號，因工程款糾紛與...</td>\n    </tr>\n    <tr>\n      <td>901</td>\n      <td>臺灣臺中地方法院</td>\n      <td>2017-06-21T00:00:00+08:00</td>\n      <td>105,原易,51</td>\n      <td>刑事</td>\n      <td>傷害</td>\n      <td>判決</td>\n      <td>宋約翰傷害人之身體，累犯，處有期徒刑肆月，如易科罰金，以新臺幣壹仟元折算壹日。</td>\n      <td>臺灣臺中地方法院刑事判決105年度原易字第51號公訴人臺灣臺中地方法院檢察署檢察官被告宋約翰...</td>\n      <td>宋約翰前於民國103年間因公共危險案件，經本院以103年度中交簡字第3997號判決判處有期徒...</td>\n    </tr>\n  </tbody>\n</table>\n</div>"
     },
     "execution_count": 3,
     "metadata": {},
     "output_type": "execute_result"
    }
   ],
   "source": [
    "test=  pd.read_csv('.//data//Result_Test.csv', index_col=0)\n",
    "test.head(2)"
   ]
  },
  {
   "cell_type": "code",
   "execution_count": 4,
   "metadata": {
    "pycharm": {
     "name": "#%%\n"
    }
   },
   "outputs": [
    {
     "name": "stderr",
     "output_type": "stream",
     "text": [
      "c:\\users\\user\\pycharmprojects\\pytorch\\venv\\lib\\site-packages\\ipykernel_launcher.py:2: SettingWithCopyWarning: \n",
      "A value is trying to be set on a copy of a slice from a DataFrame.\n",
      "Try using .loc[row_indexer,col_indexer] = value instead\n",
      "\n",
      "See the caveats in the documentation: http://pandas.pydata.org/pandas-docs/stable/user_guide/indexing.html#returning-a-view-versus-a-copy\n",
      "  \n",
      "c:\\users\\user\\pycharmprojects\\pytorch\\venv\\lib\\site-packages\\ipykernel_launcher.py:3: SettingWithCopyWarning: \n",
      "A value is trying to be set on a copy of a slice from a DataFrame.\n",
      "Try using .loc[row_indexer,col_indexer] = value instead\n",
      "\n",
      "See the caveats in the documentation: http://pandas.pydata.org/pandas-docs/stable/user_guide/indexing.html#returning-a-view-versus-a-copy\n",
      "  This is separate from the ipykernel package so we can avoid doing imports until\n",
      "c:\\users\\user\\pycharmprojects\\pytorch\\venv\\lib\\site-packages\\ipykernel_launcher.py:4: SettingWithCopyWarning: \n",
      "A value is trying to be set on a copy of a slice from a DataFrame.\n",
      "Try using .loc[row_indexer,col_indexer] = value instead\n",
      "\n",
      "See the caveats in the documentation: http://pandas.pydata.org/pandas-docs/stable/user_guide/indexing.html#returning-a-view-versus-a-copy\n",
      "  after removing the cwd from sys.path.\n"
     ]
    }
   ],
   "source": [
    "df1 = df[~df['no'].isin(test['no'])]\n",
    "df1['reason'] = df1['reason'].str.replace('等','')\n",
    "df1['reason'] = df1['reason'].str.replace(\"條例\",\"\")\n",
    "df1['reason'] = df1['reason'].str.replace(\"違反\",\"\")\n",
    "#df1['Situation'] = df1['Situation'].str.replace(my_regex, \"\")\n",
    "#ierror = 0\n",
    "#for index, row in df1.iterrows():\n",
    "#    if (row.Situation != row.Situation2):\n",
    "#        print (index, \"\\n\", row.Situation, \"\\n\", row.Situation2)\n",
    "#        ierror += 1\n",
    "#        if (ierror > 5):\n",
    "#            break"
   ]
  },
  {
   "cell_type": "code",
   "execution_count": 5,
   "metadata": {
    "pycharm": {
     "name": "#%%\n"
    }
   },
   "outputs": [
    {
     "name": "stderr",
     "output_type": "stream",
     "text": [
      "Exception when trying to download https://sbert.net/models/bert-base-chinese.zip. Response 404\n",
      "WARNING:root:SentenceTransformer-Model https://sbert.net/models/bert-base-chinese.zip not found. Try to create it from scratch\n",
      "WARNING:root:Try to create Transformer Model bert-base-chinese with mean pooling\n"
     ]
    }
   ],
   "source": [
    "from sentence_transformers import SentenceTransformer, util\n",
    "embedder=SentenceTransformer('bert-base-chinese')\n",
    "\n",
    "import pandas as pd\n",
    "import time\n",
    "tStart = time.time()"
   ]
  },
  {
   "cell_type": "code",
   "execution_count": 6,
   "metadata": {
    "pycharm": {
     "name": "#%%\n"
    }
   },
   "outputs": [],
   "source": [
    "class Data(object):\n",
    "    def __init__(self):\n",
    "        self.no = \"0\"\n",
    "        self.reason = \"\"\n",
    "        self.Situation = \"\""
   ]
  },
  {
   "cell_type": "code",
   "execution_count": 7,
   "metadata": {
    "pycharm": {
     "name": "#%%\n"
    }
   },
   "outputs": [
    {
     "name": "stdout",
     "output_type": "stream",
     "text": [
      "\n",
      "3537\n"
     ]
    }
   ],
   "source": [
    "#embedder  SentenceTransformer('distilbert-base-nli-stsb-mean-tokens')\n",
    "\n",
    "# Corpus with example sentences\n",
    "#corpus  ['A man is eating food.',\n",
    "#          'A man is eating a piece of bread.',\n",
    "#          'The girl is carrying a baby.',\n",
    "#          'A man is riding a horse.',\n",
    "#          'A woman is playing violin.',\n",
    "#          'Two men pushed carts through the woods.',\n",
    "#          'A man is riding a white horse on an enclosed ground.',\n",
    "#          'A monkey is playing drums.',\n",
    "#          'A cheetah is running behind its prey.'\n",
    "#          ]\n",
    "corpus = []\n",
    "corpusList = []\n",
    "for index, row in df1.iterrows():\n",
    "    if (row.Situation == None):\n",
    "        continue\n",
    "    if (isinstance(row.Situation, float)):\n",
    "        continue\n",
    "    if (len(row.Situation) == 0):\n",
    "        continue\n",
    "    if (index == 5):\n",
    "        print()\n",
    "    d = Data()\n",
    "    d.no = row.no\n",
    "    d.reason = row.reason\n",
    "    d.Situation = row.Situation\n",
    "    corpusList.append(d)\n",
    "    corpus.append(row.Situation)\n",
    "corpus_embeddings = embedder.encode(corpus, convert_to_tensor=True)\n",
    "print(len(corpus))"
   ]
  },
  {
   "cell_type": "code",
   "execution_count": 8,
   "metadata": {
    "pycharm": {
     "name": "#%%\n"
    }
   },
   "outputs": [
    {
     "name": "stdout",
     "output_type": "stream",
     "text": [
      "轉向量時間 23.629833 sec\n"
     ]
    }
   ],
   "source": [
    "tEnd = time.time()#計時結束\n",
    "#列印結果\n",
    "print(\"轉向量時間\", \"%f sec\" % (tEnd - tStart))"
   ]
  },
  {
   "cell_type": "code",
   "execution_count": 9,
   "metadata": {
    "pycharm": {
     "name": "#%%\n"
    }
   },
   "outputs": [
    {
     "name": "stdout",
     "output_type": "stream",
     "text": [
      "22\n"
     ]
    }
   ],
   "source": [
    "# Query sentences:\n",
    "#queries  ['A man is eating pasta.', 'Someone in a gorilla costume is playing a set of drums.', 'A cheetah chases prey on across a field.']\n",
    "queries = []\n",
    "specialtest  ='詎其猶不知悔改，復基於意圖為自己不法所有之竊盜犯意，於102年7月5日上午6時許（起訴書誤載為5時許），見林振億位於高雄市○○區○○街000號之住處大門未上鎖，竟未經允准侵入上開住宅內，徒手竊取行動電話5支、無線電3支、數位相機1臺及存錢筒1個（內有現金約新臺幣【下同】4,000元，上開物品共計價值47,000元），得手後離去；嗣經林振億發現遭竊後報警，為警在現場採得指紋後送鑑定後，結果與邱東成之指紋相符，而查悉上情。'\n",
    "#specialtest = re.sub(my_regex, \"\", specialtest)\n",
    "queries.append(specialtest)\n",
    "for index, row in test.iterrows():\n",
    "    queries.append(str(row.Situation))\n",
    "print(len(queries))"
   ]
  },
  {
   "cell_type": "code",
   "execution_count": 10,
   "metadata": {
    "pycharm": {
     "name": "#%%\n"
    }
   },
   "outputs": [
    {
     "name": "stdout",
     "output_type": "stream",
     "text": [
      "\n",
      "\n",
      "\n",
      "\n",
      "\n",
      "Query: 詎其猶不知悔改，復基於意圖為自己不法所有之竊盜犯意，於102年7月5日上午6時許（起訴書誤載為5時許），見林振億位於高雄市○○區○○街000號之住處大門未上鎖，竟未經允准侵入上開住宅內，徒手竊取行動電話5支、無線電3支、數位相機1臺及存錢筒1個（內有現金約新臺幣【下同】4,000元，上開物品共計價值47,000元），得手後離去；嗣經林振億發現遭竊後報警，為警在現場採得指紋後送鑑定後，結果與邱東成之指紋相符，而查悉上情。\n",
      "\n",
      "Top 5 most similar sentences in corpus:\n",
      "1    105,審易,1055 \t 竊盜 \t(Score: 0.9833)\n",
      "詎猶未悔改，復意圖為自己不法之所有，於100年3月18日17時30分前某時許，沿臺中市○○區○○路000號2樓之10林益宏住處陽臺外之鐵管攀爬進入陽臺後開啟未上鎖之窗戶，侵入該房屋內，徒手竊取林益宏所有之筆記型電腦1臺、撲滿1個【內約有現金新臺幣（下同）1000元至2000元之間】、手提包1只、數位相機與MP5各1臺（合計價值2萬9000元）等物，得手後除撲滿內之現金外，其餘財物均持往臺中火車站附近某不明舊貨攤商變賣，得款數千元，與撲滿內之現金均花用殆盡。嗣為警據報後，依其在上開房屋浴室內所留唾液跡證循線查獲。\n",
      "\n",
      "\n",
      "2    102,審訴,269 \t 搶奪 \t(Score: 0.9831)\n",
      "詎仍不知悔改，竟仍意圖為自己不法之所有，基於搶奪之犯意，於101年11月5日中午12時許，騎乘車牌號碼000-000號重型機車，行經桃園市○○○街00號新雅飯店前，見姚德慈獨自步行，認有機可乘，徒手搶奪姚德慈所有之手提包1個（內含有現金12,500元、行動電話1支、鑰匙1串、國民身分證1張、健保卡1張、汽車駕照1張、悠遊卡1張、中油加油卡1張、華南銀行信用卡1張、富邦銀行信用卡1張及提款卡2張等物，被害人均已領回），得手後旋即騎乘機車逃逸。嗣經警調閱監視器，循線於101年11月5日下午4時許，在桃園縣蘆竹鄉○○○路000號查獲，始悉上情。\n",
      "\n",
      "\n",
      "3    105,審易,1268 \t 竊盜 \t(Score: 0.9829)\n",
      "詎仍不知悔改，於99年12月27日凌晨3時許之夜間，行經陳幸慧位於臺中市○○區○○路00號住處前，發現該住處1樓落地鋁門窗未固定，認有機可趁，竟基於意圖為自己不法所有之竊盜犯意，徒手扳開該未固定之落地鋁門窗後進入屋內，竊取陳幸慧所有置於客廳皮包內之現金新臺幣（下同）5000元，得手後逃逸。嗣因陳幸慧發現失竊報警處理，為警於遺留現場之NIKE廠牌帽子之帽內採得之DNA比對結果，與陳宏裕建檔之DNA相符，而循線查悉上情。\n",
      "\n",
      "\n",
      "4    102,訴,1926 \t 搶奪 \t(Score: 0.9816)\n",
      "詎猶不知悔改，復意圖為自己不法之所有，基於搶奪之犯意，於102年10月2日晚間10時30分許，在新北市○○區○○路000○0號前，乘行人柯麗美不及防備之際，猝然徒手搶奪柯麗美所持有之皮包及其內財物（內有新臺幣2,700元、1張信用卡及3張悠遊卡）等物後，旋即朝新北市土城區學府路方向逃逸，進而騎乘車牌號碼000-000號重型機車離去。嗣經柯麗美報警處理，為警調閱事發地點附近監視器後，於同年月4日下午2時20分許循線查悉上情。\n",
      "\n",
      "\n",
      "COS相似計算時間 0.046874 sec\n",
      "\n",
      "\n",
      "\n",
      "\n",
      "\n",
      "Query: 易佳騰於民國103年12月30日22時53分許，在臺中市○○區○○街000號，因工程款糾紛與李佳樺發生爭執。易佳騰見李佳樺欲進入上址，因而屈肘於李佳樺之領口前，欲攔阻李佳樺，隨即並基於傷害之犯意，徒手推擠李佳樺，並以腳踹李佳樺之腿部，致李佳樺受有左大腿、小腿擦傷、左踝挫傷及左手挫傷等傷害。\n",
      "\n",
      "Top 5 most similar sentences in corpus:\n",
      "1    105,易,1017 \t 傷害 \t(Score: 0.9708)\n",
      "吳家軒與吳偉維為工作上之同事，其等於民國105年4月30日12時許，在臺南市○○區○○路0段000號對面工地旁之福利社發生爭執，吳家軒竟基於傷害之犯意，以手勒住吳偉維脖子，並將吳偉維頭部推向福利社遮雨棚之鋼架，再將吳偉維摔倒並壓制在地，致吳偉維受有頭部挫傷、前額紅腫擦傷、右膝及左足挫擦傷等傷害。嗣經吳偉維報警處理，為警查悉上情。\n",
      "\n",
      "\n",
      "2    105,審易,958 \t 傷害 \t(Score: 0.9698)\n",
      "被告張文成與廖明哲係鄰居，該2人於民國104年9月9日14時30分許，在廖明哲位於臺中市○區○○○路000巷0號住處門口道路上，因停車問題發生爭執，張文成竟基於傷害之犯意，徒手毆打廖明哲臉部，並將廖明哲推倒在地，致廖明哲受有臉、右肘及右腕、臀部挫傷等傷害。因認被告所為，係犯刑法第277條第1項之傷害罪嫌。\n",
      "\n",
      "\n",
      "3    105,中簡,1537 \t 傷害 \t(Score: 0.9696)\n",
      "洪振邦於民國104年11月1日上午6、7時許，至李東儒位於臺中市○○區○○路000巷0號住處前，向李東儒索討賒欠帳款，因李東儒堅決否認有何賒欠情形，洪振邦乃心生不滿，基於傷害之接續犯意，徒手毆打李東儒，致李東儒受有頭部挫傷、臉部及左足多處擦傷等傷害。嗣因鄰居陳麗蘭目睹上情，報警處理而循線查獲。\n",
      "\n",
      "\n",
      "4    105,中簡,867 \t 傷害 \t(Score: 0.9691)\n",
      "緣林瑞石與林介仁因界址問題，迭生爭議，彼此不睦，於105年2月4日下午3時20分許，林瑞石在臺中市○○區○○○路0段00號林介仁住處前，因故又與林介仁發生口角爭執，詎林瑞石竟基於傷害之犯意，徒手接續毆打林介仁頭部、臉部，致林介仁受有腦震盪、臉部挫傷及上唇撕裂傷約1公分長共2處、右眼結膜下出血、雙手肘擦挫傷、右手腕開放性傷口等傷害。經林介仁向臺灣臺中地方法院檢察署檢察官提出告訴，查悉上情。\n",
      "\n",
      "\n",
      "5    105,易,182 \t 傷害 \t(Score: 0.9689)\n",
      "朱明光於民國104年9月6日凌晨1時9分許，在臺南市○區○○路○段00號前，因故與前配偶王春花爭吵拉扯時，適林春琦路過該處，乃出言阻止，朱明光遂與林春琦發生爭執，因而心生不滿，基於傷害他人身體之犯意，徒手毆打林春琦之左臉頰一下，致林春琦受有頭部外傷併左嘴角及口腔內膜擦挫傷之傷害。\n",
      "\n",
      "\n"
     ]
    }
   ],
   "source": [
    "# Find the closest 5 sentences of the corpus for each query sentence based on cosine similarity\n",
    "top_k = 5\n",
    "i = 0\n",
    "show = 0\n",
    "\n",
    "for query in queries:\n",
    "    tStart2 = time.time()\n",
    "    query_embedding = embedder.encode(query, convert_to_tensor=True)\n",
    "    cos_scores = util.pytorch_cos_sim(query_embedding, corpus_embeddings)[0]\n",
    "    cos_scores = cos_scores.cpu()\n",
    "\n",
    "\n",
    "    #We use np.argpartition, to only partially sort the top_k results\n",
    "    top_results = np.argpartition(-cos_scores, range(top_k))[0:top_k]\n",
    "    print(\"\\n\\n\\n\\n\")\n",
    "    print(\"Query:\", query)\n",
    "    print(\"\\nTop 5 most similar sentences in corpus:\")\n",
    "\n",
    "    no = 1\n",
    "    for idx in top_results[0:top_k]:\n",
    "        if (corpus[idx] == specialtest):\n",
    "            continue\n",
    "        print(no, \"  \"\n",
    "              , corpusList[idx].no,\"\\t\"\n",
    "              ,  corpusList[idx].reason\n",
    "              , \"\\t(Score: %.4f)\" % (cos_scores[idx]))\n",
    "        if (len(corpus[idx].strip()[0:100]) > 100):\n",
    "            print (corpus[idx].strip()[0:100])\n",
    "        else:\n",
    "            print (corpus[idx].strip()[0:100])\n",
    "        print('\\n')\n",
    "        no = no + 1\n",
    "        show += 1\n",
    "    if (show > 5):break\n",
    "\n",
    "    tEnd2 = time.time()#計時結束\n",
    "    print(\"COS相似計算時間\", \"%f sec\" % (tEnd2 - tStart2))"
   ]
  },
  {
   "cell_type": "code",
   "execution_count": 11,
   "metadata": {
    "pycharm": {
     "name": "#%%\n"
    }
   },
   "outputs": [
    {
     "name": "stderr",
     "output_type": "stream",
     "text": [
      "Exception when trying to download https://sbert.net/models/bert-base-chinese.zip. Response 404\n",
      "WARNING:root:SentenceTransformer-Model https://sbert.net/models/bert-base-chinese.zip not found. Try to create it from scratch\n",
      "WARNING:root:Try to create Transformer Model bert-base-chinese with mean pooling\n"
     ]
    }
   ],
   "source": [
    "from sentence_transformers import SentenceTransformer\n",
    "from sklearn.cluster import KMeans\n",
    "embedder = SentenceTransformer('bert-base-chinese')\n",
    "corpus_embeddings = embedder.encode(corpus)\n",
    "# Then, we perform k-means clustering using sklearn:\n",
    "from sklearn.cluster import KMeans\n",
    "\n",
    "specialcls = -1\n",
    "\n",
    "num_clusters = 18\n",
    "clustering_model = KMeans(n_clusters=num_clusters)\n",
    "clustering_model.fit(corpus_embeddings)\n",
    "cluster_assignment = clustering_model.labels_"
   ]
  },
  {
   "cell_type": "code",
   "execution_count": 12,
   "metadata": {},
   "outputs": [
    {
     "name": "stdout",
     "output_type": "stream",
     "text": [
      "10\n",
      "Cluster  1\n",
      "被告蕭正吉基於賭博及意圖營利供給賭博場所、聚眾賭博之犯意，自民國99年12月間某日起，提供其位於臺中市○○區○○街184巷18號居處之公眾得出入之場所，聚集不特定多數人簽選號碼與之賭博財物，而經營「香\n",
      "\n",
      "Cluster  2\n",
      "詎其不知悔改，復基於賭博及意圖營利供給賭博場所、聚眾賭博之犯意，自民國100年1月25日起，提供其位在臺中市○○區○○路230號之公眾得出入之場所，聚集不特定多數人簽選號碼與之賭博財物。其賭法係賭客以\n",
      "\n",
      "Cluster  3\n",
      "王寬宏於民國100年2月16日上午9時55分許，駕駛車牌號碼TP-7158號自用小客車，沿臺南市○○區○○路由東往西方向行駛，行至復興路390號前時，本應注意汽車行駛時，駕駛人應注意車前狀況及兩車併行\n",
      "\n",
      "Cluster  4\n",
      "鍾信仁自民國100年5月初某日起，以每小時新臺幣（下同）200元之代價，受僱於真實姓名年籍均不詳綽號「安安」之成年女子所經營之應召站，擔任司機工作（即俗稱之車伕，並以其所有之門號0000000000號\n",
      "\n",
      "Cluster  5\n",
      "於九十九年十月六日某時許，在其位於臺南市○區○○街二段七九巷一四號之一之住處房間內，以將第一級毒品海洛因置入針筒內注射之方式，施用海洛因一次。另基於施用第二級毒品甲基安非他命之犯意，於同日某時許，在上\n",
      "\n",
      "Cluster  6\n",
      "於民國100年3月25日5時30分許，在臺中市南區永興5巷42號前，徒手竊取劉清智所有放置該處門口外之白鐵製水槽1個（價值約新臺幣「下同」2,000元），得手後，持往位於臺中市○里區○○○路1116巷\n",
      "\n",
      "Cluster  7\n",
      "被告柳慶揚意圖為自己不法之所有，於民國78年3月19日中午12時10分許，以治療牙痛為藉，至桃園縣楊梅鎮○○路000號東山牙科內就診，經謝亭龍以止痛藥予以止痛，並準備磨牙之際，竟取出預藏之水果刀1把，\n",
      "\n",
      "Cluster  8\n",
      "王炎權於民國100年4月8日晚間9時30分許起至翌日凌晨3時許止，在彰化縣芬園鄉○○路○段291巷15號之住處內飲酒後，已達不能安全駕駛動力交通工具之程度，竟仍駕駛車牌號碼為UJ-4775號自小客車上\n",
      "\n",
      "Cluster  9\n",
      "於99年12月15日中午12時許至同日23時45分前間之某時，在臺中市○○路140號前，以自備鑰匙插入電門啟動引擎後駛離之方式，竊取黃柑惠所有車牌號碼6L-7240號自小客車。嗣於同日23時45分許，\n",
      "\n",
      "Cluster  10\n",
      "林國銘可得而知FOXY檔案傳輸軟體，係一種以點對點（PeertoPeer，簡稱P2P）技術下載或傳輸檔案之程式，當使用者執行FOXY軟體下載單一檔案時，於下載完成前、後，分別會儲存於該軟體預設之暫存資\n",
      "\n",
      "Cluster  11\n",
      "被告陳守仁為高職畢業擔任保全之男子，竟不思以正常手段獲取財物，因一時貪念，以徒手竊取該超商內商品供己食用之犯罪動機、目的、手段、生活狀況、智識程度、所竊得物品價值新臺幣（下同）總共約821元\n",
      "\n",
      "Cluster  12\n",
      "於100年3月19日17時55分許，在臺中市○○區○○路19之2號前，徒手竊取陳柏緯所有，停放在該處之車牌號碼632-GXJ號普通重型機車之腳踏板上公事包1個（內有土地專任委託書1張、房屋專任委託書2\n",
      "\n",
      "Cluster  13\n",
      "詎劉晉昌意圖為自己不法之所有，基於竊盜之犯意，於100年7月27日上午9時至中午12時間之不詳時間（聲請簡易判決處刑書誤載為中午12時許，應予更正），趁其父親劉茂文不在家時，侵入其父親劉茂文所有位在建\n",
      "\n",
      "Cluster  14\n",
      "涂煌輝係原址設嘉義市○區○○路○○○號七樓（現變更為嘉義市○區○○路○段○○○號）之「振揚影音科技有限公司」（下稱振揚公司）之代表人，以提供伴唱歌曲之出租為業。涂煌輝明知非經音樂著作財產權人之授權，不\n",
      "\n",
      "Cluster  15\n",
      "林萬福前於民國98年間，因竊盜案件，經本院判處拘役20日、20日，應執行拘役30日確定，甫於98年12月26日易服社會勞動執行完畢（本件不構成累犯），詎其猶不知悔改，於99年10月27日上午10時50\n",
      "\n",
      "Cluster  16\n",
      "劉子昇於民國99年1月11日23時15分許，駕駛車牌號碼ZD－5993號自用小客車，沿臺南市○○區○○路，由北往南方向行駛，行經臺南市○○區○○路與公學路間之交岔路口時，與許世昌所駕駛，沿臺南市○○區\n",
      "\n",
      "Cluster  17\n",
      "石月玲因常前往林素英、黃議寬祖孫所經營之位於臺中市○區○○街110號之「慶昌資源回收場」買賣二手貨物，而與林素英熟識。石月玲於民國100年5月30日上午8時39分許，在「慶昌資源回收場」辦公室內與林素\n",
      "\n",
      "Cluster  18\n",
      "邱建豪於民國106年5月1日下午5時15分許，在桃園市○○區○○路000號桃園市政府警察局桃園分局埔子派出所內（下稱埔子派出所）之值班臺，明知員警徐芳振係依法執行職務之公務員，因不滿員警告以所詢事項應\n",
      "\n"
     ]
    }
   ],
   "source": [
    "clustered_sentences = [[] for i in range(num_clusters)]\n",
    "for sentence_id, cluster_id in enumerate(cluster_assignment):\n",
    "    clustered_sentences[cluster_id].append(corpus[sentence_id])\n",
    "    if (specialtest == corpus[sentence_id]):\n",
    "        specialcls = cluster_id\n",
    "        print (cluster_id)\n",
    "for i, cluster in enumerate(clustered_sentences):\n",
    "    print(\"Cluster \", i+1)\n",
    "    print(cluster[0].strip()[0:100])\n",
    "    print(\"\")"
   ]
  },
  {
   "cell_type": "code",
   "execution_count": 13,
   "outputs": [],
   "source": [
    "class Cls(object):\n",
    "    def __init__(self):\n",
    "        self.reason = \"\"\n",
    "        self.num = 0"
   ],
   "metadata": {
    "collapsed": false,
    "pycharm": {
     "name": "#%%\n"
    }
   }
  },
  {
   "cell_type": "code",
   "execution_count": 14,
   "outputs": [
    {
     "name": "stdout",
     "output_type": "stream",
     "text": [
      "1    100,中簡,1001 \t 竊盜 \n",
      "\n",
      "被告陳守仁為高職畢業擔任保全之男子，竟不思以正常手段獲取財物，因一時貪念，以徒手竊取該超商內商品供己食用之犯罪動機、目的、手段、生活狀況、智識程度、所竊得物品價值新臺幣（下同）總共約821元\n",
      "\n",
      "2    100,中簡,1099 \t 竊盜 \n",
      "\n",
      "於九十九年十月二十八日上午九時三十分許，行經臺中市西屯區○○○街五九巷八號前，見張顯榮所有之車牌號碼ON－8455號自用小客車停放在該處，且無人看管，乃認有機可乘，竟意圖為自己不法之所有，持自備之機車\n",
      "\n",
      "3    100,中簡,1257 \t 竊盜 \n",
      "\n",
      "於99年8月27日晚間11時50分許騎乘車牌號碼UAE-490號輕型機車，至臺中市○○區○○路與文昌東十二街口之兒童公園人行道，見李敏華所有之車牌號碼L6E-656號機車停放在該處，遂以不詳方式打開該\n",
      "\n",
      "4    100,中簡,1358 \t 竊盜 \n",
      "\n",
      "於100年4月25日晚間10時39分許，經過臺中市○○區○○里○○街145巷1弄13號湯兆慶之住處時，見其住宅後門未關，遂基於意圖為自己不法所有之竊盜犯意，未經湯兆慶之同意，無故侵入湯兆慶前開住處內，\n",
      "\n",
      "5    100,中簡,1385 \t 竊盜 \n",
      "\n",
      "於99年6月初某日，行經臺中市○區○○里○○○路○段77號前，見劉欣怡所有之THOMAS牌黑色可摺疊式6段變速腳踏車停放在該處，且未上鎖，竟意圖為自己不法之所有，基於竊盜之犯意，徒手行竊該部腳踏車（價\n",
      "\n"
     ]
    }
   ],
   "source": [
    "no = 1\n",
    "clslist = {}\n",
    "show = 0\n",
    "for sentence_id, cluster_id in enumerate(cluster_assignment):\n",
    "    if (cluster_id != specialcls):\n",
    "        continue\n",
    "    if (show < 5):\n",
    "        print(no, \"  \"\n",
    "                  , corpusList[sentence_id].no,\"\\t\"\n",
    "                  ,  corpusList[sentence_id].reason, \"\\n\")\n",
    "        if (len(corpusList[sentence_id].Situation.strip()) > 100):\n",
    "            print(corpusList[sentence_id].Situation.strip()[0:100])\n",
    "        else:\n",
    "            print(corpusList[sentence_id].Situation.strip())\n",
    "        no += 1\n",
    "        print(\"\")\n",
    "\n",
    "        show +=1\n",
    "\n",
    "    if corpusList[sentence_id].reason in clslist:\n",
    "        clslist[corpusList[sentence_id].reason] += 1\n",
    "    else:\n",
    "        clslist[corpusList[sentence_id].reason] = 1\n"
   ],
   "metadata": {
    "collapsed": false,
    "pycharm": {
     "name": "#%%\n"
    }
   }
  },
  {
   "cell_type": "code",
   "execution_count": 15,
   "outputs": [
    {
     "name": "stdout",
     "output_type": "stream",
     "text": [
      "竊盜   78\n",
      "搶奪   124\n",
      "強盜   76\n",
      "妨害自由   5\n",
      "傷害   1\n",
      "毀損   4\n",
      "妨害性自主   4\n",
      "妨害風化   2\n"
     ]
    }
   ],
   "source": [
    "for key, value in clslist.items():\n",
    "    print(key, \" \", value)\n"
   ],
   "metadata": {
    "collapsed": false,
    "pycharm": {
     "name": "#%%\n"
    }
   }
  },
  {
   "cell_type": "code",
   "execution_count": 15,
   "outputs": [],
   "source": [],
   "metadata": {
    "collapsed": false,
    "pycharm": {
     "name": "#%%\n"
    }
   }
  }
 ],
 "metadata": {
  "kernelspec": {
   "display_name": "Python 3",
   "language": "python",
   "name": "python3"
  },
  "language_info": {
   "codemirror_mode": {
    "name": "ipython",
    "version": 3
   },
   "file_extension": ".py",
   "mimetype": "text/x-python",
   "name": "python",
   "nbconvert_exporter": "python",
   "pygments_lexer": "ipython3",
   "version": "3.6.8"
  }
 },
 "nbformat": 4,
 "nbformat_minor": 1
}