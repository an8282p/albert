{
 "cells": [
  {
   "cell_type": "code",
   "execution_count": 11,
   "metadata": {
    "pycharm": {
     "name": "#%%\n"
    }
   },
   "outputs": [
    {
     "name": "stdout",
     "output_type": "stream",
     "text": [
      "丙○○意圖為自己不法之所有，(甲)YY(假)XX(十一)(一)a(一一)b(一一一)c(年一)d(一年一)e(一一一年)A(9年)B(99年)C(999年)A(AAA)於民國105年10月8日晚間7時20分許，騎乘登記於不知情之王介平名下之車牌號碼000-000號普通重型機車，行經高雄市○○區○○○路000號前時，將口罩脫下遮掩車牌，自後靠近步行在人行道上之甲○○，趁甲○○不及防備之際，以左手徒手掠取甲○○右手持有之背包1只（內有現金新臺幣【下同】9500元、索尼牌ZR綠色及Xperformance金色行動電話共2具【IMEI：000000000000000、000000000000000號】、長夾1個、信用卡及金融卡共5張、國民身分證2張、國民健康保險卡1張、普通重型機車駕照1張、識別證2張等物）得手後逃逸。嗣因丙○○將背包內之現金取走後，將背包棄置在高雄市鳳山區武營路某處，再經民眾在高雄市鳳山區衛武營附近拾獲上開背包（內有長夾1個、國民身分證2張、國民健康保險卡1張、信用卡3張、金融卡1張等物），遂送交警察機關發還甲○○領回。(二)於同年10月10日晚間11時5分許，騎乘向不知情之劉伊恩借用之車牌號碼000-0000號普通重型機車，行經高雄市○○區○○○路000號前時，使用口罩遮掩車牌，自後靠近步行在人行道上之少年乙○○（89年生，基於兒童及少年福利與權益保障法第69條第2項規定不得揭露足以識別少年身分之資訊，年籍詳卷），趁乙○○不及防備之際，以左手徒手掠取乙○○右手持有之背包1只（內有皮夾1只、現金3萬2000元、提款卡1張、國民身分證1張、國民健康保險卡1張等物）得手後逃逸，並將現金取出，其餘物品則丟棄。嗣為警循線於105年10月16日凌晨2時許，在高雄市○○區○○路000巷00號前查獲，並扣得現金2600元。\n",
      "772\n",
      "丙○○意圖為自己不法之所有，(甲)YY(假)XX(一)abcdeABCA於民國105年10月8日晚間7時20分許，騎乘登記於不知情之王介平名下之車牌號碼000-000號普通重型機車，行經高雄市○○區○○○路000號前時，將口罩脫下遮掩車牌，自後靠近步行在人行道上之甲○○，趁甲○○不及防備之際，以左手徒手掠取甲○○右手持有之背包1只得手後逃逸。嗣因丙○○將背包內之現金取走後，將背包棄置在高雄市鳳山區武營路某處，再經民眾在高雄市鳳山區衛武營附近拾獲上開背包，遂送交警察機關發還甲○○領回。(二)於同年10月10日晚間11時5分許，騎乘向不知情之劉伊恩借用之車牌號碼000-0000號普通重型機車，行經高雄市○○區○○○路000號前時，使用口罩遮掩車牌，自後靠近步行在人行道上之少年乙○○，趁乙○○不及防備之際，以左手徒手掠取乙○○右手持有之背包1只得手後逃逸，並將現金取出，其餘物品則丟棄。嗣為警循線於105年10月16日凌晨2時許，在高雄市○○區○○路000巷00號前查獲，並扣得現金2600元。\n",
      "449\n"
     ]
    }
   ],
   "source": [
    "import numpy as np\n",
    "import pandas as pd\n",
    "import re\n",
    "\n",
    "my_regex = r\"[\\(\\（]([^一二三四五六七八九零十1234567890]{1}[^\\)\\）]+|[一二三四五六七八九零十1234567890]{1}[^\\)\\）]{1,})[\\)\\）]\"\n",
    "my_regex = \"\\（.*?\\）|\\(([^\\)0-9零一二三四五六七八九十]?|[^\\).]{2,})\\)\"\n",
    "\n",
    "tmpstr = '丙○○意圖為自己不法之所有，(甲)YY(假)XX(十一)(一)a(一一)b(一一一)c(年一)d(一年一)e(一一一年)A(9年)B(99年)C(999年)A(AAA)於民國105年10月8日晚間7時20分許，騎乘登記於不知情之王介平名下之車牌號碼000-000號普通重型機車，行經高雄市○○區○○○路000號前時，將口罩脫下遮掩車牌，自後靠近步行在人行道上之甲○○，趁甲○○不及防備之際，以左手徒手掠取甲○○右手持有之背包1只（內有現金新臺幣【下同】9500元、索尼牌ZR綠色及Xperformance金色行動電話共2具【IMEI：000000000000000、000000000000000號】、長夾1個、信用卡及金融卡共5張、國民身分證2張、國民健康保險卡1張、普通重型機車駕照1張、識別證2張等物）得手後逃逸。嗣因丙○○將背包內之現金取走後，將背包棄置在高雄市鳳山區武營路某處，再經民眾在高雄市鳳山區衛武營附近拾獲上開背包（內有長夾1個、國民身分證2張、國民健康保險卡1張、信用卡3張、金融卡1張等物），遂送交警察機關發還甲○○領回。(二)於同年10月10日晚間11時5分許，騎乘向不知情之劉伊恩借用之車牌號碼000-0000號普通重型機車，行經高雄市○○區○○○路000號前時，使用口罩遮掩車牌，自後靠近步行在人行道上之少年乙○○（89年生，基於兒童及少年福利與權益保障法第69條第2項規定不得揭露足以識別少年身分之資訊，年籍詳卷），趁乙○○不及防備之際，以左手徒手掠取乙○○右手持有之背包1只（內有皮夾1只、現金3萬2000元、提款卡1張、國民身分證1張、國民健康保險卡1張等物）得手後逃逸，並將現金取出，其餘物品則丟棄。嗣為警循線於105年10月16日凌晨2時許，在高雄市○○區○○路000巷00號前查獲，並扣得現金2600元。'\n",
    "print((tmpstr))\n",
    "print(len(tmpstr))\n",
    "print((re.sub(my_regex, \"\", tmpstr)))\n",
    "print(len(re.sub(my_regex, \"\", tmpstr)))"
   ]
  },
  {
   "cell_type": "code",
   "execution_count": 2,
   "outputs": [
    {
     "data": {
      "text/plain": "       court                       date            no sys reason type  \\\nid                                                                      \n0   臺灣桃園地方法院  2018-04-18T00:00:00+08:00    106,易,1093  刑事   妨害公務   判決   \n1   臺灣臺中地方法院  2011-05-19T00:00:00+08:00  100,中交簡,1002  刑事   公共危險   判決   \n\n                                             mainText  \\\nid                                                      \n0             邱建豪犯妨害公務執行罪，累犯，處拘役拾日，如易科罰金，以新臺幣壹仟元折算壹日。   \n1   王炎權服用酒類，不能安全駕駛動力交通工具而駕駛，處拘役伍拾日，如易科罰金，以新臺幣壹仟元折算壹日。   \n\n                                            judgement  \\\nid                                                      \n0   臺灣桃園地方法院刑事判決106年度易字第1093號公訴人臺灣桃園地方法院檢察署檢察官被告邱建...   \n1   臺灣臺中地方法院刑事簡易判決100年度中交簡字第1002號聲請人臺灣臺中地方法院檢察署檢察官...   \n\n                                            Situation  \nid                                                     \n0   邱建豪於民國106年5月1日下午5時15分許，在桃園市○○區○○路000號桃園市政府警察局桃...  \n1   王炎權於民國100年4月8日晚間9時30分許起至翌日凌晨3時許止，在彰化縣芬園鄉○○路○段2...  ",
      "text/html": "<div>\n<style scoped>\n    .dataframe tbody tr th:only-of-type {\n        vertical-align: middle;\n    }\n\n    .dataframe tbody tr th {\n        vertical-align: top;\n    }\n\n    .dataframe thead th {\n        text-align: right;\n    }\n</style>\n<table border=\"1\" class=\"dataframe\">\n  <thead>\n    <tr style=\"text-align: right;\">\n      <th></th>\n      <th>court</th>\n      <th>date</th>\n      <th>no</th>\n      <th>sys</th>\n      <th>reason</th>\n      <th>type</th>\n      <th>mainText</th>\n      <th>judgement</th>\n      <th>Situation</th>\n    </tr>\n    <tr>\n      <th>id</th>\n      <th></th>\n      <th></th>\n      <th></th>\n      <th></th>\n      <th></th>\n      <th></th>\n      <th></th>\n      <th></th>\n      <th></th>\n    </tr>\n  </thead>\n  <tbody>\n    <tr>\n      <td>0</td>\n      <td>臺灣桃園地方法院</td>\n      <td>2018-04-18T00:00:00+08:00</td>\n      <td>106,易,1093</td>\n      <td>刑事</td>\n      <td>妨害公務</td>\n      <td>判決</td>\n      <td>邱建豪犯妨害公務執行罪，累犯，處拘役拾日，如易科罰金，以新臺幣壹仟元折算壹日。</td>\n      <td>臺灣桃園地方法院刑事判決106年度易字第1093號公訴人臺灣桃園地方法院檢察署檢察官被告邱建...</td>\n      <td>邱建豪於民國106年5月1日下午5時15分許，在桃園市○○區○○路000號桃園市政府警察局桃...</td>\n    </tr>\n    <tr>\n      <td>1</td>\n      <td>臺灣臺中地方法院</td>\n      <td>2011-05-19T00:00:00+08:00</td>\n      <td>100,中交簡,1002</td>\n      <td>刑事</td>\n      <td>公共危險</td>\n      <td>判決</td>\n      <td>王炎權服用酒類，不能安全駕駛動力交通工具而駕駛，處拘役伍拾日，如易科罰金，以新臺幣壹仟元折算壹日。</td>\n      <td>臺灣臺中地方法院刑事簡易判決100年度中交簡字第1002號聲請人臺灣臺中地方法院檢察署檢察官...</td>\n      <td>王炎權於民國100年4月8日晚間9時30分許起至翌日凌晨3時許止，在彰化縣芬園鄉○○路○段2...</td>\n    </tr>\n  </tbody>\n</table>\n</div>"
     },
     "execution_count": 2,
     "metadata": {},
     "output_type": "execute_result"
    }
   ],
   "source": [
    "df=pd.read_csv('.//data//Result_TFIDF.csv', index_col=0)\n",
    "df.head(2)"
   ],
   "metadata": {
    "collapsed": false,
    "pycharm": {
     "name": "#%%\n"
    }
   }
  },
  {
   "cell_type": "code",
   "execution_count": 3,
   "metadata": {
    "pycharm": {
     "name": "#%%\n"
    }
   },
   "outputs": [
    {
     "data": {
      "text/plain": "        court                       date           no sys reason type  \\\nid                                                                      \n522  臺灣臺中地方法院  2017-02-06T00:00:00+08:00  105,中簡,1134  刑事     傷害   判決   \n901  臺灣臺中地方法院  2017-06-21T00:00:00+08:00    105,原易,51  刑事     傷害   判決   \n\n                                    mainText  \\\nid                                             \n522         易佳騰犯傷害罪，處拘役拾日，如易科罰金，以新臺幣壹仟元折算壹日。   \n901  宋約翰傷害人之身體，累犯，處有期徒刑肆月，如易科罰金，以新臺幣壹仟元折算壹日。   \n\n                                             judgement  \\\nid                                                       \n522  臺灣臺中地方法院刑事簡易判決105年度中簡字第1134號聲請人臺灣臺中地方法院檢察署檢察官被...   \n901  臺灣臺中地方法院刑事判決105年度原易字第51號公訴人臺灣臺中地方法院檢察署檢察官被告宋約翰...   \n\n                                             Situation  \nid                                                      \n522  易佳騰於民國103年12月30日22時53分許，在臺中市○○區○○街000號，因工程款糾紛與...  \n901  宋約翰前於民國103年間因公共危險案件，經本院以103年度中交簡字第3997號判決判處有期徒...  ",
      "text/html": "<div>\n<style scoped>\n    .dataframe tbody tr th:only-of-type {\n        vertical-align: middle;\n    }\n\n    .dataframe tbody tr th {\n        vertical-align: top;\n    }\n\n    .dataframe thead th {\n        text-align: right;\n    }\n</style>\n<table border=\"1\" class=\"dataframe\">\n  <thead>\n    <tr style=\"text-align: right;\">\n      <th></th>\n      <th>court</th>\n      <th>date</th>\n      <th>no</th>\n      <th>sys</th>\n      <th>reason</th>\n      <th>type</th>\n      <th>mainText</th>\n      <th>judgement</th>\n      <th>Situation</th>\n    </tr>\n    <tr>\n      <th>id</th>\n      <th></th>\n      <th></th>\n      <th></th>\n      <th></th>\n      <th></th>\n      <th></th>\n      <th></th>\n      <th></th>\n      <th></th>\n    </tr>\n  </thead>\n  <tbody>\n    <tr>\n      <td>522</td>\n      <td>臺灣臺中地方法院</td>\n      <td>2017-02-06T00:00:00+08:00</td>\n      <td>105,中簡,1134</td>\n      <td>刑事</td>\n      <td>傷害</td>\n      <td>判決</td>\n      <td>易佳騰犯傷害罪，處拘役拾日，如易科罰金，以新臺幣壹仟元折算壹日。</td>\n      <td>臺灣臺中地方法院刑事簡易判決105年度中簡字第1134號聲請人臺灣臺中地方法院檢察署檢察官被...</td>\n      <td>易佳騰於民國103年12月30日22時53分許，在臺中市○○區○○街000號，因工程款糾紛與...</td>\n    </tr>\n    <tr>\n      <td>901</td>\n      <td>臺灣臺中地方法院</td>\n      <td>2017-06-21T00:00:00+08:00</td>\n      <td>105,原易,51</td>\n      <td>刑事</td>\n      <td>傷害</td>\n      <td>判決</td>\n      <td>宋約翰傷害人之身體，累犯，處有期徒刑肆月，如易科罰金，以新臺幣壹仟元折算壹日。</td>\n      <td>臺灣臺中地方法院刑事判決105年度原易字第51號公訴人臺灣臺中地方法院檢察署檢察官被告宋約翰...</td>\n      <td>宋約翰前於民國103年間因公共危險案件，經本院以103年度中交簡字第3997號判決判處有期徒...</td>\n    </tr>\n  </tbody>\n</table>\n</div>"
     },
     "execution_count": 3,
     "metadata": {},
     "output_type": "execute_result"
    }
   ],
   "source": [
    "test=  pd.read_csv('.//data//Result_Test.csv', index_col=0)\n",
    "test.head(2)"
   ]
  },
  {
   "cell_type": "code",
   "execution_count": 4,
   "metadata": {
    "pycharm": {
     "name": "#%%\n"
    }
   },
   "outputs": [
    {
     "name": "stderr",
     "output_type": "stream",
     "text": [
      "c:\\users\\user\\pycharmprojects\\pytorch\\venv\\lib\\site-packages\\ipykernel_launcher.py:2: SettingWithCopyWarning: \n",
      "A value is trying to be set on a copy of a slice from a DataFrame.\n",
      "Try using .loc[row_indexer,col_indexer] = value instead\n",
      "\n",
      "See the caveats in the documentation: http://pandas.pydata.org/pandas-docs/stable/user_guide/indexing.html#returning-a-view-versus-a-copy\n",
      "  \n",
      "c:\\users\\user\\pycharmprojects\\pytorch\\venv\\lib\\site-packages\\ipykernel_launcher.py:3: SettingWithCopyWarning: \n",
      "A value is trying to be set on a copy of a slice from a DataFrame.\n",
      "Try using .loc[row_indexer,col_indexer] = value instead\n",
      "\n",
      "See the caveats in the documentation: http://pandas.pydata.org/pandas-docs/stable/user_guide/indexing.html#returning-a-view-versus-a-copy\n",
      "  This is separate from the ipykernel package so we can avoid doing imports until\n",
      "c:\\users\\user\\pycharmprojects\\pytorch\\venv\\lib\\site-packages\\ipykernel_launcher.py:4: SettingWithCopyWarning: \n",
      "A value is trying to be set on a copy of a slice from a DataFrame.\n",
      "Try using .loc[row_indexer,col_indexer] = value instead\n",
      "\n",
      "See the caveats in the documentation: http://pandas.pydata.org/pandas-docs/stable/user_guide/indexing.html#returning-a-view-versus-a-copy\n",
      "  after removing the cwd from sys.path.\n",
      "c:\\users\\user\\pycharmprojects\\pytorch\\venv\\lib\\site-packages\\ipykernel_launcher.py:5: SettingWithCopyWarning: \n",
      "A value is trying to be set on a copy of a slice from a DataFrame.\n",
      "Try using .loc[row_indexer,col_indexer] = value instead\n",
      "\n",
      "See the caveats in the documentation: http://pandas.pydata.org/pandas-docs/stable/user_guide/indexing.html#returning-a-view-versus-a-copy\n",
      "  \"\"\"\n"
     ]
    }
   ],
   "source": [
    "df1 = df[~df['no'].isin(test['no'])]\n",
    "df1['reason'] = df1['reason'].str.replace('等','')\n",
    "df1['reason'] = df1['reason'].str.replace(\"條例\",\"\")\n",
    "df1['reason'] = df1['reason'].str.replace(\"違反\",\"\")\n",
    "df1['Situation'] = df1['Situation'].str.replace(my_regex, \"\")\n",
    "#ierror = 0\n",
    "#for index, row in df1.iterrows():\n",
    "#    if (row.Situation != row.Situation2):\n",
    "#        print (index, \"\\n\", row.Situation, \"\\n\", row.Situation2)\n",
    "#        ierror += 1\n",
    "#        if (ierror > 5):\n",
    "#            break"
   ]
  },
  {
   "cell_type": "code",
   "execution_count": 5,
   "metadata": {
    "pycharm": {
     "name": "#%%\n"
    }
   },
   "outputs": [
    {
     "name": "stderr",
     "output_type": "stream",
     "text": [
      "Exception when trying to download https://sbert.net/models/bert-base-chinese.zip. Response 404\n",
      "WARNING:root:SentenceTransformer-Model https://sbert.net/models/bert-base-chinese.zip not found. Try to create it from scratch\n",
      "WARNING:root:Try to create Transformer Model bert-base-chinese with mean pooling\n"
     ]
    }
   ],
   "source": [
    "from sentence_transformers import SentenceTransformer, util\n",
    "embedder=SentenceTransformer('bert-base-chinese')\n",
    "\n",
    "import pandas as pd\n",
    "import time\n",
    "tStart = time.time()"
   ]
  },
  {
   "cell_type": "code",
   "execution_count": 6,
   "metadata": {
    "pycharm": {
     "name": "#%%\n"
    }
   },
   "outputs": [],
   "source": [
    "class Data(object):\n",
    "    def __init__(self):\n",
    "        self.no = \"0\"\n",
    "        self.reason = \"\"\n",
    "        self.Situation = \"\""
   ]
  },
  {
   "cell_type": "code",
   "execution_count": 7,
   "metadata": {
    "pycharm": {
     "name": "#%%\n"
    }
   },
   "outputs": [
    {
     "name": "stdout",
     "output_type": "stream",
     "text": [
      "\n",
      "3537\n"
     ]
    }
   ],
   "source": [
    "#embedder  SentenceTransformer('distilbert-base-nli-stsb-mean-tokens')\n",
    "\n",
    "# Corpus with example sentences\n",
    "#corpus  ['A man is eating food.',\n",
    "#          'A man is eating a piece of bread.',\n",
    "#          'The girl is carrying a baby.',\n",
    "#          'A man is riding a horse.',\n",
    "#          'A woman is playing violin.',\n",
    "#          'Two men pushed carts through the woods.',\n",
    "#          'A man is riding a white horse on an enclosed ground.',\n",
    "#          'A monkey is playing drums.',\n",
    "#          'A cheetah is running behind its prey.'\n",
    "#          ]\n",
    "corpus = []\n",
    "corpusList = []\n",
    "for index, row in df1.iterrows():\n",
    "    if (row.Situation == None):\n",
    "        continue\n",
    "    if (isinstance(row.Situation, float)):\n",
    "        continue\n",
    "    if (len(row.Situation) == 0):\n",
    "        continue\n",
    "    if (index == 5):\n",
    "        print()\n",
    "    d = Data()\n",
    "    d.no = row.no\n",
    "    d.reason = row.reason\n",
    "    d.Situation = row.Situation\n",
    "    corpusList.append(d)\n",
    "    corpus.append(row.Situation)\n",
    "corpus_embeddings = embedder.encode(corpus, convert_to_tensor=True)\n",
    "print(len(corpus))"
   ]
  },
  {
   "cell_type": "code",
   "execution_count": 8,
   "metadata": {
    "pycharm": {
     "name": "#%%\n"
    }
   },
   "outputs": [
    {
     "name": "stdout",
     "output_type": "stream",
     "text": [
      "轉向量時間 24.034980 sec\n"
     ]
    }
   ],
   "source": [
    "tEnd = time.time()#計時結束\n",
    "#列印結果\n",
    "print(\"轉向量時間\", \"%f sec\" % (tEnd - tStart))"
   ]
  },
  {
   "cell_type": "code",
   "execution_count": 9,
   "metadata": {
    "pycharm": {
     "name": "#%%\n"
    }
   },
   "outputs": [
    {
     "name": "stdout",
     "output_type": "stream",
     "text": [
      "22\n"
     ]
    }
   ],
   "source": [
    "# Query sentences:\n",
    "#queries  ['A man is eating pasta.', 'Someone in a gorilla costume is playing a set of drums.', 'A cheetah chases prey on across a field.']\n",
    "queries = []\n",
    "#specialtest  ='被告陳守仁為高職畢業擔任保全之男子，竟不思以正常手段獲取財物，因一時貪念，以徒手竊取該超商內商品供己食用之犯罪動機、目的、手段、生活狀況、智識程度、所竊得物品價值新臺幣（下同）總共約821元'\n",
    "specialtest  ='詎其猶不知悔改，復基於意圖為自己不法所有之竊盜犯意，於102年7月5日上午6時許（起訴書誤載為5時許），見林振億位於高雄市○○區○○街000號之住處大門未上鎖，竟未經允准侵入上開住宅內，徒手竊取行動電話5支、無線電3支、數位相機1臺及存錢筒1個（內有現金約新臺幣【下同】4,000元，上開物品共計價值47,000元），得手後離去；嗣經林振億發現遭竊後報警，為警在現場採得指紋後送鑑定後，結果與邱東成之指紋相符，而查悉上情。'\n",
    "specialtest = re.sub(my_regex, \"\", specialtest)\n",
    "queries.append(specialtest)\n",
    "for index, row in test.iterrows():\n",
    "    queries.append(str(row.Situation))\n",
    "print(len(queries))"
   ]
  },
  {
   "cell_type": "code",
   "execution_count": 10,
   "metadata": {
    "pycharm": {
     "name": "#%%\n"
    }
   },
   "outputs": [
    {
     "name": "stdout",
     "output_type": "stream",
     "text": [
      "\n",
      "\n",
      "\n",
      "\n",
      "\n",
      "Query: 詎其猶不知悔改，復基於意圖為自己不法所有之竊盜犯意，於102年7月5日上午6時許，見林振億位於高雄市○○區○○街000號之住處大門未上鎖，竟未經允准侵入上開住宅內，徒手竊取行動電話5支、無線電3支、數位相機1臺及存錢筒1個，得手後離去；嗣經林振億發現遭竊後報警，為警在現場採得指紋後送鑑定後，結果與邱東成之指紋相符，而查悉上情。\n",
      "\n",
      "Top 5 most similar sentences in corpus:\n",
      "1    105,審易,1434 \t 竊盜 \t(Score: 0.9830)\n",
      "詎其仍不知悔改，復意圖為自己不法之所有，基於竊盜之犯意，於104年6月25日下午1時49分許，至前老闆蕭振宇位於臺中市○○區○○巷0號之住處，先以翻越該住宅之圍牆而侵入上開房屋，再進入上開房屋一樓內，\n",
      "詎其仍不知悔改，復意圖為自己不法之所有，基於竊盜之犯意，於104年6月25日下午1時49分許，至前老闆蕭振宇位於臺中市○○區○○巷0號之住處，先以翻越該住宅之圍牆而侵入上開房屋，再進入上開房屋一樓內，徒手竊取蕭振宇所有置於屋內一樓之現金新臺幣7800元、鑰匙1串及遙控器1個等財物，得手後，旋即逃離現場。嗣蕭振宇發覺失竊，經調閱錄影監視器畫面後知悉王東屏所為，始報警處理而查獲上情。\n",
      "\n",
      "\n",
      "2    105,審易,1151 \t 竊盜 \t(Score: 0.9810)\n",
      "詎仍不知悔改，復先後為下列行為：(一)於105年2月29日凌晨3時許，行經林立邦位於臺中市○區○○街00號之住處時，竟意圖為自己不法所有，基於侵入住宅竊盜之犯意，趁該處大門未鎖之際進入屋內，徒手竊取林\n",
      "\n",
      "\n",
      "3    105,審易,1268 \t 竊盜 \t(Score: 0.9810)\n",
      "詎仍不知悔改，於99年12月27日凌晨3時許之夜間，行經陳幸慧位於臺中市○○區○○路00號住處前，發現該住處1樓落地鋁門窗未固定，認有機可趁，竟基於意圖為自己不法所有之竊盜犯意，徒手扳開該未固定之落地\n",
      "\n",
      "\n",
      "4    102,審訴,269 \t 搶奪 \t(Score: 0.9808)\n",
      "詎仍不知悔改，竟仍意圖為自己不法之所有，基於搶奪之犯意，於101年11月5日中午12時許，騎乘車牌號碼000-000號重型機車，行經桃園市○○○街00號新雅飯店前，見姚德慈獨自步行，認有機可乘，徒手搶\n",
      "\n",
      "\n",
      "COS相似計算時間 0.051862 sec\n",
      "\n",
      "\n",
      "\n",
      "\n",
      "\n",
      "Query: 易佳騰於民國103年12月30日22時53分許，在臺中市○○區○○街000號，因工程款糾紛與李佳樺發生爭執。易佳騰見李佳樺欲進入上址，因而屈肘於李佳樺之領口前，欲攔阻李佳樺，隨即並基於傷害之犯意，徒手推擠李佳樺，並以腳踹李佳樺之腿部，致李佳樺受有左大腿、小腿擦傷、左踝挫傷及左手挫傷等傷害。\n",
      "\n",
      "Top 5 most similar sentences in corpus:\n",
      "1    105,易,1017 \t 傷害 \t(Score: 0.9708)\n",
      "吳家軒與吳偉維為工作上之同事，其等於民國105年4月30日12時許，在臺南市○○區○○路0段000號對面工地旁之福利社發生爭執，吳家軒竟基於傷害之犯意，以手勒住吳偉維脖子，並將吳偉維頭部推向福利社遮雨\n",
      "\n",
      "\n",
      "2    105,審易,958 \t 傷害 \t(Score: 0.9698)\n",
      "被告張文成與廖明哲係鄰居，該2人於民國104年9月9日14時30分許，在廖明哲位於臺中市○區○○○路000巷0號住處門口道路上，因停車問題發生爭執，張文成竟基於傷害之犯意，徒手毆打廖明哲臉部，並將廖明\n",
      "\n",
      "\n",
      "3    105,中簡,1537 \t 傷害 \t(Score: 0.9696)\n",
      "洪振邦於民國104年11月1日上午6、7時許，至李東儒位於臺中市○○區○○路000巷0號住處前，向李東儒索討賒欠帳款，因李東儒堅決否認有何賒欠情形，洪振邦乃心生不滿，基於傷害之接續犯意，徒手毆打李東儒\n",
      "\n",
      "\n",
      "4    105,中簡,867 \t 傷害 \t(Score: 0.9691)\n",
      "緣林瑞石與林介仁因界址問題，迭生爭議，彼此不睦，於105年2月4日下午3時20分許，林瑞石在臺中市○○區○○○路0段00號林介仁住處前，因故又與林介仁發生口角爭執，詎林瑞石竟基於傷害之犯意，徒手接續毆\n",
      "\n",
      "\n",
      "5    105,審易,1150 \t 傷害 \t(Score: 0.9690)\n",
      "呂芊樺於民國104年11月25日上午10時32分，在臺北市○○區○○路000號1樓MINI汽車展間內，因工作問題與郭家伶發生爭執，竟基於傷害之犯意，以左手掐住郭家伶頸部並將之推往牆壁，致郭家伶受有右脖\n",
      "\n",
      "\n"
     ]
    }
   ],
   "source": [
    "# Find the closest 5 sentences of the corpus for each query sentence based on cosine similarity\n",
    "top_k = 5\n",
    "i = 0\n",
    "tmpSpecial = ''\n",
    "show = 0\n",
    "\n",
    "for query in queries:\n",
    "    tStart2 = time.time()\n",
    "    query_embedding = embedder.encode(query, convert_to_tensor=True)\n",
    "    cos_scores = util.pytorch_cos_sim(query_embedding, corpus_embeddings)[0]\n",
    "    cos_scores = cos_scores.cpu()\n",
    "\n",
    "\n",
    "    #We use np.argpartition, to only partially sort the top_k results\n",
    "    top_results = np.argpartition(-cos_scores, range(top_k))[0:top_k]\n",
    "    print(\"\\n\\n\\n\\n\")\n",
    "    print(\"Query:\", query)\n",
    "    print(\"\\nTop 5 most similar sentences in corpus:\")\n",
    "\n",
    "    no = 1\n",
    "    for idx in top_results[0:top_k]:\n",
    "        if (corpus[idx] == specialtest):\n",
    "            continue\n",
    "        print(no, \"  \"\n",
    "              , corpusList[idx].no,\"\\t\"\n",
    "              ,  corpusList[idx].reason\n",
    "              , \"\\t(Score: %.4f)\" % (cos_scores[idx]))\n",
    "        if (len(corpus[idx].strip()[0:100]) > 100):\n",
    "            print (corpus[idx].strip()[0:100])\n",
    "        else:\n",
    "            print (corpus[idx].strip()[0:100])\n",
    "        if (tmpSpecial == ''):\n",
    "            tmpSpecial = corpus[idx].strip()\n",
    "            print(tmpSpecial)\n",
    "        print('\\n')\n",
    "        no = no + 1\n",
    "        show += 1\n",
    "\n",
    "    if (show > 5):break\n",
    "\n",
    "    tEnd2 = time.time()#計時結束\n",
    "    print(\"COS相似計算時間\", \"%f sec\" % (tEnd2 - tStart2))"
   ]
  },
  {
   "cell_type": "code",
   "execution_count": 11,
   "metadata": {
    "pycharm": {
     "name": "#%%\n"
    }
   },
   "outputs": [
    {
     "name": "stderr",
     "output_type": "stream",
     "text": [
      "Exception when trying to download https://sbert.net/models/bert-base-chinese.zip. Response 404\n",
      "WARNING:root:SentenceTransformer-Model https://sbert.net/models/bert-base-chinese.zip not found. Try to create it from scratch\n",
      "WARNING:root:Try to create Transformer Model bert-base-chinese with mean pooling\n"
     ]
    }
   ],
   "source": [
    "from sentence_transformers import SentenceTransformer\n",
    "from sklearn.cluster import KMeans\n",
    "embedder = SentenceTransformer('bert-base-chinese')\n",
    "corpus_embeddings = embedder.encode(corpus)\n",
    "# Then, we perform k-means clustering using sklearn:\n",
    "from sklearn.cluster import KMeans\n",
    "\n",
    "specialcls = -1\n",
    "\n",
    "num_clusters = 18\n",
    "clustering_model = KMeans(n_clusters=num_clusters)\n",
    "clustering_model.fit(corpus_embeddings)\n",
    "cluster_assignment = clustering_model.labels_"
   ]
  },
  {
   "cell_type": "code",
   "execution_count": 12,
   "metadata": {},
   "outputs": [
    {
     "name": "stdout",
     "output_type": "stream",
     "text": [
      "13\n",
      "Cluster  1\n",
      "許其昌係址設臺中市○區○○○路374號「左岸國際美容生活館」之負責人，而李耀忠自民國99年3月中旬某日受僱於許其昌、擔任與該美容館之經理，許其昌、李耀忠共同意圖使女子與他人為性交、猥褻行為，而媒介、容\n",
      "\n",
      "Cluster  2\n",
      "康昭仁於「世旻設計有限公司」擔任業務經理一職，於民國99年8月間某日起，於網路YES123求職網站上張貼招募人才之訊息。適有代號0000-0000女子，於同一網站上張貼求職之訊息，康昭仁遂撥打電話予A\n",
      "\n",
      "Cluster  3\n",
      "於九十九年十月二十八日上午九時三十分許，行經臺中市西屯區○○○街五九巷八號前，見張顯榮所有之車牌號碼ON－8455號自用小客車停放在該處，且無人看管，乃認有機可乘，竟意圖為自己不法之所有，持自備之機車\n",
      "\n",
      "Cluster  4\n",
      "自民國99年12月20日起，未經臺中市○○區○○段275-1地號地主即被害人吳墩省之同意，擅自以其自備之電線，自上開土地之電度表接引電線進入其位在西屯區○○○路○段46-1號對面豬寮內，而接續竊取上開\n",
      "\n",
      "Cluster  5\n",
      "王寬宏於民國100年2月16日上午9時55分許，駕駛車牌號碼TP-7158號自用小客車，沿臺南市○○區○○路由東往西方向行駛，行至復興路390號前時，本應注意汽車行駛時，駕駛人應注意車前狀況及兩車併行\n",
      "\n",
      "Cluster  6\n",
      "林萬福前於民國98年間，因竊盜案件，經本院判處拘役20日、20日，應執行拘役30日確定，甫於98年12月26日易服社會勞動執行完畢，詎其猶不知悔改，於99年10月27日上午10時50分許，在臺中市○○\n",
      "\n",
      "Cluster  7\n",
      "王炎權於民國100年4月8日晚間9時30分許起至翌日凌晨3時許止，在彰化縣芬園鄉○○路○段291巷15號之住處內飲酒後，已達不能安全駕駛動力交通工具之程度，竟仍駕駛車牌號碼為UJ-4775號自小客車上\n",
      "\n",
      "Cluster  8\n",
      "被告吳政翰明知代號0000-0000及代號0000-0000A均係未滿十四歲之女子。詎其於九十九年七月二十二日十五時三十分許，在臺南市○○區○○街一０一巷一０號「朝皇宮」前廣場，見甲女與乙女一同玩耍，\n",
      "\n",
      "Cluster  9\n",
      "於九十九年十月六日某時許，在其位於臺南市○區○○街二段七九巷一四號之一之住處房間內，以將第一級毒品海洛因置入針筒內注射之方式，施用海洛因一次。另基於施用第二級毒品甲基安非他命之犯意，於同日某時許，在上\n",
      "\n",
      "Cluster  10\n",
      "涂煌輝係原址設嘉義市○區○○路○○○號七樓之「振揚影音科技有限公司」之代表人，以提供伴唱歌曲之出租為業。涂煌輝明知非經音樂著作財產權人之授權，不得擅自重製或出租他人擁有之音樂著作財產權，竟分別基於意圖\n",
      "\n",
      "Cluster  11\n",
      "被告柳慶揚意圖為自己不法之所有，於民國78年3月19日中午12時10分許，以治療牙痛為藉，至桃園縣楊梅鎮○○路000號東山牙科內就診，經謝亭龍以止痛藥予以止痛，並準備磨牙之際，竟取出預藏之水果刀1把，\n",
      "\n",
      "Cluster  12\n",
      "張麗娜為張麗莉之妹，其基於公然侮辱之犯意，於民國105年3月21日11時30分許，在不特定多數人得以共見共聞之臺灣臺中地方法院檢察署2樓第14偵查庭外走道，於張麗莉在場之情形下，對張麗莉之女婿徐順承喧\n",
      "\n",
      "Cluster  13\n",
      "劉子昇於民國99年1月11日23時15分許，駕駛車牌號碼ZD－5993號自用小客車，沿臺南市○○區○○路，由北往南方向行駛，行經臺南市○○區○○路與公學路間之交岔路口時，與許世昌所駕駛，沿臺南市○○區\n",
      "\n",
      "Cluster  14\n",
      "被告陳守仁為高職畢業擔任保全之男子，竟不思以正常手段獲取財物，因一時貪念，以徒手竊取該超商內商品供己食用之犯罪動機、目的、手段、生活狀況、智識程度、所竊得物品價值新臺幣總共約821元\n",
      "\n",
      "Cluster  15\n",
      "邱建豪於民國106年5月1日下午5時15分許，在桃園市○○區○○路000號桃園市政府警察局桃園分局埔子派出所內之值班臺，明知員警徐芳振係依法執行職務之公務員，因不滿員警告以所詢事項應向其他單位辦理，竟\n",
      "\n",
      "Cluster  16\n",
      "石月玲因常前往林素英、黃議寬祖孫所經營之位於臺中市○區○○街110號之「慶昌資源回收場」買賣二手貨物，而與林素英熟識。石月玲於民國100年5月30日上午8時39分許，在「慶昌資源回收場」辦公室內與林素\n",
      "\n",
      "Cluster  17\n",
      "詎其不知悔改，復基於賭博及意圖營利供給賭博場所、聚眾賭博之犯意，自民國100年1月25日起，提供其位在臺中市○○區○○路230號之公眾得出入之場所，聚集不特定多數人簽選號碼與之賭博財物。其賭法係賭客以\n",
      "\n",
      "Cluster  18\n",
      "涂子翔係聯穎企業有限公司之員工。涂子翔於民國104年11月6日晚上10時45分許，在臺中市○○區○○路0段000號，因宿舍問題與陳怡伶發生爭執，詎涂子翔因心生不滿，竟基於損壞他人之物之犯意，徒手搥打陳\n",
      "\n"
     ]
    }
   ],
   "source": [
    "clustered_sentences = [[] for i in range(num_clusters)]\n",
    "for sentence_id, cluster_id in enumerate(cluster_assignment):\n",
    "    clustered_sentences[cluster_id].append(corpus[sentence_id])\n",
    "    if (tmpSpecial == corpus[sentence_id]):\n",
    "        specialcls = cluster_id\n",
    "        print (cluster_id)\n",
    "for i, cluster in enumerate(clustered_sentences):\n",
    "    print(\"Cluster \", i+1)\n",
    "    print(cluster[0].strip()[0:100])\n",
    "    print(\"\")"
   ]
  },
  {
   "cell_type": "code",
   "execution_count": 13,
   "outputs": [],
   "source": [
    "class Cls(object):\n",
    "    def __init__(self):\n",
    "        self.reason = \"\"\n",
    "        self.num = 0"
   ],
   "metadata": {
    "collapsed": false,
    "pycharm": {
     "name": "#%%\n"
    }
   }
  },
  {
   "cell_type": "code",
   "execution_count": 14,
   "outputs": [
    {
     "name": "stdout",
     "output_type": "stream",
     "text": [
      "1    100,中簡,1001 \t 竊盜 \n",
      "\n",
      "被告陳守仁為高職畢業擔任保全之男子，竟不思以正常手段獲取財物，因一時貪念，以徒手竊取該超商內商品供己食用之犯罪動機、目的、手段、生活狀況、智識程度、所竊得物品價值新臺幣總共約821元\n",
      "\n",
      "2    100,中簡,1040 \t 竊盜 \n",
      "\n",
      "於民國100年3月25日5時30分許，在臺中市南區永興5巷42號前，徒手竊取劉清智所有放置該處門口外之白鐵製水槽1個，得手後，持往位於臺中市○里區○○○路1116巷12之1號「重爐金屬有限公司資源回收\n",
      "\n",
      "3    100,中簡,1070 \t 竊盜 \n",
      "\n",
      "緣張長生於民國99年10月23日凌晨0時10分許，因心情不佳，前往臺中市南屯區○○○路○段421號「統一超商」，探訪在該店工作之友人李昌駿，惟於同日凌晨2時餘許，見李昌駿進入倉庫補貨，店內空無一人，乃\n",
      "\n",
      "4    100,中簡,1100 \t 竊盜 \n",
      "\n",
      "於99年10月26日上午10時50分許，在臺中市○○區○○路4段326號之「全家便利商店」內，趁店員疏未注意之際，徒手行竊置於貨架上之高粱酒2瓶。得手後，供己飲用殆盡。嗣該店之店員黃瀞慧清點店內之商品\n",
      "\n",
      "5    100,中簡,1124 \t 竊盜 \n",
      "\n",
      "於民國100年1月30日下午5時15分許，於冠星生活館有限公司在臺中市○○區○○路171號所開設之「小北百貨商店」內，徒手竊取店內陳列販賣之皇家金船威士忌1瓶、沙威隆香皂4塊、去角質美白凝膠1瓶、抗老\n",
      "\n"
     ]
    }
   ],
   "source": [
    "no = 1\n",
    "clslist = {}\n",
    "show = 0\n",
    "for sentence_id, cluster_id in enumerate(cluster_assignment):\n",
    "    if (cluster_id != specialcls):\n",
    "        continue\n",
    "    if (show < 5):\n",
    "        print(no, \"  \"\n",
    "                  , corpusList[sentence_id].no,\"\\t\"\n",
    "                  ,  corpusList[sentence_id].reason, \"\\n\")\n",
    "        if (len(corpusList[sentence_id].Situation.strip()) > 100):\n",
    "            print(corpusList[sentence_id].Situation.strip()[0:100])\n",
    "        else:\n",
    "            print(corpusList[sentence_id].Situation.strip())\n",
    "        no += 1\n",
    "        print(\"\")\n",
    "\n",
    "        show +=1\n",
    "\n",
    "    if corpusList[sentence_id].reason in clslist:\n",
    "        clslist[corpusList[sentence_id].reason] += 1\n",
    "    else:\n",
    "        clslist[corpusList[sentence_id].reason] = 1\n"
   ],
   "metadata": {
    "collapsed": false,
    "pycharm": {
     "name": "#%%\n"
    }
   }
  },
  {
   "cell_type": "code",
   "execution_count": 15,
   "outputs": [
    {
     "name": "stdout",
     "output_type": "stream",
     "text": [
      "竊盜   111\n",
      "偽造文書   14\n",
      "搶奪   50\n",
      "強盜   59\n",
      "公共危險   3\n",
      "詐欺   1\n",
      "妨害自由   8\n",
      "侵占   37\n",
      "毀損   3\n",
      "妨害公務   1\n",
      "妨害性自主   1\n",
      "槍砲彈藥刀械管制   1\n",
      "妨害名譽   1\n"
     ]
    }
   ],
   "source": [
    "for key, value in clslist.items():\n",
    "    print(key, \" \", value)\n"
   ],
   "metadata": {
    "collapsed": false,
    "pycharm": {
     "name": "#%%\n"
    }
   }
  },
  {
   "cell_type": "code",
   "execution_count": 15,
   "outputs": [],
   "source": [],
   "metadata": {
    "collapsed": false,
    "pycharm": {
     "name": "#%%\n"
    }
   }
  }
 ],
 "metadata": {
  "kernelspec": {
   "display_name": "Python 3",
   "language": "python",
   "name": "python3"
  },
  "language_info": {
   "codemirror_mode": {
    "name": "ipython",
    "version": 3
   },
   "file_extension": ".py",
   "mimetype": "text/x-python",
   "name": "python",
   "nbconvert_exporter": "python",
   "pygments_lexer": "ipython3",
   "version": "3.6.8"
  }
 },
 "nbformat": 4,
 "nbformat_minor": 1
}