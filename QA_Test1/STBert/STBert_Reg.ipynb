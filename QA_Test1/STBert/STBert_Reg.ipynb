{
 "cells": [
  {
   "cell_type": "code",
   "execution_count": 30,
   "metadata": {
    "pycharm": {
     "name": "#%%\n"
    }
   },
   "outputs": [
    {
     "name": "stdout",
     "output_type": "stream",
     "text": [
      "丙○○意圖為自己不法之所有，(甲)YY(假)XX(十一)(一)a(一一)b(一一一)c(年一)d(一年一)e(一一一年)A(9年)B(99年)C(999年)A(AAA)於民國105年10月8日晚間7時20分許，騎乘登記於不知情之王介平名下之車牌號碼000-000號普通重型機車，行經高雄市○○區○○○路000號前時，將口罩脫下遮掩車牌，自後靠近步行在人行道上之甲○○，趁甲○○不及防備之際，以左手徒手掠取甲○○右手持有之背包1只（內有現金新臺幣【下同】9500元、索尼牌ZR綠色及Xperformance金色行動電話共2具【IMEI：000000000000000、000000000000000號】、長夾1個、信用卡及金融卡共5張、國民身分證2張、國民健康保險卡1張、普通重型機車駕照1張、識別證2張等物）得手後逃逸。嗣因丙○○將背包內之現金取走後，將背包棄置在高雄市鳳山區武營路某處，再經民眾在高雄市鳳山區衛武營附近拾獲上開背包（內有長夾1個、國民身分證2張、國民健康保險卡1張、信用卡3張、金融卡1張等物），遂送交警察機關發還甲○○領回。(二)於同年10月10日晚間11時5分許，騎乘向不知情之劉伊恩借用之車牌號碼000-0000號普通重型機車，行經高雄市○○區○○○路000號前時，使用口罩遮掩車牌，自後靠近步行在人行道上之少年乙○○（89年生，基於兒童及少年福利與權益保障法第69條第2項規定不得揭露足以識別少年身分之資訊，年籍詳卷），趁乙○○不及防備之際，以左手徒手掠取乙○○右手持有之背包1只（內有皮夾1只、現金3萬2000元、提款卡1張、國民身分證1張、國民健康保險卡1張等物）得手後逃逸，並將現金取出，其餘物品則丟棄。嗣為警循線於105年10月16日凌晨2時許，在高雄市○○區○○路000巷00號前查獲，並扣得現金2600元。\n",
      "772\n",
      "丙○○意圖為自己不法之所有，(甲)YY(假)XX(一)abcdeABCA於民國105年10月8日晚間7時20分許，騎乘登記於不知情之王介平名下之車牌號碼000-000號普通重型機車，行經高雄市○○區○○○路000號前時，將口罩脫下遮掩車牌，自後靠近步行在人行道上之甲○○，趁甲○○不及防備之際，以左手徒手掠取甲○○右手持有之背包1只得手後逃逸。嗣因丙○○將背包內之現金取走後，將背包棄置在高雄市鳳山區武營路某處，再經民眾在高雄市鳳山區衛武營附近拾獲上開背包，遂送交警察機關發還甲○○領回。(二)於同年10月10日晚間11時5分許，騎乘向不知情之劉伊恩借用之車牌號碼000-0000號普通重型機車，行經高雄市○○區○○○路000號前時，使用口罩遮掩車牌，自後靠近步行在人行道上之少年乙○○，趁乙○○不及防備之際，以左手徒手掠取乙○○右手持有之背包1只得手後逃逸，並將現金取出，其餘物品則丟棄。嗣為警循線於105年10月16日凌晨2時許，在高雄市○○區○○路000巷00號前查獲，並扣得現金2600元。\n",
      "449\n"
     ]
    }
   ],
   "source": [
    "import numpy as np\n",
    "import pandas as pd\n",
    "import re\n",
    "\n",
    "my_regex = r\"[\\(\\（]([^一二三四五六七八九零十1234567890]{1}[^\\)\\）]+|[一二三四五六七八九零十1234567890]{1}[^\\)\\）]{1,})[\\)\\）]\"\n",
    "#my_regex = \"\\（.*?\\）|\\(([^\\)0-9零一二三四五六七八九十]?|[^\\).]{2,})\\)\"\n",
    "\n",
    "#tmpstr = '丙○○意圖為自己不法之所有，(甲)YY(假)XX(十一)(一)a(一一)b(一一一)c(年一)d(一年一)e(一一一年)A(9年)B(99年)C(999年)A(AAA)於民國105年10月8日晚間7時20分許，騎乘登記於不知情之王介平名下之車牌號碼000-000號普通重型機車，行經高雄市○○區○○○路000號前時，將口罩脫下遮掩車牌，自後靠近步行在人行道上之甲○○，趁甲○○不及防備之際，以左手徒手掠取甲○○右手持有之背包1只（內有現金新臺幣【下同】9500元、索尼牌ZR綠色及Xperformance金色行動電話共2具【IMEI：000000000000000、000000000000000號】、長夾1個、信用卡及金融卡共5張、國民身分證2張、國民健康保險卡1張、普通重型機車駕照1張、識別證2張等物）得手後逃逸。嗣因丙○○將背包內之現金取走後，將背包棄置在高雄市鳳山區武營路某處，再經民眾在高雄市鳳山區衛武營附近拾獲上開背包（內有長夾1個、國民身分證2張、國民健康保險卡1張、信用卡3張、金融卡1張等物），遂送交警察機關發還甲○○領回。(二)於同年10月10日晚間11時5分許，騎乘向不知情之劉伊恩借用之車牌號碼000-0000號普通重型機車，行經高雄市○○區○○○路000號前時，使用口罩遮掩車牌，自後靠近步行在人行道上之少年乙○○（89年生，基於兒童及少年福利與權益保障法第69條第2項規定不得揭露足以識別少年身分之資訊，年籍詳卷），趁乙○○不及防備之際，以左手徒手掠取乙○○右手持有之背包1只（內有皮夾1只、現金3萬2000元、提款卡1張、國民身分證1張、國民健康保險卡1張等物）得手後逃逸，並將現金取出，其餘物品則丟棄。嗣為警循線於105年10月16日凌晨2時許，在高雄市○○區○○路000巷00號前查獲，並扣得現金2600元。'\n",
    "#print((tmpstr))\n",
    "#print(len(tmpstr))\n",
    "#print((re.sub(my_regex, \"\", tmpstr)))\n",
    "#print(len(re.sub(my_regex, \"\", tmpstr)))"
   ]
  },
  {
   "cell_type": "code",
   "execution_count": 2,
   "outputs": [
    {
     "data": {
      "text/plain": "       court                       date            no sys reason type  \\\nid                                                                      \n0   臺灣桃園地方法院  2018-04-18T00:00:00+08:00    106,易,1093  刑事   妨害公務   判決   \n1   臺灣臺中地方法院  2011-05-19T00:00:00+08:00  100,中交簡,1002  刑事   公共危險   判決   \n\n                                             mainText  \\\nid                                                      \n0             邱建豪犯妨害公務執行罪，累犯，處拘役拾日，如易科罰金，以新臺幣壹仟元折算壹日。   \n1   王炎權服用酒類，不能安全駕駛動力交通工具而駕駛，處拘役伍拾日，如易科罰金，以新臺幣壹仟元折算壹日。   \n\n                                            judgement  \\\nid                                                      \n0   臺灣桃園地方法院刑事判決106年度易字第1093號公訴人臺灣桃園地方法院檢察署檢察官被告邱建...   \n1   臺灣臺中地方法院刑事簡易判決100年度中交簡字第1002號聲請人臺灣臺中地方法院檢察署檢察官...   \n\n                                            Situation  \nid                                                     \n0   邱建豪於民國106年5月1日下午5時15分許，在桃園市○○區○○路000號桃園市政府警察局桃...  \n1   王炎權於民國100年4月8日晚間9時30分許起至翌日凌晨3時許止，在彰化縣芬園鄉○○路○段2...  ",
      "text/html": "<div>\n<style scoped>\n    .dataframe tbody tr th:only-of-type {\n        vertical-align: middle;\n    }\n\n    .dataframe tbody tr th {\n        vertical-align: top;\n    }\n\n    .dataframe thead th {\n        text-align: right;\n    }\n</style>\n<table border=\"1\" class=\"dataframe\">\n  <thead>\n    <tr style=\"text-align: right;\">\n      <th></th>\n      <th>court</th>\n      <th>date</th>\n      <th>no</th>\n      <th>sys</th>\n      <th>reason</th>\n      <th>type</th>\n      <th>mainText</th>\n      <th>judgement</th>\n      <th>Situation</th>\n    </tr>\n    <tr>\n      <th>id</th>\n      <th></th>\n      <th></th>\n      <th></th>\n      <th></th>\n      <th></th>\n      <th></th>\n      <th></th>\n      <th></th>\n      <th></th>\n    </tr>\n  </thead>\n  <tbody>\n    <tr>\n      <td>0</td>\n      <td>臺灣桃園地方法院</td>\n      <td>2018-04-18T00:00:00+08:00</td>\n      <td>106,易,1093</td>\n      <td>刑事</td>\n      <td>妨害公務</td>\n      <td>判決</td>\n      <td>邱建豪犯妨害公務執行罪，累犯，處拘役拾日，如易科罰金，以新臺幣壹仟元折算壹日。</td>\n      <td>臺灣桃園地方法院刑事判決106年度易字第1093號公訴人臺灣桃園地方法院檢察署檢察官被告邱建...</td>\n      <td>邱建豪於民國106年5月1日下午5時15分許，在桃園市○○區○○路000號桃園市政府警察局桃...</td>\n    </tr>\n    <tr>\n      <td>1</td>\n      <td>臺灣臺中地方法院</td>\n      <td>2011-05-19T00:00:00+08:00</td>\n      <td>100,中交簡,1002</td>\n      <td>刑事</td>\n      <td>公共危險</td>\n      <td>判決</td>\n      <td>王炎權服用酒類，不能安全駕駛動力交通工具而駕駛，處拘役伍拾日，如易科罰金，以新臺幣壹仟元折算壹日。</td>\n      <td>臺灣臺中地方法院刑事簡易判決100年度中交簡字第1002號聲請人臺灣臺中地方法院檢察署檢察官...</td>\n      <td>王炎權於民國100年4月8日晚間9時30分許起至翌日凌晨3時許止，在彰化縣芬園鄉○○路○段2...</td>\n    </tr>\n  </tbody>\n</table>\n</div>"
     },
     "execution_count": 2,
     "metadata": {},
     "output_type": "execute_result"
    }
   ],
   "source": [
    "df=pd.read_csv('.//data//Result_TFIDF.csv', index_col=0)\n",
    "df.head(2)"
   ],
   "metadata": {
    "collapsed": false,
    "pycharm": {
     "name": "#%%\n"
    }
   }
  },
  {
   "cell_type": "code",
   "execution_count": 3,
   "metadata": {
    "pycharm": {
     "name": "#%%\n"
    }
   },
   "outputs": [
    {
     "data": {
      "text/plain": "        court                       date           no sys reason type  \\\nid                                                                      \n522  臺灣臺中地方法院  2017-02-06T00:00:00+08:00  105,中簡,1134  刑事     傷害   判決   \n901  臺灣臺中地方法院  2017-06-21T00:00:00+08:00    105,原易,51  刑事     傷害   判決   \n\n                                    mainText  \\\nid                                             \n522         易佳騰犯傷害罪，處拘役拾日，如易科罰金，以新臺幣壹仟元折算壹日。   \n901  宋約翰傷害人之身體，累犯，處有期徒刑肆月，如易科罰金，以新臺幣壹仟元折算壹日。   \n\n                                             judgement  \\\nid                                                       \n522  臺灣臺中地方法院刑事簡易判決105年度中簡字第1134號聲請人臺灣臺中地方法院檢察署檢察官被...   \n901  臺灣臺中地方法院刑事判決105年度原易字第51號公訴人臺灣臺中地方法院檢察署檢察官被告宋約翰...   \n\n                                             Situation  \nid                                                      \n522  易佳騰於民國103年12月30日22時53分許，在臺中市○○區○○街000號，因工程款糾紛與...  \n901  宋約翰前於民國103年間因公共危險案件，經本院以103年度中交簡字第3997號判決判處有期徒...  ",
      "text/html": "<div>\n<style scoped>\n    .dataframe tbody tr th:only-of-type {\n        vertical-align: middle;\n    }\n\n    .dataframe tbody tr th {\n        vertical-align: top;\n    }\n\n    .dataframe thead th {\n        text-align: right;\n    }\n</style>\n<table border=\"1\" class=\"dataframe\">\n  <thead>\n    <tr style=\"text-align: right;\">\n      <th></th>\n      <th>court</th>\n      <th>date</th>\n      <th>no</th>\n      <th>sys</th>\n      <th>reason</th>\n      <th>type</th>\n      <th>mainText</th>\n      <th>judgement</th>\n      <th>Situation</th>\n    </tr>\n    <tr>\n      <th>id</th>\n      <th></th>\n      <th></th>\n      <th></th>\n      <th></th>\n      <th></th>\n      <th></th>\n      <th></th>\n      <th></th>\n      <th></th>\n    </tr>\n  </thead>\n  <tbody>\n    <tr>\n      <td>522</td>\n      <td>臺灣臺中地方法院</td>\n      <td>2017-02-06T00:00:00+08:00</td>\n      <td>105,中簡,1134</td>\n      <td>刑事</td>\n      <td>傷害</td>\n      <td>判決</td>\n      <td>易佳騰犯傷害罪，處拘役拾日，如易科罰金，以新臺幣壹仟元折算壹日。</td>\n      <td>臺灣臺中地方法院刑事簡易判決105年度中簡字第1134號聲請人臺灣臺中地方法院檢察署檢察官被...</td>\n      <td>易佳騰於民國103年12月30日22時53分許，在臺中市○○區○○街000號，因工程款糾紛與...</td>\n    </tr>\n    <tr>\n      <td>901</td>\n      <td>臺灣臺中地方法院</td>\n      <td>2017-06-21T00:00:00+08:00</td>\n      <td>105,原易,51</td>\n      <td>刑事</td>\n      <td>傷害</td>\n      <td>判決</td>\n      <td>宋約翰傷害人之身體，累犯，處有期徒刑肆月，如易科罰金，以新臺幣壹仟元折算壹日。</td>\n      <td>臺灣臺中地方法院刑事判決105年度原易字第51號公訴人臺灣臺中地方法院檢察署檢察官被告宋約翰...</td>\n      <td>宋約翰前於民國103年間因公共危險案件，經本院以103年度中交簡字第3997號判決判處有期徒...</td>\n    </tr>\n  </tbody>\n</table>\n</div>"
     },
     "execution_count": 3,
     "metadata": {},
     "output_type": "execute_result"
    }
   ],
   "source": [
    "test=  pd.read_csv('.//data//Result_Test.csv', index_col=0)\n",
    "test.head(2)"
   ]
  },
  {
   "cell_type": "code",
   "execution_count": 4,
   "metadata": {
    "pycharm": {
     "name": "#%%\n"
    }
   },
   "outputs": [
    {
     "name": "stderr",
     "output_type": "stream",
     "text": [
      "c:\\users\\user\\pycharmprojects\\pytorch\\venv\\lib\\site-packages\\ipykernel_launcher.py:2: SettingWithCopyWarning: \n",
      "A value is trying to be set on a copy of a slice from a DataFrame.\n",
      "Try using .loc[row_indexer,col_indexer] = value instead\n",
      "\n",
      "See the caveats in the documentation: http://pandas.pydata.org/pandas-docs/stable/user_guide/indexing.html#returning-a-view-versus-a-copy\n",
      "  \n",
      "c:\\users\\user\\pycharmprojects\\pytorch\\venv\\lib\\site-packages\\ipykernel_launcher.py:3: SettingWithCopyWarning: \n",
      "A value is trying to be set on a copy of a slice from a DataFrame.\n",
      "Try using .loc[row_indexer,col_indexer] = value instead\n",
      "\n",
      "See the caveats in the documentation: http://pandas.pydata.org/pandas-docs/stable/user_guide/indexing.html#returning-a-view-versus-a-copy\n",
      "  This is separate from the ipykernel package so we can avoid doing imports until\n",
      "c:\\users\\user\\pycharmprojects\\pytorch\\venv\\lib\\site-packages\\ipykernel_launcher.py:4: SettingWithCopyWarning: \n",
      "A value is trying to be set on a copy of a slice from a DataFrame.\n",
      "Try using .loc[row_indexer,col_indexer] = value instead\n",
      "\n",
      "See the caveats in the documentation: http://pandas.pydata.org/pandas-docs/stable/user_guide/indexing.html#returning-a-view-versus-a-copy\n",
      "  after removing the cwd from sys.path.\n",
      "c:\\users\\user\\pycharmprojects\\pytorch\\venv\\lib\\site-packages\\ipykernel_launcher.py:5: SettingWithCopyWarning: \n",
      "A value is trying to be set on a copy of a slice from a DataFrame.\n",
      "Try using .loc[row_indexer,col_indexer] = value instead\n",
      "\n",
      "See the caveats in the documentation: http://pandas.pydata.org/pandas-docs/stable/user_guide/indexing.html#returning-a-view-versus-a-copy\n",
      "  \"\"\"\n",
      "c:\\users\\user\\pycharmprojects\\pytorch\\venv\\lib\\site-packages\\ipykernel_launcher.py:6: SettingWithCopyWarning: \n",
      "A value is trying to be set on a copy of a slice from a DataFrame.\n",
      "Try using .loc[row_indexer,col_indexer] = value instead\n",
      "\n",
      "See the caveats in the documentation: http://pandas.pydata.org/pandas-docs/stable/user_guide/indexing.html#returning-a-view-versus-a-copy\n",
      "  \n",
      "c:\\users\\user\\pycharmprojects\\pytorch\\venv\\lib\\site-packages\\ipykernel_launcher.py:7: SettingWithCopyWarning: \n",
      "A value is trying to be set on a copy of a slice from a DataFrame.\n",
      "Try using .loc[row_indexer,col_indexer] = value instead\n",
      "\n",
      "See the caveats in the documentation: http://pandas.pydata.org/pandas-docs/stable/user_guide/indexing.html#returning-a-view-versus-a-copy\n",
      "  import sys\n"
     ]
    },
    {
     "data": {
      "text/plain": "公共危險      344\n毀損        332\n妨害公務      319\n妨害名譽      297\n妨害自由      249\n侵占        224\n傷害        217\n過失傷害      214\n搶奪        204\n竊盜        194\n妨害風化      189\n妨害性自主     167\n著作權法      162\n偽造文書      156\n強盜        126\n毒品危害       66\n毀棄損壞       36\n詐欺         11\n過失致死        7\n賭博          5\n槍砲彈藥刀械      4\n貪污          4\n殺人未遂        3\n醫師法         3\n藥事法         2\n恐嚇          1\n商標法         1\n殺人          1\n替代役實施       1\n偽證          1\nName: reason, dtype: int64"
     },
     "execution_count": 4,
     "metadata": {},
     "output_type": "execute_result"
    }
   ],
   "source": [
    "df1 = df[~df['no'].isin(test['no'])]\n",
    "df1['reason'] = df1['reason'].str.replace('等','')\n",
    "df1['reason'] = df1['reason'].str.replace('罪','')\n",
    "df1['reason'] = df1['reason'].str.replace(\"條例\",\"\")\n",
    "df1['reason'] = df1['reason'].str.replace(\"防制\",\"\")\n",
    "df1['reason'] = df1['reason'].str.replace(\"管制\",\"\")\n",
    "df1['reason'] = df1['reason'].str.replace(\"違反\",\"\")\n",
    "df1.loc[:,'reason'].value_counts()"
   ]
  },
  {
   "cell_type": "code",
   "execution_count": 5,
   "outputs": [
    {
     "name": "stderr",
     "output_type": "stream",
     "text": [
      "c:\\users\\user\\pycharmprojects\\pytorch\\venv\\lib\\site-packages\\ipykernel_launcher.py:1: SettingWithCopyWarning: \n",
      "A value is trying to be set on a copy of a slice from a DataFrame.\n",
      "Try using .loc[row_indexer,col_indexer] = value instead\n",
      "\n",
      "See the caveats in the documentation: http://pandas.pydata.org/pandas-docs/stable/user_guide/indexing.html#returning-a-view-versus-a-copy\n",
      "  \"\"\"Entry point for launching an IPython kernel.\n"
     ]
    }
   ],
   "source": [
    "df1['Situation'] = df1['Situation'].str.replace(my_regex, \"\")\n",
    "#ierror = 0\n",
    "#for index, row in df1.iterrows():\n",
    "#    if (row.Situation != row.Situation2):\n",
    "#        print (index, \"\\n\", row.Situation, \"\\n\", row.Situation2)\n",
    "#        ierror += 1\n",
    "#        if (ierror > 5):\n",
    "#            break"
   ],
   "metadata": {
    "collapsed": false,
    "pycharm": {
     "name": "#%%\n"
    }
   }
  },
  {
   "cell_type": "code",
   "execution_count": 28,
   "outputs": [
    {
     "name": "stdout",
     "output_type": "stream",
     "text": [
      "總筆數 3540 \n",
      "\n"
     ]
    },
    {
     "data": {
      "text/plain": "公共危險      344\n毀損        332\n妨害公務      319\n妨害名譽      297\n妨害自由      249\n侵占        224\n傷害        217\n過失傷害      214\n搶奪        204\n竊盜        194\n妨害風化      189\n妨害性自主     167\n著作權法      162\n偽造文書      156\n強盜        126\n毒品危害       66\n毀棄損壞       36\n詐欺         11\n過失致死        7\n賭博          5\n槍砲彈藥刀械      4\n貪污          4\n殺人未遂        3\n醫師法         3\n藥事法         2\n恐嚇          1\n商標法         1\n殺人          1\n替代役實施       1\n偽證          1\nName: reason, dtype: int64"
     },
     "execution_count": 28,
     "metadata": {},
     "output_type": "execute_result"
    }
   ],
   "source": [
    "print(\"總筆數\",df1['reason'].count(), \"\\n\")\n",
    "df1.loc[:,'reason'].value_counts()"
   ],
   "metadata": {
    "collapsed": false,
    "pycharm": {
     "name": "#%%\n"
    }
   }
  },
  {
   "cell_type": "code",
   "execution_count": 6,
   "metadata": {
    "pycharm": {
     "name": "#%%\n"
    }
   },
   "outputs": [
    {
     "name": "stderr",
     "output_type": "stream",
     "text": [
      "Exception when trying to download https://sbert.net/models/bert-base-chinese.zip. Response 404\n",
      "WARNING:root:SentenceTransformer-Model https://sbert.net/models/bert-base-chinese.zip not found. Try to create it from scratch\n",
      "WARNING:root:Try to create Transformer Model bert-base-chinese with mean pooling\n"
     ]
    }
   ],
   "source": [
    "from sentence_transformers import SentenceTransformer, util\n",
    "embedder=SentenceTransformer('bert-base-chinese')\n",
    "\n",
    "import pandas as pd\n",
    "import time\n",
    "tStart = time.time()"
   ]
  },
  {
   "cell_type": "code",
   "execution_count": 7,
   "metadata": {
    "pycharm": {
     "name": "#%%\n"
    }
   },
   "outputs": [],
   "source": [
    "class Data(object):\n",
    "    def __init__(self):\n",
    "        self.no = \"0\"\n",
    "        self.reason = \"\"\n",
    "        self.Situation = \"\""
   ]
  },
  {
   "cell_type": "code",
   "execution_count": 8,
   "metadata": {
    "pycharm": {
     "name": "#%%\n"
    }
   },
   "outputs": [
    {
     "name": "stdout",
     "output_type": "stream",
     "text": [
      "\n",
      "3537\n"
     ]
    }
   ],
   "source": [
    "#embedder  SentenceTransformer('distilbert-base-nli-stsb-mean-tokens')\n",
    "\n",
    "# Corpus with example sentences\n",
    "#corpus  ['A man is eating food.',\n",
    "#          'A man is eating a piece of bread.',\n",
    "#          'The girl is carrying a baby.',\n",
    "#          'A man is riding a horse.',\n",
    "#          'A woman is playing violin.',\n",
    "#          'Two men pushed carts through the woods.',\n",
    "#          'A man is riding a white horse on an enclosed ground.',\n",
    "#          'A monkey is playing drums.',\n",
    "#          'A cheetah is running behind its prey.'\n",
    "#          ]\n",
    "corpus = []\n",
    "corpusList = []\n",
    "for index, row in df1.iterrows():\n",
    "    if (row.Situation == None):\n",
    "        continue\n",
    "    if (isinstance(row.Situation, float)):\n",
    "        continue\n",
    "    if (len(row.Situation) == 0):\n",
    "        continue\n",
    "    if (index == 5):\n",
    "        print()\n",
    "    d = Data()\n",
    "    d.no = row.no\n",
    "    d.reason = row.reason\n",
    "    d.Situation = row.Situation\n",
    "    corpusList.append(d)\n",
    "    corpus.append(row.Situation)\n",
    "corpus_embeddings = embedder.encode(corpus, convert_to_tensor=True)\n",
    "print(len(corpus))"
   ]
  },
  {
   "cell_type": "code",
   "execution_count": 9,
   "metadata": {
    "pycharm": {
     "name": "#%%\n"
    }
   },
   "outputs": [
    {
     "name": "stdout",
     "output_type": "stream",
     "text": [
      "轉向量時間 23.351661 sec\n"
     ]
    }
   ],
   "source": [
    "tEnd = time.time()#計時結束\n",
    "#列印結果\n",
    "print(\"轉向量時間\", \"%f sec\" % (tEnd - tStart))"
   ]
  },
  {
   "cell_type": "code",
   "execution_count": 10,
   "metadata": {
    "pycharm": {
     "name": "#%%\n"
    }
   },
   "outputs": [
    {
     "name": "stdout",
     "output_type": "stream",
     "text": [
      "22\n"
     ]
    }
   ],
   "source": [
    "# Query sentences:\n",
    "#queries  ['A man is eating pasta.', 'Someone in a gorilla costume is playing a set of drums.', 'A cheetah chases prey on across a field.']\n",
    "queries = []\n",
    "#specialtest  ='被告陳守仁為高職畢業擔任保全之男子，竟不思以正常手段獲取財物，因一時貪念，以徒手竊取該超商內商品供己食用之犯罪動機、目的、手段、生活狀況、智識程度、所竊得物品價值新臺幣（下同）總共約821元'\n",
    "specialtest  ='詎其猶不知悔改，復基於意圖為自己不法所有之竊盜犯意，於102年7月5日上午6時許（起訴書誤載為5時許），見林振億位於高雄市○○區○○街000號之住處大門未上鎖，竟未經允准侵入上開住宅內，徒手竊取行動電話5支、無線電3支、數位相機1臺及存錢筒1個（內有現金約新臺幣【下同】4,000元，上開物品共計價值47,000元），得手後離去；嗣經林振億發現遭竊後報警，為警在現場採得指紋後送鑑定後，結果與邱東成之指紋相符，而查悉上情。'\n",
    "specialtest = re.sub(my_regex, \"\", specialtest)\n",
    "queries.append(specialtest)\n",
    "for index, row in test.iterrows():\n",
    "    queries.append(str(row.Situation))\n",
    "print(len(queries))"
   ]
  },
  {
   "cell_type": "code",
   "execution_count": 11,
   "metadata": {
    "pycharm": {
     "name": "#%%\n"
    }
   },
   "outputs": [
    {
     "name": "stdout",
     "output_type": "stream",
     "text": [
      "\n",
      "\n",
      "\n",
      "\n",
      "\n",
      "Query: 詎其猶不知悔改，復基於意圖為自己不法所有之竊盜犯意，於102年7月5日上午6時許，見林振億位於高雄市○○區○○街000號之住處大門未上鎖，竟未經允准侵入上開住宅內，徒手竊取行動電話5支、無線電3支、數位相機1臺及存錢筒1個，得手後離去；嗣經林振億發現遭竊後報警，為警在現場採得指紋後送鑑定後，結果與邱東成之指紋相符，而查悉上情。\n",
      "\n",
      "Top 5 most similar sentences in corpus:\n",
      "1    105,審易,1434 \t 竊盜 \t(Score: 0.9830)\n",
      "詎其仍不知悔改，復意圖為自己不法之所有，基於竊盜之犯意，於104年6月25日下午1時49分許，至前老闆蕭振宇位於臺中市○○區○○巷0號之住處，先以翻越該住宅之圍牆而侵入上開房屋，再進入上開房屋一樓內，\n",
      "詎其仍不知悔改，復意圖為自己不法之所有，基於竊盜之犯意，於104年6月25日下午1時49分許，至前老闆蕭振宇位於臺中市○○區○○巷0號之住處，先以翻越該住宅之圍牆而侵入上開房屋，再進入上開房屋一樓內，徒手竊取蕭振宇所有置於屋內一樓之現金新臺幣7800元、鑰匙1串及遙控器1個等財物，得手後，旋即逃離現場。嗣蕭振宇發覺失竊，經調閱錄影監視器畫面後知悉王東屏所為，始報警處理而查獲上情。\n",
      "\n",
      "\n",
      "2    105,審易,1151 \t 竊盜 \t(Score: 0.9810)\n",
      "詎仍不知悔改，復先後為下列行為：(一)於105年2月29日凌晨3時許，行經林立邦位於臺中市○區○○街00號之住處時，竟意圖為自己不法所有，基於侵入住宅竊盜之犯意，趁該處大門未鎖之際進入屋內，徒手竊取林\n",
      "\n",
      "\n",
      "3    105,審易,1268 \t 竊盜 \t(Score: 0.9810)\n",
      "詎仍不知悔改，於99年12月27日凌晨3時許之夜間，行經陳幸慧位於臺中市○○區○○路00號住處前，發現該住處1樓落地鋁門窗未固定，認有機可趁，竟基於意圖為自己不法所有之竊盜犯意，徒手扳開該未固定之落地\n",
      "\n",
      "\n",
      "4    102,審訴,269 \t 搶奪 \t(Score: 0.9808)\n",
      "詎仍不知悔改，竟仍意圖為自己不法之所有，基於搶奪之犯意，於101年11月5日中午12時許，騎乘車牌號碼000-000號重型機車，行經桃園市○○○街00號新雅飯店前，見姚德慈獨自步行，認有機可乘，徒手搶\n",
      "\n",
      "\n",
      "COS相似計算時間 0.063827 sec\n",
      "\n",
      "\n",
      "\n",
      "\n",
      "\n",
      "Query: 易佳騰於民國103年12月30日22時53分許，在臺中市○○區○○街000號，因工程款糾紛與李佳樺發生爭執。易佳騰見李佳樺欲進入上址，因而屈肘於李佳樺之領口前，欲攔阻李佳樺，隨即並基於傷害之犯意，徒手推擠李佳樺，並以腳踹李佳樺之腿部，致李佳樺受有左大腿、小腿擦傷、左踝挫傷及左手挫傷等傷害。\n",
      "\n",
      "Top 5 most similar sentences in corpus:\n",
      "1    105,易,1017 \t 傷害 \t(Score: 0.9708)\n",
      "吳家軒與吳偉維為工作上之同事，其等於民國105年4月30日12時許，在臺南市○○區○○路0段000號對面工地旁之福利社發生爭執，吳家軒竟基於傷害之犯意，以手勒住吳偉維脖子，並將吳偉維頭部推向福利社遮雨\n",
      "\n",
      "\n",
      "2    105,審易,958 \t 傷害 \t(Score: 0.9698)\n",
      "被告張文成與廖明哲係鄰居，該2人於民國104年9月9日14時30分許，在廖明哲位於臺中市○區○○○路000巷0號住處門口道路上，因停車問題發生爭執，張文成竟基於傷害之犯意，徒手毆打廖明哲臉部，並將廖明\n",
      "\n",
      "\n",
      "3    105,中簡,1537 \t 傷害 \t(Score: 0.9696)\n",
      "洪振邦於民國104年11月1日上午6、7時許，至李東儒位於臺中市○○區○○路000巷0號住處前，向李東儒索討賒欠帳款，因李東儒堅決否認有何賒欠情形，洪振邦乃心生不滿，基於傷害之接續犯意，徒手毆打李東儒\n",
      "\n",
      "\n",
      "4    105,中簡,867 \t 傷害 \t(Score: 0.9691)\n",
      "緣林瑞石與林介仁因界址問題，迭生爭議，彼此不睦，於105年2月4日下午3時20分許，林瑞石在臺中市○○區○○○路0段00號林介仁住處前，因故又與林介仁發生口角爭執，詎林瑞石竟基於傷害之犯意，徒手接續毆\n",
      "\n",
      "\n",
      "5    105,審易,1150 \t 傷害 \t(Score: 0.9690)\n",
      "呂芊樺於民國104年11月25日上午10時32分，在臺北市○○區○○路000號1樓MINI汽車展間內，因工作問題與郭家伶發生爭執，竟基於傷害之犯意，以左手掐住郭家伶頸部並將之推往牆壁，致郭家伶受有右脖\n",
      "\n",
      "\n"
     ]
    }
   ],
   "source": [
    "# Find the closest 5 sentences of the corpus for each query sentence based on cosine similarity\n",
    "top_k = 5\n",
    "i = 0\n",
    "tmpSpecial = ''\n",
    "show = 0\n",
    "\n",
    "for query in queries:\n",
    "    tStart2 = time.time()\n",
    "    query_embedding = embedder.encode(query, convert_to_tensor=True)\n",
    "    cos_scores = util.pytorch_cos_sim(query_embedding, corpus_embeddings)[0]\n",
    "    cos_scores = cos_scores.cpu()\n",
    "\n",
    "\n",
    "    #We use np.argpartition, to only partially sort the top_k results\n",
    "    top_results = np.argpartition(-cos_scores, range(top_k))[0:top_k]\n",
    "    print(\"\\n\\n\\n\\n\")\n",
    "    print(\"Query:\", query)\n",
    "    print(\"\\nTop 5 most similar sentences in corpus:\")\n",
    "\n",
    "    no = 1\n",
    "    for idx in top_results[0:top_k]:\n",
    "        if (corpus[idx] == specialtest):\n",
    "            continue\n",
    "        print(no, \"  \"\n",
    "              , corpusList[idx].no,\"\\t\"\n",
    "              ,  corpusList[idx].reason\n",
    "              , \"\\t(Score: %.4f)\" % (cos_scores[idx]))\n",
    "        if (len(corpus[idx].strip()[0:100]) > 100):\n",
    "            print (corpus[idx].strip()[0:100])\n",
    "        else:\n",
    "            print (corpus[idx].strip()[0:100])\n",
    "        if (tmpSpecial == ''):\n",
    "            tmpSpecial = corpus[idx].strip()\n",
    "            print(tmpSpecial)\n",
    "        print('\\n')\n",
    "        no = no + 1\n",
    "        show += 1\n",
    "\n",
    "    if (show > 5):break\n",
    "\n",
    "    tEnd2 = time.time()#計時結束\n",
    "    print(\"COS相似計算時間\", \"%f sec\" % (tEnd2 - tStart2))"
   ]
  },
  {
   "cell_type": "code",
   "execution_count": 12,
   "metadata": {
    "pycharm": {
     "name": "#%%\n"
    }
   },
   "outputs": [
    {
     "name": "stderr",
     "output_type": "stream",
     "text": [
      "Exception when trying to download https://sbert.net/models/bert-base-chinese.zip. Response 404\n",
      "WARNING:root:SentenceTransformer-Model https://sbert.net/models/bert-base-chinese.zip not found. Try to create it from scratch\n",
      "WARNING:root:Try to create Transformer Model bert-base-chinese with mean pooling\n"
     ]
    }
   ],
   "source": [
    "from sentence_transformers import SentenceTransformer\n",
    "from sklearn.cluster import KMeans\n",
    "embedder = SentenceTransformer('bert-base-chinese')\n",
    "corpus_embeddings = embedder.encode(corpus)\n",
    "# Then, we perform k-means clustering using sklearn:\n",
    "from sklearn.cluster import KMeans\n",
    "\n",
    "specialcls = -1\n",
    "\n",
    "num_clusters = 16\n",
    "clustering_model = KMeans(n_clusters=num_clusters)\n",
    "clustering_model.fit(corpus_embeddings)\n",
    "cluster_assignment = clustering_model.labels_"
   ]
  },
  {
   "cell_type": "code",
   "execution_count": 13,
   "metadata": {},
   "outputs": [
    {
     "name": "stdout",
     "output_type": "stream",
     "text": [
      "13\n",
      "Cluster  1\n",
      "李龍煌欲裝潢臺南市○○區○○路2段40號店面作為營業場所，委請上揚開發建設有限公司估價，該公司於民國99年11月19日之報價為新臺幣4萬8825元，於同年月25日將材料送至施工現場後，向李龍煌改稱先前\n",
      "\n",
      "Cluster  2\n",
      "石月玲因常前往林素英、黃議寬祖孫所經營之位於臺中市○區○○街110號之「慶昌資源回收場」買賣二手貨物，而與林素英熟識。石月玲於民國100年5月30日上午8時39分許，在「慶昌資源回收場」辦公室內與林素\n",
      "\n",
      "Cluster  3\n",
      "劉子昇於民國99年1月11日23時15分許，駕駛車牌號碼ZD－5993號自用小客車，沿臺南市○○區○○路，由北往南方向行駛，行經臺南市○○區○○路與公學路間之交岔路口時，與許世昌所駕駛，沿臺南市○○區\n",
      "\n",
      "Cluster  4\n",
      "被告柳慶揚意圖為自己不法之所有，於民國78年3月19日中午12時10分許，以治療牙痛為藉，至桃園縣楊梅鎮○○路000號東山牙科內就診，經謝亭龍以止痛藥予以止痛，並準備磨牙之際，竟取出預藏之水果刀1把，\n",
      "\n",
      "Cluster  5\n",
      "被告吳政翰明知代號0000-0000及代號0000-0000A均係未滿十四歲之女子。詎其於九十九年七月二十二日十五時三十分許，在臺南市○○區○○街一０一巷一０號「朝皇宮」前廣場，見甲女與乙女一同玩耍，\n",
      "\n",
      "Cluster  6\n",
      "邱建豪於民國106年5月1日下午5時15分許，在桃園市○○區○○路000號桃園市政府警察局桃園分局埔子派出所內之值班臺，明知員警徐芳振係依法執行職務之公務員，因不滿員警告以所詢事項應向其他單位辦理，竟\n",
      "\n",
      "Cluster  7\n",
      "於九十九年十月六日某時許，在其位於臺南市○區○○街二段七九巷一四號之一之住處房間內，以將第一級毒品海洛因置入針筒內注射之方式，施用海洛因一次。另基於施用第二級毒品甲基安非他命之犯意，於同日某時許，在上\n",
      "\n",
      "Cluster  8\n",
      "被告丁○○意圖為自己不法所有，於民國101年2月20日下午5時50分許，騎乘戊○○所交付、鍾維鴻之父鍾義守所有車牌號碼000-000號重型機車，行經桃園縣桃園市中正路與同德十一街口時，見甲○○將自用小\n",
      "\n",
      "Cluster  9\n",
      "施勇年意圖為自己不法之所有及行使偽造私文書之犯意，分別於附表一至附表六所示之時間、地點，以附表一至附表六所示之方法偽造萬泰商業銀行之自動櫃員機交易明細表後，再以附表一至附表六所示之詐術，致附表一至附表\n",
      "\n",
      "Cluster  10\n",
      "詎其不知悔改，復基於賭博及意圖營利供給賭博場所、聚眾賭博之犯意，自民國100年1月25日起，提供其位在臺中市○○區○○路230號之公眾得出入之場所，聚集不特定多數人簽選號碼與之賭博財物。其賭法係賭客以\n",
      "\n",
      "Cluster  11\n",
      "王炎權於民國100年4月8日晚間9時30分許起至翌日凌晨3時許止，在彰化縣芬園鄉○○路○段291巷15號之住處內飲酒後，已達不能安全駕駛動力交通工具之程度，竟仍駕駛車牌號碼為UJ-4775號自小客車上\n",
      "\n",
      "Cluster  12\n",
      "黎桓銘承租並居住在臺中縣太平市自民國98年9月某日起至99年3月9日前之某日止之日間，先後3次，持其所有、租書使用之錦城漫畫影音會員卡1張，開啟陳廣致上開租屋處大門，自大門侵入該房屋，分別竊取陳廣致所\n",
      "\n",
      "Cluster  13\n",
      "王寬宏於民國100年2月16日上午9時55分許，駕駛車牌號碼TP-7158號自用小客車，沿臺南市○○區○○路由東往西方向行駛，行至復興路390號前時，本應注意汽車行駛時，駕駛人應注意車前狀況及兩車併行\n",
      "\n",
      "Cluster  14\n",
      "被告陳守仁為高職畢業擔任保全之男子，竟不思以正常手段獲取財物，因一時貪念，以徒手竊取該超商內商品供己食用之犯罪動機、目的、手段、生活狀況、智識程度、所竊得物品價值新臺幣總共約821元\n",
      "\n",
      "Cluster  15\n",
      "林萬福前於民國98年間，因竊盜案件，經本院判處拘役20日、20日，應執行拘役30日確定，甫於98年12月26日易服社會勞動執行完畢，詎其猶不知悔改，於99年10月27日上午10時50分許，在臺中市○○\n",
      "\n",
      "Cluster  16\n",
      "涂煌輝係原址設嘉義市○區○○路○○○號七樓之「振揚影音科技有限公司」之代表人，以提供伴唱歌曲之出租為業。涂煌輝明知非經音樂著作財產權人之授權，不得擅自重製或出租他人擁有之音樂著作財產權，竟分別基於意圖\n",
      "\n"
     ]
    }
   ],
   "source": [
    "clustered_sentences = [[] for i in range(num_clusters)]\n",
    "for sentence_id, cluster_id in enumerate(cluster_assignment):\n",
    "    clustered_sentences[cluster_id].append(corpus[sentence_id])\n",
    "    if (tmpSpecial == corpus[sentence_id]):\n",
    "        specialcls = cluster_id\n",
    "        print (cluster_id)\n",
    "for i, cluster in enumerate(clustered_sentences):\n",
    "    print(\"Cluster \", i+1)\n",
    "    print(cluster[0].strip()[0:100])\n",
    "    print(\"\")"
   ]
  },
  {
   "cell_type": "code",
   "execution_count": 14,
   "outputs": [],
   "source": [
    "class Cls(object):\n",
    "    def __init__(self):\n",
    "        self.reason = \"\"\n",
    "        self.num = 0"
   ],
   "metadata": {
    "collapsed": false,
    "pycharm": {
     "name": "#%%\n"
    }
   }
  },
  {
   "cell_type": "code",
   "execution_count": 15,
   "outputs": [
    {
     "name": "stdout",
     "output_type": "stream",
     "text": [
      "1    106,易,1093 \t 妨害公務 \n",
      "\n",
      "邱建豪於民國106年5月1日下午5時15分許，在桃園市○○區○○路000號桃園市政府警察局桃園分局埔子派出所內之值班臺，明知員警徐芳振係依法執行職務之公務員，因不滿員警告以所詢事項應向其他單位辦理，竟\n",
      "\n",
      "2    100,中交簡,1002 \t 公共危險 \n",
      "\n",
      "王炎權於民國100年4月8日晚間9時30分許起至翌日凌晨3時許止，在彰化縣芬園鄉○○路○段291巷15號之住處內飲酒後，已達不能安全駕駛動力交通工具之程度，竟仍駕駛車牌號碼為UJ-4775號自小客車上\n",
      "\n",
      "3    100,中交簡,100 \t 公共危險 \n",
      "\n",
      "林耀明於民國99年10月22日下午4時許起至5時許止，在臺中市○○區○○路與豐樂路交岔路口附近之某工地內，與友人飲用酒類後，已達不能安全駕駛動力交通工具之程度，猶於同日下午6時許，駕駛車牌號碼CX-6\n",
      "\n",
      "4    100,中交簡,1016 \t 公共危險 \n",
      "\n",
      "朱建鴻於民國100年4月19日晚間9時許起，在臺中市大雅區清泉崗友人住處內飲用啤酒，至同日晚間10時許已達不能安全駕駛動力交通工具之程度，猶於飲畢後騎乘車牌號碼187-BCV號重型機車上路欲返回住處，\n",
      "\n",
      "5    100,中交簡,1106 \t 公共危險 \n",
      "\n",
      "洪國棋於民國100年4月28日晚間7時許起至同日晚間8時30分許止，在臺中市○里區○○路215號之住處，飲用高粱酒1瓶後，已達不能安全駕駛動力交通工具之程度，竟仍於翌日凌晨2時許，騎乘車牌號碼為YIY\n",
      "\n"
     ]
    }
   ],
   "source": [
    "no = 1\n",
    "clusterList = {}\n",
    "show = 0\n",
    "for sentence_id, cluster_id in enumerate(cluster_assignment):\n",
    "    if (show < 5):\n",
    "        print(no, \"  \"\n",
    "                  , corpusList[sentence_id].no,\"\\t\"\n",
    "                  ,  corpusList[sentence_id].reason, \"\\n\")\n",
    "        if (len(corpusList[sentence_id].Situation.strip()) > 100):\n",
    "            print(corpusList[sentence_id].Situation.strip()[0:100])\n",
    "        else:\n",
    "            print(corpusList[sentence_id].Situation.strip())\n",
    "        no += 1\n",
    "        print(\"\")\n",
    "\n",
    "        show +=1\n",
    "    if cluster_id in clusterList:\n",
    "        if corpusList[sentence_id].reason in clusterList[cluster_id]:\n",
    "            clusterList[cluster_id][corpusList[sentence_id].reason] += 1\n",
    "        else:\n",
    "            clusterList[cluster_id][corpusList[sentence_id].reason] = 1\n",
    "    else:\n",
    "        clslist = {}\n",
    "        clslist[corpusList[sentence_id].reason] = 1\n",
    "        clusterList[cluster_id] = clslist"
   ],
   "metadata": {
    "collapsed": false,
    "pycharm": {
     "name": "#%%\n"
    }
   }
  },
  {
   "cell_type": "code",
   "execution_count": 16,
   "outputs": [
    {
     "name": "stdout",
     "output_type": "stream",
     "text": [
      "0  \n",
      "侵占   134\n",
      "偽造文書   59\n",
      "妨害名譽   17\n",
      "毀損   17\n",
      "妨害自由   13\n",
      "著作權法   12\n",
      "妨害公務   5\n",
      "過失致死   5\n",
      "詐欺   3\n",
      "貪污   2\n",
      "毀棄損壞   2\n",
      "傷害   2\n",
      "醫師法   2\n",
      "公共危險   1\n",
      "商標法   1\n",
      " \n",
      "1  \n",
      "妨害名譽   160\n",
      "妨害自由   75\n",
      "傷害   31\n",
      "毀損   15\n",
      "強盜   12\n",
      "妨害性自主   11\n",
      "侵占   11\n",
      "著作權法   9\n",
      "偽造文書   7\n",
      "妨害風化   6\n",
      "搶奪   6\n",
      "妨害公務   4\n",
      "竊盜   2\n",
      "恐嚇   1\n",
      "公共危險   1\n",
      "槍砲彈藥刀械   1\n",
      " \n",
      "2  \n",
      "妨害公務   48\n",
      "公共危險   38\n",
      "毀損   35\n",
      "妨害自由   25\n",
      "搶奪   15\n",
      "傷害   10\n",
      "妨害名譽   8\n",
      "過失傷害   6\n",
      "偽造文書   6\n",
      "妨害性自主   4\n",
      "妨害風化   1\n",
      "強盜   1\n",
      " \n",
      "3  \n",
      "傷害   148\n",
      "妨害名譽   24\n",
      "毀損   19\n",
      "妨害自由   11\n",
      "毀棄損壞   4\n",
      "妨害公務   4\n",
      "強盜   1\n",
      "妨害性自主   1\n",
      "搶奪   1\n",
      " \n",
      "4  \n",
      "妨害性自主   136\n",
      "妨害自由   16\n",
      "傷害   2\n",
      "強盜   2\n",
      "妨害名譽   2\n",
      "偽造文書   2\n",
      "侵占   1\n",
      "搶奪   1\n",
      "妨害風化   1\n",
      " \n",
      "5  \n",
      "妨害公務   224\n",
      "妨害名譽   5\n",
      "偽造文書   4\n",
      "毀損   1\n",
      "侵占   1\n",
      "公共危險   1\n",
      "妨害自由   1\n",
      " \n",
      "6  \n",
      "毒品危害   54\n",
      "強盜   2\n",
      "偽證   1\n",
      "藥事法   1\n",
      " \n",
      "7  \n",
      "毀損   137\n",
      "毀棄損壞   10\n",
      "妨害自由   7\n",
      "侵占   5\n",
      "過失傷害   4\n",
      "妨害名譽   4\n",
      "偽造文書   4\n",
      "傷害   3\n",
      "搶奪   2\n",
      "妨害公務   2\n",
      "強盜   1\n",
      "毒品危害   1\n",
      " \n",
      "8  \n",
      "偽造文書   65\n",
      "妨害名譽   26\n",
      "侵占   15\n",
      "妨害自由   11\n",
      "竊盜   8\n",
      "詐欺   7\n",
      "妨害公務   6\n",
      "毀損   5\n",
      "強盜   4\n",
      "妨害性自主   3\n",
      "殺人未遂   3\n",
      "傷害   2\n",
      "公共危險   1\n",
      "妨害風化   1\n",
      "槍砲彈藥刀械   1\n",
      "著作權法   1\n",
      "醫師法   1\n",
      "貪污   1\n",
      "殺人   1\n",
      " \n",
      "9  \n",
      "妨害風化   169\n",
      "賭博   5\n",
      "侵占   1\n",
      "著作權法   1\n",
      " \n",
      "10  \n",
      "公共危險   257\n",
      "偽造文書   4\n",
      "過失傷害   4\n",
      "妨害公務   1\n",
      " \n",
      "11  \n",
      "毀損   92\n",
      "妨害自由   79\n",
      "妨害名譽   47\n",
      "毀棄損壞   18\n",
      "傷害   13\n",
      "侵占   12\n",
      "妨害公務   10\n",
      "竊盜   8\n",
      "公共危險   8\n",
      "妨害性自主   4\n",
      "搶奪   3\n",
      "強盜   3\n",
      "偽造文書   2\n",
      "妨害風化   1\n",
      "著作權法   1\n",
      "藥事法   1\n",
      "貪污   1\n",
      " \n",
      "12  \n",
      "過失傷害   198\n",
      "公共危險   26\n",
      "過失致死   2\n",
      "妨害公務   1\n",
      "妨害自由   1\n",
      " \n",
      "13  \n",
      "搶奪   167\n",
      "竊盜   164\n",
      "強盜   91\n",
      "侵占   38\n",
      "妨害性自主   6\n",
      "妨害自由   6\n",
      "毀損   3\n",
      "妨害風化   3\n",
      "偽造文書   1\n",
      "詐欺   1\n",
      "傷害   1\n",
      "槍砲彈藥刀械   1\n",
      " \n",
      "14  \n",
      "妨害公務   14\n",
      "竊盜   12\n",
      "公共危險   11\n",
      "毒品危害   11\n",
      "搶奪   9\n",
      "強盜   9\n",
      "毀損   8\n",
      "妨害風化   7\n",
      "侵占   6\n",
      "妨害自由   4\n",
      "傷害   4\n",
      "妨害名譽   4\n",
      "妨害性自主   2\n",
      "毀棄損壞   2\n",
      "過失傷害   1\n",
      "替代役實施   1\n",
      "著作權法   1\n",
      "偽造文書   1\n",
      "槍砲彈藥刀械   1\n",
      " \n",
      "15  \n",
      "著作權法   137\n",
      " \n"
     ]
    }
   ],
   "source": [
    "idcnt = 0\n",
    "for key, value in sorted(clusterList.items()):\n",
    "    print(key, \" \")\n",
    "    for _key, _value in sorted(value.items(), key=lambda x: -x[1]):\n",
    "        print(_key, \" \", _value)\n",
    "        idcnt += _value\n",
    "    print(\" \")"
   ],
   "metadata": {
    "collapsed": false,
    "pycharm": {
     "name": "#%%\n"
    }
   }
  },
  {
   "cell_type": "code",
   "execution_count": 17,
   "outputs": [],
   "source": [
    "from scipy import stats\n",
    "import pandas as pd\n",
    "\n",
    "def Entropy(labels):\n",
    "    # 计算概率分布\n",
    "    probs = pd.Series(labels).value_counts() / len(labels)\n",
    "    # 计算底数为base的熵\n",
    "    en = stats.entropy(probs)\n",
    "    return en"
   ],
   "metadata": {
    "collapsed": false,
    "pycharm": {
     "name": "#%%\n"
    }
   }
  },
  {
   "cell_type": "code",
   "execution_count": 19,
   "outputs": [
    {
     "name": "stdout",
     "output_type": "stream",
     "text": [
      "Avg Entropy:\t 1.60020319339481 \n",
      "\n",
      "Clu 0 Entropy:\t 2.0611128325795947\n",
      "Clu 1 Entropy:\t 2.3933121229745242\n",
      "Clu 2 Entropy:\t 2.253857589601352\n",
      "Clu 3 Entropy:\t 1.6769877743224173\n",
      "Clu 4 Entropy:\t 1.2148896539491205\n",
      "Clu 5 Entropy:\t 1.1537419427010902\n",
      "Clu 6 Entropy:\t 1.0397207708399179\n",
      "Clu 7 Entropy:\t 1.9792045174343245\n",
      "Clu 8 Entropy:\t 2.1545618526134365\n",
      "Clu 9 Entropy:\t 1.0397207708399179\n",
      "Clu 10 Entropy:\t 1.0397207708399179\n",
      "Clu 11 Entropy:\t 2.3439329813080194\n",
      "Clu 12 Entropy:\t 1.3321790402101223\n",
      "Clu 13 Entropy:\t 1.7917594692280554\n",
      "Clu 14 Entropy:\t 2.128549004875151\n",
      "Clu 15 Entropy:\t 0.0\n"
     ]
    }
   ],
   "source": [
    "score = 0\n",
    "clucnt = 0\n",
    "clusterEntropy = {}\n",
    "for key, value in sorted(clusterList.items()):\n",
    "    clusterEntropy[key] = Entropy(value)\n",
    "    score += clusterEntropy[key]\n",
    "    clucnt += 1\n",
    "\n",
    "print(\"Avg Entropy:\\t\", score/clucnt, \"\\n\")\n",
    "\n",
    "for key, value in sorted(clusterEntropy.items()):\n",
    "    print(\"Clu\", key, \"Entropy:\\t\", value)"
   ],
   "metadata": {
    "collapsed": false,
    "pycharm": {
     "name": "#%%\n"
    }
   }
  },
  {
   "cell_type": "code",
   "execution_count": null,
   "outputs": [],
   "source": [],
   "metadata": {
    "collapsed": false,
    "pycharm": {
     "name": "#%%\n"
    }
   }
  }
 ],
 "metadata": {
  "kernelspec": {
   "display_name": "Python 3",
   "language": "python",
   "name": "python3"
  },
  "language_info": {
   "codemirror_mode": {
    "name": "ipython",
    "version": 3
   },
   "file_extension": ".py",
   "mimetype": "text/x-python",
   "name": "python",
   "nbconvert_exporter": "python",
   "pygments_lexer": "ipython3",
   "version": "3.6.8"
  }
 },
 "nbformat": 4,
 "nbformat_minor": 1
}