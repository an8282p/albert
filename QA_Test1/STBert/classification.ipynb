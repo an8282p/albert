{
 "cells": [
  {
   "cell_type": "code",
   "execution_count": 34,
   "outputs": [],
   "source": [],
   "metadata": {
    "collapsed": false,
    "pycharm": {
     "name": "#%%\n"
    }
   }
  },
  {
   "cell_type": "code",
   "execution_count": 50,
   "outputs": [],
   "source": [
    "total_file = './data/Result_TFIDF.csv'\n",
    "\n",
    "source_folder = './CQA/data'\n",
    "destination_folder = './data/class/model'"
   ],
   "metadata": {
    "collapsed": false,
    "pycharm": {
     "name": "#%%\n"
    }
   }
  },
  {
   "cell_type": "code",
   "execution_count": 36,
   "outputs": [],
   "source": [
    "label_mapping ={\n",
    "    '傷害' : 0,\n",
    "    '侵占' : 1,\n",
    "    '公共危險' : 2,\n",
    "    '過失傷害' : 3,\n",
    "    '妨害自由' : 4,\n",
    "    '妨害公務' : 5,\n",
    "    '竊盜' : 6,\n",
    "    '妨害名譽' : 7,\n",
    "    '妨害性自主' : 8,\n",
    "    '偽造文書' : 9,\n",
    "    '搶奪' : 10,\n",
    "    '毀損' : 11,\n",
    "    '妨害風化' : 12,\n",
    "    '毒品危害防制' : 13,\n",
    "    '妨害性自主罪' : 14,\n",
    "    '強盜' : 15,\n",
    "    '著作權法' : 16,\n",
    "    '過失致死' : 17,\n",
    "    '詐欺' : 17,\n",
    "    '賭博' : 17,\n",
    "    '槍砲彈藥刀械管制' : 17,\n",
    "    '貪污' : 17,\n",
    "    '殺人未遂' : 17,\n",
    "    '醫師法' : 17,\n",
    "    '藥事法' : 17,\n",
    "    '偽證' : 17,\n",
    "    '殺人' : 17\n",
    "}\n",
    "\n",
    "label2_mapping ={\n",
    "    '傷害' : '傷害',\n",
    "    '侵占' : '侵占',\n",
    "    '公共危險' : '公共危險',\n",
    "    '過失傷害' : '過失傷害',\n",
    "    '妨害自由' : '妨害自由',\n",
    "    '妨害公務' : '妨害公務',\n",
    "    '竊盜' : '竊盜',\n",
    "    '妨害名譽' : '妨害名譽',\n",
    "    '妨害性自主' : '妨害性自主',\n",
    "    '偽造文書' : '偽造文書',\n",
    "    '搶奪' : '搶奪',\n",
    "    '毀損' : '毀損',\n",
    "    '妨害風化' : '妨害風化',\n",
    "    '毒品危害防制' : '毒品危害防制',\n",
    "    '妨害性自主罪' : '妨害性自主罪',\n",
    "    '強盜' : '強盜',\n",
    "    '著作權法' : '著作權法',\n",
    "    '過失致死' : '其他',\n",
    "    '詐欺' : '其他',\n",
    "    '賭博' : '其他',\n",
    "    '槍砲彈藥刀械管制' : '其他',\n",
    "    '貪污' : '其他',\n",
    "    '殺人未遂' : '其他',\n",
    "    '醫師法' : '其他',\n",
    "    '藥事法' : '其他',\n",
    "    '偽證' : '其他',\n",
    "    '殺人' : '其他'\n",
    "}"
   ],
   "metadata": {
    "collapsed": false,
    "pycharm": {
     "name": "#%%\n"
    }
   }
  },
  {
   "cell_type": "code",
   "execution_count": 37,
   "outputs": [],
   "source": [
    "# Libraries\n",
    "import pandas as pd"
   ],
   "metadata": {
    "collapsed": false,
    "pycharm": {
     "name": "#%%\n"
    }
   }
  },
  {
   "cell_type": "code",
   "execution_count": 38,
   "outputs": [
    {
     "data": {
      "text/plain": "              no                                          titletext label\nid                                                                       \n0     106,易,1093  邱建豪於民國106年5月1日下午5時15分許，在桃園市○○區○○路000號桃園市政府警察局桃...  妨害公務\n1   100,中交簡,1002  王炎權於民國100年4月8日晚間9時30分許起至翌日凌晨3時許止，在彰化縣芬園鄉○○路○段2...  公共危險\n2    100,中交簡,100  林耀明於民國99年10月22日下午4時許起至5時許止，在臺中市○○區○○路與豐樂路交岔路口附...  公共危險",
      "text/html": "<div>\n<style scoped>\n    .dataframe tbody tr th:only-of-type {\n        vertical-align: middle;\n    }\n\n    .dataframe tbody tr th {\n        vertical-align: top;\n    }\n\n    .dataframe thead th {\n        text-align: right;\n    }\n</style>\n<table border=\"1\" class=\"dataframe\">\n  <thead>\n    <tr style=\"text-align: right;\">\n      <th></th>\n      <th>no</th>\n      <th>titletext</th>\n      <th>label</th>\n    </tr>\n    <tr>\n      <th>id</th>\n      <th></th>\n      <th></th>\n      <th></th>\n    </tr>\n  </thead>\n  <tbody>\n    <tr>\n      <td>0</td>\n      <td>106,易,1093</td>\n      <td>邱建豪於民國106年5月1日下午5時15分許，在桃園市○○區○○路000號桃園市政府警察局桃...</td>\n      <td>妨害公務</td>\n    </tr>\n    <tr>\n      <td>1</td>\n      <td>100,中交簡,1002</td>\n      <td>王炎權於民國100年4月8日晚間9時30分許起至翌日凌晨3時許止，在彰化縣芬園鄉○○路○段2...</td>\n      <td>公共危險</td>\n    </tr>\n    <tr>\n      <td>2</td>\n      <td>100,中交簡,100</td>\n      <td>林耀明於民國99年10月22日下午4時許起至5時許止，在臺中市○○區○○路與豐樂路交岔路口附...</td>\n      <td>公共危險</td>\n    </tr>\n  </tbody>\n</table>\n</div>"
     },
     "execution_count": 38,
     "metadata": {},
     "output_type": "execute_result"
    }
   ],
   "source": [
    "dffull = pd.read_csv(total_file, index_col=0)\n",
    "dffull['reason'] = dffull['reason'].str.replace('等','')\n",
    "dffull['reason'] = dffull['reason'].str.replace(\"條例\",\"\")\n",
    "dffull['reason'] = dffull['reason'].str.replace(\"違反\",\"\")\n",
    "dffull['text'] = dffull['Situation']\n",
    "dffull['label'] = dffull['reason'].str.strip().map(label2_mapping)\n",
    "\n",
    "dffull = dffull.rename(columns={\"mainText\": \"title\", \"Situation\": \"titletext\"})\n",
    "dffull = dffull[[\"no\", \"titletext\", \"label\" ]]\n",
    "dffull = dffull.dropna()\n",
    "dffull.head(3)"
   ],
   "metadata": {
    "collapsed": false,
    "pycharm": {
     "name": "#%%\n"
    }
   }
  },
  {
   "cell_type": "code",
   "execution_count": 39,
   "outputs": [
    {
     "data": {
      "text/plain": "傷害        220\n侵占        210\n公共危險      206\n過失傷害      198\n妨害自由      193\n妨害公務      184\n竊盜        178\n妨害名譽      169\n妨害性自主      91\n偽造文書       79\n搶奪         76\n毀損         69\n妨害風化       68\n毒品危害防制     66\n強盜         63\n妨害性自主罪     63\n著作權法       61\n其他         36\nName: label, dtype: int64"
     },
     "execution_count": 39,
     "metadata": {},
     "output_type": "execute_result"
    }
   ],
   "source": [
    "dffull.loc[:,'label'].value_counts()"
   ],
   "metadata": {
    "collapsed": false,
    "pycharm": {
     "name": "#%%\n"
    }
   }
  },
  {
   "cell_type": "code",
   "execution_count": 40,
   "outputs": [
    {
     "data": {
      "text/plain": "no           0\ntitletext    0\nlabel        0\ndtype: int64"
     },
     "execution_count": 40,
     "metadata": {},
     "output_type": "execute_result"
    }
   ],
   "source": [
    "dffull.isna().sum()"
   ],
   "metadata": {
    "collapsed": false,
    "pycharm": {
     "name": "#%%\n"
    }
   }
  },
  {
   "cell_type": "code",
   "execution_count": 41,
   "outputs": [
    {
     "data": {
      "text/plain": "              no                                          titletext label\nid                                                                       \n2329   106,訴,901  嚴國安於民國106年10月26日20時10分許，在高雄市鳳山區鳳林路之黃埔公園公車站牌處，見...    搶奪\n1644  105,簡上,210  艾康淇前因承攬林徐湘楹（已成年）之房屋裝修工程，並因而發生民事紛爭而在本院涉訟，由本院以10...  妨害名譽\n1333   105,易,135  黃淑英與黃周招君為母女關係，黃淑英明知其母黃周招君欲將其名下所有、如附表所示之房地贈與予黃淑...  偽造文書",
      "text/html": "<div>\n<style scoped>\n    .dataframe tbody tr th:only-of-type {\n        vertical-align: middle;\n    }\n\n    .dataframe tbody tr th {\n        vertical-align: top;\n    }\n\n    .dataframe thead th {\n        text-align: right;\n    }\n</style>\n<table border=\"1\" class=\"dataframe\">\n  <thead>\n    <tr style=\"text-align: right;\">\n      <th></th>\n      <th>no</th>\n      <th>titletext</th>\n      <th>label</th>\n    </tr>\n    <tr>\n      <th>id</th>\n      <th></th>\n      <th></th>\n      <th></th>\n    </tr>\n  </thead>\n  <tbody>\n    <tr>\n      <td>2329</td>\n      <td>106,訴,901</td>\n      <td>嚴國安於民國106年10月26日20時10分許，在高雄市鳳山區鳳林路之黃埔公園公車站牌處，見...</td>\n      <td>搶奪</td>\n    </tr>\n    <tr>\n      <td>1644</td>\n      <td>105,簡上,210</td>\n      <td>艾康淇前因承攬林徐湘楹（已成年）之房屋裝修工程，並因而發生民事紛爭而在本院涉訟，由本院以10...</td>\n      <td>妨害名譽</td>\n    </tr>\n    <tr>\n      <td>1333</td>\n      <td>105,易,135</td>\n      <td>黃淑英與黃周招君為母女關係，黃淑英明知其母黃周招君欲將其名下所有、如附表所示之房地贈與予黃淑...</td>\n      <td>偽造文書</td>\n    </tr>\n  </tbody>\n</table>\n</div>"
     },
     "execution_count": 41,
     "metadata": {},
     "output_type": "execute_result"
    }
   ],
   "source": [
    "##拆分df\n",
    "dftrain=dffull.sample(frac=0.6)#按0.6比例随机采样\n",
    "dftrain.head(3)"
   ],
   "metadata": {
    "collapsed": false,
    "pycharm": {
     "name": "#%%\n"
    }
   }
  },
  {
   "cell_type": "code",
   "execution_count": 42,
   "outputs": [
    {
     "data": {
      "text/plain": "傷害        139\n公共危險      130\n侵占        123\n過失傷害      113\n妨害名譽      108\n妨害自由      105\n竊盜        102\n妨害公務       94\n妨害性自主      62\n毀損         47\n搶奪         47\n妨害性自主罪     45\n著作權法       44\n妨害風化       43\n偽造文書       43\n毒品危害防制     42\n強盜         28\n其他         23\nName: label, dtype: int64"
     },
     "execution_count": 42,
     "metadata": {},
     "output_type": "execute_result"
    }
   ],
   "source": [
    "dftrain.loc[:,'label'].value_counts()"
   ],
   "metadata": {
    "collapsed": false,
    "pycharm": {
     "name": "#%%\n"
    }
   }
  },
  {
   "cell_type": "code",
   "execution_count": 43,
   "outputs": [
    {
     "data": {
      "text/plain": "no           864\ntitletext    864\nlabel        864\ndtype: int64"
     },
     "execution_count": 43,
     "metadata": {},
     "output_type": "execute_result"
    }
   ],
   "source": [
    "tmp = dffull[~dffull['no'].isin(dftrain['no'])]\n",
    "tmp.count()"
   ],
   "metadata": {
    "collapsed": false,
    "pycharm": {
     "name": "#%%\n"
    }
   }
  },
  {
   "cell_type": "code",
   "execution_count": 43,
   "outputs": [],
   "source": [],
   "metadata": {
    "collapsed": false,
    "pycharm": {
     "name": "#%%\n"
    }
   }
  },
  {
   "cell_type": "code",
   "execution_count": 44,
   "outputs": [
    {
     "data": {
      "text/plain": "               no                                          titletext label\nid                                                                        \n1232   105,審簡,803  甲○○與乙○為同事，2人間因故而生有嫌隙。緣甲○○於民國105年5月12日10時56分許，在...  妨害自由\n2294    106,訴,405  甲○○意圖為自己不法之所有，基於搶奪之犯意，於附表一編號1所示之時間、地點，騎乘車牌號碼00...    搶奪\n950   105,審易,1079  被告陳永豐於民國104年11月30日中午12時4分許，在臺中市○○區○○路0段00○0號，其...  妨害名譽",
      "text/html": "<div>\n<style scoped>\n    .dataframe tbody tr th:only-of-type {\n        vertical-align: middle;\n    }\n\n    .dataframe tbody tr th {\n        vertical-align: top;\n    }\n\n    .dataframe thead th {\n        text-align: right;\n    }\n</style>\n<table border=\"1\" class=\"dataframe\">\n  <thead>\n    <tr style=\"text-align: right;\">\n      <th></th>\n      <th>no</th>\n      <th>titletext</th>\n      <th>label</th>\n    </tr>\n    <tr>\n      <th>id</th>\n      <th></th>\n      <th></th>\n      <th></th>\n    </tr>\n  </thead>\n  <tbody>\n    <tr>\n      <td>1232</td>\n      <td>105,審簡,803</td>\n      <td>甲○○與乙○為同事，2人間因故而生有嫌隙。緣甲○○於民國105年5月12日10時56分許，在...</td>\n      <td>妨害自由</td>\n    </tr>\n    <tr>\n      <td>2294</td>\n      <td>106,訴,405</td>\n      <td>甲○○意圖為自己不法之所有，基於搶奪之犯意，於附表一編號1所示之時間、地點，騎乘車牌號碼00...</td>\n      <td>搶奪</td>\n    </tr>\n    <tr>\n      <td>950</td>\n      <td>105,審易,1079</td>\n      <td>被告陳永豐於民國104年11月30日中午12時4分許，在臺中市○○區○○路0段00○0號，其...</td>\n      <td>妨害名譽</td>\n    </tr>\n  </tbody>\n</table>\n</div>"
     },
     "execution_count": 44,
     "metadata": {},
     "output_type": "execute_result"
    }
   ],
   "source": [
    "##拆分df\n",
    "dfvalid=tmp.sample(frac=0.5)#按0.6比例随机采样\n",
    "dfvalid.head(3)"
   ],
   "metadata": {
    "collapsed": false,
    "pycharm": {
     "name": "#%%\n"
    }
   }
  },
  {
   "cell_type": "code",
   "execution_count": 44,
   "outputs": [],
   "source": [],
   "metadata": {
    "collapsed": false,
    "pycharm": {
     "name": "#%%\n"
    }
   }
  },
  {
   "cell_type": "code",
   "execution_count": 45,
   "outputs": [
    {
     "data": {
      "text/plain": "no           864\ntitletext    864\nlabel        864\ndtype: int64"
     },
     "execution_count": 45,
     "metadata": {},
     "output_type": "execute_result"
    }
   ],
   "source": [
    "dftest = tmp[~tmp['no'].isin(dfvalid['no'])]\n",
    "tmp.count()"
   ],
   "metadata": {
    "collapsed": false,
    "pycharm": {
     "name": "#%%\n"
    }
   }
  },
  {
   "cell_type": "code",
   "execution_count": 46,
   "outputs": [
    {
     "data": {
      "text/plain": "              no                                          titletext label\nid                                                                       \n4   100,中交簡,1106  洪國棋於民國100年4月28日晚間7時許起至同日晚間8時30分許止，在臺中市○里區○○路21...  公共危險\n8    100,中簡,1039  詎不知悔改，另行與真實姓名年籍不詳綽號「大姐」之成年女子，共同基於意圖使他人為性交行為而媒介...  妨害風化\n17   100,中簡,1098  被告蕭正吉基於賭博及意圖營利供給賭博場所、聚眾賭博之犯意，自民國99年12月間某日起，提供其...    其他",
      "text/html": "<div>\n<style scoped>\n    .dataframe tbody tr th:only-of-type {\n        vertical-align: middle;\n    }\n\n    .dataframe tbody tr th {\n        vertical-align: top;\n    }\n\n    .dataframe thead th {\n        text-align: right;\n    }\n</style>\n<table border=\"1\" class=\"dataframe\">\n  <thead>\n    <tr style=\"text-align: right;\">\n      <th></th>\n      <th>no</th>\n      <th>titletext</th>\n      <th>label</th>\n    </tr>\n    <tr>\n      <th>id</th>\n      <th></th>\n      <th></th>\n      <th></th>\n    </tr>\n  </thead>\n  <tbody>\n    <tr>\n      <td>4</td>\n      <td>100,中交簡,1106</td>\n      <td>洪國棋於民國100年4月28日晚間7時許起至同日晚間8時30分許止，在臺中市○里區○○路21...</td>\n      <td>公共危險</td>\n    </tr>\n    <tr>\n      <td>8</td>\n      <td>100,中簡,1039</td>\n      <td>詎不知悔改，另行與真實姓名年籍不詳綽號「大姐」之成年女子，共同基於意圖使他人為性交行為而媒介...</td>\n      <td>妨害風化</td>\n    </tr>\n    <tr>\n      <td>17</td>\n      <td>100,中簡,1098</td>\n      <td>被告蕭正吉基於賭博及意圖營利供給賭博場所、聚眾賭博之犯意，自民國99年12月間某日起，提供其...</td>\n      <td>其他</td>\n    </tr>\n  </tbody>\n</table>\n</div>"
     },
     "execution_count": 46,
     "metadata": {},
     "output_type": "execute_result"
    }
   ],
   "source": [
    "dftest.head(3)"
   ],
   "metadata": {
    "collapsed": false,
    "pycharm": {
     "name": "#%%\n"
    }
   }
  },
  {
   "cell_type": "code",
   "execution_count": 48,
   "outputs": [
    {
     "ename": "KeyError",
     "evalue": "\"['no'] not found in axis\"",
     "output_type": "error",
     "traceback": [
      "\u001B[1;31m---------------------------------------------------------------------------\u001B[0m",
      "\u001B[1;31mKeyError\u001B[0m                                  Traceback (most recent call last)",
      "\u001B[1;32m<ipython-input-48-a3538e4c9ed6>\u001B[0m in \u001B[0;36m<module>\u001B[1;34m\u001B[0m\n\u001B[1;32m----> 1\u001B[1;33m \u001B[0mdftrain\u001B[0m \u001B[1;33m=\u001B[0m \u001B[0mdftrain\u001B[0m\u001B[1;33m.\u001B[0m\u001B[0mdrop\u001B[0m\u001B[1;33m(\u001B[0m\u001B[0mcolumns\u001B[0m\u001B[1;33m=\u001B[0m\u001B[1;33m[\u001B[0m\u001B[1;34m'no'\u001B[0m\u001B[1;33m]\u001B[0m\u001B[1;33m)\u001B[0m\u001B[1;33m\u001B[0m\u001B[0m\n\u001B[0m\u001B[0;32m      2\u001B[0m \u001B[0mdfvalid\u001B[0m \u001B[1;33m=\u001B[0m \u001B[0mdfvalid\u001B[0m\u001B[1;33m.\u001B[0m\u001B[0mdrop\u001B[0m\u001B[1;33m(\u001B[0m\u001B[0mcolumns\u001B[0m\u001B[1;33m=\u001B[0m\u001B[1;33m[\u001B[0m\u001B[1;34m'no'\u001B[0m\u001B[1;33m]\u001B[0m\u001B[1;33m)\u001B[0m\u001B[1;33m\u001B[0m\u001B[0m\n\u001B[0;32m      3\u001B[0m \u001B[0mdftest\u001B[0m \u001B[1;33m=\u001B[0m \u001B[0mdftest\u001B[0m\u001B[1;33m.\u001B[0m\u001B[0mdrop\u001B[0m\u001B[1;33m(\u001B[0m\u001B[0mcolumns\u001B[0m\u001B[1;33m=\u001B[0m\u001B[1;33m[\u001B[0m\u001B[1;34m'no'\u001B[0m\u001B[1;33m]\u001B[0m\u001B[1;33m)\u001B[0m\u001B[1;33m\u001B[0m\u001B[0m\n\u001B[0;32m      4\u001B[0m \u001B[0mdftrain\u001B[0m\u001B[1;33m.\u001B[0m\u001B[0mto_csv\u001B[0m\u001B[1;33m(\u001B[0m\u001B[0msource_folder\u001B[0m \u001B[1;33m+\u001B[0m \u001B[1;34m'/train.csv'\u001B[0m\u001B[1;33m,\u001B[0m \u001B[0mindex\u001B[0m\u001B[1;33m=\u001B[0m\u001B[1;36m0\u001B[0m\u001B[1;33m)\u001B[0m\u001B[1;33m\u001B[0m\u001B[0m\n\u001B[0;32m      5\u001B[0m \u001B[0mdfvalid\u001B[0m\u001B[1;33m.\u001B[0m\u001B[0mto_csv\u001B[0m\u001B[1;33m(\u001B[0m\u001B[0msource_folder\u001B[0m \u001B[1;33m+\u001B[0m \u001B[1;34m'/dev.csv'\u001B[0m\u001B[1;33m,\u001B[0m \u001B[0mindex\u001B[0m\u001B[1;33m=\u001B[0m\u001B[1;36m0\u001B[0m\u001B[1;33m)\u001B[0m\u001B[1;33m\u001B[0m\u001B[0m\n",
      "\u001B[1;32mc:\\users\\user\\pycharmprojects\\pytorch\\venv\\lib\\site-packages\\pandas\\core\\frame.py\u001B[0m in \u001B[0;36mdrop\u001B[1;34m(self, labels, axis, index, columns, level, inplace, errors)\u001B[0m\n\u001B[0;32m   4100\u001B[0m             \u001B[0mlevel\u001B[0m\u001B[1;33m=\u001B[0m\u001B[0mlevel\u001B[0m\u001B[1;33m,\u001B[0m\u001B[1;33m\u001B[0m\u001B[0m\n\u001B[0;32m   4101\u001B[0m             \u001B[0minplace\u001B[0m\u001B[1;33m=\u001B[0m\u001B[0minplace\u001B[0m\u001B[1;33m,\u001B[0m\u001B[1;33m\u001B[0m\u001B[0m\n\u001B[1;32m-> 4102\u001B[1;33m             \u001B[0merrors\u001B[0m\u001B[1;33m=\u001B[0m\u001B[0merrors\u001B[0m\u001B[1;33m,\u001B[0m\u001B[1;33m\u001B[0m\u001B[0m\n\u001B[0m\u001B[0;32m   4103\u001B[0m         )\n\u001B[0;32m   4104\u001B[0m \u001B[1;33m\u001B[0m\u001B[0m\n",
      "\u001B[1;32mc:\\users\\user\\pycharmprojects\\pytorch\\venv\\lib\\site-packages\\pandas\\core\\generic.py\u001B[0m in \u001B[0;36mdrop\u001B[1;34m(self, labels, axis, index, columns, level, inplace, errors)\u001B[0m\n\u001B[0;32m   3912\u001B[0m         \u001B[1;32mfor\u001B[0m \u001B[0maxis\u001B[0m\u001B[1;33m,\u001B[0m \u001B[0mlabels\u001B[0m \u001B[1;32min\u001B[0m \u001B[0maxes\u001B[0m\u001B[1;33m.\u001B[0m\u001B[0mitems\u001B[0m\u001B[1;33m(\u001B[0m\u001B[1;33m)\u001B[0m\u001B[1;33m:\u001B[0m\u001B[1;33m\u001B[0m\u001B[0m\n\u001B[0;32m   3913\u001B[0m             \u001B[1;32mif\u001B[0m \u001B[0mlabels\u001B[0m \u001B[1;32mis\u001B[0m \u001B[1;32mnot\u001B[0m \u001B[1;32mNone\u001B[0m\u001B[1;33m:\u001B[0m\u001B[1;33m\u001B[0m\u001B[0m\n\u001B[1;32m-> 3914\u001B[1;33m                 \u001B[0mobj\u001B[0m \u001B[1;33m=\u001B[0m \u001B[0mobj\u001B[0m\u001B[1;33m.\u001B[0m\u001B[0m_drop_axis\u001B[0m\u001B[1;33m(\u001B[0m\u001B[0mlabels\u001B[0m\u001B[1;33m,\u001B[0m \u001B[0maxis\u001B[0m\u001B[1;33m,\u001B[0m \u001B[0mlevel\u001B[0m\u001B[1;33m=\u001B[0m\u001B[0mlevel\u001B[0m\u001B[1;33m,\u001B[0m \u001B[0merrors\u001B[0m\u001B[1;33m=\u001B[0m\u001B[0merrors\u001B[0m\u001B[1;33m)\u001B[0m\u001B[1;33m\u001B[0m\u001B[0m\n\u001B[0m\u001B[0;32m   3915\u001B[0m \u001B[1;33m\u001B[0m\u001B[0m\n\u001B[0;32m   3916\u001B[0m         \u001B[1;32mif\u001B[0m \u001B[0minplace\u001B[0m\u001B[1;33m:\u001B[0m\u001B[1;33m\u001B[0m\u001B[0m\n",
      "\u001B[1;32mc:\\users\\user\\pycharmprojects\\pytorch\\venv\\lib\\site-packages\\pandas\\core\\generic.py\u001B[0m in \u001B[0;36m_drop_axis\u001B[1;34m(self, labels, axis, level, errors)\u001B[0m\n\u001B[0;32m   3944\u001B[0m                 \u001B[0mnew_axis\u001B[0m \u001B[1;33m=\u001B[0m \u001B[0maxis\u001B[0m\u001B[1;33m.\u001B[0m\u001B[0mdrop\u001B[0m\u001B[1;33m(\u001B[0m\u001B[0mlabels\u001B[0m\u001B[1;33m,\u001B[0m \u001B[0mlevel\u001B[0m\u001B[1;33m=\u001B[0m\u001B[0mlevel\u001B[0m\u001B[1;33m,\u001B[0m \u001B[0merrors\u001B[0m\u001B[1;33m=\u001B[0m\u001B[0merrors\u001B[0m\u001B[1;33m)\u001B[0m\u001B[1;33m\u001B[0m\u001B[0m\n\u001B[0;32m   3945\u001B[0m             \u001B[1;32melse\u001B[0m\u001B[1;33m:\u001B[0m\u001B[1;33m\u001B[0m\u001B[0m\n\u001B[1;32m-> 3946\u001B[1;33m                 \u001B[0mnew_axis\u001B[0m \u001B[1;33m=\u001B[0m \u001B[0maxis\u001B[0m\u001B[1;33m.\u001B[0m\u001B[0mdrop\u001B[0m\u001B[1;33m(\u001B[0m\u001B[0mlabels\u001B[0m\u001B[1;33m,\u001B[0m \u001B[0merrors\u001B[0m\u001B[1;33m=\u001B[0m\u001B[0merrors\u001B[0m\u001B[1;33m)\u001B[0m\u001B[1;33m\u001B[0m\u001B[0m\n\u001B[0m\u001B[0;32m   3947\u001B[0m             \u001B[0mresult\u001B[0m \u001B[1;33m=\u001B[0m \u001B[0mself\u001B[0m\u001B[1;33m.\u001B[0m\u001B[0mreindex\u001B[0m\u001B[1;33m(\u001B[0m\u001B[1;33m**\u001B[0m\u001B[1;33m{\u001B[0m\u001B[0maxis_name\u001B[0m\u001B[1;33m:\u001B[0m \u001B[0mnew_axis\u001B[0m\u001B[1;33m}\u001B[0m\u001B[1;33m)\u001B[0m\u001B[1;33m\u001B[0m\u001B[0m\n\u001B[0;32m   3948\u001B[0m \u001B[1;33m\u001B[0m\u001B[0m\n",
      "\u001B[1;32mc:\\users\\user\\pycharmprojects\\pytorch\\venv\\lib\\site-packages\\pandas\\core\\indexes\\base.py\u001B[0m in \u001B[0;36mdrop\u001B[1;34m(self, labels, errors)\u001B[0m\n\u001B[0;32m   5338\u001B[0m         \u001B[1;32mif\u001B[0m \u001B[0mmask\u001B[0m\u001B[1;33m.\u001B[0m\u001B[0many\u001B[0m\u001B[1;33m(\u001B[0m\u001B[1;33m)\u001B[0m\u001B[1;33m:\u001B[0m\u001B[1;33m\u001B[0m\u001B[0m\n\u001B[0;32m   5339\u001B[0m             \u001B[1;32mif\u001B[0m \u001B[0merrors\u001B[0m \u001B[1;33m!=\u001B[0m \u001B[1;34m\"ignore\"\u001B[0m\u001B[1;33m:\u001B[0m\u001B[1;33m\u001B[0m\u001B[0m\n\u001B[1;32m-> 5340\u001B[1;33m                 \u001B[1;32mraise\u001B[0m \u001B[0mKeyError\u001B[0m\u001B[1;33m(\u001B[0m\u001B[1;34m\"{} not found in axis\"\u001B[0m\u001B[1;33m.\u001B[0m\u001B[0mformat\u001B[0m\u001B[1;33m(\u001B[0m\u001B[0mlabels\u001B[0m\u001B[1;33m[\u001B[0m\u001B[0mmask\u001B[0m\u001B[1;33m]\u001B[0m\u001B[1;33m)\u001B[0m\u001B[1;33m)\u001B[0m\u001B[1;33m\u001B[0m\u001B[0m\n\u001B[0m\u001B[0;32m   5341\u001B[0m             \u001B[0mindexer\u001B[0m \u001B[1;33m=\u001B[0m \u001B[0mindexer\u001B[0m\u001B[1;33m[\u001B[0m\u001B[1;33m~\u001B[0m\u001B[0mmask\u001B[0m\u001B[1;33m]\u001B[0m\u001B[1;33m\u001B[0m\u001B[0m\n\u001B[0;32m   5342\u001B[0m         \u001B[1;32mreturn\u001B[0m \u001B[0mself\u001B[0m\u001B[1;33m.\u001B[0m\u001B[0mdelete\u001B[0m\u001B[1;33m(\u001B[0m\u001B[0mindexer\u001B[0m\u001B[1;33m)\u001B[0m\u001B[1;33m\u001B[0m\u001B[0m\n",
      "\u001B[1;31mKeyError\u001B[0m: \"['no'] not found in axis\""
     ]
    }
   ],
   "source": [
    "dftrain = dftrain.drop(columns=['no'])\n",
    "dfvalid = dfvalid.drop(columns=['no'])\n",
    "dftest = dftest.drop(columns=['no'])"
   ],
   "metadata": {
    "collapsed": false,
    "pycharm": {
     "name": "#%%\n"
    }
   }
  },
  {
   "cell_type": "code",
   "execution_count": 51,
   "outputs": [],
   "source": [
    "dftrain.to_csv(source_folder + '/train.csv', index=0)\n",
    "dfvalid.to_csv(source_folder + '/dev.csv', index=0)\n",
    "dftest.to_csv(source_folder + '/test.csv', index=0)"
   ],
   "metadata": {
    "collapsed": false,
    "pycharm": {
     "name": "#%%\n"
    }
   }
  },
  {
   "cell_type": "code",
   "execution_count": null,
   "outputs": [],
   "source": [],
   "metadata": {
    "collapsed": false,
    "pycharm": {
     "name": "#%%\n"
    }
   }
  },
  {
   "cell_type": "code",
   "execution_count": null,
   "outputs": [],
   "source": [],
   "metadata": {
    "collapsed": false,
    "pycharm": {
     "name": "#%%\n"
    }
   }
  },
  {
   "cell_type": "code",
   "execution_count": null,
   "outputs": [],
   "source": [],
   "metadata": {
    "collapsed": false,
    "pycharm": {
     "name": "#%%\n"
    }
   }
  },
  {
   "cell_type": "code",
   "execution_count": null,
   "outputs": [],
   "source": [],
   "metadata": {
    "collapsed": false,
    "pycharm": {
     "name": "#%%\n"
    }
   }
  },
  {
   "cell_type": "code",
   "execution_count": null,
   "outputs": [],
   "source": [],
   "metadata": {
    "collapsed": false,
    "pycharm": {
     "name": "#%%\n"
    }
   }
  },
  {
   "cell_type": "code",
   "execution_count": null,
   "outputs": [],
   "source": [],
   "metadata": {
    "collapsed": false,
    "pycharm": {
     "name": "#%%\n"
    }
   }
  },
  {
   "cell_type": "code",
   "execution_count": null,
   "outputs": [],
   "source": [],
   "metadata": {
    "collapsed": false,
    "pycharm": {
     "name": "#%%\n"
    }
   }
  },
  {
   "cell_type": "code",
   "execution_count": null,
   "outputs": [],
   "source": [],
   "metadata": {
    "collapsed": false,
    "pycharm": {
     "name": "#%%\n"
    }
   }
  },
  {
   "cell_type": "code",
   "execution_count": null,
   "outputs": [],
   "source": [],
   "metadata": {
    "collapsed": false,
    "pycharm": {
     "name": "#%%\n"
    }
   }
  }
 ],
 "metadata": {
  "kernelspec": {
   "display_name": "Python 3",
   "language": "python",
   "name": "python3"
  },
  "language_info": {
   "codemirror_mode": {
    "name": "ipython",
    "version": 2
   },
   "file_extension": ".py",
   "mimetype": "text/x-python",
   "name": "python",
   "nbconvert_exporter": "python",
   "pygments_lexer": "ipython2",
   "version": "2.7.6"
  }
 },
 "nbformat": 4,
 "nbformat_minor": 0
}