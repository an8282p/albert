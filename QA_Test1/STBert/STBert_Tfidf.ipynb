{
 "cells": [
  {
   "cell_type": "code",
   "execution_count": 1,
   "metadata": {
    "pycharm": {
     "name": "#%%\n"
    }
   },
   "outputs": [],
   "source": [
    "import numpy as np\n",
    "import pandas as pd\n",
    "import re\n",
    "\n",
    "#my_regex = \"\\（.*?\\）|\\(([^\\)0-9零一二三四五六七八九十]?|[^\\).]{2,})\\)\"\n",
    "my_regex = r\"○{2,}\"\n",
    "\n",
    "#tmpstr = '丙○○意圖為自己不法之所有，(甲)YY(假)XX(十一)(一)a(一一)b(一一一)c(年一)d(一年一)e(一一一年)A(9年)B(99年)C(999年)A(AAA)於民國105年10月8日晚間7時20分許，騎乘登記於不知情之王介平名下之車牌號碼000-000號普通重型機車，行經高雄市○○區○○○路000號前時，將口罩脫下遮掩車牌，自後靠近步行在人行道上之甲○○，趁甲○○不及防備之際，以左手徒手掠取甲○○右手持有之背包1只（內有現金新臺幣【下同】9500元、索尼牌ZR綠色及Xperformance金色行動電話共2具【IMEI：000000000000000、000000000000000號】、長夾1個、信用卡及金融卡共5張、國民身分證2張、國民健康保險卡1張、普通重型機車駕照1張、識別證2張等物）得手後逃逸。嗣因丙○○將背包內之現金取走後，將背包棄置在高雄市鳳山區武營路某處，再經民眾在高雄市鳳山區衛武營附近拾獲上開背包（內有長夾1個、國民身分證2張、國民健康保險卡1張、信用卡3張、金融卡1張等物），遂送交警察機關發還甲○○領回。(二)於同年10月10日晚間11時5分許，騎乘向不知情之劉伊恩借用之車牌號碼000-0000號普通重型機車，行經高雄市○○區○○○路000號前時，使用口罩遮掩車牌，自後靠近步行在人行道上之少年乙○○（89年生，基於兒童及少年福利與權益保障法第69條第2項規定不得揭露足以識別少年身分之資訊，年籍詳卷），趁乙○○不及防備之際，以左手徒手掠取乙○○右手持有之背包1只（內有皮夾1只、現金3萬2000元、提款卡1張、國民身分證1張、國民健康保險卡1張等物）得手後逃逸，並將現金取出，其餘物品則丟棄。嗣為警循線於105年10月16日凌晨2時許，在高雄市○○區○○路000巷00號前查獲，並扣得現金2600元。'\n",
    "#print((tmpstr))\n",
    "#print(len(tmpstr))\n",
    "#print((re.sub(my_regex, \"\", tmpstr)))\n",
    "#print(len(re.sub(my_regex, \"\", tmpstr)))"
   ]
  },
  {
   "cell_type": "code",
   "execution_count": 2,
   "outputs": [
    {
     "data": {
      "text/plain": "                               date           no sys reason type  \\\ncourt                                                              \n臺灣桃園地方法院  2018-04-18T00:00:00+08:00   106,易,1093  刑事   妨害公務   判決   \n臺灣臺中地方法院  2011-01-25T00:00:00+08:00  100,中交簡,100  刑事   公共危險   判決   \n\n                                                   mainText  \\\ncourt                                                         \n臺灣桃園地方法院            邱建豪犯妨害公務執行罪，累犯，處拘役拾日，如易科罰金，以新臺幣壹仟元折算壹日。   \n臺灣臺中地方法院  林耀明服用酒類，不能安全駕駛動力交通工具而駕駛，處拘役伍拾伍日，如易科罰金，以新臺幣壹仟元折...   \n\n                                                  judgement  \\\ncourt                                                         \n臺灣桃園地方法院  臺灣桃園地方法院刑事判決106年度易字第1093號公訴人臺灣桃園地方法院檢察署檢察官被告邱建...   \n臺灣臺中地方法院  臺灣臺中地方法院刑事簡易判決100年度中交簡字第100號聲請人臺灣臺中地方法院檢察署檢察官被...   \n\n                                                  Situation  \ncourt                                                        \n臺灣桃園地方法院  邱建豪於民國時分許，在桃園市○○區○○路桃園市政府警察局桃園分局埔子派出所內之臺，明知員警徐...  \n臺灣臺中地方法院  林耀明於民國時許起至時許止，在臺中市○○區○○路與路交岔路口附近之，與友人飲用酒類後，已達不...  ",
      "text/html": "<div>\n<style scoped>\n    .dataframe tbody tr th:only-of-type {\n        vertical-align: middle;\n    }\n\n    .dataframe tbody tr th {\n        vertical-align: top;\n    }\n\n    .dataframe thead th {\n        text-align: right;\n    }\n</style>\n<table border=\"1\" class=\"dataframe\">\n  <thead>\n    <tr style=\"text-align: right;\">\n      <th></th>\n      <th>date</th>\n      <th>no</th>\n      <th>sys</th>\n      <th>reason</th>\n      <th>type</th>\n      <th>mainText</th>\n      <th>judgement</th>\n      <th>Situation</th>\n    </tr>\n    <tr>\n      <th>court</th>\n      <th></th>\n      <th></th>\n      <th></th>\n      <th></th>\n      <th></th>\n      <th></th>\n      <th></th>\n      <th></th>\n    </tr>\n  </thead>\n  <tbody>\n    <tr>\n      <td>臺灣桃園地方法院</td>\n      <td>2018-04-18T00:00:00+08:00</td>\n      <td>106,易,1093</td>\n      <td>刑事</td>\n      <td>妨害公務</td>\n      <td>判決</td>\n      <td>邱建豪犯妨害公務執行罪，累犯，處拘役拾日，如易科罰金，以新臺幣壹仟元折算壹日。</td>\n      <td>臺灣桃園地方法院刑事判決106年度易字第1093號公訴人臺灣桃園地方法院檢察署檢察官被告邱建...</td>\n      <td>邱建豪於民國時分許，在桃園市○○區○○路桃園市政府警察局桃園分局埔子派出所內之臺，明知員警徐...</td>\n    </tr>\n    <tr>\n      <td>臺灣臺中地方法院</td>\n      <td>2011-01-25T00:00:00+08:00</td>\n      <td>100,中交簡,100</td>\n      <td>刑事</td>\n      <td>公共危險</td>\n      <td>判決</td>\n      <td>林耀明服用酒類，不能安全駕駛動力交通工具而駕駛，處拘役伍拾伍日，如易科罰金，以新臺幣壹仟元折...</td>\n      <td>臺灣臺中地方法院刑事簡易判決100年度中交簡字第100號聲請人臺灣臺中地方法院檢察署檢察官被...</td>\n      <td>林耀明於民國時許起至時許止，在臺中市○○區○○路與路交岔路口附近之，與友人飲用酒類後，已達不...</td>\n    </tr>\n  </tbody>\n</table>\n</div>"
     },
     "execution_count": 2,
     "metadata": {},
     "output_type": "execute_result"
    }
   ],
   "source": [
    "df=pd.read_csv('.//data_tfidf//result2.csv', index_col=0)\n",
    "#df=pd.read_csv('.//data//Result_R5.csv', index_col=0)\n",
    "df.head(2)"
   ],
   "metadata": {
    "collapsed": false,
    "pycharm": {
     "name": "#%%\n"
    }
   }
  },
  {
   "cell_type": "code",
   "execution_count": 3,
   "metadata": {
    "pycharm": {
     "name": "#%%\n"
    }
   },
   "outputs": [
    {
     "data": {
      "text/plain": "                               date         no sys reason type  mainText  \\\ncourt                                                                      \n臺灣臺北地方法院  2017-09-21T00:00:00+08:00  106,易,671  刑事     毀損   判決  本件公訴不受理。   \n臺灣臺南地方法院  2016-03-31T00:00:00+08:00   105,簡上,6  刑事   妨害公務   判決     上訴駁回。   \n\n                                                  judgement  \\\ncourt                                                         \n臺灣臺北地方法院  臺灣臺北地方法院刑事判決106年度易字第671號公訴人臺灣臺北地方法院檢察署檢察官被告王昆泰...   \n臺灣臺南地方法院  臺灣臺南地方法院刑事判決105年度簡上字第6號上訴人即被告吳慶文上列上訴人即被告因妨害公務案...   \n\n                                                  Situation  \ncourt                                                        \n臺灣臺北地方法院  被告王昆泰因不滿與告訴人股份公司間之費用、服務糾紛，於民國時分許，在臺北市許昌街與口，持之朝...  \n臺灣臺南地方法院  其竟於時許，因不滿臺南市○○區○○段土地管理者「臺南市體育處」於該土地上停車場，竟基於毀損之...  ",
      "text/html": "<div>\n<style scoped>\n    .dataframe tbody tr th:only-of-type {\n        vertical-align: middle;\n    }\n\n    .dataframe tbody tr th {\n        vertical-align: top;\n    }\n\n    .dataframe thead th {\n        text-align: right;\n    }\n</style>\n<table border=\"1\" class=\"dataframe\">\n  <thead>\n    <tr style=\"text-align: right;\">\n      <th></th>\n      <th>date</th>\n      <th>no</th>\n      <th>sys</th>\n      <th>reason</th>\n      <th>type</th>\n      <th>mainText</th>\n      <th>judgement</th>\n      <th>Situation</th>\n    </tr>\n    <tr>\n      <th>court</th>\n      <th></th>\n      <th></th>\n      <th></th>\n      <th></th>\n      <th></th>\n      <th></th>\n      <th></th>\n      <th></th>\n    </tr>\n  </thead>\n  <tbody>\n    <tr>\n      <td>臺灣臺北地方法院</td>\n      <td>2017-09-21T00:00:00+08:00</td>\n      <td>106,易,671</td>\n      <td>刑事</td>\n      <td>毀損</td>\n      <td>判決</td>\n      <td>本件公訴不受理。</td>\n      <td>臺灣臺北地方法院刑事判決106年度易字第671號公訴人臺灣臺北地方法院檢察署檢察官被告王昆泰...</td>\n      <td>被告王昆泰因不滿與告訴人股份公司間之費用、服務糾紛，於民國時分許，在臺北市許昌街與口，持之朝...</td>\n    </tr>\n    <tr>\n      <td>臺灣臺南地方法院</td>\n      <td>2016-03-31T00:00:00+08:00</td>\n      <td>105,簡上,6</td>\n      <td>刑事</td>\n      <td>妨害公務</td>\n      <td>判決</td>\n      <td>上訴駁回。</td>\n      <td>臺灣臺南地方法院刑事判決105年度簡上字第6號上訴人即被告吳慶文上列上訴人即被告因妨害公務案...</td>\n      <td>其竟於時許，因不滿臺南市○○區○○段土地管理者「臺南市體育處」於該土地上停車場，竟基於毀損之...</td>\n    </tr>\n  </tbody>\n</table>\n</div>"
     },
     "execution_count": 3,
     "metadata": {},
     "output_type": "execute_result"
    }
   ],
   "source": [
    "test= df.sample(n=20)\n",
    "test.head(2)"
   ]
  },
  {
   "cell_type": "code",
   "execution_count": 4,
   "metadata": {
    "pycharm": {
     "name": "#%%\n"
    }
   },
   "outputs": [
    {
     "name": "stderr",
     "output_type": "stream",
     "text": [
      "c:\\users\\user\\pycharmprojects\\pytorch\\venv\\lib\\site-packages\\ipykernel_launcher.py:2: SettingWithCopyWarning: \n",
      "A value is trying to be set on a copy of a slice from a DataFrame.\n",
      "Try using .loc[row_indexer,col_indexer] = value instead\n",
      "\n",
      "See the caveats in the documentation: http://pandas.pydata.org/pandas-docs/stable/user_guide/indexing.html#returning-a-view-versus-a-copy\n",
      "  \n",
      "c:\\users\\user\\pycharmprojects\\pytorch\\venv\\lib\\site-packages\\ipykernel_launcher.py:3: SettingWithCopyWarning: \n",
      "A value is trying to be set on a copy of a slice from a DataFrame.\n",
      "Try using .loc[row_indexer,col_indexer] = value instead\n",
      "\n",
      "See the caveats in the documentation: http://pandas.pydata.org/pandas-docs/stable/user_guide/indexing.html#returning-a-view-versus-a-copy\n",
      "  This is separate from the ipykernel package so we can avoid doing imports until\n",
      "c:\\users\\user\\pycharmprojects\\pytorch\\venv\\lib\\site-packages\\ipykernel_launcher.py:4: SettingWithCopyWarning: \n",
      "A value is trying to be set on a copy of a slice from a DataFrame.\n",
      "Try using .loc[row_indexer,col_indexer] = value instead\n",
      "\n",
      "See the caveats in the documentation: http://pandas.pydata.org/pandas-docs/stable/user_guide/indexing.html#returning-a-view-versus-a-copy\n",
      "  after removing the cwd from sys.path.\n",
      "c:\\users\\user\\pycharmprojects\\pytorch\\venv\\lib\\site-packages\\ipykernel_launcher.py:5: SettingWithCopyWarning: \n",
      "A value is trying to be set on a copy of a slice from a DataFrame.\n",
      "Try using .loc[row_indexer,col_indexer] = value instead\n",
      "\n",
      "See the caveats in the documentation: http://pandas.pydata.org/pandas-docs/stable/user_guide/indexing.html#returning-a-view-versus-a-copy\n",
      "  \"\"\"\n",
      "c:\\users\\user\\pycharmprojects\\pytorch\\venv\\lib\\site-packages\\ipykernel_launcher.py:6: SettingWithCopyWarning: \n",
      "A value is trying to be set on a copy of a slice from a DataFrame.\n",
      "Try using .loc[row_indexer,col_indexer] = value instead\n",
      "\n",
      "See the caveats in the documentation: http://pandas.pydata.org/pandas-docs/stable/user_guide/indexing.html#returning-a-view-versus-a-copy\n",
      "  \n",
      "c:\\users\\user\\pycharmprojects\\pytorch\\venv\\lib\\site-packages\\ipykernel_launcher.py:7: SettingWithCopyWarning: \n",
      "A value is trying to be set on a copy of a slice from a DataFrame.\n",
      "Try using .loc[row_indexer,col_indexer] = value instead\n",
      "\n",
      "See the caveats in the documentation: http://pandas.pydata.org/pandas-docs/stable/user_guide/indexing.html#returning-a-view-versus-a-copy\n",
      "  import sys\n",
      "c:\\users\\user\\pycharmprojects\\pytorch\\venv\\lib\\site-packages\\ipykernel_launcher.py:8: SettingWithCopyWarning: \n",
      "A value is trying to be set on a copy of a slice from a DataFrame.\n",
      "Try using .loc[row_indexer,col_indexer] = value instead\n",
      "\n",
      "See the caveats in the documentation: http://pandas.pydata.org/pandas-docs/stable/user_guide/indexing.html#returning-a-view-versus-a-copy\n",
      "  \n"
     ]
    }
   ],
   "source": [
    "df1 = df[~df['no'].isin(test['no'])]\n",
    "df1['reason'] = df1['reason'].str.replace('等','')\n",
    "df1['reason'] = df1['reason'].str.replace('罪','')\n",
    "df1['reason'] = df1['reason'].str.replace(\"條例\",\"\")\n",
    "df1['reason'] = df1['reason'].str.replace(\"防制\",\"\")\n",
    "df1['reason'] = df1['reason'].str.replace(\"管制\",\"\")\n",
    "df1['reason'] = df1['reason'].str.replace(\"違反\",\"\")\n",
    "df1['Situation'] = df1['Situation'].str.replace(my_regex, \"\")"
   ]
  },
  {
   "cell_type": "code",
   "execution_count": 5,
   "outputs": [
    {
     "name": "stdout",
     "output_type": "stream",
     "text": [
      "總筆數 4054 \n",
      "\n"
     ]
    },
    {
     "data": {
      "text/plain": "公共危險      346\n毀損        327\n妨害公務      317\n妨害名譽      308\n妨害自由      265\n傷害        241\n侵占        231\n搶奪        216\n過失傷害      215\n竊盜        203\n殺人未遂      201\n妨害風化      189\n著作權法      186\n偽造文書      171\n妨害性自主     167\n詐欺        158\n強盜        140\n毒品危害       65\n毀棄損壞       38\n殺人         37\n過失致死        7\n貪污          6\n賭博          6\n槍砲彈藥刀械      5\n醫師法         3\n商標法         2\n藥事法         2\n替代役實施       1\n偽證          1\nName: reason, dtype: int64"
     },
     "execution_count": 5,
     "metadata": {},
     "output_type": "execute_result"
    }
   ],
   "source": [
    "print(\"總筆數\",df1['reason'].count(), \"\\n\")\n",
    "df1.loc[:,'reason'].value_counts()"
   ],
   "metadata": {
    "collapsed": false,
    "pycharm": {
     "name": "#%%\n"
    }
   }
  },
  {
   "cell_type": "code",
   "execution_count": 6,
   "metadata": {
    "pycharm": {
     "name": "#%%\n"
    }
   },
   "outputs": [
    {
     "name": "stderr",
     "output_type": "stream",
     "text": [
      "Exception when trying to download https://sbert.net/models/bert-base-chinese.zip. Response 404\n",
      "WARNING:root:SentenceTransformer-Model https://sbert.net/models/bert-base-chinese.zip not found. Try to create it from scratch\n",
      "WARNING:root:Try to create Transformer Model bert-base-chinese with mean pooling\n"
     ]
    }
   ],
   "source": [
    "from sentence_transformers import SentenceTransformer, util\n",
    "embedder=SentenceTransformer('bert-base-chinese')\n",
    "\n",
    "import pandas as pd\n",
    "import time\n",
    "tStart = time.time()"
   ]
  },
  {
   "cell_type": "code",
   "execution_count": 7,
   "metadata": {
    "pycharm": {
     "name": "#%%\n"
    }
   },
   "outputs": [],
   "source": [
    "class Data(object):\n",
    "    def __init__(self):\n",
    "        self.no = \"0\"\n",
    "        self.reason = \"\"\n",
    "        self.Situation = \"\""
   ]
  },
  {
   "cell_type": "code",
   "execution_count": 8,
   "metadata": {
    "pycharm": {
     "name": "#%%\n"
    }
   },
   "outputs": [
    {
     "name": "stdout",
     "output_type": "stream",
     "text": [
      "4052\n"
     ]
    }
   ],
   "source": [
    "#embedder  SentenceTransformer('distilbert-base-nli-stsb-mean-tokens')\n",
    "\n",
    "# Corpus with example sentences\n",
    "#corpus  ['A man is eating food.',\n",
    "#          'A man is eating a piece of bread.',\n",
    "#          'The girl is carrying a baby.',\n",
    "#          'A man is riding a horse.',\n",
    "#          'A woman is playing violin.',\n",
    "#          'Two men pushed carts through the woods.',\n",
    "#          'A man is riding a white horse on an enclosed ground.',\n",
    "#          'A monkey is playing drums.',\n",
    "#          'A cheetah is running behind its prey.'\n",
    "#          ]\n",
    "corpus = []\n",
    "corpusList = []\n",
    "for index, row in df1.iterrows():\n",
    "    if (row.Situation == None):\n",
    "        continue\n",
    "    if (isinstance(row.Situation, float)):\n",
    "        continue\n",
    "    if (len(row.Situation) == 0):\n",
    "        continue\n",
    "    if (index == 5):\n",
    "        print()\n",
    "    d = Data()\n",
    "    d.no = row.no\n",
    "    d.reason = row.reason\n",
    "    d.Situation = row.Situation\n",
    "    corpusList.append(d)\n",
    "    corpus.append(row.Situation)\n",
    "corpus_embeddings = embedder.encode(corpus, convert_to_tensor=True)\n",
    "print(len(corpus))"
   ]
  },
  {
   "cell_type": "code",
   "execution_count": 9,
   "metadata": {
    "pycharm": {
     "name": "#%%\n"
    }
   },
   "outputs": [
    {
     "name": "stdout",
     "output_type": "stream",
     "text": [
      "轉向量時間 26.465449 sec\n"
     ]
    }
   ],
   "source": [
    "tEnd = time.time()#計時結束\n",
    "#列印結果\n",
    "print(\"轉向量時間\", \"%f sec\" % (tEnd - tStart))"
   ]
  },
  {
   "cell_type": "code",
   "execution_count": 10,
   "metadata": {
    "pycharm": {
     "name": "#%%\n"
    }
   },
   "outputs": [
    {
     "name": "stdout",
     "output_type": "stream",
     "text": [
      "21\n"
     ]
    }
   ],
   "source": [
    "# Query sentences:\n",
    "#queries  ['A man is eating pasta.', 'Someone in a gorilla costume is playing a set of drums.', 'A cheetah chases prey on across a field.']\n",
    "queries = []\n",
    "#specialtest  ='被告陳守仁為高職畢業擔任保全之男子，竟不思以正常手段獲取財物，因一時貪念，以徒手竊取該超商內商品供己食用之犯罪動機、目的、手段、生活狀況、智識程度、所竊得物品價值新臺幣（下同）總共約821元'\n",
    "specialtest  ='詎其猶不知悔改，復基於意圖為自己不法所有之竊盜犯意，於102年7月5日上午6時許（起訴書誤載為5時許），見林振億位於高雄市○○區○○街000號之住處大門未上鎖，竟未經允准侵入上開住宅內，徒手竊取行動電話5支、無線電3支、數位相機1臺及存錢筒1個（內有現金約新臺幣【下同】4,000元，上開物品共計價值47,000元），得手後離去；嗣經林振億發現遭竊後報警，為警在現場採得指紋後送鑑定後，結果與邱東成之指紋相符，而查悉上情。'\n",
    "queries.append(specialtest)\n",
    "for index, row in test.iterrows():\n",
    "    queries.append(str(row.Situation))\n",
    "print(len(queries))"
   ]
  },
  {
   "cell_type": "code",
   "execution_count": 11,
   "metadata": {
    "pycharm": {
     "name": "#%%\n"
    }
   },
   "outputs": [
    {
     "name": "stdout",
     "output_type": "stream",
     "text": [
      "\n",
      "\n",
      "\n",
      "\n",
      "\n",
      "Query: 詎其猶不知悔改，復基於意圖為自己不法所有之竊盜犯意，於102年7月5日上午6時許（起訴書誤載為5時許），見林振億位於高雄市○○區○○街000號之住處大門未上鎖，竟未經允准侵入上開住宅內，徒手竊取行動電話5支、無線電3支、數位相機1臺及存錢筒1個（內有現金約新臺幣【下同】4,000元，上開物品共計價值47,000元），得手後離去；嗣經林振億發現遭竊後報警，為警在現場採得指紋後送鑑定後，結果與邱東成之指紋相符，而查悉上情。\n",
      "\n",
      "Top 5 most similar sentences in corpus:\n",
      "1    105,審易,1297 \t 竊盜 \t(Score: 0.9770)\n",
      "詎猶不知悔改，於時分許，騎乘腳踏車行經臺中市○區路之時，見該址樓大門，因缺錢花用，竟意圖為自己不法之所有，基於竊盜之犯意，侵入該址樓房間內，徒手竊取裴泰寶所有置放在房間內之牌S2型行動電話【價值約新臺\n",
      "詎猶不知悔改，於時分許，騎乘腳踏車行經臺中市○區路之時，見該址樓大門，因缺錢花用，竟意圖為自己不法之所有，基於竊盜之犯意，侵入該址樓房間內，徒手竊取裴泰寶所有置放在房間內之牌S2型行動電話【價值約新臺幣2,】、牌ZE500CL型黑行動電話各支，得手後，旋騎乘腳踏車離開現場。嗣因裴泰寶於同時許返回後發現遭竊，報警處理，經警調閱上址之監視器錄影畫面查看，始循線查悉上情。\n",
      "\n",
      "\n",
      "2    105,審易,1434 \t 竊盜 \t(Score: 0.9698)\n",
      "詎其仍不知悔改，復意圖為自己不法之所有，基於竊盜之犯意，於時分許，至前老闆蕭振宇位於臺中市區巷之住處，先以該住宅之侵入上開房屋，再進入上開房屋內，徒手竊取蕭振宇所有置於屋內之現金新臺幣、鑰匙串及個等財\n",
      "\n",
      "\n",
      "3    105,審易,1113 \t 竊盜 \t(Score: 0.9686)\n",
      "詎仍不知悔改，復基於意圖為自己不法所有之竊盜犯意，於時分許，騎乘黃榮寬所有車牌號碼普通重型機車，至蘇美杏位於臺中市區街巷之住處，持自備鑰匙支，開啟該屋大門進入屋內，徒手竊取蘇美杏所有放在樓房間之現金新\n",
      "\n",
      "\n",
      "4    100,中簡,132 \t 竊盜 \t(Score: 0.9679)\n",
      "吳火成於民國時分許，行經位於臺中市○區之「立臺中醫院」停車場時，見葉秀華停放在該停車場內之車牌號碼為輕型機車上，放有現金新臺幣、行動電話支及中華電話卡張，竟基於意圖為自己不法所有之犯意，徒手竊取葉秀華\n",
      "\n",
      "\n",
      "5    104,訴,378 \t 搶奪 \t(Score: 0.9670)\n",
      "詎其猶不知悔改，竟分別基於意圖為自己不法所有之搶奪犯意，下列犯行：()於時許，騎乘車號普通重型機車，在新北市豐年街巷巷口，見陳毓芳肩背式背包行走於上開路段，趁其防備之際，從陳毓芳後方徒手搶奪陳毓芳所有\n",
      "\n",
      "\n",
      "COS相似計算時間 0.075362 sec\n",
      "\n",
      "\n",
      "\n",
      "\n",
      "\n",
      "Query: 被告王昆泰因不滿與告訴人股份公司間之費用、服務糾紛，於民國時分許，在臺北市許昌街與口，持之朝由李慶麟所管領之館前門市之玻璃，造成玻璃、不堪使用。\n",
      "\n",
      "Top 5 most similar sentences in corpus:\n",
      "1    105,審易,3016 \t 毀損 \t(Score: 0.9670)\n",
      "被告簡偉於民國時分許，在臺北市與常德街口，竟基於毀損他人物品之犯意，處公共內之，毀損告訴人即中華股份有限公司所有於該處由蔡山鐘所管領之公共之玻璃，致該玻璃破裂，致令不堪使用，足生損害於告訴人蔡山鐘。\n",
      "\n",
      "\n",
      "2    106,易,1214 \t 毀損 \t(Score: 0.9588)\n",
      "被告曾德輝與告訴人陳美艷係鄰居，於民國時分許，因不滿告訴人在桃園市區街巷住處內，竟基於損壞他人之犯意，持丟擲告訴人上開住處之玻璃，致該玻璃破裂不堪使用，足生損害於告訴人。\n",
      "\n",
      "\n",
      "3    106,審易,1775 \t 毀損 \t(Score: 0.9586)\n",
      "被告林因不滿告訴人劉浩先所經營址設桃園市區街之公司難聞，竟基於毀損之犯意，於民國時分許，以徒手方式將告訴人於上址之風管，致令不堪使用，\n",
      "\n",
      "\n",
      "4    106,易,1034 \t 毀損 \t(Score: 0.9585)\n",
      "被告蔣仲亭曾為址設桃園市區路段之杰森有限公司之員工，其因故遭，心生不滿，竟基於毀損之犯意，於民國時分許，騎乘車牌號碼普通重型機車至杰森公司後，手持向該公司大門玻璃，致該公司大門玻璃、、鋁受有美觀之，足\n",
      "\n",
      "\n",
      "5    105,易,934 \t 毀損 \t(Score: 0.9580)\n",
      "被告廖坤發於民國時分許，因告訴人陳禹安遲未債務，其，告訴人陳禹安僱用告訴人張雅筑經營位於桃園市區路段小魔女檳榔攤，持店內鏡，致其不堪使用。\n",
      "\n",
      "\n"
     ]
    }
   ],
   "source": [
    "# Find the closest 5 sentences of the corpus for each query sentence based on cosine similarity\n",
    "top_k = 5\n",
    "i = 0\n",
    "tmpSpecial = ''\n",
    "show = 0\n",
    "\n",
    "for query in queries:\n",
    "    tStart2 = time.time()\n",
    "    query_embedding = embedder.encode(query, convert_to_tensor=True)\n",
    "    cos_scores = util.pytorch_cos_sim(query_embedding, corpus_embeddings)[0]\n",
    "    cos_scores = cos_scores.cpu()\n",
    "\n",
    "\n",
    "    #We use np.argpartition, to only partially sort the top_k results\n",
    "    top_results = np.argpartition(-cos_scores, range(top_k))[0:top_k]\n",
    "    print(\"\\n\\n\\n\\n\")\n",
    "    print(\"Query:\", query)\n",
    "    print(\"\\nTop 5 most similar sentences in corpus:\")\n",
    "\n",
    "    no = 1\n",
    "    for idx in top_results[0:top_k]:\n",
    "        if (corpus[idx] == specialtest):\n",
    "            continue\n",
    "        print(no, \"  \"\n",
    "              , corpusList[idx].no,\"\\t\"\n",
    "              ,  corpusList[idx].reason\n",
    "              , \"\\t(Score: %.4f)\" % (cos_scores[idx]))\n",
    "        if (len(corpus[idx].strip()[0:100]) > 100):\n",
    "            print (corpus[idx].strip()[0:100])\n",
    "        else:\n",
    "            print (corpus[idx].strip()[0:100])\n",
    "        if (tmpSpecial == ''):\n",
    "            tmpSpecial = corpus[idx].strip()\n",
    "            print(tmpSpecial)\n",
    "        print('\\n')\n",
    "        no = no + 1\n",
    "        show += 1\n",
    "\n",
    "    if (show > 5):break\n",
    "\n",
    "    tEnd2 = time.time()#計時結束\n",
    "    print(\"COS相似計算時間\", \"%f sec\" % (tEnd2 - tStart2))"
   ]
  },
  {
   "cell_type": "code",
   "execution_count": 12,
   "metadata": {
    "pycharm": {
     "name": "#%%\n"
    }
   },
   "outputs": [
    {
     "name": "stderr",
     "output_type": "stream",
     "text": [
      "Exception when trying to download https://sbert.net/models/bert-base-chinese.zip. Response 404\n",
      "WARNING:root:SentenceTransformer-Model https://sbert.net/models/bert-base-chinese.zip not found. Try to create it from scratch\n",
      "WARNING:root:Try to create Transformer Model bert-base-chinese with mean pooling\n"
     ]
    }
   ],
   "source": [
    "from sentence_transformers import SentenceTransformer\n",
    "from sklearn.cluster import KMeans\n",
    "embedder = SentenceTransformer('bert-base-chinese')\n",
    "corpus_embeddings = embedder.encode(corpus)\n",
    "# Then, we perform k-means clustering using sklearn:\n",
    "from sklearn.cluster import KMeans\n",
    "\n",
    "specialcls = -1\n",
    "\n",
    "num_clusters = 20\n",
    "clustering_model = KMeans(n_clusters=num_clusters)\n",
    "clustering_model.fit(corpus_embeddings)\n",
    "cluster_assignment = clustering_model.labels_"
   ]
  },
  {
   "cell_type": "code",
   "execution_count": 13,
   "metadata": {},
   "outputs": [
    {
     "name": "stdout",
     "output_type": "stream",
     "text": [
      "14\n",
      "Cluster  1\n",
      "為取得址設新北市區街樓浪漫屋視聽歌唱坊之，竟意圖為自己財產上不法之利益，基於恐嚇之犯意，於民國時許，電聯浪漫屋歌唱坊負責人，要求讓出浪漫屋歌唱坊之，在電話中向恫稱：「你沒有經營，我做，你要繼續經營，我\n",
      "\n",
      "Cluster  2\n",
      "前因施用毒品案件，經本院年度訴字判處有期徒刑確定，嗣經有期徒刑確定，甫於民國執行完畢。詎其仍不知悔改，復意圖為自己不法之所有，於時許，在臺中市○區街巷號前，以自備之鑰匙支明所有，由使用之車牌號碼輕型機\n",
      "\n",
      "Cluster  3\n",
      "江滿基於意圖為自己不法所有之竊盜犯意，為下列行為：()於時分許，在臺中市西屯區街之統一便利商店內，趁無人注意之際，徒手竊取該店內販賣之，得手後，將之於所口袋內，就其所購買他物品結帳後，即逕行離去。()\n",
      "\n",
      "Cluster  4\n",
      "林耀明於民國時許起至時許止，在臺中市區路與路交岔路口附近之，與友人飲用酒類後，已達不能安全駕駛動力交通工具之程度，猶於同時許，駕駛車牌號碼自用小客車上路欲返家。嗣於同時分許，行經臺中市區路與蘭生街之交\n",
      "\n",
      "Cluster  5\n",
      "哲為址設區路「佳泰社」之負責人，其明知「兵燹之聖魔戰印」之視聽著作，係著作財產權人國際股份有限公司之視聽著作，公司之同意授權，不得擅自意圖銷售重製於，詎其竟基於意圖銷售擅自以重製於之方法侵害公司著作財\n",
      "\n",
      "Cluster  6\n",
      "石月玲因常林素英、黃議寬祖孫經營之位於臺中市○區街之「慶昌」買賣，與林素英。石月玲於民國時分許，在「慶昌」辦公室內與林素英聊天，竟趁林素英之際，意圖為自己不法之所有，徒手竊取林素英所有放置在該辦公室內\n",
      "\n",
      "Cluster  7\n",
      "被告洪於民國時許，與同事即告訴人、同事廷、碧君等在位於臺北市區路之「KTV」包廂內，被告因細故與告訴人發生爭執，憤而離去，詎被告竟基於，於離去該包廂約至分鐘後，在時分許，返回前開包廂，持於身後之西餐刀\n",
      "\n",
      "Cluster  8\n",
      "朱於民國時許起，在臺中市清泉崗友人住處內飲用啤酒，時許已達不能安全駕駛動力交通工具之程度，猶於飲畢後騎乘車牌號碼重型機車上路欲返回住處，嗣於同時分許，行經臺中市區路與神林時，因未戴安全帽，且力降低，行\n",
      "\n",
      "Cluster  9\n",
      "邱建豪於民國時分許，在桃園市區路桃園市政府警察局桃園分局埔子派出所內之臺，明知員警徐芳振係依法執行職務之公務員，因不滿員警所詢事項應向其他辦理，竟基於妨害公務員執行職務之犯意，至停於於派出所外之車輛內\n",
      "\n",
      "Cluster  10\n",
      "被告李冬章意圖為自己不法之所有，自民國起，臺中市區段-1即被害人吳墩省之同意，擅自自備之，開土地之電度表接引進入其位在西屯區路○段-對面豬寮內，接續竊取上開土地之。嗣於時分許，被害人吳墩省發現上開土地\n",
      "\n",
      "Cluster  11\n",
      "許其昌係址設臺中市○區路「左岸國際」之負責人，李耀忠自民國某日受僱於許其昌、擔任與該之，許其昌、李耀忠共同意圖使女子與他人為性交、猥褻行為，媒介、容留以營利之犯意聯絡，在臺中市○區路之左岸，分別為下列\n",
      "\n",
      "Cluster  12\n",
      "被告吳政翰明知代號代號A均係未滿之女子。詎其於，在臺南市區街０一巷０「朝」前，見甲女與一同，竟為行為()：基於強制猥褻之犯意，強行將甲女，將甲女褲子，以手指撫摸甲女，此違反甲女意願之方法猥褻之行為得逞\n",
      "\n",
      "Cluster  13\n",
      "詎其不知悔改，復基於意圖營利場所、之犯意，自民國起，提供其位在臺中市區路之公眾得出入之場所，不特定人號碼與之財物。其賭法係以電話向張昔霞，每注新臺幣至之金額，以每2、4、6之「」組號碼之重組號碼。凡號\n",
      "\n",
      "Cluster  14\n",
      "蔡進郎無處，常住在廢棄屋內，於民國時分許，其在位於桃園縣桃園市與街口之某處廢棄屋內，因細故與孫發生爭執，竟基於傷害他人身體之犯意，遭人棄置於現場之把，毆打孫頭部，致孫受有頭部右眉撕裂傷3公分、頭皮撕裂\n",
      "\n",
      "Cluster  15\n",
      "被告陳守仁為高職擔任之男子，竟不手段財物，因，以徒手竊取該超商內商品供己之犯罪動機、、手段、生活狀況、程度、竊得物品價值新臺幣約\n",
      "\n",
      "Cluster  16\n",
      "於某時，在其位於臺南市○區街巷之之住處房間內，以將毒品海洛因內之方式，施用海洛因。另基於施用毒品甲基安非他命之犯意，於同某時，在上揭住處房間內，以將毒品甲基安非他命置於內以火後之方式，施用甲基安非他命\n",
      "\n",
      "Cluster  17\n",
      "王於民國時分許，駕駛車牌號碼自用小客車，沿臺南市區路由向行駛，行至，本應注意汽車行駛時，應注意車前狀況兩車之間隔，隨時採取必要之安全措施，依天候晴、自然光線、路面乾燥、無缺陷、無障礙物、視距良好等情，\n",
      "\n",
      "Cluster  18\n",
      "柯俞至因途經桃園縣與街口「夢巴黎檳榔攤」前，見該檳榔攤店員均薄紗胸衣短裙，竟生，基於強制普通傷害之犯意，於民國時許，先以其母幸冠伶所有車牌號碼自用小客車之車牌後，駕駛該車，嗣於同時分許，行至前開「夢巴\n",
      "\n",
      "Cluster  19\n",
      "張麗娜為張麗莉之妹，其基於公然侮辱之犯意，於民國時分許，在不特定人得以共見共聞之臺灣臺中地方法院檢察署樓外，於張麗莉在場之情形下，對張麗莉之女婿徐順承喧罵「你丈母娘是」等語，在樓法警室前再對張麗莉辱罵\n",
      "\n",
      "Cluster  20\n",
      "康源卑基於意圖營利，場所、之犯意，自民國某日起，至止，提供其位於臺中市區路巷居處，作為公眾得出入之場所，經營俗稱「」「臺灣大樂透」等賭局，不特定，號碼與之財物。其方法係以臺灣大樂透每之組號碼組，供以電\n",
      "\n"
     ]
    }
   ],
   "source": [
    "clustered_sentences = [[] for i in range(num_clusters)]\n",
    "for sentence_id, cluster_id in enumerate(cluster_assignment):\n",
    "    clustered_sentences[cluster_id].append(corpus[sentence_id])\n",
    "    if (tmpSpecial == corpus[sentence_id]):\n",
    "        specialcls = cluster_id\n",
    "        print (cluster_id)\n",
    "for i, cluster in enumerate(clustered_sentences):\n",
    "    print(\"Cluster \", i+1)\n",
    "    print(cluster[0].strip()[0:100])\n",
    "    print(\"\")"
   ]
  },
  {
   "cell_type": "code",
   "execution_count": 14,
   "outputs": [],
   "source": [
    "class Cls(object):\n",
    "    def __init__(self):\n",
    "        self.reason = \"\"\n",
    "        self.num = 0"
   ],
   "metadata": {
    "collapsed": false,
    "pycharm": {
     "name": "#%%\n"
    }
   }
  },
  {
   "cell_type": "code",
   "execution_count": 15,
   "outputs": [
    {
     "name": "stdout",
     "output_type": "stream",
     "text": [
      "1    106,易,1093 \t 妨害公務 \n",
      "\n",
      "邱建豪於民國時分許，在桃園市區路桃園市政府警察局桃園分局埔子派出所內之臺，明知員警徐芳振係依法執行職務之公務員，因不滿員警所詢事項應向其他辦理，竟基於妨害公務員執行職務之犯意，至停於於派出所外之車輛內\n",
      "\n",
      "2    100,中交簡,100 \t 公共危險 \n",
      "\n",
      "林耀明於民國時許起至時許止，在臺中市區路與路交岔路口附近之，與友人飲用酒類後，已達不能安全駕駛動力交通工具之程度，猶於同時許，駕駛車牌號碼自用小客車上路欲返家。嗣於同時分許，行經臺中市區路與蘭生街之交\n",
      "\n",
      "3    100,中交簡,1016 \t 公共危險 \n",
      "\n",
      "朱於民國時許起，在臺中市清泉崗友人住處內飲用啤酒，時許已達不能安全駕駛動力交通工具之程度，猶於飲畢後騎乘車牌號碼重型機車上路欲返回住處，嗣於同時分許，行經臺中市區路與神林時，因未戴安全帽，且力降低，行\n",
      "\n",
      "4    100,中簡,1001 \t 竊盜 \n",
      "\n",
      "被告陳守仁為高職擔任之男子，竟不手段財物，因，以徒手竊取該超商內商品供己之犯罪動機、、手段、生活狀況、程度、竊得物品價值新臺幣約\n",
      "\n",
      "5    100,中簡,1011 \t 賭博 \n",
      "\n",
      "詎其不知悔改，復基於意圖營利場所、之犯意，自民國起，提供其位在臺中市區路之公眾得出入之場所，不特定人號碼與之財物。其賭法係以電話向張昔霞，每注新臺幣至之金額，以每2、4、6之「」組號碼之重組號碼。凡號\n",
      "\n"
     ]
    }
   ],
   "source": [
    "no = 1\n",
    "clusterList = {}\n",
    "show = 0\n",
    "for sentence_id, cluster_id in enumerate(cluster_assignment):\n",
    "    if (show < 5):\n",
    "        print(no, \"  \"\n",
    "                  , corpusList[sentence_id].no,\"\\t\"\n",
    "                  ,  corpusList[sentence_id].reason, \"\\n\")\n",
    "        if (len(corpusList[sentence_id].Situation.strip()) > 100):\n",
    "            print(corpusList[sentence_id].Situation.strip()[0:100])\n",
    "        else:\n",
    "            print(corpusList[sentence_id].Situation.strip())\n",
    "        no += 1\n",
    "        print(\"\")\n",
    "\n",
    "        show +=1\n",
    "    if cluster_id in clusterList:\n",
    "        if corpusList[sentence_id].reason in clusterList[cluster_id]:\n",
    "            clusterList[cluster_id][corpusList[sentence_id].reason] += 1\n",
    "        else:\n",
    "            clusterList[cluster_id][corpusList[sentence_id].reason] = 1\n",
    "    else:\n",
    "        clslist = {}\n",
    "        clslist[corpusList[sentence_id].reason] = 1\n",
    "        clusterList[cluster_id] = clslist"
   ],
   "metadata": {
    "collapsed": false,
    "pycharm": {
     "name": "#%%\n"
    }
   }
  },
  {
   "cell_type": "code",
   "execution_count": 16,
   "outputs": [
    {
     "name": "stdout",
     "output_type": "stream",
     "text": [
      "0  \n",
      "125\n",
      "妨害名譽   95\n",
      "妨害自由   21\n",
      "著作權法   4\n",
      "妨害性自主   2\n",
      "殺人未遂   1\n",
      "殺人   1\n",
      "毀損   1\n",
      " \n",
      "1  \n",
      "119\n",
      "妨害公務   15\n",
      "竊盜   13\n",
      "搶奪   12\n",
      "毒品危害   10\n",
      "詐欺   9\n",
      "公共危險   8\n",
      "強盜   7\n",
      "毀損   7\n",
      "侵占   6\n",
      "妨害風化   5\n",
      "殺人未遂   4\n",
      "傷害   4\n",
      "妨害自由   4\n",
      "偽造文書   4\n",
      "妨害名譽   3\n",
      "妨害性自主   2\n",
      "毀棄損壞   2\n",
      "槍砲彈藥刀械   2\n",
      "替代役實施   1\n",
      "醫師法   1\n",
      " \n",
      "2  \n",
      "187\n",
      "詐欺   89\n",
      "侵占   36\n",
      "偽造文書   28\n",
      "竊盜   11\n",
      "妨害名譽   8\n",
      "妨害自由   5\n",
      "著作權法   4\n",
      "搶奪   2\n",
      "妨害風化   1\n",
      "毀棄損壞   1\n",
      "強盜   1\n",
      "貪污   1\n",
      " \n",
      "3  \n",
      "164\n",
      "公共危險   50\n",
      "妨害公務   25\n",
      "妨害自由   22\n",
      "毀損   22\n",
      "搶奪   15\n",
      "傷害   7\n",
      "妨害名譽   6\n",
      "過失傷害   4\n",
      "偽造文書   4\n",
      "殺人未遂   3\n",
      "強盜   3\n",
      "妨害性自主   2\n",
      "妨害風化   1\n",
      " \n",
      "4  \n",
      "166\n",
      "著作權法   166\n",
      " \n",
      "5  \n",
      "330\n",
      "殺人未遂   95\n",
      "妨害自由   72\n",
      "傷害   39\n",
      "殺人   25\n",
      "強盜   20\n",
      "妨害名譽   20\n",
      "妨害公務   13\n",
      "毀損   12\n",
      "搶奪   10\n",
      "妨害性自主   9\n",
      "竊盜   4\n",
      "侵占   4\n",
      "詐欺   4\n",
      "妨害風化   2\n",
      "毀棄損壞   1\n",
      " \n",
      "6  \n",
      "177\n",
      "妨害自由   50\n",
      "妨害名譽   32\n",
      "毀損   29\n",
      "傷害   26\n",
      "殺人未遂   23\n",
      "搶奪   4\n",
      "毀棄損壞   3\n",
      "殺人   2\n",
      "侵占   2\n",
      "妨害性自主   1\n",
      "詐欺   1\n",
      "強盜   1\n",
      "妨害公務   1\n",
      "妨害風化   1\n",
      "著作權法   1\n",
      " \n",
      "7  \n",
      "257\n",
      "公共危險   249\n",
      "偽造文書   5\n",
      "過失傷害   3\n",
      " \n",
      "8  \n",
      "242\n",
      "妨害公務   232\n",
      "妨害自由   4\n",
      "殺人未遂   1\n",
      "毀棄損壞   1\n",
      "侵占   1\n",
      "妨害名譽   1\n",
      "毀損   1\n",
      "公共危險   1\n",
      " \n",
      "9  \n",
      "209\n",
      "毀損   95\n",
      "妨害自由   30\n",
      "殺人未遂   21\n",
      "毀棄損壞   15\n",
      "公共危險   12\n",
      "妨害公務   7\n",
      "傷害   6\n",
      "殺人   5\n",
      "竊盜   4\n",
      "妨害名譽   4\n",
      "侵占   4\n",
      "搶奪   2\n",
      "強盜   2\n",
      "偽造文書   2\n",
      " \n",
      "10  \n",
      "180\n",
      "妨害風化   175\n",
      "詐欺   2\n",
      "著作權法   1\n",
      "強盜   1\n",
      "醫師法   1\n",
      " \n",
      "11  \n",
      "174\n",
      "妨害性自主   150\n",
      "妨害自由   10\n",
      "強盜   6\n",
      "妨害風化   3\n",
      "殺人未遂   2\n",
      "傷害   2\n",
      "妨害名譽   1\n",
      " \n",
      "12  \n",
      "254\n",
      "侵占   96\n",
      "偽造文書   72\n",
      "詐欺   41\n",
      "妨害自由   13\n",
      "妨害名譽   6\n",
      "賭博   4\n",
      "竊盜   4\n",
      "毀損   4\n",
      "貪污   3\n",
      "著作權法   2\n",
      "搶奪   2\n",
      "妨害公務   2\n",
      "強盜   2\n",
      "殺人未遂   1\n",
      "槍砲彈藥刀械   1\n",
      "醫師法   1\n",
      " \n",
      "13  \n",
      "205\n",
      "傷害   152\n",
      "殺人未遂   43\n",
      "妨害公務   4\n",
      "殺人   3\n",
      "妨害自由   3\n",
      " \n",
      "14  \n",
      "492\n",
      "搶奪   169\n",
      "竊盜   167\n",
      "強盜   92\n",
      "侵占   34\n",
      "妨害自由   12\n",
      "殺人未遂   5\n",
      "詐欺   4\n",
      "偽造文書   2\n",
      "毀損   2\n",
      "槍砲彈藥刀械   2\n",
      "妨害風化   1\n",
      "妨害公務   1\n",
      "妨害名譽   1\n",
      " \n",
      "15  \n",
      "60\n",
      "毒品危害   55\n",
      "強盜   2\n",
      "藥事法   2\n",
      "偽證   1\n",
      " \n",
      "16  \n",
      "231\n",
      "過失傷害   204\n",
      "公共危險   25\n",
      "過失致死   2\n",
      " \n",
      "17  \n",
      "192\n",
      "毀損   151\n",
      "毀棄損壞   14\n",
      "妨害公務   7\n",
      "傷害   5\n",
      "偽造文書   5\n",
      "過失傷害   3\n",
      "強盜   2\n",
      "妨害名譽   2\n",
      "殺人未遂   1\n",
      "公共危險   1\n",
      "妨害自由   1\n",
      " \n",
      "18  \n",
      "130\n",
      "妨害名譽   117\n",
      "妨害自由   8\n",
      "妨害公務   5\n",
      " \n",
      "19  \n",
      "158\n",
      "偽造文書   48\n",
      "侵占   48\n",
      "妨害名譽   12\n",
      "妨害自由   10\n",
      "著作權法   8\n",
      "詐欺   8\n",
      "妨害公務   5\n",
      "過失致死   5\n",
      "毀損   3\n",
      "賭博   2\n",
      "貪污   2\n",
      "商標法   2\n",
      "妨害性自主   1\n",
      "毀棄損壞   1\n",
      "強盜   1\n",
      "殺人未遂   1\n",
      "殺人   1\n",
      " \n"
     ]
    }
   ],
   "source": [
    "idcnt = 0\n",
    "\n",
    "for key, value in sorted(clusterList.items()):\n",
    "    print(key, \" \")\n",
    "    clutotal = sum(value.values())\n",
    "    print(clutotal)\n",
    "    for _key, _value in sorted(value.items(), key=lambda x: -x[1]):\n",
    "        idcnt += _value\n",
    "        clusterList[key][_key] = value[_key] / clutotal\n",
    "        print(_key, \" \", _value)\n",
    "        #print(_key, \" \", _value, \"\\nP= \",clusterList[key][_key])\n",
    "    print(\" \")"
   ],
   "metadata": {
    "collapsed": false,
    "pycharm": {
     "name": "#%%\n"
    }
   }
  },
  {
   "cell_type": "code",
   "execution_count": 17,
   "outputs": [],
   "source": [
    "from scipy import stats\n",
    "import pandas as pd\n",
    "\n",
    "def Entropy(labels):\n",
    "    # 计算概率分布\n",
    "    probs = pd.Series(labels).value_counts() / len(labels)\n",
    "    # 计算底数为base的熵\n",
    "    en = stats.entropy(probs)\n",
    "    return en"
   ],
   "metadata": {
    "collapsed": false,
    "pycharm": {
     "name": "#%%\n"
    }
   }
  },
  {
   "cell_type": "code",
   "execution_count": 18,
   "outputs": [
    {
     "name": "stdout",
     "output_type": "stream",
     "text": [
      "Avg Entropy:\t 1.578100873959535 \n",
      "\n",
      "Clu 0 Entropy:\t 1.475076311054695\n",
      "Clu 1 Entropy:\t 2.4150521219178067\n",
      "Clu 2 Entropy:\t 2.0228085294147036\n",
      "Clu 3 Entropy:\t 2.2450352741261774\n",
      "Clu 4 Entropy:\t 0.0\n",
      "Clu 5 Entropy:\t 2.395908119293929\n",
      "Clu 6 Entropy:\t 1.8989267893363286\n",
      "Clu 7 Entropy:\t 1.0986122886681096\n",
      "Clu 8 Entropy:\t 0.7356219397587946\n",
      "Clu 9 Entropy:\t 2.1682234916146403\n",
      "Clu 10 Entropy:\t 0.9502705392332347\n",
      "Clu 11 Entropy:\t 1.7478680974667578\n",
      "Clu 12 Entropy:\t 2.0140355237092673\n",
      "Clu 13 Entropy:\t 1.3321790402101223\n",
      "Clu 14 Entropy:\t 2.0578975319224093\n",
      "Clu 15 Entropy:\t 1.0397207708399179\n",
      "Clu 16 Entropy:\t 1.0986122886681096\n",
      "Clu 17 Entropy:\t 1.8462202193216335\n",
      "Clu 18 Entropy:\t 1.0986122886681096\n",
      "Clu 19 Entropy:\t 1.9213363139659514\n"
     ]
    }
   ],
   "source": [
    "score = 0\n",
    "clucnt = 0\n",
    "clusterEntropy = {}\n",
    "for key, value in sorted(clusterList.items()):\n",
    "    clusterEntropy[key] = Entropy(value)\n",
    "    score += clusterEntropy[key]\n",
    "    clucnt += 1\n",
    "\n",
    "print(\"Avg Entropy:\\t\", score/clucnt, \"\\n\")\n",
    "\n",
    "for key, value in sorted(clusterEntropy.items()):\n",
    "    print(\"Clu\", key, \"Entropy:\\t\", value)"
   ],
   "metadata": {
    "collapsed": false,
    "pycharm": {
     "name": "#%%\n"
    }
   }
  },
  {
   "cell_type": "code",
   "execution_count": 18,
   "outputs": [],
   "source": [],
   "metadata": {
    "collapsed": false,
    "pycharm": {
     "name": "#%%\n"
    }
   }
  }
 ],
 "metadata": {
  "kernelspec": {
   "display_name": "Python 3",
   "language": "python",
   "name": "python3"
  },
  "language_info": {
   "codemirror_mode": {
    "name": "ipython",
    "version": 3
   },
   "file_extension": ".py",
   "mimetype": "text/x-python",
   "name": "python",
   "nbconvert_exporter": "python",
   "pygments_lexer": "ipython3",
   "version": "3.6.8"
  }
 },
 "nbformat": 4,
 "nbformat_minor": 1
}