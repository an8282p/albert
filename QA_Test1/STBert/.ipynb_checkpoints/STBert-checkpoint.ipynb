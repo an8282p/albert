{
 "cells": [
  {
   "cell_type": "code",
   "execution_count": 1,
   "metadata": {
    "pycharm": {
     "name": "#%%\n"
    }
   },
   "outputs": [
    {
     "name": "stderr",
     "output_type": "stream",
     "text": []
    },
    {
     "name": "stdout",
     "output_type": "stream",
     "text": [
      "bert-base-chinese\n"
     ]
    },
    {
     "name": "stderr",
     "output_type": "stream",
     "text": [
      "I1014 01:01:37.979940 140671043094336 SentenceTransformer.py:116] Use pytorch device: cuda\n"
     ]
    }
   ],
   "source": [
    "from sentence_transformers import SentenceTransformer, util\n",
    "import numpy as np\n",
    "import pandas as pd\n",
    "embedder  SentenceTransformer('bert-base-chinese')"
   ]
  },
  {
   "cell_type": "code",
   "execution_count": 2,
   "metadata": {
    "pycharm": {
     "name": "#%%\n"
    }
   },
   "outputs": [
    {
     "data": {
      "text/html": [
       "<div>\n",
       "<style scoped>\n",
       "    .dataframe tbody tr th:only-of-type {\n",
       "        vertical-align: middle;\n",
       "    }\n",
       "\n",
       "    .dataframe tbody tr th {\n",
       "        vertical-align: top;\n",
       "    }\n",
       "\n",
       "    .dataframe thead th {\n",
       "        text-align: right;\n",
       "    }\n",
       "</style>\n",
       "<table border\"1\" class\"dataframe\">\n",
       "  <thead>\n",
       "    <tr style\"text-align: right;\">\n",
       "      <th></th>\n",
       "      <th>court</th>\n",
       "      <th>date</th>\n",
       "      <th>no</th>\n",
       "      <th>sys</th>\n",
       "      <th>reason</th>\n",
       "      <th>type</th>\n",
       "      <th>mainText</th>\n",
       "      <th>judgement</th>\n",
       "      <th>Situation</th>\n",
       "    </tr>\n",
       "    <tr>\n",
       "      <th>id</th>\n",
       "      <th></th>\n",
       "      <th></th>\n",
       "      <th></th>\n",
       "      <th></th>\n",
       "      <th></th>\n",
       "      <th></th>\n",
       "      <th></th>\n",
       "      <th></th>\n",
       "      <th></th>\n",
       "    </tr>\n",
       "  </thead>\n",
       "  <tbody>\n",
       "    <tr>\n",
       "      <th>0</th>\n",
       "      <td>臺灣桃園地方法院</td>\n",
       "      <td>2018-04-18T00:00:00+08:00</td>\n",
       "      <td>106,易,1093</td>\n",
       "      <td>刑事</td>\n",
       "      <td>妨害公務</td>\n",
       "      <td>判決</td>\n",
       "      <td>邱建豪犯妨害公務執行罪，累犯，處拘役拾日，如易科罰金，以新臺幣壹仟元折算壹日。</td>\n",
       "      <td>臺灣桃園地方法院刑事判決106年度易字第1093號公訴人臺灣桃園地方法院檢察署檢察官被告邱建...</td>\n",
       "      <td>邱建豪於民國106年5月1日下午5時15分許，在桃園市○○區○○路000號桃園市政府警察局桃...</td>\n",
       "    </tr>\n",
       "    <tr>\n",
       "      <th>1</th>\n",
       "      <td>臺灣臺中地方法院</td>\n",
       "      <td>2011-05-19T00:00:00+08:00</td>\n",
       "      <td>100,中交簡,1002</td>\n",
       "      <td>刑事</td>\n",
       "      <td>公共危險</td>\n",
       "      <td>判決</td>\n",
       "      <td>王炎權服用酒類，不能安全駕駛動力交通工具而駕駛，處拘役伍拾日，如易科罰金，以新臺幣壹仟元折算壹日。</td>\n",
       "      <td>臺灣臺中地方法院刑事簡易判決100年度中交簡字第1002號聲請人臺灣臺中地方法院檢察署檢察官...</td>\n",
       "      <td>王炎權於民國100年4月8日晚間9時30分許起至翌日凌晨3時許止，在彰化縣芬園鄉○○路○段2...</td>\n",
       "    </tr>\n",
       "  </tbody>\n",
       "</table>\n",
       "</div>"
      ],
      "text/plain": [
       "       court                       date            no sys reason type  \\\n",
       "id                                                                      \n",
       "0   臺灣桃園地方法院  2018-04-18T00:00:00+08:00    106,易,1093  刑事   妨害公務   判決   \n",
       "1   臺灣臺中地方法院  2011-05-19T00:00:00+08:00  100,中交簡,1002  刑事   公共危險   判決   \n",
       "\n",
       "                                             mainText  \\\n",
       "id                                                      \n",
       "0             邱建豪犯妨害公務執行罪，累犯，處拘役拾日，如易科罰金，以新臺幣壹仟元折算壹日。   \n",
       "1   王炎權服用酒類，不能安全駕駛動力交通工具而駕駛，處拘役伍拾日，如易科罰金，以新臺幣壹仟元折算壹日。   \n",
       "\n",
       "                                            judgement  \\\n",
       "id                                                      \n",
       "0   臺灣桃園地方法院刑事判決106年度易字第1093號公訴人臺灣桃園地方法院檢察署檢察官被告邱建...   \n",
       "1   臺灣臺中地方法院刑事簡易判決100年度中交簡字第1002號聲請人臺灣臺中地方法院檢察署檢察官...   \n",
       "\n",
       "                                            Situation  \n",
       "id                                                     \n",
       "0   邱建豪於民國106年5月1日下午5時15分許，在桃園市○○區○○路000號桃園市政府警察局桃...  \n",
       "1   王炎權於民國100年4月8日晚間9時30分許起至翌日凌晨3時許止，在彰化縣芬園鄉○○路○段2...  "
      ]
     },
     "execution_count": 2,
     "metadata": {},
     "output_type": "execute_result"
    }
   ],
   "source": [
    "df  pd.read_csv('.//data//Result_TFIDF.csv', index_col0)\n",
    "df.head(2)"
   ]
  },
  {
   "cell_type": "code",
   "execution_count": 3,
   "metadata": {
    "pycharm": {
     "name": "#%%\n"
    }
   },
   "outputs": [
    {
     "data": {
      "text/html": [
       "<div>\n",
       "<style scoped>\n",
       "    .dataframe tbody tr th:only-of-type {\n",
       "        vertical-align: middle;\n",
       "    }\n",
       "\n",
       "    .dataframe tbody tr th {\n",
       "        vertical-align: top;\n",
       "    }\n",
       "\n",
       "    .dataframe thead th {\n",
       "        text-align: right;\n",
       "    }\n",
       "</style>\n",
       "<table border\"1\" class\"dataframe\">\n",
       "  <thead>\n",
       "    <tr style\"text-align: right;\">\n",
       "      <th></th>\n",
       "      <th>court</th>\n",
       "      <th>date</th>\n",
       "      <th>no</th>\n",
       "      <th>sys</th>\n",
       "      <th>reason</th>\n",
       "      <th>type</th>\n",
       "      <th>mainText</th>\n",
       "      <th>judgement</th>\n",
       "      <th>Situation</th>\n",
       "    </tr>\n",
       "    <tr>\n",
       "      <th>id</th>\n",
       "      <th></th>\n",
       "      <th></th>\n",
       "      <th></th>\n",
       "      <th></th>\n",
       "      <th></th>\n",
       "      <th></th>\n",
       "      <th></th>\n",
       "      <th></th>\n",
       "      <th></th>\n",
       "    </tr>\n",
       "  </thead>\n",
       "  <tbody>\n",
       "    <tr>\n",
       "      <th>522</th>\n",
       "      <td>臺灣臺中地方法院</td>\n",
       "      <td>2017-02-06T00:00:00+08:00</td>\n",
       "      <td>105,中簡,1134</td>\n",
       "      <td>刑事</td>\n",
       "      <td>傷害</td>\n",
       "      <td>判決</td>\n",
       "      <td>易佳騰犯傷害罪，處拘役拾日，如易科罰金，以新臺幣壹仟元折算壹日。</td>\n",
       "      <td>臺灣臺中地方法院刑事簡易判決105年度中簡字第1134號聲請人臺灣臺中地方法院檢察署檢察官被...</td>\n",
       "      <td>易佳騰於民國103年12月30日22時53分許，在臺中市○○區○○街000號，因工程款糾紛與...</td>\n",
       "    </tr>\n",
       "    <tr>\n",
       "      <th>901</th>\n",
       "      <td>臺灣臺中地方法院</td>\n",
       "      <td>2017-06-21T00:00:00+08:00</td>\n",
       "      <td>105,原易,51</td>\n",
       "      <td>刑事</td>\n",
       "      <td>傷害</td>\n",
       "      <td>判決</td>\n",
       "      <td>宋約翰傷害人之身體，累犯，處有期徒刑肆月，如易科罰金，以新臺幣壹仟元折算壹日。</td>\n",
       "      <td>臺灣臺中地方法院刑事判決105年度原易字第51號公訴人臺灣臺中地方法院檢察署檢察官被告宋約翰...</td>\n",
       "      <td>宋約翰前於民國103年間因公共危險案件，經本院以103年度中交簡字第3997號判決判處有期徒...</td>\n",
       "    </tr>\n",
       "  </tbody>\n",
       "</table>\n",
       "</div>"
      ],
      "text/plain": [
       "        court                       date           no sys reason type  \\\n",
       "id                                                                      \n",
       "522  臺灣臺中地方法院  2017-02-06T00:00:00+08:00  105,中簡,1134  刑事     傷害   判決   \n",
       "901  臺灣臺中地方法院  2017-06-21T00:00:00+08:00    105,原易,51  刑事     傷害   判決   \n",
       "\n",
       "                                    mainText  \\\n",
       "id                                             \n",
       "522         易佳騰犯傷害罪，處拘役拾日，如易科罰金，以新臺幣壹仟元折算壹日。   \n",
       "901  宋約翰傷害人之身體，累犯，處有期徒刑肆月，如易科罰金，以新臺幣壹仟元折算壹日。   \n",
       "\n",
       "                                             judgement  \\\n",
       "id                                                       \n",
       "522  臺灣臺中地方法院刑事簡易判決105年度中簡字第1134號聲請人臺灣臺中地方法院檢察署檢察官被...   \n",
       "901  臺灣臺中地方法院刑事判決105年度原易字第51號公訴人臺灣臺中地方法院檢察署檢察官被告宋約翰...   \n",
       "\n",
       "                                             Situation  \n",
       "id                                                      \n",
       "522  易佳騰於民國103年12月30日22時53分許，在臺中市○○區○○街000號，因工程款糾紛與...  \n",
       "901  宋約翰前於民國103年間因公共危險案件，經本院以103年度中交簡字第3997號判決判處有期徒...  "
      ]
     },
     "execution_count": 3,
     "metadata": {},
     "output_type": "execute_result"
    }
   ],
   "source": [
    "test  pd.read_csv('.//data//Result_Test.csv', index_col0)\n",
    "test.head(2)"
   ]
  },
  {
   "cell_type": "code",
   "execution_count": 4,
   "metadata": {
    "pycharm": {
     "name": "#%%\n"
    }
   },
   "outputs": [
    {
     "name": "stderr",
     "output_type": "stream",
     "text": [
      "c:\\users\\user\\pycharmprojects\\pytorch\\venv\\lib\\site-packages\\ipykernel_launcher.py:2: SettingWithCopyWarning: \n",
      "A value is trying to be set on a copy of a slice from a DataFrame.\n",
      "Try using .loc[row_indexer,col_indexer]  value instead\n",
      "\n",
      "See the caveats in the documentation: http://pandas.pydata.org/pandas-docs/stable/user_guide/indexing.html#returning-a-view-versus-a-copy\n",
      "  \n",
      "c:\\users\\user\\pycharmprojects\\pytorch\\venv\\lib\\site-packages\\ipykernel_launcher.py:3: SettingWithCopyWarning: \n",
      "A value is trying to be set on a copy of a slice from a DataFrame.\n",
      "Try using .loc[row_indexer,col_indexer]  value instead\n",
      "\n",
      "See the caveats in the documentation: http://pandas.pydata.org/pandas-docs/stable/user_guide/indexing.html#returning-a-view-versus-a-copy\n",
      "  This is separate from the ipykernel package so we can avoid doing imports until\n",
      "c:\\users\\user\\pycharmprojects\\pytorch\\venv\\lib\\site-packages\\ipykernel_launcher.py:4: SettingWithCopyWarning: \n",
      "A value is trying to be set on a copy of a slice from a DataFrame.\n",
      "Try using .loc[row_indexer,col_indexer]  value instead\n",
      "\n",
      "See the caveats in the documentation: http://pandas.pydata.org/pandas-docs/stable/user_guide/indexing.html#returning-a-view-versus-a-copy\n",
      "  after removing the cwd from sys.path.\n"
     ]
    },
    {
     "data": {
      "text/html": [
       "<div>\n",
       "<style scoped>\n",
       "    .dataframe tbody tr th:only-of-type {\n",
       "        vertical-align: middle;\n",
       "    }\n",
       "\n",
       "    .dataframe tbody tr th {\n",
       "        vertical-align: top;\n",
       "    }\n",
       "\n",
       "    .dataframe thead th {\n",
       "        text-align: right;\n",
       "    }\n",
       "</style>\n",
       "<table border\"1\" class\"dataframe\">\n",
       "  <thead>\n",
       "    <tr style\"text-align: right;\">\n",
       "      <th></th>\n",
       "      <th>court</th>\n",
       "      <th>date</th>\n",
       "      <th>no</th>\n",
       "      <th>sys</th>\n",
       "      <th>reason</th>\n",
       "      <th>type</th>\n",
       "      <th>mainText</th>\n",
       "      <th>judgement</th>\n",
       "      <th>Situation</th>\n",
       "    </tr>\n",
       "    <tr>\n",
       "      <th>id</th>\n",
       "      <th></th>\n",
       "      <th></th>\n",
       "      <th></th>\n",
       "      <th></th>\n",
       "      <th></th>\n",
       "      <th></th>\n",
       "      <th></th>\n",
       "      <th></th>\n",
       "      <th></th>\n",
       "    </tr>\n",
       "  </thead>\n",
       "  <tbody>\n",
       "    <tr>\n",
       "      <th>0</th>\n",
       "      <td>臺灣桃園地方法院</td>\n",
       "      <td>2018-04-18T00:00:00+08:00</td>\n",
       "      <td>106,易,1093</td>\n",
       "      <td>刑事</td>\n",
       "      <td>妨害公務</td>\n",
       "      <td>判決</td>\n",
       "      <td>邱建豪犯妨害公務執行罪，累犯，處拘役拾日，如易科罰金，以新臺幣壹仟元折算壹日。</td>\n",
       "      <td>臺灣桃園地方法院刑事判決106年度易字第1093號公訴人臺灣桃園地方法院檢察署檢察官被告邱建...</td>\n",
       "      <td>邱建豪於民國106年5月1日下午5時15分許，在桃園市○○區○○路000號桃園市政府警察局桃...</td>\n",
       "    </tr>\n",
       "    <tr>\n",
       "      <th>1</th>\n",
       "      <td>臺灣臺中地方法院</td>\n",
       "      <td>2011-05-19T00:00:00+08:00</td>\n",
       "      <td>100,中交簡,1002</td>\n",
       "      <td>刑事</td>\n",
       "      <td>公共危險</td>\n",
       "      <td>判決</td>\n",
       "      <td>王炎權服用酒類，不能安全駕駛動力交通工具而駕駛，處拘役伍拾日，如易科罰金，以新臺幣壹仟元折算壹日。</td>\n",
       "      <td>臺灣臺中地方法院刑事簡易判決100年度中交簡字第1002號聲請人臺灣臺中地方法院檢察署檢察官...</td>\n",
       "      <td>王炎權於民國100年4月8日晚間9時30分許起至翌日凌晨3時許止，在彰化縣芬園鄉○○路○段2...</td>\n",
       "    </tr>\n",
       "  </tbody>\n",
       "</table>\n",
       "</div>"
      ],
      "text/plain": [
       "       court                       date            no sys reason type  \\\n",
       "id                                                                      \n",
       "0   臺灣桃園地方法院  2018-04-18T00:00:00+08:00    106,易,1093  刑事   妨害公務   判決   \n",
       "1   臺灣臺中地方法院  2011-05-19T00:00:00+08:00  100,中交簡,1002  刑事   公共危險   判決   \n",
       "\n",
       "                                             mainText  \\\n",
       "id                                                      \n",
       "0             邱建豪犯妨害公務執行罪，累犯，處拘役拾日，如易科罰金，以新臺幣壹仟元折算壹日。   \n",
       "1   王炎權服用酒類，不能安全駕駛動力交通工具而駕駛，處拘役伍拾日，如易科罰金，以新臺幣壹仟元折算壹日。   \n",
       "\n",
       "                                            judgement  \\\n",
       "id                                                      \n",
       "0   臺灣桃園地方法院刑事判決106年度易字第1093號公訴人臺灣桃園地方法院檢察署檢察官被告邱建...   \n",
       "1   臺灣臺中地方法院刑事簡易判決100年度中交簡字第1002號聲請人臺灣臺中地方法院檢察署檢察官...   \n",
       "\n",
       "                                            Situation  \n",
       "id                                                     \n",
       "0   邱建豪於民國106年5月1日下午5時15分許，在桃園市○○區○○路000號桃園市政府警察局桃...  \n",
       "1   王炎權於民國100年4月8日晚間9時30分許起至翌日凌晨3時許止，在彰化縣芬園鄉○○路○段2...  "
      ]
     },
     "execution_count": 4,
     "metadata": {},
     "output_type": "execute_result"
    }
   ],
   "source": [
    "df1  df[~df['no'].isin(test['no'])]\n",
    "df1['reason']  df1['reason'].str.replace('等','')\n",
    "df1['reason']  df1['reason'].str.replace(\"條例\",\"\")\n",
    "df1['reason']  df1['reason'].str.replace(\"違反\",\"\")\n",
    "df1.head(2)"
   ]
  },
  {
   "cell_type": "code",
   "execution_count": 5,
   "metadata": {
    "pycharm": {
     "name": "#%%\n"
    }
   },
   "outputs": [],
   "source": [
    "import pandas as pd\n",
    "import time\n",
    "tStart  time.time()"
   ]
  },
  {
   "cell_type": "code",
   "execution_count": 6,
   "metadata": {
    "pycharm": {
     "name": "#%%\n"
    }
   },
   "outputs": [],
   "source": [
    "class Data(object):\n",
    "    def __init__(self):\n",
    "        self.no  \"0\"\n",
    "        self.reason  \"\"\n",
    "        self.Situation  \"\""
   ]
  },
  {
   "cell_type": "code",
   "execution_count": 7,
   "metadata": {
    "pycharm": {
     "name": "#%%\n"
    }
   },
   "outputs": [
    {
     "data": {
      "application/vnd.jupyter.widget-view+json": {
       "model_id": "c203c2f80cc64eec8f8dc6548953550b",
       "version_major": 2,
       "version_minor": 0
      },
      "text/plain": [
       "HBox(children(FloatProgress(value0.0, description'Batches', max69.0, styleProgressStyle(description_width…"
      ]
     },
     "metadata": {},
     "output_type": "display_data"
    },
    {
     "name": "stdout",
     "output_type": "stream",
     "text": [
      "\n",
      "2208\n"
     ]
    }
   ],
   "source": [
    "#embedder  SentenceTransformer('distilbert-base-nli-stsb-mean-tokens')\n",
    "\n",
    "# Corpus with example sentences\n",
    "#corpus  ['A man is eating food.',\n",
    "#          'A man is eating a piece of bread.',\n",
    "#          'The girl is carrying a baby.',\n",
    "#          'A man is riding a horse.',\n",
    "#          'A woman is playing violin.',\n",
    "#          'Two men pushed carts through the woods.',\n",
    "#          'A man is riding a white horse on an enclosed ground.',\n",
    "#          'A monkey is playing drums.',\n",
    "#          'A cheetah is running behind its prey.'\n",
    "#          ]\n",
    "corpus  []\n",
    "corpusList  []\n",
    "for index, row in df1.iterrows():\n",
    "    if (row.Situation  None):\n",
    "        continue\n",
    "    if (isinstance(row.Situation, float)):\n",
    "        continue\n",
    "    if (len(row.Situation)  0):\n",
    "        continue\n",
    "    d  Data()\n",
    "    d.no  row.no\n",
    "    d.reason  row.reason\n",
    "    d.Situation  row.Situation\n",
    "    corpusList.append(d)\n",
    "    corpus.append(row.Situation)\n",
    "corpus_embeddings  embedder.encode(corpus, convert_to_tensorTrue)\n",
    "print(len(corpus))"
   ]
  },
  {
   "cell_type": "code",
   "execution_count": 8,
   "metadata": {
    "pycharm": {
     "name": "#%%\n"
    }
   },
   "outputs": [
    {
     "name": "stdout",
     "output_type": "stream",
     "text": []
    }
   ],
   "source": [
    "tEnd  time.time()#計時結束\n",
    "#列印結果\n",
    "print(\"轉向量時間\", \"%f sec\" % (tEnd - tStart))"
   ]
  },
  {
   "cell_type": "code",
   "execution_count": 9,
   "metadata": {
    "pycharm": {
     "name": "#%%\n"
    }
   },
   "outputs": [
    {
     "name": "stdout",
     "output_type": "stream",
     "text": [
      "22\n"
     ]
    }
   ],
   "source": [
    "# Query sentences:\n",
    "#queries  ['A man is eating pasta.', 'Someone in a gorilla costume is playing a set of drums.', 'A cheetah chases prey on across a field.']\n",
    "queries  []\n",
    "specialtest  '被告陳守仁為高職畢業擔任保全之男子，竟不思以正常手段獲取財物，因一時貪念，以徒手竊取該超商內商品供己食用之犯罪動機、目的、手段、生活狀況、智識程度、所竊得物品價值新臺幣（下同）總共約821元'\n",
    "queries.append(specialtest)\n",
    "for index, row in test.iterrows():\n",
    "    queries.append(str(row.Situation))\n",
    "print(len(queries))"
   ]
  },
  {
   "cell_type": "code",
   "execution_count": 10,
   "metadata": {
    "pycharm": {
     "name": "#%%\n"
    }
   },
   "outputs": [
    {
     "data": {
      "application/vnd.jupyter.widget-view+json": {
       "model_id": "79cbcac0488b4d05a9d4c523b0bdde69",
       "version_major": 2,
       "version_minor": 0
      },
      "text/plain": [
       "HBox(children(FloatProgress(value0.0, description'Batches', max1.0, styleProgressStyle(description_width…"
      ]
     },
     "metadata": {},
     "output_type": "display_data"
    },
    {
     "name": "stdout",
     "output_type": "stream",
     "text": []
    },
    {
     "data": {
      "application/vnd.jupyter.widget-view+json": {
       "model_id": "658f1aca2083463b98317ce26e486d49",
       "version_major": 2,
       "version_minor": 0
      },
      "text/plain": [
       "HBox(children(FloatProgress(value0.0, description'Batches', max1.0, styleProgressStyle(description_width…"
      ]
     },
     "metadata": {},
     "output_type": "display_data"
    },
    {
     "name": "stdout",
     "output_type": "stream",
     "text": []
    },
    {
     "data": {
      "application/vnd.jupyter.widget-view+json": {
       "model_id": "e0749e8cf2fa435fa4d8d7146557548d",
       "version_major": 2,
       "version_minor": 0
      },
      "text/plain": [
       "HBox(children(FloatProgress(value0.0, description'Batches', max1.0, styleProgressStyle(description_width…"
      ]
     },
     "metadata": {},
     "output_type": "display_data"
    },
    {
     "name": "stdout",
     "output_type": "stream",
     "text": [
      "\n",
      "\n",
      "朱明光於民國104年9月6日凌晨1時9分許，在臺南市○區○○路○段00號前，因故與前配偶王春花爭吵拉扯時，適林春琦路過該處，乃出言阻止，朱明光遂與林春琦發生爭執，因而心生不滿，基於傷害他人身體之犯意，徒手毆打林春琦之左臉頰一下，致林春琦受有頭部外傷併左嘴角及口腔內膜擦挫傷之傷害。\n",
      "COS相似計算時間 0.127659 sec\n",
      "\n",
      "\n",
      "\n",
      "\n",
      "\n",
      "Query: 宋約翰前於民國103年間因公共危險案件，經本院以103年度中交簡字第3997號判決判處有期徒刑3月確定，入監執行後於104年8月8日縮刑期滿執行完畢。詎猶不知悔改，於104年8月18日晚間9時25分許，行經臺中市大里區仁堤路立善橋橋頭旁河堤處，見阮氏倫獨自行走該處，竟基於傷害之犯意，以雙手將阮氏倫推落至河堤下方，致阮氏倫受有左手肘撕裂傷（約1公分長）、左手肘、左足跟、雙膝擦挫傷等傷害。嗣阮氏倫自河堤下方爬起後報警處理，並當場向警指認宋約翰，而循線查悉上情。\n",
      "\n",
      "Top 5 most similar sentences in corpus:\n",
      "1    105,原易,28 \t 竊盜 \t(Score: 0.9821)\n",
      "\n",
      "鄭筱芸前曾因酒後駕車之公共危險案件，經本院臺中簡易庭以103年度中交簡字第849號簡易判決判處有期徒刑2月確定，嗣於民國103年10月25日履行社會勞動完成而執行完畢，竟仍不知悔改。鄭筱芸意圖為自己不法之所有，於105年5月8日晚間6時29分許，在位於臺中市○○區○○路0段00號「四季百貨太平店」內，徒手竊取陳阿娥管領之Luming去角質瓜圓片、彩色天然洗臉海綿各1包、Kracie度假風保濕噴霧、蕊娜制汗爽身噴霧、斯儂恩玫瑰橄欖油各2瓶、水平衡洗髮精、好心情香氛蛋、雅芳AVON甜美精靈香水各1瓶、玫瑰蔓越莓護手霜1支及可愛媚貓居家短褲1件等物（價額共計新臺幣－下同－2,400元），得手後，當場撕掉各該商品上所貼價格標籤，並放入其攜帶之手提包內，未經結帳即離去。隨即為陳阿娥發現報警處理，為警當場查獲，並扣得上開商品（嗣已由警方發還予陳阿娥領回）。\n",
      "2    105,原易,17 \t 竊盜 \t(Score: 0.9815)\n",
      "\n",
      "古偉德前於民國101年間因竊盜案件，經本院豐原簡易庭以101年度豐簡字第176號簡易判決判處有期徒刑6月，於101年5月28日確定後，入監執行，嗣於102年5月12日縮刑期滿執行完畢，竟仍不知悔改。古偉德意圖為自己不法之所有，於105年4月18日清晨5時30分許，進入林銘德位在臺中市○○區○○路0段○○○巷000○0號民宿露營區，先至營區內開放處所擺放之流理台抽屜內拿取辦公室鑰匙後，以鑰匙開啟辦公室門鎖後，進入辦公室內，徒手竊取林銘德放置在辦公室服務台抽屜內之新台幣（下同）8,200元得逞，隨即離去。嗣於同日上午8時10分許，在臺中市和平區東關路1段之松鶴橋頭旁，為行經該處之警員謝濬紘發現古偉德有酒醉情形，乃上前盤問其身分證字號時，古偉德即於有偵查權限之機關或人員，尚未能有確切之根據合理懷疑其為竊盜案件犯罪行為人之前，主動表明其於上開時地竊盜林銘德財物之情，並當場交付其所竊得之現金8,200元予警員謝濬紘偵查犯罪，嗣後並自願接受裁判。\n",
      "3    105,中原交簡,104 \t 公共危險 \t(Score: 0.9803)\n",
      "\n",
      "謝銀福前於民國99年間因酒後駕車之公共危險案件，經本院以99年度中交簡字第2234號判決判處拘役50日確定，於100年6月17日易服社會勞動執行完畢。詎猶不知悔改，自105年8月30日晚間6時10分許起至7時10分許止，在臺中市烏日區光日路（聲請意旨誤載為黎明路）夜市內飲用枸杞酒後，吐氣所含酒精濃度已達每公升0.25毫克以上，竟隨即騎乘車牌號碼000-000號普通重型機車上路。嗣於同日晚間7時30分許，行經臺中市○○區○○路000巷00號前時，因行車搖擺不定為警攔查，發現其渾身酒味，經對其施以呼氣酒精濃度測試，檢測結果達0.52MG/L，而查悉上情。\n",
      "4    105,審易,944 \t 毀損 \t(Score: 0.9800)\n",
      "\n",
      "邱光平前於民國100年間因妨害自由案件，經本院以102年度易字1258號判決判處有期徒刑4月確定，於103年10月3日執行完畢（於本案構成累犯）。詎其不知悔改，基於毀損他人之物之犯意，於104年12月20日凌晨0時10分許，在桃園市○○區○○○路000號之凡爾賽社區前，持石頭砸毀沈綵泠所有，現由張哲榮管領使用之車牌號碼000-0000號自用小客車之前擋風玻璃，致該車前擋風玻璃破裂而不堪使用，足生損害於張哲榮。\n",
      "5    105,訴,113 \t 強盜 \t(Score: 0.9799)\n",
      " 汪翰哲前於民國102年間因公共危險案件，經本院以102年度壢交簡字第1521號判決判處有期徒刑5月確定，於103年6月16日縮刑期滿執畢。詎仍不知悔改，於103年11月20日上午11時23分後某時許，在其女友黃意喬（所涉業務侵占犯行，業經檢察官為不起訴處分確定）所任職位於桃園縣中壢市（已改制為桃園市中壢區，以下從舊制）環中東路2段89號之「日星檳榔攤」，意圖為自己不法之所有，基於恐嚇取財之犯意，徒手毆打黃意喬，藉此迫使黃意喬將其所保管置放於上揭檳榔攤內之款項新臺幣（下同）8,000元交付，黃意喬因而心生畏懼，將8,000元置於檳榔攤桌上，汪翰哲即將款項取走。\n",
      "COS相似計算時間 0.030296 sec\n"
     ]
    },
    {
     "data": {
      "application/vnd.jupyter.widget-view+json": {
       "model_id": "8367b734c5594b9a862f119e87a0b21c",
       "version_major": 2,
       "version_minor": 0
      },
      "text/plain": [
       "HBox(children(FloatProgress(value0.0, description'Batches', max1.0, styleProgressStyle(description_width…"
      ]
     },
     "metadata": {},
     "output_type": "display_data"
    },
    {
     "name": "stdout",
     "output_type": "stream",
     "text": []
    },
    {
     "data": {
      "application/vnd.jupyter.widget-view+json": {
       "model_id": "ad5808df054043edbe68160b626520c5",
       "version_major": 2,
       "version_minor": 0
      },
      "text/plain": [
       "HBox(children(FloatProgress(value0.0, description'Batches', max1.0, styleProgressStyle(description_width…"
      ]
     },
     "metadata": {},
     "output_type": "display_data"
    },
    {
     "name": "stdout",
     "output_type": "stream",
     "text": []
    },
    {
     "data": {
      "application/vnd.jupyter.widget-view+json": {
       "model_id": "8935f863fdb4492081bf2260c8aed2d5",
       "version_major": 2,
       "version_minor": 0
      },
      "text/plain": [
       "HBox(children(FloatProgress(value0.0, description'Batches', max1.0, styleProgressStyle(description_width…"
      ]
     },
     "metadata": {},
     "output_type": "display_data"
    },
    {
     "name": "stdout",
     "output_type": "stream",
     "text": []
    },
    {
     "data": {
      "application/vnd.jupyter.widget-view+json": {
       "model_id": "189d25f23e3d4d35b745613f627b42d8",
       "version_major": 2,
       "version_minor": 0
      },
      "text/plain": [
       "HBox(children(FloatProgress(value0.0, description'Batches', max1.0, styleProgressStyle(description_width…"
      ]
     },
     "metadata": {},
     "output_type": "display_data"
    },
    {
     "name": "stdout",
     "output_type": "stream",
     "text": []
    },
    {
     "data": {
      "application/vnd.jupyter.widget-view+json": {
       "model_id": "e9e1c5be6927448d975a5ce44a14219b",
       "version_major": 2,
       "version_minor": 0
      },
      "text/plain": [
       "HBox(children(FloatProgress(value0.0, description'Batches', max1.0, styleProgressStyle(description_width…"
      ]
     },
     "metadata": {},
     "output_type": "display_data"
    },
    {
     "name": "stdout",
     "output_type": "stream",
     "text": []
    },
    {
     "data": {
      "application/vnd.jupyter.widget-view+json": {
       "model_id": "6123461be0764a74ac59243d7d56c7a2",
       "version_major": 2,
       "version_minor": 0
      },
      "text/plain": [
       "HBox(children(FloatProgress(value0.0, description'Batches', max1.0, styleProgressStyle(description_width…"
      ]
     },
     "metadata": {},
     "output_type": "display_data"
    },
    {
     "name": "stdout",
     "output_type": "stream",
     "text": []
    },
    {
     "data": {
      "application/vnd.jupyter.widget-view+json": {
       "model_id": "012e218c9c504aac988805631b7f95db",
       "version_major": 2,
       "version_minor": 0
      },
      "text/plain": [
       "HBox(children(FloatProgress(value0.0, description'Batches', max1.0, styleProgressStyle(description_width…"
      ]
     },
     "metadata": {},
     "output_type": "display_data"
    },
    {
     "name": "stdout",
     "output_type": "stream",
     "text": []
    },
    {
     "data": {
      "application/vnd.jupyter.widget-view+json": {
       "model_id": "0cb602e01b29426298c9eb3d292e3b3c",
       "version_major": 2,
       "version_minor": 0
      },
      "text/plain": [
       "HBox(children(FloatProgress(value0.0, description'Batches', max1.0, styleProgressStyle(description_width…"
      ]
     },
     "metadata": {},
     "output_type": "display_data"
    },
    {
     "name": "stdout",
     "output_type": "stream",
     "text": []
    },
    {
     "data": {
      "application/vnd.jupyter.widget-view+json": {
       "model_id": "4ba51cea3cbb41c0a65764fdb75a74e5",
       "version_major": 2,
       "version_minor": 0
      },
      "text/plain": [
       "HBox(children(FloatProgress(value0.0, description'Batches', max1.0, styleProgressStyle(description_width…"
      ]
     },
     "metadata": {},
     "output_type": "display_data"
    },
    {
     "name": "stdout",
     "output_type": "stream",
     "text": []
    },
    {
     "data": {
      "application/vnd.jupyter.widget-view+json": {
       "model_id": "5e937ccc755341bca62f96cde09eb152",
       "version_major": 2,
       "version_minor": 0
      },
      "text/plain": [
       "HBox(children(FloatProgress(value0.0, description'Batches', max1.0, styleProgressStyle(description_width…"
      ]
     },
     "metadata": {},
     "output_type": "display_data"
    },
    {
     "name": "stdout",
     "output_type": "stream",
     "text": []
    },
    {
     "data": {
      "application/vnd.jupyter.widget-view+json": {
       "model_id": "70c9ce5b149f46ffbed92fc28073b0b0",
       "version_major": 2,
       "version_minor": 0
      },
      "text/plain": [
       "HBox(children(FloatProgress(value0.0, description'Batches', max1.0, styleProgressStyle(description_width…"
      ]
     },
     "metadata": {},
     "output_type": "display_data"
    },
    {
     "name": "stdout",
     "output_type": "stream",
     "text": []
    },
    {
     "data": {
      "application/vnd.jupyter.widget-view+json": {
       "model_id": "180bd9b4a7564f42b09dbc1b44e13df2",
       "version_major": 2,
       "version_minor": 0
      },
      "text/plain": [
       "HBox(children(FloatProgress(value0.0, description'Batches', max1.0, styleProgressStyle(description_width…"
      ]
     },
     "metadata": {},
     "output_type": "display_data"
    },
    {
     "name": "stdout",
     "output_type": "stream",
     "text": []
    },
    {
     "data": {
      "application/vnd.jupyter.widget-view+json": {
       "model_id": "b9862e1c5347481ea6168b329c109305",
       "version_major": 2,
       "version_minor": 0
      },
      "text/plain": [
       "HBox(children(FloatProgress(value0.0, description'Batches', max1.0, styleProgressStyle(description_width…"
      ]
     },
     "metadata": {},
     "output_type": "display_data"
    },
    {
     "name": "stdout",
     "output_type": "stream",
     "text": []
    },
    {
     "data": {
      "application/vnd.jupyter.widget-view+json": {
       "model_id": "417f7461473e43baa7786436891c9459",
       "version_major": 2,
       "version_minor": 0
      },
      "text/plain": [
       "HBox(children(FloatProgress(value0.0, description'Batches', max1.0, styleProgressStyle(description_width…"
      ]
     },
     "metadata": {},
     "output_type": "display_data"
    },
    {
     "name": "stdout",
     "output_type": "stream",
     "text": []
    },
    {
     "data": {
      "application/vnd.jupyter.widget-view+json": {
       "model_id": "10d78618ccdc434193e89a52e2373a1c",
       "version_major": 2,
       "version_minor": 0
      },
      "text/plain": [
       "HBox(children(FloatProgress(value0.0, description'Batches', max1.0, styleProgressStyle(description_width…"
      ]
     },
     "metadata": {},
     "output_type": "display_data"
    },
    {
     "name": "stdout",
     "output_type": "stream",
     "text": []
    },
    {
     "data": {
      "application/vnd.jupyter.widget-view+json": {
       "model_id": "34619a6e76b6469eb6493777a163ba26",
       "version_major": 2,
       "version_minor": 0
      },
      "text/plain": [
       "HBox(children(FloatProgress(value0.0, description'Batches', max1.0, styleProgressStyle(description_width…"
      ]
     },
     "metadata": {},
     "output_type": "display_data"
    },
    {
     "name": "stdout",
     "output_type": "stream",
     "text": []
    },
    {
     "data": {
      "application/vnd.jupyter.widget-view+json": {
       "model_id": "3b8e90373c6144098db3d93951699eaa",
       "version_major": 2,
       "version_minor": 0
      },
      "text/plain": [
       "HBox(children(FloatProgress(value0.0, description'Batches', max1.0, styleProgressStyle(description_width…"
      ]
     },
     "metadata": {},
     "output_type": "display_data"
    },
    {
     "name": "stdout",
     "output_type": "stream",
     "text": []
    },
    {
     "data": {
      "application/vnd.jupyter.widget-view+json": {
       "model_id": "648ab8f55d0d4f48ab41507d2f76181a",
       "version_major": 2,
       "version_minor": 0
      },
      "text/plain": [
       "HBox(children(FloatProgress(value0.0, description'Batches', max1.0, styleProgressStyle(description_width…"
      ]
     },
     "metadata": {},
     "output_type": "display_data"
    },
    {
     "name": "stdout",
     "output_type": "stream",
     "text": []
    },
    {
     "data": {
      "application/vnd.jupyter.widget-view+json": {
       "model_id": "5ef2c3cc29bd49649892bb7b39d88e90",
       "version_major": 2,
       "version_minor": 0
      },
      "text/plain": [
       "HBox(children(FloatProgress(value0.0, description'Batches', max1.0, styleProgressStyle(description_width…"
      ]
     },
     "metadata": {},
     "output_type": "display_data"
    },
    {
     "name": "stdout",
     "output_type": "stream",
     "text": []
    }
   ],
   "source": [
    "# Find the closest 5 sentences of the corpus for each query sentence based on cosine similarity\n",
    "top_k  5\n",
    "i  0\n",
    "for query in queries:\n",
    "    tStart2  time.time()\n",
    "    query_embedding  embedder.encode(query, convert_to_tensorTrue)\n",
    "    cos_scores  util.pytorch_cos_sim(query_embedding, corpus_embeddings)[0]\n",
    "    cos_scores  cos_scores.cpu()\n",
    "\n",
    "\n",
    "    #We use np.argpartition, to only partially sort the top_k results\n",
    "    top_results  np.argpartition(-cos_scores, range(top_k))[0:top_k]\n",
    "    print(\"\\n\\n\\n\\n\")\n",
    "    print(\"Query:\", query)\n",
    "    print(\"\\nTop 5 most similar sentences in corpus:\")\n",
    "\n",
    "    no  1\n",
    "    for idx in top_results[0:top_k]:\n",
    "        if (corpus[idx]  specialtest):\n",
    "            continue\n",
    "        print(no, \"  \"\n",
    "              , corpusList[idx].no,\"\\t\"\n",
    "              ,  corpusList[idx].reason\n",
    "              , \"\\t(Score: %.4f)\\n\" % (cos_scores[idx]))\n",
    "        if (len(corpus[idx].strip()[0:100]) > 100):\n",
    "            print (corpus[idx].strip()[0:100])\n",
    "        else:\n",
    "            print (corpus[idx].strip())\n",
    "        no  no + 1\n",
    "\n",
    "    tEnd2  time.time()#計時結束\n",
    "    print(\"COS相似計算時間\", \"%f sec\" % (tEnd2 - tStart2))"
   ]
  },
  {
   "cell_type": "code",
   "execution_count": 11,
   "metadata": {
    "pycharm": {
     "name": "#%%\n"
    }
   },
   "outputs": [
    {
     "name": "stderr",
     "output_type": "stream",
     "text": []
    },
    {
     "name": "stdout",
     "output_type": "stream",
     "text": [
      "bert-base-chinese\n"
     ]
    },
    {
     "name": "stderr",
     "output_type": "stream",
     "text": [
      "I1014 01:01:59.017400 140671043094336 SentenceTransformer.py:116] Use pytorch device: cuda\n"
     ]
    },
    {
     "data": {
      "application/vnd.jupyter.widget-view+json": {
       "model_id": "b6c8b6b4f3af40e9b37fa84214f4f0a7",
       "version_major": 2,
       "version_minor": 0
      },
      "text/plain": [
       "HBox(children(FloatProgress(value0.0, description'Batches', max69.0, styleProgressStyle(description_width…"
      ]
     },
     "metadata": {},
     "output_type": "display_data"
    },
    {
     "name": "stdout",
     "output_type": "stream",
     "text": [
      "\n"
     ]
    }
   ],
   "source": [
    "from sentence_transformers import SentenceTransformer\n",
    "from sklearn.cluster import KMeans\n",
    "embedder  SentenceTransformer('bert-base-chinese')\n",
    "corpus_embeddings  embedder.encode(corpus)\n",
    "# Then, we perform k-means clustering using sklearn:\n",
    "from sklearn.cluster import KMeans\n",
    "\n",
    "specialcls  -1\n",
    "\n",
    "num_clusters  18\n",
    "clustering_model  KMeans(n_clustersnum_clusters)\n",
    "clustering_model.fit(corpus_embeddings)\n",
    "cluster_assignment  clustering_model.labels_"
   ]
  },
  {
   "cell_type": "code",
   "execution_count": 13,
   "metadata": {},
   "outputs": [
    {
     "name": "stdout",
     "output_type": "stream",
     "text": []
    }
   ],
   "source": [
    "clustered_sentences  [[] for i in range(num_clusters)]\n",
    "for sentence_id, cluster_id in enumerate(cluster_assignment):\n",
    "    clustered_sentences[cluster_id].append(corpus[sentence_id])\n",
    "\n",
    "for i, cluster in enumerate(clustered_sentences):\n",
    "    print(\"Cluster \", i+1)\n",
    "    print(cluster)\n",
    "    print(\"\")"
   ]
  },
  {
   "cell_type": "code",
   "execution_count": null,
   "metadata": {
    "pycharm": {
     "name": "#%%\n"
    }
   },
   "outputs": [],
   "source": []
  },
  {
   "cell_type": "code",
   "execution_count": 12,
   "metadata": {
    "pycharm": {
     "name": "#%%\n"
    }
   },
   "outputs": [],
   "source": [
    "class Cls(object):\n",
    "    def __init__(self):\n",
    "        self.reason  \"\"\n",
    "        self.num  0"
   ]
  },
  {
   "cell_type": "code",
   "execution_count": 13,
   "metadata": {
    "pycharm": {
     "name": "#%%\n"
    }
   },
   "outputs": [
    {
     "name": "stdout",
     "output_type": "stream",
     "text": []
    }
   ],
   "source": [
    "no  1\n",
    "clslist  {}\n",
    "for sentence_id, cluster_id in enumerate(cluster_assignment):\n",
    "    if (cluster_id ! specialcls):\n",
    "        continue\n",
    "    print(no, \"  \"\n",
    "              , corpusList[sentence_id].no,\"\\t\"\n",
    "              ,  corpusList[sentence_id].reason, \"\\n\")\n",
    "    if (len(corpusList[sentence_id].Situation.strip()) > 100):\n",
    "        print(corpusList[sentence_id].Situation.strip()[0:100])\n",
    "    else:\n",
    "        print(corpusList[sentence_id].Situation.strip())\n",
    "\n",
    "    no + 1\n",
    "    print(\"\")\n",
    "\n",
    "    if corpusList[sentence_id].reason in clslist:\n",
    "        clslist[corpusList[sentence_id].reason] + 1\n",
    "    else:\n",
    "        clslist[corpusList[sentence_id].reason]  1\n"
   ]
  },
  {
   "cell_type": "code",
   "execution_count": 14,
   "metadata": {
    "pycharm": {
     "name": "#%%\n"
    }
   },
   "outputs": [
    {
     "name": "stdout",
     "output_type": "stream",
     "text": [
      "竊盜   132\n",
      "侵占   34\n",
      "搶奪   41\n",
      "毀損   1\n",
      "妨害自由   2\n",
      "強盜   36\n",
      "妨害性自主   3\n",
      "槍砲彈藥刀械管制   1\n"
     ]
    }
   ],
   "source": [
    "for key, value in clslist.items():\n",
    "    print(key, \" \", value)\n"
   ]
  },
  {
   "cell_type": "code",
   "execution_count": 14,
   "metadata": {
    "pycharm": {
     "name": "#%%\n"
    }
   },
   "outputs": [],
   "source": []
  }
 ],
 "metadata": {
  "kernelspec": {
   "display_name": "Python 3",
   "language": "python",
   "name": "python3"
  },
  "language_info": {
   "codemirror_mode": {
    "name": "ipython",
    "version": 3
   },
   "file_extension": ".py",
   "mimetype": "text/x-python",
   "name": "python",
   "nbconvert_exporter": "python",
   "pygments_lexer": "ipython3",
   "version": "3.6.6"
  }
 },
 "nbformat": 4,
 "nbformat_minor": 1
}
