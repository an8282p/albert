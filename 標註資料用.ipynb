{
 "cells": [
  {
   "cell_type": "code",
   "execution_count": 39,
   "metadata": {
    "pycharm": {
     "is_executing": false
    }
   },
   "outputs": [
    {
     "name": "stdout",
     "text": [
      "刑事判決_100,中交簡,1002_2011-05-19.json\n"
     ],
     "output_type": "stream"
    }
   ],
   "source": [
    "import os, json \n",
    "import pandas as pd \n",
    "\n",
    "path_to_json = 'J:\\Legal_Judgment\\臺灣新北地方法院_改' \n",
    "json_files = [pos_json for pos_json in os.listdir(path_to_json) if pos_json.endswith('.json')] \n",
    "print(json_files[0])"
   ]
  },
  {
   "cell_type": "code",
   "execution_count": 40,
   "metadata": {
    "pycharm": {
     "is_executing": false
    }
   },
   "outputs": [],
   "source": [
    "with open('J://Legal_Judgment//臺灣新北地方法院_改//'+json_files[0],\"r\",encoding=\"utf-8\") as f:\n",
    "    dt = json.load(f)"
   ]
  },
  {
   "cell_type": "code",
   "execution_count": 41,
   "metadata": {
    "pycharm": {
     "is_executing": false
    }
   },
   "outputs": [
    {
     "data": {
      "text/plain": "   id     court                       date            no sys reason type  \\\n0   0  臺灣臺中地方法院  2011-05-19T00:00:00+08:00  100,中交簡,1002  刑事   公共危險   判決   \n\n                                            mainText  \\\n0  王炎權服用酒類，不能安全駕駛動力交通工具而駕駛，處拘役伍拾日，如易科罰金，以新臺幣壹仟元折算壹日。   \n\n                                           judgement  \\\n0  臺灣臺中地方法院刑事簡易判決100年度中交簡字第1002號聲請人臺灣臺中地方法院檢察署檢察官...   \n\n                                       judgement_SIT  \\\n0  臺灣臺中地方法院刑事簡易判決100年度中交簡字第1002號聲請人臺灣臺中地方法院檢察署檢察官...   \n\n                                           Situation  \n0  王炎權於民國100年4月8日晚間9時30分許起至翌日凌晨3時許止，在彰化縣芬園鄉○○路○段2...  ",
      "text/html": "<div>\n<style scoped>\n    .dataframe tbody tr th:only-of-type {\n        vertical-align: middle;\n    }\n\n    .dataframe tbody tr th {\n        vertical-align: top;\n    }\n\n    .dataframe thead th {\n        text-align: right;\n    }\n</style>\n<table border=\"1\" class=\"dataframe\">\n  <thead>\n    <tr style=\"text-align: right;\">\n      <th></th>\n      <th>id</th>\n      <th>court</th>\n      <th>date</th>\n      <th>no</th>\n      <th>sys</th>\n      <th>reason</th>\n      <th>type</th>\n      <th>mainText</th>\n      <th>judgement</th>\n      <th>judgement_SIT</th>\n      <th>Situation</th>\n    </tr>\n  </thead>\n  <tbody>\n    <tr>\n      <td>0</td>\n      <td>0</td>\n      <td>臺灣臺中地方法院</td>\n      <td>2011-05-19T00:00:00+08:00</td>\n      <td>100,中交簡,1002</td>\n      <td>刑事</td>\n      <td>公共危險</td>\n      <td>判決</td>\n      <td>王炎權服用酒類，不能安全駕駛動力交通工具而駕駛，處拘役伍拾日，如易科罰金，以新臺幣壹仟元折算壹日。</td>\n      <td>臺灣臺中地方法院刑事簡易判決100年度中交簡字第1002號聲請人臺灣臺中地方法院檢察署檢察官...</td>\n      <td>臺灣臺中地方法院刑事簡易判決100年度中交簡字第1002號聲請人臺灣臺中地方法院檢察署檢察官...</td>\n      <td>王炎權於民國100年4月8日晚間9時30分許起至翌日凌晨3時許止，在彰化縣芬園鄉○○路○段2...</td>\n    </tr>\n  </tbody>\n</table>\n</div>"
     },
     "metadata": {},
     "output_type": "execute_result",
     "execution_count": 41
    }
   ],
   "source": [
    "dic = {\n",
    "    \"id\": 0,\n",
    "    \"court\": [dt[\"court\"]], \n",
    "    \"date\": [dt[\"date\"]],\n",
    "    \"no\": [dt[\"no\"]],\n",
    "    \"sys\": [dt[\"sys\"]],\n",
    "    \"reason\": [dt[\"reason\"]],\n",
    "    \"type\": [dt[\"type\"]],\n",
    "    \"mainText\": [dt[\"mainText\"]],\n",
    "    \"judgement\": [dt[\"judgement\"]],\n",
    "    \"judgement_SIT\": [dt[\"judgement_SIT\"]],\n",
    "    \"Situation\": [dt[\"Situation\"]]\n",
    "}\n",
    "df = pd.DataFrame(dic)\n",
    "df"
   ]
  },
  {
   "cell_type": "code",
   "execution_count": 42,
   "metadata": {
    "pycharm": {
     "is_executing": false
    }
   },
   "outputs": [
    {
     "name": "stdout",
     "text": [
      "2\n39\n",
      "71\n88\n"
     ],
     "output_type": "stream"
    }
   ],
   "source": [
    "for x in range(1,167):\n",
    "    with open('J://Legal_Judgment//臺灣新北地方法院_改//'+json_files[x],\"r\",encoding=\"utf-8\") as f:\n",
    "        dt = json.load(f)\n",
    "    \n",
    "    try:\n",
    "        new = pd.DataFrame({\n",
    "        \"id\" : x,\n",
    "        \"court\": [dt[\"court\"]], \n",
    "        \"date\": [dt[\"date\"]],\n",
    "        \"no\": [dt[\"no\"]],\n",
    "        \"sys\": [dt[\"sys\"]],\n",
    "        \"reason\": [dt[\"reason\"]],\n",
    "        \"type\": [dt[\"type\"]],\n",
    "        \"mainText\": [dt[\"mainText\"]],\n",
    "        \"judgement\": [dt[\"judgement\"]],\n",
    "        \"judgement_SIT\": [dt[\"judgement_SIT\"]],\n",
    "        \"Situation\": [dt[\"Situation\"]]\n",
    "        })\n",
    "        \n",
    "    except:\n",
    "        print(x)\n",
    "\n",
    "    df = df.append(new)"
   ]
  },
  {
   "cell_type": "code",
   "execution_count": 43,
   "metadata": {
    "pycharm": {
     "is_executing": false
    }
   },
   "outputs": [],
   "source": [
    "df.to_csv('J://Legal_Judgment//Result.csv', index=0) "
   ]
  },
  {
   "cell_type": "code",
   "execution_count": 44,
   "outputs": [
    {
     "data": {
      "text/plain": "       court                       date            no sys reason type  \\\nid                                                                      \n0   臺灣臺中地方法院  2011-05-19T00:00:00+08:00  100,中交簡,1002  刑事   公共危險   判決   \n1   臺灣臺中地方法院  2011-01-25T00:00:00+08:00   100,中交簡,100  刑事   公共危險   判決   \n1   臺灣臺中地方法院  2011-01-25T00:00:00+08:00   100,中交簡,100  刑事   公共危險   判決   \n3   臺灣臺中地方法院  2011-06-13T00:00:00+08:00  100,中交簡,1106  刑事   公共危險   判決   \n4   臺灣臺中地方法院  2011-05-17T00:00:00+08:00   100,中簡,1001  刑事     竊盜   判決   \n\n                                             mainText  \\\nid                                                      \n0   王炎權服用酒類，不能安全駕駛動力交通工具而駕駛，處拘役伍拾日，如易科罰金，以新臺幣壹仟元折算壹日。   \n1   林耀明服用酒類，不能安全駕駛動力交通工具而駕駛，處拘役伍拾伍日，如易科罰金，以新臺幣壹仟元折...   \n1   林耀明服用酒類，不能安全駕駛動力交通工具而駕駛，處拘役伍拾伍日，如易科罰金，以新臺幣壹仟元折...   \n3   洪國棋服用酒類，不能安全駕駛動力交通工具而駕駛，處拘役伍拾日，如易科罰金，以新臺幣壹仟元折算壹日。   \n4   陳守仁竊盜，三罪，均累犯，各處罰金新臺幣壹萬元、壹萬元、伍仟元，如易服勞役，均以新臺幣壹仟元...   \n\n                                            judgement  \\\nid                                                      \n0   臺灣臺中地方法院刑事簡易判決100年度中交簡字第1002號聲請人臺灣臺中地方法院檢察署檢察官...   \n1   臺灣臺中地方法院刑事簡易判決100年度中交簡字第100號聲請人臺灣臺中地方法院檢察署檢察官被...   \n1   臺灣臺中地方法院刑事簡易判決100年度中交簡字第100號聲請人臺灣臺中地方法院檢察署檢察官被...   \n3   臺灣臺中地方法院刑事簡易判決100年度中交簡字第1106號聲請人臺灣臺中地方法院檢察署檢察官...   \n4   臺灣臺中地方法院刑事簡易判決100年度中簡字第1001號聲請人臺灣臺中地方法院檢察署檢察官被...   \n\n                                        judgement_SIT  \\\nid                                                      \n0   臺灣臺中地方法院刑事簡易判決100年度中交簡字第1002號聲請人臺灣臺中地方法院檢察署檢察官...   \n1   臺灣臺中地方法院刑事簡易判決100年度中交簡字第100號聲請人臺灣臺中地方法院檢察署檢察官被...   \n1   臺灣臺中地方法院刑事簡易判決100年度中交簡字第100號聲請人臺灣臺中地方法院檢察署檢察官被...   \n3   臺灣臺中地方法院刑事簡易判決100年度中交簡字第1106號聲請人臺灣臺中地方法院檢察署檢察官...   \n4   臺灣臺中地方法院刑事簡易判決100年度中簡字第1001號聲請人臺灣臺中地方法院檢察署檢察官被...   \n\n                                            Situation  \nid                                                     \n0   王炎權於民國100年4月8日晚間9時30分許起至翌日凌晨3時許止，在彰化縣芬園鄉○○路○段2...  \n1   林耀明於民國99年10月22日下午4時許起至5時許止，在臺中市○○區○○路與豐樂路交岔路口附...  \n1   林耀明於民國99年10月22日下午4時許起至5時許止，在臺中市○○區○○路與豐樂路交岔路口附...  \n3   洪國棋於民國100年4月28日晚間7時許起至同日晚間8時30分許止，在臺中市○里區○○路21...  \n4   被告陳守仁為高職畢業擔任保全之男子，竟不思以正常手段獲取財物，因一時貪念，以徒手竊取該超商內...  ",
      "text/html": "<div>\n<style scoped>\n    .dataframe tbody tr th:only-of-type {\n        vertical-align: middle;\n    }\n\n    .dataframe tbody tr th {\n        vertical-align: top;\n    }\n\n    .dataframe thead th {\n        text-align: right;\n    }\n</style>\n<table border=\"1\" class=\"dataframe\">\n  <thead>\n    <tr style=\"text-align: right;\">\n      <th></th>\n      <th>court</th>\n      <th>date</th>\n      <th>no</th>\n      <th>sys</th>\n      <th>reason</th>\n      <th>type</th>\n      <th>mainText</th>\n      <th>judgement</th>\n      <th>judgement_SIT</th>\n      <th>Situation</th>\n    </tr>\n    <tr>\n      <th>id</th>\n      <th></th>\n      <th></th>\n      <th></th>\n      <th></th>\n      <th></th>\n      <th></th>\n      <th></th>\n      <th></th>\n      <th></th>\n      <th></th>\n    </tr>\n  </thead>\n  <tbody>\n    <tr>\n      <td>0</td>\n      <td>臺灣臺中地方法院</td>\n      <td>2011-05-19T00:00:00+08:00</td>\n      <td>100,中交簡,1002</td>\n      <td>刑事</td>\n      <td>公共危險</td>\n      <td>判決</td>\n      <td>王炎權服用酒類，不能安全駕駛動力交通工具而駕駛，處拘役伍拾日，如易科罰金，以新臺幣壹仟元折算壹日。</td>\n      <td>臺灣臺中地方法院刑事簡易判決100年度中交簡字第1002號聲請人臺灣臺中地方法院檢察署檢察官...</td>\n      <td>臺灣臺中地方法院刑事簡易判決100年度中交簡字第1002號聲請人臺灣臺中地方法院檢察署檢察官...</td>\n      <td>王炎權於民國100年4月8日晚間9時30分許起至翌日凌晨3時許止，在彰化縣芬園鄉○○路○段2...</td>\n    </tr>\n    <tr>\n      <td>1</td>\n      <td>臺灣臺中地方法院</td>\n      <td>2011-01-25T00:00:00+08:00</td>\n      <td>100,中交簡,100</td>\n      <td>刑事</td>\n      <td>公共危險</td>\n      <td>判決</td>\n      <td>林耀明服用酒類，不能安全駕駛動力交通工具而駕駛，處拘役伍拾伍日，如易科罰金，以新臺幣壹仟元折...</td>\n      <td>臺灣臺中地方法院刑事簡易判決100年度中交簡字第100號聲請人臺灣臺中地方法院檢察署檢察官被...</td>\n      <td>臺灣臺中地方法院刑事簡易判決100年度中交簡字第100號聲請人臺灣臺中地方法院檢察署檢察官被...</td>\n      <td>林耀明於民國99年10月22日下午4時許起至5時許止，在臺中市○○區○○路與豐樂路交岔路口附...</td>\n    </tr>\n    <tr>\n      <td>1</td>\n      <td>臺灣臺中地方法院</td>\n      <td>2011-01-25T00:00:00+08:00</td>\n      <td>100,中交簡,100</td>\n      <td>刑事</td>\n      <td>公共危險</td>\n      <td>判決</td>\n      <td>林耀明服用酒類，不能安全駕駛動力交通工具而駕駛，處拘役伍拾伍日，如易科罰金，以新臺幣壹仟元折...</td>\n      <td>臺灣臺中地方法院刑事簡易判決100年度中交簡字第100號聲請人臺灣臺中地方法院檢察署檢察官被...</td>\n      <td>臺灣臺中地方法院刑事簡易判決100年度中交簡字第100號聲請人臺灣臺中地方法院檢察署檢察官被...</td>\n      <td>林耀明於民國99年10月22日下午4時許起至5時許止，在臺中市○○區○○路與豐樂路交岔路口附...</td>\n    </tr>\n    <tr>\n      <td>3</td>\n      <td>臺灣臺中地方法院</td>\n      <td>2011-06-13T00:00:00+08:00</td>\n      <td>100,中交簡,1106</td>\n      <td>刑事</td>\n      <td>公共危險</td>\n      <td>判決</td>\n      <td>洪國棋服用酒類，不能安全駕駛動力交通工具而駕駛，處拘役伍拾日，如易科罰金，以新臺幣壹仟元折算壹日。</td>\n      <td>臺灣臺中地方法院刑事簡易判決100年度中交簡字第1106號聲請人臺灣臺中地方法院檢察署檢察官...</td>\n      <td>臺灣臺中地方法院刑事簡易判決100年度中交簡字第1106號聲請人臺灣臺中地方法院檢察署檢察官...</td>\n      <td>洪國棋於民國100年4月28日晚間7時許起至同日晚間8時30分許止，在臺中市○里區○○路21...</td>\n    </tr>\n    <tr>\n      <td>4</td>\n      <td>臺灣臺中地方法院</td>\n      <td>2011-05-17T00:00:00+08:00</td>\n      <td>100,中簡,1001</td>\n      <td>刑事</td>\n      <td>竊盜</td>\n      <td>判決</td>\n      <td>陳守仁竊盜，三罪，均累犯，各處罰金新臺幣壹萬元、壹萬元、伍仟元，如易服勞役，均以新臺幣壹仟元...</td>\n      <td>臺灣臺中地方法院刑事簡易判決100年度中簡字第1001號聲請人臺灣臺中地方法院檢察署檢察官被...</td>\n      <td>臺灣臺中地方法院刑事簡易判決100年度中簡字第1001號聲請人臺灣臺中地方法院檢察署檢察官被...</td>\n      <td>被告陳守仁為高職畢業擔任保全之男子，竟不思以正常手段獲取財物，因一時貪念，以徒手竊取該超商內...</td>\n    </tr>\n  </tbody>\n</table>\n</div>"
     },
     "metadata": {},
     "output_type": "execute_result",
     "execution_count": 44
    }
   ],
   "source": [
    "df = pd.read_csv('J://Legal_Judgment//Result.csv', index_col=0)\n",
    "df.head()"
   ],
   "metadata": {
    "collapsed": false,
    "pycharm": {
     "name": "#%%\n",
     "is_executing": false
    }
   }
  },
  {
   "cell_type": "code",
   "execution_count": 45,
   "outputs": [
    {
     "data": {
      "text/plain": "Empty DataFrame\nColumns: [court, date, no, sys, reason, type, mainText, judgement, judgement_SIT, Situation]\nIndex: []",
      "text/html": "<div>\n<style scoped>\n    .dataframe tbody tr th:only-of-type {\n        vertical-align: middle;\n    }\n\n    .dataframe tbody tr th {\n        vertical-align: top;\n    }\n\n    .dataframe thead th {\n        text-align: right;\n    }\n</style>\n<table border=\"1\" class=\"dataframe\">\n  <thead>\n    <tr style=\"text-align: right;\">\n      <th></th>\n      <th>court</th>\n      <th>date</th>\n      <th>no</th>\n      <th>sys</th>\n      <th>reason</th>\n      <th>type</th>\n      <th>mainText</th>\n      <th>judgement</th>\n      <th>judgement_SIT</th>\n      <th>Situation</th>\n    </tr>\n    <tr>\n      <th>id</th>\n      <th></th>\n      <th></th>\n      <th></th>\n      <th></th>\n      <th></th>\n      <th></th>\n      <th></th>\n      <th></th>\n      <th></th>\n      <th></th>\n    </tr>\n  </thead>\n  <tbody>\n  </tbody>\n</table>\n</div>"
     },
     "metadata": {},
     "output_type": "execute_result",
     "execution_count": 45
    }
   ],
   "source": [
    "df[df['reason'] == ('違反毒品危害防制條例')].head(10)"
   ],
   "metadata": {
    "collapsed": false,
    "pycharm": {
     "name": "#%%\n",
     "is_executing": false
    }
   }
  },
  {
   "cell_type": "code",
   "execution_count": 46,
   "metadata": {
    "pycharm": {
     "is_executing": false
    }
   },
   "outputs": [
    {
     "data": {
      "text/plain": "       court                       date            no sys reason type  \\\nid                                                                      \n0   臺灣臺中地方法院  2011-05-19T00:00:00+08:00  100,中交簡,1002  刑事   公共危險   判決   \n1   臺灣臺中地方法院  2011-01-25T00:00:00+08:00   100,中交簡,100  刑事   公共危險   判決   \n1   臺灣臺中地方法院  2011-01-25T00:00:00+08:00   100,中交簡,100  刑事   公共危險   判決   \n3   臺灣臺中地方法院  2011-06-13T00:00:00+08:00  100,中交簡,1106  刑事   公共危險   判決   \n4   臺灣臺中地方法院  2011-05-17T00:00:00+08:00   100,中簡,1001  刑事     竊盜   判決   \n5   臺灣臺中地方法院  2011-04-25T00:00:00+08:00   100,中簡,1023  刑事   妨害風化   判決   \n6   臺灣臺中地方法院  2011-04-26T00:00:00+08:00   100,中簡,1039  刑事   妨害風化   判決   \n7   臺灣臺中地方法院  2011-04-25T00:00:00+08:00   100,中簡,1040  刑事     竊盜   判決   \n8   臺灣臺中地方法院  2011-05-12T00:00:00+08:00   100,中簡,1041  刑事   妨害風化   判決   \n9   臺灣臺中地方法院  2010-04-29T00:00:00+08:00   100,中簡,1070  刑事     竊盜   判決   \n\n                                             mainText  \\\nid                                                      \n0   王炎權服用酒類，不能安全駕駛動力交通工具而駕駛，處拘役伍拾日，如易科罰金，以新臺幣壹仟元折算壹日。   \n1   林耀明服用酒類，不能安全駕駛動力交通工具而駕駛，處拘役伍拾伍日，如易科罰金，以新臺幣壹仟元折...   \n1   林耀明服用酒類，不能安全駕駛動力交通工具而駕駛，處拘役伍拾伍日，如易科罰金，以新臺幣壹仟元折...   \n3   洪國棋服用酒類，不能安全駕駛動力交通工具而駕駛，處拘役伍拾日，如易科罰金，以新臺幣壹仟元折算壹日。   \n4   陳守仁竊盜，三罪，均累犯，各處罰金新臺幣壹萬元、壹萬元、伍仟元，如易服勞役，均以新臺幣壹仟元...   \n5   許其昌共同意圖使女子與他人為性交之行為，而媒介以營利，處有期徒刑肆月，如易科罰金，以新臺幣壹...   \n6   陳軍豪共同犯圖利媒介性交罪，累犯，處有期徒刑伍月，如易科罰金，以新臺幣壹仟元折算壹日。扣案N...   \n7                詹金龍犯竊盜罪，處罰金新臺幣壹萬元，如易服勞役，以新臺幣壹仟元折算壹日。   \n8   林國欽共同意圖使女子與他人為性交之行為，而媒介以營利，處有期徒刑參月，如易科罰金，以新臺幣壹...   \n9                     張長生竊盜，處拘役伍拾日，如易科罰金，以新臺幣壹仟元折算壹日。   \n\n                                            judgement  \\\nid                                                      \n0   臺灣臺中地方法院刑事簡易判決100年度中交簡字第1002號聲請人臺灣臺中地方法院檢察署檢察官...   \n1   臺灣臺中地方法院刑事簡易判決100年度中交簡字第100號聲請人臺灣臺中地方法院檢察署檢察官被...   \n1   臺灣臺中地方法院刑事簡易判決100年度中交簡字第100號聲請人臺灣臺中地方法院檢察署檢察官被...   \n3   臺灣臺中地方法院刑事簡易判決100年度中交簡字第1106號聲請人臺灣臺中地方法院檢察署檢察官...   \n4   臺灣臺中地方法院刑事簡易判決100年度中簡字第1001號聲請人臺灣臺中地方法院檢察署檢察官被...   \n5   臺灣臺中地方法院刑事簡易判決100年度中簡字第1023號聲請人臺灣臺中地方法院檢察署檢察官被...   \n6   臺灣臺中地方法院刑事簡易判決100年度中簡字第1039號聲請人臺灣臺中地方法院檢察署檢察官被...   \n7   臺灣臺中地方法院刑事簡易判決100年度中簡字第1040號聲請人臺灣臺中地方法院檢察署檢察官被...   \n8   臺灣臺中地方法院刑事簡易判決100年度中簡字第1041號聲請人臺灣臺中地方法院檢察署檢察官被...   \n9   臺灣臺中地方法院刑事簡易判決100年度中簡字第1070號聲請人臺灣臺中地方法院檢察署檢察官被...   \n\n                                        judgement_SIT  \\\nid                                                      \n0   臺灣臺中地方法院刑事簡易判決100年度中交簡字第1002號聲請人臺灣臺中地方法院檢察署檢察官...   \n1   臺灣臺中地方法院刑事簡易判決100年度中交簡字第100號聲請人臺灣臺中地方法院檢察署檢察官被...   \n1   臺灣臺中地方法院刑事簡易判決100年度中交簡字第100號聲請人臺灣臺中地方法院檢察署檢察官被...   \n3   臺灣臺中地方法院刑事簡易判決100年度中交簡字第1106號聲請人臺灣臺中地方法院檢察署檢察官...   \n4   臺灣臺中地方法院刑事簡易判決100年度中簡字第1001號聲請人臺灣臺中地方法院檢察署檢察官被...   \n5   臺灣臺中地方法院刑事簡易判決100年度中簡字第1023號聲請人臺灣臺中地方法院檢察署檢察官被...   \n6   臺灣臺中地方法院刑事簡易判決100年度中簡字第1039號聲請人臺灣臺中地方法院檢察署檢察官被...   \n7   臺灣臺中地方法院刑事簡易判決100年度中簡字第1040號聲請人臺灣臺中地方法院檢察署檢察官被...   \n8   臺灣臺中地方法院刑事簡易判決100年度中簡字第1041號聲請人臺灣臺中地方法院檢察署檢察官被...   \n9   臺灣臺中地方法院刑事簡易判決100年度中簡字第1070號聲請人臺灣臺中地方法院檢察署檢察官被...   \n\n                                            Situation  \nid                                                     \n0   王炎權於民國100年4月8日晚間9時30分許起至翌日凌晨3時許止，在彰化縣芬園鄉○○路○段2...  \n1   林耀明於民國99年10月22日下午4時許起至5時許止，在臺中市○○區○○路與豐樂路交岔路口附...  \n1   林耀明於民國99年10月22日下午4時許起至5時許止，在臺中市○○區○○路與豐樂路交岔路口附...  \n3   洪國棋於民國100年4月28日晚間7時許起至同日晚間8時30分許止，在臺中市○里區○○路21...  \n4   被告陳守仁為高職畢業擔任保全之男子，竟不思以正常手段獲取財物，因一時貪念，以徒手竊取該超商內...  \n5   許其昌係址設臺中市○區○○○路374號「左岸國際美容生活館」(下稱左岸美容館)之負責人，而李...  \n6   詎不知悔改，另行與真實姓名年籍不詳綽號「大姐」之成年女子，共同基於意圖使他人為性交行為而媒介...  \n7   於民國100年3月25日5時30分許，在臺中市南區永興5巷42號前，徒手竊取劉清智所有放置該...  \n8   林國欽與真實姓名年籍不詳經營應召站之成年人共同基於意圖使女子與他人為性交行為，而媒介以營利之...  \n9   緣張長生於民國99年10月23日凌晨0時10分許（聲請意旨誤為凌晨1時30分許），因心情不佳...  ",
      "text/html": "<div>\n<style scoped>\n    .dataframe tbody tr th:only-of-type {\n        vertical-align: middle;\n    }\n\n    .dataframe tbody tr th {\n        vertical-align: top;\n    }\n\n    .dataframe thead th {\n        text-align: right;\n    }\n</style>\n<table border=\"1\" class=\"dataframe\">\n  <thead>\n    <tr style=\"text-align: right;\">\n      <th></th>\n      <th>court</th>\n      <th>date</th>\n      <th>no</th>\n      <th>sys</th>\n      <th>reason</th>\n      <th>type</th>\n      <th>mainText</th>\n      <th>judgement</th>\n      <th>judgement_SIT</th>\n      <th>Situation</th>\n    </tr>\n    <tr>\n      <th>id</th>\n      <th></th>\n      <th></th>\n      <th></th>\n      <th></th>\n      <th></th>\n      <th></th>\n      <th></th>\n      <th></th>\n      <th></th>\n      <th></th>\n    </tr>\n  </thead>\n  <tbody>\n    <tr>\n      <td>0</td>\n      <td>臺灣臺中地方法院</td>\n      <td>2011-05-19T00:00:00+08:00</td>\n      <td>100,中交簡,1002</td>\n      <td>刑事</td>\n      <td>公共危險</td>\n      <td>判決</td>\n      <td>王炎權服用酒類，不能安全駕駛動力交通工具而駕駛，處拘役伍拾日，如易科罰金，以新臺幣壹仟元折算壹日。</td>\n      <td>臺灣臺中地方法院刑事簡易判決100年度中交簡字第1002號聲請人臺灣臺中地方法院檢察署檢察官...</td>\n      <td>臺灣臺中地方法院刑事簡易判決100年度中交簡字第1002號聲請人臺灣臺中地方法院檢察署檢察官...</td>\n      <td>王炎權於民國100年4月8日晚間9時30分許起至翌日凌晨3時許止，在彰化縣芬園鄉○○路○段2...</td>\n    </tr>\n    <tr>\n      <td>1</td>\n      <td>臺灣臺中地方法院</td>\n      <td>2011-01-25T00:00:00+08:00</td>\n      <td>100,中交簡,100</td>\n      <td>刑事</td>\n      <td>公共危險</td>\n      <td>判決</td>\n      <td>林耀明服用酒類，不能安全駕駛動力交通工具而駕駛，處拘役伍拾伍日，如易科罰金，以新臺幣壹仟元折...</td>\n      <td>臺灣臺中地方法院刑事簡易判決100年度中交簡字第100號聲請人臺灣臺中地方法院檢察署檢察官被...</td>\n      <td>臺灣臺中地方法院刑事簡易判決100年度中交簡字第100號聲請人臺灣臺中地方法院檢察署檢察官被...</td>\n      <td>林耀明於民國99年10月22日下午4時許起至5時許止，在臺中市○○區○○路與豐樂路交岔路口附...</td>\n    </tr>\n    <tr>\n      <td>1</td>\n      <td>臺灣臺中地方法院</td>\n      <td>2011-01-25T00:00:00+08:00</td>\n      <td>100,中交簡,100</td>\n      <td>刑事</td>\n      <td>公共危險</td>\n      <td>判決</td>\n      <td>林耀明服用酒類，不能安全駕駛動力交通工具而駕駛，處拘役伍拾伍日，如易科罰金，以新臺幣壹仟元折...</td>\n      <td>臺灣臺中地方法院刑事簡易判決100年度中交簡字第100號聲請人臺灣臺中地方法院檢察署檢察官被...</td>\n      <td>臺灣臺中地方法院刑事簡易判決100年度中交簡字第100號聲請人臺灣臺中地方法院檢察署檢察官被...</td>\n      <td>林耀明於民國99年10月22日下午4時許起至5時許止，在臺中市○○區○○路與豐樂路交岔路口附...</td>\n    </tr>\n    <tr>\n      <td>3</td>\n      <td>臺灣臺中地方法院</td>\n      <td>2011-06-13T00:00:00+08:00</td>\n      <td>100,中交簡,1106</td>\n      <td>刑事</td>\n      <td>公共危險</td>\n      <td>判決</td>\n      <td>洪國棋服用酒類，不能安全駕駛動力交通工具而駕駛，處拘役伍拾日，如易科罰金，以新臺幣壹仟元折算壹日。</td>\n      <td>臺灣臺中地方法院刑事簡易判決100年度中交簡字第1106號聲請人臺灣臺中地方法院檢察署檢察官...</td>\n      <td>臺灣臺中地方法院刑事簡易判決100年度中交簡字第1106號聲請人臺灣臺中地方法院檢察署檢察官...</td>\n      <td>洪國棋於民國100年4月28日晚間7時許起至同日晚間8時30分許止，在臺中市○里區○○路21...</td>\n    </tr>\n    <tr>\n      <td>4</td>\n      <td>臺灣臺中地方法院</td>\n      <td>2011-05-17T00:00:00+08:00</td>\n      <td>100,中簡,1001</td>\n      <td>刑事</td>\n      <td>竊盜</td>\n      <td>判決</td>\n      <td>陳守仁竊盜，三罪，均累犯，各處罰金新臺幣壹萬元、壹萬元、伍仟元，如易服勞役，均以新臺幣壹仟元...</td>\n      <td>臺灣臺中地方法院刑事簡易判決100年度中簡字第1001號聲請人臺灣臺中地方法院檢察署檢察官被...</td>\n      <td>臺灣臺中地方法院刑事簡易判決100年度中簡字第1001號聲請人臺灣臺中地方法院檢察署檢察官被...</td>\n      <td>被告陳守仁為高職畢業擔任保全之男子，竟不思以正常手段獲取財物，因一時貪念，以徒手竊取該超商內...</td>\n    </tr>\n    <tr>\n      <td>5</td>\n      <td>臺灣臺中地方法院</td>\n      <td>2011-04-25T00:00:00+08:00</td>\n      <td>100,中簡,1023</td>\n      <td>刑事</td>\n      <td>妨害風化</td>\n      <td>判決</td>\n      <td>許其昌共同意圖使女子與他人為性交之行為，而媒介以營利，處有期徒刑肆月，如易科罰金，以新臺幣壹...</td>\n      <td>臺灣臺中地方法院刑事簡易判決100年度中簡字第1023號聲請人臺灣臺中地方法院檢察署檢察官被...</td>\n      <td>臺灣臺中地方法院刑事簡易判決100年度中簡字第1023號聲請人臺灣臺中地方法院檢察署檢察官被...</td>\n      <td>許其昌係址設臺中市○區○○○路374號「左岸國際美容生活館」(下稱左岸美容館)之負責人，而李...</td>\n    </tr>\n    <tr>\n      <td>6</td>\n      <td>臺灣臺中地方法院</td>\n      <td>2011-04-26T00:00:00+08:00</td>\n      <td>100,中簡,1039</td>\n      <td>刑事</td>\n      <td>妨害風化</td>\n      <td>判決</td>\n      <td>陳軍豪共同犯圖利媒介性交罪，累犯，處有期徒刑伍月，如易科罰金，以新臺幣壹仟元折算壹日。扣案N...</td>\n      <td>臺灣臺中地方法院刑事簡易判決100年度中簡字第1039號聲請人臺灣臺中地方法院檢察署檢察官被...</td>\n      <td>臺灣臺中地方法院刑事簡易判決100年度中簡字第1039號聲請人臺灣臺中地方法院檢察署檢察官被...</td>\n      <td>詎不知悔改，另行與真實姓名年籍不詳綽號「大姐」之成年女子，共同基於意圖使他人為性交行為而媒介...</td>\n    </tr>\n    <tr>\n      <td>7</td>\n      <td>臺灣臺中地方法院</td>\n      <td>2011-04-25T00:00:00+08:00</td>\n      <td>100,中簡,1040</td>\n      <td>刑事</td>\n      <td>竊盜</td>\n      <td>判決</td>\n      <td>詹金龍犯竊盜罪，處罰金新臺幣壹萬元，如易服勞役，以新臺幣壹仟元折算壹日。</td>\n      <td>臺灣臺中地方法院刑事簡易判決100年度中簡字第1040號聲請人臺灣臺中地方法院檢察署檢察官被...</td>\n      <td>臺灣臺中地方法院刑事簡易判決100年度中簡字第1040號聲請人臺灣臺中地方法院檢察署檢察官被...</td>\n      <td>於民國100年3月25日5時30分許，在臺中市南區永興5巷42號前，徒手竊取劉清智所有放置該...</td>\n    </tr>\n    <tr>\n      <td>8</td>\n      <td>臺灣臺中地方法院</td>\n      <td>2011-05-12T00:00:00+08:00</td>\n      <td>100,中簡,1041</td>\n      <td>刑事</td>\n      <td>妨害風化</td>\n      <td>判決</td>\n      <td>林國欽共同意圖使女子與他人為性交之行為，而媒介以營利，處有期徒刑參月，如易科罰金，以新臺幣壹...</td>\n      <td>臺灣臺中地方法院刑事簡易判決100年度中簡字第1041號聲請人臺灣臺中地方法院檢察署檢察官被...</td>\n      <td>臺灣臺中地方法院刑事簡易判決100年度中簡字第1041號聲請人臺灣臺中地方法院檢察署檢察官被...</td>\n      <td>林國欽與真實姓名年籍不詳經營應召站之成年人共同基於意圖使女子與他人為性交行為，而媒介以營利之...</td>\n    </tr>\n    <tr>\n      <td>9</td>\n      <td>臺灣臺中地方法院</td>\n      <td>2010-04-29T00:00:00+08:00</td>\n      <td>100,中簡,1070</td>\n      <td>刑事</td>\n      <td>竊盜</td>\n      <td>判決</td>\n      <td>張長生竊盜，處拘役伍拾日，如易科罰金，以新臺幣壹仟元折算壹日。</td>\n      <td>臺灣臺中地方法院刑事簡易判決100年度中簡字第1070號聲請人臺灣臺中地方法院檢察署檢察官被...</td>\n      <td>臺灣臺中地方法院刑事簡易判決100年度中簡字第1070號聲請人臺灣臺中地方法院檢察署檢察官被...</td>\n      <td>緣張長生於民國99年10月23日凌晨0時10分許（聲請意旨誤為凌晨1時30分許），因心情不佳...</td>\n    </tr>\n  </tbody>\n</table>\n</div>"
     },
     "metadata": {},
     "output_type": "execute_result",
     "execution_count": 46
    }
   ],
   "source": [
    "df[df['reason'].str.contains ('')].head(10)"
   ]
  },
  {
   "cell_type": "code",
   "execution_count": 47,
   "metadata": {
    "pycharm": {
     "is_executing": false
    }
   },
   "outputs": [
    {
     "data": {
      "text/plain": "        court                       date          no sys reason type  \\\nid                                                                     \n165  臺灣臺南地方法院  2011-11-29T00:00:00+08:00  100,交訴,142  刑事   公共危險   判決   \n166  臺灣臺南地方法院  2011-11-30T00:00:00+08:00  100,交訴,143  刑事   公共危險   判決   \n\n                                              mainText  \\\nid                                                       \n165    吳清田駕駛動力交通工具肇事，致人傷而逃逸，處有期徒刑陸月，如易科罰金，以新臺幣壹仟元折算壹日。   \n166  居盛川服用酒類，不能安全駕駛動力交通工具而駕駛，處拘役伍拾日，如易科罰金，以新臺幣壹仟元折算...   \n\n                                             judgement  \\\nid                                                       \n165  臺灣臺南地方法院刑事判決100年度交訴字第142號公訴人臺灣臺南地方法院檢察署檢察官被告吳清...   \n166  臺灣臺南地方法院刑事判決100年度交訴字第143號公訴人臺灣臺南地方法院檢察署檢察官被告上列...   \n\n                                         judgement_SIT  \\\nid                                                       \n165  臺灣臺南地方法院刑事判決100年度交訴字第142號公訴人臺灣臺南地方法院檢察署檢察官被告吳清...   \n166  臺灣臺南地方法院刑事判決100年度交訴字第143號公訴人臺灣臺南地方法院檢察署檢察官被告上列...   \n\n                                             Situation  \nid                                                      \n165  吳清田於民國99年2月20日上午8時50分許，駕駛車牌號碼1076－SW號自用小客車，在臺南...  \n166  居盛川於民國100年7月18日晚間8時許起，在臺南市善化區某檳榔攤與友人飲用酒類，明知自己酒...  ",
      "text/html": "<div>\n<style scoped>\n    .dataframe tbody tr th:only-of-type {\n        vertical-align: middle;\n    }\n\n    .dataframe tbody tr th {\n        vertical-align: top;\n    }\n\n    .dataframe thead th {\n        text-align: right;\n    }\n</style>\n<table border=\"1\" class=\"dataframe\">\n  <thead>\n    <tr style=\"text-align: right;\">\n      <th></th>\n      <th>court</th>\n      <th>date</th>\n      <th>no</th>\n      <th>sys</th>\n      <th>reason</th>\n      <th>type</th>\n      <th>mainText</th>\n      <th>judgement</th>\n      <th>judgement_SIT</th>\n      <th>Situation</th>\n    </tr>\n    <tr>\n      <th>id</th>\n      <th></th>\n      <th></th>\n      <th></th>\n      <th></th>\n      <th></th>\n      <th></th>\n      <th></th>\n      <th></th>\n      <th></th>\n      <th></th>\n    </tr>\n  </thead>\n  <tbody>\n    <tr>\n      <td>165</td>\n      <td>臺灣臺南地方法院</td>\n      <td>2011-11-29T00:00:00+08:00</td>\n      <td>100,交訴,142</td>\n      <td>刑事</td>\n      <td>公共危險</td>\n      <td>判決</td>\n      <td>吳清田駕駛動力交通工具肇事，致人傷而逃逸，處有期徒刑陸月，如易科罰金，以新臺幣壹仟元折算壹日。</td>\n      <td>臺灣臺南地方法院刑事判決100年度交訴字第142號公訴人臺灣臺南地方法院檢察署檢察官被告吳清...</td>\n      <td>臺灣臺南地方法院刑事判決100年度交訴字第142號公訴人臺灣臺南地方法院檢察署檢察官被告吳清...</td>\n      <td>吳清田於民國99年2月20日上午8時50分許，駕駛車牌號碼1076－SW號自用小客車，在臺南...</td>\n    </tr>\n    <tr>\n      <td>166</td>\n      <td>臺灣臺南地方法院</td>\n      <td>2011-11-30T00:00:00+08:00</td>\n      <td>100,交訴,143</td>\n      <td>刑事</td>\n      <td>公共危險</td>\n      <td>判決</td>\n      <td>居盛川服用酒類，不能安全駕駛動力交通工具而駕駛，處拘役伍拾日，如易科罰金，以新臺幣壹仟元折算...</td>\n      <td>臺灣臺南地方法院刑事判決100年度交訴字第143號公訴人臺灣臺南地方法院檢察署檢察官被告上列...</td>\n      <td>臺灣臺南地方法院刑事判決100年度交訴字第143號公訴人臺灣臺南地方法院檢察署檢察官被告上列...</td>\n      <td>居盛川於民國100年7月18日晚間8時許起，在臺南市善化區某檳榔攤與友人飲用酒類，明知自己酒...</td>\n    </tr>\n  </tbody>\n</table>\n</div>"
     },
     "metadata": {},
     "output_type": "execute_result",
     "execution_count": 47
    }
   ],
   "source": [
    "df[df['reason'] == ('公共危險')].iloc[20:30]"
   ]
  },
  {
   "cell_type": "code",
   "execution_count": 48,
   "metadata": {
    "pycharm": {
     "name": "#%%\n",
     "is_executing": false
    }
   },
   "outputs": [
    {
     "name": "stdout",
     "text": [
      "reason\n公共危險     22\n妨害風化     45\n竊盜      100\nName: no, dtype: int64\n"
     ],
     "output_type": "stream"
    }
   ],
   "source": [
    "import matplotlib.pyplot as plt\n",
    "%matplotlib inline\n",
    "\n",
    "\n",
    "df['reason'] = df['reason'].str.replace('等', '')\n",
    "print(df.groupby(['reason']).count()['no'])"
   ]
  },
  {
   "cell_type": "code",
   "execution_count": 49,
   "outputs": [
    {
     "data": {
      "text/plain": "        court                       date           no sys reason type  \\\nid                                                                      \n113  臺灣臺中地方法院  2011-10-28T00:00:00+08:00  100,中簡,2510  刑事     竊盜   判決   \n75   臺灣臺中地方法院  2011-08-19T00:00:00+08:00  100,中簡,1937  刑事   妨害風化   判決   \n23   臺灣臺中地方法院  2011-05-26T00:00:00+08:00  100,中簡,1183  刑事     竊盜   判決   \n44   臺灣臺中地方法院  2011-07-21T00:00:00+08:00  100,中簡,1552  刑事     竊盜   判決   \n124  臺灣臺中地方法院  2011-12-30T00:00:00+08:00  100,中簡,2605  刑事     竊盜   判決   \n\n                                              mainText  \\\nid                                                       \n113              李正陽犯竊盜罪，累犯，處有期徒刑伍月，如易科罰金，以新臺幣壹仟元折算壹日。   \n75   魏振謙意圖使女子與他人為性交之行為，而媒介以營利，處有期徒刑肆月，如易科罰金，以新臺幣壹仟元...   \n23                  郭榮欽竊盜，處罰金新臺幣貳仟元，如易服勞役，以新臺幣壹仟元折算壹日。   \n44   黎桓銘竊盜，共五罪，各處拘役拾日，如易科罰金，均以新臺幣壹仟元折算壹日，扣案之錦城漫畫影音會...   \n124  莊書維竊盜，處拘役伍拾日，如易科罰金，以新臺幣壹仟元折算壹日。緩刑貳年，緩刑期間付保護管束，...   \n\n                                             judgement  \\\nid                                                       \n113  臺灣臺中地方法院刑事簡易判決100年度中簡字第2510號聲請人臺灣臺中地方法院檢察署檢察官被...   \n75   臺灣臺中地方法院刑事簡易判決100年度中簡字第1937號聲請人臺灣臺中地方法院檢察署檢察官被...   \n23   臺灣臺中地方法院刑事簡易判決100年度中簡字第1183號聲請人臺灣臺中地方法院檢察署檢察官被...   \n44   臺灣臺中地方法院刑事簡易判決100年度中簡字第1552號聲請人臺灣臺中地方法院檢察署檢察官被...   \n124  臺灣臺中地方法院刑事簡易判決100年度中簡字第2605號聲請人臺灣臺中地方法院檢察署檢察官被...   \n\n                                         judgement_SIT  \\\nid                                                       \n113  臺灣臺中地方法院刑事簡易判決100年度中簡字第2510號聲請人臺灣臺中地方法院檢察署檢察官被...   \n75   臺灣臺中地方法院刑事簡易判決100年度中簡字第1937號聲請人臺灣臺中地方法院檢察署檢察官被...   \n23   臺灣臺中地方法院刑事簡易判決100年度中簡字第1183號聲請人臺灣臺中地方法院檢察署檢察官被...   \n44   臺灣臺中地方法院刑事簡易判決100年度中簡字第1552號聲請人臺灣臺中地方法院檢察署檢察官被...   \n124  臺灣臺中地方法院刑事簡易判決100年度中簡字第2605號聲請人臺灣臺中地方法院檢察署檢察官被...   \n\n                                             Situation  \nid                                                      \n113  詎仍不知警惕，於100年8月11日晚間6時許，在臺中市○○區○○路2段286號前，見楊佩琳所...  \n75   魏振謙係「KY傳播公司」之負責人，基於意圖使女子與他人為性交行為而媒介以營利之犯意，以門號0...  \n23   於民國100年4月2日下午3時15分許，在臺中市○里區○○路○段710號「大買家量販店」內，...  \n44   黎桓銘承租並居住在臺中縣太平市（現改制為臺中市太平區○○○路2段477巷10弄17號1樓之1...  \n124  莊書維基於意圖為自己不法所有之竊盜犯意，於民國100年7月22日凌晨3時46分許，在臺中市○...  ",
      "text/html": "<div>\n<style scoped>\n    .dataframe tbody tr th:only-of-type {\n        vertical-align: middle;\n    }\n\n    .dataframe tbody tr th {\n        vertical-align: top;\n    }\n\n    .dataframe thead th {\n        text-align: right;\n    }\n</style>\n<table border=\"1\" class=\"dataframe\">\n  <thead>\n    <tr style=\"text-align: right;\">\n      <th></th>\n      <th>court</th>\n      <th>date</th>\n      <th>no</th>\n      <th>sys</th>\n      <th>reason</th>\n      <th>type</th>\n      <th>mainText</th>\n      <th>judgement</th>\n      <th>judgement_SIT</th>\n      <th>Situation</th>\n    </tr>\n    <tr>\n      <th>id</th>\n      <th></th>\n      <th></th>\n      <th></th>\n      <th></th>\n      <th></th>\n      <th></th>\n      <th></th>\n      <th></th>\n      <th></th>\n      <th></th>\n    </tr>\n  </thead>\n  <tbody>\n    <tr>\n      <td>113</td>\n      <td>臺灣臺中地方法院</td>\n      <td>2011-10-28T00:00:00+08:00</td>\n      <td>100,中簡,2510</td>\n      <td>刑事</td>\n      <td>竊盜</td>\n      <td>判決</td>\n      <td>李正陽犯竊盜罪，累犯，處有期徒刑伍月，如易科罰金，以新臺幣壹仟元折算壹日。</td>\n      <td>臺灣臺中地方法院刑事簡易判決100年度中簡字第2510號聲請人臺灣臺中地方法院檢察署檢察官被...</td>\n      <td>臺灣臺中地方法院刑事簡易判決100年度中簡字第2510號聲請人臺灣臺中地方法院檢察署檢察官被...</td>\n      <td>詎仍不知警惕，於100年8月11日晚間6時許，在臺中市○○區○○路2段286號前，見楊佩琳所...</td>\n    </tr>\n    <tr>\n      <td>75</td>\n      <td>臺灣臺中地方法院</td>\n      <td>2011-08-19T00:00:00+08:00</td>\n      <td>100,中簡,1937</td>\n      <td>刑事</td>\n      <td>妨害風化</td>\n      <td>判決</td>\n      <td>魏振謙意圖使女子與他人為性交之行為，而媒介以營利，處有期徒刑肆月，如易科罰金，以新臺幣壹仟元...</td>\n      <td>臺灣臺中地方法院刑事簡易判決100年度中簡字第1937號聲請人臺灣臺中地方法院檢察署檢察官被...</td>\n      <td>臺灣臺中地方法院刑事簡易判決100年度中簡字第1937號聲請人臺灣臺中地方法院檢察署檢察官被...</td>\n      <td>魏振謙係「KY傳播公司」之負責人，基於意圖使女子與他人為性交行為而媒介以營利之犯意，以門號0...</td>\n    </tr>\n    <tr>\n      <td>23</td>\n      <td>臺灣臺中地方法院</td>\n      <td>2011-05-26T00:00:00+08:00</td>\n      <td>100,中簡,1183</td>\n      <td>刑事</td>\n      <td>竊盜</td>\n      <td>判決</td>\n      <td>郭榮欽竊盜，處罰金新臺幣貳仟元，如易服勞役，以新臺幣壹仟元折算壹日。</td>\n      <td>臺灣臺中地方法院刑事簡易判決100年度中簡字第1183號聲請人臺灣臺中地方法院檢察署檢察官被...</td>\n      <td>臺灣臺中地方法院刑事簡易判決100年度中簡字第1183號聲請人臺灣臺中地方法院檢察署檢察官被...</td>\n      <td>於民國100年4月2日下午3時15分許，在臺中市○里區○○路○段710號「大買家量販店」內，...</td>\n    </tr>\n    <tr>\n      <td>44</td>\n      <td>臺灣臺中地方法院</td>\n      <td>2011-07-21T00:00:00+08:00</td>\n      <td>100,中簡,1552</td>\n      <td>刑事</td>\n      <td>竊盜</td>\n      <td>判決</td>\n      <td>黎桓銘竊盜，共五罪，各處拘役拾日，如易科罰金，均以新臺幣壹仟元折算壹日，扣案之錦城漫畫影音會...</td>\n      <td>臺灣臺中地方法院刑事簡易判決100年度中簡字第1552號聲請人臺灣臺中地方法院檢察署檢察官被...</td>\n      <td>臺灣臺中地方法院刑事簡易判決100年度中簡字第1552號聲請人臺灣臺中地方法院檢察署檢察官被...</td>\n      <td>黎桓銘承租並居住在臺中縣太平市（現改制為臺中市太平區○○○路2段477巷10弄17號1樓之1...</td>\n    </tr>\n    <tr>\n      <td>124</td>\n      <td>臺灣臺中地方法院</td>\n      <td>2011-12-30T00:00:00+08:00</td>\n      <td>100,中簡,2605</td>\n      <td>刑事</td>\n      <td>竊盜</td>\n      <td>判決</td>\n      <td>莊書維竊盜，處拘役伍拾日，如易科罰金，以新臺幣壹仟元折算壹日。緩刑貳年，緩刑期間付保護管束，...</td>\n      <td>臺灣臺中地方法院刑事簡易判決100年度中簡字第2605號聲請人臺灣臺中地方法院檢察署檢察官被...</td>\n      <td>臺灣臺中地方法院刑事簡易判決100年度中簡字第2605號聲請人臺灣臺中地方法院檢察署檢察官被...</td>\n      <td>莊書維基於意圖為自己不法所有之竊盜犯意，於民國100年7月22日凌晨3時46分許，在臺中市○...</td>\n    </tr>\n  </tbody>\n</table>\n</div>"
     },
     "metadata": {},
     "output_type": "execute_result",
     "execution_count": 49
    }
   ],
   "source": [
    "##拆分df\n",
    "df1=df.sample(frac=0.8)#按0.6比例随机采样\n",
    "df1.head()"
   ],
   "metadata": {
    "collapsed": false,
    "pycharm": {
     "name": "#%%\n",
     "is_executing": false
    }
   }
  },
  {
   "cell_type": "code",
   "execution_count": 50,
   "outputs": [
    {
     "data": {
      "text/plain": "       court                       date           no sys reason type  \\\nid                                                                     \n5   臺灣臺中地方法院  2011-04-25T00:00:00+08:00  100,中簡,1023  刑事   妨害風化   判決   \n10  臺灣臺中地方法院  2011-05-13T00:00:00+08:00  100,中簡,1081  刑事   妨害風化   判決   \n19  臺灣臺中地方法院  2011-05-18T00:00:00+08:00  100,中簡,1124  刑事     竊盜   判決   \n24  臺灣臺中地方法院  2011-05-19T00:00:00+08:00  100,中簡,1185  刑事     竊盜   判決   \n32  臺灣臺中地方法院  2011-06-08T00:00:00+08:00  100,中簡,1311  刑事     竊盜   判決   \n\n                                             mainText  \\\nid                                                      \n5   許其昌共同意圖使女子與他人為性交之行為，而媒介以營利，處有期徒刑肆月，如易科罰金，以新臺幣壹...   \n10           戴憲銘共同犯圖利媒介性交罪，處有期徒刑參月，如易科罰金，以新臺幣壹仟元折算壹日。   \n19                 李文鎮竊盜，處罰金新臺幣伍仟元，如易服勞役，以新臺幣壹仟元折算壹日。   \n24                  陳玉風犯竊盜罪，處拘役貳拾日，如易科罰金，以新臺幣壹仟元折算壹日。   \n32                  王月鳳犯竊盜罪，處拘役拾伍日，如易科罰金，以新臺幣壹仟元折算壹日。   \n\n                                            judgement  \\\nid                                                      \n5   臺灣臺中地方法院刑事簡易判決100年度中簡字第1023號聲請人臺灣臺中地方法院檢察署檢察官被...   \n10  臺灣臺中地方法院刑事簡易判決100年度中簡字第1081號聲請人臺灣臺中地方法院檢察署檢察官被...   \n19  臺灣臺中地方法院刑事簡易判決100年度中簡字第1124號聲請人臺灣臺中地方法院檢察署檢察官被...   \n24  臺灣臺中地方法院刑事簡易判決100年度中簡字第1185號聲請人臺灣臺中地方法院檢察署檢察官被...   \n32  臺灣臺中地方法院刑事簡易判決100年度中簡字第1311號聲請人臺灣臺中地方法院檢察署檢察官被...   \n\n                                        judgement_SIT  \\\nid                                                      \n5   臺灣臺中地方法院刑事簡易判決100年度中簡字第1023號聲請人臺灣臺中地方法院檢察署檢察官被...   \n10  臺灣臺中地方法院刑事簡易判決100年度中簡字第1081號聲請人臺灣臺中地方法院檢察署檢察官被...   \n19  臺灣臺中地方法院刑事簡易判決100年度中簡字第1124號聲請人臺灣臺中地方法院檢察署檢察官被...   \n24  臺灣臺中地方法院刑事簡易判決100年度中簡字第1185號聲請人臺灣臺中地方法院檢察署檢察官被...   \n32  臺灣臺中地方法院刑事簡易判決100年度中簡字第1311號聲請人臺灣臺中地方法院檢察署檢察官被...   \n\n                                            Situation  \nid                                                     \n5   許其昌係址設臺中市○區○○○路374號「左岸國際美容生活館」(下稱左岸美容館)之負責人，而李...  \n10  戴憲銘與真實姓名年籍不詳之成年人共同基於意圖使女子與他人為性交之行為，而媒介以營利之犯意聯絡...  \n19  於民國100年1月30日下午5時15分許，於冠星生活館有限公司在臺中市○○區○○路171號所...  \n24  於民國100年4月12日下午1時50分許，在臺中市○里區○○路○段710號大買家量販店內，趁...  \n32  於民國100年4月29日上午10時許，在臺中市○區○○路236之3號之「台同運動活力館」店前...  ",
      "text/html": "<div>\n<style scoped>\n    .dataframe tbody tr th:only-of-type {\n        vertical-align: middle;\n    }\n\n    .dataframe tbody tr th {\n        vertical-align: top;\n    }\n\n    .dataframe thead th {\n        text-align: right;\n    }\n</style>\n<table border=\"1\" class=\"dataframe\">\n  <thead>\n    <tr style=\"text-align: right;\">\n      <th></th>\n      <th>court</th>\n      <th>date</th>\n      <th>no</th>\n      <th>sys</th>\n      <th>reason</th>\n      <th>type</th>\n      <th>mainText</th>\n      <th>judgement</th>\n      <th>judgement_SIT</th>\n      <th>Situation</th>\n    </tr>\n    <tr>\n      <th>id</th>\n      <th></th>\n      <th></th>\n      <th></th>\n      <th></th>\n      <th></th>\n      <th></th>\n      <th></th>\n      <th></th>\n      <th></th>\n      <th></th>\n    </tr>\n  </thead>\n  <tbody>\n    <tr>\n      <td>5</td>\n      <td>臺灣臺中地方法院</td>\n      <td>2011-04-25T00:00:00+08:00</td>\n      <td>100,中簡,1023</td>\n      <td>刑事</td>\n      <td>妨害風化</td>\n      <td>判決</td>\n      <td>許其昌共同意圖使女子與他人為性交之行為，而媒介以營利，處有期徒刑肆月，如易科罰金，以新臺幣壹...</td>\n      <td>臺灣臺中地方法院刑事簡易判決100年度中簡字第1023號聲請人臺灣臺中地方法院檢察署檢察官被...</td>\n      <td>臺灣臺中地方法院刑事簡易判決100年度中簡字第1023號聲請人臺灣臺中地方法院檢察署檢察官被...</td>\n      <td>許其昌係址設臺中市○區○○○路374號「左岸國際美容生活館」(下稱左岸美容館)之負責人，而李...</td>\n    </tr>\n    <tr>\n      <td>10</td>\n      <td>臺灣臺中地方法院</td>\n      <td>2011-05-13T00:00:00+08:00</td>\n      <td>100,中簡,1081</td>\n      <td>刑事</td>\n      <td>妨害風化</td>\n      <td>判決</td>\n      <td>戴憲銘共同犯圖利媒介性交罪，處有期徒刑參月，如易科罰金，以新臺幣壹仟元折算壹日。</td>\n      <td>臺灣臺中地方法院刑事簡易判決100年度中簡字第1081號聲請人臺灣臺中地方法院檢察署檢察官被...</td>\n      <td>臺灣臺中地方法院刑事簡易判決100年度中簡字第1081號聲請人臺灣臺中地方法院檢察署檢察官被...</td>\n      <td>戴憲銘與真實姓名年籍不詳之成年人共同基於意圖使女子與他人為性交之行為，而媒介以營利之犯意聯絡...</td>\n    </tr>\n    <tr>\n      <td>19</td>\n      <td>臺灣臺中地方法院</td>\n      <td>2011-05-18T00:00:00+08:00</td>\n      <td>100,中簡,1124</td>\n      <td>刑事</td>\n      <td>竊盜</td>\n      <td>判決</td>\n      <td>李文鎮竊盜，處罰金新臺幣伍仟元，如易服勞役，以新臺幣壹仟元折算壹日。</td>\n      <td>臺灣臺中地方法院刑事簡易判決100年度中簡字第1124號聲請人臺灣臺中地方法院檢察署檢察官被...</td>\n      <td>臺灣臺中地方法院刑事簡易判決100年度中簡字第1124號聲請人臺灣臺中地方法院檢察署檢察官被...</td>\n      <td>於民國100年1月30日下午5時15分許，於冠星生活館有限公司在臺中市○○區○○路171號所...</td>\n    </tr>\n    <tr>\n      <td>24</td>\n      <td>臺灣臺中地方法院</td>\n      <td>2011-05-19T00:00:00+08:00</td>\n      <td>100,中簡,1185</td>\n      <td>刑事</td>\n      <td>竊盜</td>\n      <td>判決</td>\n      <td>陳玉風犯竊盜罪，處拘役貳拾日，如易科罰金，以新臺幣壹仟元折算壹日。</td>\n      <td>臺灣臺中地方法院刑事簡易判決100年度中簡字第1185號聲請人臺灣臺中地方法院檢察署檢察官被...</td>\n      <td>臺灣臺中地方法院刑事簡易判決100年度中簡字第1185號聲請人臺灣臺中地方法院檢察署檢察官被...</td>\n      <td>於民國100年4月12日下午1時50分許，在臺中市○里區○○路○段710號大買家量販店內，趁...</td>\n    </tr>\n    <tr>\n      <td>32</td>\n      <td>臺灣臺中地方法院</td>\n      <td>2011-06-08T00:00:00+08:00</td>\n      <td>100,中簡,1311</td>\n      <td>刑事</td>\n      <td>竊盜</td>\n      <td>判決</td>\n      <td>王月鳳犯竊盜罪，處拘役拾伍日，如易科罰金，以新臺幣壹仟元折算壹日。</td>\n      <td>臺灣臺中地方法院刑事簡易判決100年度中簡字第1311號聲請人臺灣臺中地方法院檢察署檢察官被...</td>\n      <td>臺灣臺中地方法院刑事簡易判決100年度中簡字第1311號聲請人臺灣臺中地方法院檢察署檢察官被...</td>\n      <td>於民國100年4月29日上午10時許，在臺中市○區○○路236之3號之「台同運動活力館」店前...</td>\n    </tr>\n  </tbody>\n</table>\n</div>"
     },
     "metadata": {},
     "output_type": "execute_result",
     "execution_count": 50
    }
   ],
   "source": [
    "df2=df[~df.index.isin(df1.index)]\n",
    "df2.head()"
   ],
   "metadata": {
    "collapsed": false,
    "pycharm": {
     "name": "#%%\n",
     "is_executing": false
    }
   }
  },
  {
   "cell_type": "code",
   "execution_count": 51,
   "outputs": [],
   "source": [
    "class Data(object):\n",
    "    def __init__(self):\n",
    "        self.paragraphs = []\n",
    "        self.id = \"0\"\n",
    "        self.title = \"\"\n",
    "\n",
    "class Djson(object):\n",
    "    def __init__(self):\n",
    "        self.version = \"v1.0\"\n",
    "        self.data = []\n",
    " "
   ],
   "metadata": {
    "collapsed": false,
    "pycharm": {
     "name": "#%%\n",
     "is_executing": false
    }
   }
  },
  {
   "cell_type": "code",
   "execution_count": 52,
   "outputs": [],
   "source": [
    "djson1 = Djson()\n",
    "for index, row in df1.iterrows():\n",
    "    try:\n",
    "        d = Data()\n",
    "        d.paragraphs = [{\"id\" : \"TRAIN_\" + str(index), \n",
    "                      \"context\" : row.judgement_SIT, \n",
    "                      \"qas\":[{\n",
    "                          \"question\" : \"?\",\n",
    "                          \"id\" : \"TRAIN_\" + str(index) + \"_QUERY_0\",\n",
    "                          \"answers\" :[{\n",
    "                              \"text\" : row.Situation,\n",
    "                              \"answer_start\" : row.judgement_SIT.index(\"[SIT]\") + 5\n",
    "                          }]\n",
    "                      }]\n",
    "                    }\n",
    "                    ]\n",
    "        d.id = \"TRAIN_\" + str(index)\n",
    "        d.title = row.no\n",
    "        djson1.data.append(d)\n",
    "    except:\n",
    "        print(index)\n",
    "        print(row.no)"
   ],
   "metadata": {
    "collapsed": false,
    "pycharm": {
     "name": "#%%\n",
     "is_executing": false
    }
   }
  },
  {
   "cell_type": "code",
   "execution_count": 53,
   "outputs": [],
   "source": [
    "y = json.dumps(djson1, default=lambda o: o.__dict__, ensure_ascii=False)"
   ],
   "metadata": {
    "collapsed": false,
    "pycharm": {
     "name": "#%%\n",
     "is_executing": false
    }
   }
  },
  {
   "cell_type": "code",
   "execution_count": 54,
   "outputs": [],
   "source": [
    "with open('./QA_Test1/HBert/data/train_600.json', 'w', encoding='utf8') as outfile:\n",
    "    json.dump(djson1, outfile, default=lambda o: o.__dict__ , ensure_ascii=False)\n",
    "    "
   ],
   "metadata": {
    "collapsed": false,
    "pycharm": {
     "name": "#%%\n",
     "is_executing": false
    }
   }
  },
  {
   "cell_type": "code",
   "execution_count": 54,
   "outputs": [],
   "source": [],
   "metadata": {
    "collapsed": false,
    "pycharm": {
     "name": "#%%\n",
     "is_executing": false
    }
   }
  },
  {
   "cell_type": "code",
   "execution_count": 55,
   "outputs": [
    {
     "name": "stdout",
     "text": [
      "94\n100,中簡,2220\n"
     ],
     "output_type": "stream"
    }
   ],
   "source": [
    "djson2 = Djson()\n",
    "for index, row in df2.iterrows():\n",
    "    try:\n",
    "        d = Data()\n",
    "        d.paragraphs = [{\"id\" : \"TRAIN_\" + str(index), \n",
    "                      \"context\" : row.judgement_SIT, \n",
    "                      \"qas\":[{\n",
    "                          \"question\" : \"?\",\n",
    "                          \"id\" : \"TRAIN_\" + str(index) + \"_QUERY_0\",\n",
    "                          \"answers\" :[{\n",
    "                              \"text\" : row.Situation,\n",
    "                              \"answer_start\" : row.judgement_SIT.index(\"[SIT]\") + 5\n",
    "                          }]\n",
    "                      }]\n",
    "                    }\n",
    "                    ]\n",
    "        d.id = \"TRAIN_\" + str(index)\n",
    "        d.title = row.no\n",
    "        djson2.data.append(d)\n",
    "    except:\n",
    "        print(index)\n",
    "        print(row.no)"
   ],
   "metadata": {
    "collapsed": false,
    "pycharm": {
     "name": "#%%\n",
     "is_executing": false
    }
   }
  },
  {
   "cell_type": "code",
   "execution_count": 56,
   "outputs": [],
   "source": [
    "y = json.dumps(djson2, default=lambda o: o.__dict__, ensure_ascii=False)"
   ],
   "metadata": {
    "collapsed": false,
    "pycharm": {
     "name": "#%%\n",
     "is_executing": false
    }
   }
  },
  {
   "cell_type": "code",
   "execution_count": 57,
   "outputs": [],
   "source": [
    "with open('./QA_Test1/HBert/data/test_600.json', 'w', encoding='utf8') as outfile:\n",
    "    json.dump(djson2, outfile, default=lambda o: o.__dict__ , ensure_ascii=False)\n",
    "    "
   ],
   "metadata": {
    "collapsed": false,
    "pycharm": {
     "name": "#%%\n",
     "is_executing": false
    }
   }
  }
 ],
 "metadata": {
  "kernelspec": {
   "display_name": "Python 3",
   "language": "python",
   "name": "python3"
  },
  "language_info": {
   "codemirror_mode": {
    "name": "ipython",
    "version": 3
   },
   "file_extension": ".py",
   "mimetype": "text/x-python",
   "name": "python",
   "nbconvert_exporter": "python",
   "pygments_lexer": "ipython3",
   "version": "3.6.4"
  },
  "pycharm": {
   "stem_cell": {
    "cell_type": "raw",
    "source": [],
    "metadata": {
     "collapsed": false
    }
   }
  }
 },
 "nbformat": 4,
 "nbformat_minor": 2
}