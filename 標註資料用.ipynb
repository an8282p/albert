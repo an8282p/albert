{
 "cells": [
  {
   "cell_type": "code",
   "execution_count": 39,
   "metadata": {
    "pycharm": {
     "is_executing": false
    }
   },
   "outputs": [
    {
     "name": "stdout",
     "text": [
      "刑事判決_100,交訴,1_2011-03-01.json\n"
     ],
     "output_type": "stream"
    }
   ],
   "source": [
    "import os, json \n",
    "import pandas as pd \n",
    "\n",
    "path_to_json = 'J:\\Legal_Judgment\\臺灣新北地方法院_改' \n",
    "json_files = [pos_json for pos_json in os.listdir(path_to_json) if pos_json.endswith('.json')] \n",
    "print(json_files[0])"
   ]
  },
  {
   "cell_type": "code",
   "execution_count": 40,
   "metadata": {
    "pycharm": {
     "is_executing": false
    }
   },
   "outputs": [],
   "source": [
    "with open('J://Legal_Judgment//臺灣新北地方法院_改//'+json_files[0],\"r\",encoding=\"utf-8\") as f:\n",
    "    dt = json.load(f)"
   ]
  },
  {
   "cell_type": "code",
   "execution_count": 41,
   "metadata": {
    "pycharm": {
     "is_executing": false
    }
   },
   "outputs": [
    {
     "data": {
      "text/plain": "   id     court                       date        no sys reason type  \\\n0   0  臺灣新北地方法院  2011-03-01T00:00:00+08:00  100,交訴,1  刑事  公共危險等   判決   \n\n                                            mainText  \\\n0  黃承洋犯不能安全駕駛動力交通工具罪，科罰金新臺幣陸萬元，如易服勞役，以新臺幣壹仟元折算壹日。...   \n\n                                           judgement  \\\n0  臺灣板橋地方法院刑事判決100年度交訴字第1號公訴人臺灣板橋地方法院檢察署檢察官被告黃承洋上...   \n\n                                       judgement_SIT  \\\n0  臺灣板橋地方法院刑事判決100年度交訴字第1號公訴人臺灣板橋地方法院檢察署檢察官被告黃承洋上...   \n\n                                           Situation  \n0  黃承洋前於民國99年9月2日上午11時至12時許間，在其位在桃園縣龍潭鄉○○路122號之住處...  ",
      "text/html": "<div>\n<style scoped>\n    .dataframe tbody tr th:only-of-type {\n        vertical-align: middle;\n    }\n\n    .dataframe tbody tr th {\n        vertical-align: top;\n    }\n\n    .dataframe thead th {\n        text-align: right;\n    }\n</style>\n<table border=\"1\" class=\"dataframe\">\n  <thead>\n    <tr style=\"text-align: right;\">\n      <th></th>\n      <th>id</th>\n      <th>court</th>\n      <th>date</th>\n      <th>no</th>\n      <th>sys</th>\n      <th>reason</th>\n      <th>type</th>\n      <th>mainText</th>\n      <th>judgement</th>\n      <th>judgement_SIT</th>\n      <th>Situation</th>\n    </tr>\n  </thead>\n  <tbody>\n    <tr>\n      <td>0</td>\n      <td>0</td>\n      <td>臺灣新北地方法院</td>\n      <td>2011-03-01T00:00:00+08:00</td>\n      <td>100,交訴,1</td>\n      <td>刑事</td>\n      <td>公共危險等</td>\n      <td>判決</td>\n      <td>黃承洋犯不能安全駕駛動力交通工具罪，科罰金新臺幣陸萬元，如易服勞役，以新臺幣壹仟元折算壹日。...</td>\n      <td>臺灣板橋地方法院刑事判決100年度交訴字第1號公訴人臺灣板橋地方法院檢察署檢察官被告黃承洋上...</td>\n      <td>臺灣板橋地方法院刑事判決100年度交訴字第1號公訴人臺灣板橋地方法院檢察署檢察官被告黃承洋上...</td>\n      <td>黃承洋前於民國99年9月2日上午11時至12時許間，在其位在桃園縣龍潭鄉○○路122號之住處...</td>\n    </tr>\n  </tbody>\n</table>\n</div>"
     },
     "metadata": {},
     "output_type": "execute_result",
     "execution_count": 41
    }
   ],
   "source": [
    "dic = {\n",
    "    \"id\": 0,\n",
    "    \"court\": [dt[\"court\"]], \n",
    "    \"date\": [dt[\"date\"]],\n",
    "    \"no\": [dt[\"no\"]],\n",
    "    \"sys\": [dt[\"sys\"]],\n",
    "    \"reason\": [dt[\"reason\"]],\n",
    "    \"type\": [dt[\"type\"]],\n",
    "    \"mainText\": [dt[\"mainText\"]],\n",
    "    \"judgement\": [dt[\"judgement\"]],\n",
    "    \"judgement_SIT\": [dt[\"judgement_SIT\"]],\n",
    "    \"Situation\": [dt[\"Situation\"]]\n",
    "}\n",
    "df = pd.DataFrame(dic)\n",
    "df"
   ]
  },
  {
   "cell_type": "code",
   "execution_count": 42,
   "metadata": {
    "pycharm": {
     "is_executing": false
    }
   },
   "outputs": [
    {
     "name": "stdout",
     "text": [
      "22\n"
     ],
     "output_type": "stream"
    }
   ],
   "source": [
    "for x in range(1,167):\n",
    "    with open('J://Legal_Judgment//臺灣新北地方法院_改//'+json_files[x],\"r\",encoding=\"utf-8\") as f:\n",
    "        dt = json.load(f)\n",
    "    \n",
    "    try:\n",
    "        new = pd.DataFrame({\n",
    "        \"id\" : x,\n",
    "        \"court\": [dt[\"court\"]], \n",
    "        \"date\": [dt[\"date\"]],\n",
    "        \"no\": [dt[\"no\"]],\n",
    "        \"sys\": [dt[\"sys\"]],\n",
    "        \"reason\": [dt[\"reason\"]],\n",
    "        \"type\": [dt[\"type\"]],\n",
    "        \"mainText\": [dt[\"mainText\"]],\n",
    "        \"judgement\": [dt[\"judgement\"]],\n",
    "        \"judgement_SIT\": [dt[\"judgement_SIT\"]],\n",
    "        \"Situation\": [dt[\"Situation\"]]\n",
    "        })\n",
    "        \n",
    "    except:\n",
    "        print(x)\n",
    "\n",
    "    df = df.append(new)"
   ]
  },
  {
   "cell_type": "code",
   "execution_count": 43,
   "metadata": {
    "pycharm": {
     "is_executing": false
    }
   },
   "outputs": [],
   "source": [
    "df.to_csv('J://Legal_Judgment//Result.csv', index=0) "
   ]
  },
  {
   "cell_type": "code",
   "execution_count": 44,
   "outputs": [
    {
     "data": {
      "text/plain": "       court                       date         no sys reason type  \\\nid                                                                   \n0   臺灣新北地方法院  2011-03-01T00:00:00+08:00   100,交訴,1  刑事  公共危險等   判決   \n1   臺灣新北地方法院  2013-10-31T00:00:00+08:00  100,侵訴,93  刑事  妨害性自主   判決   \n2   臺灣新北地方法院  2011-09-30T00:00:00+08:00   100,矚訴,1  刑事    貪污等   判決   \n3   臺灣新北地方法院  2012-12-25T00:00:00+08:00   101,矚訴,1  刑事    貪污等   判決   \n4   臺灣新北地方法院  2014-05-16T00:00:00+08:00   101,矚訴,2  刑事    貪污等   判決   \n\n                                             mainText  \\\nid                                                      \n0   黃承洋犯不能安全駕駛動力交通工具罪，科罰金新臺幣陸萬元，如易服勞役，以新臺幣壹仟元折算壹日。...   \n1   甲○○犯乘機性交未遂罪，處有期徒刑壹年拾月。又犯乘機性交未遂罪，處有期徒刑壹年拾月。又犯乘機...   \n2   鍾金來、鄭夙岑、林小雁、劉桔鴻犯賭博罪，各處罰金新臺幣貳萬元，如易服勞役，均以新臺幣壹仟元折...   \n3                                       沈炳煌被訴部分公訴不受理。   \n4   陳莉庭犯如附表一所示之罪，各處如附表一所示之宣告刑，應執行有期徒刑壹年陸月，緩刑肆年，並應向...   \n\n                                            judgement  \\\nid                                                      \n0   臺灣板橋地方法院刑事判決100年度交訴字第1號公訴人臺灣板橋地方法院檢察署檢察官被告黃承洋上...   \n1   臺灣新北地方法院刑事判決100年度侵訴字第93號公訴人臺灣新北地方法院檢察署檢察官被告陳木信...   \n2   臺灣板橋地方法院刑事判決100年度矚訴字第1號公訴人臺灣板橋地方法院檢察署檢察官被告鍾金來鄭...   \n3   臺灣板橋地方法院刑事判決101年度矚訴字第1號公訴人臺灣板橋地方法院檢察署檢察官被告沈炳煌選...   \n4   臺灣新北地方法院刑事判決101年度矚訴字第2、4號公訴人臺灣新北地方法院檢察署檢察官被告陳莉...   \n\n                                        judgement_SIT  \\\nid                                                      \n0   臺灣板橋地方法院刑事判決100年度交訴字第1號公訴人臺灣板橋地方法院檢察署檢察官被告黃承洋上...   \n1   臺灣新北地方法院刑事判決100年度侵訴字第93號公訴人臺灣新北地方法院檢察署檢察官被告陳木信...   \n2   臺灣板橋地方法院刑事判決100年度矚訴字第1號公訴人臺灣板橋地方法院檢察署檢察官被告鍾金來鄭...   \n3   臺灣板橋地方法院刑事判決101年度矚訴字第1號公訴人臺灣板橋地方法院檢察署檢察官被告沈炳煌選...   \n4   臺灣新北地方法院刑事判決101年度矚訴字第2、4號公訴人臺灣新北地方法院檢察署檢察官被告陳莉...   \n\n                                            Situation  \nid                                                     \n0   黃承洋前於民國99年9月2日上午11時至12時許間，在其位在桃園縣龍潭鄉○○路122號之住處...  \n1   分別於民國99年8月中旬某日、9月中旬某日、11月中旬某日，以其持用之門號000000000...  \n2   黃朝邨及李慶華（以上二人本院另行審結）於民國82年間起在基隆市○○區○○路34號開設麗晶電子...  \n3   被告沈炳煌自民國93年8月1日起擔任新北市泰新莊區新泰國民中學（下稱新泰國中）校長，其在辦理...  \n4   冠瑋食品有限公司（下稱冠瑋公司）專營學生中央餐廚及餐盒之供應，周乾榮為冠瑋公司負責人兼任總經...  ",
      "text/html": "<div>\n<style scoped>\n    .dataframe tbody tr th:only-of-type {\n        vertical-align: middle;\n    }\n\n    .dataframe tbody tr th {\n        vertical-align: top;\n    }\n\n    .dataframe thead th {\n        text-align: right;\n    }\n</style>\n<table border=\"1\" class=\"dataframe\">\n  <thead>\n    <tr style=\"text-align: right;\">\n      <th></th>\n      <th>court</th>\n      <th>date</th>\n      <th>no</th>\n      <th>sys</th>\n      <th>reason</th>\n      <th>type</th>\n      <th>mainText</th>\n      <th>judgement</th>\n      <th>judgement_SIT</th>\n      <th>Situation</th>\n    </tr>\n    <tr>\n      <th>id</th>\n      <th></th>\n      <th></th>\n      <th></th>\n      <th></th>\n      <th></th>\n      <th></th>\n      <th></th>\n      <th></th>\n      <th></th>\n      <th></th>\n    </tr>\n  </thead>\n  <tbody>\n    <tr>\n      <td>0</td>\n      <td>臺灣新北地方法院</td>\n      <td>2011-03-01T00:00:00+08:00</td>\n      <td>100,交訴,1</td>\n      <td>刑事</td>\n      <td>公共危險等</td>\n      <td>判決</td>\n      <td>黃承洋犯不能安全駕駛動力交通工具罪，科罰金新臺幣陸萬元，如易服勞役，以新臺幣壹仟元折算壹日。...</td>\n      <td>臺灣板橋地方法院刑事判決100年度交訴字第1號公訴人臺灣板橋地方法院檢察署檢察官被告黃承洋上...</td>\n      <td>臺灣板橋地方法院刑事判決100年度交訴字第1號公訴人臺灣板橋地方法院檢察署檢察官被告黃承洋上...</td>\n      <td>黃承洋前於民國99年9月2日上午11時至12時許間，在其位在桃園縣龍潭鄉○○路122號之住處...</td>\n    </tr>\n    <tr>\n      <td>1</td>\n      <td>臺灣新北地方法院</td>\n      <td>2013-10-31T00:00:00+08:00</td>\n      <td>100,侵訴,93</td>\n      <td>刑事</td>\n      <td>妨害性自主</td>\n      <td>判決</td>\n      <td>甲○○犯乘機性交未遂罪，處有期徒刑壹年拾月。又犯乘機性交未遂罪，處有期徒刑壹年拾月。又犯乘機...</td>\n      <td>臺灣新北地方法院刑事判決100年度侵訴字第93號公訴人臺灣新北地方法院檢察署檢察官被告陳木信...</td>\n      <td>臺灣新北地方法院刑事判決100年度侵訴字第93號公訴人臺灣新北地方法院檢察署檢察官被告陳木信...</td>\n      <td>分別於民國99年8月中旬某日、9月中旬某日、11月中旬某日，以其持用之門號000000000...</td>\n    </tr>\n    <tr>\n      <td>2</td>\n      <td>臺灣新北地方法院</td>\n      <td>2011-09-30T00:00:00+08:00</td>\n      <td>100,矚訴,1</td>\n      <td>刑事</td>\n      <td>貪污等</td>\n      <td>判決</td>\n      <td>鍾金來、鄭夙岑、林小雁、劉桔鴻犯賭博罪，各處罰金新臺幣貳萬元，如易服勞役，均以新臺幣壹仟元折...</td>\n      <td>臺灣板橋地方法院刑事判決100年度矚訴字第1號公訴人臺灣板橋地方法院檢察署檢察官被告鍾金來鄭...</td>\n      <td>臺灣板橋地方法院刑事判決100年度矚訴字第1號公訴人臺灣板橋地方法院檢察署檢察官被告鍾金來鄭...</td>\n      <td>黃朝邨及李慶華（以上二人本院另行審結）於民國82年間起在基隆市○○區○○路34號開設麗晶電子...</td>\n    </tr>\n    <tr>\n      <td>3</td>\n      <td>臺灣新北地方法院</td>\n      <td>2012-12-25T00:00:00+08:00</td>\n      <td>101,矚訴,1</td>\n      <td>刑事</td>\n      <td>貪污等</td>\n      <td>判決</td>\n      <td>沈炳煌被訴部分公訴不受理。</td>\n      <td>臺灣板橋地方法院刑事判決101年度矚訴字第1號公訴人臺灣板橋地方法院檢察署檢察官被告沈炳煌選...</td>\n      <td>臺灣板橋地方法院刑事判決101年度矚訴字第1號公訴人臺灣板橋地方法院檢察署檢察官被告沈炳煌選...</td>\n      <td>被告沈炳煌自民國93年8月1日起擔任新北市泰新莊區新泰國民中學（下稱新泰國中）校長，其在辦理...</td>\n    </tr>\n    <tr>\n      <td>4</td>\n      <td>臺灣新北地方法院</td>\n      <td>2014-05-16T00:00:00+08:00</td>\n      <td>101,矚訴,2</td>\n      <td>刑事</td>\n      <td>貪污等</td>\n      <td>判決</td>\n      <td>陳莉庭犯如附表一所示之罪，各處如附表一所示之宣告刑，應執行有期徒刑壹年陸月，緩刑肆年，並應向...</td>\n      <td>臺灣新北地方法院刑事判決101年度矚訴字第2、4號公訴人臺灣新北地方法院檢察署檢察官被告陳莉...</td>\n      <td>臺灣新北地方法院刑事判決101年度矚訴字第2、4號公訴人臺灣新北地方法院檢察署檢察官被告陳莉...</td>\n      <td>冠瑋食品有限公司（下稱冠瑋公司）專營學生中央餐廚及餐盒之供應，周乾榮為冠瑋公司負責人兼任總經...</td>\n    </tr>\n  </tbody>\n</table>\n</div>"
     },
     "metadata": {},
     "output_type": "execute_result",
     "execution_count": 44
    }
   ],
   "source": [
    "df = pd.read_csv('J://Legal_Judgment//Result.csv', index_col=0)\n",
    "df.head()"
   ],
   "metadata": {
    "collapsed": false,
    "pycharm": {
     "name": "#%%\n",
     "is_executing": false
    }
   }
  },
  {
   "cell_type": "code",
   "execution_count": 45,
   "outputs": [
    {
     "data": {
      "text/plain": "Empty DataFrame\nColumns: [court, date, no, sys, reason, type, mainText, judgement, judgement_SIT, Situation]\nIndex: []",
      "text/html": "<div>\n<style scoped>\n    .dataframe tbody tr th:only-of-type {\n        vertical-align: middle;\n    }\n\n    .dataframe tbody tr th {\n        vertical-align: top;\n    }\n\n    .dataframe thead th {\n        text-align: right;\n    }\n</style>\n<table border=\"1\" class=\"dataframe\">\n  <thead>\n    <tr style=\"text-align: right;\">\n      <th></th>\n      <th>court</th>\n      <th>date</th>\n      <th>no</th>\n      <th>sys</th>\n      <th>reason</th>\n      <th>type</th>\n      <th>mainText</th>\n      <th>judgement</th>\n      <th>judgement_SIT</th>\n      <th>Situation</th>\n    </tr>\n    <tr>\n      <th>id</th>\n      <th></th>\n      <th></th>\n      <th></th>\n      <th></th>\n      <th></th>\n      <th></th>\n      <th></th>\n      <th></th>\n      <th></th>\n      <th></th>\n    </tr>\n  </thead>\n  <tbody>\n  </tbody>\n</table>\n</div>"
     },
     "metadata": {},
     "output_type": "execute_result",
     "execution_count": 45
    }
   ],
   "source": [
    "df[df['reason'] == ('違反毒品危害防制條例')].head(10)"
   ],
   "metadata": {
    "collapsed": false,
    "pycharm": {
     "name": "#%%\n",
     "is_executing": false
    }
   }
  },
  {
   "cell_type": "code",
   "execution_count": 46,
   "metadata": {
    "pycharm": {
     "is_executing": false
    }
   },
   "outputs": [
    {
     "data": {
      "text/plain": "       court                       date          no sys reason type  \\\nid                                                                    \n0   臺灣新北地方法院  2011-03-01T00:00:00+08:00    100,交訴,1  刑事  公共危險等   判決   \n1   臺灣新北地方法院  2013-10-31T00:00:00+08:00   100,侵訴,93  刑事  妨害性自主   判決   \n2   臺灣新北地方法院  2011-09-30T00:00:00+08:00    100,矚訴,1  刑事    貪污等   判決   \n3   臺灣新北地方法院  2012-12-25T00:00:00+08:00    101,矚訴,1  刑事    貪污等   判決   \n4   臺灣新北地方法院  2014-05-16T00:00:00+08:00    101,矚訴,2  刑事    貪污等   判決   \n5   臺灣新北地方法院  2012-06-29T00:00:00+08:00    101,矚訴,4  刑事    貪污等   判決   \n6   臺灣新北地方法院  2012-12-13T00:00:00+08:00    101,矚訴,5  刑事    貪污等   判決   \n7   臺灣新北地方法院  2012-07-03T00:00:00+08:00  101,矚重訴緝,1  刑事    貪污等   判決   \n8   臺灣新北地方法院  2013-10-15T00:00:00+08:00  102,審勞安訴,1  刑事  過失致死等   判決   \n9   臺灣新北地方法院  2013-12-13T00:00:00+08:00  102,審勞安訴,2  刑事  過失致死等   判決   \n\n                                             mainText  \\\nid                                                      \n0   黃承洋犯不能安全駕駛動力交通工具罪，科罰金新臺幣陸萬元，如易服勞役，以新臺幣壹仟元折算壹日。...   \n1   甲○○犯乘機性交未遂罪，處有期徒刑壹年拾月。又犯乘機性交未遂罪，處有期徒刑壹年拾月。又犯乘機...   \n2   鍾金來、鄭夙岑、林小雁、劉桔鴻犯賭博罪，各處罰金新臺幣貳萬元，如易服勞役，均以新臺幣壹仟元折...   \n3                                       沈炳煌被訴部分公訴不受理。   \n4   陳莉庭犯如附表一所示之罪，各處如附表一所示之宣告刑，應執行有期徒刑壹年陸月，緩刑肆年，並應向...   \n5   賴金池意圖為自己不法之所有，以詐術使人將本人之物交付，處有期徒刑伍月，如易科罰金，以新臺幣壹...   \n6   丑○○共同犯圖利容留性交罪，處有期徒刑伍月，如易科罰金，以新臺幣壹仟元折算壹日。\\n扣案如附...   \n7   蘇俊源共同意圖使女子與他人為性交之行為，而媒介以營利，處有期徒刑拾月，減為有期徒刑伍月，如易...   \n8   重億工程有限公司違反雇主對有墜落、崩塌等之虞之作業場所引起之危害，應有符合標準之必要安全衛生...   \n9   林嫩俤從事業務之人，因業務上之過失致人於死，處有期徒刑肆月，如易科罰金，以新臺幣壹仟元折算壹...   \n\n                                            judgement  \\\nid                                                      \n0   臺灣板橋地方法院刑事判決100年度交訴字第1號公訴人臺灣板橋地方法院檢察署檢察官被告黃承洋上...   \n1   臺灣新北地方法院刑事判決100年度侵訴字第93號公訴人臺灣新北地方法院檢察署檢察官被告陳木信...   \n2   臺灣板橋地方法院刑事判決100年度矚訴字第1號公訴人臺灣板橋地方法院檢察署檢察官被告鍾金來鄭...   \n3   臺灣板橋地方法院刑事判決101年度矚訴字第1號公訴人臺灣板橋地方法院檢察署檢察官被告沈炳煌選...   \n4   臺灣新北地方法院刑事判決101年度矚訴字第2、4號公訴人臺灣新北地方法院檢察署檢察官被告陳莉...   \n5   臺灣板橋地方法院刑事判決101年度矚訴字第4號公訴人臺灣板橋地方法院檢察署檢察官被告賴金池選...   \n6   臺灣板橋地方法院刑事判決101年度矚訴字第5號公訴人臺灣板橋地方法院檢察署檢察官被告陳建名上...   \n7   臺灣板橋地方法院刑事判決101年度矚重訴緝字第1號公訴人臺灣板橋地方法院檢察署檢察官被告蘇俊...   \n8   臺灣新北地方法院刑事判決102年度審勞安訴字第1號公訴人臺灣新北地方法院檢察署檢察官被告重億...   \n9   臺灣新北地方法院刑事判決102年度審勞安訴字第2號公訴人臺灣新北地方法院檢察署檢察官被告林嫩...   \n\n                                        judgement_SIT  \\\nid                                                      \n0   臺灣板橋地方法院刑事判決100年度交訴字第1號公訴人臺灣板橋地方法院檢察署檢察官被告黃承洋上...   \n1   臺灣新北地方法院刑事判決100年度侵訴字第93號公訴人臺灣新北地方法院檢察署檢察官被告陳木信...   \n2   臺灣板橋地方法院刑事判決100年度矚訴字第1號公訴人臺灣板橋地方法院檢察署檢察官被告鍾金來鄭...   \n3   臺灣板橋地方法院刑事判決101年度矚訴字第1號公訴人臺灣板橋地方法院檢察署檢察官被告沈炳煌選...   \n4   臺灣新北地方法院刑事判決101年度矚訴字第2、4號公訴人臺灣新北地方法院檢察署檢察官被告陳莉...   \n5   臺灣板橋地方法院刑事判決101年度矚訴字第4號公訴人臺灣板橋地方法院檢察署檢察官被告賴金池選...   \n6   臺灣板橋地方法院刑事判決101年度矚訴字第5號公訴人臺灣板橋地方法院檢察署檢察官被告陳建名上...   \n7   臺灣板橋地方法院刑事判決101年度矚重訴緝字第1號公訴人臺灣板橋地方法院檢察署檢察官被告蘇俊...   \n8   臺灣新北地方法院刑事判決102年度審勞安訴字第1號公訴人臺灣新北地方法院檢察署檢察官被告重億...   \n9   臺灣新北地方法院刑事判決102年度審勞安訴字第2號公訴人臺灣新北地方法院檢察署檢察官被告林嫩...   \n\n                                            Situation  \nid                                                     \n0   黃承洋前於民國99年9月2日上午11時至12時許間，在其位在桃園縣龍潭鄉○○路122號之住處...  \n1   分別於民國99年8月中旬某日、9月中旬某日、11月中旬某日，以其持用之門號000000000...  \n2   黃朝邨及李慶華（以上二人本院另行審結）於民國82年間起在基隆市○○區○○路34號開設麗晶電子...  \n3   被告沈炳煌自民國93年8月1日起擔任新北市泰新莊區新泰國民中學（下稱新泰國中）校長，其在辦理...  \n4   冠瑋食品有限公司（下稱冠瑋公司）專營學生中央餐廚及餐盒之供應，周乾榮為冠瑋公司負責人兼任總經...  \n5   賴金池前因承包、修繕冠瑋公司及新北市淡水區三民高級中學（下稱三民高中）之鐵窗、鐵門工程，而與...  \n6   午○○（綽號：阿文、冬瓜，已結，下同）於民國（下同）98年10月14日出監後，自99年6月起...  \n7   經本院以95年度簡字第1639號判決處有期徒刑6月(現在監執行中，故於本案不構成累犯)，詎猶...  \n8   潘榮棣係設於新北市○○區○○街00巷0弄0○0號「重億工程有限公司」（以下簡稱重億公司）之負...  \n9   與劉錦鑑均為土木工程業之合夥人，均屬執行業務之人，其等2人於101年1月間某日，在不詳地點，...  ",
      "text/html": "<div>\n<style scoped>\n    .dataframe tbody tr th:only-of-type {\n        vertical-align: middle;\n    }\n\n    .dataframe tbody tr th {\n        vertical-align: top;\n    }\n\n    .dataframe thead th {\n        text-align: right;\n    }\n</style>\n<table border=\"1\" class=\"dataframe\">\n  <thead>\n    <tr style=\"text-align: right;\">\n      <th></th>\n      <th>court</th>\n      <th>date</th>\n      <th>no</th>\n      <th>sys</th>\n      <th>reason</th>\n      <th>type</th>\n      <th>mainText</th>\n      <th>judgement</th>\n      <th>judgement_SIT</th>\n      <th>Situation</th>\n    </tr>\n    <tr>\n      <th>id</th>\n      <th></th>\n      <th></th>\n      <th></th>\n      <th></th>\n      <th></th>\n      <th></th>\n      <th></th>\n      <th></th>\n      <th></th>\n      <th></th>\n    </tr>\n  </thead>\n  <tbody>\n    <tr>\n      <td>0</td>\n      <td>臺灣新北地方法院</td>\n      <td>2011-03-01T00:00:00+08:00</td>\n      <td>100,交訴,1</td>\n      <td>刑事</td>\n      <td>公共危險等</td>\n      <td>判決</td>\n      <td>黃承洋犯不能安全駕駛動力交通工具罪，科罰金新臺幣陸萬元，如易服勞役，以新臺幣壹仟元折算壹日。...</td>\n      <td>臺灣板橋地方法院刑事判決100年度交訴字第1號公訴人臺灣板橋地方法院檢察署檢察官被告黃承洋上...</td>\n      <td>臺灣板橋地方法院刑事判決100年度交訴字第1號公訴人臺灣板橋地方法院檢察署檢察官被告黃承洋上...</td>\n      <td>黃承洋前於民國99年9月2日上午11時至12時許間，在其位在桃園縣龍潭鄉○○路122號之住處...</td>\n    </tr>\n    <tr>\n      <td>1</td>\n      <td>臺灣新北地方法院</td>\n      <td>2013-10-31T00:00:00+08:00</td>\n      <td>100,侵訴,93</td>\n      <td>刑事</td>\n      <td>妨害性自主</td>\n      <td>判決</td>\n      <td>甲○○犯乘機性交未遂罪，處有期徒刑壹年拾月。又犯乘機性交未遂罪，處有期徒刑壹年拾月。又犯乘機...</td>\n      <td>臺灣新北地方法院刑事判決100年度侵訴字第93號公訴人臺灣新北地方法院檢察署檢察官被告陳木信...</td>\n      <td>臺灣新北地方法院刑事判決100年度侵訴字第93號公訴人臺灣新北地方法院檢察署檢察官被告陳木信...</td>\n      <td>分別於民國99年8月中旬某日、9月中旬某日、11月中旬某日，以其持用之門號000000000...</td>\n    </tr>\n    <tr>\n      <td>2</td>\n      <td>臺灣新北地方法院</td>\n      <td>2011-09-30T00:00:00+08:00</td>\n      <td>100,矚訴,1</td>\n      <td>刑事</td>\n      <td>貪污等</td>\n      <td>判決</td>\n      <td>鍾金來、鄭夙岑、林小雁、劉桔鴻犯賭博罪，各處罰金新臺幣貳萬元，如易服勞役，均以新臺幣壹仟元折...</td>\n      <td>臺灣板橋地方法院刑事判決100年度矚訴字第1號公訴人臺灣板橋地方法院檢察署檢察官被告鍾金來鄭...</td>\n      <td>臺灣板橋地方法院刑事判決100年度矚訴字第1號公訴人臺灣板橋地方法院檢察署檢察官被告鍾金來鄭...</td>\n      <td>黃朝邨及李慶華（以上二人本院另行審結）於民國82年間起在基隆市○○區○○路34號開設麗晶電子...</td>\n    </tr>\n    <tr>\n      <td>3</td>\n      <td>臺灣新北地方法院</td>\n      <td>2012-12-25T00:00:00+08:00</td>\n      <td>101,矚訴,1</td>\n      <td>刑事</td>\n      <td>貪污等</td>\n      <td>判決</td>\n      <td>沈炳煌被訴部分公訴不受理。</td>\n      <td>臺灣板橋地方法院刑事判決101年度矚訴字第1號公訴人臺灣板橋地方法院檢察署檢察官被告沈炳煌選...</td>\n      <td>臺灣板橋地方法院刑事判決101年度矚訴字第1號公訴人臺灣板橋地方法院檢察署檢察官被告沈炳煌選...</td>\n      <td>被告沈炳煌自民國93年8月1日起擔任新北市泰新莊區新泰國民中學（下稱新泰國中）校長，其在辦理...</td>\n    </tr>\n    <tr>\n      <td>4</td>\n      <td>臺灣新北地方法院</td>\n      <td>2014-05-16T00:00:00+08:00</td>\n      <td>101,矚訴,2</td>\n      <td>刑事</td>\n      <td>貪污等</td>\n      <td>判決</td>\n      <td>陳莉庭犯如附表一所示之罪，各處如附表一所示之宣告刑，應執行有期徒刑壹年陸月，緩刑肆年，並應向...</td>\n      <td>臺灣新北地方法院刑事判決101年度矚訴字第2、4號公訴人臺灣新北地方法院檢察署檢察官被告陳莉...</td>\n      <td>臺灣新北地方法院刑事判決101年度矚訴字第2、4號公訴人臺灣新北地方法院檢察署檢察官被告陳莉...</td>\n      <td>冠瑋食品有限公司（下稱冠瑋公司）專營學生中央餐廚及餐盒之供應，周乾榮為冠瑋公司負責人兼任總經...</td>\n    </tr>\n    <tr>\n      <td>5</td>\n      <td>臺灣新北地方法院</td>\n      <td>2012-06-29T00:00:00+08:00</td>\n      <td>101,矚訴,4</td>\n      <td>刑事</td>\n      <td>貪污等</td>\n      <td>判決</td>\n      <td>賴金池意圖為自己不法之所有，以詐術使人將本人之物交付，處有期徒刑伍月，如易科罰金，以新臺幣壹...</td>\n      <td>臺灣板橋地方法院刑事判決101年度矚訴字第4號公訴人臺灣板橋地方法院檢察署檢察官被告賴金池選...</td>\n      <td>臺灣板橋地方法院刑事判決101年度矚訴字第4號公訴人臺灣板橋地方法院檢察署檢察官被告賴金池選...</td>\n      <td>賴金池前因承包、修繕冠瑋公司及新北市淡水區三民高級中學（下稱三民高中）之鐵窗、鐵門工程，而與...</td>\n    </tr>\n    <tr>\n      <td>6</td>\n      <td>臺灣新北地方法院</td>\n      <td>2012-12-13T00:00:00+08:00</td>\n      <td>101,矚訴,5</td>\n      <td>刑事</td>\n      <td>貪污等</td>\n      <td>判決</td>\n      <td>丑○○共同犯圖利容留性交罪，處有期徒刑伍月，如易科罰金，以新臺幣壹仟元折算壹日。\\n扣案如附...</td>\n      <td>臺灣板橋地方法院刑事判決101年度矚訴字第5號公訴人臺灣板橋地方法院檢察署檢察官被告陳建名上...</td>\n      <td>臺灣板橋地方法院刑事判決101年度矚訴字第5號公訴人臺灣板橋地方法院檢察署檢察官被告陳建名上...</td>\n      <td>午○○（綽號：阿文、冬瓜，已結，下同）於民國（下同）98年10月14日出監後，自99年6月起...</td>\n    </tr>\n    <tr>\n      <td>7</td>\n      <td>臺灣新北地方法院</td>\n      <td>2012-07-03T00:00:00+08:00</td>\n      <td>101,矚重訴緝,1</td>\n      <td>刑事</td>\n      <td>貪污等</td>\n      <td>判決</td>\n      <td>蘇俊源共同意圖使女子與他人為性交之行為，而媒介以營利，處有期徒刑拾月，減為有期徒刑伍月，如易...</td>\n      <td>臺灣板橋地方法院刑事判決101年度矚重訴緝字第1號公訴人臺灣板橋地方法院檢察署檢察官被告蘇俊...</td>\n      <td>臺灣板橋地方法院刑事判決101年度矚重訴緝字第1號公訴人臺灣板橋地方法院檢察署檢察官被告蘇俊...</td>\n      <td>經本院以95年度簡字第1639號判決處有期徒刑6月(現在監執行中，故於本案不構成累犯)，詎猶...</td>\n    </tr>\n    <tr>\n      <td>8</td>\n      <td>臺灣新北地方法院</td>\n      <td>2013-10-15T00:00:00+08:00</td>\n      <td>102,審勞安訴,1</td>\n      <td>刑事</td>\n      <td>過失致死等</td>\n      <td>判決</td>\n      <td>重億工程有限公司違反雇主對有墜落、崩塌等之虞之作業場所引起之危害，應有符合標準之必要安全衛生...</td>\n      <td>臺灣新北地方法院刑事判決102年度審勞安訴字第1號公訴人臺灣新北地方法院檢察署檢察官被告重億...</td>\n      <td>臺灣新北地方法院刑事判決102年度審勞安訴字第1號公訴人臺灣新北地方法院檢察署檢察官被告重億...</td>\n      <td>潘榮棣係設於新北市○○區○○街00巷0弄0○0號「重億工程有限公司」（以下簡稱重億公司）之負...</td>\n    </tr>\n    <tr>\n      <td>9</td>\n      <td>臺灣新北地方法院</td>\n      <td>2013-12-13T00:00:00+08:00</td>\n      <td>102,審勞安訴,2</td>\n      <td>刑事</td>\n      <td>過失致死等</td>\n      <td>判決</td>\n      <td>林嫩俤從事業務之人，因業務上之過失致人於死，處有期徒刑肆月，如易科罰金，以新臺幣壹仟元折算壹...</td>\n      <td>臺灣新北地方法院刑事判決102年度審勞安訴字第2號公訴人臺灣新北地方法院檢察署檢察官被告林嫩...</td>\n      <td>臺灣新北地方法院刑事判決102年度審勞安訴字第2號公訴人臺灣新北地方法院檢察署檢察官被告林嫩...</td>\n      <td>與劉錦鑑均為土木工程業之合夥人，均屬執行業務之人，其等2人於101年1月間某日，在不詳地點，...</td>\n    </tr>\n  </tbody>\n</table>\n</div>"
     },
     "metadata": {},
     "output_type": "execute_result",
     "execution_count": 46
    }
   ],
   "source": [
    "df[df['reason'].str.contains ('')].head(10)"
   ]
  },
  {
   "cell_type": "code",
   "execution_count": 47,
   "metadata": {
    "pycharm": {
     "is_executing": false
    }
   },
   "outputs": [
    {
     "data": {
      "text/plain": "Empty DataFrame\nColumns: [court, date, no, sys, reason, type, mainText, judgement, judgement_SIT, Situation]\nIndex: []",
      "text/html": "<div>\n<style scoped>\n    .dataframe tbody tr th:only-of-type {\n        vertical-align: middle;\n    }\n\n    .dataframe tbody tr th {\n        vertical-align: top;\n    }\n\n    .dataframe thead th {\n        text-align: right;\n    }\n</style>\n<table border=\"1\" class=\"dataframe\">\n  <thead>\n    <tr style=\"text-align: right;\">\n      <th></th>\n      <th>court</th>\n      <th>date</th>\n      <th>no</th>\n      <th>sys</th>\n      <th>reason</th>\n      <th>type</th>\n      <th>mainText</th>\n      <th>judgement</th>\n      <th>judgement_SIT</th>\n      <th>Situation</th>\n    </tr>\n    <tr>\n      <th>id</th>\n      <th></th>\n      <th></th>\n      <th></th>\n      <th></th>\n      <th></th>\n      <th></th>\n      <th></th>\n      <th></th>\n      <th></th>\n      <th></th>\n    </tr>\n  </thead>\n  <tbody>\n  </tbody>\n</table>\n</div>"
     },
     "metadata": {},
     "output_type": "execute_result",
     "execution_count": 47
    }
   ],
   "source": [
    "df[df['reason'] == ('公共危險')].iloc[20:30]"
   ]
  },
  {
   "cell_type": "code",
   "execution_count": 48,
   "metadata": {
    "pycharm": {
     "name": "#%%\n",
     "is_executing": false
    }
   },
   "outputs": [
    {
     "name": "stdout",
     "text": [
      "reason\n偽證           1\n偽造文書         2\n公共危險        15\n妨害公務         1\n妨害性自主        7\n妨害自由         1\n妨害風化         2\n強盜           3\n恐嚇取財         1\n槍砲彈藥刀械管制     4\n殺人           3\n殺人未遂         4\n毒品危害防制條例    75\n藥事法          2\n詐欺           1\n貪污          33\n過失致死         9\n醫師法          3\nName: no, dtype: int64\n"
     ],
     "output_type": "stream"
    }
   ],
   "source": [
    "import matplotlib.pyplot as plt\n",
    "%matplotlib inline\n",
    "\n",
    "\n",
    "df['reason'] = df['reason'].str.replace('等', '')\n",
    "print(df.groupby(['reason']).count()['no'])"
   ]
  },
  {
   "cell_type": "code",
   "execution_count": 49,
   "outputs": [
    {
     "data": {
      "text/plain": "        court                       date          no sys    reason type  \\\nid                                                                        \n91   臺灣新北地方法院  2018-02-22T00:00:00+08:00   107,審訴緝,3  刑事  毒品危害防制條例   判決   \n123  臺灣新北地方法院  2008-09-05T00:00:00+08:00    95,矚重訴,3  刑事        貪污   判決   \n29   臺灣新北地方法院  2016-11-18T00:00:00+08:00   105,原交訴,6  刑事      過失致死   判決   \n105  臺灣新北地方法院  2018-11-21T00:00:00+08:00  107,審訴緝,53  刑事  槍砲彈藥刀械管制   判決   \n45   臺灣新北地方法院  2017-11-30T00:00:00+08:00   106,原訴,50  刑事  毒品危害防制條例   判決   \n\n                                              mainText  \\\nid                                                       \n91                  吳宗翰施用第一級毒品，累犯，處有期徒刑玖月。扣案之注射針筒壹支沒收。   \n123  丑○○連續幫助共同連續有調查職務，依據法令從事公務之人員，對於違背職務之行為，收受賄賂，處有...   \n29                              邱正雄犯業務過失致人於死罪，處有期徒刑捌月。   \n105  胡紹恩犯非法持有子彈罪，累犯，處有期徒刑參月，併科罰金新臺幣貳萬元，有期徒刑如易科罰金，罰金...   \n45   乙○○持有第二級毒品純質淨重二十公克以上，處有期徒刑陸月，如易科罰金，以新臺幣壹仟元折算壹日...   \n\n                                             judgement  \\\nid                                                       \n91   臺灣新北地方法院刑事判決107年度審訴緝字第3號公訴人臺灣新北地方法院檢察署檢察官被告吳宗翰...   \n123  臺灣板橋地方法院刑事判決95年度矚重訴字第3號公訴人臺灣板橋地方法院檢察署檢察官被告丑○○指...   \n29   臺灣新北地方法院刑事判決105年度原交訴字第6號公訴人臺灣新北地方法院檢察署檢察官被告邱正雄...   \n105  臺灣新北地方法院刑事判決107年度審訴緝字第53號公訴人臺灣新北地方檢察署檢察官被告胡紹恩上...   \n45   臺灣新北地方法院刑事判決106年度原訴字第50號公訴人臺灣新北地方法院檢察署檢察官被告高筱詩...   \n\n                                         judgement_SIT  \\\nid                                                       \n91   臺灣新北地方法院刑事判決107年度審訴緝字第3號公訴人臺灣新北地方法院檢察署檢察官被告吳宗翰...   \n123  臺灣板橋地方法院刑事判決95年度矚重訴字第3號公訴人臺灣板橋地方法院檢察署檢察官被告丑○○指...   \n29   臺灣新北地方法院刑事判決105年度原交訴字第6號公訴人臺灣新北地方法院檢察署檢察官被告邱正雄...   \n105  臺灣新北地方法院刑事判決107年度審訴緝字第53號公訴人臺灣新北地方檢察署檢察官被告胡紹恩上...   \n45   臺灣新北地方法院刑事判決106年度原訴字第50號公訴人臺灣新北地方法院檢察署檢察官被告高筱詩...   \n\n                                             Situation  \nid                                                      \n91   於105年5月19日下午2至3時許，在新北市三重區重新橋附近某處，以將海洛因置入針筒注射進入...  \n123  緣戊○○（業已審結）自民國九十三年七月十二日起任職臺北市政府警察局北投分局偵查隊，係有調查職...  \n29   邱正雄係弘安運輸有限公司所僱之營業大客車司機，以載運貨物為業，為從事駕駛業務之人，其於民國1...  \n105  徐振凱因與黃泓凱間有債務糾紛，欲向黃泓凱索討債務，遂於民國105年10月24日凌晨4時30分...  \n45   乙○○明知甲基安非他命係毒品危害防制條例第2條第2項第2款所列管之第二級毒品，未經許可不得擅...  ",
      "text/html": "<div>\n<style scoped>\n    .dataframe tbody tr th:only-of-type {\n        vertical-align: middle;\n    }\n\n    .dataframe tbody tr th {\n        vertical-align: top;\n    }\n\n    .dataframe thead th {\n        text-align: right;\n    }\n</style>\n<table border=\"1\" class=\"dataframe\">\n  <thead>\n    <tr style=\"text-align: right;\">\n      <th></th>\n      <th>court</th>\n      <th>date</th>\n      <th>no</th>\n      <th>sys</th>\n      <th>reason</th>\n      <th>type</th>\n      <th>mainText</th>\n      <th>judgement</th>\n      <th>judgement_SIT</th>\n      <th>Situation</th>\n    </tr>\n    <tr>\n      <th>id</th>\n      <th></th>\n      <th></th>\n      <th></th>\n      <th></th>\n      <th></th>\n      <th></th>\n      <th></th>\n      <th></th>\n      <th></th>\n      <th></th>\n    </tr>\n  </thead>\n  <tbody>\n    <tr>\n      <td>91</td>\n      <td>臺灣新北地方法院</td>\n      <td>2018-02-22T00:00:00+08:00</td>\n      <td>107,審訴緝,3</td>\n      <td>刑事</td>\n      <td>毒品危害防制條例</td>\n      <td>判決</td>\n      <td>吳宗翰施用第一級毒品，累犯，處有期徒刑玖月。扣案之注射針筒壹支沒收。</td>\n      <td>臺灣新北地方法院刑事判決107年度審訴緝字第3號公訴人臺灣新北地方法院檢察署檢察官被告吳宗翰...</td>\n      <td>臺灣新北地方法院刑事判決107年度審訴緝字第3號公訴人臺灣新北地方法院檢察署檢察官被告吳宗翰...</td>\n      <td>於105年5月19日下午2至3時許，在新北市三重區重新橋附近某處，以將海洛因置入針筒注射進入...</td>\n    </tr>\n    <tr>\n      <td>123</td>\n      <td>臺灣新北地方法院</td>\n      <td>2008-09-05T00:00:00+08:00</td>\n      <td>95,矚重訴,3</td>\n      <td>刑事</td>\n      <td>貪污</td>\n      <td>判決</td>\n      <td>丑○○連續幫助共同連續有調查職務，依據法令從事公務之人員，對於違背職務之行為，收受賄賂，處有...</td>\n      <td>臺灣板橋地方法院刑事判決95年度矚重訴字第3號公訴人臺灣板橋地方法院檢察署檢察官被告丑○○指...</td>\n      <td>臺灣板橋地方法院刑事判決95年度矚重訴字第3號公訴人臺灣板橋地方法院檢察署檢察官被告丑○○指...</td>\n      <td>緣戊○○（業已審結）自民國九十三年七月十二日起任職臺北市政府警察局北投分局偵查隊，係有調查職...</td>\n    </tr>\n    <tr>\n      <td>29</td>\n      <td>臺灣新北地方法院</td>\n      <td>2016-11-18T00:00:00+08:00</td>\n      <td>105,原交訴,6</td>\n      <td>刑事</td>\n      <td>過失致死</td>\n      <td>判決</td>\n      <td>邱正雄犯業務過失致人於死罪，處有期徒刑捌月。</td>\n      <td>臺灣新北地方法院刑事判決105年度原交訴字第6號公訴人臺灣新北地方法院檢察署檢察官被告邱正雄...</td>\n      <td>臺灣新北地方法院刑事判決105年度原交訴字第6號公訴人臺灣新北地方法院檢察署檢察官被告邱正雄...</td>\n      <td>邱正雄係弘安運輸有限公司所僱之營業大客車司機，以載運貨物為業，為從事駕駛業務之人，其於民國1...</td>\n    </tr>\n    <tr>\n      <td>105</td>\n      <td>臺灣新北地方法院</td>\n      <td>2018-11-21T00:00:00+08:00</td>\n      <td>107,審訴緝,53</td>\n      <td>刑事</td>\n      <td>槍砲彈藥刀械管制</td>\n      <td>判決</td>\n      <td>胡紹恩犯非法持有子彈罪，累犯，處有期徒刑參月，併科罰金新臺幣貳萬元，有期徒刑如易科罰金，罰金...</td>\n      <td>臺灣新北地方法院刑事判決107年度審訴緝字第53號公訴人臺灣新北地方檢察署檢察官被告胡紹恩上...</td>\n      <td>臺灣新北地方法院刑事判決107年度審訴緝字第53號公訴人臺灣新北地方檢察署檢察官被告胡紹恩上...</td>\n      <td>徐振凱因與黃泓凱間有債務糾紛，欲向黃泓凱索討債務，遂於民國105年10月24日凌晨4時30分...</td>\n    </tr>\n    <tr>\n      <td>45</td>\n      <td>臺灣新北地方法院</td>\n      <td>2017-11-30T00:00:00+08:00</td>\n      <td>106,原訴,50</td>\n      <td>刑事</td>\n      <td>毒品危害防制條例</td>\n      <td>判決</td>\n      <td>乙○○持有第二級毒品純質淨重二十公克以上，處有期徒刑陸月，如易科罰金，以新臺幣壹仟元折算壹日...</td>\n      <td>臺灣新北地方法院刑事判決106年度原訴字第50號公訴人臺灣新北地方法院檢察署檢察官被告高筱詩...</td>\n      <td>臺灣新北地方法院刑事判決106年度原訴字第50號公訴人臺灣新北地方法院檢察署檢察官被告高筱詩...</td>\n      <td>乙○○明知甲基安非他命係毒品危害防制條例第2條第2項第2款所列管之第二級毒品，未經許可不得擅...</td>\n    </tr>\n  </tbody>\n</table>\n</div>"
     },
     "metadata": {},
     "output_type": "execute_result",
     "execution_count": 49
    }
   ],
   "source": [
    "##拆分df\n",
    "df1=df.sample(frac=0.8)#按0.6比例随机采样\n",
    "df1.head()"
   ],
   "metadata": {
    "collapsed": false,
    "pycharm": {
     "name": "#%%\n",
     "is_executing": false
    }
   }
  },
  {
   "cell_type": "code",
   "execution_count": 50,
   "outputs": [
    {
     "data": {
      "text/plain": "       court                       date         no sys    reason type  \\\nid                                                                      \n5   臺灣新北地方法院  2012-06-29T00:00:00+08:00   101,矚訴,4  刑事        貪污   判決   \n6   臺灣新北地方法院  2012-12-13T00:00:00+08:00   101,矚訴,5  刑事        貪污   判決   \n13  臺灣新北地方法院  2014-01-14T00:00:00+08:00  102,矚訴緝,2  刑事      妨害風化   判決   \n23  臺灣新北地方法院  2015-09-24T00:00:00+08:00  104,原訴,20  刑事  毒品危害防制條例   判決   \n24  臺灣新北地方法院  2015-11-06T00:00:00+08:00  104,原訴,27  刑事  毒品危害防制條例   判決   \n\n                                             mainText  \\\nid                                                      \n5   賴金池意圖為自己不法之所有，以詐術使人將本人之物交付，處有期徒刑伍月，如易科罰金，以新臺幣壹...   \n6   丑○○共同犯圖利容留性交罪，處有期徒刑伍月，如易科罰金，以新臺幣壹仟元折算壹日。\\n扣案如附...   \n13  JULAIKAH共同意圖使女子與他人為性交之行為，而媒介以營利，處有期徒刑肆月，如易科罰金，...   \n23  林景雲施用第二級毒品，累犯，處有期徒刑陸月，如易科罰金，以新臺幣壹仟元折算壹日。又施用第一級...   \n24  楊寶珍施用第一級毒品，累犯，處有期徒刑玖月。扣案之第一級毒品海洛因（驗餘淨重零點零捌參壹公克...   \n\n                                            judgement  \\\nid                                                      \n5   臺灣板橋地方法院刑事判決101年度矚訴字第4號公訴人臺灣板橋地方法院檢察署檢察官被告賴金池選...   \n6   臺灣板橋地方法院刑事判決101年度矚訴字第5號公訴人臺灣板橋地方法院檢察署檢察官被告陳建名上...   \n13  臺灣新北地方法院刑事判決102年度矚訴緝字第1號2號公訴人臺灣新北地方法院檢察署檢察官被告J...   \n23  臺灣新北地方法院刑事判決104年度原訴字第20號公訴人臺灣新北地方法院檢察署檢察官被告林景雲...   \n24  臺灣新北地方法院刑事判決104年度原訴字第27號公訴人臺灣新北地方法院檢察署檢察官被告楊寶珍...   \n\n                                        judgement_SIT  \\\nid                                                      \n5   臺灣板橋地方法院刑事判決101年度矚訴字第4號公訴人臺灣板橋地方法院檢察署檢察官被告賴金池選...   \n6   臺灣板橋地方法院刑事判決101年度矚訴字第5號公訴人臺灣板橋地方法院檢察署檢察官被告陳建名上...   \n13  臺灣新北地方法院刑事判決102年度矚訴緝字第1號2號公訴人臺灣新北地方法院檢察署檢察官被告J...   \n23  臺灣新北地方法院刑事判決104年度原訴字第20號公訴人臺灣新北地方法院檢察署檢察官被告林景雲...   \n24  臺灣新北地方法院刑事判決104年度原訴字第27號公訴人臺灣新北地方法院檢察署檢察官被告楊寶珍...   \n\n                                            Situation  \nid                                                     \n5   賴金池前因承包、修繕冠瑋公司及新北市淡水區三民高級中學（下稱三民高中）之鐵窗、鐵門工程，而與...  \n6   午○○（綽號：阿文、冬瓜，已結，下同）於民國（下同）98年10月14日出監後，自99年6月起...  \n13  JULAIKAH（綽號「雯雯」）明知楊育勝(綽號阿文)、陳雅文（綽號「姊姊」；楊育勝、陳雅文...  \n23  林景雲前因施用毒品案件，經臺灣桃園地方法院以97年度毒聲字第1536號裁定送觀察、勒戒後，認...  \n24  104年4月19日上午某時許（起訴書略為：於104年4月19日18時5分許為警採尿時點回溯2...  ",
      "text/html": "<div>\n<style scoped>\n    .dataframe tbody tr th:only-of-type {\n        vertical-align: middle;\n    }\n\n    .dataframe tbody tr th {\n        vertical-align: top;\n    }\n\n    .dataframe thead th {\n        text-align: right;\n    }\n</style>\n<table border=\"1\" class=\"dataframe\">\n  <thead>\n    <tr style=\"text-align: right;\">\n      <th></th>\n      <th>court</th>\n      <th>date</th>\n      <th>no</th>\n      <th>sys</th>\n      <th>reason</th>\n      <th>type</th>\n      <th>mainText</th>\n      <th>judgement</th>\n      <th>judgement_SIT</th>\n      <th>Situation</th>\n    </tr>\n    <tr>\n      <th>id</th>\n      <th></th>\n      <th></th>\n      <th></th>\n      <th></th>\n      <th></th>\n      <th></th>\n      <th></th>\n      <th></th>\n      <th></th>\n      <th></th>\n    </tr>\n  </thead>\n  <tbody>\n    <tr>\n      <td>5</td>\n      <td>臺灣新北地方法院</td>\n      <td>2012-06-29T00:00:00+08:00</td>\n      <td>101,矚訴,4</td>\n      <td>刑事</td>\n      <td>貪污</td>\n      <td>判決</td>\n      <td>賴金池意圖為自己不法之所有，以詐術使人將本人之物交付，處有期徒刑伍月，如易科罰金，以新臺幣壹...</td>\n      <td>臺灣板橋地方法院刑事判決101年度矚訴字第4號公訴人臺灣板橋地方法院檢察署檢察官被告賴金池選...</td>\n      <td>臺灣板橋地方法院刑事判決101年度矚訴字第4號公訴人臺灣板橋地方法院檢察署檢察官被告賴金池選...</td>\n      <td>賴金池前因承包、修繕冠瑋公司及新北市淡水區三民高級中學（下稱三民高中）之鐵窗、鐵門工程，而與...</td>\n    </tr>\n    <tr>\n      <td>6</td>\n      <td>臺灣新北地方法院</td>\n      <td>2012-12-13T00:00:00+08:00</td>\n      <td>101,矚訴,5</td>\n      <td>刑事</td>\n      <td>貪污</td>\n      <td>判決</td>\n      <td>丑○○共同犯圖利容留性交罪，處有期徒刑伍月，如易科罰金，以新臺幣壹仟元折算壹日。\\n扣案如附...</td>\n      <td>臺灣板橋地方法院刑事判決101年度矚訴字第5號公訴人臺灣板橋地方法院檢察署檢察官被告陳建名上...</td>\n      <td>臺灣板橋地方法院刑事判決101年度矚訴字第5號公訴人臺灣板橋地方法院檢察署檢察官被告陳建名上...</td>\n      <td>午○○（綽號：阿文、冬瓜，已結，下同）於民國（下同）98年10月14日出監後，自99年6月起...</td>\n    </tr>\n    <tr>\n      <td>13</td>\n      <td>臺灣新北地方法院</td>\n      <td>2014-01-14T00:00:00+08:00</td>\n      <td>102,矚訴緝,2</td>\n      <td>刑事</td>\n      <td>妨害風化</td>\n      <td>判決</td>\n      <td>JULAIKAH共同意圖使女子與他人為性交之行為，而媒介以營利，處有期徒刑肆月，如易科罰金，...</td>\n      <td>臺灣新北地方法院刑事判決102年度矚訴緝字第1號2號公訴人臺灣新北地方法院檢察署檢察官被告J...</td>\n      <td>臺灣新北地方法院刑事判決102年度矚訴緝字第1號2號公訴人臺灣新北地方法院檢察署檢察官被告J...</td>\n      <td>JULAIKAH（綽號「雯雯」）明知楊育勝(綽號阿文)、陳雅文（綽號「姊姊」；楊育勝、陳雅文...</td>\n    </tr>\n    <tr>\n      <td>23</td>\n      <td>臺灣新北地方法院</td>\n      <td>2015-09-24T00:00:00+08:00</td>\n      <td>104,原訴,20</td>\n      <td>刑事</td>\n      <td>毒品危害防制條例</td>\n      <td>判決</td>\n      <td>林景雲施用第二級毒品，累犯，處有期徒刑陸月，如易科罰金，以新臺幣壹仟元折算壹日。又施用第一級...</td>\n      <td>臺灣新北地方法院刑事判決104年度原訴字第20號公訴人臺灣新北地方法院檢察署檢察官被告林景雲...</td>\n      <td>臺灣新北地方法院刑事判決104年度原訴字第20號公訴人臺灣新北地方法院檢察署檢察官被告林景雲...</td>\n      <td>林景雲前因施用毒品案件，經臺灣桃園地方法院以97年度毒聲字第1536號裁定送觀察、勒戒後，認...</td>\n    </tr>\n    <tr>\n      <td>24</td>\n      <td>臺灣新北地方法院</td>\n      <td>2015-11-06T00:00:00+08:00</td>\n      <td>104,原訴,27</td>\n      <td>刑事</td>\n      <td>毒品危害防制條例</td>\n      <td>判決</td>\n      <td>楊寶珍施用第一級毒品，累犯，處有期徒刑玖月。扣案之第一級毒品海洛因（驗餘淨重零點零捌參壹公克...</td>\n      <td>臺灣新北地方法院刑事判決104年度原訴字第27號公訴人臺灣新北地方法院檢察署檢察官被告楊寶珍...</td>\n      <td>臺灣新北地方法院刑事判決104年度原訴字第27號公訴人臺灣新北地方法院檢察署檢察官被告楊寶珍...</td>\n      <td>104年4月19日上午某時許（起訴書略為：於104年4月19日18時5分許為警採尿時點回溯2...</td>\n    </tr>\n  </tbody>\n</table>\n</div>"
     },
     "metadata": {},
     "output_type": "execute_result",
     "execution_count": 50
    }
   ],
   "source": [
    "df2=df[~df.index.isin(df1.index)]\n",
    "df2.head()"
   ],
   "metadata": {
    "collapsed": false,
    "pycharm": {
     "name": "#%%\n",
     "is_executing": false
    }
   }
  },
  {
   "cell_type": "code",
   "execution_count": 51,
   "outputs": [],
   "source": [
    "class Data(object):\n",
    "    def __init__(self):\n",
    "        self.paragraphs = []\n",
    "        self.id = \"0\"\n",
    "        self.title = \"\"\n",
    "\n",
    "class Djson(object):\n",
    "    def __init__(self):\n",
    "        self.version = \"v1.0\"\n",
    "        self.data = []\n",
    " "
   ],
   "metadata": {
    "collapsed": false,
    "pycharm": {
     "name": "#%%\n",
     "is_executing": false
    }
   }
  },
  {
   "cell_type": "code",
   "execution_count": 52,
   "outputs": [],
   "source": [
    "djson1 = Djson()\n",
    "for index, row in df1.iterrows():\n",
    "    try:\n",
    "        d = Data()\n",
    "        d.paragraphs = [{\"id\" : \"TRAIN_\" + str(index), \n",
    "                      \"context\" : row.judgement_SIT, \n",
    "                      \"qas\":[{\n",
    "                          \"question\" : \"請問此份法律判決書的情境內容為何?\",\n",
    "                          \"id\" : \"TRAIN_\" + str(index) + \"_QUERY_0\",\n",
    "                          \"answers\" :[{\n",
    "                              \"text\" : row.Situation,\n",
    "                              \"answer_start\" : row.judgement_SIT.index(\"[SIT]\") + 5\n",
    "                          }]\n",
    "                      }]\n",
    "                    }\n",
    "                    ]\n",
    "        d.id = \"TRAIN_\" + str(index)\n",
    "        d.title = row.no\n",
    "        djson1.data.append(d)\n",
    "    except:\n",
    "        print(index)\n",
    "        print(row.no)"
   ],
   "metadata": {
    "collapsed": false,
    "pycharm": {
     "name": "#%%\n",
     "is_executing": false
    }
   }
  },
  {
   "cell_type": "code",
   "execution_count": 53,
   "outputs": [],
   "source": [
    "y = json.dumps(djson1, default=lambda o: o.__dict__, ensure_ascii=False)"
   ],
   "metadata": {
    "collapsed": false,
    "pycharm": {
     "name": "#%%\n",
     "is_executing": false
    }
   }
  },
  {
   "cell_type": "code",
   "execution_count": 63,
   "outputs": [],
   "source": [
    "with open('./QA_Test1/CQABert/data/train_200.json', 'w', encoding='utf8') as outfile:\n",
    "    json.dump(djson1, outfile, default=lambda o: o.__dict__ , ensure_ascii=False)\n",
    "    "
   ],
   "metadata": {
    "collapsed": false,
    "pycharm": {
     "name": "#%%\n",
     "is_executing": false
    }
   }
  },
  {
   "cell_type": "code",
   "execution_count": 54,
   "outputs": [],
   "source": [],
   "metadata": {
    "collapsed": false,
    "pycharm": {
     "name": "#%%\n",
     "is_executing": false
    }
   }
  },
  {
   "cell_type": "code",
   "execution_count": 55,
   "outputs": [
    {
     "name": "stdout",
     "text": [
      "121\n95,矚訴,8\n"
     ],
     "output_type": "stream"
    }
   ],
   "source": [
    "djson2 = Djson()\n",
    "for index, row in df2.iterrows():\n",
    "    try:\n",
    "        d = Data()\n",
    "        d.paragraphs = [{\"id\" : \"TRAIN_\" + str(index), \n",
    "                      \"context\" : row.judgement_SIT, \n",
    "                      \"qas\":[{\n",
    "                          \"question\" : \"請問此份法律判決書的情境內容為何?\",\n",
    "                          \"id\" : \"TRAIN_\" + str(index) + \"_QUERY_0\",\n",
    "                          \"answers\" :[{\n",
    "                              \"text\" : row.Situation,\n",
    "                              \"answer_start\" : row.judgement_SIT.index(\"[SIT]\") + 5\n",
    "                          }]\n",
    "                      }]\n",
    "                    }\n",
    "                    ]\n",
    "        d.id = \"TRAIN_\" + str(index)\n",
    "        d.title = row.no\n",
    "        djson2.data.append(d)\n",
    "    except:\n",
    "        print(index)\n",
    "        print(row.no)"
   ],
   "metadata": {
    "collapsed": false,
    "pycharm": {
     "name": "#%%\n",
     "is_executing": false
    }
   }
  },
  {
   "cell_type": "code",
   "execution_count": 56,
   "outputs": [],
   "source": [
    "y = json.dumps(djson2, default=lambda o: o.__dict__, ensure_ascii=False)"
   ],
   "metadata": {
    "collapsed": false,
    "pycharm": {
     "name": "#%%\n",
     "is_executing": false
    }
   }
  },
  {
   "cell_type": "code",
   "execution_count": 64,
   "outputs": [],
   "source": [
    "with open('./QA_Test1/CQABert/data/test_200.json', 'w', encoding='utf8') as outfile:\n",
    "    json.dump(djson2, outfile, default=lambda o: o.__dict__ , ensure_ascii=False)\n",
    "    "
   ],
   "metadata": {
    "collapsed": false,
    "pycharm": {
     "name": "#%%\n",
     "is_executing": false
    }
   }
  }
 ],
 "metadata": {
  "kernelspec": {
   "display_name": "Python 3",
   "language": "python",
   "name": "python3"
  },
  "language_info": {
   "codemirror_mode": {
    "name": "ipython",
    "version": 3
   },
   "file_extension": ".py",
   "mimetype": "text/x-python",
   "name": "python",
   "nbconvert_exporter": "python",
   "pygments_lexer": "ipython3",
   "version": "3.6.4"
  },
  "pycharm": {
   "stem_cell": {
    "cell_type": "raw",
    "source": [],
    "metadata": {
     "collapsed": false
    }
   }
  }
 },
 "nbformat": 4,
 "nbformat_minor": 2
}