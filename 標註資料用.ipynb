{
 "cells": [
  {
   "cell_type": "code",
   "execution_count": 1,
   "metadata": {},
   "outputs": [
    {
     "name": "stdout",
     "output_type": "stream",
     "text": [
      "106,易,1093_.json\n"
     ]
    }
   ],
   "source": [
    "import os, json \n",
    "import pandas as pd \n",
    "\n",
    "path_to_json = 'J:\\Legal_Judgment\\臺灣新北地方法院_改_V2'\n",
    "json_files = [pos_json for pos_json in os.listdir(path_to_json) if pos_json.endswith('.json')] \n",
    "print(json_files[0])"
   ]
  },
  {
   "cell_type": "code",
   "execution_count": 2,
   "metadata": {},
   "outputs": [],
   "source": [
    "with open('J://Legal_Judgment//臺灣新北地方法院_改_V2//'+json_files[0],\"r\",encoding=\"utf-8\") as f:\n",
    "    dt = json.load(f)"
   ]
  },
  {
   "cell_type": "code",
   "execution_count": 3,
   "metadata": {},
   "outputs": [
    {
     "data": {
      "text/plain": "   id     court                       date          no sys reason type  \\\n0   0  臺灣桃園地方法院  2018-04-18T00:00:00+08:00  106,易,1093  刑事   妨害公務   判決   \n\n                                  mainText  \\\n0  邱建豪犯妨害公務執行罪，累犯，處拘役拾日，如易科罰金，以新臺幣壹仟元折算壹日。   \n\n                                           judgement  \\\n0  臺灣桃園地方法院刑事判決106年度易字第1093號公訴人臺灣桃園地方法院檢察署檢察官被告邱建...   \n\n                                           Situation  \n0  邱建豪於民國106年5月1日下午5時15分許，在桃園市○○區○○路000號桃園市政府警察局桃...  ",
      "text/html": "<div>\n<style scoped>\n    .dataframe tbody tr th:only-of-type {\n        vertical-align: middle;\n    }\n\n    .dataframe tbody tr th {\n        vertical-align: top;\n    }\n\n    .dataframe thead th {\n        text-align: right;\n    }\n</style>\n<table border=\"1\" class=\"dataframe\">\n  <thead>\n    <tr style=\"text-align: right;\">\n      <th></th>\n      <th>id</th>\n      <th>court</th>\n      <th>date</th>\n      <th>no</th>\n      <th>sys</th>\n      <th>reason</th>\n      <th>type</th>\n      <th>mainText</th>\n      <th>judgement</th>\n      <th>Situation</th>\n    </tr>\n  </thead>\n  <tbody>\n    <tr>\n      <td>0</td>\n      <td>0</td>\n      <td>臺灣桃園地方法院</td>\n      <td>2018-04-18T00:00:00+08:00</td>\n      <td>106,易,1093</td>\n      <td>刑事</td>\n      <td>妨害公務</td>\n      <td>判決</td>\n      <td>邱建豪犯妨害公務執行罪，累犯，處拘役拾日，如易科罰金，以新臺幣壹仟元折算壹日。</td>\n      <td>臺灣桃園地方法院刑事判決106年度易字第1093號公訴人臺灣桃園地方法院檢察署檢察官被告邱建...</td>\n      <td>邱建豪於民國106年5月1日下午5時15分許，在桃園市○○區○○路000號桃園市政府警察局桃...</td>\n    </tr>\n  </tbody>\n</table>\n</div>"
     },
     "execution_count": 3,
     "metadata": {},
     "output_type": "execute_result"
    }
   ],
   "source": [
    "dic = {\n",
    "    \"id\": 0,\n",
    "    \"court\": [dt[\"court\"]], \n",
    "    \"date\": [dt[\"date\"]],\n",
    "    \"no\": [dt[\"no\"]],\n",
    "    \"sys\": [dt[\"sys\"]],\n",
    "    \"reason\": [dt[\"reason\"]],\n",
    "    \"type\": [dt[\"type\"]],\n",
    "    \"mainText\": [dt[\"mainText\"]],\n",
    "    \"judgement\": [dt[\"judgement\"]],\n",
    "    #\"judgement_SIT\": [dt[\"judgement_SIT\"]],\n",
    "    \"Situation\": [dt[\"Situation\"]]\n",
    "}\n",
    "df = pd.DataFrame(dic)\n",
    "df"
   ]
  },
  {
   "cell_type": "code",
   "execution_count": 4,
   "metadata": {},
   "outputs": [
    {
     "name": "stdout",
     "output_type": "stream",
     "text": [
      "77\n",
      "250\n",
      "254\n",
      "332\n",
      "346\n",
      "436\n",
      "1481\n",
      "1807\n",
      "2147\n",
      "3643\n",
      "3873\n"
     ]
    }
   ],
   "source": [
    "for x in range(1,len(json_files)):\n",
    "    with open('J://Legal_Judgment//臺灣新北地方法院_改_V2//'+json_files[x],\"r\",encoding=\"utf-8\") as f:\n",
    "        dt = json.load(f)\n",
    "    #ltmp = [225,1156,1215,1056,22,33,235,676,778]\n",
    "    #if (x in ltmp):\n",
    "    #    continue\n",
    "    \n",
    "    try:\n",
    "        if (str(dt[\"judgement\"]).index(str(dt[\"Situation\"])) < 0):\n",
    "            continue \n",
    "        if (len(str(dt[\"Situation\"])) > 512):\n",
    "            continue\n",
    "        new = pd.DataFrame({\n",
    "        \"id\" : x,\n",
    "        \"court\": [dt[\"court\"]], \n",
    "        \"date\": [dt[\"date\"]],\n",
    "        \"no\": [dt[\"no\"]],\n",
    "        \"sys\": [dt[\"sys\"]],\n",
    "        \"reason\": [dt[\"reason\"]],\n",
    "        \"type\": [dt[\"type\"]],\n",
    "        \"mainText\": [dt[\"mainText\"]],\n",
    "        \"judgement\": [dt[\"judgement\"]],\n",
    "        #\"judgement_SIT\": [dt[\"judgement_SIT\"]],\n",
    "        \"Situation\": [dt[\"Situation\"]]\n",
    "        })\n",
    "        \n",
    "        df = df.append(new)\n",
    "\n",
    "    except:\n",
    "        print(x)\n"
   ]
  },
  {
   "cell_type": "code",
   "execution_count": 5,
   "metadata": {},
   "outputs": [],
   "source": [
    "#df.to_csv('J://Legal_Judgment//Result.csv', index=0) "
   ]
  },
  {
   "cell_type": "code",
   "execution_count": 6,
   "outputs": [
    {
     "data": {
      "text/plain": "id           3350\ncourt        3350\ndate         3350\nno           3350\nsys          3350\nreason       3350\ntype         3350\nmainText     3350\njudgement    3350\nSituation    3350\ndtype: int64"
     },
     "execution_count": 6,
     "metadata": {},
     "output_type": "execute_result"
    }
   ],
   "source": [
    "#df = (pd.read_csv('J://Legal_Judgment//Result.csv', index_col=0))\n",
    "df.count()"
   ],
   "metadata": {
    "collapsed": false,
    "pycharm": {
     "name": "#%%\n"
    }
   }
  },
  {
   "cell_type": "code",
   "execution_count": 7,
   "outputs": [
    {
     "data": {
      "text/plain": "    id     court                       date          no sys      reason type  \\\n0  259  臺灣臺南地方法院  2011-09-30T00:00:00+08:00  100,訴,1001  刑事  違反毒品危害防制條例   判決   \n0  260  臺灣臺南地方法院  2011-10-11T00:00:00+08:00  100,訴,1002  刑事  違反毒品危害防制條例   判決   \n0  263  臺灣臺南地方法院  2011-09-28T00:00:00+08:00  100,訴,1010  刑事  違反毒品危害防制條例   判決   \n0  264  臺灣臺南地方法院  2011-09-09T00:00:00+08:00  100,訴,1014  刑事  違反毒品危害防制條例   判決   \n\n                                            mainText  \\\n0     劉明展施用第一級毒品，處有期徒刑柒月。又施用第二級毒品，處有期徒刑參月。應執行有期徒刑捌月。   \n0                             簡有勇施用第一級毒品，累犯，處有期徒刑拾月。   \n0  蔡慶銘施用第二級毒品，累犯，處有期徒刑參月。又施用第一級毒品，累犯，處有期徒刑玖月。又施用第...   \n0  陳育仁施用第一級毒品，累犯，處有期徒刑拾月，扣案之針筒壹支及殘渣袋壹個均沒收；又施用第二級毒...   \n\n                                           judgement  \\\n0  臺灣臺南地方法院刑事判決100年度訴字第1001號公訴人臺灣臺南地方法院檢察署檢察官被告劉明...   \n0  臺灣臺南地方法院刑事判決100年度訴字第1002號公訴人臺灣臺南地方法院檢察署檢察官被告簡有...   \n0  臺灣臺南地方法院刑事判決100年度訴字第1029號公訴人臺灣臺南地方法院檢察署檢察官被告蔡慶...   \n0  臺灣臺南地方法院刑事判決100年度訴字第1014號公訴人臺灣臺南地方法院檢察署檢察官被告陳育...   \n\n                                           Situation  \n0  於九十九年十月六日某時許，在其位於臺南市○區○○街二段七九巷一四號之一之住處房間內，以將第一...  \n0  於一○○年五月二日上午十一時七分許（採尿時）往前回溯二十六小時內之某時許，在其友人位於高雄市...  \n0  於100年4月5日凌晨0時30分許，在臺南市○○區○○路41號5樓之7租屋處，同時將第一級毒...  \n0  於100年6月24日15時30分許在臺南市柳營區○○○路○段490巷9號住處之浴室內，以將海...  ",
      "text/html": "<div>\n<style scoped>\n    .dataframe tbody tr th:only-of-type {\n        vertical-align: middle;\n    }\n\n    .dataframe tbody tr th {\n        vertical-align: top;\n    }\n\n    .dataframe thead th {\n        text-align: right;\n    }\n</style>\n<table border=\"1\" class=\"dataframe\">\n  <thead>\n    <tr style=\"text-align: right;\">\n      <th></th>\n      <th>id</th>\n      <th>court</th>\n      <th>date</th>\n      <th>no</th>\n      <th>sys</th>\n      <th>reason</th>\n      <th>type</th>\n      <th>mainText</th>\n      <th>judgement</th>\n      <th>Situation</th>\n    </tr>\n  </thead>\n  <tbody>\n    <tr>\n      <td>0</td>\n      <td>259</td>\n      <td>臺灣臺南地方法院</td>\n      <td>2011-09-30T00:00:00+08:00</td>\n      <td>100,訴,1001</td>\n      <td>刑事</td>\n      <td>違反毒品危害防制條例</td>\n      <td>判決</td>\n      <td>劉明展施用第一級毒品，處有期徒刑柒月。又施用第二級毒品，處有期徒刑參月。應執行有期徒刑捌月。</td>\n      <td>臺灣臺南地方法院刑事判決100年度訴字第1001號公訴人臺灣臺南地方法院檢察署檢察官被告劉明...</td>\n      <td>於九十九年十月六日某時許，在其位於臺南市○區○○街二段七九巷一四號之一之住處房間內，以將第一...</td>\n    </tr>\n    <tr>\n      <td>0</td>\n      <td>260</td>\n      <td>臺灣臺南地方法院</td>\n      <td>2011-10-11T00:00:00+08:00</td>\n      <td>100,訴,1002</td>\n      <td>刑事</td>\n      <td>違反毒品危害防制條例</td>\n      <td>判決</td>\n      <td>簡有勇施用第一級毒品，累犯，處有期徒刑拾月。</td>\n      <td>臺灣臺南地方法院刑事判決100年度訴字第1002號公訴人臺灣臺南地方法院檢察署檢察官被告簡有...</td>\n      <td>於一○○年五月二日上午十一時七分許（採尿時）往前回溯二十六小時內之某時許，在其友人位於高雄市...</td>\n    </tr>\n    <tr>\n      <td>0</td>\n      <td>263</td>\n      <td>臺灣臺南地方法院</td>\n      <td>2011-09-28T00:00:00+08:00</td>\n      <td>100,訴,1010</td>\n      <td>刑事</td>\n      <td>違反毒品危害防制條例</td>\n      <td>判決</td>\n      <td>蔡慶銘施用第二級毒品，累犯，處有期徒刑參月。又施用第一級毒品，累犯，處有期徒刑玖月。又施用第...</td>\n      <td>臺灣臺南地方法院刑事判決100年度訴字第1029號公訴人臺灣臺南地方法院檢察署檢察官被告蔡慶...</td>\n      <td>於100年4月5日凌晨0時30分許，在臺南市○○區○○路41號5樓之7租屋處，同時將第一級毒...</td>\n    </tr>\n    <tr>\n      <td>0</td>\n      <td>264</td>\n      <td>臺灣臺南地方法院</td>\n      <td>2011-09-09T00:00:00+08:00</td>\n      <td>100,訴,1014</td>\n      <td>刑事</td>\n      <td>違反毒品危害防制條例</td>\n      <td>判決</td>\n      <td>陳育仁施用第一級毒品，累犯，處有期徒刑拾月，扣案之針筒壹支及殘渣袋壹個均沒收；又施用第二級毒...</td>\n      <td>臺灣臺南地方法院刑事判決100年度訴字第1014號公訴人臺灣臺南地方法院檢察署檢察官被告陳育...</td>\n      <td>於100年6月24日15時30分許在臺南市柳營區○○○路○段490巷9號住處之浴室內，以將海...</td>\n    </tr>\n  </tbody>\n</table>\n</div>"
     },
     "execution_count": 7,
     "metadata": {},
     "output_type": "execute_result"
    }
   ],
   "source": [
    "df[df['reason'] == ('違反毒品危害防制條例')].head(10)"
   ],
   "metadata": {
    "collapsed": false,
    "pycharm": {
     "name": "#%%\n"
    }
   }
  },
  {
   "cell_type": "code",
   "execution_count": 8,
   "metadata": {},
   "outputs": [
    {
     "data": {
      "text/plain": "   id     court                       date            no sys reason type  \\\n0   0  臺灣桃園地方法院  2018-04-18T00:00:00+08:00    106,易,1093  刑事   妨害公務   判決   \n0   1  臺灣臺中地方法院  2011-05-19T00:00:00+08:00  100,中交簡,1002  刑事   公共危險   判決   \n0   2  臺灣臺中地方法院  2011-01-25T00:00:00+08:00   100,中交簡,100  刑事   公共危險   判決   \n0   3  臺灣臺中地方法院  2011-05-12T00:00:00+08:00  100,中交簡,1016  刑事   公共危險   判決   \n0   4  臺灣臺中地方法院  2011-06-13T00:00:00+08:00  100,中交簡,1106  刑事   公共危險   判決   \n0   5  臺灣臺中地方法院  2011-05-17T00:00:00+08:00   100,中簡,1001  刑事     竊盜   判決   \n0   6  臺灣臺中地方法院  2011-04-25T00:00:00+08:00   100,中簡,1011  刑事     賭博   判決   \n0   7  臺灣臺中地方法院  2011-04-25T00:00:00+08:00   100,中簡,1023  刑事   妨害風化   判決   \n0   8  臺灣臺中地方法院  2011-04-26T00:00:00+08:00   100,中簡,1039  刑事   妨害風化   判決   \n0   9  臺灣臺中地方法院  2011-04-25T00:00:00+08:00   100,中簡,1040  刑事     竊盜   判決   \n\n                                            mainText  \\\n0            邱建豪犯妨害公務執行罪，累犯，處拘役拾日，如易科罰金，以新臺幣壹仟元折算壹日。   \n0  王炎權服用酒類，不能安全駕駛動力交通工具而駕駛，處拘役伍拾日，如易科罰金，以新臺幣壹仟元折算壹日。   \n0  林耀明服用酒類，不能安全駕駛動力交通工具而駕駛，處拘役伍拾伍日，如易科罰金，以新臺幣壹仟元折...   \n0     朱建鴻犯不能安全駕駛動力交通工具罪，處罰金新台幣伍萬元，如易服勞役，以新臺幣壹仟元折算壹日。   \n0  洪國棋服用酒類，不能安全駕駛動力交通工具而駕駛，處拘役伍拾日，如易科罰金，以新臺幣壹仟元折算壹日。   \n0  陳守仁竊盜，三罪，均累犯，各處罰金新臺幣壹萬元、壹萬元、伍仟元，如易服勞役，均以新臺幣壹仟元...   \n0  張昔霞意圖營利聚眾賭博，累犯，處有期徒刑陸月，如易科罰金，以新臺幣壹仟元折算壹日。扣案錄音機...   \n0  許其昌共同意圖使女子與他人為性交之行為，而媒介以營利，處有期徒刑肆月，如易科罰金，以新臺幣壹...   \n0  陳軍豪共同犯圖利媒介性交罪，累犯，處有期徒刑伍月，如易科罰金，以新臺幣壹仟元折算壹日。扣案N...   \n0               詹金龍犯竊盜罪，處罰金新臺幣壹萬元，如易服勞役，以新臺幣壹仟元折算壹日。   \n\n                                           judgement  \\\n0  臺灣桃園地方法院刑事判決106年度易字第1093號公訴人臺灣桃園地方法院檢察署檢察官被告邱建...   \n0  臺灣臺中地方法院刑事簡易判決100年度中交簡字第1002號聲請人臺灣臺中地方法院檢察署檢察官...   \n0  臺灣臺中地方法院刑事簡易判決100年度中交簡字第100號聲請人臺灣臺中地方法院檢察署檢察官被...   \n0  臺灣臺中地方法院刑事簡易判決100年度中交簡字第1016號聲請人臺灣臺中地方法院檢察署檢察官...   \n0  臺灣臺中地方法院刑事簡易判決100年度中交簡字第1106號聲請人臺灣臺中地方法院檢察署檢察官...   \n0  臺灣臺中地方法院刑事簡易判決100年度中簡字第1001號聲請人臺灣臺中地方法院檢察署檢察官被...   \n0  臺灣臺中地方法院刑事簡易判決100年度中簡字第1011號聲請人臺灣臺中地方法院檢察署檢察官被...   \n0  臺灣臺中地方法院刑事簡易判決100年度中簡字第1023號聲請人臺灣臺中地方法院檢察署檢察官被...   \n0  臺灣臺中地方法院刑事簡易判決100年度中簡字第1039號聲請人臺灣臺中地方法院檢察署檢察官被...   \n0  臺灣臺中地方法院刑事簡易判決100年度中簡字第1040號聲請人臺灣臺中地方法院檢察署檢察官被...   \n\n                                           Situation  \n0  邱建豪於民國106年5月1日下午5時15分許，在桃園市○○區○○路000號桃園市政府警察局桃...  \n0  王炎權於民國100年4月8日晚間9時30分許起至翌日凌晨3時許止，在彰化縣芬園鄉○○路○段2...  \n0  林耀明於民國99年10月22日下午4時許起至5時許止，在臺中市○○區○○路與豐樂路交岔路口附...  \n0  朱建鴻於民國100年4月19日晚間9時許起，在臺中市大雅區清泉崗友人住處內飲用啤酒，至同日晚...  \n0  洪國棋於民國100年4月28日晚間7時許起至同日晚間8時30分許止，在臺中市○里區○○路21...  \n0  被告陳守仁為高職畢業擔任保全之男子，竟不思以正常手段獲取財物，因一時貪念，以徒手竊取該超商內...  \n0  詎其不知悔改，復基於賭博及意圖營利供給賭博場所、聚眾賭博之犯意，自民國100年1月25日起，...  \n0  許其昌係址設臺中市○區○○○路374號「左岸國際美容生活館」(下稱左岸美容館)之負責人，而李...  \n0  詎不知悔改，另行與真實姓名年籍不詳綽號「大姐」之成年女子，共同基於意圖使他人為性交行為而媒介...  \n0  於民國100年3月25日5時30分許，在臺中市南區永興5巷42號前，徒手竊取劉清智所有放置該...  ",
      "text/html": "<div>\n<style scoped>\n    .dataframe tbody tr th:only-of-type {\n        vertical-align: middle;\n    }\n\n    .dataframe tbody tr th {\n        vertical-align: top;\n    }\n\n    .dataframe thead th {\n        text-align: right;\n    }\n</style>\n<table border=\"1\" class=\"dataframe\">\n  <thead>\n    <tr style=\"text-align: right;\">\n      <th></th>\n      <th>id</th>\n      <th>court</th>\n      <th>date</th>\n      <th>no</th>\n      <th>sys</th>\n      <th>reason</th>\n      <th>type</th>\n      <th>mainText</th>\n      <th>judgement</th>\n      <th>Situation</th>\n    </tr>\n  </thead>\n  <tbody>\n    <tr>\n      <td>0</td>\n      <td>0</td>\n      <td>臺灣桃園地方法院</td>\n      <td>2018-04-18T00:00:00+08:00</td>\n      <td>106,易,1093</td>\n      <td>刑事</td>\n      <td>妨害公務</td>\n      <td>判決</td>\n      <td>邱建豪犯妨害公務執行罪，累犯，處拘役拾日，如易科罰金，以新臺幣壹仟元折算壹日。</td>\n      <td>臺灣桃園地方法院刑事判決106年度易字第1093號公訴人臺灣桃園地方法院檢察署檢察官被告邱建...</td>\n      <td>邱建豪於民國106年5月1日下午5時15分許，在桃園市○○區○○路000號桃園市政府警察局桃...</td>\n    </tr>\n    <tr>\n      <td>0</td>\n      <td>1</td>\n      <td>臺灣臺中地方法院</td>\n      <td>2011-05-19T00:00:00+08:00</td>\n      <td>100,中交簡,1002</td>\n      <td>刑事</td>\n      <td>公共危險</td>\n      <td>判決</td>\n      <td>王炎權服用酒類，不能安全駕駛動力交通工具而駕駛，處拘役伍拾日，如易科罰金，以新臺幣壹仟元折算壹日。</td>\n      <td>臺灣臺中地方法院刑事簡易判決100年度中交簡字第1002號聲請人臺灣臺中地方法院檢察署檢察官...</td>\n      <td>王炎權於民國100年4月8日晚間9時30分許起至翌日凌晨3時許止，在彰化縣芬園鄉○○路○段2...</td>\n    </tr>\n    <tr>\n      <td>0</td>\n      <td>2</td>\n      <td>臺灣臺中地方法院</td>\n      <td>2011-01-25T00:00:00+08:00</td>\n      <td>100,中交簡,100</td>\n      <td>刑事</td>\n      <td>公共危險</td>\n      <td>判決</td>\n      <td>林耀明服用酒類，不能安全駕駛動力交通工具而駕駛，處拘役伍拾伍日，如易科罰金，以新臺幣壹仟元折...</td>\n      <td>臺灣臺中地方法院刑事簡易判決100年度中交簡字第100號聲請人臺灣臺中地方法院檢察署檢察官被...</td>\n      <td>林耀明於民國99年10月22日下午4時許起至5時許止，在臺中市○○區○○路與豐樂路交岔路口附...</td>\n    </tr>\n    <tr>\n      <td>0</td>\n      <td>3</td>\n      <td>臺灣臺中地方法院</td>\n      <td>2011-05-12T00:00:00+08:00</td>\n      <td>100,中交簡,1016</td>\n      <td>刑事</td>\n      <td>公共危險</td>\n      <td>判決</td>\n      <td>朱建鴻犯不能安全駕駛動力交通工具罪，處罰金新台幣伍萬元，如易服勞役，以新臺幣壹仟元折算壹日。</td>\n      <td>臺灣臺中地方法院刑事簡易判決100年度中交簡字第1016號聲請人臺灣臺中地方法院檢察署檢察官...</td>\n      <td>朱建鴻於民國100年4月19日晚間9時許起，在臺中市大雅區清泉崗友人住處內飲用啤酒，至同日晚...</td>\n    </tr>\n    <tr>\n      <td>0</td>\n      <td>4</td>\n      <td>臺灣臺中地方法院</td>\n      <td>2011-06-13T00:00:00+08:00</td>\n      <td>100,中交簡,1106</td>\n      <td>刑事</td>\n      <td>公共危險</td>\n      <td>判決</td>\n      <td>洪國棋服用酒類，不能安全駕駛動力交通工具而駕駛，處拘役伍拾日，如易科罰金，以新臺幣壹仟元折算壹日。</td>\n      <td>臺灣臺中地方法院刑事簡易判決100年度中交簡字第1106號聲請人臺灣臺中地方法院檢察署檢察官...</td>\n      <td>洪國棋於民國100年4月28日晚間7時許起至同日晚間8時30分許止，在臺中市○里區○○路21...</td>\n    </tr>\n    <tr>\n      <td>0</td>\n      <td>5</td>\n      <td>臺灣臺中地方法院</td>\n      <td>2011-05-17T00:00:00+08:00</td>\n      <td>100,中簡,1001</td>\n      <td>刑事</td>\n      <td>竊盜</td>\n      <td>判決</td>\n      <td>陳守仁竊盜，三罪，均累犯，各處罰金新臺幣壹萬元、壹萬元、伍仟元，如易服勞役，均以新臺幣壹仟元...</td>\n      <td>臺灣臺中地方法院刑事簡易判決100年度中簡字第1001號聲請人臺灣臺中地方法院檢察署檢察官被...</td>\n      <td>被告陳守仁為高職畢業擔任保全之男子，竟不思以正常手段獲取財物，因一時貪念，以徒手竊取該超商內...</td>\n    </tr>\n    <tr>\n      <td>0</td>\n      <td>6</td>\n      <td>臺灣臺中地方法院</td>\n      <td>2011-04-25T00:00:00+08:00</td>\n      <td>100,中簡,1011</td>\n      <td>刑事</td>\n      <td>賭博</td>\n      <td>判決</td>\n      <td>張昔霞意圖營利聚眾賭博，累犯，處有期徒刑陸月，如易科罰金，以新臺幣壹仟元折算壹日。扣案錄音機...</td>\n      <td>臺灣臺中地方法院刑事簡易判決100年度中簡字第1011號聲請人臺灣臺中地方法院檢察署檢察官被...</td>\n      <td>詎其不知悔改，復基於賭博及意圖營利供給賭博場所、聚眾賭博之犯意，自民國100年1月25日起，...</td>\n    </tr>\n    <tr>\n      <td>0</td>\n      <td>7</td>\n      <td>臺灣臺中地方法院</td>\n      <td>2011-04-25T00:00:00+08:00</td>\n      <td>100,中簡,1023</td>\n      <td>刑事</td>\n      <td>妨害風化</td>\n      <td>判決</td>\n      <td>許其昌共同意圖使女子與他人為性交之行為，而媒介以營利，處有期徒刑肆月，如易科罰金，以新臺幣壹...</td>\n      <td>臺灣臺中地方法院刑事簡易判決100年度中簡字第1023號聲請人臺灣臺中地方法院檢察署檢察官被...</td>\n      <td>許其昌係址設臺中市○區○○○路374號「左岸國際美容生活館」(下稱左岸美容館)之負責人，而李...</td>\n    </tr>\n    <tr>\n      <td>0</td>\n      <td>8</td>\n      <td>臺灣臺中地方法院</td>\n      <td>2011-04-26T00:00:00+08:00</td>\n      <td>100,中簡,1039</td>\n      <td>刑事</td>\n      <td>妨害風化</td>\n      <td>判決</td>\n      <td>陳軍豪共同犯圖利媒介性交罪，累犯，處有期徒刑伍月，如易科罰金，以新臺幣壹仟元折算壹日。扣案N...</td>\n      <td>臺灣臺中地方法院刑事簡易判決100年度中簡字第1039號聲請人臺灣臺中地方法院檢察署檢察官被...</td>\n      <td>詎不知悔改，另行與真實姓名年籍不詳綽號「大姐」之成年女子，共同基於意圖使他人為性交行為而媒介...</td>\n    </tr>\n    <tr>\n      <td>0</td>\n      <td>9</td>\n      <td>臺灣臺中地方法院</td>\n      <td>2011-04-25T00:00:00+08:00</td>\n      <td>100,中簡,1040</td>\n      <td>刑事</td>\n      <td>竊盜</td>\n      <td>判決</td>\n      <td>詹金龍犯竊盜罪，處罰金新臺幣壹萬元，如易服勞役，以新臺幣壹仟元折算壹日。</td>\n      <td>臺灣臺中地方法院刑事簡易判決100年度中簡字第1040號聲請人臺灣臺中地方法院檢察署檢察官被...</td>\n      <td>於民國100年3月25日5時30分許，在臺中市南區永興5巷42號前，徒手竊取劉清智所有放置該...</td>\n    </tr>\n  </tbody>\n</table>\n</div>"
     },
     "execution_count": 8,
     "metadata": {},
     "output_type": "execute_result"
    }
   ],
   "source": [
    "df[df['reason'].str.contains ('')].head(10)"
   ]
  },
  {
   "cell_type": "code",
   "execution_count": 9,
   "metadata": {},
   "outputs": [
    {
     "data": {
      "text/plain": "    id     court                       date          no sys reason type  \\\n0  172  臺灣臺南地方法院  2011-11-30T00:00:00+08:00  100,交訴,143  刑事   公共危險   判決   \n0  173  臺灣臺南地方法院  2011-11-30T00:00:00+08:00  100,交訴,145  刑事   公共危險   判決   \n0  174  臺灣臺南地方法院  2011-12-28T00:00:00+08:00  100,交訴,151  刑事   公共危險   判決   \n0  175  臺灣臺南地方法院  2011-12-12T00:00:00+08:00  100,交訴,154  刑事   公共危險   判決   \n0  176  臺灣臺南地方法院  2012-01-18T00:00:00+08:00  100,交訴,157  刑事   公共危險   判決   \n0  177  臺灣臺南地方法院  2011-12-12T00:00:00+08:00  100,交訴,158  刑事   公共危險   判決   \n0  178  臺灣臺南地方法院  2011-12-21T00:00:00+08:00  100,交訴,160  刑事   公共危險   判決   \n0  179  臺灣臺南地方法院  2012-03-07T00:00:00+08:00  100,交訴,167  刑事   公共危險   判決   \n0  180  臺灣臺南地方法院  2012-01-11T00:00:00+08:00  100,交訴,169  刑事   公共危險   判決   \n0  181  臺灣臺南地方法院  2012-01-11T00:00:00+08:00  100,交訴,172  刑事   公共危險   判決   \n\n                                            mainText  \\\n0  居盛川服用酒類，不能安全駕駛動力交通工具而駕駛，處拘役伍拾日，如易科罰金，以新臺幣壹仟元折算...   \n0  吳家寶駕駛動力交通工具肇事，致人傷而逃逸，處有期徒刑陸月，如易科罰金，以新臺幣壹仟元折算壹日...   \n0  趙平義駕駛動力交通工具肇事，致人受傷而逃逸，處有期徒刑陸月，如易科罰金，以新臺幣壹仟元折算壹...   \n0  陳進曜駕駛動力交通工具肇事，致人受傷而逃逸，處有期徒刑陸月，如易科罰金，以新臺幣壹仟元折算壹...   \n0  林明宏駕駛動力交通工具肇事，致人傷而逃逸，處有期徒刑陸月，如易科罰金，以新臺幣壹仟元折算壹日...   \n0  林國寶駕駛動力交通工具肇事，致人受傷而逃逸，處有期徒刑陸月，如易科罰金，以新臺幣壹仟元折算壹...   \n0  蘇錦章服用酒類，不能安全駕駛動力交通工具而駕駛，處拘役伍拾伍日，如易科罰金，以新臺幣壹仟元折...   \n0  陳運嘉駕駛動力交通工具肇事，致人傷而逃逸，處有期徒刑陸月，如易科罰金，以新臺幣壹仟元折算壹日...   \n0                  湯州源駕駛動力交通工具肇事，致人受傷而逃逸，累犯，處有期徒刑柒月。   \n0  胡志誠駕駛動力交通工具肇事，致人受傷而逃逸，處有期徒刑陸月，如易科罰金，以新臺幣壹仟元折算壹...   \n\n                                           judgement  \\\n0  臺灣臺南地方法院刑事判決100年度交訴字第143號公訴人臺灣臺南地方法院檢察署檢察官被告上列...   \n0  臺灣臺南地方法院刑事判決100年度交訴字第145號公訴人臺灣臺南地方法院檢察署檢察官被告吳家...   \n0  臺灣臺南地方法院刑事判決100年度交訴字第151號公訴人臺灣臺南地方法院檢察署檢察官被告趙平...   \n0  臺灣臺南地方法院刑事判決100年度交訴字第154號公訴人臺灣臺南地方法院檢察署檢察官被告陳進...   \n0  臺灣臺南地方法院刑事判決100年度交訴字第157號公訴人臺灣臺南地方法院檢察署檢察官被告林明...   \n0  臺灣臺南地方法院刑事判決100年度交訴字第158號公訴人臺灣臺南地方法院檢察署檢察官被告林國...   \n0  臺灣臺南地方法院刑事判決100年度交訴字第160號公訴人臺灣臺南地方法院檢察署檢察官被告蘇錦...   \n0  臺灣臺南地方法院刑事判決100年度交訴字第167號公訴人臺灣臺南地方法院檢察署檢察官被告陳運...   \n0  臺灣臺南地方法院刑事判決100年度交訴字第169號公訴人臺灣臺南地方法院檢察署檢察官被告湯州...   \n0  臺灣臺南地方法院刑事判決100年度交訴字第172號公訴人臺灣臺南地方法院檢察署檢察官被告胡志...   \n\n                                           Situation  \n0  居盛川於民國100年7月18日晚間8時許起，在臺南市善化區某檳榔攤與友人飲用酒類，明知自己酒...  \n0  吳家寶於民國100年7月23日晚上9時50分許，騎駛車牌號碼207-ENX號普通重型機車，沿...  \n0  趙平義於民國100年7月13日下午4時20分許，駕駛車牌號碼J4-3497號自小貨車，沿臺南...  \n0  陳進曜於民國100年5月7日20時40分許，駕駛車號P3-3072號自小客車，沿臺南市○○區...  \n0  林明宏於民國100年4月28日凌晨1時5分許，駕駛車牌號碼UN-2008號自小客車，沿臺南市...  \n0  林國寶於民國100年7月28日晚間8時50分許，騎乘車牌號碼2FL-700號重型機車，沿臺南...  \n0  蘇錦章明知酒後駕車易生危險，於民國100年9月18日16時許，在臺南市白河區崎內裡某處飲酒後...  \n0  陳運嘉於民國100年5月28日上午8時許，駕駛車牌號碼8G-3456號自用小客車，沿臺南市○...  \n0  湯州源曾因公共危險案件，經本院以99年度交簡字第1991號判決判處有期徒刑2月確定，甫於民國...  \n0  胡志誠於民國100年2月11日凌晨2時17分許，駕駛車牌號碼1795－XV號自用小客車，沿臺...  ",
      "text/html": "<div>\n<style scoped>\n    .dataframe tbody tr th:only-of-type {\n        vertical-align: middle;\n    }\n\n    .dataframe tbody tr th {\n        vertical-align: top;\n    }\n\n    .dataframe thead th {\n        text-align: right;\n    }\n</style>\n<table border=\"1\" class=\"dataframe\">\n  <thead>\n    <tr style=\"text-align: right;\">\n      <th></th>\n      <th>id</th>\n      <th>court</th>\n      <th>date</th>\n      <th>no</th>\n      <th>sys</th>\n      <th>reason</th>\n      <th>type</th>\n      <th>mainText</th>\n      <th>judgement</th>\n      <th>Situation</th>\n    </tr>\n  </thead>\n  <tbody>\n    <tr>\n      <td>0</td>\n      <td>172</td>\n      <td>臺灣臺南地方法院</td>\n      <td>2011-11-30T00:00:00+08:00</td>\n      <td>100,交訴,143</td>\n      <td>刑事</td>\n      <td>公共危險</td>\n      <td>判決</td>\n      <td>居盛川服用酒類，不能安全駕駛動力交通工具而駕駛，處拘役伍拾日，如易科罰金，以新臺幣壹仟元折算...</td>\n      <td>臺灣臺南地方法院刑事判決100年度交訴字第143號公訴人臺灣臺南地方法院檢察署檢察官被告上列...</td>\n      <td>居盛川於民國100年7月18日晚間8時許起，在臺南市善化區某檳榔攤與友人飲用酒類，明知自己酒...</td>\n    </tr>\n    <tr>\n      <td>0</td>\n      <td>173</td>\n      <td>臺灣臺南地方法院</td>\n      <td>2011-11-30T00:00:00+08:00</td>\n      <td>100,交訴,145</td>\n      <td>刑事</td>\n      <td>公共危險</td>\n      <td>判決</td>\n      <td>吳家寶駕駛動力交通工具肇事，致人傷而逃逸，處有期徒刑陸月，如易科罰金，以新臺幣壹仟元折算壹日...</td>\n      <td>臺灣臺南地方法院刑事判決100年度交訴字第145號公訴人臺灣臺南地方法院檢察署檢察官被告吳家...</td>\n      <td>吳家寶於民國100年7月23日晚上9時50分許，騎駛車牌號碼207-ENX號普通重型機車，沿...</td>\n    </tr>\n    <tr>\n      <td>0</td>\n      <td>174</td>\n      <td>臺灣臺南地方法院</td>\n      <td>2011-12-28T00:00:00+08:00</td>\n      <td>100,交訴,151</td>\n      <td>刑事</td>\n      <td>公共危險</td>\n      <td>判決</td>\n      <td>趙平義駕駛動力交通工具肇事，致人受傷而逃逸，處有期徒刑陸月，如易科罰金，以新臺幣壹仟元折算壹...</td>\n      <td>臺灣臺南地方法院刑事判決100年度交訴字第151號公訴人臺灣臺南地方法院檢察署檢察官被告趙平...</td>\n      <td>趙平義於民國100年7月13日下午4時20分許，駕駛車牌號碼J4-3497號自小貨車，沿臺南...</td>\n    </tr>\n    <tr>\n      <td>0</td>\n      <td>175</td>\n      <td>臺灣臺南地方法院</td>\n      <td>2011-12-12T00:00:00+08:00</td>\n      <td>100,交訴,154</td>\n      <td>刑事</td>\n      <td>公共危險</td>\n      <td>判決</td>\n      <td>陳進曜駕駛動力交通工具肇事，致人受傷而逃逸，處有期徒刑陸月，如易科罰金，以新臺幣壹仟元折算壹...</td>\n      <td>臺灣臺南地方法院刑事判決100年度交訴字第154號公訴人臺灣臺南地方法院檢察署檢察官被告陳進...</td>\n      <td>陳進曜於民國100年5月7日20時40分許，駕駛車號P3-3072號自小客車，沿臺南市○○區...</td>\n    </tr>\n    <tr>\n      <td>0</td>\n      <td>176</td>\n      <td>臺灣臺南地方法院</td>\n      <td>2012-01-18T00:00:00+08:00</td>\n      <td>100,交訴,157</td>\n      <td>刑事</td>\n      <td>公共危險</td>\n      <td>判決</td>\n      <td>林明宏駕駛動力交通工具肇事，致人傷而逃逸，處有期徒刑陸月，如易科罰金，以新臺幣壹仟元折算壹日...</td>\n      <td>臺灣臺南地方法院刑事判決100年度交訴字第157號公訴人臺灣臺南地方法院檢察署檢察官被告林明...</td>\n      <td>林明宏於民國100年4月28日凌晨1時5分許，駕駛車牌號碼UN-2008號自小客車，沿臺南市...</td>\n    </tr>\n    <tr>\n      <td>0</td>\n      <td>177</td>\n      <td>臺灣臺南地方法院</td>\n      <td>2011-12-12T00:00:00+08:00</td>\n      <td>100,交訴,158</td>\n      <td>刑事</td>\n      <td>公共危險</td>\n      <td>判決</td>\n      <td>林國寶駕駛動力交通工具肇事，致人受傷而逃逸，處有期徒刑陸月，如易科罰金，以新臺幣壹仟元折算壹...</td>\n      <td>臺灣臺南地方法院刑事判決100年度交訴字第158號公訴人臺灣臺南地方法院檢察署檢察官被告林國...</td>\n      <td>林國寶於民國100年7月28日晚間8時50分許，騎乘車牌號碼2FL-700號重型機車，沿臺南...</td>\n    </tr>\n    <tr>\n      <td>0</td>\n      <td>178</td>\n      <td>臺灣臺南地方法院</td>\n      <td>2011-12-21T00:00:00+08:00</td>\n      <td>100,交訴,160</td>\n      <td>刑事</td>\n      <td>公共危險</td>\n      <td>判決</td>\n      <td>蘇錦章服用酒類，不能安全駕駛動力交通工具而駕駛，處拘役伍拾伍日，如易科罰金，以新臺幣壹仟元折...</td>\n      <td>臺灣臺南地方法院刑事判決100年度交訴字第160號公訴人臺灣臺南地方法院檢察署檢察官被告蘇錦...</td>\n      <td>蘇錦章明知酒後駕車易生危險，於民國100年9月18日16時許，在臺南市白河區崎內裡某處飲酒後...</td>\n    </tr>\n    <tr>\n      <td>0</td>\n      <td>179</td>\n      <td>臺灣臺南地方法院</td>\n      <td>2012-03-07T00:00:00+08:00</td>\n      <td>100,交訴,167</td>\n      <td>刑事</td>\n      <td>公共危險</td>\n      <td>判決</td>\n      <td>陳運嘉駕駛動力交通工具肇事，致人傷而逃逸，處有期徒刑陸月，如易科罰金，以新臺幣壹仟元折算壹日...</td>\n      <td>臺灣臺南地方法院刑事判決100年度交訴字第167號公訴人臺灣臺南地方法院檢察署檢察官被告陳運...</td>\n      <td>陳運嘉於民國100年5月28日上午8時許，駕駛車牌號碼8G-3456號自用小客車，沿臺南市○...</td>\n    </tr>\n    <tr>\n      <td>0</td>\n      <td>180</td>\n      <td>臺灣臺南地方法院</td>\n      <td>2012-01-11T00:00:00+08:00</td>\n      <td>100,交訴,169</td>\n      <td>刑事</td>\n      <td>公共危險</td>\n      <td>判決</td>\n      <td>湯州源駕駛動力交通工具肇事，致人受傷而逃逸，累犯，處有期徒刑柒月。</td>\n      <td>臺灣臺南地方法院刑事判決100年度交訴字第169號公訴人臺灣臺南地方法院檢察署檢察官被告湯州...</td>\n      <td>湯州源曾因公共危險案件，經本院以99年度交簡字第1991號判決判處有期徒刑2月確定，甫於民國...</td>\n    </tr>\n    <tr>\n      <td>0</td>\n      <td>181</td>\n      <td>臺灣臺南地方法院</td>\n      <td>2012-01-11T00:00:00+08:00</td>\n      <td>100,交訴,172</td>\n      <td>刑事</td>\n      <td>公共危險</td>\n      <td>判決</td>\n      <td>胡志誠駕駛動力交通工具肇事，致人受傷而逃逸，處有期徒刑陸月，如易科罰金，以新臺幣壹仟元折算壹...</td>\n      <td>臺灣臺南地方法院刑事判決100年度交訴字第172號公訴人臺灣臺南地方法院檢察署檢察官被告胡志...</td>\n      <td>胡志誠於民國100年2月11日凌晨2時17分許，駕駛車牌號碼1795－XV號自用小客車，沿臺...</td>\n    </tr>\n  </tbody>\n</table>\n</div>"
     },
     "execution_count": 9,
     "metadata": {},
     "output_type": "execute_result"
    }
   ],
   "source": [
    "df[df['reason'] == ('公共危險')].iloc[20:30]"
   ]
  },
  {
   "cell_type": "code",
   "execution_count": 10,
   "metadata": {
    "pycharm": {
     "name": "#%%\n"
    }
   },
   "outputs": [
    {
     "data": {
      "text/plain": "id           3350\ncourt        3350\ndate         3350\nno           3350\nsys          3350\nreason       3350\ntype         3350\nmainText     3350\njudgement    3350\nSituation    3350\ndtype: int64"
     },
     "execution_count": 10,
     "metadata": {},
     "output_type": "execute_result"
    }
   ],
   "source": [
    "df[df['Situation'].str.len() < 513].count()"
   ]
  },
  {
   "cell_type": "code",
   "execution_count": 11,
   "outputs": [
    {
     "data": {
      "text/plain": "Empty DataFrame\nColumns: [id, court, date, no, sys, reason, type, mainText, judgement, Situation]\nIndex: []",
      "text/html": "<div>\n<style scoped>\n    .dataframe tbody tr th:only-of-type {\n        vertical-align: middle;\n    }\n\n    .dataframe tbody tr th {\n        vertical-align: top;\n    }\n\n    .dataframe thead th {\n        text-align: right;\n    }\n</style>\n<table border=\"1\" class=\"dataframe\">\n  <thead>\n    <tr style=\"text-align: right;\">\n      <th></th>\n      <th>id</th>\n      <th>court</th>\n      <th>date</th>\n      <th>no</th>\n      <th>sys</th>\n      <th>reason</th>\n      <th>type</th>\n      <th>mainText</th>\n      <th>judgement</th>\n      <th>Situation</th>\n    </tr>\n  </thead>\n  <tbody>\n  </tbody>\n</table>\n</div>"
     },
     "execution_count": 11,
     "metadata": {},
     "output_type": "execute_result"
    }
   ],
   "source": [
    "df[df['Situation'].str.len() > 512]"
   ],
   "metadata": {
    "collapsed": false,
    "pycharm": {
     "name": "#%%\n"
    }
   }
  },
  {
   "cell_type": "code",
   "execution_count": 12,
   "outputs": [
    {
     "data": {
      "text/plain": "id           3350\ncourt        3350\ndate         3350\nno           3350\nsys          3350\nreason       3350\ntype         3350\nmainText     3350\njudgement    3350\nSituation    3350\ndtype: int64"
     },
     "execution_count": 12,
     "metadata": {},
     "output_type": "execute_result"
    }
   ],
   "source": [
    "df = df.dropna()\n",
    "df.count()"
   ],
   "metadata": {
    "collapsed": false,
    "pycharm": {
     "name": "#%%\n"
    }
   }
  },
  {
   "cell_type": "code",
   "execution_count": 13,
   "outputs": [
    {
     "name": "stdout",
     "output_type": "stream",
     "text": [
      "reason\n",
      "侵占            226\n",
      "偽證              1\n",
      "偽造文書          157\n",
      "傷害            237\n",
      "公共危險          344\n",
      "妨害公務          258\n",
      "妨害名譽          184\n",
      "妨害性自主          91\n",
      "妨害性自主罪         76\n",
      "妨害自由          205\n",
      "妨害風化          189\n",
      "強盜            130\n",
      "搶奪            205\n",
      "槍砲彈藥刀械管制        4\n",
      "殺人              1\n",
      "殺人未遂            3\n",
      "毀損            333\n",
      "毀棄損壞           36\n",
      "毒品危害防制條例       60\n",
      "竊盜            194\n",
      "著作權法           48\n",
      "藥事法             2\n",
      "詐欺             11\n",
      "貪污              4\n",
      "賭博              5\n",
      "過失傷害          214\n",
      "過失致死            7\n",
      "違反商標法           1\n",
      "違反替代役實施條例       1\n",
      "違反毒品危害防制條例      6\n",
      "違反著作權法        114\n",
      "醫師法             3\n",
      "Name: no, dtype: int64\n"
     ]
    }
   ],
   "source": [
    "import matplotlib.pyplot as plt\n",
    "%matplotlib inline\n",
    "\n",
    "\n",
    "df['reason'] = df['reason'].str.replace('等', '')\n",
    "print(df.groupby(['reason']).count()['no'])"
   ],
   "metadata": {
    "collapsed": false,
    "pycharm": {
     "name": "#%%\n"
    }
   }
  },
  {
   "cell_type": "code",
   "execution_count": 14,
   "outputs": [],
   "source": [
    "test = df.sample(n=500)\n",
    "test.to_csv('.//QA_Test1//HBert//dataV3//Test500.csv', index=0)"
   ],
   "metadata": {
    "collapsed": false,
    "pycharm": {
     "name": "#%%\n"
    }
   }
  },
  {
   "cell_type": "code",
   "execution_count": 15,
   "outputs": [
    {
     "data": {
      "text/plain": "id           500\ncourt        500\ndate         500\nno           500\nsys          500\nreason       500\ntype         500\nmainText     500\njudgement    500\nSituation    500\ndtype: int64"
     },
     "execution_count": 15,
     "metadata": {},
     "output_type": "execute_result"
    }
   ],
   "source": [
    "test.count()"
   ],
   "metadata": {
    "collapsed": false,
    "pycharm": {
     "name": "#%%\n"
    }
   }
  },
  {
   "cell_type": "code",
   "execution_count": 16,
   "outputs": [],
   "source": [
    "class Data(object):\n",
    "    def __init__(self):\n",
    "        self.paragraphs = []\n",
    "        self.id = \"0\"\n",
    "        self.title = \"\"\n",
    "\n",
    "class Djson(object):\n",
    "    def __init__(self):\n",
    "        self.version = \"v1.0\"\n",
    "        self.data = []\n",
    " "
   ],
   "metadata": {
    "collapsed": false,
    "pycharm": {
     "name": "#%%\n"
    }
   }
  },
  {
   "cell_type": "code",
   "execution_count": 17,
   "outputs": [],
   "source": [
    "djson2 = Djson()\n",
    "for index, row in test.iterrows():\n",
    "    try:\n",
    "        d = Data()\n",
    "        d.paragraphs = [{\"id\" : \"TEST_\" + str(row.id), \n",
    "                      #\"context\" : row.reason + \"[SEP]\" + row.judgement, \n",
    "                      \"context\" : row.judgement, \n",
    "                      \"qas\":[{\n",
    "                          \"question\" : \"?\",\n",
    "                          \"id\" : \"TEST_\" + str(row.id) + \"_QUERY_0\",\n",
    "                          \"answers\" :[{\n",
    "                              \"text\" : row.Situation,\n",
    "                              \"answer_start\" : row.judgement.index(row.Situation) #+ len(row.reason + \"[SET]\")\n",
    "                          }]\n",
    "                      }]\n",
    "                    }\n",
    "                    ]\n",
    "        d.id = \"TEST_\" + str(row.id)\n",
    "        d.title = row.no\n",
    "        djson2.data.append(d)\n",
    "    except:\n",
    "        print(index)\n",
    "        print(row.no)"
   ],
   "metadata": {
    "collapsed": false,
    "pycharm": {
     "name": "#%%\n"
    }
   }
  },
  {
   "cell_type": "code",
   "execution_count": 18,
   "outputs": [],
   "source": [
    "y = json.dumps(djson2, default=lambda o: o.__dict__, ensure_ascii=False)"
   ],
   "metadata": {
    "collapsed": false,
    "pycharm": {
     "name": "#%%\n"
    }
   }
  },
  {
   "cell_type": "code",
   "execution_count": 19,
   "outputs": [],
   "source": [
    "with open('./QA_Test1/HBert/dataV3/Test_500.json', 'w', encoding='utf8') as outfile:\n",
    "    json.dump(djson2, outfile, default=lambda o: o.__dict__ , ensure_ascii=False)\n",
    "    "
   ],
   "metadata": {
    "collapsed": false,
    "pycharm": {
     "name": "#%%\n"
    }
   }
  },
  {
   "cell_type": "code",
   "execution_count": 20,
   "outputs": [
    {
     "data": {
      "text/plain": "     id     court                       date           no sys reason type  \\\n0  1485  臺灣臺中地方法院  2017-02-24T00:00:00+08:00  105,審易,3910  刑事     傷害   判決   \n0  3822  臺灣桃園地方法院  2018-08-27T00:00:00+08:00   107,簡上,220  刑事   妨害公務   判決   \n0  3833  臺灣臺南地方法院  2018-12-10T00:00:00+08:00      107,自,3  刑事   妨害名譽   判決   \n\n   mainText                                          judgement  \\\n0  本件公訴不受理。  臺灣臺中地方法院刑事判決105年度審易字第3910號公訴人臺灣臺中地方法院檢察署檢察官被告陳...   \n0     上訴駁回。  臺灣桃園地方法院刑事判決107年度簡上字第220號上訴人即被告宋雲凱上列上訴人即被告因妨害公...   \n0    杜英傑無罪。  臺灣臺南地方法院刑事判決107年度自字第3號自訴人張良賓自訴代理人李永裕律師江俊傑律師被告杜...   \n\n                                           Situation  \n0  被告陳智鋒與告訴人陳瑞崎有債務糾紛，被告陳智鋒不滿告訴人陳瑞崎遲未償還欠款，於民國105年1...  \n0  宋雲凱於民國106年12月3日晚間10時20分許，經宋佳霖發覺其進入宋佳霖祖父母位於桃園市○...  \n0  被告杜英傑與訴外人承莉精品有限公司（下稱承莉公司）間有請求職業災害補償金事件，由本院以106...  ",
      "text/html": "<div>\n<style scoped>\n    .dataframe tbody tr th:only-of-type {\n        vertical-align: middle;\n    }\n\n    .dataframe tbody tr th {\n        vertical-align: top;\n    }\n\n    .dataframe thead th {\n        text-align: right;\n    }\n</style>\n<table border=\"1\" class=\"dataframe\">\n  <thead>\n    <tr style=\"text-align: right;\">\n      <th></th>\n      <th>id</th>\n      <th>court</th>\n      <th>date</th>\n      <th>no</th>\n      <th>sys</th>\n      <th>reason</th>\n      <th>type</th>\n      <th>mainText</th>\n      <th>judgement</th>\n      <th>Situation</th>\n    </tr>\n  </thead>\n  <tbody>\n    <tr>\n      <td>0</td>\n      <td>1485</td>\n      <td>臺灣臺中地方法院</td>\n      <td>2017-02-24T00:00:00+08:00</td>\n      <td>105,審易,3910</td>\n      <td>刑事</td>\n      <td>傷害</td>\n      <td>判決</td>\n      <td>本件公訴不受理。</td>\n      <td>臺灣臺中地方法院刑事判決105年度審易字第3910號公訴人臺灣臺中地方法院檢察署檢察官被告陳...</td>\n      <td>被告陳智鋒與告訴人陳瑞崎有債務糾紛，被告陳智鋒不滿告訴人陳瑞崎遲未償還欠款，於民國105年1...</td>\n    </tr>\n    <tr>\n      <td>0</td>\n      <td>3822</td>\n      <td>臺灣桃園地方法院</td>\n      <td>2018-08-27T00:00:00+08:00</td>\n      <td>107,簡上,220</td>\n      <td>刑事</td>\n      <td>妨害公務</td>\n      <td>判決</td>\n      <td>上訴駁回。</td>\n      <td>臺灣桃園地方法院刑事判決107年度簡上字第220號上訴人即被告宋雲凱上列上訴人即被告因妨害公...</td>\n      <td>宋雲凱於民國106年12月3日晚間10時20分許，經宋佳霖發覺其進入宋佳霖祖父母位於桃園市○...</td>\n    </tr>\n    <tr>\n      <td>0</td>\n      <td>3833</td>\n      <td>臺灣臺南地方法院</td>\n      <td>2018-12-10T00:00:00+08:00</td>\n      <td>107,自,3</td>\n      <td>刑事</td>\n      <td>妨害名譽</td>\n      <td>判決</td>\n      <td>杜英傑無罪。</td>\n      <td>臺灣臺南地方法院刑事判決107年度自字第3號自訴人張良賓自訴代理人李永裕律師江俊傑律師被告杜...</td>\n      <td>被告杜英傑與訴外人承莉精品有限公司（下稱承莉公司）間有請求職業災害補償金事件，由本院以106...</td>\n    </tr>\n  </tbody>\n</table>\n</div>"
     },
     "execution_count": 20,
     "metadata": {},
     "output_type": "execute_result"
    }
   ],
   "source": [
    "test[119:122]"
   ],
   "metadata": {
    "collapsed": false,
    "pycharm": {
     "name": "#%%\n"
    }
   }
  }
 ],
 "metadata": {
  "kernelspec": {
   "display_name": "Python 3",
   "language": "python",
   "name": "python3"
  },
  "language_info": {
   "codemirror_mode": {
    "name": "ipython",
    "version": 3
   },
   "file_extension": ".py",
   "mimetype": "text/x-python",
   "name": "python",
   "nbconvert_exporter": "python",
   "pygments_lexer": "ipython3",
   "version": "3.6.4"
  }
 },
 "nbformat": 4,
 "nbformat_minor": 2
}