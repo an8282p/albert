{
 "cells": [
  {
   "cell_type": "code",
   "execution_count": 92,
   "metadata": {
    "pycharm": {
     "is_executing": false
    }
   },
   "outputs": [
    {
     "name": "stdout",
     "text": [
      "刑事判決_100,中交簡,1002_2011-05-19.json\n"
     ],
     "output_type": "stream"
    }
   ],
   "source": [
    "import os, json \n",
    "import pandas as pd \n",
    "\n",
    "path_to_json = 'J:\\Legal_Judgment\\臺灣新北地方法院_改' \n",
    "json_files = [pos_json for pos_json in os.listdir(path_to_json) if pos_json.endswith('.json')] \n",
    "print(json_files[0])"
   ]
  },
  {
   "cell_type": "code",
   "execution_count": 93,
   "metadata": {
    "pycharm": {
     "is_executing": false
    }
   },
   "outputs": [],
   "source": [
    "with open('J://Legal_Judgment//臺灣新北地方法院_改//'+json_files[0],\"r\",encoding=\"utf-8\") as f:\n",
    "    dt = json.load(f)"
   ]
  },
  {
   "cell_type": "code",
   "execution_count": 94,
   "metadata": {
    "pycharm": {
     "is_executing": false
    }
   },
   "outputs": [
    {
     "data": {
      "text/plain": "   id     court                       date            no sys reason type  \\\n0   0  臺灣臺中地方法院  2011-05-19T00:00:00+08:00  100,中交簡,1002  刑事   公共危險   判決   \n\n                                            mainText  \\\n0  王炎權服用酒類，不能安全駕駛動力交通工具而駕駛，處拘役伍拾日，如易科罰金，以新臺幣壹仟元折算壹日。   \n\n                                           judgement  \\\n0  臺灣臺中地方法院刑事簡易判決100年度中交簡字第1002號聲請人臺灣臺中地方法院檢察署檢察官...   \n\n                                           Situation  \n0  王炎權於民國100年4月8日晚間9時30分許起至翌日凌晨3時許止，在彰化縣芬園鄉○○路○段2...  ",
      "text/html": "<div>\n<style scoped>\n    .dataframe tbody tr th:only-of-type {\n        vertical-align: middle;\n    }\n\n    .dataframe tbody tr th {\n        vertical-align: top;\n    }\n\n    .dataframe thead th {\n        text-align: right;\n    }\n</style>\n<table border=\"1\" class=\"dataframe\">\n  <thead>\n    <tr style=\"text-align: right;\">\n      <th></th>\n      <th>id</th>\n      <th>court</th>\n      <th>date</th>\n      <th>no</th>\n      <th>sys</th>\n      <th>reason</th>\n      <th>type</th>\n      <th>mainText</th>\n      <th>judgement</th>\n      <th>Situation</th>\n    </tr>\n  </thead>\n  <tbody>\n    <tr>\n      <td>0</td>\n      <td>0</td>\n      <td>臺灣臺中地方法院</td>\n      <td>2011-05-19T00:00:00+08:00</td>\n      <td>100,中交簡,1002</td>\n      <td>刑事</td>\n      <td>公共危險</td>\n      <td>判決</td>\n      <td>王炎權服用酒類，不能安全駕駛動力交通工具而駕駛，處拘役伍拾日，如易科罰金，以新臺幣壹仟元折算壹日。</td>\n      <td>臺灣臺中地方法院刑事簡易判決100年度中交簡字第1002號聲請人臺灣臺中地方法院檢察署檢察官...</td>\n      <td>王炎權於民國100年4月8日晚間9時30分許起至翌日凌晨3時許止，在彰化縣芬園鄉○○路○段2...</td>\n    </tr>\n  </tbody>\n</table>\n</div>"
     },
     "metadata": {},
     "output_type": "execute_result",
     "execution_count": 94
    }
   ],
   "source": [
    "dic = {\n",
    "    \"id\": 0,\n",
    "    \"court\": [dt[\"court\"]], \n",
    "    \"date\": [dt[\"date\"]],\n",
    "    \"no\": [dt[\"no\"]],\n",
    "    \"sys\": [dt[\"sys\"]],\n",
    "    \"reason\": [dt[\"reason\"]],\n",
    "    \"type\": [dt[\"type\"]],\n",
    "    \"mainText\": [dt[\"mainText\"]],\n",
    "    \"judgement\": [dt[\"judgement\"]],\n",
    "    #\"judgement_SIT\": [dt[\"judgement_SIT\"]],\n",
    "    \"Situation\": [dt[\"Situation\"]]\n",
    "}\n",
    "df = pd.DataFrame(dic)\n",
    "df"
   ]
  },
  {
   "cell_type": "code",
   "execution_count": 95,
   "metadata": {
    "pycharm": {
     "is_executing": false
    }
   },
   "outputs": [
    {
     "name": "stdout",
     "text": [
      "76\n",
      "249\n253\n331\n345\n",
      "371\n",
      "987\n",
      "1126\n"
     ],
     "output_type": "stream"
    }
   ],
   "source": [
    "for x in range(1,len(json_files)):\n",
    "    with open('J://Legal_Judgment//臺灣新北地方法院_改//'+json_files[x],\"r\",encoding=\"utf-8\") as f:\n",
    "        dt = json.load(f)\n",
    "    #ltmp = [225,1156,1215,1056,22,33,235,676,778]\n",
    "    #if (x in ltmp):\n",
    "    #    continue\n",
    "    \n",
    "    try:\n",
    "        if (str(dt[\"judgement\"]).index(str(dt[\"Situation\"])) < 0):\n",
    "            continue \n",
    "        if (len(str(dt[\"Situation\"])) > 512):\n",
    "            continue\n",
    "        new = pd.DataFrame({\n",
    "        \"id\" : x,\n",
    "        \"court\": [dt[\"court\"]], \n",
    "        \"date\": [dt[\"date\"]],\n",
    "        \"no\": [dt[\"no\"]],\n",
    "        \"sys\": [dt[\"sys\"]],\n",
    "        \"reason\": [dt[\"reason\"]],\n",
    "        \"type\": [dt[\"type\"]],\n",
    "        \"mainText\": [dt[\"mainText\"]],\n",
    "        \"judgement\": [dt[\"judgement\"]],\n",
    "        #\"judgement_SIT\": [dt[\"judgement_SIT\"]],\n",
    "        \"Situation\": [dt[\"Situation\"]]\n",
    "        })\n",
    "        \n",
    "        df = df.append(new)\n",
    "\n",
    "    except:\n",
    "        print(x)\n"
   ]
  },
  {
   "cell_type": "code",
   "execution_count": 96,
   "metadata": {
    "pycharm": {
     "is_executing": false
    }
   },
   "outputs": [],
   "source": [
    "#df.to_csv('J://Legal_Judgment//Result.csv', index=0) "
   ]
  },
  {
   "cell_type": "code",
   "execution_count": 97,
   "outputs": [
    {
     "data": {
      "text/plain": "id           1396\ncourt        1396\ndate         1396\nno           1396\nsys          1396\nreason       1396\ntype         1396\nmainText     1396\njudgement    1396\nSituation    1396\ndtype: int64"
     },
     "metadata": {},
     "output_type": "execute_result",
     "execution_count": 97
    }
   ],
   "source": [
    "#df = (pd.read_csv('J://Legal_Judgment//Result.csv', index_col=0))\n",
    "df.count()"
   ],
   "metadata": {
    "collapsed": false,
    "pycharm": {
     "name": "#%%\n",
     "is_executing": false
    }
   }
  },
  {
   "cell_type": "code",
   "execution_count": 98,
   "outputs": [
    {
     "data": {
      "text/plain": "    id     court                       date          no sys      reason type  \\\n0  258  臺灣臺南地方法院  2011-09-30T00:00:00+08:00  100,訴,1001  刑事  違反毒品危害防制條例   判決   \n0  259  臺灣臺南地方法院  2011-10-11T00:00:00+08:00  100,訴,1002  刑事  違反毒品危害防制條例   判決   \n0  262  臺灣臺南地方法院  2011-09-28T00:00:00+08:00  100,訴,1010  刑事  違反毒品危害防制條例   判決   \n0  263  臺灣臺南地方法院  2011-09-09T00:00:00+08:00  100,訴,1014  刑事  違反毒品危害防制條例   判決   \n\n                                            mainText  \\\n0     劉明展施用第一級毒品，處有期徒刑柒月。又施用第二級毒品，處有期徒刑參月。應執行有期徒刑捌月。   \n0                             簡有勇施用第一級毒品，累犯，處有期徒刑拾月。   \n0  蔡慶銘施用第二級毒品，累犯，處有期徒刑參月。又施用第一級毒品，累犯，處有期徒刑玖月。又施用第...   \n0  陳育仁施用第一級毒品，累犯，處有期徒刑拾月，扣案之針筒壹支及殘渣袋壹個均沒收；又施用第二級毒...   \n\n                                           judgement  \\\n0  臺灣臺南地方法院刑事判決100年度訴字第1001號公訴人臺灣臺南地方法院檢察署檢察官被告劉明...   \n0  臺灣臺南地方法院刑事判決100年度訴字第1002號公訴人臺灣臺南地方法院檢察署檢察官被告簡有...   \n0  臺灣臺南地方法院刑事判決100年度訴字第1029號公訴人臺灣臺南地方法院檢察署檢察官被告蔡慶...   \n0  臺灣臺南地方法院刑事判決100年度訴字第1014號公訴人臺灣臺南地方法院檢察署檢察官被告陳育...   \n\n                                           Situation  \n0  於九十九年十月六日某時許，在其位於臺南市○區○○街二段七九巷一四號之一之住處房間內，以將第一...  \n0  於一○○年五月二日上午十一時七分許（採尿時）往前回溯二十六小時內之某時許，在其友人位於高雄市...  \n0  於100年4月5日凌晨0時30分許，在臺南市○○區○○路41號5樓之7租屋處，同時將第一級毒...  \n0  於100年6月24日15時30分許在臺南市柳營區○○○路○段490巷9號住處之浴室內，以將海...  ",
      "text/html": "<div>\n<style scoped>\n    .dataframe tbody tr th:only-of-type {\n        vertical-align: middle;\n    }\n\n    .dataframe tbody tr th {\n        vertical-align: top;\n    }\n\n    .dataframe thead th {\n        text-align: right;\n    }\n</style>\n<table border=\"1\" class=\"dataframe\">\n  <thead>\n    <tr style=\"text-align: right;\">\n      <th></th>\n      <th>id</th>\n      <th>court</th>\n      <th>date</th>\n      <th>no</th>\n      <th>sys</th>\n      <th>reason</th>\n      <th>type</th>\n      <th>mainText</th>\n      <th>judgement</th>\n      <th>Situation</th>\n    </tr>\n  </thead>\n  <tbody>\n    <tr>\n      <td>0</td>\n      <td>258</td>\n      <td>臺灣臺南地方法院</td>\n      <td>2011-09-30T00:00:00+08:00</td>\n      <td>100,訴,1001</td>\n      <td>刑事</td>\n      <td>違反毒品危害防制條例</td>\n      <td>判決</td>\n      <td>劉明展施用第一級毒品，處有期徒刑柒月。又施用第二級毒品，處有期徒刑參月。應執行有期徒刑捌月。</td>\n      <td>臺灣臺南地方法院刑事判決100年度訴字第1001號公訴人臺灣臺南地方法院檢察署檢察官被告劉明...</td>\n      <td>於九十九年十月六日某時許，在其位於臺南市○區○○街二段七九巷一四號之一之住處房間內，以將第一...</td>\n    </tr>\n    <tr>\n      <td>0</td>\n      <td>259</td>\n      <td>臺灣臺南地方法院</td>\n      <td>2011-10-11T00:00:00+08:00</td>\n      <td>100,訴,1002</td>\n      <td>刑事</td>\n      <td>違反毒品危害防制條例</td>\n      <td>判決</td>\n      <td>簡有勇施用第一級毒品，累犯，處有期徒刑拾月。</td>\n      <td>臺灣臺南地方法院刑事判決100年度訴字第1002號公訴人臺灣臺南地方法院檢察署檢察官被告簡有...</td>\n      <td>於一○○年五月二日上午十一時七分許（採尿時）往前回溯二十六小時內之某時許，在其友人位於高雄市...</td>\n    </tr>\n    <tr>\n      <td>0</td>\n      <td>262</td>\n      <td>臺灣臺南地方法院</td>\n      <td>2011-09-28T00:00:00+08:00</td>\n      <td>100,訴,1010</td>\n      <td>刑事</td>\n      <td>違反毒品危害防制條例</td>\n      <td>判決</td>\n      <td>蔡慶銘施用第二級毒品，累犯，處有期徒刑參月。又施用第一級毒品，累犯，處有期徒刑玖月。又施用第...</td>\n      <td>臺灣臺南地方法院刑事判決100年度訴字第1029號公訴人臺灣臺南地方法院檢察署檢察官被告蔡慶...</td>\n      <td>於100年4月5日凌晨0時30分許，在臺南市○○區○○路41號5樓之7租屋處，同時將第一級毒...</td>\n    </tr>\n    <tr>\n      <td>0</td>\n      <td>263</td>\n      <td>臺灣臺南地方法院</td>\n      <td>2011-09-09T00:00:00+08:00</td>\n      <td>100,訴,1014</td>\n      <td>刑事</td>\n      <td>違反毒品危害防制條例</td>\n      <td>判決</td>\n      <td>陳育仁施用第一級毒品，累犯，處有期徒刑拾月，扣案之針筒壹支及殘渣袋壹個均沒收；又施用第二級毒...</td>\n      <td>臺灣臺南地方法院刑事判決100年度訴字第1014號公訴人臺灣臺南地方法院檢察署檢察官被告陳育...</td>\n      <td>於100年6月24日15時30分許在臺南市柳營區○○○路○段490巷9號住處之浴室內，以將海...</td>\n    </tr>\n  </tbody>\n</table>\n</div>"
     },
     "metadata": {},
     "output_type": "execute_result",
     "execution_count": 98
    }
   ],
   "source": [
    "df[df['reason'] == ('違反毒品危害防制條例')].head(10)"
   ],
   "metadata": {
    "collapsed": false,
    "pycharm": {
     "name": "#%%\n",
     "is_executing": false
    }
   }
  },
  {
   "cell_type": "code",
   "execution_count": 99,
   "metadata": {
    "pycharm": {
     "is_executing": false
    }
   },
   "outputs": [
    {
     "data": {
      "text/plain": "   id     court                       date            no sys reason type  \\\n0   0  臺灣臺中地方法院  2011-05-19T00:00:00+08:00  100,中交簡,1002  刑事   公共危險   判決   \n0   1  臺灣臺中地方法院  2011-01-25T00:00:00+08:00   100,中交簡,100  刑事   公共危險   判決   \n0   2  臺灣臺中地方法院  2011-05-12T00:00:00+08:00  100,中交簡,1016  刑事   公共危險   判決   \n0   3  臺灣臺中地方法院  2011-06-13T00:00:00+08:00  100,中交簡,1106  刑事   公共危險   判決   \n0   4  臺灣臺中地方法院  2011-05-17T00:00:00+08:00   100,中簡,1001  刑事     竊盜   判決   \n0   5  臺灣臺中地方法院  2011-04-25T00:00:00+08:00   100,中簡,1011  刑事     賭博   判決   \n0   6  臺灣臺中地方法院  2011-04-25T00:00:00+08:00   100,中簡,1023  刑事   妨害風化   判決   \n0   7  臺灣臺中地方法院  2011-04-26T00:00:00+08:00   100,中簡,1039  刑事   妨害風化   判決   \n0   8  臺灣臺中地方法院  2011-04-25T00:00:00+08:00   100,中簡,1040  刑事     竊盜   判決   \n0  10  臺灣臺中地方法院  2010-04-29T00:00:00+08:00   100,中簡,1070  刑事     竊盜   判決   \n\n                                            mainText  \\\n0  王炎權服用酒類，不能安全駕駛動力交通工具而駕駛，處拘役伍拾日，如易科罰金，以新臺幣壹仟元折算壹日。   \n0  林耀明服用酒類，不能安全駕駛動力交通工具而駕駛，處拘役伍拾伍日，如易科罰金，以新臺幣壹仟元折...   \n0     朱建鴻犯不能安全駕駛動力交通工具罪，處罰金新台幣伍萬元，如易服勞役，以新臺幣壹仟元折算壹日。   \n0  洪國棋服用酒類，不能安全駕駛動力交通工具而駕駛，處拘役伍拾日，如易科罰金，以新臺幣壹仟元折算壹日。   \n0  陳守仁竊盜，三罪，均累犯，各處罰金新臺幣壹萬元、壹萬元、伍仟元，如易服勞役，均以新臺幣壹仟元...   \n0  張昔霞意圖營利聚眾賭博，累犯，處有期徒刑陸月，如易科罰金，以新臺幣壹仟元折算壹日。扣案錄音機...   \n0  許其昌共同意圖使女子與他人為性交之行為，而媒介以營利，處有期徒刑肆月，如易科罰金，以新臺幣壹...   \n0  陳軍豪共同犯圖利媒介性交罪，累犯，處有期徒刑伍月，如易科罰金，以新臺幣壹仟元折算壹日。扣案N...   \n0               詹金龍犯竊盜罪，處罰金新臺幣壹萬元，如易服勞役，以新臺幣壹仟元折算壹日。   \n0                    張長生竊盜，處拘役伍拾日，如易科罰金，以新臺幣壹仟元折算壹日。   \n\n                                           judgement  \\\n0  臺灣臺中地方法院刑事簡易判決100年度中交簡字第1002號聲請人臺灣臺中地方法院檢察署檢察官...   \n0  臺灣臺中地方法院刑事簡易判決100年度中交簡字第100號聲請人臺灣臺中地方法院檢察署檢察官被...   \n0  臺灣臺中地方法院刑事簡易判決100年度中交簡字第1016號聲請人臺灣臺中地方法院檢察署檢察官...   \n0  臺灣臺中地方法院刑事簡易判決100年度中交簡字第1106號聲請人臺灣臺中地方法院檢察署檢察官...   \n0  臺灣臺中地方法院刑事簡易判決100年度中簡字第1001號聲請人臺灣臺中地方法院檢察署檢察官被...   \n0  臺灣臺中地方法院刑事簡易判決100年度中簡字第1011號聲請人臺灣臺中地方法院檢察署檢察官被...   \n0  臺灣臺中地方法院刑事簡易判決100年度中簡字第1023號聲請人臺灣臺中地方法院檢察署檢察官被...   \n0  臺灣臺中地方法院刑事簡易判決100年度中簡字第1039號聲請人臺灣臺中地方法院檢察署檢察官被...   \n0  臺灣臺中地方法院刑事簡易判決100年度中簡字第1040號聲請人臺灣臺中地方法院檢察署檢察官被...   \n0  臺灣臺中地方法院刑事簡易判決100年度中簡字第1070號聲請人臺灣臺中地方法院檢察署檢察官被...   \n\n                                           Situation  \n0  王炎權於民國100年4月8日晚間9時30分許起至翌日凌晨3時許止，在彰化縣芬園鄉○○路○段2...  \n0  林耀明於民國99年10月22日下午4時許起至5時許止，在臺中市○○區○○路與豐樂路交岔路口附...  \n0  朱建鴻於民國100年4月19日晚間9時許起，在臺中市大雅區清泉崗友人住處內飲用啤酒，至同日晚...  \n0  洪國棋於民國100年4月28日晚間7時許起至同日晚間8時30分許止，在臺中市○里區○○路21...  \n0  被告陳守仁為高職畢業擔任保全之男子，竟不思以正常手段獲取財物，因一時貪念，以徒手竊取該超商內...  \n0  詎其不知悔改，復基於賭博及意圖營利供給賭博場所、聚眾賭博之犯意，自民國100年1月25日起，...  \n0  許其昌係址設臺中市○區○○○路374號「左岸國際美容生活館」(下稱左岸美容館)之負責人，而李...  \n0  詎不知悔改，另行與真實姓名年籍不詳綽號「大姐」之成年女子，共同基於意圖使他人為性交行為而媒介...  \n0  於民國100年3月25日5時30分許，在臺中市南區永興5巷42號前，徒手竊取劉清智所有放置該...  \n0  緣張長生於民國99年10月23日凌晨0時10分許（聲請意旨誤為凌晨1時30分許），因心情不佳...  ",
      "text/html": "<div>\n<style scoped>\n    .dataframe tbody tr th:only-of-type {\n        vertical-align: middle;\n    }\n\n    .dataframe tbody tr th {\n        vertical-align: top;\n    }\n\n    .dataframe thead th {\n        text-align: right;\n    }\n</style>\n<table border=\"1\" class=\"dataframe\">\n  <thead>\n    <tr style=\"text-align: right;\">\n      <th></th>\n      <th>id</th>\n      <th>court</th>\n      <th>date</th>\n      <th>no</th>\n      <th>sys</th>\n      <th>reason</th>\n      <th>type</th>\n      <th>mainText</th>\n      <th>judgement</th>\n      <th>Situation</th>\n    </tr>\n  </thead>\n  <tbody>\n    <tr>\n      <td>0</td>\n      <td>0</td>\n      <td>臺灣臺中地方法院</td>\n      <td>2011-05-19T00:00:00+08:00</td>\n      <td>100,中交簡,1002</td>\n      <td>刑事</td>\n      <td>公共危險</td>\n      <td>判決</td>\n      <td>王炎權服用酒類，不能安全駕駛動力交通工具而駕駛，處拘役伍拾日，如易科罰金，以新臺幣壹仟元折算壹日。</td>\n      <td>臺灣臺中地方法院刑事簡易判決100年度中交簡字第1002號聲請人臺灣臺中地方法院檢察署檢察官...</td>\n      <td>王炎權於民國100年4月8日晚間9時30分許起至翌日凌晨3時許止，在彰化縣芬園鄉○○路○段2...</td>\n    </tr>\n    <tr>\n      <td>0</td>\n      <td>1</td>\n      <td>臺灣臺中地方法院</td>\n      <td>2011-01-25T00:00:00+08:00</td>\n      <td>100,中交簡,100</td>\n      <td>刑事</td>\n      <td>公共危險</td>\n      <td>判決</td>\n      <td>林耀明服用酒類，不能安全駕駛動力交通工具而駕駛，處拘役伍拾伍日，如易科罰金，以新臺幣壹仟元折...</td>\n      <td>臺灣臺中地方法院刑事簡易判決100年度中交簡字第100號聲請人臺灣臺中地方法院檢察署檢察官被...</td>\n      <td>林耀明於民國99年10月22日下午4時許起至5時許止，在臺中市○○區○○路與豐樂路交岔路口附...</td>\n    </tr>\n    <tr>\n      <td>0</td>\n      <td>2</td>\n      <td>臺灣臺中地方法院</td>\n      <td>2011-05-12T00:00:00+08:00</td>\n      <td>100,中交簡,1016</td>\n      <td>刑事</td>\n      <td>公共危險</td>\n      <td>判決</td>\n      <td>朱建鴻犯不能安全駕駛動力交通工具罪，處罰金新台幣伍萬元，如易服勞役，以新臺幣壹仟元折算壹日。</td>\n      <td>臺灣臺中地方法院刑事簡易判決100年度中交簡字第1016號聲請人臺灣臺中地方法院檢察署檢察官...</td>\n      <td>朱建鴻於民國100年4月19日晚間9時許起，在臺中市大雅區清泉崗友人住處內飲用啤酒，至同日晚...</td>\n    </tr>\n    <tr>\n      <td>0</td>\n      <td>3</td>\n      <td>臺灣臺中地方法院</td>\n      <td>2011-06-13T00:00:00+08:00</td>\n      <td>100,中交簡,1106</td>\n      <td>刑事</td>\n      <td>公共危險</td>\n      <td>判決</td>\n      <td>洪國棋服用酒類，不能安全駕駛動力交通工具而駕駛，處拘役伍拾日，如易科罰金，以新臺幣壹仟元折算壹日。</td>\n      <td>臺灣臺中地方法院刑事簡易判決100年度中交簡字第1106號聲請人臺灣臺中地方法院檢察署檢察官...</td>\n      <td>洪國棋於民國100年4月28日晚間7時許起至同日晚間8時30分許止，在臺中市○里區○○路21...</td>\n    </tr>\n    <tr>\n      <td>0</td>\n      <td>4</td>\n      <td>臺灣臺中地方法院</td>\n      <td>2011-05-17T00:00:00+08:00</td>\n      <td>100,中簡,1001</td>\n      <td>刑事</td>\n      <td>竊盜</td>\n      <td>判決</td>\n      <td>陳守仁竊盜，三罪，均累犯，各處罰金新臺幣壹萬元、壹萬元、伍仟元，如易服勞役，均以新臺幣壹仟元...</td>\n      <td>臺灣臺中地方法院刑事簡易判決100年度中簡字第1001號聲請人臺灣臺中地方法院檢察署檢察官被...</td>\n      <td>被告陳守仁為高職畢業擔任保全之男子，竟不思以正常手段獲取財物，因一時貪念，以徒手竊取該超商內...</td>\n    </tr>\n    <tr>\n      <td>0</td>\n      <td>5</td>\n      <td>臺灣臺中地方法院</td>\n      <td>2011-04-25T00:00:00+08:00</td>\n      <td>100,中簡,1011</td>\n      <td>刑事</td>\n      <td>賭博</td>\n      <td>判決</td>\n      <td>張昔霞意圖營利聚眾賭博，累犯，處有期徒刑陸月，如易科罰金，以新臺幣壹仟元折算壹日。扣案錄音機...</td>\n      <td>臺灣臺中地方法院刑事簡易判決100年度中簡字第1011號聲請人臺灣臺中地方法院檢察署檢察官被...</td>\n      <td>詎其不知悔改，復基於賭博及意圖營利供給賭博場所、聚眾賭博之犯意，自民國100年1月25日起，...</td>\n    </tr>\n    <tr>\n      <td>0</td>\n      <td>6</td>\n      <td>臺灣臺中地方法院</td>\n      <td>2011-04-25T00:00:00+08:00</td>\n      <td>100,中簡,1023</td>\n      <td>刑事</td>\n      <td>妨害風化</td>\n      <td>判決</td>\n      <td>許其昌共同意圖使女子與他人為性交之行為，而媒介以營利，處有期徒刑肆月，如易科罰金，以新臺幣壹...</td>\n      <td>臺灣臺中地方法院刑事簡易判決100年度中簡字第1023號聲請人臺灣臺中地方法院檢察署檢察官被...</td>\n      <td>許其昌係址設臺中市○區○○○路374號「左岸國際美容生活館」(下稱左岸美容館)之負責人，而李...</td>\n    </tr>\n    <tr>\n      <td>0</td>\n      <td>7</td>\n      <td>臺灣臺中地方法院</td>\n      <td>2011-04-26T00:00:00+08:00</td>\n      <td>100,中簡,1039</td>\n      <td>刑事</td>\n      <td>妨害風化</td>\n      <td>判決</td>\n      <td>陳軍豪共同犯圖利媒介性交罪，累犯，處有期徒刑伍月，如易科罰金，以新臺幣壹仟元折算壹日。扣案N...</td>\n      <td>臺灣臺中地方法院刑事簡易判決100年度中簡字第1039號聲請人臺灣臺中地方法院檢察署檢察官被...</td>\n      <td>詎不知悔改，另行與真實姓名年籍不詳綽號「大姐」之成年女子，共同基於意圖使他人為性交行為而媒介...</td>\n    </tr>\n    <tr>\n      <td>0</td>\n      <td>8</td>\n      <td>臺灣臺中地方法院</td>\n      <td>2011-04-25T00:00:00+08:00</td>\n      <td>100,中簡,1040</td>\n      <td>刑事</td>\n      <td>竊盜</td>\n      <td>判決</td>\n      <td>詹金龍犯竊盜罪，處罰金新臺幣壹萬元，如易服勞役，以新臺幣壹仟元折算壹日。</td>\n      <td>臺灣臺中地方法院刑事簡易判決100年度中簡字第1040號聲請人臺灣臺中地方法院檢察署檢察官被...</td>\n      <td>於民國100年3月25日5時30分許，在臺中市南區永興5巷42號前，徒手竊取劉清智所有放置該...</td>\n    </tr>\n    <tr>\n      <td>0</td>\n      <td>10</td>\n      <td>臺灣臺中地方法院</td>\n      <td>2010-04-29T00:00:00+08:00</td>\n      <td>100,中簡,1070</td>\n      <td>刑事</td>\n      <td>竊盜</td>\n      <td>判決</td>\n      <td>張長生竊盜，處拘役伍拾日，如易科罰金，以新臺幣壹仟元折算壹日。</td>\n      <td>臺灣臺中地方法院刑事簡易判決100年度中簡字第1070號聲請人臺灣臺中地方法院檢察署檢察官被...</td>\n      <td>緣張長生於民國99年10月23日凌晨0時10分許（聲請意旨誤為凌晨1時30分許），因心情不佳...</td>\n    </tr>\n  </tbody>\n</table>\n</div>"
     },
     "metadata": {},
     "output_type": "execute_result",
     "execution_count": 99
    }
   ],
   "source": [
    "df[df['reason'].str.contains ('')].head(10)"
   ]
  },
  {
   "cell_type": "code",
   "execution_count": 100,
   "metadata": {
    "pycharm": {
     "is_executing": false
    }
   },
   "outputs": [
    {
     "data": {
      "text/plain": "    id     court                       date          no sys reason type  \\\n0  171  臺灣臺南地方法院  2011-11-30T00:00:00+08:00  100,交訴,143  刑事   公共危險   判決   \n0  172  臺灣臺南地方法院  2011-11-30T00:00:00+08:00  100,交訴,145  刑事   公共危險   判決   \n0  173  臺灣臺南地方法院  2011-12-28T00:00:00+08:00  100,交訴,151  刑事   公共危險   判決   \n0  174  臺灣臺南地方法院  2011-12-12T00:00:00+08:00  100,交訴,154  刑事   公共危險   判決   \n0  175  臺灣臺南地方法院  2012-01-18T00:00:00+08:00  100,交訴,157  刑事   公共危險   判決   \n0  176  臺灣臺南地方法院  2011-12-12T00:00:00+08:00  100,交訴,158  刑事   公共危險   判決   \n0  177  臺灣臺南地方法院  2011-12-21T00:00:00+08:00  100,交訴,160  刑事   公共危險   判決   \n0  178  臺灣臺南地方法院  2012-03-07T00:00:00+08:00  100,交訴,167  刑事   公共危險   判決   \n0  179  臺灣臺南地方法院  2012-01-11T00:00:00+08:00  100,交訴,169  刑事   公共危險   判決   \n0  180  臺灣臺南地方法院  2012-01-11T00:00:00+08:00  100,交訴,172  刑事   公共危險   判決   \n\n                                            mainText  \\\n0  居盛川服用酒類，不能安全駕駛動力交通工具而駕駛，處拘役伍拾日，如易科罰金，以新臺幣壹仟元折算...   \n0  吳家寶駕駛動力交通工具肇事，致人傷而逃逸，處有期徒刑陸月，如易科罰金，以新臺幣壹仟元折算壹日...   \n0  趙平義駕駛動力交通工具肇事，致人受傷而逃逸，處有期徒刑陸月，如易科罰金，以新臺幣壹仟元折算壹...   \n0  陳進曜駕駛動力交通工具肇事，致人受傷而逃逸，處有期徒刑陸月，如易科罰金，以新臺幣壹仟元折算壹...   \n0  林明宏駕駛動力交通工具肇事，致人傷而逃逸，處有期徒刑陸月，如易科罰金，以新臺幣壹仟元折算壹日...   \n0  林國寶駕駛動力交通工具肇事，致人受傷而逃逸，處有期徒刑陸月，如易科罰金，以新臺幣壹仟元折算壹...   \n0  蘇錦章服用酒類，不能安全駕駛動力交通工具而駕駛，處拘役伍拾伍日，如易科罰金，以新臺幣壹仟元折...   \n0  陳運嘉駕駛動力交通工具肇事，致人傷而逃逸，處有期徒刑陸月，如易科罰金，以新臺幣壹仟元折算壹日...   \n0                  湯州源駕駛動力交通工具肇事，致人受傷而逃逸，累犯，處有期徒刑柒月。   \n0  胡志誠駕駛動力交通工具肇事，致人受傷而逃逸，處有期徒刑陸月，如易科罰金，以新臺幣壹仟元折算壹...   \n\n                                           judgement  \\\n0  臺灣臺南地方法院刑事判決100年度交訴字第143號公訴人臺灣臺南地方法院檢察署檢察官被告上列...   \n0  臺灣臺南地方法院刑事判決100年度交訴字第145號公訴人臺灣臺南地方法院檢察署檢察官被告吳家...   \n0  臺灣臺南地方法院刑事判決100年度交訴字第151號公訴人臺灣臺南地方法院檢察署檢察官被告趙平...   \n0  臺灣臺南地方法院刑事判決100年度交訴字第154號公訴人臺灣臺南地方法院檢察署檢察官被告陳進...   \n0  臺灣臺南地方法院刑事判決100年度交訴字第157號公訴人臺灣臺南地方法院檢察署檢察官被告林明...   \n0  臺灣臺南地方法院刑事判決100年度交訴字第158號公訴人臺灣臺南地方法院檢察署檢察官被告林國...   \n0  臺灣臺南地方法院刑事判決100年度交訴字第160號公訴人臺灣臺南地方法院檢察署檢察官被告蘇錦...   \n0  臺灣臺南地方法院刑事判決100年度交訴字第167號公訴人臺灣臺南地方法院檢察署檢察官被告陳運...   \n0  臺灣臺南地方法院刑事判決100年度交訴字第169號公訴人臺灣臺南地方法院檢察署檢察官被告湯州...   \n0  臺灣臺南地方法院刑事判決100年度交訴字第172號公訴人臺灣臺南地方法院檢察署檢察官被告胡志...   \n\n                                           Situation  \n0  居盛川於民國100年7月18日晚間8時許起，在臺南市善化區某檳榔攤與友人飲用酒類，明知自己酒...  \n0  吳家寶於民國100年7月23日晚上9時50分許，騎駛車牌號碼207-ENX號普通重型機車，沿...  \n0  趙平義於民國100年7月13日下午4時20分許，駕駛車牌號碼J4-3497號自小貨車，沿臺南...  \n0  陳進曜於民國100年5月7日20時40分許，駕駛車號P3-3072號自小客車，沿臺南市○○區...  \n0  林明宏於民國100年4月28日凌晨1時5分許，駕駛車牌號碼UN-2008號自小客車，沿臺南市...  \n0  林國寶於民國100年7月28日晚間8時50分許，騎乘車牌號碼2FL-700號重型機車，沿臺南...  \n0  蘇錦章明知酒後駕車易生危險，於民國100年9月18日16時許，在臺南市白河區崎內裡某處飲酒後...  \n0  陳運嘉於民國100年5月28日上午8時許，駕駛車牌號碼8G-3456號自用小客車，沿臺南市○...  \n0  湯州源曾因公共危險案件，經本院以99年度交簡字第1991號判決判處有期徒刑2月確定，甫於民國...  \n0  胡志誠於民國100年2月11日凌晨2時17分許，駕駛車牌號碼1795－XV號自用小客車，沿臺...  ",
      "text/html": "<div>\n<style scoped>\n    .dataframe tbody tr th:only-of-type {\n        vertical-align: middle;\n    }\n\n    .dataframe tbody tr th {\n        vertical-align: top;\n    }\n\n    .dataframe thead th {\n        text-align: right;\n    }\n</style>\n<table border=\"1\" class=\"dataframe\">\n  <thead>\n    <tr style=\"text-align: right;\">\n      <th></th>\n      <th>id</th>\n      <th>court</th>\n      <th>date</th>\n      <th>no</th>\n      <th>sys</th>\n      <th>reason</th>\n      <th>type</th>\n      <th>mainText</th>\n      <th>judgement</th>\n      <th>Situation</th>\n    </tr>\n  </thead>\n  <tbody>\n    <tr>\n      <td>0</td>\n      <td>171</td>\n      <td>臺灣臺南地方法院</td>\n      <td>2011-11-30T00:00:00+08:00</td>\n      <td>100,交訴,143</td>\n      <td>刑事</td>\n      <td>公共危險</td>\n      <td>判決</td>\n      <td>居盛川服用酒類，不能安全駕駛動力交通工具而駕駛，處拘役伍拾日，如易科罰金，以新臺幣壹仟元折算...</td>\n      <td>臺灣臺南地方法院刑事判決100年度交訴字第143號公訴人臺灣臺南地方法院檢察署檢察官被告上列...</td>\n      <td>居盛川於民國100年7月18日晚間8時許起，在臺南市善化區某檳榔攤與友人飲用酒類，明知自己酒...</td>\n    </tr>\n    <tr>\n      <td>0</td>\n      <td>172</td>\n      <td>臺灣臺南地方法院</td>\n      <td>2011-11-30T00:00:00+08:00</td>\n      <td>100,交訴,145</td>\n      <td>刑事</td>\n      <td>公共危險</td>\n      <td>判決</td>\n      <td>吳家寶駕駛動力交通工具肇事，致人傷而逃逸，處有期徒刑陸月，如易科罰金，以新臺幣壹仟元折算壹日...</td>\n      <td>臺灣臺南地方法院刑事判決100年度交訴字第145號公訴人臺灣臺南地方法院檢察署檢察官被告吳家...</td>\n      <td>吳家寶於民國100年7月23日晚上9時50分許，騎駛車牌號碼207-ENX號普通重型機車，沿...</td>\n    </tr>\n    <tr>\n      <td>0</td>\n      <td>173</td>\n      <td>臺灣臺南地方法院</td>\n      <td>2011-12-28T00:00:00+08:00</td>\n      <td>100,交訴,151</td>\n      <td>刑事</td>\n      <td>公共危險</td>\n      <td>判決</td>\n      <td>趙平義駕駛動力交通工具肇事，致人受傷而逃逸，處有期徒刑陸月，如易科罰金，以新臺幣壹仟元折算壹...</td>\n      <td>臺灣臺南地方法院刑事判決100年度交訴字第151號公訴人臺灣臺南地方法院檢察署檢察官被告趙平...</td>\n      <td>趙平義於民國100年7月13日下午4時20分許，駕駛車牌號碼J4-3497號自小貨車，沿臺南...</td>\n    </tr>\n    <tr>\n      <td>0</td>\n      <td>174</td>\n      <td>臺灣臺南地方法院</td>\n      <td>2011-12-12T00:00:00+08:00</td>\n      <td>100,交訴,154</td>\n      <td>刑事</td>\n      <td>公共危險</td>\n      <td>判決</td>\n      <td>陳進曜駕駛動力交通工具肇事，致人受傷而逃逸，處有期徒刑陸月，如易科罰金，以新臺幣壹仟元折算壹...</td>\n      <td>臺灣臺南地方法院刑事判決100年度交訴字第154號公訴人臺灣臺南地方法院檢察署檢察官被告陳進...</td>\n      <td>陳進曜於民國100年5月7日20時40分許，駕駛車號P3-3072號自小客車，沿臺南市○○區...</td>\n    </tr>\n    <tr>\n      <td>0</td>\n      <td>175</td>\n      <td>臺灣臺南地方法院</td>\n      <td>2012-01-18T00:00:00+08:00</td>\n      <td>100,交訴,157</td>\n      <td>刑事</td>\n      <td>公共危險</td>\n      <td>判決</td>\n      <td>林明宏駕駛動力交通工具肇事，致人傷而逃逸，處有期徒刑陸月，如易科罰金，以新臺幣壹仟元折算壹日...</td>\n      <td>臺灣臺南地方法院刑事判決100年度交訴字第157號公訴人臺灣臺南地方法院檢察署檢察官被告林明...</td>\n      <td>林明宏於民國100年4月28日凌晨1時5分許，駕駛車牌號碼UN-2008號自小客車，沿臺南市...</td>\n    </tr>\n    <tr>\n      <td>0</td>\n      <td>176</td>\n      <td>臺灣臺南地方法院</td>\n      <td>2011-12-12T00:00:00+08:00</td>\n      <td>100,交訴,158</td>\n      <td>刑事</td>\n      <td>公共危險</td>\n      <td>判決</td>\n      <td>林國寶駕駛動力交通工具肇事，致人受傷而逃逸，處有期徒刑陸月，如易科罰金，以新臺幣壹仟元折算壹...</td>\n      <td>臺灣臺南地方法院刑事判決100年度交訴字第158號公訴人臺灣臺南地方法院檢察署檢察官被告林國...</td>\n      <td>林國寶於民國100年7月28日晚間8時50分許，騎乘車牌號碼2FL-700號重型機車，沿臺南...</td>\n    </tr>\n    <tr>\n      <td>0</td>\n      <td>177</td>\n      <td>臺灣臺南地方法院</td>\n      <td>2011-12-21T00:00:00+08:00</td>\n      <td>100,交訴,160</td>\n      <td>刑事</td>\n      <td>公共危險</td>\n      <td>判決</td>\n      <td>蘇錦章服用酒類，不能安全駕駛動力交通工具而駕駛，處拘役伍拾伍日，如易科罰金，以新臺幣壹仟元折...</td>\n      <td>臺灣臺南地方法院刑事判決100年度交訴字第160號公訴人臺灣臺南地方法院檢察署檢察官被告蘇錦...</td>\n      <td>蘇錦章明知酒後駕車易生危險，於民國100年9月18日16時許，在臺南市白河區崎內裡某處飲酒後...</td>\n    </tr>\n    <tr>\n      <td>0</td>\n      <td>178</td>\n      <td>臺灣臺南地方法院</td>\n      <td>2012-03-07T00:00:00+08:00</td>\n      <td>100,交訴,167</td>\n      <td>刑事</td>\n      <td>公共危險</td>\n      <td>判決</td>\n      <td>陳運嘉駕駛動力交通工具肇事，致人傷而逃逸，處有期徒刑陸月，如易科罰金，以新臺幣壹仟元折算壹日...</td>\n      <td>臺灣臺南地方法院刑事判決100年度交訴字第167號公訴人臺灣臺南地方法院檢察署檢察官被告陳運...</td>\n      <td>陳運嘉於民國100年5月28日上午8時許，駕駛車牌號碼8G-3456號自用小客車，沿臺南市○...</td>\n    </tr>\n    <tr>\n      <td>0</td>\n      <td>179</td>\n      <td>臺灣臺南地方法院</td>\n      <td>2012-01-11T00:00:00+08:00</td>\n      <td>100,交訴,169</td>\n      <td>刑事</td>\n      <td>公共危險</td>\n      <td>判決</td>\n      <td>湯州源駕駛動力交通工具肇事，致人受傷而逃逸，累犯，處有期徒刑柒月。</td>\n      <td>臺灣臺南地方法院刑事判決100年度交訴字第169號公訴人臺灣臺南地方法院檢察署檢察官被告湯州...</td>\n      <td>湯州源曾因公共危險案件，經本院以99年度交簡字第1991號判決判處有期徒刑2月確定，甫於民國...</td>\n    </tr>\n    <tr>\n      <td>0</td>\n      <td>180</td>\n      <td>臺灣臺南地方法院</td>\n      <td>2012-01-11T00:00:00+08:00</td>\n      <td>100,交訴,172</td>\n      <td>刑事</td>\n      <td>公共危險</td>\n      <td>判決</td>\n      <td>胡志誠駕駛動力交通工具肇事，致人受傷而逃逸，處有期徒刑陸月，如易科罰金，以新臺幣壹仟元折算壹...</td>\n      <td>臺灣臺南地方法院刑事判決100年度交訴字第172號公訴人臺灣臺南地方法院檢察署檢察官被告胡志...</td>\n      <td>胡志誠於民國100年2月11日凌晨2時17分許，駕駛車牌號碼1795－XV號自用小客車，沿臺...</td>\n    </tr>\n  </tbody>\n</table>\n</div>"
     },
     "metadata": {},
     "output_type": "execute_result",
     "execution_count": 100
    }
   ],
   "source": [
    "df[df['reason'] == ('公共危險')].iloc[20:30]"
   ]
  },
  {
   "cell_type": "code",
   "execution_count": 101,
   "metadata": {
    "pycharm": {
     "name": "#%%\n",
     "is_executing": false
    }
   },
   "outputs": [
    {
     "data": {
      "text/plain": "id           1396\ncourt        1396\ndate         1396\nno           1396\nsys          1396\nreason       1396\ntype         1396\nmainText     1396\njudgement    1396\nSituation    1396\ndtype: int64"
     },
     "metadata": {},
     "output_type": "execute_result",
     "execution_count": 101
    }
   ],
   "source": [
    "df[df['Situation'].str.len() < 513].count()"
   ]
  },
  {
   "cell_type": "code",
   "execution_count": 102,
   "outputs": [
    {
     "data": {
      "text/plain": "id           1396\ncourt        1396\ndate         1396\nno           1396\nsys          1396\nreason       1396\ntype         1396\nmainText     1396\njudgement    1396\nSituation    1396\ndtype: int64"
     },
     "metadata": {},
     "output_type": "execute_result",
     "execution_count": 102
    }
   ],
   "source": [
    "df.count()"
   ],
   "metadata": {
    "collapsed": false,
    "pycharm": {
     "name": "#%%\n",
     "is_executing": false
    }
   }
  },
  {
   "cell_type": "code",
   "execution_count": 103,
   "outputs": [
    {
     "name": "stdout",
     "text": [
      "reason\n偽證              1\n偽造文書            9\n傷害            191\n公共危險          206\n妨害公務           88\n妨害名譽          169\n妨害性自主          91\n妨害性自主罪         63\n妨害自由           86\n妨害風化           68\n強盜              9\n搶奪             76\n槍砲彈藥刀械管制        4\n殺人              1\n殺人未遂            3\n毒品危害防制條例       60\n竊盜            177\n藥事法             2\n詐欺              7\n貪污              4\n賭博              4\n過失致死            7\n違反毒品危害防制條例      6\n違反著作權法         61\n醫師法             3\nName: no, dtype: int64\n"
     ],
     "output_type": "stream"
    }
   ],
   "source": [
    "import matplotlib.pyplot as plt\n",
    "%matplotlib inline\n",
    "\n",
    "\n",
    "df['reason'] = df['reason'].str.replace('等', '')\n",
    "print(df.groupby(['reason']).count()['no'])"
   ],
   "metadata": {
    "collapsed": false,
    "pycharm": {
     "name": "#%%\n",
     "is_executing": false
    }
   }
  },
  {
   "cell_type": "code",
   "execution_count": 108,
   "outputs": [],
   "source": [
    "test = df.sample(n=200)\n",
    "test.to_csv('.//QA_Test1//HBert//dataV2//Test200_512.csv', index=0) "
   ],
   "metadata": {
    "collapsed": false,
    "pycharm": {
     "name": "#%%\n",
     "is_executing": false
    }
   }
  },
  {
   "cell_type": "code",
   "execution_count": 106,
   "outputs": [
    {
     "data": {
      "text/plain": "id           200\ncourt        200\ndate         200\nno           200\nsys          200\nreason       200\ntype         200\nmainText     200\njudgement    200\nSituation    200\ndtype: int64"
     },
     "metadata": {},
     "output_type": "execute_result",
     "execution_count": 106
    }
   ],
   "source": [
    "test.count()"
   ],
   "metadata": {
    "collapsed": false,
    "pycharm": {
     "name": "#%%\n",
     "is_executing": false
    }
   }
  },
  {
   "cell_type": "code",
   "execution_count": 105,
   "outputs": [
    {
     "traceback": [
      "\u001b[1;31m---------------------------------------------------------------------------\u001b[0m",
      "\u001b[1;31mValueError\u001b[0m                                Traceback (most recent call last)",
      "\u001b[1;32m<ipython-input-105-0ba0e1ad84b0>\u001b[0m in \u001b[0;36m<module>\u001b[1;34m\u001b[0m\n\u001b[0;32m      1\u001b[0m \u001b[1;31m##拆分df\u001b[0m\u001b[1;33m\u001b[0m\u001b[1;33m\u001b[0m\u001b[0m\n\u001b[1;32m----> 2\u001b[1;33m \u001b[0mdf1\u001b[0m\u001b[1;33m=\u001b[0m\u001b[0mdf\u001b[0m\u001b[1;33m[\u001b[0m\u001b[1;33m~\u001b[0m\u001b[0mdf\u001b[0m\u001b[1;33m.\u001b[0m\u001b[0mindex\u001b[0m\u001b[1;33m.\u001b[0m\u001b[0misin\u001b[0m\u001b[1;33m(\u001b[0m\u001b[0mtest\u001b[0m\u001b[1;33m.\u001b[0m\u001b[0mindex\u001b[0m\u001b[1;33m)\u001b[0m\u001b[1;33m]\u001b[0m\u001b[1;33m.\u001b[0m\u001b[0msample\u001b[0m\u001b[1;33m(\u001b[0m\u001b[0mn\u001b[0m\u001b[1;33m=\u001b[0m\u001b[1;36m1000\u001b[0m\u001b[1;33m)\u001b[0m\u001b[1;31m#按0.6比例随机采样\u001b[0m\u001b[1;33m\u001b[0m\u001b[0m\n\u001b[0m\u001b[0;32m      3\u001b[0m \u001b[0mdf1\u001b[0m\u001b[1;33m.\u001b[0m\u001b[0mhead\u001b[0m\u001b[1;33m(\u001b[0m\u001b[1;33m)\u001b[0m\u001b[1;33m\u001b[0m\u001b[0m\n",
      "\u001b[1;32mc:\\users\\user\\pycharmprojects\\pytorch\\venv\\lib\\site-packages\\pandas\\core\\generic.py\u001b[0m in \u001b[0;36msample\u001b[1;34m(self, n, frac, replace, weights, random_state, axis)\u001b[0m\n\u001b[0;32m   4968\u001b[0m             )\n\u001b[0;32m   4969\u001b[0m \u001b[1;33m\u001b[0m\u001b[0m\n\u001b[1;32m-> 4970\u001b[1;33m         \u001b[0mlocs\u001b[0m \u001b[1;33m=\u001b[0m \u001b[0mrs\u001b[0m\u001b[1;33m.\u001b[0m\u001b[0mchoice\u001b[0m\u001b[1;33m(\u001b[0m\u001b[0maxis_length\u001b[0m\u001b[1;33m,\u001b[0m \u001b[0msize\u001b[0m\u001b[1;33m=\u001b[0m\u001b[0mn\u001b[0m\u001b[1;33m,\u001b[0m \u001b[0mreplace\u001b[0m\u001b[1;33m=\u001b[0m\u001b[0mreplace\u001b[0m\u001b[1;33m,\u001b[0m \u001b[0mp\u001b[0m\u001b[1;33m=\u001b[0m\u001b[0mweights\u001b[0m\u001b[1;33m)\u001b[0m\u001b[1;33m\u001b[0m\u001b[0m\n\u001b[0m\u001b[0;32m   4971\u001b[0m         \u001b[1;32mreturn\u001b[0m \u001b[0mself\u001b[0m\u001b[1;33m.\u001b[0m\u001b[0mtake\u001b[0m\u001b[1;33m(\u001b[0m\u001b[0mlocs\u001b[0m\u001b[1;33m,\u001b[0m \u001b[0maxis\u001b[0m\u001b[1;33m=\u001b[0m\u001b[0maxis\u001b[0m\u001b[1;33m,\u001b[0m \u001b[0mis_copy\u001b[0m\u001b[1;33m=\u001b[0m\u001b[1;32mFalse\u001b[0m\u001b[1;33m)\u001b[0m\u001b[1;33m\u001b[0m\u001b[0m\n\u001b[0;32m   4972\u001b[0m \u001b[1;33m\u001b[0m\u001b[0m\n",
      "\u001b[1;32mmtrand.pyx\u001b[0m in \u001b[0;36mmtrand.RandomState.choice\u001b[1;34m()\u001b[0m\n",
      "\u001b[1;31mValueError\u001b[0m: 'a' must be greater than 0 unless no samples are taken"
     ],
     "ename": "ValueError",
     "evalue": "'a' must be greater than 0 unless no samples are taken",
     "output_type": "error"
    }
   ],
   "source": [
    "##拆分df\n",
    "df1=df[~df.index.isin(test.index)].sample(n=1000)#按0.6比例随机采样\n",
    "df1.head()"
   ],
   "metadata": {
    "collapsed": false,
    "pycharm": {
     "name": "#%%\n",
     "is_executing": false
    }
   }
  },
  {
   "cell_type": "code",
   "execution_count": null,
   "outputs": [],
   "source": [
    "df2=test\n",
    "df2.head()"
   ],
   "metadata": {
    "collapsed": false,
    "pycharm": {
     "name": "#%%\n",
     "is_executing": false
    }
   }
  },
  {
   "cell_type": "code",
   "execution_count": null,
   "outputs": [],
   "source": [
    "class Data(object):\n",
    "    def __init__(self):\n",
    "        self.paragraphs = []\n",
    "        self.id = \"0\"\n",
    "        self.title = \"\"\n",
    "\n",
    "class Djson(object):\n",
    "    def __init__(self):\n",
    "        self.version = \"v1.0\"\n",
    "        self.data = []\n",
    " "
   ],
   "metadata": {
    "collapsed": false,
    "pycharm": {
     "name": "#%%\n",
     "is_executing": false
    }
   }
  },
  {
   "cell_type": "code",
   "execution_count": null,
   "outputs": [],
   "source": [
    "djson1 = Djson()\n",
    "for index, row in df1.iterrows():\n",
    "    try:\n",
    "        d = Data()\n",
    "        d.paragraphs = [{\"id\" : \"TRAIN_\" + str(index), \n",
    "                      #\"context\" : row.reason + \"[SEP]\" + row.judgement, \n",
    "                      \"context\" : row.judgement, \n",
    "                      \"qas\":[{\n",
    "                          \"question\" : \"?\",\n",
    "                          \"id\" : \"TRAIN_\" + str(index) + \"_QUERY_0\",\n",
    "                          \"answers\" :[{\n",
    "                              \"text\" : row.Situation,\n",
    "                              \"answer_start\" : row.judgement.index(row.Situation) #+ len(row.reason + \"[SET]\")\n",
    "                          }]\n",
    "                      }]\n",
    "                    }\n",
    "                    ]\n",
    "        d.id = \"TRAIN_\" + str(index)\n",
    "        d.title = row.no\n",
    "        djson1.data.append(d)\n",
    "    except:\n",
    "        print(index)\n",
    "        print(row.no)"
   ],
   "metadata": {
    "collapsed": false,
    "pycharm": {
     "name": "#%%\n",
     "is_executing": false
    }
   }
  },
  {
   "cell_type": "code",
   "execution_count": null,
   "outputs": [],
   "source": [
    "y = json.dumps(djson1, default=lambda o: o.__dict__, ensure_ascii=False)"
   ],
   "metadata": {
    "collapsed": false,
    "pycharm": {
     "name": "#%%\n",
     "is_executing": false
    }
   }
  },
  {
   "cell_type": "code",
   "execution_count": null,
   "outputs": [],
   "source": [
    "with open('./QA_Test1/HBert/dataV2/train_1000_Sample512.json', 'w', encoding='utf8') as outfile:\n",
    "    json.dump(djson1, outfile, default=lambda o: o.__dict__ , ensure_ascii=False)\n",
    "    "
   ],
   "metadata": {
    "collapsed": false,
    "pycharm": {
     "name": "#%%\n",
     "is_executing": false
    }
   }
  },
  {
   "cell_type": "code",
   "execution_count": 108,
   "outputs": [],
   "source": [],
   "metadata": {
    "collapsed": false,
    "pycharm": {
     "name": "#%%\n",
     "is_executing": false
    }
   }
  },
  {
   "cell_type": "code",
   "execution_count": 120,
   "outputs": [
    {
     "data": {
      "text/plain": "id           200\ncourt        200\ndate         200\nno           200\nsys          200\nreason       200\ntype         200\nmainText     200\njudgement    200\nSituation    200\ndtype: int64"
     },
     "metadata": {},
     "output_type": "execute_result",
     "execution_count": 120
    }
   ],
   "source": [
    "df2=test\n",
    "df2[df2['Situation'].str.len() < 512].count()"
   ],
   "metadata": {
    "collapsed": false,
    "pycharm": {
     "name": "#%%\n",
     "is_executing": false
    }
   }
  },
  {
   "cell_type": "code",
   "execution_count": 121,
   "outputs": [
    {
     "data": {
      "text/plain": "     id     court                       date           no sys    reason type  \\\n0   577  臺灣臺中地方法院  2016-08-26T00:00:00+08:00   105,侵訴,124  刑事    妨害性自主罪   判決   \n0   381  臺灣新北地方法院  2015-11-06T00:00:00+08:00    104,原訴,27  刑事  毒品危害防制條例   判決   \n0  1082  臺灣臺南地方法院  2017-01-23T00:00:00+08:00    105,易,913  刑事        傷害   判決   \n0  1349  臺灣高雄地方法院  2017-03-30T00:00:00+08:00    106,審智易,5  刑事    違反著作權法   判決   \n0  1245  臺灣臺南地方法院  2017-12-29T00:00:00+08:00  106,交易,1009  刑事      公共危險   判決   \n\n                                            mainText  \\\n0                     丁○○對於十四歲以上未滿十六歲之女子為性交，處有期徒刑柒月。   \n0  楊寶珍施用第一級毒品，累犯，處有期徒刑玖月。扣案之第一級毒品海洛因（驗餘淨重零點零捌參壹公克...   \n0                                  許堯共同犯傷害罪，處有期徒刑拾月。   \n0                                本件管轄錯誤，移送於臺灣橋頭地方法院。   \n0  方建忠吐氣所含酒精濃度達每公升零點二五毫克以上而駕駛動力交通工具，累犯，處有期徒刑陸月，如易...   \n\n                                           judgement  \\\n0  臺灣臺中地方法院刑事判決105年度侵訴字第124號公訴人臺灣臺中地方法院檢察署檢察官被告陳宗...   \n0  臺灣新北地方法院刑事判決104年度原訴字第27號公訴人臺灣新北地方法院檢察署檢察官被告楊寶珍...   \n0  臺灣臺南地方法院刑事判決105年度易字第913號公訴人臺灣臺南地方法院檢察署檢察官被告許堯上...   \n0  臺灣高雄地方法院刑事判決106年度審智易字第5號公訴人臺灣高雄地方法院檢察署檢察官被告張轟耀...   \n0  臺灣臺南地方法院刑事判決106年度交易字第1009號公訴人臺灣臺南地方法院檢察署檢察官被告方...   \n\n                                           Situation  \n0  猶不知悔改，基於對於14歲以上未滿16歲之女子為性交犯意，於104年9月15日晚上11時許，...  \n0  104年4月19日上午某時許（起訴書略為：於104年4月19日18時5分許為警採尿時點回溯2...  \n0  許堯係許文賢（另經本院判處有期徒刑8月確定）之兄，許文賢及黃昱翔（另經本院判處有期徒刑7月確...  \n0  被告張轟耀明知其以帳號「hgus1599」刊登在露天拍賣網站上販售「電競鍵盤PH-45」網頁...  \n0  詎不知警惕，於106年10月21日17時許，在臺南市佳里區民安里某大廟附近之友人家中飲酒後，...  ",
      "text/html": "<div>\n<style scoped>\n    .dataframe tbody tr th:only-of-type {\n        vertical-align: middle;\n    }\n\n    .dataframe tbody tr th {\n        vertical-align: top;\n    }\n\n    .dataframe thead th {\n        text-align: right;\n    }\n</style>\n<table border=\"1\" class=\"dataframe\">\n  <thead>\n    <tr style=\"text-align: right;\">\n      <th></th>\n      <th>id</th>\n      <th>court</th>\n      <th>date</th>\n      <th>no</th>\n      <th>sys</th>\n      <th>reason</th>\n      <th>type</th>\n      <th>mainText</th>\n      <th>judgement</th>\n      <th>Situation</th>\n    </tr>\n  </thead>\n  <tbody>\n    <tr>\n      <td>0</td>\n      <td>577</td>\n      <td>臺灣臺中地方法院</td>\n      <td>2016-08-26T00:00:00+08:00</td>\n      <td>105,侵訴,124</td>\n      <td>刑事</td>\n      <td>妨害性自主罪</td>\n      <td>判決</td>\n      <td>丁○○對於十四歲以上未滿十六歲之女子為性交，處有期徒刑柒月。</td>\n      <td>臺灣臺中地方法院刑事判決105年度侵訴字第124號公訴人臺灣臺中地方法院檢察署檢察官被告陳宗...</td>\n      <td>猶不知悔改，基於對於14歲以上未滿16歲之女子為性交犯意，於104年9月15日晚上11時許，...</td>\n    </tr>\n    <tr>\n      <td>0</td>\n      <td>381</td>\n      <td>臺灣新北地方法院</td>\n      <td>2015-11-06T00:00:00+08:00</td>\n      <td>104,原訴,27</td>\n      <td>刑事</td>\n      <td>毒品危害防制條例</td>\n      <td>判決</td>\n      <td>楊寶珍施用第一級毒品，累犯，處有期徒刑玖月。扣案之第一級毒品海洛因（驗餘淨重零點零捌參壹公克...</td>\n      <td>臺灣新北地方法院刑事判決104年度原訴字第27號公訴人臺灣新北地方法院檢察署檢察官被告楊寶珍...</td>\n      <td>104年4月19日上午某時許（起訴書略為：於104年4月19日18時5分許為警採尿時點回溯2...</td>\n    </tr>\n    <tr>\n      <td>0</td>\n      <td>1082</td>\n      <td>臺灣臺南地方法院</td>\n      <td>2017-01-23T00:00:00+08:00</td>\n      <td>105,易,913</td>\n      <td>刑事</td>\n      <td>傷害</td>\n      <td>判決</td>\n      <td>許堯共同犯傷害罪，處有期徒刑拾月。</td>\n      <td>臺灣臺南地方法院刑事判決105年度易字第913號公訴人臺灣臺南地方法院檢察署檢察官被告許堯上...</td>\n      <td>許堯係許文賢（另經本院判處有期徒刑8月確定）之兄，許文賢及黃昱翔（另經本院判處有期徒刑7月確...</td>\n    </tr>\n    <tr>\n      <td>0</td>\n      <td>1349</td>\n      <td>臺灣高雄地方法院</td>\n      <td>2017-03-30T00:00:00+08:00</td>\n      <td>106,審智易,5</td>\n      <td>刑事</td>\n      <td>違反著作權法</td>\n      <td>判決</td>\n      <td>本件管轄錯誤，移送於臺灣橋頭地方法院。</td>\n      <td>臺灣高雄地方法院刑事判決106年度審智易字第5號公訴人臺灣高雄地方法院檢察署檢察官被告張轟耀...</td>\n      <td>被告張轟耀明知其以帳號「hgus1599」刊登在露天拍賣網站上販售「電競鍵盤PH-45」網頁...</td>\n    </tr>\n    <tr>\n      <td>0</td>\n      <td>1245</td>\n      <td>臺灣臺南地方法院</td>\n      <td>2017-12-29T00:00:00+08:00</td>\n      <td>106,交易,1009</td>\n      <td>刑事</td>\n      <td>公共危險</td>\n      <td>判決</td>\n      <td>方建忠吐氣所含酒精濃度達每公升零點二五毫克以上而駕駛動力交通工具，累犯，處有期徒刑陸月，如易...</td>\n      <td>臺灣臺南地方法院刑事判決106年度交易字第1009號公訴人臺灣臺南地方法院檢察署檢察官被告方...</td>\n      <td>詎不知警惕，於106年10月21日17時許，在臺南市佳里區民安里某大廟附近之友人家中飲酒後，...</td>\n    </tr>\n  </tbody>\n</table>\n</div>"
     },
     "metadata": {},
     "output_type": "execute_result",
     "execution_count": 121
    }
   ],
   "source": [
    "df2.head()"
   ],
   "metadata": {
    "collapsed": false,
    "pycharm": {
     "name": "#%%\n",
     "is_executing": false
    }
   }
  },
  {
   "cell_type": "code",
   "execution_count": 125,
   "outputs": [],
   "source": [
    "djson2 = Djson()\n",
    "for index, row in df2.iterrows():\n",
    "    try:\n",
    "        d = Data()\n",
    "        d.paragraphs = [{\"id\" : \"TEST_\" + str(row.id), \n",
    "                      #\"context\" : row.reason + \"[SEP]\" + row.judgement, \n",
    "                      \"context\" : row.judgement, \n",
    "                      \"qas\":[{\n",
    "                          \"question\" : \"?\",\n",
    "                          \"id\" : \"TEST_\" + str(row.id) + \"_QUERY_0\",\n",
    "                          \"answers\" :[{\n",
    "                              \"text\" : row.Situation,\n",
    "                              \"answer_start\" : row.judgement.index(row.Situation) #+ len(row.reason + \"[SET]\")\n",
    "                          }]\n",
    "                      }]\n",
    "                    }\n",
    "                    ]\n",
    "        d.id = \"TEST_\" + str(row.id)\n",
    "        d.title = row.no\n",
    "        djson2.data.append(d)\n",
    "    except:\n",
    "        print(index)\n",
    "        print(row.no)"
   ],
   "metadata": {
    "collapsed": false,
    "pycharm": {
     "name": "#%%\n",
     "is_executing": false
    }
   }
  },
  {
   "cell_type": "code",
   "execution_count": 127,
   "outputs": [],
   "source": [
    "y = json.dumps(djson2, default=lambda o: o.__dict__, ensure_ascii=False)"
   ],
   "metadata": {
    "collapsed": false,
    "pycharm": {
     "name": "#%%\n",
     "is_executing": false
    }
   }
  },
  {
   "cell_type": "code",
   "execution_count": 128,
   "outputs": [],
   "source": [
    "with open('./QA_Test1/HBert/dataV2/TestData_512.json', 'w', encoding='utf8') as outfile:\n",
    "    json.dump(djson2, outfile, default=lambda o: o.__dict__ , ensure_ascii=False)\n",
    "    "
   ],
   "metadata": {
    "collapsed": false,
    "pycharm": {
     "name": "#%%\n",
     "is_executing": false
    }
   }
  },
  {
   "cell_type": "code",
   "execution_count": 112,
   "outputs": [
    {
     "data": {
      "text/plain": "         court                       date          no sys reason type  \\\nid                                                                      \n1031  臺灣高雄地方法院  2016-06-22T00:00:00+08:00  105,簡上,138  刑事   妨害自由   判決   \n1047  臺灣臺南地方法院  2017-04-21T00:00:00+08:00   105,簡上,91  刑事     傷害   判決   \n1275  臺灣高雄地方法院  2017-07-28T00:00:00+08:00  106,簡,1989  刑事   妨害自由   判決   \n\n                                  mainText  \\\nid                                           \n1031           原判決撤銷。石明玉犯侵入建築物附連圍繞之土地罪，免刑。   \n1047                                 上訴駁回。   \n1275  劉明宏犯侵入住宅罪，處拘役參拾伍日，如易科罰金，以新臺幣壹仟元折算壹日。   \n\n                                              judgement  \\\nid                                                        \n1031  臺灣高雄地方法院刑事判決105年度簡上字第138號上訴人即被告石明玉上列上訴人因妨害自由案件...   \n1047  臺灣臺南地方法院刑事判決105年度簡上字第91號上訴人陳永和即被告選任辯護人洪茂松律師上列上...   \n1275  臺灣高雄地方法院刑事簡易判決106年度簡字第1989號聲請人臺灣高雄地方法院檢察署檢察官被告...   \n\n                                              Situation  \nid                                                       \n1031  石明玉基於侵入建築物附連圍繞土地之犯意，於民國104年9月20日18時36分許，明知未經洪啟...  \n1047  陳永和於民國104年11月18日13時20分許，因其位在臺南市○○區○○路000號（下稱36...  \n1275  劉明宏與林ＯＯ前為夫妻，二人間具有家庭暴力防治法第3條第1款所定之家庭成員關係。林ＯＯ現居其...  ",
      "text/html": "<div>\n<style scoped>\n    .dataframe tbody tr th:only-of-type {\n        vertical-align: middle;\n    }\n\n    .dataframe tbody tr th {\n        vertical-align: top;\n    }\n\n    .dataframe thead th {\n        text-align: right;\n    }\n</style>\n<table border=\"1\" class=\"dataframe\">\n  <thead>\n    <tr style=\"text-align: right;\">\n      <th></th>\n      <th>court</th>\n      <th>date</th>\n      <th>no</th>\n      <th>sys</th>\n      <th>reason</th>\n      <th>type</th>\n      <th>mainText</th>\n      <th>judgement</th>\n      <th>Situation</th>\n    </tr>\n    <tr>\n      <th>id</th>\n      <th></th>\n      <th></th>\n      <th></th>\n      <th></th>\n      <th></th>\n      <th></th>\n      <th></th>\n      <th></th>\n      <th></th>\n    </tr>\n  </thead>\n  <tbody>\n    <tr>\n      <td>1031</td>\n      <td>臺灣高雄地方法院</td>\n      <td>2016-06-22T00:00:00+08:00</td>\n      <td>105,簡上,138</td>\n      <td>刑事</td>\n      <td>妨害自由</td>\n      <td>判決</td>\n      <td>原判決撤銷。石明玉犯侵入建築物附連圍繞之土地罪，免刑。</td>\n      <td>臺灣高雄地方法院刑事判決105年度簡上字第138號上訴人即被告石明玉上列上訴人因妨害自由案件...</td>\n      <td>石明玉基於侵入建築物附連圍繞土地之犯意，於民國104年9月20日18時36分許，明知未經洪啟...</td>\n    </tr>\n    <tr>\n      <td>1047</td>\n      <td>臺灣臺南地方法院</td>\n      <td>2017-04-21T00:00:00+08:00</td>\n      <td>105,簡上,91</td>\n      <td>刑事</td>\n      <td>傷害</td>\n      <td>判決</td>\n      <td>上訴駁回。</td>\n      <td>臺灣臺南地方法院刑事判決105年度簡上字第91號上訴人陳永和即被告選任辯護人洪茂松律師上列上...</td>\n      <td>陳永和於民國104年11月18日13時20分許，因其位在臺南市○○區○○路000號（下稱36...</td>\n    </tr>\n    <tr>\n      <td>1275</td>\n      <td>臺灣高雄地方法院</td>\n      <td>2017-07-28T00:00:00+08:00</td>\n      <td>106,簡,1989</td>\n      <td>刑事</td>\n      <td>妨害自由</td>\n      <td>判決</td>\n      <td>劉明宏犯侵入住宅罪，處拘役參拾伍日，如易科罰金，以新臺幣壹仟元折算壹日。</td>\n      <td>臺灣高雄地方法院刑事簡易判決106年度簡字第1989號聲請人臺灣高雄地方法院檢察署檢察官被告...</td>\n      <td>劉明宏與林ＯＯ前為夫妻，二人間具有家庭暴力防治法第3條第1款所定之家庭成員關係。林ＯＯ現居其...</td>\n    </tr>\n  </tbody>\n</table>\n</div>"
     },
     "metadata": {},
     "output_type": "execute_result",
     "execution_count": 112
    }
   ],
   "source": [
    "df1[119:122]"
   ],
   "metadata": {
    "collapsed": false,
    "pycharm": {
     "name": "#%%\n",
     "is_executing": false
    }
   }
  }
 ],
 "metadata": {
  "kernelspec": {
   "display_name": "Python 3",
   "language": "python",
   "name": "python3"
  },
  "language_info": {
   "codemirror_mode": {
    "name": "ipython",
    "version": 3
   },
   "file_extension": ".py",
   "mimetype": "text/x-python",
   "name": "python",
   "nbconvert_exporter": "python",
   "pygments_lexer": "ipython3",
   "version": "3.6.4"
  },
  "pycharm": {
   "stem_cell": {
    "cell_type": "raw",
    "source": [],
    "metadata": {
     "collapsed": false
    }
   }
  }
 },
 "nbformat": 4,
 "nbformat_minor": 2
}