{
 "cells": [
  {
   "cell_type": "code",
   "execution_count": 1,
   "metadata": {
    "pycharm": {
     "is_executing": false
    }
   },
   "outputs": [
    {
     "name": "stdout",
     "text": [
      "刑事判決_100,交訴,1_2011-03-01.json\n"
     ],
     "output_type": "stream"
    }
   ],
   "source": [
    "import os, json \n",
    "import pandas as pd \n",
    "\n",
    "path_to_json = 'J:\\Legal_Judgment\\臺灣新北地方法院_改' \n",
    "json_files = [pos_json for pos_json in os.listdir(path_to_json) if pos_json.endswith('.json')] \n",
    "print(json_files[0])"
   ]
  },
  {
   "cell_type": "code",
   "execution_count": 2,
   "metadata": {
    "pycharm": {
     "is_executing": false
    }
   },
   "outputs": [],
   "source": [
    "with open('J://Legal_Judgment//臺灣新北地方法院_改//'+json_files[0],\"r\",encoding=\"utf-8\") as f:\n",
    "    dt = json.load(f)"
   ]
  },
  {
   "cell_type": "code",
   "execution_count": 3,
   "metadata": {
    "pycharm": {
     "is_executing": false
    }
   },
   "outputs": [
    {
     "data": {
      "text/plain": "   id     court                       date        no sys reason type  \\\n0   0  臺灣新北地方法院  2011-03-01T00:00:00+08:00  100,交訴,1  刑事  公共危險等   判決   \n\n                                            mainText  \\\n0  黃承洋犯不能安全駕駛動力交通工具罪，科罰金新臺幣陸萬元，如易服勞役，以新臺幣壹仟元折算壹日。...   \n\n                                           judgement  \\\n0  臺灣板橋地方法院刑事判決100年度交訴字第1號公訴人臺灣板橋地方法院檢察署檢察官被告黃承洋上...   \n\n                                       judgement_SIT  \\\n0  臺灣板橋地方法院刑事判決100年度交訴字第1號公訴人臺灣板橋地方法院檢察署檢察官被告黃承洋上...   \n\n                                           Situation  \n0  黃承洋前於民國99年9月2日上午11時至12時許間，在其位在桃園縣龍潭鄉○○路122號之住處...  ",
      "text/html": "<div>\n<style scoped>\n    .dataframe tbody tr th:only-of-type {\n        vertical-align: middle;\n    }\n\n    .dataframe tbody tr th {\n        vertical-align: top;\n    }\n\n    .dataframe thead th {\n        text-align: right;\n    }\n</style>\n<table border=\"1\" class=\"dataframe\">\n  <thead>\n    <tr style=\"text-align: right;\">\n      <th></th>\n      <th>id</th>\n      <th>court</th>\n      <th>date</th>\n      <th>no</th>\n      <th>sys</th>\n      <th>reason</th>\n      <th>type</th>\n      <th>mainText</th>\n      <th>judgement</th>\n      <th>judgement_SIT</th>\n      <th>Situation</th>\n    </tr>\n  </thead>\n  <tbody>\n    <tr>\n      <td>0</td>\n      <td>0</td>\n      <td>臺灣新北地方法院</td>\n      <td>2011-03-01T00:00:00+08:00</td>\n      <td>100,交訴,1</td>\n      <td>刑事</td>\n      <td>公共危險等</td>\n      <td>判決</td>\n      <td>黃承洋犯不能安全駕駛動力交通工具罪，科罰金新臺幣陸萬元，如易服勞役，以新臺幣壹仟元折算壹日。...</td>\n      <td>臺灣板橋地方法院刑事判決100年度交訴字第1號公訴人臺灣板橋地方法院檢察署檢察官被告黃承洋上...</td>\n      <td>臺灣板橋地方法院刑事判決100年度交訴字第1號公訴人臺灣板橋地方法院檢察署檢察官被告黃承洋上...</td>\n      <td>黃承洋前於民國99年9月2日上午11時至12時許間，在其位在桃園縣龍潭鄉○○路122號之住處...</td>\n    </tr>\n  </tbody>\n</table>\n</div>"
     },
     "metadata": {},
     "output_type": "execute_result",
     "execution_count": 3
    }
   ],
   "source": [
    "dic = {\n",
    "    \"id\": 0,\n",
    "    \"court\": [dt[\"court\"]], \n",
    "    \"date\": [dt[\"date\"]],\n",
    "    \"no\": [dt[\"no\"]],\n",
    "    \"sys\": [dt[\"sys\"]],\n",
    "    \"reason\": [dt[\"reason\"]],\n",
    "    \"type\": [dt[\"type\"]],\n",
    "    \"mainText\": [dt[\"mainText\"]],\n",
    "    \"judgement\": [dt[\"judgement\"]],\n",
    "    \"judgement_SIT\": [dt[\"judgement_SIT\"]],\n",
    "    \"Situation\": [dt[\"Situation\"]]\n",
    "}\n",
    "df = pd.DataFrame(dic)\n",
    "df"
   ]
  },
  {
   "cell_type": "code",
   "execution_count": 4,
   "metadata": {
    "pycharm": {
     "is_executing": false
    }
   },
   "outputs": [
    {
     "name": "stdout",
     "text": [
      "22\n"
     ],
     "output_type": "stream"
    }
   ],
   "source": [
    "for x in range(1,167):\n",
    "    with open('J://Legal_Judgment//臺灣新北地方法院_改//'+json_files[x],\"r\",encoding=\"utf-8\") as f:\n",
    "        dt = json.load(f)\n",
    "    \n",
    "    try:\n",
    "        new = pd.DataFrame({\n",
    "        \"id\" : x,\n",
    "        \"court\": [dt[\"court\"]], \n",
    "        \"date\": [dt[\"date\"]],\n",
    "        \"no\": [dt[\"no\"]],\n",
    "        \"sys\": [dt[\"sys\"]],\n",
    "        \"reason\": [dt[\"reason\"]],\n",
    "        \"type\": [dt[\"type\"]],\n",
    "        \"mainText\": [dt[\"mainText\"]],\n",
    "        \"judgement\": [dt[\"judgement\"]],\n",
    "        \"judgement_SIT\": [dt[\"judgement_SIT\"]],\n",
    "        \"Situation\": [dt[\"Situation\"]]\n",
    "        })\n",
    "        \n",
    "    except:\n",
    "        print(x)\n",
    "\n",
    "    df = df.append(new)"
   ]
  },
  {
   "cell_type": "code",
   "execution_count": 5,
   "metadata": {
    "pycharm": {
     "is_executing": false
    }
   },
   "outputs": [],
   "source": [
    "df.to_csv('J://Legal_Judgment//Result.csv', index=0) "
   ]
  },
  {
   "cell_type": "code",
   "execution_count": 6,
   "outputs": [
    {
     "data": {
      "text/plain": "       court                       date         no sys reason type  \\\nid                                                                   \n0   臺灣新北地方法院  2011-03-01T00:00:00+08:00   100,交訴,1  刑事  公共危險等   判決   \n1   臺灣新北地方法院  2013-10-31T00:00:00+08:00  100,侵訴,93  刑事  妨害性自主   判決   \n2   臺灣新北地方法院  2011-09-30T00:00:00+08:00   100,矚訴,1  刑事    貪污等   判決   \n3   臺灣新北地方法院  2012-12-25T00:00:00+08:00   101,矚訴,1  刑事    貪污等   判決   \n4   臺灣新北地方法院  2014-05-16T00:00:00+08:00   101,矚訴,2  刑事    貪污等   判決   \n\n                                             mainText  \\\nid                                                      \n0   黃承洋犯不能安全駕駛動力交通工具罪，科罰金新臺幣陸萬元，如易服勞役，以新臺幣壹仟元折算壹日。...   \n1   甲○○犯乘機性交未遂罪，處有期徒刑壹年拾月。又犯乘機性交未遂罪，處有期徒刑壹年拾月。又犯乘機...   \n2   鍾金來、鄭夙岑、林小雁、劉桔鴻犯賭博罪，各處罰金新臺幣貳萬元，如易服勞役，均以新臺幣壹仟元折...   \n3                                       沈炳煌被訴部分公訴不受理。   \n4   陳莉庭犯如附表一所示之罪，各處如附表一所示之宣告刑，應執行有期徒刑壹年陸月，緩刑肆年，並應向...   \n\n                                            judgement  \\\nid                                                      \n0   臺灣板橋地方法院刑事判決100年度交訴字第1號公訴人臺灣板橋地方法院檢察署檢察官被告黃承洋上...   \n1   臺灣新北地方法院刑事判決100年度侵訴字第93號公訴人臺灣新北地方法院檢察署檢察官被告陳木信...   \n2   臺灣板橋地方法院刑事判決100年度矚訴字第1號公訴人臺灣板橋地方法院檢察署檢察官被告鍾金來鄭...   \n3   臺灣板橋地方法院刑事判決101年度矚訴字第1號公訴人臺灣板橋地方法院檢察署檢察官被告沈炳煌選...   \n4   臺灣新北地方法院刑事判決101年度矚訴字第2、4號公訴人臺灣新北地方法院檢察署檢察官被告陳莉...   \n\n                                        judgement_SIT  \\\nid                                                      \n0   臺灣板橋地方法院刑事判決100年度交訴字第1號公訴人臺灣板橋地方法院檢察署檢察官被告黃承洋上...   \n1   臺灣新北地方法院刑事判決100年度侵訴字第93號公訴人臺灣新北地方法院檢察署檢察官被告陳木信...   \n2   臺灣板橋地方法院刑事判決100年度矚訴字第1號公訴人臺灣板橋地方法院檢察署檢察官被告鍾金來鄭...   \n3   臺灣板橋地方法院刑事判決101年度矚訴字第1號公訴人臺灣板橋地方法院檢察署檢察官被告沈炳煌選...   \n4   臺灣新北地方法院刑事判決101年度矚訴字第2、4號公訴人臺灣新北地方法院檢察署檢察官被告陳莉...   \n\n                                            Situation  \nid                                                     \n0   黃承洋前於民國99年9月2日上午11時至12時許間，在其位在桃園縣龍潭鄉○○路122號之住處...  \n1   分別於民國99年8月中旬某日、9月中旬某日、11月中旬某日，以其持用之門號000000000...  \n2   黃朝邨及李慶華（以上二人本院另行審結）於民國82年間起在基隆市○○區○○路34號開設麗晶電子...  \n3   被告沈炳煌自民國93年8月1日起擔任新北市泰新莊區新泰國民中學（下稱新泰國中）校長，其在辦理...  \n4   冠瑋食品有限公司（下稱冠瑋公司）專營學生中央餐廚及餐盒之供應，周乾榮為冠瑋公司負責人兼任總經...  ",
      "text/html": "<div>\n<style scoped>\n    .dataframe tbody tr th:only-of-type {\n        vertical-align: middle;\n    }\n\n    .dataframe tbody tr th {\n        vertical-align: top;\n    }\n\n    .dataframe thead th {\n        text-align: right;\n    }\n</style>\n<table border=\"1\" class=\"dataframe\">\n  <thead>\n    <tr style=\"text-align: right;\">\n      <th></th>\n      <th>court</th>\n      <th>date</th>\n      <th>no</th>\n      <th>sys</th>\n      <th>reason</th>\n      <th>type</th>\n      <th>mainText</th>\n      <th>judgement</th>\n      <th>judgement_SIT</th>\n      <th>Situation</th>\n    </tr>\n    <tr>\n      <th>id</th>\n      <th></th>\n      <th></th>\n      <th></th>\n      <th></th>\n      <th></th>\n      <th></th>\n      <th></th>\n      <th></th>\n      <th></th>\n      <th></th>\n    </tr>\n  </thead>\n  <tbody>\n    <tr>\n      <td>0</td>\n      <td>臺灣新北地方法院</td>\n      <td>2011-03-01T00:00:00+08:00</td>\n      <td>100,交訴,1</td>\n      <td>刑事</td>\n      <td>公共危險等</td>\n      <td>判決</td>\n      <td>黃承洋犯不能安全駕駛動力交通工具罪，科罰金新臺幣陸萬元，如易服勞役，以新臺幣壹仟元折算壹日。...</td>\n      <td>臺灣板橋地方法院刑事判決100年度交訴字第1號公訴人臺灣板橋地方法院檢察署檢察官被告黃承洋上...</td>\n      <td>臺灣板橋地方法院刑事判決100年度交訴字第1號公訴人臺灣板橋地方法院檢察署檢察官被告黃承洋上...</td>\n      <td>黃承洋前於民國99年9月2日上午11時至12時許間，在其位在桃園縣龍潭鄉○○路122號之住處...</td>\n    </tr>\n    <tr>\n      <td>1</td>\n      <td>臺灣新北地方法院</td>\n      <td>2013-10-31T00:00:00+08:00</td>\n      <td>100,侵訴,93</td>\n      <td>刑事</td>\n      <td>妨害性自主</td>\n      <td>判決</td>\n      <td>甲○○犯乘機性交未遂罪，處有期徒刑壹年拾月。又犯乘機性交未遂罪，處有期徒刑壹年拾月。又犯乘機...</td>\n      <td>臺灣新北地方法院刑事判決100年度侵訴字第93號公訴人臺灣新北地方法院檢察署檢察官被告陳木信...</td>\n      <td>臺灣新北地方法院刑事判決100年度侵訴字第93號公訴人臺灣新北地方法院檢察署檢察官被告陳木信...</td>\n      <td>分別於民國99年8月中旬某日、9月中旬某日、11月中旬某日，以其持用之門號000000000...</td>\n    </tr>\n    <tr>\n      <td>2</td>\n      <td>臺灣新北地方法院</td>\n      <td>2011-09-30T00:00:00+08:00</td>\n      <td>100,矚訴,1</td>\n      <td>刑事</td>\n      <td>貪污等</td>\n      <td>判決</td>\n      <td>鍾金來、鄭夙岑、林小雁、劉桔鴻犯賭博罪，各處罰金新臺幣貳萬元，如易服勞役，均以新臺幣壹仟元折...</td>\n      <td>臺灣板橋地方法院刑事判決100年度矚訴字第1號公訴人臺灣板橋地方法院檢察署檢察官被告鍾金來鄭...</td>\n      <td>臺灣板橋地方法院刑事判決100年度矚訴字第1號公訴人臺灣板橋地方法院檢察署檢察官被告鍾金來鄭...</td>\n      <td>黃朝邨及李慶華（以上二人本院另行審結）於民國82年間起在基隆市○○區○○路34號開設麗晶電子...</td>\n    </tr>\n    <tr>\n      <td>3</td>\n      <td>臺灣新北地方法院</td>\n      <td>2012-12-25T00:00:00+08:00</td>\n      <td>101,矚訴,1</td>\n      <td>刑事</td>\n      <td>貪污等</td>\n      <td>判決</td>\n      <td>沈炳煌被訴部分公訴不受理。</td>\n      <td>臺灣板橋地方法院刑事判決101年度矚訴字第1號公訴人臺灣板橋地方法院檢察署檢察官被告沈炳煌選...</td>\n      <td>臺灣板橋地方法院刑事判決101年度矚訴字第1號公訴人臺灣板橋地方法院檢察署檢察官被告沈炳煌選...</td>\n      <td>被告沈炳煌自民國93年8月1日起擔任新北市泰新莊區新泰國民中學（下稱新泰國中）校長，其在辦理...</td>\n    </tr>\n    <tr>\n      <td>4</td>\n      <td>臺灣新北地方法院</td>\n      <td>2014-05-16T00:00:00+08:00</td>\n      <td>101,矚訴,2</td>\n      <td>刑事</td>\n      <td>貪污等</td>\n      <td>判決</td>\n      <td>陳莉庭犯如附表一所示之罪，各處如附表一所示之宣告刑，應執行有期徒刑壹年陸月，緩刑肆年，並應向...</td>\n      <td>臺灣新北地方法院刑事判決101年度矚訴字第2、4號公訴人臺灣新北地方法院檢察署檢察官被告陳莉...</td>\n      <td>臺灣新北地方法院刑事判決101年度矚訴字第2、4號公訴人臺灣新北地方法院檢察署檢察官被告陳莉...</td>\n      <td>冠瑋食品有限公司（下稱冠瑋公司）專營學生中央餐廚及餐盒之供應，周乾榮為冠瑋公司負責人兼任總經...</td>\n    </tr>\n  </tbody>\n</table>\n</div>"
     },
     "metadata": {},
     "output_type": "execute_result",
     "execution_count": 6
    }
   ],
   "source": [
    "df = pd.read_csv('J://Legal_Judgment//Result.csv', index_col=0)\n",
    "df.head()"
   ],
   "metadata": {
    "collapsed": false,
    "pycharm": {
     "name": "#%%\n",
     "is_executing": false
    }
   }
  },
  {
   "cell_type": "code",
   "execution_count": 7,
   "outputs": [
    {
     "data": {
      "text/plain": "Empty DataFrame\nColumns: [court, date, no, sys, reason, type, mainText, judgement, judgement_SIT, Situation]\nIndex: []",
      "text/html": "<div>\n<style scoped>\n    .dataframe tbody tr th:only-of-type {\n        vertical-align: middle;\n    }\n\n    .dataframe tbody tr th {\n        vertical-align: top;\n    }\n\n    .dataframe thead th {\n        text-align: right;\n    }\n</style>\n<table border=\"1\" class=\"dataframe\">\n  <thead>\n    <tr style=\"text-align: right;\">\n      <th></th>\n      <th>court</th>\n      <th>date</th>\n      <th>no</th>\n      <th>sys</th>\n      <th>reason</th>\n      <th>type</th>\n      <th>mainText</th>\n      <th>judgement</th>\n      <th>judgement_SIT</th>\n      <th>Situation</th>\n    </tr>\n    <tr>\n      <th>id</th>\n      <th></th>\n      <th></th>\n      <th></th>\n      <th></th>\n      <th></th>\n      <th></th>\n      <th></th>\n      <th></th>\n      <th></th>\n      <th></th>\n    </tr>\n  </thead>\n  <tbody>\n  </tbody>\n</table>\n</div>"
     },
     "metadata": {},
     "output_type": "execute_result",
     "execution_count": 7
    }
   ],
   "source": [
    "df[df['reason'] == ('違反毒品危害防制條例')].head(10)"
   ],
   "metadata": {
    "collapsed": false,
    "pycharm": {
     "name": "#%%\n",
     "is_executing": false
    }
   }
  },
  {
   "cell_type": "code",
   "execution_count": 8,
   "metadata": {
    "pycharm": {
     "is_executing": false
    }
   },
   "outputs": [
    {
     "data": {
      "text/plain": "       court                       date          no sys reason type  \\\nid                                                                    \n0   臺灣新北地方法院  2011-03-01T00:00:00+08:00    100,交訴,1  刑事  公共危險等   判決   \n1   臺灣新北地方法院  2013-10-31T00:00:00+08:00   100,侵訴,93  刑事  妨害性自主   判決   \n2   臺灣新北地方法院  2011-09-30T00:00:00+08:00    100,矚訴,1  刑事    貪污等   判決   \n3   臺灣新北地方法院  2012-12-25T00:00:00+08:00    101,矚訴,1  刑事    貪污等   判決   \n4   臺灣新北地方法院  2014-05-16T00:00:00+08:00    101,矚訴,2  刑事    貪污等   判決   \n5   臺灣新北地方法院  2012-06-29T00:00:00+08:00    101,矚訴,4  刑事    貪污等   判決   \n6   臺灣新北地方法院  2012-12-13T00:00:00+08:00    101,矚訴,5  刑事    貪污等   判決   \n7   臺灣新北地方法院  2012-07-03T00:00:00+08:00  101,矚重訴緝,1  刑事    貪污等   判決   \n8   臺灣新北地方法院  2013-10-15T00:00:00+08:00  102,審勞安訴,1  刑事  過失致死等   判決   \n9   臺灣新北地方法院  2013-12-13T00:00:00+08:00  102,審勞安訴,2  刑事  過失致死等   判決   \n\n                                             mainText  \\\nid                                                      \n0   黃承洋犯不能安全駕駛動力交通工具罪，科罰金新臺幣陸萬元，如易服勞役，以新臺幣壹仟元折算壹日。...   \n1   甲○○犯乘機性交未遂罪，處有期徒刑壹年拾月。又犯乘機性交未遂罪，處有期徒刑壹年拾月。又犯乘機...   \n2   鍾金來、鄭夙岑、林小雁、劉桔鴻犯賭博罪，各處罰金新臺幣貳萬元，如易服勞役，均以新臺幣壹仟元折...   \n3                                       沈炳煌被訴部分公訴不受理。   \n4   陳莉庭犯如附表一所示之罪，各處如附表一所示之宣告刑，應執行有期徒刑壹年陸月，緩刑肆年，並應向...   \n5   賴金池意圖為自己不法之所有，以詐術使人將本人之物交付，處有期徒刑伍月，如易科罰金，以新臺幣壹...   \n6   丑○○共同犯圖利容留性交罪，處有期徒刑伍月，如易科罰金，以新臺幣壹仟元折算壹日。\\n扣案如附...   \n7   蘇俊源共同意圖使女子與他人為性交之行為，而媒介以營利，處有期徒刑拾月，減為有期徒刑伍月，如易...   \n8   重億工程有限公司違反雇主對有墜落、崩塌等之虞之作業場所引起之危害，應有符合標準之必要安全衛生...   \n9   林嫩俤從事業務之人，因業務上之過失致人於死，處有期徒刑肆月，如易科罰金，以新臺幣壹仟元折算壹...   \n\n                                            judgement  \\\nid                                                      \n0   臺灣板橋地方法院刑事判決100年度交訴字第1號公訴人臺灣板橋地方法院檢察署檢察官被告黃承洋上...   \n1   臺灣新北地方法院刑事判決100年度侵訴字第93號公訴人臺灣新北地方法院檢察署檢察官被告陳木信...   \n2   臺灣板橋地方法院刑事判決100年度矚訴字第1號公訴人臺灣板橋地方法院檢察署檢察官被告鍾金來鄭...   \n3   臺灣板橋地方法院刑事判決101年度矚訴字第1號公訴人臺灣板橋地方法院檢察署檢察官被告沈炳煌選...   \n4   臺灣新北地方法院刑事判決101年度矚訴字第2、4號公訴人臺灣新北地方法院檢察署檢察官被告陳莉...   \n5   臺灣板橋地方法院刑事判決101年度矚訴字第4號公訴人臺灣板橋地方法院檢察署檢察官被告賴金池選...   \n6   臺灣板橋地方法院刑事判決101年度矚訴字第5號公訴人臺灣板橋地方法院檢察署檢察官被告陳建名上...   \n7   臺灣板橋地方法院刑事判決101年度矚重訴緝字第1號公訴人臺灣板橋地方法院檢察署檢察官被告蘇俊...   \n8   臺灣新北地方法院刑事判決102年度審勞安訴字第1號公訴人臺灣新北地方法院檢察署檢察官被告重億...   \n9   臺灣新北地方法院刑事判決102年度審勞安訴字第2號公訴人臺灣新北地方法院檢察署檢察官被告林嫩...   \n\n                                        judgement_SIT  \\\nid                                                      \n0   臺灣板橋地方法院刑事判決100年度交訴字第1號公訴人臺灣板橋地方法院檢察署檢察官被告黃承洋上...   \n1   臺灣新北地方法院刑事判決100年度侵訴字第93號公訴人臺灣新北地方法院檢察署檢察官被告陳木信...   \n2   臺灣板橋地方法院刑事判決100年度矚訴字第1號公訴人臺灣板橋地方法院檢察署檢察官被告鍾金來鄭...   \n3   臺灣板橋地方法院刑事判決101年度矚訴字第1號公訴人臺灣板橋地方法院檢察署檢察官被告沈炳煌選...   \n4   臺灣新北地方法院刑事判決101年度矚訴字第2、4號公訴人臺灣新北地方法院檢察署檢察官被告陳莉...   \n5   臺灣板橋地方法院刑事判決101年度矚訴字第4號公訴人臺灣板橋地方法院檢察署檢察官被告賴金池選...   \n6   臺灣板橋地方法院刑事判決101年度矚訴字第5號公訴人臺灣板橋地方法院檢察署檢察官被告陳建名上...   \n7   臺灣板橋地方法院刑事判決101年度矚重訴緝字第1號公訴人臺灣板橋地方法院檢察署檢察官被告蘇俊...   \n8   臺灣新北地方法院刑事判決102年度審勞安訴字第1號公訴人臺灣新北地方法院檢察署檢察官被告重億...   \n9   臺灣新北地方法院刑事判決102年度審勞安訴字第2號公訴人臺灣新北地方法院檢察署檢察官被告林嫩...   \n\n                                            Situation  \nid                                                     \n0   黃承洋前於民國99年9月2日上午11時至12時許間，在其位在桃園縣龍潭鄉○○路122號之住處...  \n1   分別於民國99年8月中旬某日、9月中旬某日、11月中旬某日，以其持用之門號000000000...  \n2   黃朝邨及李慶華（以上二人本院另行審結）於民國82年間起在基隆市○○區○○路34號開設麗晶電子...  \n3   被告沈炳煌自民國93年8月1日起擔任新北市泰新莊區新泰國民中學（下稱新泰國中）校長，其在辦理...  \n4   冠瑋食品有限公司（下稱冠瑋公司）專營學生中央餐廚及餐盒之供應，周乾榮為冠瑋公司負責人兼任總經...  \n5   賴金池前因承包、修繕冠瑋公司及新北市淡水區三民高級中學（下稱三民高中）之鐵窗、鐵門工程，而與...  \n6   午○○（綽號：阿文、冬瓜，已結，下同）於民國（下同）98年10月14日出監後，自99年6月起...  \n7   經本院以95年度簡字第1639號判決處有期徒刑6月(現在監執行中，故於本案不構成累犯)，詎猶...  \n8   潘榮棣係設於新北市○○區○○街00巷0弄0○0號「重億工程有限公司」（以下簡稱重億公司）之負...  \n9   與劉錦鑑均為土木工程業之合夥人，均屬執行業務之人，其等2人於101年1月間某日，在不詳地點，...  ",
      "text/html": "<div>\n<style scoped>\n    .dataframe tbody tr th:only-of-type {\n        vertical-align: middle;\n    }\n\n    .dataframe tbody tr th {\n        vertical-align: top;\n    }\n\n    .dataframe thead th {\n        text-align: right;\n    }\n</style>\n<table border=\"1\" class=\"dataframe\">\n  <thead>\n    <tr style=\"text-align: right;\">\n      <th></th>\n      <th>court</th>\n      <th>date</th>\n      <th>no</th>\n      <th>sys</th>\n      <th>reason</th>\n      <th>type</th>\n      <th>mainText</th>\n      <th>judgement</th>\n      <th>judgement_SIT</th>\n      <th>Situation</th>\n    </tr>\n    <tr>\n      <th>id</th>\n      <th></th>\n      <th></th>\n      <th></th>\n      <th></th>\n      <th></th>\n      <th></th>\n      <th></th>\n      <th></th>\n      <th></th>\n      <th></th>\n    </tr>\n  </thead>\n  <tbody>\n    <tr>\n      <td>0</td>\n      <td>臺灣新北地方法院</td>\n      <td>2011-03-01T00:00:00+08:00</td>\n      <td>100,交訴,1</td>\n      <td>刑事</td>\n      <td>公共危險等</td>\n      <td>判決</td>\n      <td>黃承洋犯不能安全駕駛動力交通工具罪，科罰金新臺幣陸萬元，如易服勞役，以新臺幣壹仟元折算壹日。...</td>\n      <td>臺灣板橋地方法院刑事判決100年度交訴字第1號公訴人臺灣板橋地方法院檢察署檢察官被告黃承洋上...</td>\n      <td>臺灣板橋地方法院刑事判決100年度交訴字第1號公訴人臺灣板橋地方法院檢察署檢察官被告黃承洋上...</td>\n      <td>黃承洋前於民國99年9月2日上午11時至12時許間，在其位在桃園縣龍潭鄉○○路122號之住處...</td>\n    </tr>\n    <tr>\n      <td>1</td>\n      <td>臺灣新北地方法院</td>\n      <td>2013-10-31T00:00:00+08:00</td>\n      <td>100,侵訴,93</td>\n      <td>刑事</td>\n      <td>妨害性自主</td>\n      <td>判決</td>\n      <td>甲○○犯乘機性交未遂罪，處有期徒刑壹年拾月。又犯乘機性交未遂罪，處有期徒刑壹年拾月。又犯乘機...</td>\n      <td>臺灣新北地方法院刑事判決100年度侵訴字第93號公訴人臺灣新北地方法院檢察署檢察官被告陳木信...</td>\n      <td>臺灣新北地方法院刑事判決100年度侵訴字第93號公訴人臺灣新北地方法院檢察署檢察官被告陳木信...</td>\n      <td>分別於民國99年8月中旬某日、9月中旬某日、11月中旬某日，以其持用之門號000000000...</td>\n    </tr>\n    <tr>\n      <td>2</td>\n      <td>臺灣新北地方法院</td>\n      <td>2011-09-30T00:00:00+08:00</td>\n      <td>100,矚訴,1</td>\n      <td>刑事</td>\n      <td>貪污等</td>\n      <td>判決</td>\n      <td>鍾金來、鄭夙岑、林小雁、劉桔鴻犯賭博罪，各處罰金新臺幣貳萬元，如易服勞役，均以新臺幣壹仟元折...</td>\n      <td>臺灣板橋地方法院刑事判決100年度矚訴字第1號公訴人臺灣板橋地方法院檢察署檢察官被告鍾金來鄭...</td>\n      <td>臺灣板橋地方法院刑事判決100年度矚訴字第1號公訴人臺灣板橋地方法院檢察署檢察官被告鍾金來鄭...</td>\n      <td>黃朝邨及李慶華（以上二人本院另行審結）於民國82年間起在基隆市○○區○○路34號開設麗晶電子...</td>\n    </tr>\n    <tr>\n      <td>3</td>\n      <td>臺灣新北地方法院</td>\n      <td>2012-12-25T00:00:00+08:00</td>\n      <td>101,矚訴,1</td>\n      <td>刑事</td>\n      <td>貪污等</td>\n      <td>判決</td>\n      <td>沈炳煌被訴部分公訴不受理。</td>\n      <td>臺灣板橋地方法院刑事判決101年度矚訴字第1號公訴人臺灣板橋地方法院檢察署檢察官被告沈炳煌選...</td>\n      <td>臺灣板橋地方法院刑事判決101年度矚訴字第1號公訴人臺灣板橋地方法院檢察署檢察官被告沈炳煌選...</td>\n      <td>被告沈炳煌自民國93年8月1日起擔任新北市泰新莊區新泰國民中學（下稱新泰國中）校長，其在辦理...</td>\n    </tr>\n    <tr>\n      <td>4</td>\n      <td>臺灣新北地方法院</td>\n      <td>2014-05-16T00:00:00+08:00</td>\n      <td>101,矚訴,2</td>\n      <td>刑事</td>\n      <td>貪污等</td>\n      <td>判決</td>\n      <td>陳莉庭犯如附表一所示之罪，各處如附表一所示之宣告刑，應執行有期徒刑壹年陸月，緩刑肆年，並應向...</td>\n      <td>臺灣新北地方法院刑事判決101年度矚訴字第2、4號公訴人臺灣新北地方法院檢察署檢察官被告陳莉...</td>\n      <td>臺灣新北地方法院刑事判決101年度矚訴字第2、4號公訴人臺灣新北地方法院檢察署檢察官被告陳莉...</td>\n      <td>冠瑋食品有限公司（下稱冠瑋公司）專營學生中央餐廚及餐盒之供應，周乾榮為冠瑋公司負責人兼任總經...</td>\n    </tr>\n    <tr>\n      <td>5</td>\n      <td>臺灣新北地方法院</td>\n      <td>2012-06-29T00:00:00+08:00</td>\n      <td>101,矚訴,4</td>\n      <td>刑事</td>\n      <td>貪污等</td>\n      <td>判決</td>\n      <td>賴金池意圖為自己不法之所有，以詐術使人將本人之物交付，處有期徒刑伍月，如易科罰金，以新臺幣壹...</td>\n      <td>臺灣板橋地方法院刑事判決101年度矚訴字第4號公訴人臺灣板橋地方法院檢察署檢察官被告賴金池選...</td>\n      <td>臺灣板橋地方法院刑事判決101年度矚訴字第4號公訴人臺灣板橋地方法院檢察署檢察官被告賴金池選...</td>\n      <td>賴金池前因承包、修繕冠瑋公司及新北市淡水區三民高級中學（下稱三民高中）之鐵窗、鐵門工程，而與...</td>\n    </tr>\n    <tr>\n      <td>6</td>\n      <td>臺灣新北地方法院</td>\n      <td>2012-12-13T00:00:00+08:00</td>\n      <td>101,矚訴,5</td>\n      <td>刑事</td>\n      <td>貪污等</td>\n      <td>判決</td>\n      <td>丑○○共同犯圖利容留性交罪，處有期徒刑伍月，如易科罰金，以新臺幣壹仟元折算壹日。\\n扣案如附...</td>\n      <td>臺灣板橋地方法院刑事判決101年度矚訴字第5號公訴人臺灣板橋地方法院檢察署檢察官被告陳建名上...</td>\n      <td>臺灣板橋地方法院刑事判決101年度矚訴字第5號公訴人臺灣板橋地方法院檢察署檢察官被告陳建名上...</td>\n      <td>午○○（綽號：阿文、冬瓜，已結，下同）於民國（下同）98年10月14日出監後，自99年6月起...</td>\n    </tr>\n    <tr>\n      <td>7</td>\n      <td>臺灣新北地方法院</td>\n      <td>2012-07-03T00:00:00+08:00</td>\n      <td>101,矚重訴緝,1</td>\n      <td>刑事</td>\n      <td>貪污等</td>\n      <td>判決</td>\n      <td>蘇俊源共同意圖使女子與他人為性交之行為，而媒介以營利，處有期徒刑拾月，減為有期徒刑伍月，如易...</td>\n      <td>臺灣板橋地方法院刑事判決101年度矚重訴緝字第1號公訴人臺灣板橋地方法院檢察署檢察官被告蘇俊...</td>\n      <td>臺灣板橋地方法院刑事判決101年度矚重訴緝字第1號公訴人臺灣板橋地方法院檢察署檢察官被告蘇俊...</td>\n      <td>經本院以95年度簡字第1639號判決處有期徒刑6月(現在監執行中，故於本案不構成累犯)，詎猶...</td>\n    </tr>\n    <tr>\n      <td>8</td>\n      <td>臺灣新北地方法院</td>\n      <td>2013-10-15T00:00:00+08:00</td>\n      <td>102,審勞安訴,1</td>\n      <td>刑事</td>\n      <td>過失致死等</td>\n      <td>判決</td>\n      <td>重億工程有限公司違反雇主對有墜落、崩塌等之虞之作業場所引起之危害，應有符合標準之必要安全衛生...</td>\n      <td>臺灣新北地方法院刑事判決102年度審勞安訴字第1號公訴人臺灣新北地方法院檢察署檢察官被告重億...</td>\n      <td>臺灣新北地方法院刑事判決102年度審勞安訴字第1號公訴人臺灣新北地方法院檢察署檢察官被告重億...</td>\n      <td>潘榮棣係設於新北市○○區○○街00巷0弄0○0號「重億工程有限公司」（以下簡稱重億公司）之負...</td>\n    </tr>\n    <tr>\n      <td>9</td>\n      <td>臺灣新北地方法院</td>\n      <td>2013-12-13T00:00:00+08:00</td>\n      <td>102,審勞安訴,2</td>\n      <td>刑事</td>\n      <td>過失致死等</td>\n      <td>判決</td>\n      <td>林嫩俤從事業務之人，因業務上之過失致人於死，處有期徒刑肆月，如易科罰金，以新臺幣壹仟元折算壹...</td>\n      <td>臺灣新北地方法院刑事判決102年度審勞安訴字第2號公訴人臺灣新北地方法院檢察署檢察官被告林嫩...</td>\n      <td>臺灣新北地方法院刑事判決102年度審勞安訴字第2號公訴人臺灣新北地方法院檢察署檢察官被告林嫩...</td>\n      <td>與劉錦鑑均為土木工程業之合夥人，均屬執行業務之人，其等2人於101年1月間某日，在不詳地點，...</td>\n    </tr>\n  </tbody>\n</table>\n</div>"
     },
     "metadata": {},
     "output_type": "execute_result",
     "execution_count": 8
    }
   ],
   "source": [
    "df[df['reason'].str.contains ('')].head(10)"
   ]
  },
  {
   "cell_type": "code",
   "execution_count": 9,
   "metadata": {
    "pycharm": {
     "is_executing": false
    }
   },
   "outputs": [
    {
     "data": {
      "text/plain": "Empty DataFrame\nColumns: [court, date, no, sys, reason, type, mainText, judgement, judgement_SIT, Situation]\nIndex: []",
      "text/html": "<div>\n<style scoped>\n    .dataframe tbody tr th:only-of-type {\n        vertical-align: middle;\n    }\n\n    .dataframe tbody tr th {\n        vertical-align: top;\n    }\n\n    .dataframe thead th {\n        text-align: right;\n    }\n</style>\n<table border=\"1\" class=\"dataframe\">\n  <thead>\n    <tr style=\"text-align: right;\">\n      <th></th>\n      <th>court</th>\n      <th>date</th>\n      <th>no</th>\n      <th>sys</th>\n      <th>reason</th>\n      <th>type</th>\n      <th>mainText</th>\n      <th>judgement</th>\n      <th>judgement_SIT</th>\n      <th>Situation</th>\n    </tr>\n    <tr>\n      <th>id</th>\n      <th></th>\n      <th></th>\n      <th></th>\n      <th></th>\n      <th></th>\n      <th></th>\n      <th></th>\n      <th></th>\n      <th></th>\n      <th></th>\n    </tr>\n  </thead>\n  <tbody>\n  </tbody>\n</table>\n</div>"
     },
     "metadata": {},
     "output_type": "execute_result",
     "execution_count": 9
    }
   ],
   "source": [
    "df[df['reason'] == ('公共危險')].iloc[20:30]"
   ]
  },
  {
   "cell_type": "code",
   "execution_count": 10,
   "metadata": {
    "pycharm": {
     "name": "#%%\n",
     "is_executing": false
    }
   },
   "outputs": [
    {
     "name": "stdout",
     "text": [
      "reason\n偽證           1\n偽造文書         2\n公共危險        15\n妨害公務         1\n妨害性自主        7\n妨害自由         1\n妨害風化         2\n強盜           3\n恐嚇取財         1\n槍砲彈藥刀械管制     4\n殺人           3\n殺人未遂         4\n毒品危害防制條例    75\n藥事法          2\n詐欺           1\n貪污          33\n過失致死         9\n醫師法          3\nName: no, dtype: int64\n"
     ],
     "output_type": "stream"
    }
   ],
   "source": [
    "import matplotlib.pyplot as plt\n",
    "%matplotlib inline\n",
    "\n",
    "\n",
    "df['reason'] = df['reason'].str.replace('等', '')\n",
    "print(df.groupby(['reason']).count()['no'])"
   ]
  },
  {
   "cell_type": "code",
   "execution_count": 11,
   "outputs": [
    {
     "data": {
      "text/plain": "       court                       date          no sys    reason type  \\\nid                                                                       \n64  臺灣新北地方法院  2018-05-31T00:00:00+08:00  107,審訴緝,16  刑事  毒品危害防制條例   判決   \n8   臺灣新北地方法院  2013-10-15T00:00:00+08:00  102,審勞安訴,1  刑事      過失致死   判決   \n79  臺灣新北地方法院  2018-07-20T00:00:00+08:00  107,審訴緝,29  刑事  毒品危害防制條例   判決   \n77  臺灣新北地方法院  2018-06-22T00:00:00+08:00  107,審訴緝,27  刑事      妨害公務   判決   \n55  臺灣新北地方法院  2018-07-27T00:00:00+08:00   107,原訴緝,1  刑事  槍砲彈藥刀械管制   判決   \n\n                                             mainText  \\\nid                                                      \n64  陳永裕施用第一級毒品，累犯，處有期徒刑捌月，扣案甲基安非他命驗餘淨重零點伍捌玖捌公克沒收銷燬...   \n8   重億工程有限公司違反雇主對有墜落、崩塌等之虞之作業場所引起之危害，應有符合標準之必要安全衛生...   \n79  乙○○施用第一級毒品，處有期徒刑拾月；扣案之第一級毒品海洛因（驗餘淨重合計零點壹柒參玖公克）...   \n77                        劉昱伶犯損壞公務員職務上掌管之物品罪，處有期徒刑拾月。   \n55  黃憲偉未經許可，持有槍砲之主要組成零件，處有期徒刑陸月，併科罰金新臺幣參萬元，有期徒刑如易科...   \n\n                                            judgement  \\\nid                                                      \n64  臺灣新北地方法院刑事判決107年度審訴緝字第16號公訴人臺灣新北地方檢察署檢察官被告陳永裕上...   \n8   臺灣新北地方法院刑事判決102年度審勞安訴字第1號公訴人臺灣新北地方法院檢察署檢察官被告重億...   \n79  臺灣新北地方法院刑事判決107年度審訴緝字第29號公訴人臺灣新北地方檢察署檢察官被告楊德安上...   \n77  臺灣新北地方法院刑事判決107年度審訴緝字第27號公訴人臺灣新北地方檢察署檢察官被告劉昱伶上...   \n55  臺灣新北地方法院刑事判決107年度原訴緝字第1號公訴人臺灣新北地方檢察署檢察官被告黃憲偉指定...   \n\n                                        judgement_SIT  \\\nid                                                      \n64  臺灣新北地方法院刑事判決107年度審訴緝字第16號公訴人臺灣新北地方檢察署檢察官被告陳永裕上...   \n8   臺灣新北地方法院刑事判決102年度審勞安訴字第1號公訴人臺灣新北地方法院檢察署檢察官被告重億...   \n79  臺灣新北地方法院刑事判決107年度審訴緝字第29號公訴人臺灣新北地方檢察署檢察官被告楊德安上...   \n77  臺灣新北地方法院刑事判決107年度審訴緝字第27號公訴人臺灣新北地方檢察署檢察官被告劉昱伶上...   \n55  臺灣新北地方法院刑事判決107年度原訴緝字第1號公訴人臺灣新北地方檢察署檢察官被告黃憲偉指定...   \n\n                                            Situation  \nid                                                     \n64  105年11月25日2時20分許，在新北市政府警察局新莊分局福營派出所內，為警採尿起回溯26...  \n8   潘榮棣係設於新北市○○區○○街00巷0弄0○0號「重億工程有限公司」（以下簡稱重億公司）之負...  \n79  於106年8月9日3、4時許，在新北巿板橋區中山路1段283巷3弄2之1號住處內，以將海洛因...  \n77  劉昱伶於民國105年8月8日上午8時55分許，與溫雅萍共乘彭盛峰駕駛之車牌號碼000-000...  \n55  黃憲偉明知槍砲主要組成零件係槍砲彈藥刀械管制條例所管制之物品，未經主管機關許可不得持有，竟基...  ",
      "text/html": "<div>\n<style scoped>\n    .dataframe tbody tr th:only-of-type {\n        vertical-align: middle;\n    }\n\n    .dataframe tbody tr th {\n        vertical-align: top;\n    }\n\n    .dataframe thead th {\n        text-align: right;\n    }\n</style>\n<table border=\"1\" class=\"dataframe\">\n  <thead>\n    <tr style=\"text-align: right;\">\n      <th></th>\n      <th>court</th>\n      <th>date</th>\n      <th>no</th>\n      <th>sys</th>\n      <th>reason</th>\n      <th>type</th>\n      <th>mainText</th>\n      <th>judgement</th>\n      <th>judgement_SIT</th>\n      <th>Situation</th>\n    </tr>\n    <tr>\n      <th>id</th>\n      <th></th>\n      <th></th>\n      <th></th>\n      <th></th>\n      <th></th>\n      <th></th>\n      <th></th>\n      <th></th>\n      <th></th>\n      <th></th>\n    </tr>\n  </thead>\n  <tbody>\n    <tr>\n      <td>64</td>\n      <td>臺灣新北地方法院</td>\n      <td>2018-05-31T00:00:00+08:00</td>\n      <td>107,審訴緝,16</td>\n      <td>刑事</td>\n      <td>毒品危害防制條例</td>\n      <td>判決</td>\n      <td>陳永裕施用第一級毒品，累犯，處有期徒刑捌月，扣案甲基安非他命驗餘淨重零點伍捌玖捌公克沒收銷燬...</td>\n      <td>臺灣新北地方法院刑事判決107年度審訴緝字第16號公訴人臺灣新北地方檢察署檢察官被告陳永裕上...</td>\n      <td>臺灣新北地方法院刑事判決107年度審訴緝字第16號公訴人臺灣新北地方檢察署檢察官被告陳永裕上...</td>\n      <td>105年11月25日2時20分許，在新北市政府警察局新莊分局福營派出所內，為警採尿起回溯26...</td>\n    </tr>\n    <tr>\n      <td>8</td>\n      <td>臺灣新北地方法院</td>\n      <td>2013-10-15T00:00:00+08:00</td>\n      <td>102,審勞安訴,1</td>\n      <td>刑事</td>\n      <td>過失致死</td>\n      <td>判決</td>\n      <td>重億工程有限公司違反雇主對有墜落、崩塌等之虞之作業場所引起之危害，應有符合標準之必要安全衛生...</td>\n      <td>臺灣新北地方法院刑事判決102年度審勞安訴字第1號公訴人臺灣新北地方法院檢察署檢察官被告重億...</td>\n      <td>臺灣新北地方法院刑事判決102年度審勞安訴字第1號公訴人臺灣新北地方法院檢察署檢察官被告重億...</td>\n      <td>潘榮棣係設於新北市○○區○○街00巷0弄0○0號「重億工程有限公司」（以下簡稱重億公司）之負...</td>\n    </tr>\n    <tr>\n      <td>79</td>\n      <td>臺灣新北地方法院</td>\n      <td>2018-07-20T00:00:00+08:00</td>\n      <td>107,審訴緝,29</td>\n      <td>刑事</td>\n      <td>毒品危害防制條例</td>\n      <td>判決</td>\n      <td>乙○○施用第一級毒品，處有期徒刑拾月；扣案之第一級毒品海洛因（驗餘淨重合計零點壹柒參玖公克）...</td>\n      <td>臺灣新北地方法院刑事判決107年度審訴緝字第29號公訴人臺灣新北地方檢察署檢察官被告楊德安上...</td>\n      <td>臺灣新北地方法院刑事判決107年度審訴緝字第29號公訴人臺灣新北地方檢察署檢察官被告楊德安上...</td>\n      <td>於106年8月9日3、4時許，在新北巿板橋區中山路1段283巷3弄2之1號住處內，以將海洛因...</td>\n    </tr>\n    <tr>\n      <td>77</td>\n      <td>臺灣新北地方法院</td>\n      <td>2018-06-22T00:00:00+08:00</td>\n      <td>107,審訴緝,27</td>\n      <td>刑事</td>\n      <td>妨害公務</td>\n      <td>判決</td>\n      <td>劉昱伶犯損壞公務員職務上掌管之物品罪，處有期徒刑拾月。</td>\n      <td>臺灣新北地方法院刑事判決107年度審訴緝字第27號公訴人臺灣新北地方檢察署檢察官被告劉昱伶上...</td>\n      <td>臺灣新北地方法院刑事判決107年度審訴緝字第27號公訴人臺灣新北地方檢察署檢察官被告劉昱伶上...</td>\n      <td>劉昱伶於民國105年8月8日上午8時55分許，與溫雅萍共乘彭盛峰駕駛之車牌號碼000-000...</td>\n    </tr>\n    <tr>\n      <td>55</td>\n      <td>臺灣新北地方法院</td>\n      <td>2018-07-27T00:00:00+08:00</td>\n      <td>107,原訴緝,1</td>\n      <td>刑事</td>\n      <td>槍砲彈藥刀械管制</td>\n      <td>判決</td>\n      <td>黃憲偉未經許可，持有槍砲之主要組成零件，處有期徒刑陸月，併科罰金新臺幣參萬元，有期徒刑如易科...</td>\n      <td>臺灣新北地方法院刑事判決107年度原訴緝字第1號公訴人臺灣新北地方檢察署檢察官被告黃憲偉指定...</td>\n      <td>臺灣新北地方法院刑事判決107年度原訴緝字第1號公訴人臺灣新北地方檢察署檢察官被告黃憲偉指定...</td>\n      <td>黃憲偉明知槍砲主要組成零件係槍砲彈藥刀械管制條例所管制之物品，未經主管機關許可不得持有，竟基...</td>\n    </tr>\n  </tbody>\n</table>\n</div>"
     },
     "metadata": {},
     "output_type": "execute_result",
     "execution_count": 11
    }
   ],
   "source": [
    "##拆分df\n",
    "df1=df.sample(frac=0.8)#按0.6比例随机采样\n",
    "df1.head()"
   ],
   "metadata": {
    "collapsed": false,
    "pycharm": {
     "name": "#%%\n",
     "is_executing": false
    }
   }
  },
  {
   "cell_type": "code",
   "execution_count": 12,
   "outputs": [
    {
     "data": {
      "text/plain": "       court                       date          no sys    reason type  \\\nid                                                                       \n9   臺灣新北地方法院  2013-12-13T00:00:00+08:00  102,審勞安訴,2  刑事      過失致死   判決   \n18  臺灣新北地方法院  2015-05-27T00:00:00+08:00   104,原交訴,3  刑事      公共危險   判決   \n20  臺灣新北地方法院  2015-12-29T00:00:00+08:00   104,原交訴,7  刑事      公共危險   判決   \n25  臺灣新北地方法院  2015-10-06T00:00:00+08:00   104,原訴,36  刑事  毒品危害防制條例   判決   \n35  臺灣新北地方法院  2016-07-28T00:00:00+08:00   105,原訴,17  刑事      公共危險   判決   \n\n                                             mainText  \\\nid                                                      \n9   林嫩俤從事業務之人，因業務上之過失致人於死，處有期徒刑肆月，如易科罰金，以新臺幣壹仟元折算壹...   \n18  林志杰駕駛動力交通工具，而有吐氣所含酒精濃度達每公升零點貳伍毫克以上情形，處有期徒刑參月，如...   \n20      乙○○犯肇事致人傷害逃逸罪，處有期徒刑陸月，如易科罰金，以新臺幣壹仟元折算壹日。緩刑參年。   \n25  陳家豪施用第一級毒品，累犯，處有期徒刑壹年。扣案之第一級毒品海洛因（驗餘淨重零點貳參伍公克）...   \n35         王皓瑋共同放火燒燬江翠國中圖書館之陸本書籍，致生公共危險，處有期徒刑壹年。緩刑貳年。   \n\n                                            judgement  \\\nid                                                      \n9   臺灣新北地方法院刑事判決102年度審勞安訴字第2號公訴人臺灣新北地方法院檢察署檢察官被告林嫩...   \n18  臺灣新北地方法院刑事判決104年度原交訴字第3號公訴人臺灣新北地方法院檢察署檢察官被告林志杰...   \n20  臺灣新北地方法院刑事判決104年度原交訴字第7號公訴人臺灣新北地方法院檢察署檢察官被告張尹薇...   \n25  臺灣新北地方法院刑事判決104年度原訴字第36號公訴人臺灣新北地方法院檢察署檢察官被告陳家豪...   \n35  臺灣新北地方法院刑事判決105年度原訴字第17號公訴人臺灣新北地方法院檢察署檢察官被告王皓瑋...   \n\n                                        judgement_SIT  \\\nid                                                      \n9   臺灣新北地方法院刑事判決102年度審勞安訴字第2號公訴人臺灣新北地方法院檢察署檢察官被告林嫩...   \n18  臺灣新北地方法院刑事判決104年度原交訴字第3號公訴人臺灣新北地方法院檢察署檢察官被告林志杰...   \n20  臺灣新北地方法院刑事判決104年度原交訴字第7號公訴人臺灣新北地方法院檢察署檢察官被告張尹薇...   \n25  臺灣新北地方法院刑事判決104年度原訴字第36號公訴人臺灣新北地方法院檢察署檢察官被告陳家豪...   \n35  臺灣新北地方法院刑事判決105年度原訴字第17號公訴人臺灣新北地方法院檢察署檢察官被告王皓瑋...   \n\n                                            Situation  \nid                                                     \n9   與劉錦鑑均為土木工程業之合夥人，均屬執行業務之人，其等2人於101年1月間某日，在不詳地點，...  \n18  林志杰於民國103年8月25日凌晨0時30分許，在新北市樹林區中華路某檳榔攤內，飲用酒類後，...  \n20  乙○○於民國104年4月13日上午10時7分許，駕駛其父親張文雄所有之車牌號碼00-0000...  \n25  復基於施用第一級毒品海洛因及第二級毒品甲基安非他命之犯意，於104年3月31日23時許，在新...  \n35  王皓瑋與高健力、姜智穎（已先行審結）三人於民國104年12月28日凌晨2時28分許，進入址設...  ",
      "text/html": "<div>\n<style scoped>\n    .dataframe tbody tr th:only-of-type {\n        vertical-align: middle;\n    }\n\n    .dataframe tbody tr th {\n        vertical-align: top;\n    }\n\n    .dataframe thead th {\n        text-align: right;\n    }\n</style>\n<table border=\"1\" class=\"dataframe\">\n  <thead>\n    <tr style=\"text-align: right;\">\n      <th></th>\n      <th>court</th>\n      <th>date</th>\n      <th>no</th>\n      <th>sys</th>\n      <th>reason</th>\n      <th>type</th>\n      <th>mainText</th>\n      <th>judgement</th>\n      <th>judgement_SIT</th>\n      <th>Situation</th>\n    </tr>\n    <tr>\n      <th>id</th>\n      <th></th>\n      <th></th>\n      <th></th>\n      <th></th>\n      <th></th>\n      <th></th>\n      <th></th>\n      <th></th>\n      <th></th>\n      <th></th>\n    </tr>\n  </thead>\n  <tbody>\n    <tr>\n      <td>9</td>\n      <td>臺灣新北地方法院</td>\n      <td>2013-12-13T00:00:00+08:00</td>\n      <td>102,審勞安訴,2</td>\n      <td>刑事</td>\n      <td>過失致死</td>\n      <td>判決</td>\n      <td>林嫩俤從事業務之人，因業務上之過失致人於死，處有期徒刑肆月，如易科罰金，以新臺幣壹仟元折算壹...</td>\n      <td>臺灣新北地方法院刑事判決102年度審勞安訴字第2號公訴人臺灣新北地方法院檢察署檢察官被告林嫩...</td>\n      <td>臺灣新北地方法院刑事判決102年度審勞安訴字第2號公訴人臺灣新北地方法院檢察署檢察官被告林嫩...</td>\n      <td>與劉錦鑑均為土木工程業之合夥人，均屬執行業務之人，其等2人於101年1月間某日，在不詳地點，...</td>\n    </tr>\n    <tr>\n      <td>18</td>\n      <td>臺灣新北地方法院</td>\n      <td>2015-05-27T00:00:00+08:00</td>\n      <td>104,原交訴,3</td>\n      <td>刑事</td>\n      <td>公共危險</td>\n      <td>判決</td>\n      <td>林志杰駕駛動力交通工具，而有吐氣所含酒精濃度達每公升零點貳伍毫克以上情形，處有期徒刑參月，如...</td>\n      <td>臺灣新北地方法院刑事判決104年度原交訴字第3號公訴人臺灣新北地方法院檢察署檢察官被告林志杰...</td>\n      <td>臺灣新北地方法院刑事判決104年度原交訴字第3號公訴人臺灣新北地方法院檢察署檢察官被告林志杰...</td>\n      <td>林志杰於民國103年8月25日凌晨0時30分許，在新北市樹林區中華路某檳榔攤內，飲用酒類後，...</td>\n    </tr>\n    <tr>\n      <td>20</td>\n      <td>臺灣新北地方法院</td>\n      <td>2015-12-29T00:00:00+08:00</td>\n      <td>104,原交訴,7</td>\n      <td>刑事</td>\n      <td>公共危險</td>\n      <td>判決</td>\n      <td>乙○○犯肇事致人傷害逃逸罪，處有期徒刑陸月，如易科罰金，以新臺幣壹仟元折算壹日。緩刑參年。</td>\n      <td>臺灣新北地方法院刑事判決104年度原交訴字第7號公訴人臺灣新北地方法院檢察署檢察官被告張尹薇...</td>\n      <td>臺灣新北地方法院刑事判決104年度原交訴字第7號公訴人臺灣新北地方法院檢察署檢察官被告張尹薇...</td>\n      <td>乙○○於民國104年4月13日上午10時7分許，駕駛其父親張文雄所有之車牌號碼00-0000...</td>\n    </tr>\n    <tr>\n      <td>25</td>\n      <td>臺灣新北地方法院</td>\n      <td>2015-10-06T00:00:00+08:00</td>\n      <td>104,原訴,36</td>\n      <td>刑事</td>\n      <td>毒品危害防制條例</td>\n      <td>判決</td>\n      <td>陳家豪施用第一級毒品，累犯，處有期徒刑壹年。扣案之第一級毒品海洛因（驗餘淨重零點貳參伍公克）...</td>\n      <td>臺灣新北地方法院刑事判決104年度原訴字第36號公訴人臺灣新北地方法院檢察署檢察官被告陳家豪...</td>\n      <td>臺灣新北地方法院刑事判決104年度原訴字第36號公訴人臺灣新北地方法院檢察署檢察官被告陳家豪...</td>\n      <td>復基於施用第一級毒品海洛因及第二級毒品甲基安非他命之犯意，於104年3月31日23時許，在新...</td>\n    </tr>\n    <tr>\n      <td>35</td>\n      <td>臺灣新北地方法院</td>\n      <td>2016-07-28T00:00:00+08:00</td>\n      <td>105,原訴,17</td>\n      <td>刑事</td>\n      <td>公共危險</td>\n      <td>判決</td>\n      <td>王皓瑋共同放火燒燬江翠國中圖書館之陸本書籍，致生公共危險，處有期徒刑壹年。緩刑貳年。</td>\n      <td>臺灣新北地方法院刑事判決105年度原訴字第17號公訴人臺灣新北地方法院檢察署檢察官被告王皓瑋...</td>\n      <td>臺灣新北地方法院刑事判決105年度原訴字第17號公訴人臺灣新北地方法院檢察署檢察官被告王皓瑋...</td>\n      <td>王皓瑋與高健力、姜智穎（已先行審結）三人於民國104年12月28日凌晨2時28分許，進入址設...</td>\n    </tr>\n  </tbody>\n</table>\n</div>"
     },
     "metadata": {},
     "output_type": "execute_result",
     "execution_count": 12
    }
   ],
   "source": [
    "df2=df[~df.index.isin(df1.index)]\n",
    "df2.head()"
   ],
   "metadata": {
    "collapsed": false,
    "pycharm": {
     "name": "#%%\n",
     "is_executing": false
    }
   }
  },
  {
   "cell_type": "code",
   "execution_count": 13,
   "outputs": [],
   "source": [
    "class Data(object):\n",
    "    def __init__(self):\n",
    "        self.paragraphs = []\n",
    "        self.id = \"0\"\n",
    "        self.title = \"\"\n",
    "\n",
    "class Djson(object):\n",
    "    def __init__(self):\n",
    "        self.version = \"v1.0\"\n",
    "        self.data = []\n",
    " "
   ],
   "metadata": {
    "collapsed": false,
    "pycharm": {
     "name": "#%%\n",
     "is_executing": false
    }
   }
  },
  {
   "cell_type": "code",
   "execution_count": 14,
   "outputs": [
    {
     "name": "stdout",
     "text": [
      "121\n95,矚訴,8\n"
     ],
     "output_type": "stream"
    }
   ],
   "source": [
    "djson1 = Djson()\n",
    "for index, row in df1.iterrows():\n",
    "    try:\n",
    "        d = Data()\n",
    "        d.paragraphs = [{\"id\" : \"TRAIN_\" + str(index), \n",
    "                      \"context\" : row.judgement_SIT, \n",
    "                      \"qas\":[{\n",
    "                          \"question\" : \"\",\n",
    "                          \"id\" : \"TRAIN_\" + str(index) + \"_QUERY_0\",\n",
    "                          \"answers\" :[{\n",
    "                              \"text\" : row.Situation,\n",
    "                              \"answer_start\" : row.judgement_SIT.index(\"[SIT]\") + 5\n",
    "                          }]\n",
    "                      }]\n",
    "                    }\n",
    "                    ]\n",
    "        d.id = \"TRAIN_\" + str(index)\n",
    "        d.title = row.no\n",
    "        djson1.data.append(d)\n",
    "    except:\n",
    "        print(index)\n",
    "        print(row.no)"
   ],
   "metadata": {
    "collapsed": false,
    "pycharm": {
     "name": "#%%\n",
     "is_executing": false
    }
   }
  },
  {
   "cell_type": "code",
   "execution_count": 15,
   "outputs": [],
   "source": [
    "y = json.dumps(djson1, default=lambda o: o.__dict__, ensure_ascii=False)"
   ],
   "metadata": {
    "collapsed": false,
    "pycharm": {
     "name": "#%%\n",
     "is_executing": false
    }
   }
  },
  {
   "cell_type": "code",
   "execution_count": 16,
   "outputs": [],
   "source": [
    "with open('./QA_Test1/HBert/data/train_200.json', 'w', encoding='utf8') as outfile:\n",
    "    json.dump(djson1, outfile, default=lambda o: o.__dict__ , ensure_ascii=False)\n",
    "    "
   ],
   "metadata": {
    "collapsed": false,
    "pycharm": {
     "name": "#%%\n",
     "is_executing": false
    }
   }
  },
  {
   "cell_type": "code",
   "execution_count": 16,
   "outputs": [],
   "source": [],
   "metadata": {
    "collapsed": false,
    "pycharm": {
     "name": "#%%\n",
     "is_executing": false
    }
   }
  },
  {
   "cell_type": "code",
   "execution_count": 17,
   "outputs": [],
   "source": [
    "djson2 = Djson()\n",
    "for index, row in df2.iterrows():\n",
    "    try:\n",
    "        d = Data()\n",
    "        d.paragraphs = [{\"id\" : \"TRAIN_\" + str(index), \n",
    "                      \"context\" : row.judgement_SIT, \n",
    "                      \"qas\":[{\n",
    "                          \"question\" : \"\",\n",
    "                          \"id\" : \"TRAIN_\" + str(index) + \"_QUERY_0\",\n",
    "                          \"answers\" :[{\n",
    "                              \"text\" : row.Situation,\n",
    "                              \"answer_start\" : row.judgement_SIT.index(\"[SIT]\") + 5\n",
    "                          }]\n",
    "                      }]\n",
    "                    }\n",
    "                    ]\n",
    "        d.id = \"TRAIN_\" + str(index)\n",
    "        d.title = row.no\n",
    "        djson2.data.append(d)\n",
    "    except:\n",
    "        print(index)\n",
    "        print(row.no)"
   ],
   "metadata": {
    "collapsed": false,
    "pycharm": {
     "name": "#%%\n",
     "is_executing": false
    }
   }
  },
  {
   "cell_type": "code",
   "execution_count": 18,
   "outputs": [],
   "source": [
    "y = json.dumps(djson2, default=lambda o: o.__dict__, ensure_ascii=False)"
   ],
   "metadata": {
    "collapsed": false,
    "pycharm": {
     "name": "#%%\n",
     "is_executing": false
    }
   }
  },
  {
   "cell_type": "code",
   "execution_count": 19,
   "outputs": [],
   "source": [
    "with open('./QA_Test1/HBert/data/test_200.json', 'w', encoding='utf8') as outfile:\n",
    "    json.dump(djson2, outfile, default=lambda o: o.__dict__ , ensure_ascii=False)\n",
    "    "
   ],
   "metadata": {
    "collapsed": false,
    "pycharm": {
     "name": "#%%\n",
     "is_executing": false
    }
   }
  }
 ],
 "metadata": {
  "kernelspec": {
   "display_name": "Python 3",
   "language": "python",
   "name": "python3"
  },
  "language_info": {
   "codemirror_mode": {
    "name": "ipython",
    "version": 3
   },
   "file_extension": ".py",
   "mimetype": "text/x-python",
   "name": "python",
   "nbconvert_exporter": "python",
   "pygments_lexer": "ipython3",
   "version": "3.6.4"
  },
  "pycharm": {
   "stem_cell": {
    "cell_type": "raw",
    "source": [],
    "metadata": {
     "collapsed": false
    }
   }
  }
 },
 "nbformat": 4,
 "nbformat_minor": 2
}