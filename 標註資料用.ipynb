{
 "cells": [
  {
   "cell_type": "code",
   "execution_count": 1,
   "metadata": {},
   "outputs": [
    {
     "name": "stdout",
     "output_type": "stream",
     "text": [
      "106,易,1093_.json\n"
     ]
    }
   ],
   "source": [
    "import os, json \n",
    "import pandas as pd \n",
    "import re\n",
    "\n",
    "path_to_json = 'J:\\Legal_Judgment\\臺灣新北地方法院_改_V2'\n",
    "json_files = [pos_json for pos_json in os.listdir(path_to_json) if pos_json.endswith('.json')] \n",
    "print(json_files[0])"
   ]
  },
  {
   "cell_type": "code",
   "execution_count": 2,
   "metadata": {},
   "outputs": [],
   "source": [
    "with open('J://Legal_Judgment//臺灣新北地方法院_改_V2//'+json_files[0],\"r\",encoding=\"utf-8\") as f:\n",
    "    dt = json.load(f)"
   ]
  },
  {
   "cell_type": "code",
   "execution_count": 3,
   "metadata": {},
   "outputs": [],
   "source": [
    "dic = {\n",
    "    \"id\": 0,\n",
    "    \"court\": [dt[\"court\"]], \n",
    "    \"date\": [dt[\"date\"]],\n",
    "    \"no\": [dt[\"no\"]],\n",
    "    \"sys\": [dt[\"sys\"]],\n",
    "    \"reason\": [dt[\"reason\"]],\n",
    "    \"type\": [dt[\"type\"]],\n",
    "    \"mainText\": [dt[\"mainText\"]],\n",
    "    \"judgement\": [dt[\"judgement\"]],\n",
    "    #\"judgement_SIT\": [dt[\"judgement_SIT\"]],\n",
    "    \"Situation\": [dt[\"Situation\"]]\n",
    "}\n",
    "df = pd.DataFrame(dic)"
   ]
  },
  {
   "cell_type": "code",
   "execution_count": 4,
   "metadata": {},
   "outputs": [
    {
     "name": "stdout",
     "output_type": "stream",
     "text": [
      "100,中簡,119\n",
      "100,中簡,1856\n",
      "100,簡,372\n",
      "100,簡,458\n",
      "101,侵訴,1\n",
      "101,智訴,9\n",
      "103,智訴,4\n",
      "105,中簡,1076\n",
      "105,審易,3360\n",
      "105,審易,3746\n",
      "105,易,264\n",
      "105,易,980\n",
      "105,簡,1724\n",
      "107,審訴緝,48\n",
      "107,訴,394\n",
      "95,矚重訴,3\n"
     ]
    }
   ],
   "source": [
    "my_regex = \"\\（.*?\\）|\\(([^\\)0-9零一二三四五六七八九十]?|[^\\).]{2,})\\)\"\n",
    "\n",
    "#spe = '丙○○意圖為自己不法之所有，基於搶奪之犯意，先後為下列搶奪行為：(一)於民國105年10月8日晚間7時20分許，騎乘登記於不知情之王介平名下之車牌號碼000-000號普通重型機車，行經高雄市○○區○○○路000號前時，將口罩脫下遮掩車牌，自後靠近步行在人行道上之甲○○，趁甲○○不及防備之際，以左手徒手掠取甲○○右手持有之背包1只（內有現金新臺幣【下同】9500元、索尼牌ZR綠色及Xperformance金色行動電話共2具【IMEI：000000000000000、000000000000000號】、長夾1個、信用卡及金融卡共5張、國民身分證2張、國民健康保險卡1張、普通重型機車駕照1張、識別證2張等物）得手後逃逸。嗣因丙○○將背包內之現金取走後，將背包棄置在高雄市鳳山區武營路某處，再經民眾在高雄市鳳山區衛武營附近拾獲上開背包（內有長夾1個、國民身分證2張、國民健康保險卡1張、信用卡3張、金融卡1張等物），遂送交警察機關發還甲○○領回。(二)於同年10月10日晚間11時5分許，騎乘向不知情之劉伊恩借用之車牌號碼000-0000號普通重型機車，行經高雄市○○區○○○路000號前時，使用口罩遮掩車牌，自後靠近步行在人行道上之少年乙○○（89年生，基於兒童及少年福利與權益保障法第69條第2項規定不得揭露足以識別少年身分之資訊，年籍詳卷），趁乙○○不及防備之際，以左手徒手掠取乙○○右手持有之背包1只（內有皮夾1只、現金3萬2000元、提款卡1張、國民身分證1張、國民健康保險卡1張等物）得手後逃逸，並將現金取出，其餘物品則丟棄。嗣為警循線於105年10月16日凌晨2時許，在高雄市○○區○○路000巷00號前查獲，並扣得現金2600元。'\n",
    "show = 0\n",
    "cnt = 0\n",
    "for x in range(1,len(json_files)):\n",
    "    with open('J://Legal_Judgment//臺灣新北地方法院_改_V2//'+json_files[x],\"r\",encoding=\"utf-8\") as f:\n",
    "        dt = json.load(f)\n",
    "\n",
    "    try:\n",
    "        if (str(dt[\"judgement\"]).index(str(dt[\"Situation\"])) < 0):\n",
    "            print(\"error1:\" + dt[\"no\"])\n",
    "            continue\n",
    "\n",
    "\n",
    "        new = pd.DataFrame({\n",
    "        \"id\" : x,\n",
    "        \"court\": [dt[\"court\"]],\n",
    "        \"date\": [dt[\"date\"]],\n",
    "        \"no\": [dt[\"no\"]],\n",
    "        \"sys\": [dt[\"sys\"]],\n",
    "        \"reason\": [dt[\"reason\"]],\n",
    "        \"type\": [dt[\"type\"]],\n",
    "        \"mainText\": [dt[\"mainText\"]],\n",
    "        \"judgement\": [dt[\"judgement\"]],\n",
    "        #\"judgement_SIT\": [dt[\"judgement_SIT\"]],\n",
    "        \"Situation\": [dt[\"Situation\"]]\n",
    "        })\n",
    "\n",
    "        bol = 0\n",
    "        show = 0\n",
    "        for index, row in new.iterrows():\n",
    "            #row.judgement = re.sub(my_regex, \"\", str(row.judgement).replace(my_regex, \"\"))\n",
    "            row.Situation = re.sub(my_regex, \"\", str(row.Situation).replace(my_regex, \"\"))\n",
    "            if (len(row.Situation) > 192):\n",
    "                bol = 1\n",
    "\n",
    "        if (bol == 1):\n",
    "            continue\n",
    "\n",
    "        df = df.append(new)\n",
    "        cnt += 1\n",
    "        if (cnt % 1000 == 0):\n",
    "            print(cnt)\n",
    "\n",
    "    except:\n",
    "        print(dt[\"no\"])"
   ]
  },
  {
   "cell_type": "code",
   "execution_count": 5,
   "metadata": {},
   "outputs": [],
   "source": [
    "#df.to_csv('J://Legal_Judgment//Result.csv', index=0) "
   ]
  },
  {
   "cell_type": "code",
   "execution_count": 6,
   "outputs": [
    {
     "data": {
      "text/plain": "id           886\ncourt        886\ndate         886\nno           886\nsys          886\nreason       886\ntype         886\nmainText     886\njudgement    886\nSituation    886\ndtype: int64"
     },
     "execution_count": 6,
     "metadata": {},
     "output_type": "execute_result"
    }
   ],
   "source": [
    "#df = (pd.read_csv('J://Legal_Judgment//Result.csv', index_col=0))\n",
    "df.count()"
   ],
   "metadata": {
    "collapsed": false,
    "pycharm": {
     "name": "#%%\n"
    }
   }
  },
  {
   "cell_type": "code",
   "execution_count": 7,
   "outputs": [
    {
     "data": {
      "text/plain": "    id     court                       date          no sys      reason type  \\\n0  259  臺灣臺南地方法院  2011-09-30T00:00:00+08:00  100,訴,1001  刑事  違反毒品危害防制條例   判決   \n0  260  臺灣臺南地方法院  2011-10-11T00:00:00+08:00  100,訴,1002  刑事  違反毒品危害防制條例   判決   \n\n                                         mainText  \\\n0  劉明展施用第一級毒品，處有期徒刑柒月。又施用第二級毒品，處有期徒刑參月。應執行有期徒刑捌月。   \n0                          簡有勇施用第一級毒品，累犯，處有期徒刑拾月。   \n\n                                           judgement  \\\n0  臺灣臺南地方法院刑事判決100年度訴字第1001號公訴人臺灣臺南地方法院檢察署檢察官被告劉明...   \n0  臺灣臺南地方法院刑事判決100年度訴字第1002號公訴人臺灣臺南地方法院檢察署檢察官被告簡有...   \n\n                                           Situation  \n0  於九十九年十月六日某時許，在其位於臺南市○區○○街二段七九巷一四號之一之住處房間內，以將第一...  \n0  於一○○年五月二日上午十一時七分許（採尿時）往前回溯二十六小時內之某時許，在其友人位於高雄市...  ",
      "text/html": "<div>\n<style scoped>\n    .dataframe tbody tr th:only-of-type {\n        vertical-align: middle;\n    }\n\n    .dataframe tbody tr th {\n        vertical-align: top;\n    }\n\n    .dataframe thead th {\n        text-align: right;\n    }\n</style>\n<table border=\"1\" class=\"dataframe\">\n  <thead>\n    <tr style=\"text-align: right;\">\n      <th></th>\n      <th>id</th>\n      <th>court</th>\n      <th>date</th>\n      <th>no</th>\n      <th>sys</th>\n      <th>reason</th>\n      <th>type</th>\n      <th>mainText</th>\n      <th>judgement</th>\n      <th>Situation</th>\n    </tr>\n  </thead>\n  <tbody>\n    <tr>\n      <td>0</td>\n      <td>259</td>\n      <td>臺灣臺南地方法院</td>\n      <td>2011-09-30T00:00:00+08:00</td>\n      <td>100,訴,1001</td>\n      <td>刑事</td>\n      <td>違反毒品危害防制條例</td>\n      <td>判決</td>\n      <td>劉明展施用第一級毒品，處有期徒刑柒月。又施用第二級毒品，處有期徒刑參月。應執行有期徒刑捌月。</td>\n      <td>臺灣臺南地方法院刑事判決100年度訴字第1001號公訴人臺灣臺南地方法院檢察署檢察官被告劉明...</td>\n      <td>於九十九年十月六日某時許，在其位於臺南市○區○○街二段七九巷一四號之一之住處房間內，以將第一...</td>\n    </tr>\n    <tr>\n      <td>0</td>\n      <td>260</td>\n      <td>臺灣臺南地方法院</td>\n      <td>2011-10-11T00:00:00+08:00</td>\n      <td>100,訴,1002</td>\n      <td>刑事</td>\n      <td>違反毒品危害防制條例</td>\n      <td>判決</td>\n      <td>簡有勇施用第一級毒品，累犯，處有期徒刑拾月。</td>\n      <td>臺灣臺南地方法院刑事判決100年度訴字第1002號公訴人臺灣臺南地方法院檢察署檢察官被告簡有...</td>\n      <td>於一○○年五月二日上午十一時七分許（採尿時）往前回溯二十六小時內之某時許，在其友人位於高雄市...</td>\n    </tr>\n  </tbody>\n</table>\n</div>"
     },
     "execution_count": 7,
     "metadata": {},
     "output_type": "execute_result"
    }
   ],
   "source": [
    "df[df['reason'] == ('違反毒品危害防制條例')].head(2)"
   ],
   "metadata": {
    "collapsed": false,
    "pycharm": {
     "name": "#%%\n"
    }
   }
  },
  {
   "cell_type": "code",
   "execution_count": 8,
   "metadata": {},
   "outputs": [
    {
     "data": {
      "text/plain": "   id     court                       date           no sys reason type  \\\n0   0  臺灣桃園地方法院  2018-04-18T00:00:00+08:00   106,易,1093  刑事   妨害公務   判決   \n0   5  臺灣臺中地方法院  2011-05-17T00:00:00+08:00  100,中簡,1001  刑事     竊盜   判決   \n\n                                            mainText  \\\n0            邱建豪犯妨害公務執行罪，累犯，處拘役拾日，如易科罰金，以新臺幣壹仟元折算壹日。   \n0  陳守仁竊盜，三罪，均累犯，各處罰金新臺幣壹萬元、壹萬元、伍仟元，如易服勞役，均以新臺幣壹仟元...   \n\n                                           judgement  \\\n0  臺灣桃園地方法院刑事判決106年度易字第1093號公訴人臺灣桃園地方法院檢察署檢察官被告邱建...   \n0  臺灣臺中地方法院刑事簡易判決100年度中簡字第1001號聲請人臺灣臺中地方法院檢察署檢察官被...   \n\n                                           Situation  \n0  邱建豪於民國106年5月1日下午5時15分許，在桃園市○○區○○路000號桃園市政府警察局桃...  \n0  被告陳守仁為高職畢業擔任保全之男子，竟不思以正常手段獲取財物，因一時貪念，以徒手竊取該超商內...  ",
      "text/html": "<div>\n<style scoped>\n    .dataframe tbody tr th:only-of-type {\n        vertical-align: middle;\n    }\n\n    .dataframe tbody tr th {\n        vertical-align: top;\n    }\n\n    .dataframe thead th {\n        text-align: right;\n    }\n</style>\n<table border=\"1\" class=\"dataframe\">\n  <thead>\n    <tr style=\"text-align: right;\">\n      <th></th>\n      <th>id</th>\n      <th>court</th>\n      <th>date</th>\n      <th>no</th>\n      <th>sys</th>\n      <th>reason</th>\n      <th>type</th>\n      <th>mainText</th>\n      <th>judgement</th>\n      <th>Situation</th>\n    </tr>\n  </thead>\n  <tbody>\n    <tr>\n      <td>0</td>\n      <td>0</td>\n      <td>臺灣桃園地方法院</td>\n      <td>2018-04-18T00:00:00+08:00</td>\n      <td>106,易,1093</td>\n      <td>刑事</td>\n      <td>妨害公務</td>\n      <td>判決</td>\n      <td>邱建豪犯妨害公務執行罪，累犯，處拘役拾日，如易科罰金，以新臺幣壹仟元折算壹日。</td>\n      <td>臺灣桃園地方法院刑事判決106年度易字第1093號公訴人臺灣桃園地方法院檢察署檢察官被告邱建...</td>\n      <td>邱建豪於民國106年5月1日下午5時15分許，在桃園市○○區○○路000號桃園市政府警察局桃...</td>\n    </tr>\n    <tr>\n      <td>0</td>\n      <td>5</td>\n      <td>臺灣臺中地方法院</td>\n      <td>2011-05-17T00:00:00+08:00</td>\n      <td>100,中簡,1001</td>\n      <td>刑事</td>\n      <td>竊盜</td>\n      <td>判決</td>\n      <td>陳守仁竊盜，三罪，均累犯，各處罰金新臺幣壹萬元、壹萬元、伍仟元，如易服勞役，均以新臺幣壹仟元...</td>\n      <td>臺灣臺中地方法院刑事簡易判決100年度中簡字第1001號聲請人臺灣臺中地方法院檢察署檢察官被...</td>\n      <td>被告陳守仁為高職畢業擔任保全之男子，竟不思以正常手段獲取財物，因一時貪念，以徒手竊取該超商內...</td>\n    </tr>\n  </tbody>\n</table>\n</div>"
     },
     "execution_count": 8,
     "metadata": {},
     "output_type": "execute_result"
    }
   ],
   "source": [
    "df[df['reason'].str.contains ('')].head(2)"
   ]
  },
  {
   "cell_type": "code",
   "execution_count": 9,
   "metadata": {},
   "outputs": [
    {
     "data": {
      "text/plain": "     id     court                       date           no sys reason type  \\\n0   968  臺灣高雄地方法院  2016-01-13T00:00:00+08:00   105,交簡,101  刑事   公共危險   判決   \n0   969  臺灣高雄地方法院  2016-03-22T00:00:00+08:00  105,交簡,1020  刑事   公共危險   判決   \n0   971  臺灣高雄地方法院  2016-03-28T00:00:00+08:00  105,交簡,1022  刑事   公共危險   判決   \n0   973  臺灣高雄地方法院  2016-03-22T00:00:00+08:00  105,交簡,1025  刑事   公共危險   判決   \n0  2819  臺灣臺北地方法院  2017-01-24T00:00:00+08:00    105,軍交簡,1  刑事   公共危險   判決   \n0  2842  臺灣臺南地方法院  2018-01-31T00:00:00+08:00  106,交易,1069  刑事   公共危險   判決   \n0  2845  臺灣臺北地方法院  2018-01-30T00:00:00+08:00   106,交易,109  刑事   公共危險   判決   \n0  2847  臺灣臺南地方法院  2017-03-24T00:00:00+08:00   106,交易,118  刑事   公共危險   判決   \n0  2848  臺灣臺北地方法院  2017-11-01T00:00:00+08:00   106,交易,118  刑事   公共危險   判決   \n0  2850  臺灣臺北地方法院  2017-10-05T00:00:00+08:00   106,交易,121  刑事   公共危險   判決   \n\n                                            mainText  \\\n0      張簡添仁犯不能安全駕駛動力交通工具罪，處有期徒刑參月，如易科罰金，以新臺幣壹仟元折算壹日。   \n0  吳明雄犯不能安全駕駛動力交通工具罪，處有期徒刑貳月，併科罰金新臺幣伍仟元，徒刑如易科罰金，罰...   \n0  潘秋君犯不能安全駕駛動力交通工具罪，處有期徒刑貳月，併科罰金新臺幣壹萬伍仟元，徒刑如易科罰金...   \n0    劉光華犯不能安全駕駛動力交通工具罪，累犯，處有期徒刑肆月，如易科罰金，以新臺幣壹仟元折算壹日。   \n0  周家弘駕駛動力交通工具，吐氣所含酒精濃度達每公升零點二五毫克以上，處有期徒刑參月，如易科罰金...   \n0  郭建宏吐氣所含酒精濃度達每公升零點二五毫克以上而駕駛動力交通工具，累犯，處有期徒刑參月，併科...   \n0                                             張智皓無罪。   \n0       王鋕銘吐氣所含酒精濃度達每公升零點二五毫克以上而駕駛動力交通工具，累犯，處有期徒刑柒月。   \n0       林高松吐氣所含酒精濃度達每公升零點二五毫克以上而駕駛動力交通工具，累犯，處有期徒刑柒月。   \n0                                           本件公訴不受理。   \n\n                                           judgement  \\\n0  臺灣高雄地方法院刑事簡易判決105年度交簡字第101號聲請人臺灣高雄地方法院檢察署檢察官被告...   \n0  臺灣高雄地方法院刑事簡易判決105年度交簡字第1020號聲請人臺灣高雄地方法院檢察署檢察官被...   \n0  臺灣高雄地方法院刑事簡易判決105年度交簡字第1022號聲請人臺灣高雄地方法院檢察署檢察官被...   \n0  臺灣高雄地方法院刑事簡易判決105年度交簡字第1025號聲請人臺灣高雄地方法院檢察署檢察官被...   \n0  臺灣臺北地方法院刑事簡易判決105年度軍交簡字第1號聲請人臺灣臺北地方法院檢察署檢察官被告周...   \n0  臺灣臺南地方法院刑事判決106年度交易字第1069號公訴人臺灣臺南地方法院檢察署檢察官被告郭...   \n0  臺灣臺北地方法院刑事判決106年度交易字第109號公訴人臺灣臺北地方法院檢察署檢察官被告張智...   \n0  臺灣臺南地方法院刑事判決106年度交易字第118號公訴人臺灣臺南地方法院檢察署檢察官被告王鋕...   \n0  臺灣臺北地方法院刑事判決106年度交易字第118號公訴人臺灣臺北地方法院檢察署檢察官被告林高...   \n0  臺灣臺北地方法院刑事判決106年度交易字第121號公訴人臺灣臺北地方法院檢察署檢察官被告陳俊...   \n\n                                           Situation  \n0  張簡添仁於民國104年12月4日17時許，在高雄市鳥松區本館路某友人經營之工廠內飲用酒類，而...  \n0  吳明雄於民國105年2月19日13時許，在高雄市林園區某菜市場飲用啤酒後，可知其吐氣酒精濃度...  \n0  潘秋君於民國103年6月26日2時許，在高雄市岡山區阿公店地區某處飲用酒類後，明知飲酒後依法...  \n0  劉光華於飲酒後，吐氣所含酒精濃度已達每公升0.25毫克以上，仍於105年2月25日18時42...  \n0  周家弘為現役軍人，其自民國105年12月4日凌晨4時許起至同日時15分許止，在臺北市○○區○...  \n0  詎不知警惕，於106年11月5日0時許，在臺南市麻豆區之友人住處飲酒後，明知飲用酒類後將會影...  \n0  被告張智皓於民國106年3月14日22時許，在臺北市○○區○○路00號之「好記擔仔麵」飲用酒...  \n0  詎不知警惕，於106年1月4日18時30分許，在友人位於臺南市南區中華南路之工廠飲酒完畢後，...  \n0  林高松於民國106年8月13日中午某時許，在新北市新店區第七公墓之工地飲酒後，於同日下午4時...  \n0  被告陳俊祥明知服用酒類或其他相類之物，致吐氣所含酒測值超過每公升0.25毫克不能安全駕駛動力...  ",
      "text/html": "<div>\n<style scoped>\n    .dataframe tbody tr th:only-of-type {\n        vertical-align: middle;\n    }\n\n    .dataframe tbody tr th {\n        vertical-align: top;\n    }\n\n    .dataframe thead th {\n        text-align: right;\n    }\n</style>\n<table border=\"1\" class=\"dataframe\">\n  <thead>\n    <tr style=\"text-align: right;\">\n      <th></th>\n      <th>id</th>\n      <th>court</th>\n      <th>date</th>\n      <th>no</th>\n      <th>sys</th>\n      <th>reason</th>\n      <th>type</th>\n      <th>mainText</th>\n      <th>judgement</th>\n      <th>Situation</th>\n    </tr>\n  </thead>\n  <tbody>\n    <tr>\n      <td>0</td>\n      <td>968</td>\n      <td>臺灣高雄地方法院</td>\n      <td>2016-01-13T00:00:00+08:00</td>\n      <td>105,交簡,101</td>\n      <td>刑事</td>\n      <td>公共危險</td>\n      <td>判決</td>\n      <td>張簡添仁犯不能安全駕駛動力交通工具罪，處有期徒刑參月，如易科罰金，以新臺幣壹仟元折算壹日。</td>\n      <td>臺灣高雄地方法院刑事簡易判決105年度交簡字第101號聲請人臺灣高雄地方法院檢察署檢察官被告...</td>\n      <td>張簡添仁於民國104年12月4日17時許，在高雄市鳥松區本館路某友人經營之工廠內飲用酒類，而...</td>\n    </tr>\n    <tr>\n      <td>0</td>\n      <td>969</td>\n      <td>臺灣高雄地方法院</td>\n      <td>2016-03-22T00:00:00+08:00</td>\n      <td>105,交簡,1020</td>\n      <td>刑事</td>\n      <td>公共危險</td>\n      <td>判決</td>\n      <td>吳明雄犯不能安全駕駛動力交通工具罪，處有期徒刑貳月，併科罰金新臺幣伍仟元，徒刑如易科罰金，罰...</td>\n      <td>臺灣高雄地方法院刑事簡易判決105年度交簡字第1020號聲請人臺灣高雄地方法院檢察署檢察官被...</td>\n      <td>吳明雄於民國105年2月19日13時許，在高雄市林園區某菜市場飲用啤酒後，可知其吐氣酒精濃度...</td>\n    </tr>\n    <tr>\n      <td>0</td>\n      <td>971</td>\n      <td>臺灣高雄地方法院</td>\n      <td>2016-03-28T00:00:00+08:00</td>\n      <td>105,交簡,1022</td>\n      <td>刑事</td>\n      <td>公共危險</td>\n      <td>判決</td>\n      <td>潘秋君犯不能安全駕駛動力交通工具罪，處有期徒刑貳月，併科罰金新臺幣壹萬伍仟元，徒刑如易科罰金...</td>\n      <td>臺灣高雄地方法院刑事簡易判決105年度交簡字第1022號聲請人臺灣高雄地方法院檢察署檢察官被...</td>\n      <td>潘秋君於民國103年6月26日2時許，在高雄市岡山區阿公店地區某處飲用酒類後，明知飲酒後依法...</td>\n    </tr>\n    <tr>\n      <td>0</td>\n      <td>973</td>\n      <td>臺灣高雄地方法院</td>\n      <td>2016-03-22T00:00:00+08:00</td>\n      <td>105,交簡,1025</td>\n      <td>刑事</td>\n      <td>公共危險</td>\n      <td>判決</td>\n      <td>劉光華犯不能安全駕駛動力交通工具罪，累犯，處有期徒刑肆月，如易科罰金，以新臺幣壹仟元折算壹日。</td>\n      <td>臺灣高雄地方法院刑事簡易判決105年度交簡字第1025號聲請人臺灣高雄地方法院檢察署檢察官被...</td>\n      <td>劉光華於飲酒後，吐氣所含酒精濃度已達每公升0.25毫克以上，仍於105年2月25日18時42...</td>\n    </tr>\n    <tr>\n      <td>0</td>\n      <td>2819</td>\n      <td>臺灣臺北地方法院</td>\n      <td>2017-01-24T00:00:00+08:00</td>\n      <td>105,軍交簡,1</td>\n      <td>刑事</td>\n      <td>公共危險</td>\n      <td>判決</td>\n      <td>周家弘駕駛動力交通工具，吐氣所含酒精濃度達每公升零點二五毫克以上，處有期徒刑參月，如易科罰金...</td>\n      <td>臺灣臺北地方法院刑事簡易判決105年度軍交簡字第1號聲請人臺灣臺北地方法院檢察署檢察官被告周...</td>\n      <td>周家弘為現役軍人，其自民國105年12月4日凌晨4時許起至同日時15分許止，在臺北市○○區○...</td>\n    </tr>\n    <tr>\n      <td>0</td>\n      <td>2842</td>\n      <td>臺灣臺南地方法院</td>\n      <td>2018-01-31T00:00:00+08:00</td>\n      <td>106,交易,1069</td>\n      <td>刑事</td>\n      <td>公共危險</td>\n      <td>判決</td>\n      <td>郭建宏吐氣所含酒精濃度達每公升零點二五毫克以上而駕駛動力交通工具，累犯，處有期徒刑參月，併科...</td>\n      <td>臺灣臺南地方法院刑事判決106年度交易字第1069號公訴人臺灣臺南地方法院檢察署檢察官被告郭...</td>\n      <td>詎不知警惕，於106年11月5日0時許，在臺南市麻豆區之友人住處飲酒後，明知飲用酒類後將會影...</td>\n    </tr>\n    <tr>\n      <td>0</td>\n      <td>2845</td>\n      <td>臺灣臺北地方法院</td>\n      <td>2018-01-30T00:00:00+08:00</td>\n      <td>106,交易,109</td>\n      <td>刑事</td>\n      <td>公共危險</td>\n      <td>判決</td>\n      <td>張智皓無罪。</td>\n      <td>臺灣臺北地方法院刑事判決106年度交易字第109號公訴人臺灣臺北地方法院檢察署檢察官被告張智...</td>\n      <td>被告張智皓於民國106年3月14日22時許，在臺北市○○區○○路00號之「好記擔仔麵」飲用酒...</td>\n    </tr>\n    <tr>\n      <td>0</td>\n      <td>2847</td>\n      <td>臺灣臺南地方法院</td>\n      <td>2017-03-24T00:00:00+08:00</td>\n      <td>106,交易,118</td>\n      <td>刑事</td>\n      <td>公共危險</td>\n      <td>判決</td>\n      <td>王鋕銘吐氣所含酒精濃度達每公升零點二五毫克以上而駕駛動力交通工具，累犯，處有期徒刑柒月。</td>\n      <td>臺灣臺南地方法院刑事判決106年度交易字第118號公訴人臺灣臺南地方法院檢察署檢察官被告王鋕...</td>\n      <td>詎不知警惕，於106年1月4日18時30分許，在友人位於臺南市南區中華南路之工廠飲酒完畢後，...</td>\n    </tr>\n    <tr>\n      <td>0</td>\n      <td>2848</td>\n      <td>臺灣臺北地方法院</td>\n      <td>2017-11-01T00:00:00+08:00</td>\n      <td>106,交易,118</td>\n      <td>刑事</td>\n      <td>公共危險</td>\n      <td>判決</td>\n      <td>林高松吐氣所含酒精濃度達每公升零點二五毫克以上而駕駛動力交通工具，累犯，處有期徒刑柒月。</td>\n      <td>臺灣臺北地方法院刑事判決106年度交易字第118號公訴人臺灣臺北地方法院檢察署檢察官被告林高...</td>\n      <td>林高松於民國106年8月13日中午某時許，在新北市新店區第七公墓之工地飲酒後，於同日下午4時...</td>\n    </tr>\n    <tr>\n      <td>0</td>\n      <td>2850</td>\n      <td>臺灣臺北地方法院</td>\n      <td>2017-10-05T00:00:00+08:00</td>\n      <td>106,交易,121</td>\n      <td>刑事</td>\n      <td>公共危險</td>\n      <td>判決</td>\n      <td>本件公訴不受理。</td>\n      <td>臺灣臺北地方法院刑事判決106年度交易字第121號公訴人臺灣臺北地方法院檢察署檢察官被告陳俊...</td>\n      <td>被告陳俊祥明知服用酒類或其他相類之物，致吐氣所含酒測值超過每公升0.25毫克不能安全駕駛動力...</td>\n    </tr>\n  </tbody>\n</table>\n</div>"
     },
     "execution_count": 9,
     "metadata": {},
     "output_type": "execute_result"
    }
   ],
   "source": [
    "df[df['reason'] == ('公共危險')].iloc[20:30]"
   ]
  },
  {
   "cell_type": "code",
   "execution_count": 10,
   "metadata": {
    "pycharm": {
     "name": "#%%\n"
    }
   },
   "outputs": [
    {
     "data": {
      "text/plain": "id           716\ncourt        716\ndate         716\nno           716\nsys          716\nreason       716\ntype         716\nmainText     716\njudgement    716\nSituation    716\ndtype: int64"
     },
     "execution_count": 10,
     "metadata": {},
     "output_type": "execute_result"
    }
   ],
   "source": [
    "df[df['Situation'].str.len() <= 192].count()"
   ]
  },
  {
   "cell_type": "code",
   "execution_count": 11,
   "outputs": [
    {
     "data": {
      "text/plain": "id           170\ncourt        170\ndate         170\nno           170\nsys          170\nreason       170\ntype         170\nmainText     170\njudgement    170\nSituation    170\ndtype: int64"
     },
     "execution_count": 11,
     "metadata": {},
     "output_type": "execute_result"
    }
   ],
   "source": [
    "df[df['Situation'].str.len() > 192].count()\n"
   ],
   "metadata": {
    "collapsed": false,
    "pycharm": {
     "name": "#%%\n"
    }
   }
  },
  {
   "cell_type": "code",
   "execution_count": 12,
   "outputs": [
    {
     "data": {
      "text/plain": "id           886\ncourt        886\ndate         886\nno           886\nsys          886\nreason       886\ntype         886\nmainText     886\njudgement    886\nSituation    886\ndtype: int64"
     },
     "execution_count": 12,
     "metadata": {},
     "output_type": "execute_result"
    }
   ],
   "source": [
    "df = df.dropna()\n",
    "df.count()"
   ],
   "metadata": {
    "collapsed": false,
    "pycharm": {
     "name": "#%%\n"
    }
   }
  },
  {
   "cell_type": "code",
   "execution_count": 13,
   "outputs": [
    {
     "name": "stdout",
     "output_type": "stream",
     "text": [
      "reason\n",
      "侵占        58\n",
      "偽造文書       5\n",
      "傷害       139\n",
      "公共危險      62\n",
      "妨害公務      56\n",
      "妨害名譽      94\n",
      "妨害性自主     20\n",
      "妨害自由      65\n",
      "妨害風化       3\n",
      "強盜         7\n",
      "搶奪        34\n",
      "殺人         1\n",
      "殺人未遂       3\n",
      "毀損       206\n",
      "毀棄損壞      18\n",
      "毒品危害      22\n",
      "竊盜        73\n",
      "著作權法      12\n",
      "藥事法        2\n",
      "詐欺         2\n",
      "過失傷害       3\n",
      "醫師法        1\n",
      "Name: no, dtype: int64\n"
     ]
    }
   ],
   "source": [
    "import matplotlib.pyplot as plt\n",
    "%matplotlib inline\n",
    "\n",
    "\n",
    "df['reason'] = df['reason'].str.replace('等','')\n",
    "df['reason'] = df['reason'].str.replace('罪','')\n",
    "df['reason'] = df['reason'].str.replace(\"條例\",\"\")\n",
    "df['reason'] = df['reason'].str.replace(\"防制\",\"\")\n",
    "df['reason'] = df['reason'].str.replace(\"管制\",\"\")\n",
    "df['reason'] = df['reason'].str.replace(\"違反\",\"\")\n",
    "df['reason'] = df['reason'].str.replace(\"違法著作權\",\"著作權法\")\n",
    "print(df.groupby(['reason']).count()['no'])"
   ],
   "metadata": {
    "collapsed": false,
    "pycharm": {
     "name": "#%%\n"
    }
   }
  },
  {
   "cell_type": "code",
   "execution_count": 14,
   "outputs": [],
   "source": [
    "test = df.sample(n=200)\n",
    "test.to_csv('.//QA_Test1//HBert//dataR5//Test500_192.csv', index=0)"
   ],
   "metadata": {
    "collapsed": false,
    "pycharm": {
     "name": "#%%\n"
    }
   }
  },
  {
   "cell_type": "code",
   "execution_count": 15,
   "outputs": [
    {
     "data": {
      "text/plain": "id           200\ncourt        200\ndate         200\nno           200\nsys          200\nreason       200\ntype         200\nmainText     200\njudgement    200\nSituation    200\ndtype: int64"
     },
     "execution_count": 15,
     "metadata": {},
     "output_type": "execute_result"
    }
   ],
   "source": [
    "test.count()"
   ],
   "metadata": {
    "collapsed": false,
    "pycharm": {
     "name": "#%%\n"
    }
   }
  },
  {
   "cell_type": "code",
   "execution_count": 16,
   "outputs": [],
   "source": [
    "class Data(object):\n",
    "    def __init__(self):\n",
    "        self.paragraphs = []\n",
    "        self.id = \"0\"\n",
    "        self.title = \"\"\n",
    "\n",
    "class Djson(object):\n",
    "    def __init__(self):\n",
    "        self.version = \"v1.0\"\n",
    "        self.data = []\n",
    " "
   ],
   "metadata": {
    "collapsed": false,
    "pycharm": {
     "name": "#%%\n"
    }
   }
  },
  {
   "cell_type": "code",
   "execution_count": 17,
   "outputs": [],
   "source": [
    "djson2 = Djson()\n",
    "for index, row in test.iterrows():\n",
    "    try:\n",
    "        d = Data()\n",
    "        d.paragraphs = [{\"id\" : \"TEST_\" + str(row.id), \n",
    "                      #\"context\" : row.reason + \"[SEP]\" + row.judgement, \n",
    "                      \"context\" : row.judgement, \n",
    "                      \"qas\":[{\n",
    "                          \"question\" : \"?\",\n",
    "                          \"id\" : \"TEST_\" + str(row.id) + \"_QUERY_0\",\n",
    "                          \"answers\" :[{\n",
    "                              \"text\" : row.Situation,\n",
    "                              \"answer_start\" : row.judgement.index(row.Situation) #+ len(row.reason + \"[SET]\")\n",
    "                          }]\n",
    "                      }]\n",
    "                    }\n",
    "                    ]\n",
    "        d.id = \"TEST_\" + str(row.id)\n",
    "        d.title = row.no\n",
    "        djson2.data.append(d)\n",
    "    except:\n",
    "        print(index)\n",
    "        print(row.no)"
   ],
   "metadata": {
    "collapsed": false,
    "pycharm": {
     "name": "#%%\n"
    }
   }
  },
  {
   "cell_type": "code",
   "execution_count": 18,
   "outputs": [],
   "source": [
    "y = json.dumps(djson2, default=lambda o: o.__dict__, ensure_ascii=False)"
   ],
   "metadata": {
    "collapsed": false,
    "pycharm": {
     "name": "#%%\n"
    }
   }
  },
  {
   "cell_type": "code",
   "execution_count": 19,
   "outputs": [],
   "source": [
    "with open('./QA_Test1/HBert/dataR5/Test_500_192.json', 'w', encoding='utf8') as outfile:\n",
    "    json.dump(djson2, outfile, default=lambda o: o.__dict__ , ensure_ascii=False)\n",
    "    "
   ],
   "metadata": {
    "collapsed": false,
    "pycharm": {
     "name": "#%%\n"
    }
   }
  },
  {
   "cell_type": "code",
   "execution_count": 20,
   "outputs": [],
   "source": [
    "my_regex = r\"[\\(\\（]([^一二三四五六七八九零十1234567890]{1}[^\\)\\）]+|[一二三四五六七八九零十1234567890]{1}[^\\)\\）]{1,})[\\)\\）]\"\n",
    "\n",
    "#df['judgement'] = df['judgement'].str.replace(my_regex, \"\")\n",
    "#df['Situation'] = df['Situation'].str.replace(my_regex, \"\")\n",
    "test['judgement'] = test['judgement'].str.replace(my_regex, \"\")\n",
    "test['Situation'] = test['Situation'].str.replace(my_regex, \"\")\n",
    "\n",
    "djson2 = Djson()\n",
    "for index, row in test.iterrows():\n",
    "    try:\n",
    "        d = Data()\n",
    "        d.paragraphs = [{\"id\" : \"TEST_\" + str(row.id),\n",
    "                      #\"context\" : row.reason + \"[SEP]\" + row.judgement,\n",
    "                      \"context\" : row.judgement,\n",
    "                      \"qas\":[{\n",
    "                          \"question\" : \"?\",\n",
    "                          \"id\" : \"TEST_\" + str(row.id) + \"_QUERY_0\",\n",
    "                          \"answers\" :[{\n",
    "                              \"text\" : row.Situation,\n",
    "                              \"answer_start\" : row.judgement.index(row.Situation) #+ len(row.reason + \"[SET]\")\n",
    "                          }]\n",
    "                      }]\n",
    "                    }\n",
    "                    ]\n",
    "        d.id = \"TEST_\" + str(row.id)\n",
    "        d.title = row.no\n",
    "        djson2.data.append(d)\n",
    "    except:\n",
    "        print(index)\n",
    "        print(row.no)"
   ],
   "metadata": {
    "collapsed": false,
    "pycharm": {
     "name": "#%%\n"
    }
   }
  },
  {
   "cell_type": "code",
   "execution_count": 21,
   "outputs": [],
   "source": [
    "y = json.dumps(djson2, default=lambda o: o.__dict__, ensure_ascii=False)"
   ],
   "metadata": {
    "collapsed": false,
    "pycharm": {
     "name": "#%%\n"
    }
   }
  },
  {
   "cell_type": "code",
   "execution_count": 22,
   "outputs": [],
   "source": [
    "with open('./QA_Test1/HBert/dataR5/Test_200_192X.json', 'w', encoding='utf8') as outfile:\n",
    "    json.dump(djson2, outfile, default=lambda o: o.__dict__ , ensure_ascii=False)\n"
   ],
   "metadata": {
    "collapsed": false,
    "pycharm": {
     "name": "#%%\n"
    }
   }
  },
  {
   "cell_type": "code",
   "execution_count": 22,
   "outputs": [],
   "source": [],
   "metadata": {
    "collapsed": false,
    "pycharm": {
     "name": "#%%"
    }
   }
  }
 ],
 "metadata": {
  "kernelspec": {
   "display_name": "Python 3",
   "language": "python",
   "name": "python3"
  },
  "language_info": {
   "codemirror_mode": {
    "name": "ipython",
    "version": 3
   },
   "file_extension": ".py",
   "mimetype": "text/x-python",
   "name": "python",
   "nbconvert_exporter": "python",
   "pygments_lexer": "ipython3",
   "version": "3.6.4"
  }
 },
 "nbformat": 4,
 "nbformat_minor": 2
}